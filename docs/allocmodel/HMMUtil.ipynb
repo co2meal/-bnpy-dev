{
 "metadata": {
  "name": ""
 },
 "nbformat": 3,
 "nbformat_minor": 0,
 "worksheets": [
  {
   "cells": [
    {
     "cell_type": "code",
     "collapsed": false,
     "input": [
      "import numpy as np\n",
      "import bnpy\n",
      "from bnpy.allocmodel.seq import HMMUtil"
     ],
     "language": "python",
     "metadata": {},
     "outputs": [],
     "prompt_number": 41
    },
    {
     "cell_type": "code",
     "collapsed": false,
     "input": [
      "# Create simple parameters\n",
      "piInit = np.asarray( [1./4, 1./4, 1./2])\n",
      "print \"Initial state probs\"\n",
      "print piInit\n",
      "\n",
      "Pi = np.eye(3)\n",
      "Pi += 0.1\n",
      "Pi /= Pi.sum(axis=1)[:,np.newaxis]\n",
      "\n",
      "print \"State transition matrix\"\n",
      "print Pi"
     ],
     "language": "python",
     "metadata": {},
     "outputs": [
      {
       "output_type": "stream",
       "stream": "stdout",
       "text": [
        "Initial state probs\n",
        "[ 0.25  0.25  0.5 ]\n",
        "State transition matrix"
       ]
      },
      {
       "output_type": "stream",
       "stream": "stdout",
       "text": [
        "\n",
        "[[ 0.84615385  0.07692308  0.07692308]\n",
        " [ 0.07692308  0.84615385  0.07692308]\n",
        " [ 0.07692308  0.07692308  0.84615385]]\n"
       ]
      }
     ],
     "prompt_number": 42
    },
    {
     "cell_type": "markdown",
     "metadata": {},
     "source": [
      "# Forward algorithm\n",
      "\n",
      "### INPUT\n",
      "\n",
      "* $\\pi_0$ : initial state distribution\n",
      "* $\\pi = \\{\\pi_k \\}_{k=1}^K$ : state transition distributions\n",
      "* $L$ : matrix of (log) likelihood, size $T \\times K$\n",
      "\n",
      "### OUTPUT\n",
      "\n",
      "* $f$ : matrix, size $T \\times K$\n",
      "\n",
      "\\begin{align}\n",
      "f_{tk} = p( z_{tk} = 1 \\mid x_1, x_2, \\ldots x_{t-1}, x_t )\n",
      "\\end{align}\n",
      "\n",
      "Each row sums to one: $\\sum_{k=1}^K f_{tk} = 1$\n",
      "\n",
      "# Backward algorithm\n",
      "\n",
      "### INPUT\n",
      "\n",
      "### OUTPUT\n",
      "\n",
      "* $b$ : matrix, size $T \\times K$\n",
      "\n",
      "\\begin{align}\n",
      "b_{tk} \\triangleq p( z_{tk}=1, x_{t+1}, x_{t+2}, \\ldots x_{T} )\n",
      "\\end{align}"
     ]
    },
    {
     "cell_type": "markdown",
     "metadata": {},
     "source": [
      "## Simple example: sequence of just one observation (T=1)"
     ]
    },
    {
     "cell_type": "code",
     "collapsed": false,
     "input": [
      "curLik = np.asarray([[0.68, 0.02, 0.3]])\n",
      "\n",
      "fmsg, prObs = HMMUtil.FwdAlg( piInit, Pi, curLik)\n",
      "print '-------------- fmsg'\n",
      "print fmsg\n",
      "\n",
      "\n",
      "bmsg = HMMUtil.BwdAlg( piInit, Pi, curLik, prObs)\n",
      "print '-------------- bmsg'\n",
      "print bmsg"
     ],
     "language": "python",
     "metadata": {},
     "outputs": [
      {
       "output_type": "stream",
       "stream": "stdout",
       "text": [
        "-------------- fmsg\n",
        "[[ 0.52307692  0.01538462  0.46153846]]\n",
        "-------------- bmsg"
       ]
      },
      {
       "output_type": "stream",
       "stream": "stdout",
       "text": [
        "\n",
        "[[ 1.  1.  1.]]\n"
       ]
      }
     ],
     "prompt_number": 46
    },
    {
     "cell_type": "code",
     "collapsed": false,
     "input": [
      "curLik = np.asarray( [[0.5, 0.25, 0.25],\n",
      "                      [0.5, 0.3, 0.4],\n",
      "                      [0.1, 0.1, 0.8]\n",
      "                     ] )\n",
      "\n",
      "fmsg, prObs = HMMUtil.FwdAlg( piInit, Pi, curLik)\n",
      "print '-------------- fmsg'\n",
      "print fmsg\n",
      "print np.sum(fmsg, axis=1)\n",
      "\n",
      "bmsg = HMMUtil.BwdAlg( piInit, Pi, curLik, prObs)\n",
      "print '-------------- bmsg'\n",
      "print bmsg\n",
      "print np.sum(bmsg, axis=1)\n",
      "\n",
      "print '-------------- sum(fmsg * bmsg,axis=1)'\n",
      "print np.sum(fmsg * bmsg, axis=1)\n",
      "\n",
      "\n",
      "resp, respPair, logPrSeq = HMMUtil.FwdBwdAlg( piInit, Pi, np.log(curLik))\n",
      "\n",
      "print '-------------- resp'\n",
      "print resp\n",
      "print resp.sum(axis=1)\n",
      "\n",
      "\n",
      "print '-------------- respPairs[1]'\n",
      "print respPair[1]\n",
      "print respPair[1,:,:].sum()\n",
      "\n",
      "\n",
      "print '-------------- respPairs[2]'\n",
      "print respPair[2]\n",
      "print respPair[2,:,:].sum()\n",
      "\n",
      "\n",
      "resp, respPair, logPrSeq = HMMUtil.FwdBwdAlg( piInit, Pi, -100000 + np.log(curLik))\n",
      "\n",
      "print '-------------- resp'\n",
      "print resp\n",
      "print resp.sum(axis=1)\n",
      "\n",
      "\n",
      "print '-------------- respPairs[1]'\n",
      "print respPair[1]\n",
      "print respPair[1,:,:].sum()\n",
      "\n",
      "\n",
      "print '-------------- respPairs[2]'\n",
      "print respPair[2]\n",
      "print respPair[2,:,:].sum()"
     ],
     "language": "python",
     "metadata": {},
     "outputs": [
      {
       "output_type": "stream",
       "stream": "stdout",
       "text": [
        "-------------- fmsg\n",
        "[[ 0.4         0.2         0.4       ]\n",
        " [ 0.46296296  0.16666667  0.37037037]\n",
        " [ 0.12258065  0.05806452  0.81935484]]\n",
        "[ 1.  1.  1.]\n",
        "-------------- bmsg"
       ]
      },
      {
       "output_type": "stream",
       "stream": "stdout",
       "text": [
        "\n",
        "[[ 0.61290323  0.4516129   1.66129032]\n",
        " [ 0.43548387  0.43548387  1.95967742]\n",
        " [ 1.          1.          1.        ]]\n",
        "[ 2.72580645  2.83064516  3.        ]\n",
        "-------------- sum(fmsg * bmsg,axis=1)"
       ]
      },
      {
       "output_type": "stream",
       "stream": "stdout",
       "text": [
        "\n",
        "[ 1.  1.  1.]\n",
        "-------------- resp"
       ]
      },
      {
       "output_type": "stream",
       "stream": "stdout",
       "text": [
        "\n",
        "[[ 0.24516129  0.09032258  0.66451613]\n",
        " [ 0.2016129   0.07258065  0.72580645]\n",
        " [ 0.12258065  0.05806452  0.81935484]]\n",
        "[ 1.  1.  1.]\n",
        "-------------- respPairs[1]"
       ]
      },
      {
       "output_type": "stream",
       "stream": "stdout",
       "text": [
        "\n",
        "[[ 0.17741935  0.00967742  0.05806452]\n",
        " [ 0.00806452  0.05322581  0.02903226]\n",
        " [ 0.01612903  0.00967742  0.63870968]]\n",
        "1.0\n",
        "-------------- respPairs[2]"
       ]
      },
      {
       "output_type": "stream",
       "stream": "stdout",
       "text": [
        "\n",
        "[[ 0.1108871   0.01008065  0.08064516]\n",
        " [ 0.00362903  0.03991935  0.02903226]\n",
        " [ 0.00806452  0.00806452  0.70967742]]\n",
        "1.0\n",
        "-------------- resp"
       ]
      },
      {
       "output_type": "stream",
       "stream": "stdout",
       "text": [
        "\n",
        "[[ 0.24516129  0.09032258  0.66451613]\n",
        " [ 0.2016129   0.07258065  0.72580645]\n",
        " [ 0.12258065  0.05806452  0.81935484]]\n",
        "[ 1.  1.  1.]\n",
        "-------------- respPairs[1]"
       ]
      },
      {
       "output_type": "stream",
       "stream": "stdout",
       "text": [
        "\n",
        "[[ 0.17741935  0.00967742  0.05806452]\n",
        " [ 0.00806452  0.05322581  0.02903226]\n",
        " [ 0.01612903  0.00967742  0.63870968]]\n",
        "1.0\n",
        "-------------- respPairs[2]"
       ]
      },
      {
       "output_type": "stream",
       "stream": "stdout",
       "text": [
        "\n",
        "[[ 0.1108871   0.01008065  0.08064516]\n",
        " [ 0.00362903  0.03991935  0.02903226]\n",
        " [ 0.00806452  0.00806452  0.70967742]]\n",
        "1.0\n"
       ]
      }
     ],
     "prompt_number": 68
    },
    {
     "cell_type": "markdown",
     "metadata": {},
     "source": [
      "## Verify: correct joint probability table for all possible T=2 sequences"
     ]
    },
    {
     "cell_type": "code",
     "collapsed": false,
     "input": [
      "K = 3\n",
      "Lik = np.eye(3)\n",
      "jointPrObs = np.zeros( K**2)\n",
      "configID = 0\n",
      "for obs0 in range(Lik.shape[0]):\n",
      "  for obs1 in range(Lik.shape[0]):\n",
      "    curLik =  Lik[[obs0, obs1]]\n",
      "    fmsg, prObsVec = HMMUtil.FwdAlg( piInit, Pi, curLik)\n",
      "    jointPrObs[configID] = np.prod(prObsVec)\n",
      "    configID += 1\n",
      "    \n",
      "    print curLik\n",
      "    print jointPrObs[configID-1]\n",
      "print np.sum(jointPrObs)"
     ],
     "language": "python",
     "metadata": {},
     "outputs": [
      {
       "output_type": "stream",
       "stream": "stdout",
       "text": [
        "[[ 1.  0.  0.]\n",
        " [ 1.  0.  0.]]\n",
        "0.211538461538\n",
        "[[ 1.  0.  0.]\n",
        " [ 0.  1.  0.]]\n",
        "0.0192307692308\n",
        "[[ 1.  0.  0.]\n",
        " [ 0.  0.  1.]]\n",
        "0.0192307692308\n",
        "[[ 0.  1.  0.]\n",
        " [ 1.  0.  0.]]\n",
        "0.0192307692308\n",
        "[[ 0.  1.  0.]\n",
        " [ 0.  1.  0.]]\n",
        "0.211538461538\n",
        "[[ 0.  1.  0.]\n",
        " [ 0.  0.  1.]]\n",
        "0.0192307692308\n",
        "[[ 0.  0.  1.]\n",
        " [ 1.  0.  0.]]\n",
        "0.0384615384615\n",
        "[[ 0.  0.  1.]\n",
        " [ 0.  1.  0.]]\n",
        "0.0384615384615\n",
        "[[ 0.  0.  1.]\n",
        " [ 0.  0.  1.]]\n",
        "0.423076923077\n",
        "1.0\n"
       ]
      }
     ],
     "prompt_number": 26
    },
    {
     "cell_type": "markdown",
     "metadata": {},
     "source": [
      "## Verify: correct joint probability table for all possible T=5 sequences"
     ]
    },
    {
     "cell_type": "code",
     "collapsed": false,
     "input": [
      "K = 3\n",
      "T = 5\n",
      "Lik = np.eye(3)\n",
      "jointPrObs = np.zeros( K**T)\n",
      "configID = 0\n",
      "for obs0 in range(Lik.shape[0]):\n",
      "  for obs1 in range(Lik.shape[0]):\n",
      "    for obs2 in range(Lik.shape[0]):\n",
      "      for obs3 in range(Lik.shape[0]):\n",
      "        for obs4 in range(Lik.shape[0]):\n",
      "          curLik =  Lik[[obs0, obs1, obs2, obs3, obs4]]\n",
      "          fmsg, prObsVec = HMMUtil.FwdAlg( piInit, Pi, curLik)\n",
      "          jointPrObs[configID] = np.prod(prObsVec)\n",
      "          configID += 1\n",
      "    \n",
      "print np.sum(jointPrObs)"
     ],
     "language": "python",
     "metadata": {},
     "outputs": [
      {
       "output_type": "stream",
       "stream": "stdout",
       "text": [
        "1.0\n"
       ]
      }
     ],
     "prompt_number": 30
    },
    {
     "cell_type": "markdown",
     "metadata": {},
     "source": [
      "# BACKWARD PASS"
     ]
    },
    {
     "cell_type": "code",
     "collapsed": false,
     "input": [],
     "language": "python",
     "metadata": {},
     "outputs": []
    }
   ],
   "metadata": {}
  }
 ]
}
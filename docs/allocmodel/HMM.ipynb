{
 "metadata": {
  "name": ""
 },
 "nbformat": 3,
 "nbformat_minor": 0,
 "worksheets": [
  {
   "cells": [
    {
     "cell_type": "markdown",
     "metadata": {},
     "source": [
      "## Goal\n",
      "\n",
      "This is documentation for **HMM**, a finite, parametric hidden Markov model with $K$ components/states.\n",
      "\n",
      "This document only addresses *allocation*, which means we will only describe notations and update equations that pertain to assigning data items to clusters/components.  Anything to do with the likelihood funciton is covered in the appropriate **obsmodel** documentation.\n",
      "\n",
      "## Notation\n",
      "\n",
      "### Parameters\n",
      "\n",
      "An HMM has two key allocation parameters: vector $\\pi_0$ and square matrix $\\pi$.\n",
      "\n",
      "Let vector $\\pi_0$ denote the probability of starting the sequence at each of $K$ states\n",
      "$$\n",
      "\\pi_0 = [\\pi_{01} ~ \\pi_{02} ~ \\ldots \\pi_{0K}]\n",
      "$$\n",
      "\n",
      "Let matrix $\\pi$ have size $K\\times K$. Each row $\\pi_j$ is the probability of transitioning from state $j$ to each of the $K$ states.\n",
      "$$\n",
      "\\pi_j = [\\pi_{j1} ~ \\pi_{j2} ~ \\ldots \\pi_{jK}]\n",
      "$$\n",
      "\n",
      "Each vector $\\pi_{0}, \\pi_{1}, \\ldots \\pi_{K}$ satisfies two constraints\n",
      "* each entry is positive:  $\\pi_{jk} > 0$\n",
      "* the vector sums to one: $\\sum_{k=1}^K \\pi_{jk} = 1$.\n",
      "\n",
      "### Prior parameters\n",
      "\n",
      "When desired, we place a symmetric Dirichlet prior on each row of $\\pi$, with parameter $\\alpha_0$.\n",
      "\n",
      "$$\n",
      "p( \\pi_j \\mid \\alpha_0) = \\mbox{Dirichlet}( \\alpha_0, \\alpha_0, \\ldots \\alpha_0)\n",
      "$$\n",
      "\n",
      "Here, $\\alpha_0$ is a positive scalar: $\\alpha_0 > 0$.\n",
      "\n",
      "TODO: optional sticky parameter?\n",
      "\n",
      "## Local parameters: discrete assignments\n",
      "\n",
      "We let $z_{n}$ denote the state sequence of the $n$-th observed sequence. This sequence has length $T_n$.\n",
      "\n",
      "$$\n",
      "z_{n} = [ z_{n1} z_{n2} \\ldots z_{n T_n-1} ~ z_{nT_n} ]\n",
      "$$\n",
      "\n",
      "Here, we'll use *one-hot* notation, in which $z_{nt}$ is a binary vector of length $K$.\n",
      "\n",
      "$$\n",
      "z_{nt} = [ z_{nt1} z_{nt2} \\ldots z_{ntK} ]\n",
      "\\\\\n",
      "z_{ntk} \\in \\{0, 1\\}\n",
      "$$\n",
      "\n",
      "This vector is constrained so only *one* entry of $z_n$ is one, and the rest are zeros.\n",
      "\n",
      "The event $z_{ntk} = 1$ can be interpreted as \"timestep t in sequence n is assigned to cluster k\"."
     ]
    },
    {
     "cell_type": "markdown",
     "metadata": {},
     "source": [
      "## Local posterior\n",
      "\n",
      "TODO"
     ]
    },
    {
     "cell_type": "code",
     "collapsed": false,
     "input": [],
     "language": "python",
     "metadata": {},
     "outputs": []
    }
   ],
   "metadata": {}
  }
 ]
}
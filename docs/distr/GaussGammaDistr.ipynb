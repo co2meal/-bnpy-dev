{
 "metadata": {
  "name": ""
 },
 "nbformat": 3,
 "nbformat_minor": 0,
 "worksheets": [
  {
   "cells": [
    {
     "cell_type": "markdown",
     "metadata": {},
     "source": [
      "# GaussGammaDistr\n",
      "\n",
      "## Goal\n",
      "\n",
      "Joint Gaussian-Gamma distribution, used for diagonal covariance Gaussians.\n",
      "\n",
      "## Basic Notation\n",
      "\n",
      "$$\n",
      "\\mu, \\lambda \\sim \\mbox{Gauss-Gamma}( \\mu, \\lambda \\mid a, b, m, \\kappa)\n",
      "$$\n",
      "\n",
      "### Parameters\n",
      "Mean $\\mu$ and precision $\\lambda$. Each is a $D$-dimensional vector.\n",
      "$$\n",
      "\\mu = [ \\mu_1 \\mu_2, \\ldots \\mu_D ]\n",
      "\\\\\n",
      "\\lambda = [\\lambda_1  \\lambda_2 \\ldots \\lambda_D ]\n",
      "$$\n",
      "\n",
      "### Hyperparameters\n",
      "\n",
      "The Gamma distribution has positive parameters $a,b$\n",
      "\n",
      "$$\n",
      "a = [ a_1 a_2 \\ldots a_D ], \\qquad a_d > 0\n",
      "\\\\\n",
      "b = [ b_1 b_2 \\ldots b_D ], \\qquad b_d > 0\n",
      "$$\n",
      "\n",
      "The Gaussian/Normal distribution has a mean vector $m$ and a scalar precision $\\kappa$ that must be positive.\n",
      "\n",
      "$$\n",
      "m = [ m_1 m_2 \\ldots m_D ], \\qquad m_d \\in \\mathbb{R}\n",
      "\\\\\n",
      "\\kappa > 0\n",
      "$$\n",
      "\n",
      "\n",
      "### Generating Data\n",
      "\n",
      "Each observation $x$ is a $D$-dimensional vector.\n",
      "\n",
      "$$\n",
      "x \\sim \\mbox{Normal}( x \\mid \\mu, \\mbox{diag}(\\lambda)^{-1} )\n",
      "$$\n"
     ]
    },
    {
     "cell_type": "markdown",
     "metadata": {},
     "source": [
      "## Useful moments\n",
      "\n",
      "#### Expected mean of $\\mu$\n",
      "\n",
      "\\begin{align}\n",
      "\\mbox{E}[ \\mu_d ] = m_d\n",
      "\\end{align}\n",
      "\n",
      "#### Expected variance of $\\mu$\n",
      "\n",
      "\\begin{align}\n",
      "\\mbox{Var}[ \\mu_d ] &= (\\kappa \\cdot \\mbox{E}[ \\lambda_d ] )^{-1}\n",
      "\\\\ &= ( \\kappa \\frac{a_d}{b_d} )^{-1}\n",
      "\\end{align}\n",
      "\n",
      "#### Expected value of $\\log \\lambda_d$\n",
      "\n",
      "\\begin{align}\n",
      "\\mbox{E}[ \\log \\lambda_d ] \n",
      "&= \\psi(a_d) - \\log b_d\n",
      "\\end{align}\n",
      "\n",
      "#### Expected value of product $\\mu_d \\lambda_d$\n",
      "\n",
      "\\begin{align}\n",
      "\\mbox{E}[\\mu_d \\lambda_d ] \n",
      "&= \\int_{\\lambda} p(\\lambda_d) \\lambda_d \\int_{\\mu} p(\\mu_d | \\lambda_d) \\mu_d d\\mu d\\lambda\n",
      "&= \\int_{\\lambda} p(\\lambda_d) \\lambda_d [m_d] d\\lambda\n",
      "&= m_d \\frac{a_d}{b_d}\n",
      "\\end{align}\n",
      "\n",
      "#### Expected value of product $\\mu_d^2 \\lambda_d$\n",
      "\n",
      "\\begin{align}\n",
      "\\mbox{E}[\\mu_d^2 \\lambda_d ] \n",
      "&= \\int_{\\lambda} p(\\lambda_d) \\lambda_d \\int_{\\mu} p(\\mu_d | \\lambda_d) \\mu_d^2 d\\mu d\\lambda\n",
      "\\\\\n",
      "&= \\int_{\\lambda} p(\\lambda_d) \\lambda_d E[\\mu_d^2] d\\lambda\n",
      "\\\\\n",
      "&= \\int_{\\lambda} p(\\lambda_d) \\lambda_d [m_d^2 + (\\kappa \\lambda_d)^{-1}] d\\lambda\n",
      "&= m_d^2 E[\\lambda_d] + \\kappa^{-1}\n",
      "&= m_d^2 \\frac{a_d}{b_d} + \\kappa^{-1}\n",
      "\\end{align}\n",
      "\n"
     ]
    },
    {
     "cell_type": "code",
     "collapsed": false,
     "input": [
      "D = GaussGammaDistr(a=1, b=1, kappa=0.1, m=5)\n",
      "Samples = D.sample(1000)"
     ],
     "language": "python",
     "metadata": {},
     "outputs": [
      {
       "ename": "NameError",
       "evalue": "name 'GaussGammaDistr' is not defined",
       "output_type": "pyerr",
       "traceback": [
        "\u001b[1;31m---------------------------------------------------------------------------\u001b[0m\n\u001b[1;31mNameError\u001b[0m                                 Traceback (most recent call last)",
        "\u001b[1;32m<ipython-input-1-2f83239aea25>\u001b[0m in \u001b[0;36m<module>\u001b[1;34m()\u001b[0m\n\u001b[1;32m----> 1\u001b[1;33m \u001b[0mD\u001b[0m \u001b[1;33m=\u001b[0m \u001b[0mGaussGammaDistr\u001b[0m\u001b[1;33m(\u001b[0m\u001b[0ma\u001b[0m\u001b[1;33m=\u001b[0m\u001b[1;36m1\u001b[0m\u001b[1;33m,\u001b[0m \u001b[0mb\u001b[0m\u001b[1;33m=\u001b[0m\u001b[1;36m1\u001b[0m\u001b[1;33m,\u001b[0m \u001b[0mkappa\u001b[0m\u001b[1;33m=\u001b[0m\u001b[1;36m0.1\u001b[0m\u001b[1;33m,\u001b[0m \u001b[0mm\u001b[0m\u001b[1;33m=\u001b[0m\u001b[1;36m5\u001b[0m\u001b[1;33m)\u001b[0m\u001b[1;33m\u001b[0m\u001b[0m\n\u001b[0m\u001b[0;32m      2\u001b[0m \u001b[0mSamples\u001b[0m \u001b[1;33m=\u001b[0m \u001b[0mD\u001b[0m\u001b[1;33m.\u001b[0m\u001b[0msample\u001b[0m\u001b[1;33m(\u001b[0m\u001b[1;36m1000\u001b[0m\u001b[1;33m)\u001b[0m\u001b[1;33m\u001b[0m\u001b[0m\n",
        "\u001b[1;31mNameError\u001b[0m: name 'GaussGammaDistr' is not defined"
       ]
      }
     ],
     "prompt_number": 1
    },
    {
     "cell_type": "markdown",
     "metadata": {},
     "source": [
      "## PDF\n",
      "\n",
      "\\begin{align}\n",
      "p(\\mu, \\lambda) &= \\prod_{d=1}^D \\mbox{Normal}( \\mu_d \\mid m_d, (\\kappa \\lambda_d)^{-1}) \\mbox{Gamma}(\\lambda_d \\mid a_d, b_d)\n",
      "\\\\ &= \\prod_{d=1}^D \\frac{1}{(2\\pi)^{1/2}} (\\kappa \\lambda_d)^{1/2} \\exp  \\Big[  -\\frac{\\kappa \\lambda_d}{2} (\\mu_d - m_d)^2 \\Big]   \\frac{b_d^{a_d}}{\\Gamma(a_d)} \\lambda_d^{a_d -1} \\exp \\Big[ - b_d \\lambda_d \\Big]\n",
      "\\\\ &= \\frac{1}{Z(a, b, \\kappa, m)} \\prod_{d=1}^D \\lambda_d^{1/2} \\exp \\Big[-\\frac{\\kappa \\lambda_d}{2} (\\mu_d - m_d)^2 \\Big] \n",
      "\\lambda_d^{a_d -1} \\exp \\Big[ - b_d \\lambda_d \\Big]\n",
      "\\end{align}\n",
      "\n",
      "where\n",
      "\n",
      "\\begin{align}\n",
      "Z(a,b,\\kappa, m) = (2\\pi)^{D/2} \\kappa^{-D/2} \\prod_{d=1}^D \\frac{\\Gamma(a_d)}{b_d^{a_d}}\n",
      "\\end{align}\n",
      "\n",
      "## LOG PDF\n",
      "\n",
      "\\begin{align}\n",
      "\\log p(\\mu, \\lambda) &= - \\log Z(a, b, \\kappa, m) + \\sum_{d=1}^D (a_d - 1 + \\frac{1}{2}) \\log \\lambda_d - b_d \\lambda_d - \\frac{1}{2} \\kappa \\lambda_d (\\mu_d - m_d)^2\n",
      "\\end{align}\n"
     ]
    },
    {
     "cell_type": "markdown",
     "metadata": {},
     "source": [
      "## LOG PDF NORM CONST\n",
      "\n",
      "\\begin{align}\n",
      "\\log Z(a, b, \\kappa, m) = \\frac{D}{2} \\log (2\\pi) - \\frac{D}{2} \\log \\kappa + \\sum_{d=1}^D \\log \\Gamma(a_d) - a_d \\log b_d\n",
      "\\end{align}"
     ]
    },
    {
     "cell_type": "markdown",
     "metadata": {},
     "source": [
      "## log likelihood\n",
      "\n",
      "\\begin{align}\n",
      "\\log p( x_n | \\mu, \\lambda) &= \\sum_{d=1}^D \\log p( x_{nd} \\mid \\mu_d, \\lambda_d)\n",
      "\\\\\n",
      "&= \\sum_{d=1}^D -\\frac{1}{2} \\log (2\\pi) + \\frac{1}{2} \\log \\lambda_d - \\frac{\\lambda_d}{2} (x_{nd} - \\mu_d)^2\n",
      "\\\\\n",
      "&= -\\frac{D}{2} \\log (2\\pi) + \\frac{1}{2} \\sum_{d=1}^D \\log \\lambda_d - \\lambda_d x_{nd}^2 + 2 \\lambda_d \\mu_d x_{nd} - \\lambda_d \\mu_d^2\n",
      "\\end{align}"
     ]
    },
    {
     "cell_type": "markdown",
     "metadata": {},
     "source": [
      "## E-STEP: E[ $\\log p(x | \\mu, \\lambda)$ ]\n",
      "\n",
      "Under a single distribution, we can find the expected log probability as\n",
      "\\begin{align}\n",
      "\\mbox{E}[\\log p(x_n | \\mu, \\lambda) ]\n",
      "&= -\\frac{D}{2} \\log (2\\pi) + \\frac{1}{2} \\sum_{d=1}^D \\mbox{E}[\\log \\lambda_d ]\n",
      "   - \\mbox{E}[\\lambda_d ] x_{nd}^2 + 2 \\mbox{E}[\\lambda_d \\mu_d] x_{nd} - \\mbox{E}[\\lambda_d \\mu_d^2]\n",
      "\\\\\n",
      "&= -\\frac{D}{2} \\log (2\\pi) + \\frac{1}{2} \\sum_{d=1}^D \\mbox{E}[\\log \\lambda_d ]\n",
      "   - \\frac{a_d}{b_d} x_{nd}^2 + 2 m_d \\frac{a_d}{b_d} x_{nd} - (m_d^2 \\frac{a_d}{b_d} + \\kappa^{-1})\n",
      "\\\\\n",
      "&= -\\frac{D}{2} \\log (2\\pi) + \\frac{1}{2} \\sum_{d=1}^D \\mbox{E}[\\log \\lambda_d ]\n",
      "   - \\frac{a_d}{b_d} (x_{nd} - m_d )^2 + \\kappa^{-1})\n",
      "\\end{align}"
     ]
    },
    {
     "cell_type": "code",
     "collapsed": false,
     "input": [
      "import bnpy.distr\n",
      "reload(bnpy.distr)\n",
      "GaussGammaDistr = bnpy.distr.GaussGammaDistr\n",
      "m = 3\n",
      "D = GaussGammaDistr( a=1, b=1, m=m, kappa=1)"
     ],
     "language": "python",
     "metadata": {},
     "outputs": [],
     "prompt_number": 26
    },
    {
     "cell_type": "code",
     "collapsed": false,
     "input": [
      "import numpy as np\n",
      "X = np.linspace(m-5, m+5, 100)[:, np.newaxis]\n",
      "distVec = D.E_distMahalanobis(X)"
     ],
     "language": "python",
     "metadata": {},
     "outputs": [],
     "prompt_number": 28
    },
    {
     "cell_type": "code",
     "collapsed": false,
     "input": [
      "from matplotlib import pylab\n",
      "%pylab inline\n",
      "pylab.plot( X, distVec, 'k.-')"
     ],
     "language": "python",
     "metadata": {},
     "outputs": [
      {
       "output_type": "stream",
       "stream": "stdout",
       "text": [
        "Populating the interactive namespace from numpy and matplotlib\n"
       ]
      },
      {
       "metadata": {},
       "output_type": "pyout",
       "prompt_number": 29,
       "text": [
        "[<matplotlib.lines.Line2D at 0x875ff50>]"
       ]
      },
      {
       "metadata": {},
       "output_type": "display_data",
       "png": "[encoded data removed]",
       "text": [
        "<matplotlib.figure.Figure at 0x87317f0>"
       ]
      }
     ],
     "prompt_number": 29
    },
    {
     "cell_type": "code",
     "collapsed": false,
     "input": [
      "print D.E_log_pdf_Phi(D)\n",
      "\n",
      "print D.E_log_pdf_Phi(D, doNormConst=False) - D.get_log_norm_const()\n",
      "\n",
      "\n",
      "# Precision gets larger --> ENTROPY gets smaller\n",
      "kappas = [0.001, 0.1, 1, 10, 100, 1000]\n",
      "kappas = np.asarray(kappas)\n",
      "H = np.zeros( kappas.shape)\n",
      "for kk,kappa in enumerate(kappas):\n",
      "    D = GaussGammaDistr( a=1, b=1, m=0, kappa=kappa)\n",
      "    H[kk] = -D.E_log_pdf_Phi(D)\n",
      "pylab.plot( kappas, H)"
     ],
     "language": "python",
     "metadata": {},
     "outputs": [
      {
       "output_type": "stream",
       "stream": "stdout",
       "text": [
        "0.746331273836\n",
        "0.746331273836\n"
       ]
      },
      {
       "metadata": {},
       "output_type": "pyout",
       "prompt_number": 42,
       "text": [
        "[<matplotlib.lines.Line2D at 0xaf0bbd0>]"
       ]
      },
      {
       "metadata": {},
       "output_type": "display_data",
       "png": "[encoded data removed]",
       "text": [
        "<matplotlib.figure.Figure at 0xaeeab30>"
       ]
      }
     ],
     "prompt_number": 42
    },
    {
     "cell_type": "code",
     "collapsed": false,
     "input": [
      "# a/b^2 gets bigger --> ENTROPY gets bigger\n",
      "ratios = [1, 10, 50, 90, 100, 101, 120, 500, 999, 1000]\n",
      "ratios = np.asarray(ratios)\n",
      "H = np.zeros( ratios.shape)\n",
      "for kk,ratio in enumerate(ratios):\n",
      "    a = 1\n",
      "    b = np.sqrt(1./ratio)\n",
      "    D = GaussGammaDistr( a=a, b=b, m=0, kappa=1.0)\n",
      "    H[kk] = -D.E_log_pdf_Phi(D)\n",
      "pylab.plot( ratios, H);"
     ],
     "language": "python",
     "metadata": {},
     "outputs": [
      {
       "metadata": {},
       "output_type": "display_data",
       "png": "[encoded data removed]",
       "text": [
        "<matplotlib.figure.Figure at 0xb0571d0>"
       ]
      }
     ],
     "prompt_number": 43
    },
    {
     "cell_type": "markdown",
     "metadata": {},
     "source": [
      "## ELBO Calculation\n",
      "\n",
      "\\begin{align}\n",
      "\\mbox{E}_{q(\\mu, \\lambda)}[ \\log p(\\mu, \\lambda \\mid a_0, b_0, m_0, \\kappa_0) ]\n",
      "&= - \\log Z(a_0, b_0, m_0, \\kappa_0) + \\sum_{d=1}^D (a_{0d} - 1 + \\frac{1}{2}) E_q[\\log \\lambda_d] - b_{0d} E_q[\\lambda_d] - \\frac{1}{2} \\kappa_0 E_q \\Big[ \\lambda_d (\\mu_d - m_{0d})^2 \\Big]\n",
      "\\end{align}"
     ]
    },
    {
     "cell_type": "code",
     "collapsed": false,
     "input": [],
     "language": "python",
     "metadata": {},
     "outputs": []
    },
    {
     "cell_type": "code",
     "collapsed": false,
     "input": [],
     "language": "python",
     "metadata": {},
     "outputs": []
    }
   ],
   "metadata": {}
  }
 ]
}
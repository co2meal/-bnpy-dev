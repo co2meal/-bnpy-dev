{
 "metadata": {
  "name": ""
 },
 "nbformat": 3,
 "nbformat_minor": 0,
 "worksheets": [
  {
   "cells": [
    {
     "cell_type": "code",
     "collapsed": false,
     "input": [
      "taskpath = '$TASKPATH'"
     ],
     "language": "python",
     "metadata": {},
     "outputs": []
    },
    {
     "cell_type": "code",
     "collapsed": false,
     "input": [
      "import numpy as np\n",
      "from matplotlib import pylab\n",
      "%pylab inline --no-import-all\n",
      "\n",
      "import BNPYTaskReportPlotUtil as PUtil\n",
      "\n",
      "import plotly.plotly as ply\n",
      "PUtil.ConfigAndSignIntoPlotly(pylab, ply)"
     ],
     "language": "python",
     "metadata": {},
     "outputs": []
    },
    {
     "cell_type": "code",
     "collapsed": false,
     "input": [
      "PUtil.PlotSingleRunELBOAndK(taskpath)\n",
      "ply.iplot_mpl(pylab.gcf(), filename=taskpath + 'elbo')"
     ],
     "language": "python",
     "metadata": {},
     "outputs": []
    },
    {
     "cell_type": "code",
     "collapsed": true,
     "input": [
      "PUtil.PlotSingleRunCounts(taskpath)\n",
      "ply.iplot_mpl(pylab.gcf(), filename=taskpath + 'count')"
     ],
     "language": "python",
     "metadata": {},
     "outputs": []
    },
    {
     "cell_type": "code",
     "collapsed": false,
     "input": [
      "PUtil.PlotSingleRunComps(taskpath)"
     ],
     "language": "python",
     "metadata": {},
     "outputs": []
    }
   ],
   "metadata": {}
  }
 ]
}

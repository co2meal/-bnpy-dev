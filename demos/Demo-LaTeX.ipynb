{
 "metadata": {
  "name": ""
 },
 "nbformat": 3,
 "nbformat_minor": 0,
 "worksheets": [
  {
   "cells": [
    {
     "cell_type": "code",
     "collapsed": false,
     "input": [
      "import numpy as np\n",
      "import bnpy\n",
      "\n",
      "from matplotlib import pylab\n",
      "%pylab inline"
     ],
     "language": "python",
     "metadata": {},
     "outputs": [
      {
       "output_type": "stream",
       "stream": "stdout",
       "text": [
        "Populating the interactive namespace from numpy and matplotlib\n"
       ]
      }
     ],
     "prompt_number": 1
    },
    {
     "cell_type": "markdown",
     "metadata": {},
     "source": [
      "## Data"
     ]
    },
    {
     "cell_type": "markdown",
     "metadata": {},
     "source": [
      "Our data comes from a mixture of zero-mean Gaussians.\n",
      "\n",
      "$$\n",
      "p(x_n | z_{nk}) \\sim \\prod_{k=1}^K \\mathcal{N}(0, \\Sigma_k)^{z_{nk}}\n",
      "$$"
     ]
    },
    {
     "cell_type": "code",
     "collapsed": false,
     "input": [
      "import StarCovarK5\n",
      "Data = StarCovarK5.get_data(nObsTotal=5000)\n",
      "pylab.plot(Data.X[:,0], Data.X[:,1], 'k.');\n",
      "pylab.xlim([-1, 1]); pylab.ylim([-1, 1]);\n",
      "pylab.axis('image'); "
     ],
     "language": "python",
     "metadata": {},
     "outputs": [
      {
       "metadata": {},
       "output_type": "display_data",
       "png": "[encoded data removed]",
       "text": [
        "<matplotlib.figure.Figure at 0x1057b6950>"
       ]
      }
     ],
     "prompt_number": 3
    },
    {
     "cell_type": "markdown",
     "metadata": {},
     "source": [
      "## Prior : Wishart\n",
      "\n",
      "We set a Wishart prior on the precision matrix,\n",
      "\n",
      "$$\n",
      "p(\\Lambda_k ) = \\mbox{Wish}( \\nu, B)\n",
      "$$\n",
      "\n",
      "where we have defined\n",
      "\n",
      "* $\\nu$ : scalar, degrees of freedom\n",
      "* $B$ : scale matrix, $D \\times D$"
     ]
    },
    {
     "cell_type": "markdown",
     "metadata": {},
     "source": [
      "## Expectations\n",
      "\n",
      "$$\n",
      "\\mathbb{E}[\\log \\Lambda] = -\\log |B| + D \\log 2 +\n",
      "\\sum_{d=1}^D  \\psi(\\frac{\\nu + 1 - d}{2})\n",
      "$$"
     ]
    }
   ],
   "metadata": {}
  }
 ]
}
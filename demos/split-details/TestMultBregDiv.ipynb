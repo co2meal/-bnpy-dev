{
 "metadata": {
  "name": ""
 },
 "nbformat": 3,
 "nbformat_minor": 0,
 "worksheets": [
  {
   "cells": [
    {
     "cell_type": "code",
     "collapsed": false,
     "input": [
      "%pylab inline\n",
      "from matplotlib import pylab\n",
      "import numpy as np\n",
      "import os\n",
      "np.set_printoptions(precision=3, suppress=1)"
     ],
     "language": "python",
     "metadata": {},
     "outputs": [
      {
       "output_type": "stream",
       "stream": "stdout",
       "text": [
        "Populating the interactive namespace from numpy and matplotlib\n"
       ]
      }
     ],
     "prompt_number": 3
    },
    {
     "cell_type": "code",
     "collapsed": false,
     "input": [
      "import bnpy\n",
      "bnpy.viz.PlotUtil.ConfigPylabDefaults(pylab)"
     ],
     "language": "python",
     "metadata": {},
     "outputs": [],
     "prompt_number": 4
    },
    {
     "cell_type": "code",
     "collapsed": false,
     "input": [
      "import BarsK6V9\n",
      "\n",
      "def nWordsPerDocFunc(PRNG):\n",
      "    return PRNG.randint(50, 100)\n",
      "\n",
      "Data = BarsK6V9.get_data(nDocTotal=100, nWordsPerDocFunc=nWordsPerDocFunc)\n",
      "DocWordMat = Data.getDocTypeCountMatrix()\n",
      "np.maximum(DocWordMat, 1e-100, out=DocWordMat);"
     ],
     "language": "python",
     "metadata": {},
     "outputs": [],
     "prompt_number": 31
    },
    {
     "cell_type": "code",
     "collapsed": false,
     "input": [
      "def calcBregDiv_Mult(WordCountData, WordCountMeans):\n",
      "    if WordCountData.ndim == 1:\n",
      "        WordCountData = WordCountData[np.newaxis,:]\n",
      "    if WordCountMeans.ndim == 1:\n",
      "        WordCountMeans = WordCountMeans[np.newaxis,:]\n",
      "    assert WordCountData.shape[1] == WordCountMeans.shape[1]\n",
      "    N = WordCountData.shape[0]\n",
      "    K = WordCountMeans.shape[0]\n",
      "    Nx = WordCountData.sum(axis=1)\n",
      "    assert np.all(Nx >= 1.0 - 1e-10)\n",
      "    Nmean = WordCountMeans.sum(axis=1)\n",
      "    #assert np.allclose(Nmean, 1.0)\n",
      "    assert np.all(Nmean >= 1.0 - 1e-10)\n",
      "    Div = np.zeros((N, K))\n",
      "    for k in xrange(K):\n",
      "        Div[:, k] = np.sum(WordCountData * np.log(WordCountData / WordCountMeans[k,:][np.newaxis,:]), axis=1)\n",
      "        Div[:, k] += Nx * np.log(Nmean[k]/Nx)\n",
      "    return Div"
     ],
     "language": "python",
     "metadata": {},
     "outputs": [],
     "prompt_number": 55
    },
    {
     "cell_type": "code",
     "collapsed": false,
     "input": [
      "def calcClusterMean_Mult(WordCountData, alpha=0.05):\n",
      "    if WordCountData.ndim == 1:\n",
      "        WordCountData = WordCountData[np.newaxis,:]\n",
      "    WordCountSumVec = np.sum(WordCountData, axis=0)\n",
      "    WCsum = WordCountSumVec.sum()\n",
      "    WordCountMean = (WordCountSumVec + alpha) / (WCsum.sum() + WordCountSumVec.size * alpha)\n",
      "    return WCsum * WordCountMean"
     ],
     "language": "python",
     "metadata": {},
     "outputs": [],
     "prompt_number": 88
    },
    {
     "cell_type": "code",
     "collapsed": false,
     "input": [
      "def initTopics_HDPMult(Data, K):\n",
      "    DocWordMat = Data.getDocTypeCountMatrix()\n",
      "    np.maximum(DocWordMat, 1e-100, out=DocWordMat)\n",
      "    WordCountMeans = calcClusterMean_Mult(DocWordMat)[np.newaxis, :]\n",
      "    minDiv = calcBregDiv_Mult(DocWordMat, WordCountMeans)\n",
      "    print '%d maxDist %.1f minDist %.1f' % (0, minDiv.max(), minDiv.min())\n",
      "    assert minDiv.min() > -1e-10\n",
      "    WCMeans = np.zeros((K, WordCountMeans.shape[1]))\n",
      "    lamVals = np.zeros(K+1)\n",
      "    for k in range(K):\n",
      "        print '%d maxDist %.1f minDist %.1f' % (k, minDiv.max(), minDiv.min())\n",
      "        # Find data point with largest minDiv value\n",
      "        n = minDiv.argmax()\n",
      "        lamVals[k] = minDiv[n]\n",
      "        # Add this point to the clusters\n",
      "        WCMeans[k,:] = calcClusterMean_Mult(DocWordMat[n])\n",
      "        # Recalculate minimum distance to existing means\n",
      "        curDiv = calcBregDiv_Mult(DocWordMat, WCMeans[k])\n",
      "        np.minimum(curDiv, minDiv, out=minDiv)\n",
      "        assert minDiv.min() > -1e-10\n",
      "    lamVals[-1] = minDiv.max()\n",
      "    return WCMeans, lamVals"
     ],
     "language": "python",
     "metadata": {},
     "outputs": [],
     "prompt_number": 81
    },
    {
     "cell_type": "code",
     "collapsed": false,
     "input": [
      "WCMeans, lamVals = initTopics_HDPMult(Data, 25)"
     ],
     "language": "python",
     "metadata": {},
     "outputs": [
      {
       "output_type": "stream",
       "stream": "stdout",
       "text": [
        "0 maxDist 961.9 minDist 525.6\n",
        "0 maxDist 961.9 minDist 525.6\n",
        "1 maxDist 923.3 minDist 64.4\n",
        "2 maxDist 888.9 minDist 64.4\n",
        "3 maxDist 883.6 minDist 64.3\n",
        "4 maxDist 870.7 minDist 64.3\n",
        "5 maxDist 852.1 minDist 64.3\n",
        "6 maxDist 847.6 minDist 63.4\n",
        "7 maxDist 847.1 minDist 63.4\n",
        "8 maxDist 841.1 minDist 63.4\n",
        "9 maxDist 809.3 minDist 62.8"
       ]
      },
      {
       "output_type": "stream",
       "stream": "stdout",
       "text": [
        "\n",
        "10 maxDist 687.9 minDist 62.8\n",
        "11 maxDist 679.8 minDist 55.5\n",
        "12 maxDist 672.7 minDist 55.5\n",
        "13 maxDist 664.3 minDist 54.0\n",
        "14 maxDist 663.2 minDist 54.0\n",
        "15 maxDist 656.3 minDist 54.0\n",
        "16 maxDist 655.5 minDist 54.0\n",
        "17 maxDist 651.1 minDist 53.7\n",
        "18 maxDist 647.8 minDist 53.7"
       ]
      },
      {
       "output_type": "stream",
       "stream": "stdout",
       "text": [
        "\n",
        "19 maxDist 635.4 minDist 53.7\n",
        "20 maxDist 632.8 minDist 53.7\n",
        "21 maxDist 632.3 minDist 53.7\n",
        "22 maxDist 632.3 minDist 53.7\n",
        "23 maxDist 630.3 minDist 53.7\n",
        "24 maxDist 624.1 minDist 52.8\n"
       ]
      }
     ],
     "prompt_number": 82
    },
    {
     "cell_type": "code",
     "collapsed": false,
     "input": [
      "pylab.plot(lamVals)"
     ],
     "language": "python",
     "metadata": {},
     "outputs": [
      {
       "metadata": {},
       "output_type": "pyout",
       "prompt_number": 83,
       "text": [
        "[<matplotlib.lines.Line2D at 0xbf5f210>]"
       ]
      },
      {
       "metadata": {},
       "output_type": "display_data",
       "png": "[encoded data removed]",
       "text": [
        "<matplotlib.figure.Figure at 0x7f83b96ce7d0>"
       ]
      }
     ],
     "prompt_number": 83
    },
    {
     "cell_type": "markdown",
     "metadata": {},
     "source": [
      "## Bars with K=10 topics"
     ]
    },
    {
     "cell_type": "code",
     "collapsed": false,
     "input": [
      "import BarsK10V900\n",
      "\n",
      "def nWordsPerDocFunc(PRNG):\n",
      "    return 512 #PRNG.randint(500, 800)\n",
      "\n",
      "Data = BarsK10V900.get_data(nDocTotal=100, nWordsPerDoc=512)\n",
      "#Data = BarsK10V900.get_data(nDocTotal=100, nWordsPerDocFunc=nWordsPerDocFunc)\n",
      "DocWordMat = Data.getDocTypeCountMatrix()\n",
      "np.maximum(DocWordMat, 1e-100, out=DocWordMat);"
     ],
     "language": "python",
     "metadata": {},
     "outputs": [],
     "prompt_number": 89
    },
    {
     "cell_type": "code",
     "collapsed": false,
     "input": [
      "WCMeans, lamVals = initTopics_HDPMult(Data, 25)"
     ],
     "language": "python",
     "metadata": {},
     "outputs": [
      {
       "output_type": "stream",
       "stream": "stdout",
       "text": [
        "0 maxDist 961.9 minDist 525.6\n",
        "0 maxDist 961.9 minDist 525.6\n",
        "1 maxDist 923.3 minDist 33.8\n",
        "2 maxDist 888.9 minDist 33.8\n",
        "3 maxDist 883.6 minDist 33.7\n",
        "4 maxDist 870.7 minDist 33.7\n",
        "5 maxDist 852.1 minDist 33.7\n",
        "6 maxDist 847.6 minDist 33.3\n",
        "7 maxDist 847.1 minDist 33.3\n",
        "8 maxDist 841.1 minDist 33.3\n",
        "9 maxDist 809.3 minDist 32.9"
       ]
      },
      {
       "output_type": "stream",
       "stream": "stdout",
       "text": [
        "\n",
        "10 maxDist 733.8 minDist 32.9\n",
        "11 maxDist 713.9 minDist 30.1\n",
        "12 maxDist 700.6 minDist 30.1\n",
        "13 maxDist 688.0 minDist 29.9\n",
        "14 maxDist 680.8 minDist 29.2\n",
        "15 maxDist 679.8 minDist 29.2\n",
        "16 maxDist 678.4 minDist 29.2\n",
        "17 maxDist 675.7 minDist 29.2\n",
        "18 maxDist 672.8 minDist 29.2"
       ]
      },
      {
       "output_type": "stream",
       "stream": "stdout",
       "text": [
        "\n",
        "19 maxDist 664.3 minDist 28.4\n",
        "20 maxDist 663.2 minDist 28.4\n",
        "21 maxDist 656.3 minDist 28.4\n",
        "22 maxDist 655.6 minDist 28.4\n",
        "23 maxDist 654.5 minDist 28.3\n",
        "24 maxDist 652.7 minDist 28.3\n"
       ]
      }
     ],
     "prompt_number": 90
    },
    {
     "cell_type": "code",
     "collapsed": false,
     "input": [
      "pylab.plot(lamVals)"
     ],
     "language": "python",
     "metadata": {},
     "outputs": [
      {
       "metadata": {},
       "output_type": "pyout",
       "prompt_number": 91,
       "text": [
        "[<matplotlib.lines.Line2D at 0xcca82d0>]"
       ]
      },
      {
       "metadata": {},
       "output_type": "display_data",
       "png": "[encoded data removed]",
       "text": [
        "<matplotlib.figure.Figure at 0x3dff2d0>"
       ]
      }
     ],
     "prompt_number": 91
    },
    {
     "cell_type": "code",
     "collapsed": false,
     "input": [
      "bnpy.viz.BarsViz.showTopicsAsSquareImages(WCMeans);"
     ],
     "language": "python",
     "metadata": {},
     "outputs": [
      {
       "metadata": {},
       "output_type": "display_data",
       "png": "[encoded data removed]",
       "text": [
        "<matplotlib.figure.Figure at 0x3ca0ed0>"
       ]
      }
     ],
     "prompt_number": 93
    },
    {
     "cell_type": "code",
     "collapsed": false,
     "input": [
      "os.environ['BNPYDATADIR'] = '/home/mhughes/git/x-topics/datasets/nips/'\n",
      "sys.path.append(os.environ['BNPYDATADIR'])\n",
      "import nips\n",
      "reload(nips)\n",
      "\n",
      "Data = nips.get_data()\n",
      "DocWordMat = Data.getDocTypeCountMatrix()\n",
      "np.maximum(DocWordMat, 1e-100, out=DocWordMat);"
     ],
     "language": "python",
     "metadata": {},
     "outputs": [],
     "prompt_number": 94
    },
    {
     "cell_type": "code",
     "collapsed": false,
     "input": [
      "WCMeans, lamVals = initTopics_HDPMult(Data, 25)"
     ],
     "language": "python",
     "metadata": {},
     "outputs": [
      {
       "output_type": "stream",
       "stream": "stdout",
       "text": [
        "0 maxDist 7804.8 minDist 564.4\n",
        "0 maxDist 7804.8 minDist 564.4\n",
        "1 maxDist 5606.6 minDist 564.4"
       ]
      },
      {
       "output_type": "stream",
       "stream": "stdout",
       "text": [
        "\n",
        "2 maxDist 5373.6 minDist 564.4"
       ]
      },
      {
       "output_type": "stream",
       "stream": "stdout",
       "text": [
        "\n",
        "3 maxDist 4880.6 minDist 555.6"
       ]
      },
      {
       "output_type": "stream",
       "stream": "stdout",
       "text": [
        "\n",
        "4 maxDist 4854.8 minDist 555.6"
       ]
      },
      {
       "output_type": "stream",
       "stream": "stdout",
       "text": [
        "\n",
        "5 maxDist 4704.3 minDist 547.0"
       ]
      },
      {
       "output_type": "stream",
       "stream": "stdout",
       "text": [
        "\n",
        "6 maxDist 4686.1 minDist 547.0"
       ]
      },
      {
       "output_type": "stream",
       "stream": "stdout",
       "text": [
        "\n",
        "7 maxDist 4665.2 minDist 547.0"
       ]
      },
      {
       "output_type": "stream",
       "stream": "stdout",
       "text": [
        "\n",
        "8 maxDist 4627.2 minDist 541.2"
       ]
      },
      {
       "output_type": "stream",
       "stream": "stdout",
       "text": [
        "\n",
        "9 maxDist 4549.5 minDist 541.2"
       ]
      },
      {
       "output_type": "stream",
       "stream": "stdout",
       "text": [
        "\n",
        "10 maxDist 4536.6 minDist 541.2"
       ]
      },
      {
       "output_type": "stream",
       "stream": "stdout",
       "text": [
        "\n",
        "11 maxDist 4519.2 minDist 541.2"
       ]
      },
      {
       "output_type": "stream",
       "stream": "stdout",
       "text": [
        "\n",
        "12 maxDist 4513.3 minDist 541.2"
       ]
      },
      {
       "output_type": "stream",
       "stream": "stdout",
       "text": [
        "\n",
        "13 maxDist 4459.6 minDist 541.2"
       ]
      },
      {
       "output_type": "stream",
       "stream": "stdout",
       "text": [
        "\n",
        "14 maxDist 4388.0 minDist 541.2"
       ]
      },
      {
       "output_type": "stream",
       "stream": "stdout",
       "text": [
        "\n",
        "15 maxDist 4387.1 minDist 538.3"
       ]
      },
      {
       "output_type": "stream",
       "stream": "stdout",
       "text": [
        "\n",
        "16 maxDist 4345.7 minDist 538.3"
       ]
      },
      {
       "output_type": "stream",
       "stream": "stdout",
       "text": [
        "\n",
        "17 maxDist 4319.1 minDist 538.3"
       ]
      },
      {
       "output_type": "stream",
       "stream": "stdout",
       "text": [
        "\n",
        "18 maxDist 4316.5 minDist 537.7"
       ]
      },
      {
       "output_type": "stream",
       "stream": "stdout",
       "text": [
        "\n",
        "19 maxDist 4313.8 minDist 537.7"
       ]
      },
      {
       "output_type": "stream",
       "stream": "stdout",
       "text": [
        "\n",
        "20 maxDist 4292.8 minDist 536.6"
       ]
      },
      {
       "output_type": "stream",
       "stream": "stdout",
       "text": [
        "\n",
        "21 maxDist 4263.5 minDist 536.6"
       ]
      },
      {
       "output_type": "stream",
       "stream": "stdout",
       "text": [
        "\n",
        "22 maxDist 4225.7 minDist 536.6"
       ]
      },
      {
       "output_type": "stream",
       "stream": "stdout",
       "text": [
        "\n",
        "23 maxDist 4206.3 minDist 535.6"
       ]
      },
      {
       "output_type": "stream",
       "stream": "stdout",
       "text": [
        "\n",
        "24 maxDist 4194.1 minDist 535.6"
       ]
      },
      {
       "output_type": "stream",
       "stream": "stdout",
       "text": [
        "\n"
       ]
      }
     ],
     "prompt_number": 95
    },
    {
     "cell_type": "code",
     "collapsed": false,
     "input": [
      "from bnpy.viz.PrintTopics import printTopWordsFromWordCounts"
     ],
     "language": "python",
     "metadata": {},
     "outputs": [],
     "prompt_number": 96
    },
    {
     "cell_type": "code",
     "collapsed": false,
     "input": [
      "printTopWordsFromWordCounts(WCMeans, Data.vocabList)"
     ],
     "language": "python",
     "metadata": {},
     "outputs": [
      {
       "output_type": "stream",
       "stream": "stdout",
       "text": [
        "----- topic 0. count  4197.\n",
        " 73 cells\n",
        " 71 cell\n",
        " 60 firing\n",
        " 50 lot\n",
        " 47 layer\n",
        " 33 input\n",
        " 32 synapses\n",
        " 32 cues\n",
        " 31 patterns\n",
        " 29 olfactory\n",
        "----- topic 1. count  2500.\n",
        " 59 representation\n",
        " 58 role\n",
        " 37 units\n",
        " 36 binding\n",
        " 34 product\n",
        " 34 distributed\n",
        " 31 tensor\n",
        " 29 local\n",
        " 29 representations\n",
        " 28 structures\n",
        "----- topic 2. count  2346.\n",
        " 28 stream\n",
        " 27 tones\n",
        " 24 jones\n",
        " 24 frequency\n",
        " 22 activity\n",
        " 22 auditory\n",
        " 20 time\n",
        " 19 cortex\n",
        " 18 attention\n",
        " 18 rhythmic\n",
        "----- topic 3. count  2406.\n",
        " 53 stimulus\n",
        " 52 model\n",
        " 51 input\n",
        " 36 cortex\n",
        " 35 response\n",
        " 31 cortical\n",
        " 21 patterns\n",
        " 20 activity\n",
        " 20 cell\n",
        " 19 actual\n",
        "----- topic 4. count  1674.\n",
        " 83 head\n",
        " 61 cells\n",
        " 58 direction\n",
        " 32 cell\n",
        " 28 rat\n",
        " 25 model\n",
        " 19 angular\n",
        " 16 velocity\n",
        " 12 sharp\n",
        " 11 turning\n",
        "----- topic 5. count  2010.\n",
        " 29 neurons\n",
        " 29 motion\n",
        " 28 occlusion\n",
        " 28 visible\n",
        " 27 connections\n",
        " 26 invisible\n",
        " 26 network\n",
        " 23 visual\n",
        " 22 objects\n",
        " 20 neuron\n",
        "----- topic 6. count  1715.\n",
        " 34 eeg\n",
        " 31 time\n",
        " 30 locked\n",
        " 28 single\n",
        " 27 trial\n",
        " 24 erp\n",
        " 22 components\n",
        " 18 response\n",
        " 17 ica\n",
        " 17 event\n",
        "----- topic 7. count  1597.\n",
        " 42 cue\n",
        " 37 cues\n",
        " 34 spectral\n",
        " 28 sound\n",
        " 24 interaural\n",
        " 24 localization\n",
        " 23 location\n",
        " 18 values\n",
        " 16 stimulus\n",
        " 15 subject\n",
        "----- topic 8. count  1890.\n",
        " 52 cell\n",
        " 38 potential\n",
        " 38 membrane\n",
        " 33 light\n",
        " 32 firing\n",
        " 25 learning\n",
        " 24 model\n",
        " 18 ganglion\n",
        " 16 neuron\n",
        " 16 stimulus\n",
        "----- topic 9. count  2407.\n",
        " 68 network\n",
        " 49 nat\n",
        " 46 reinforcement\n",
        " 45 output\n",
        " 28 inputs\n",
        " 23 time\n",
        " 21 networks\n",
        " 21 adaptive\n",
        " 19 pattern\n",
        " 18 model\n",
        "----- topic 10. count  1776.\n",
        " 47 input\n",
        " 28 potassium\n",
        " 28 output\n",
        " 26 conductance\n",
        " 26 neuron\n",
        " 26 calcium\n",
        " 25 rate\n",
        " 25 dendrite\n",
        " 24 model\n",
        " 23 current\n",
        "----- topic 11. count  2083.\n",
        " 57 time\n",
        " 27 connections\n",
        " 27 processor\n",
        " 26 processors\n",
        " 24 connection\n",
        " 22 neural\n",
        " 21 network\n",
        " 21 path\n",
        " 20 paths\n",
        " 20 parallel\n",
        "----- topic 12. count  2022.\n",
        " 39 approach\n",
        " 35 model\n",
        " 35 activation\n",
        " 35 processors\n",
        " 28 parallel\n",
        " 23 weight\n",
        " 22 fig\n",
        " 21 update\n",
        " 21 edge\n",
        " 20 performance\n",
        "----- topic 13. count  1853.\n",
        " 54 orientation\n",
        " 32 models\n",
        " 22 centers\n",
        " 21 model\n",
        " 19 map\n",
        " 16 cortex\n",
        " 16 cells\n",
        " 14 drift\n",
        " 13 orientations\n",
        " 13 hubel\n",
        "----- topic 14. count  1582.\n",
        " 23 legal\n",
        " 22 node\n",
        " 18 smolensky\n",
        " 16 grammar\n",
        " 16 tree\n",
        " 16 child\n",
        " 15 parent\n",
        " 14 rules\n",
        " 13 nodes\n",
        " 13 soft\n",
        "----- topic 15. count  2127.\n",
        " 89 context\n",
        " 40 dependent\n",
        " 30 training\n",
        " 28 system\n",
        " 28 hmm\n",
        " 25 phone\n",
        " 23 phonetic\n",
        " 23 independent\n",
        " 22 mlp\n",
        " 21 modeling\n",
        "----- topic 16. count  1971.\n",
        " 44 state\n",
        " 40 learning\n",
        " 31 recurrence\n",
        " 29 system\n",
        " 28 failure\n",
        " 26 time\n",
        " 21 states\n",
        " 20 ase\n",
        " 19 pole\n",
        " 17 cart\n",
        "----- topic 17. count  1516.\n",
        " 30 input\n",
        " 29 weak\n",
        " 23 associative\n",
        " 22 synaptic\n",
        " 20 ltp\n",
        " 18 strong\n",
        " 18 long\n",
        " 17 phase\n",
        " 13 hippocampus\n",
        " 13 stimulation\n",
        "----- topic 18. count  1848.\n",
        " 24 control\n",
        " 23 chip\n",
        " 21 system\n",
        " 21 visual\n",
        " 19 light\n",
        " 19 motor\n",
        " 17 eye\n",
        " 17 retina\n",
        " 16 moving\n",
        " 16 saccadic\n",
        "----- topic 19. count  1477.\n",
        " 78 iiii\n",
        " 28 iii\n",
        " 28 figure\n",
        " 24 border\n",
        " 16 model\n",
        " 14 texture\n",
        " 13 visual\n",
        " 12 region\n",
        " 11 cells\n",
        " 11 responses\n",
        "----- topic 20. count  1998.\n",
        " 98 learning\n",
        " 36 demonstration\n",
        " 29 model\n",
        " 25 function\n",
        " 24 policy\n",
        " 23 pole\n",
        " 19 robot\n",
        " 17 task\n",
        " 17 trial\n",
        " 17 state\n",
        "----- topic 21. count  1676.\n",
        " 63 state\n",
        " 60 policy\n",
        " 42 finite\n",
        " 35 iteration\n",
        " 32 controller\n",
        " 23 algorithm\n",
        " 22 function\n",
        " 19 sondik\n",
        " 18 vectors\n",
        " 17 machine\n",
        "----- topic 22. count  1637.\n",
        " 26 leg\n",
        " 20 neural\n",
        " 19 insect\n",
        " 18 controller\n",
        " 14 networks\n",
        " 12 figure\n",
        " 11 nervous\n",
        " 11 walking\n",
        " 11 stance\n",
        " 10 locomotion\n",
        "----- topic 23. count  2189.\n",
        " 32 networks\n",
        " 29 neural\n",
        " 20 network\n",
        " 19 neurons\n",
        " 16 mcculloch\n",
        " 16 brain\n",
        " 15 work\n",
        " 13 pitts\n",
        " 12 cowan\n",
        " 12 logical\n",
        "----- topic 24. count  1840.\n",
        " 35 firing\n",
        " 28 synaptic\n",
        " 24 ltp\n",
        " 22 figure\n",
        " 19 postsynaptic\n",
        " 19 action\n",
        " 19 potential\n",
        " 19 irregular\n",
        " 18 mode\n",
        " 17 spike\n"
       ]
      }
     ],
     "prompt_number": 98
    },
    {
     "cell_type": "code",
     "collapsed": false,
     "input": [],
     "language": "python",
     "metadata": {},
     "outputs": []
    }
   ],
   "metadata": {}
  }
 ]
}
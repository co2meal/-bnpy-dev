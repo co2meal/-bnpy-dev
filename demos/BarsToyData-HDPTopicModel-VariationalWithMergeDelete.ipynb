{
 "metadata": {
  "name": ""
 },
 "nbformat": 3,
 "nbformat_minor": 0,
 "worksheets": [
  {
   "cells": [
    {
     "cell_type": "markdown",
     "metadata": {},
     "source": [
      "# Learning an HDP topic model on Toy Bars Data with merges and deletes"
     ]
    },
    {
     "cell_type": "markdown",
     "metadata": {},
     "source": [
      "## Goal\n",
      "\n",
      "This demo walks you through using **bnpy** from within python to train a hierarchical Dirichlet process (HDP) topic model on **bag-of-words** data. \n",
      "\n",
      "We'll use the memoized variational inference algorithm, with merge and delete moves.\n",
      "\n",
      "We can use the following import statements to load bnpy and associated visualization tools."
     ]
    },
    {
     "cell_type": "code",
     "collapsed": false,
     "input": [
      "import bnpy\n",
      "\n",
      "from matplotlib import pylab\n",
      "%pylab inline\n",
      "\n",
      "imshowArgs = dict(interpolation='nearest', \n",
      "                  cmap='bone_r', \n",
      "                  vmin=0.0, \n",
      "                  vmax=10./900,\n",
      "                  )"
     ],
     "language": "python",
     "metadata": {},
     "outputs": [
      {
       "output_type": "stream",
       "stream": "stdout",
       "text": [
        "Populating the interactive namespace from numpy and matplotlib\n"
       ]
      }
     ],
     "prompt_number": 2
    },
    {
     "cell_type": "markdown",
     "metadata": {},
     "source": [
      "## Toy dataset : `BarsK10V900`"
     ]
    },
    {
     "cell_type": "markdown",
     "metadata": {},
     "source": [
      "We'll use a simple \"toy bars\" dataset called `BarsK10V900`, generated from the LDA topic model.\n",
      "\n",
      "**Our intended task here is to assign exactly one topic to every token. The data was generated this way.**\n",
      "\n",
      "Be aware that this is different than assigning a single cluster/topic to the entire document."
     ]
    },
    {
     "cell_type": "code",
     "collapsed": false,
     "input": [
      "import BarsK10V900\n",
      "Data = BarsK10V900.get_data(nDocTotal=1000, nWordsPerDoc=100)\n",
      "Data.name = 'BarsK10V900'"
     ],
     "language": "python",
     "metadata": {},
     "outputs": [],
     "prompt_number": 3
    },
    {
     "cell_type": "markdown",
     "metadata": {},
     "source": [
      "First, we can visualize the 10 \"true\" bar topics. Each one is a distribution over 900 vocabulary \"words\", which are represented here as individual pixels in a 30x30 image."
     ]
    },
    {
     "cell_type": "code",
     "collapsed": false,
     "input": [
      "bnpy.viz.BarsViz.showTopicsAsSquareImages(BarsK10V900.Defaults['topics'], **imshowArgs);"
     ],
     "language": "python",
     "metadata": {},
     "outputs": [
      {
       "metadata": {},
       "output_type": "display_data",
       "png": "[encoded data removed]",
       "text": [
        "<matplotlib.figure.Figure at 0x4e55910>"
       ]
      }
     ],
     "prompt_number": 4
    },
    {
     "cell_type": "markdown",
     "metadata": {},
     "source": [
      "Next, we can visualize some example documents. Here are 16 documents "
     ]
    },
    {
     "cell_type": "code",
     "collapsed": false,
     "input": [
      "bnpy.viz.BarsViz.plotExampleBarsDocs(Data, nDocToPlot=16, **imshowArgs);"
     ],
     "language": "python",
     "metadata": {},
     "outputs": [
      {
       "metadata": {},
       "output_type": "display_data",
       "png": "[encoded data removed]",
       "text": [
        "<matplotlib.figure.Figure at 0x948dc30>"
       ]
      }
     ],
     "prompt_number": 5
    },
    {
     "cell_type": "markdown",
     "metadata": {},
     "source": [
      "## Important keyword options for HDP topic models\n",
      "\n",
      "* ### --K\n",
      "\n",
      "The initial number of topics (aka clusters) is determined by this integer. For infinite models like the HDP, we can remove topics via merge and delete moves. These moves alone **cannot** add any topics, so the initial value of $K$ is the upper limit in each run. \n",
      "\n",
      "* ### --initname\n",
      "\n",
      "This string specifies the initialization procedure for the topic-word parameters. Here are the options\n",
      "\n",
      "    * kmeansplusplus [Recommended]\n",
      "    \n",
      "Runs kmeans on the empirical document word-count vectors, using the specified number of clusters $K$. \n",
      "    \n",
      "    * randexamples [Default]\n",
      "    \n",
      "Selects $K$ documents at random without replacement. Can be bad because it does not  \n",
      "    \n",
      "    * randomlikewang\n",
      "    \n",
      "Draws each topic-word variational parameter vector $\\tau$ as a Gamma random variable. This is the same procedure used in Wang et al.'s original Python code for HDP topic models.\n",
      "\n",
      "$$\n",
      "\\qquad \\qquad \\tau_{kv} \\sim \\mbox{Gamma}(100), \\forall k,v\n",
      "$$\n",
      "\n",
      "* ### --gamma\n",
      "\n",
      "This positive scalar controls the expected number of topics overall. Usually should be set to a moderate value like 5 or 10. \n",
      "\n",
      "* ### --alpha\n",
      "\n",
      "This positive scalar controls the sparsity of the document-topic assignments.\n",
      "\n",
      "Set this value smaller (like 0.1 or smaller) to encourage more sparsity in these distributions. \n",
      "\n",
      "Setting it large (like 10 or 100) will cause all the documents to use all the topics uniformly, which is bad.\n",
      "\n",
      "* ### --nCoordAscentItersLP\n",
      "\n",
      "This integer specifies how long to run the local \"E\" step algorithm, which alternately updates free variational parameters for (1) every token in the document, and (2) the document-specific topic distribution.\n",
      "\n",
      "Larger values will let the algorithm converge more, but at the cost of more computation. Usually setting this to 10 is too small, while 200 would maybe be too large unless there are many many topics."
     ]
    },
    {
     "cell_type": "markdown",
     "metadata": {},
     "source": [
      "## Important keyword options that control merge moves"
     ]
    },
    {
     "cell_type": "markdown",
     "metadata": {},
     "source": [
      "* ### --mergePairSelection\n",
      "\n",
      "This string specifies the routine we use to identify which pair of topics to try to merge. Here are options.\n",
      "\n",
      "    * corr [note: not the Default!]\n",
      "    \n",
      "Tracks the empirical correlation coefficient (across all documents) between the document-topic counts for a given pair of topics. This value can be in the range from -1 to 1. Positive values close to 1 indicate promising merge candidates, since the topics are frequently used to explain the same data.\n",
      "\n",
      "    * corrlimitdegree [note: not the Default]\n",
      "    \n",
      "Like `corr` above, but from the set of promising topic pairs selected using the correlation criterion, we eliminate some so that the total set of topics involved is more diverse. Specifically, we make sure that the \"degree\" of each topic (which we define as the number of selected pairs it belongs to), is below a small constant. This makes the tracking of topics more scalable by reducing the size of the set.\n",
      "  "
     ]
    },
    {
     "cell_type": "markdown",
     "metadata": {},
     "source": [
      "# Running inference with **bnpy**\n",
      "\n",
      "We'll now fit a finite topic model (LDA) with a multinomial likelihood, using standard variational inference (specified by the `VB` keyword option). \n",
      "\n",
      "We'll look at several possible initial numbers of clusters.\n",
      "\n",
      "## 5 initial clusters, repeated for 2 trials"
     ]
    },
    {
     "cell_type": "code",
     "collapsed": false,
     "input": [
      "hmodel, RInfo = bnpy.run(Data, 'FiniteTopicModel', 'Mult', 'VB',\n",
      "                         K=5, alpha=0.1, lam=0.1, initname='kmeansplusplus',\n",
      "                         nLap=500, printEvery=25, nCoordAscentItersLP=25,\n",
      "                         nTask=2, jobname='demobarsVB-Kinit=5-kmeans')"
     ],
     "language": "python",
     "metadata": {},
     "outputs": [
      {
       "output_type": "stream",
       "stream": "stdout",
       "text": [
        "Toy Bars Data with 10 true topics. Each doc uses 1-3 bars.\n"
       ]
      },
      {
       "output_type": "stream",
       "stream": "stdout",
       "text": [
        "  size: 1000 units (documents)\n",
        "  vocab size: 900\n",
        "  min    5%   50%   95%   max \n",
        "   68    76    85    92    99  nUniqueTokensPerDoc\n",
        "  100   100   100   100   100  nTotalTokensPerDoc\n",
        "Hist of word_count across tokens \n",
        "      1      2      3    <10   <100  >=100\n",
        "   0.84   0.14   0.02    200      0      0\n",
        "Hist of unique docs per word type\n",
        "     <1    <10   <100  <0.20  <0.50 >=0.50\n",
        "      0      0   0.75   0.25      0      0\n"
       ]
      },
      {
       "output_type": "stream",
       "stream": "stdout",
       "text": [
        "Allocation Model:  Finite LDA model with K=5 comps. alpha=0.10\n",
        "Obs. Data  Model:  Multinomial over finite vocabulary.\n",
        "Obs. Data  Prior:  Dirichlet over finite vocabulary \n",
        "  lam = [ 0.1  0.1] ...\n"
       ]
      },
      {
       "output_type": "stream",
       "stream": "stdout",
       "text": [
        "Learn Alg: VB\n"
       ]
      },
      {
       "output_type": "stream",
       "stream": "stdout",
       "text": [
        "Trial  1/2 | alg. seed: 2497280 | data order seed: 8541952\n"
       ]
      },
      {
       "output_type": "stream",
       "stream": "stdout",
       "text": [
        "savepath: /results/BarsK10V900/demobarsVB-Kinit=5-kmeans/1\n"
       ]
      },
      {
       "output_type": "stream",
       "stream": "stdout",
       "text": [
        "        1/500 after      1 sec. | K    5 | ev -6.497725357e+00 |  \n"
       ]
      },
      {
       "output_type": "stream",
       "stream": "stdout",
       "text": [
        "        2/500 after      1 sec. | K    5 | ev -6.474361847e+00 | Ndiff    256.402 \n"
       ]
      },
      {
       "output_type": "stream",
       "stream": "stdout",
       "text": [
        "       25/500 after      3 sec. | K    5 | ev -6.459785851e+00 | Ndiff      0.705 \n"
       ]
      },
      {
       "output_type": "stream",
       "stream": "stdout",
       "text": [
        "       37/500 after      5 sec. | K    5 | ev -6.459734310e+00 | Ndiff      0.048 \n"
       ]
      },
      {
       "output_type": "stream",
       "stream": "stdout",
       "text": [
        "... done. converged.\n"
       ]
      },
      {
       "output_type": "stream",
       "stream": "stdout",
       "text": [
        "Trial  2/2 | alg. seed: 1128064 | data order seed: 7673856\n"
       ]
      },
      {
       "output_type": "stream",
       "stream": "stdout",
       "text": [
        "savepath: /results/BarsK10V900/demobarsVB-Kinit=5-kmeans/2\n"
       ]
      },
      {
       "output_type": "stream",
       "stream": "stdout",
       "text": [
        "        1/500 after      0 sec. | K    5 | ev -6.605946952e+00 |  \n"
       ]
      },
      {
       "output_type": "stream",
       "stream": "stdout",
       "text": [
        "        2/500 after      1 sec. | K    5 | ev -6.580567563e+00 | Ndiff   1810.242 \n"
       ]
      },
      {
       "output_type": "stream",
       "stream": "stdout",
       "text": [
        "       25/500 after      4 sec. | K    5 | ev -6.548944331e+00 | Ndiff      1.797 \n"
       ]
      },
      {
       "output_type": "stream",
       "stream": "stdout",
       "text": [
        "       50/500 after      6 sec. | K    5 | ev -6.548918037e+00 | Ndiff      0.192 \n"
       ]
      },
      {
       "output_type": "stream",
       "stream": "stdout",
       "text": [
        "       75/500 after      8 sec. | K    5 | ev -6.548903603e+00 | Ndiff      0.164 \n"
       ]
      },
      {
       "output_type": "stream",
       "stream": "stdout",
       "text": [
        "       98/500 after     10 sec. | K    5 | ev -6.548881828e+00 | Ndiff      0.013 \n"
       ]
      },
      {
       "output_type": "stream",
       "stream": "stdout",
       "text": [
        "... done. converged.\n"
       ]
      }
     ],
     "prompt_number": 26
    },
    {
     "cell_type": "markdown",
     "metadata": {},
     "source": [
      "## 10 initial clusters, repeated for 2 trials"
     ]
    },
    {
     "cell_type": "code",
     "collapsed": false,
     "input": [
      "hmodel, RInfo = bnpy.run(Data, 'FiniteTopicModel', 'Mult', 'VB',\n",
      "                         K=10, alpha=0.1, lam=0.1, initname='kmeansplusplus',\n",
      "                         nLap=500, printEvery=25, nCoordAscentItersLP=25,\n",
      "                         nTask=2, jobname='demobarsVB-Kinit=10-kmeans')"
     ],
     "language": "python",
     "metadata": {},
     "outputs": [
      {
       "output_type": "stream",
       "stream": "stdout",
       "text": [
        "Toy Bars Data with 10 true topics. Each doc uses 1-3 bars.\n"
       ]
      },
      {
       "output_type": "stream",
       "stream": "stdout",
       "text": [
        "  size: 1000 units (documents)\n",
        "  vocab size: 900\n",
        "  min    5%   50%   95%   max \n",
        "   68    76    85    92    99  nUniqueTokensPerDoc\n",
        "  100   100   100   100   100  nTotalTokensPerDoc\n",
        "Hist of word_count across tokens \n",
        "      1      2      3    <10   <100  >=100\n",
        "   0.84   0.14   0.02    200      0      0\n",
        "Hist of unique docs per word type\n",
        "     <1    <10   <100  <0.20  <0.50 >=0.50\n",
        "      0      0   0.75   0.25      0      0\n"
       ]
      },
      {
       "output_type": "stream",
       "stream": "stdout",
       "text": [
        "Allocation Model:  Finite LDA model with K=10 comps. alpha=0.10\n",
        "Obs. Data  Model:  Multinomial over finite vocabulary.\n",
        "Obs. Data  Prior:  Dirichlet over finite vocabulary \n",
        "  lam = [ 0.1  0.1] ...\n"
       ]
      },
      {
       "output_type": "stream",
       "stream": "stdout",
       "text": [
        "Learn Alg: VB\n"
       ]
      },
      {
       "output_type": "stream",
       "stream": "stdout",
       "text": [
        "Trial  1/2 | alg. seed: 2497280 | data order seed: 8541952\n"
       ]
      },
      {
       "output_type": "stream",
       "stream": "stdout",
       "text": [
        "savepath: /results/BarsK10V900/demobarsVB-Kinit=10-kmeans/1\n"
       ]
      },
      {
       "output_type": "stream",
       "stream": "stdout",
       "text": [
        "        1/500 after      1 sec. | K   10 | ev -6.384955954e+00 |  \n"
       ]
      },
      {
       "output_type": "stream",
       "stream": "stdout",
       "text": [
        "        2/500 after      1 sec. | K   10 | ev -6.340769182e+00 | Ndiff    487.173 \n"
       ]
      },
      {
       "output_type": "stream",
       "stream": "stdout",
       "text": [
        "       25/500 after      5 sec. | K   10 | ev -6.294641929e+00 | Ndiff      2.642 \n"
       ]
      },
      {
       "output_type": "stream",
       "stream": "stdout",
       "text": [
        "       50/500 after      8 sec. | K   10 | ev -6.294527751e+00 | Ndiff      0.117 \n"
       ]
      },
      {
       "output_type": "stream",
       "stream": "stdout",
       "text": [
        "       54/500 after      9 sec. | K   10 | ev -6.294523143e+00 | Ndiff      0.049 \n"
       ]
      },
      {
       "output_type": "stream",
       "stream": "stdout",
       "text": [
        "... done. converged.\n"
       ]
      },
      {
       "output_type": "stream",
       "stream": "stdout",
       "text": [
        "Trial  2/2 | alg. seed: 1128064 | data order seed: 7673856\n"
       ]
      },
      {
       "output_type": "stream",
       "stream": "stdout",
       "text": [
        "savepath: /results/BarsK10V900/demobarsVB-Kinit=10-kmeans/2\n"
       ]
      },
      {
       "output_type": "stream",
       "stream": "stdout",
       "text": [
        "        1/500 after      1 sec. | K   10 | ev -6.308175604e+00 |  \n"
       ]
      },
      {
       "output_type": "stream",
       "stream": "stdout",
       "text": [
        "        2/500 after      1 sec. | K   10 | ev -6.262134141e+00 | Ndiff    467.564 \n"
       ]
      },
      {
       "output_type": "stream",
       "stream": "stdout",
       "text": [
        "       25/500 after      5 sec. | K   10 | ev -6.234179645e+00 | Ndiff      2.107 \n"
       ]
      },
      {
       "output_type": "stream",
       "stream": "stdout",
       "text": [
        "       50/500 after      8 sec. | K   10 | ev -6.234039377e+00 | Ndiff      0.527 \n"
       ]
      },
      {
       "output_type": "stream",
       "stream": "stdout",
       "text": [
        "       75/500 after     11 sec. | K   10 | ev -6.234010173e+00 | Ndiff      0.155 \n"
       ]
      },
      {
       "output_type": "stream",
       "stream": "stdout",
       "text": [
        "       98/500 after     14 sec. | K   10 | ev -6.233997917e+00 | Ndiff      0.044 \n"
       ]
      },
      {
       "output_type": "stream",
       "stream": "stdout",
       "text": [
        "... done. converged.\n"
       ]
      }
     ],
     "prompt_number": 29
    },
    {
     "cell_type": "markdown",
     "metadata": {},
     "source": [
      "## 20 initial clusters, repeated for 2 trials"
     ]
    },
    {
     "cell_type": "code",
     "collapsed": false,
     "input": [
      "hmodel, RInfo = bnpy.run(Data, 'FiniteTopicModel', 'Mult', 'VB',\n",
      "                         K=20, alpha=0.1, lam=0.1, initname='kmeansplusplus',\n",
      "                         nLap=500, printEvery=25, nCoordAscentItersLP=25,\n",
      "                         nTask=2, jobname='demobarsVB-Kinit=20-kmeans')"
     ],
     "language": "python",
     "metadata": {},
     "outputs": [
      {
       "output_type": "stream",
       "stream": "stdout",
       "text": [
        "Toy Bars Data with 10 true topics. Each doc uses 1-3 bars.\n"
       ]
      },
      {
       "output_type": "stream",
       "stream": "stdout",
       "text": [
        "  size: 1000 units (documents)\n",
        "  vocab size: 900\n",
        "  min    5%   50%   95%   max \n",
        "   68    76    85    92    99  nUniqueTokensPerDoc\n",
        "  100   100   100   100   100  nTotalTokensPerDoc\n",
        "Hist of word_count across tokens \n",
        "      1      2      3    <10   <100  >=100\n",
        "   0.84   0.14   0.02    200      0      0\n",
        "Hist of unique docs per word type\n",
        "     <1    <10   <100  <0.20  <0.50 >=0.50\n",
        "      0      0   0.75   0.25      0      0\n"
       ]
      },
      {
       "output_type": "stream",
       "stream": "stdout",
       "text": [
        "Allocation Model:  Finite LDA model with K=20 comps. alpha=0.10\n",
        "Obs. Data  Model:  Multinomial over finite vocabulary.\n",
        "Obs. Data  Prior:  Dirichlet over finite vocabulary \n",
        "  lam = [ 0.1  0.1] ...\n"
       ]
      },
      {
       "output_type": "stream",
       "stream": "stdout",
       "text": [
        "Learn Alg: VB\n"
       ]
      },
      {
       "output_type": "stream",
       "stream": "stdout",
       "text": [
        "Trial  1/2 | alg. seed: 2497280 | data order seed: 8541952\n"
       ]
      },
      {
       "output_type": "stream",
       "stream": "stdout",
       "text": [
        "savepath: /results/BarsK10V900/demobarsVB-Kinit=20-kmeans/1\n"
       ]
      },
      {
       "output_type": "stream",
       "stream": "stdout",
       "text": [
        "        1/500 after      1 sec. | K   20 | ev -6.259942731e+00 |  \n"
       ]
      },
      {
       "output_type": "stream",
       "stream": "stdout",
       "text": [
        "        2/500 after      1 sec. | K   20 | ev -6.188580434e+00 | Ndiff    553.015 \n"
       ]
      },
      {
       "output_type": "stream",
       "stream": "stdout",
       "text": [
        "       25/500 after      7 sec. | K   20 | ev -6.146453495e+00 | Ndiff      4.339 \n"
       ]
      },
      {
       "output_type": "stream",
       "stream": "stdout",
       "text": [
        "       50/500 after     11 sec. | K   20 | ev -6.146234090e+00 | Ndiff      0.115 \n"
       ]
      },
      {
       "output_type": "stream",
       "stream": "stdout",
       "text": [
        "       75/500 after     16 sec. | K   20 | ev -6.146224009e+00 | Ndiff      0.073 \n"
       ]
      },
      {
       "output_type": "stream",
       "stream": "stdout",
       "text": [
        "       99/500 after     20 sec. | K   20 | ev -6.146212419e+00 | Ndiff      0.049 \n"
       ]
      },
      {
       "output_type": "stream",
       "stream": "stdout",
       "text": [
        "... done. converged.\n"
       ]
      },
      {
       "output_type": "stream",
       "stream": "stdout",
       "text": [
        "Trial  2/2 | alg. seed: 1128064 | data order seed: 7673856\n"
       ]
      },
      {
       "output_type": "stream",
       "stream": "stdout",
       "text": [
        "savepath: /results/BarsK10V900/demobarsVB-Kinit=20-kmeans/2\n"
       ]
      },
      {
       "output_type": "stream",
       "stream": "stdout",
       "text": [
        "        1/500 after      1 sec. | K   20 | ev -6.251949641e+00 |  \n"
       ]
      },
      {
       "output_type": "stream",
       "stream": "stdout",
       "text": [
        "        2/500 after      1 sec. | K   20 | ev -6.183576703e+00 | Ndiff    719.873 \n"
       ]
      },
      {
       "output_type": "stream",
       "stream": "stdout",
       "text": [
        "       25/500 after      7 sec. | K   20 | ev -6.142806661e+00 | Ndiff      5.266 \n"
       ]
      },
      {
       "output_type": "stream",
       "stream": "stdout",
       "text": [
        "       50/500 after     11 sec. | K   20 | ev -6.142594683e+00 | Ndiff      0.627 \n"
       ]
      },
      {
       "output_type": "stream",
       "stream": "stdout",
       "text": [
        "       75/500 after     16 sec. | K   20 | ev -6.142519221e+00 | Ndiff      0.359 \n"
       ]
      },
      {
       "output_type": "stream",
       "stream": "stdout",
       "text": [
        "       96/500 after     19 sec. | K   20 | ev -6.142512753e+00 | Ndiff      0.049 \n"
       ]
      },
      {
       "output_type": "stream",
       "stream": "stdout",
       "text": [
        "... done. converged.\n"
       ]
      }
     ],
     "prompt_number": 27
    },
    {
     "cell_type": "markdown",
     "metadata": {},
     "source": [
      "## Compare trace plots of the objective over time.\n",
      "\n",
      "Here, we plot the log evidence (sometimes called the evidence lower bound or ELBO). Here, larger objective scores indicate better model quality."
     ]
    },
    {
     "cell_type": "code",
     "collapsed": false,
     "input": [
      "from matplotlib import pylab\n",
      "%pylab inline\n",
      "\n",
      "bnpy.viz.PlotELBO.plotJobsThatMatchKeywords('BarsK10V900/demobarsVB-*');\n",
      "pylab.legend(loc='lower right');"
     ],
     "language": "python",
     "metadata": {},
     "outputs": [
      {
       "output_type": "stream",
       "stream": "stdout",
       "text": [
        "Populating the interactive namespace from numpy and matplotlib\n"
       ]
      },
      {
       "metadata": {},
       "output_type": "display_data",
       "png": "[encoded data removed]",
       "text": [
        "<matplotlib.figure.Figure at 0xa3344f0>"
       ]
      }
     ],
     "prompt_number": 30
    },
    {
     "cell_type": "markdown",
     "metadata": {},
     "source": [
      "**Conclusion:** The initial number of topics matters! If we have too few topics, we cannot represent all the 10 true bars well, and the performance really suffers."
     ]
    },
    {
     "cell_type": "markdown",
     "metadata": {},
     "source": [
      "## Compare the learned topic-word parameters at different values of K\n",
      "\n",
      "We can use the `plotCompsForTask` function included in the visualization tools of **bnpy** to show the learned topic-word parameters."
     ]
    },
    {
     "cell_type": "markdown",
     "metadata": {},
     "source": [
      "* ### Final learned clusters with $K=5$ topics"
     ]
    },
    {
     "cell_type": "code",
     "collapsed": false,
     "input": [
      "bnpy.viz.PlotComps.plotCompsForTask('BarsK10V900/demobarsVB-Kinit=5-kmeans/1/', **imshowArgs)"
     ],
     "language": "python",
     "metadata": {},
     "outputs": [
      {
       "metadata": {},
       "output_type": "display_data",
       "png": "[encoded data removed]",
       "text": [
        "<matplotlib.figure.Figure at 0xaa05a50>"
       ]
      }
     ],
     "prompt_number": 42
    },
    {
     "cell_type": "markdown",
     "metadata": {},
     "source": [
      "** Conclusion:** This run discovers the 10 ideal bars topics."
     ]
    },
    {
     "cell_type": "markdown",
     "metadata": {},
     "source": [
      "* ### Final learned clusters with $K=10$ topics"
     ]
    },
    {
     "cell_type": "code",
     "collapsed": false,
     "input": [
      "bnpy.viz.PlotComps.plotCompsForTask('BarsK10V900/demobarsVB-Kinit=10-kmeans/1/', **imshowArgs)"
     ],
     "language": "python",
     "metadata": {},
     "outputs": [
      {
       "metadata": {},
       "output_type": "display_data",
       "png": "[encoded data removed]",
       "text": [
        "<matplotlib.figure.Figure at 0xadfc2f0>"
       ]
      }
     ],
     "prompt_number": 43
    },
    {
     "cell_type": "markdown",
     "metadata": {},
     "source": [
      "**Remarks:** We've found some of the true topics, but other topics (like lower left) are blends of several bars, while others (far right) are redundant copies."
     ]
    },
    {
     "cell_type": "markdown",
     "metadata": {},
     "source": [
      "* ### Final learned clusters with $K=20$ topics"
     ]
    },
    {
     "cell_type": "code",
     "collapsed": false,
     "input": [
      "bnpy.viz.PlotComps.plotCompsForTask('BarsK10V900/demobarsVB-Kinit=20-kmeans/1/', **imshowArgs)"
     ],
     "language": "python",
     "metadata": {},
     "outputs": [
      {
       "metadata": {},
       "output_type": "display_data",
       "png": "[encoded data removed]",
       "text": [
        "<matplotlib.figure.Figure at 0x8251c30>"
       ]
      }
     ],
     "prompt_number": 44
    },
    {
     "cell_type": "markdown",
     "metadata": {},
     "source": [
      "**Remarks:** We've found all 10 true topics, plus some extra \"junk\" or redundant topics."
     ]
    }
   ],
   "metadata": {}
  }
 ]
}
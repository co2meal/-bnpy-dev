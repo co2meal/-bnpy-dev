{
 "metadata": {
  "name": ""
 },
 "nbformat": 3,
 "nbformat_minor": 0,
 "worksheets": [
  {
   "cells": [
    {
     "cell_type": "markdown",
     "metadata": {},
     "source": [
      "# Learning an HDP topic model on Toy Bars Data with merges and deletes"
     ]
    },
    {
     "cell_type": "markdown",
     "metadata": {},
     "source": [
      "## Goal\n",
      "\n",
      "This demo walks you through using **bnpy** from within python to train a hierarchical Dirichlet process (HDP) topic model on **bag-of-words** data. \n",
      "\n",
      "We'll use the memoized variational inference algorithm, with merge and delete moves.\n",
      "\n",
      "We can use the following import statements to load bnpy and associated visualization tools."
     ]
    },
    {
     "cell_type": "code",
     "collapsed": false,
     "input": [
      "import bnpy\n",
      "\n",
      "from matplotlib import pylab\n",
      "%pylab inline\n",
      "\n",
      "imshowArgs = dict(interpolation='nearest', \n",
      "                  cmap='bone_r', \n",
      "                  vmin=0.0, \n",
      "                  vmax=10./900,\n",
      "                  )"
     ],
     "language": "python",
     "metadata": {},
     "outputs": [
      {
       "output_type": "stream",
       "stream": "stdout",
       "text": [
        "Populating the interactive namespace from numpy and matplotlib\n"
       ]
      }
     ],
     "prompt_number": 1
    },
    {
     "cell_type": "markdown",
     "metadata": {},
     "source": [
      "## Toy dataset : `BarsK10V900`"
     ]
    },
    {
     "cell_type": "markdown",
     "metadata": {},
     "source": [
      "We'll use a simple \"toy bars\" dataset called `BarsK10V900`, generated from the LDA topic model.\n",
      "\n",
      "**Our intended task here is to assign exactly one topic to every token. The data was generated this way.**\n",
      "\n",
      "Be aware that this is different than assigning a single cluster/topic to the entire document."
     ]
    },
    {
     "cell_type": "code",
     "collapsed": false,
     "input": [
      "import BarsK10V900\n",
      "Data = BarsK10V900.get_data(nDocTotal=1000, nWordsPerDoc=100)\n",
      "Data.name = 'BarsK10V900'"
     ],
     "language": "python",
     "metadata": {},
     "outputs": [],
     "prompt_number": 2
    },
    {
     "cell_type": "markdown",
     "metadata": {},
     "source": [
      "First, we can visualize the 10 \"true\" bar topics. Each one is a distribution over 900 vocabulary \"words\", which are represented here as individual pixels in a 30x30 image."
     ]
    },
    {
     "cell_type": "code",
     "collapsed": false,
     "input": [
      "bnpy.viz.BarsViz.showTopicsAsSquareImages(BarsK10V900.Defaults['topics'], **imshowArgs);"
     ],
     "language": "python",
     "metadata": {},
     "outputs": [
      {
       "metadata": {},
       "output_type": "display_data",
       "png": "[encoded data removed]",
       "text": [
        "<matplotlib.figure.Figure at 0x4e55890>"
       ]
      }
     ],
     "prompt_number": 3
    },
    {
     "cell_type": "markdown",
     "metadata": {},
     "source": [
      "Next, we can visualize some example documents. Here are 16 documents "
     ]
    },
    {
     "cell_type": "code",
     "collapsed": false,
     "input": [
      "bnpy.viz.BarsViz.plotExampleBarsDocs(Data, nDocToPlot=16, **imshowArgs);"
     ],
     "language": "python",
     "metadata": {},
     "outputs": [
      {
       "metadata": {},
       "output_type": "display_data",
       "png": "[encoded data removed]",
       "text": [
        "<matplotlib.figure.Figure at 0x4e555d0>"
       ]
      }
     ],
     "prompt_number": 4
    },
    {
     "cell_type": "markdown",
     "metadata": {},
     "source": [
      "## Important keyword options for HDP topic models\n",
      "\n",
      "* ### --K\n",
      "\n",
      "The initial number of topics (aka clusters) is determined by this integer. For infinite models like the HDP, we can remove topics via merge and delete moves. These moves alone **cannot** add any topics, so the initial value of $K$ is the upper limit in each run. \n",
      "\n",
      "* ### --initname\n",
      "\n",
      "This string specifies the initialization procedure for the topic-word parameters. Here are the options\n",
      "\n",
      "    * kmeansplusplus [Recommended]\n",
      "    \n",
      "Runs kmeans on the empirical document word-count vectors, using the specified number of clusters $K$. \n",
      "    \n",
      "    * randexamples [Default]\n",
      "    \n",
      "Selects $K$ documents at random without replacement. Can be bad because it does not  \n",
      "    \n",
      "    * randomlikewang\n",
      "    \n",
      "Draws each topic-word variational parameter vector $\\tau$ as a Gamma random variable. This is the same procedure used in Wang et al.'s original Python code for HDP topic models.\n",
      "\n",
      "$$\n",
      "\\qquad \\qquad \\tau_{kv} \\sim \\mbox{Gamma}(100), \\forall k,v\n",
      "$$\n",
      "\n",
      "* ### --gamma\n",
      "\n",
      "This positive scalar controls the expected number of topics overall. Usually should be set to a moderate value like 5 or 10. \n",
      "\n",
      "* ### --alpha\n",
      "\n",
      "This positive scalar controls the sparsity of the document-topic assignments.\n",
      "\n",
      "Set this value smaller (like 0.1 or smaller) to encourage more sparsity in these distributions. \n",
      "\n",
      "Setting it large (like 10 or 100) will cause all the documents to use all the topics uniformly, which is bad.\n",
      "\n",
      "* ### --nCoordAscentItersLP\n",
      "\n",
      "This integer specifies how long to run the local \"E\" step algorithm, which alternately updates free variational parameters for (1) every token in the document, and (2) the document-specific topic distribution.\n",
      "\n",
      "Larger values will let the algorithm converge more, but at the cost of more computation. Usually setting this to 10 is too small, while 200 would maybe be too large unless there are many many topics."
     ]
    },
    {
     "cell_type": "markdown",
     "metadata": {},
     "source": [
      "## Important keyword options that control merge moves"
     ]
    },
    {
     "cell_type": "markdown",
     "metadata": {},
     "source": [
      "* ### --mergePairSelection\n",
      "\n",
      "This string specifies the routine we use to identify which pair of topics to try to merge. Here are options.\n",
      "\n",
      "    * corr [note: not the Default!]\n",
      "    \n",
      "Tracks the empirical correlation coefficient (across all documents) between the document-topic counts for a given pair of topics. This value can be in the range from -1 to 1. Positive values close to 1 indicate promising merge candidates, since the topics are frequently used to explain the same data.\n",
      "\n",
      "    * corrlimitdegree [note: not the Default]\n",
      "    \n",
      "Like `corr` above, but from the set of promising topic pairs selected using the correlation criterion, we eliminate some so that the total set of topics involved is more diverse. Specifically, we make sure that the \"degree\" of each topic (which we define as the number of selected pairs it belongs to), is below a small constant. This makes the tracking of topics more scalable by reducing the size of the set.\n",
      "\n",
      "* ### --mergePerLap\n",
      "\n",
      "This integer specifies the maximum number of merge moves to try in one pass through the data. Larger values will be computationally demanding, but could produce big changes. Generally, we recommend no more than 50 or 100 merge attempts. 25 is probably a good number for toy data.\n",
      "\n",
      "Again, this is the maximum number. If the selection procedure identifies only 3 candidate pairs, then only 3 will be tracked.\n",
      "\n",
      "* ### --mergeStartLap\n",
      "\n",
      "This positive integer specifies when we should *start* performing merge moves. It defaults to 1, which means we start after the first pass through the data. Setting it to 5 would mean waiting five full passes before using the merges, which can let the initial configuration evolve to a decent place and avoid early-lap greedy removal of topics before they have a chance to improve as much as possible.\n",
      "\n",
      "* ### --mergeNumStuckBeforeQuit\n",
      "\n",
      "This integer sets the criteria for when to stop a run. It specifies how many consecutive laps we should have unsuccessful merges before we give up. "
     ]
    },
    {
     "cell_type": "markdown",
     "metadata": {},
     "source": [
      "## Important keyword options that control DELETE moves\n",
      "\n",
      "* ### --dtargetMaxSize [default is not trustworthy, you should set this carefully]\n",
      "\n",
      "Specify the maximuze sie of the target set used for the delete move. For the HDP topic model, this is measured as the number of documents.\n",
      "\n",
      "You should be very careful to set this for the dataset at hand. Too large, and computational effort for a delete proposal may be enormous. Too small, and you may not be able to delete some junk topics (which are bigger than this threshold, but still small in absolute sense). \n",
      "\n",
      "Generally, we recommend setting to 100-1000 documents. Larger is better performance, but with bigger cost. Using more than 1000 documents with large number of topics can get very expensive.\n",
      "\n",
      "* ### --deleteNumFail [default=2 is trustworthy]\n",
      "\n",
      "The number of times we can attempt to delete a specific topic before never targeting that topic again.\n",
      "\n",
      "Internally, the algorithm tracks how many failed attempts we have at each topic. If we exceed this threshold, we never try to delete that topic again. If a topic changes size drastically (e.g. its number of assigned tokens changes by more than 20% across iterations, we forget its failures and make it eligible for deletion again.\n",
      "\n",
      "The default value (2) is quite reasonable, and shouldn't need user-specific tuning."
     ]
    },
    {
     "cell_type": "markdown",
     "metadata": {},
     "source": [
      "# Running inference with **bnpy**\n",
      "\n",
      "We'll now fit an HDP topic model with a multinomial likelihood, using memoized variational inference (specified by the `moVB` keyword option). \n",
      "\n",
      "We'll initialize with many clusters, and use merge/delete moves to remove unnecessary topics.\n",
      "\n",
      "## Run with 20 initial clusters, repeated for 2 trials. "
     ]
    },
    {
     "cell_type": "code",
     "collapsed": false,
     "input": [
      "hmodel, RInfo = bnpy.run(Data, 'HDPTopicModel', 'Mult', 'moVB',\n",
      "                         moves='merge,delete',\n",
      "                         mergePerLap=25, mergePairSelection='corr', \n",
      "                         mergeNumStuckBeforeQuit=5, mergeStartLap=3,\n",
      "                         dtargetMaxSize=100,\n",
      "                         K=20, alpha=0.1, lam=0.1, initname='kmeansplusplus',\n",
      "                         nLap=50, printEvery=5, nCoordAscentItersLP=25,\n",
      "                         nTask=2, jobname='demomergedelete-Kinit=20-kmeans')"
     ],
     "language": "python",
     "metadata": {},
     "outputs": [
      {
       "output_type": "stream",
       "stream": "stdout",
       "text": [
        "Toy Bars Data with 10 true topics. Each doc uses 1-3 bars.\n"
       ]
      },
      {
       "output_type": "stream",
       "stream": "stdout",
       "text": [
        "Entire Dataset Summary:\n"
       ]
      },
      {
       "output_type": "stream",
       "stream": "stdout",
       "text": [
        "  total size: 1000 units\n",
        "  batch size: 100 units\n",
        "  num. batches: 10\n"
       ]
      },
      {
       "output_type": "stream",
       "stream": "stdout",
       "text": [
        "Data for Initialization:\n"
       ]
      },
      {
       "output_type": "stream",
       "stream": "stdout",
       "text": [
        "  size: 1000 units (documents)\n",
        "  vocab size: 900\n",
        "  min    5%   50%   95%   max \n",
        "   68    76    85    92    99  nUniqueTokensPerDoc\n",
        "  100   100   100   100   100  nTotalTokensPerDoc\n",
        "Hist of word_count across tokens \n",
        "      1      2      3    <10   <100  >=100\n",
        "   0.84   0.14   0.02    200      0      0\n",
        "Hist of unique docs per word type\n",
        "     <1    <10   <100  <0.20  <0.50 >=0.50\n",
        "      0      0   0.75   0.25      0      0\n"
       ]
      },
      {
       "output_type": "stream",
       "stream": "stdout",
       "text": [
        "Allocation Model:  HDP model with K=20 active comps. gamma=1.00. alpha=0.10\n",
        "Obs. Data  Model:  Multinomial over finite vocabulary.\n",
        "Obs. Data  Prior:  Dirichlet over finite vocabulary \n",
        "  lam = [ 0.1  0.1] ...\n"
       ]
      },
      {
       "output_type": "stream",
       "stream": "stdout",
       "text": [
        "Learn Alg: moVB\n"
       ]
      },
      {
       "output_type": "stream",
       "stream": "stdout",
       "text": [
        "Trial  1/2 | alg. seed: 1730304 | data order seed: 8541952\n"
       ]
      },
      {
       "output_type": "stream",
       "stream": "stdout",
       "text": [
        "savepath: /results/BarsK10V900/demomergedelete-Kinit=20-kmeans/1\n"
       ]
      },
      {
       "output_type": "stream",
       "stream": "stdout",
       "text": [
        "    0.100/50 after      0 sec. | K   20 | ev -6.826832272e+00 |  \n"
       ]
      },
      {
       "output_type": "stream",
       "stream": "stdout",
       "text": [
        "    0.200/50 after      0 sec. | K   20 | ev -6.577129385e+00 |  \n"
       ]
      },
      {
       "output_type": "stream",
       "stream": "stdout",
       "text": [
        "    0.300/50 after      0 sec. | K   20 | ev -6.477307977e+00 |  \n"
       ]
      },
      {
       "output_type": "stream",
       "stream": "stdout",
       "text": [
        "DELETE 2/2 accepted\n"
       ]
      },
      {
       "output_type": "stream",
       "stream": "stdout",
       "text": [
        "DELETE 3/3 accepted\n"
       ]
      },
      {
       "output_type": "stream",
       "stream": "stdout",
       "text": [
        "DELETE 1/1 accepted\n"
       ]
      },
      {
       "output_type": "stream",
       "stream": "stdout",
       "text": [
        "MERGE 4/4 accepted. ev increased  3.4525e-02\n"
       ]
      },
      {
       "output_type": "stream",
       "stream": "stdout",
       "text": [
        "MERGE 0/0 accepted. \n"
       ]
      },
      {
       "output_type": "stream",
       "stream": "stdout",
       "text": [
        "    5.000/50 after      5 sec. | K   10 | ev -6.112389614e+00 | Ndiff      4.505 \n"
       ]
      },
      {
       "output_type": "stream",
       "stream": "stdout",
       "text": [
        "MERGE 0/0 accepted. \n"
       ]
      },
      {
       "output_type": "stream",
       "stream": "stdout",
       "text": [
        "MERGE 0/0 accepted. \n"
       ]
      },
      {
       "output_type": "stream",
       "stream": "stdout",
       "text": [
        "MERGE 0/0 accepted. \n"
       ]
      },
      {
       "output_type": "stream",
       "stream": "stdout",
       "text": [
        "MERGE 0/0 accepted. \n"
       ]
      },
      {
       "output_type": "stream",
       "stream": "stdout",
       "text": [
        "MERGE 0/0 accepted. \n"
       ]
      },
      {
       "output_type": "stream",
       "stream": "stdout",
       "text": [
        "   10.000/50 after      6 sec. | K   10 | ev -6.110772920e+00 | Ndiff      0.291 \n"
       ]
      },
      {
       "output_type": "stream",
       "stream": "stdout",
       "text": [
        "MERGE 0/0 accepted. \n"
       ]
      },
      {
       "output_type": "stream",
       "stream": "stdout",
       "text": [
        "MERGE 0/0 accepted. \n"
       ]
      },
      {
       "output_type": "stream",
       "stream": "stdout",
       "text": [
        "MERGE 0/0 accepted. \n"
       ]
      },
      {
       "output_type": "stream",
       "stream": "stdout",
       "text": [
        "MERGE 0/0 accepted. \n"
       ]
      },
      {
       "output_type": "stream",
       "stream": "stdout",
       "text": [
        "MERGE 0/0 accepted. \n"
       ]
      },
      {
       "output_type": "stream",
       "stream": "stdout",
       "text": [
        "   15.000/50 after      8 sec. | K   10 | ev -6.110695305e+00 | Ndiff      0.066 \n"
       ]
      },
      {
       "output_type": "stream",
       "stream": "stdout",
       "text": [
        "MERGE 0/0 accepted. \n"
       ]
      },
      {
       "output_type": "stream",
       "stream": "stdout",
       "text": [
        "MERGE 0/0 accepted. \n"
       ]
      },
      {
       "output_type": "stream",
       "stream": "stdout",
       "text": [
        "MERGE 0/0 accepted. \n"
       ]
      },
      {
       "output_type": "stream",
       "stream": "stdout",
       "text": [
        "MERGE 0/0 accepted. \n"
       ]
      },
      {
       "output_type": "stream",
       "stream": "stdout",
       "text": [
        "MERGE 0/0 accepted. \n"
       ]
      },
      {
       "output_type": "stream",
       "stream": "stdout",
       "text": [
        "   20.000/50 after      9 sec. | K   10 | ev -6.110613432e+00 | Ndiff      0.029 \n"
       ]
      },
      {
       "output_type": "stream",
       "stream": "stdout",
       "text": [
        "MERGE 0/0 accepted. \n"
       ]
      },
      {
       "output_type": "stream",
       "stream": "stdout",
       "text": [
        "MERGE 0/0 accepted. \n"
       ]
      },
      {
       "output_type": "stream",
       "stream": "stdout",
       "text": [
        "MERGE 0/0 accepted. \n"
       ]
      },
      {
       "output_type": "stream",
       "stream": "stdout",
       "text": [
        "   23.000/50 after     10 sec. | K   10 | ev -6.110580915e+00 | Ndiff      0.007 \n"
       ]
      },
      {
       "output_type": "stream",
       "stream": "stdout",
       "text": [
        "... done. converged.\n"
       ]
      },
      {
       "output_type": "stream",
       "stream": "stdout",
       "text": [
        "Trial  2/2 | alg. seed: 2125312 | data order seed: 7673856\n"
       ]
      },
      {
       "output_type": "stream",
       "stream": "stdout",
       "text": [
        "savepath: /results/BarsK10V900/demomergedelete-Kinit=20-kmeans/2\n"
       ]
      },
      {
       "output_type": "stream",
       "stream": "stdout",
       "text": [
        "    0.100/50 after      0 sec. | K   20 | ev -6.873861427e+00 |  \n"
       ]
      },
      {
       "output_type": "stream",
       "stream": "stdout",
       "text": [
        "    0.200/50 after      0 sec. | K   20 | ev -6.560329517e+00 |  \n"
       ]
      },
      {
       "output_type": "stream",
       "stream": "stdout",
       "text": [
        "    0.300/50 after      0 sec. | K   20 | ev -6.441097962e+00 |  \n"
       ]
      },
      {
       "output_type": "stream",
       "stream": "stdout",
       "text": [
        "DELETE 2/2 accepted\n"
       ]
      },
      {
       "output_type": "stream",
       "stream": "stdout",
       "text": [
        "DELETED 1 empty comps\n"
       ]
      },
      {
       "output_type": "stream",
       "stream": "stdout",
       "text": [
        "DELETE 2/2 accepted\n"
       ]
      },
      {
       "output_type": "stream",
       "stream": "stdout",
       "text": [
        "DELETE 1/1 accepted\n"
       ]
      },
      {
       "output_type": "stream",
       "stream": "stdout",
       "text": [
        "MERGE 3/3 accepted. ev increased  2.2972e-02\n"
       ]
      },
      {
       "output_type": "stream",
       "stream": "stdout",
       "text": [
        "MERGE 0/0 accepted. \n"
       ]
      },
      {
       "output_type": "stream",
       "stream": "stdout",
       "text": [
        "    5.000/50 after      4 sec. | K   11 | ev -6.117262888e+00 | Ndiff     19.023 \n"
       ]
      },
      {
       "output_type": "stream",
       "stream": "stdout",
       "text": [
        "DELETE 1/1 accepted\n"
       ]
      },
      {
       "output_type": "stream",
       "stream": "stdout",
       "text": [
        "MERGE 0/0 accepted. \n"
       ]
      },
      {
       "output_type": "stream",
       "stream": "stdout",
       "text": [
        "MERGE 0/0 accepted. \n"
       ]
      },
      {
       "output_type": "stream",
       "stream": "stdout",
       "text": [
        "MERGE 0/0 accepted. \n"
       ]
      },
      {
       "output_type": "stream",
       "stream": "stdout",
       "text": [
        "MERGE 0/0 accepted. \n"
       ]
      },
      {
       "output_type": "stream",
       "stream": "stdout",
       "text": [
        "MERGE 0/0 accepted. \n"
       ]
      },
      {
       "output_type": "stream",
       "stream": "stdout",
       "text": [
        "   10.000/50 after      6 sec. | K   10 | ev -6.113386818e+00 | Ndiff      0.916 \n"
       ]
      },
      {
       "output_type": "stream",
       "stream": "stdout",
       "text": [
        "MERGE 0/0 accepted. \n"
       ]
      },
      {
       "output_type": "stream",
       "stream": "stdout",
       "text": [
        "MERGE 0/0 accepted. \n"
       ]
      },
      {
       "output_type": "stream",
       "stream": "stdout",
       "text": [
        "MERGE 0/0 accepted. \n"
       ]
      },
      {
       "output_type": "stream",
       "stream": "stdout",
       "text": [
        "MERGE 0/0 accepted. \n"
       ]
      },
      {
       "output_type": "stream",
       "stream": "stdout",
       "text": [
        "   14.000/50 after      7 sec. | K   10 | ev -6.113295094e+00 | Ndiff      0.008 \n"
       ]
      },
      {
       "output_type": "stream",
       "stream": "stdout",
       "text": [
        "... done. converged.\n"
       ]
      }
     ],
     "prompt_number": 5
    },
    {
     "cell_type": "markdown",
     "metadata": {},
     "source": [
      "## Run with 40 initial clusters, repeated for two trials"
     ]
    },
    {
     "cell_type": "code",
     "collapsed": false,
     "input": [
      "hmodel, RInfo = bnpy.run(Data, 'HDPTopicModel', 'Mult', 'moVB',\n",
      "                         moves='merge,delete',\n",
      "                         mergePerLap=25, mergePairSelection='corr', \n",
      "                         mergeNumStuckBeforeQuit=5, mergeStartLap=3,\n",
      "                         dtargetMaxSize=100,\n",
      "                         K=40, alpha=0.1, lam=0.1, initname='kmeansplusplus',\n",
      "                         nLap=50, printEvery=5, nCoordAscentItersLP=25,\n",
      "                         nTask=2, jobname='demomergedelete-Kinit=40-kmeans')"
     ],
     "language": "python",
     "metadata": {},
     "outputs": [
      {
       "output_type": "stream",
       "stream": "stdout",
       "text": [
        "Toy Bars Data with 10 true topics. Each doc uses 1-3 bars.\n"
       ]
      },
      {
       "output_type": "stream",
       "stream": "stdout",
       "text": [
        "Entire Dataset Summary:\n"
       ]
      },
      {
       "output_type": "stream",
       "stream": "stdout",
       "text": [
        "  total size: 1000 units\n",
        "  batch size: 100 units\n",
        "  num. batches: 10\n"
       ]
      },
      {
       "output_type": "stream",
       "stream": "stdout",
       "text": [
        "Data for Initialization:\n"
       ]
      },
      {
       "output_type": "stream",
       "stream": "stdout",
       "text": [
        "  size: 1000 units (documents)\n",
        "  vocab size: 900\n",
        "  min    5%   50%   95%   max \n",
        "   68    76    85    92    99  nUniqueTokensPerDoc\n",
        "  100   100   100   100   100  nTotalTokensPerDoc\n",
        "Hist of word_count across tokens \n",
        "      1      2      3    <10   <100  >=100\n",
        "   0.84   0.14   0.02    200      0      0\n",
        "Hist of unique docs per word type\n",
        "     <1    <10   <100  <0.20  <0.50 >=0.50\n",
        "      0      0   0.75   0.25      0      0\n"
       ]
      },
      {
       "output_type": "stream",
       "stream": "stdout",
       "text": [
        "Allocation Model:  HDP model with K=40 active comps. gamma=1.00. alpha=0.10\n",
        "Obs. Data  Model:  Multinomial over finite vocabulary.\n",
        "Obs. Data  Prior:  Dirichlet over finite vocabulary \n",
        "  lam = [ 0.1  0.1] ...\n"
       ]
      },
      {
       "output_type": "stream",
       "stream": "stdout",
       "text": [
        "Learn Alg: moVB\n"
       ]
      },
      {
       "output_type": "stream",
       "stream": "stdout",
       "text": [
        "Trial  1/2 | alg. seed: 1730304 | data order seed: 8541952\n"
       ]
      },
      {
       "output_type": "stream",
       "stream": "stdout",
       "text": [
        "savepath: /results/BarsK10V900/demomergedelete-Kinit=40-kmeans/1\n"
       ]
      },
      {
       "output_type": "stream",
       "stream": "stdout",
       "text": [
        "    0.100/50 after      0 sec. | K   40 | ev -7.125462642e+00 |  \n"
       ]
      },
      {
       "output_type": "stream",
       "stream": "stdout",
       "text": [
        "    0.200/50 after      0 sec. | K   40 | ev -6.835502157e+00 |  \n"
       ]
      },
      {
       "output_type": "stream",
       "stream": "stdout",
       "text": [
        "    0.300/50 after      1 sec. | K   40 | ev -6.702812677e+00 |  \n"
       ]
      },
      {
       "output_type": "stream",
       "stream": "stdout",
       "text": [
        "DELETED 3 empty comps\n"
       ]
      },
      {
       "output_type": "stream",
       "stream": "stdout",
       "text": [
        "DELETE 4/4 accepted\n"
       ]
      },
      {
       "output_type": "stream",
       "stream": "stdout",
       "text": [
        "DELETED 4 empty comps\n"
       ]
      },
      {
       "output_type": "stream",
       "stream": "stdout",
       "text": [
        "DELETE 4/4 accepted\n"
       ]
      },
      {
       "output_type": "stream",
       "stream": "stdout",
       "text": [
        "DELETE 3/3 accepted\n"
       ]
      },
      {
       "output_type": "stream",
       "stream": "stdout",
       "text": [
        "MERGE 10/10 accepted. ev increased  1.1177e-01\n"
       ]
      },
      {
       "output_type": "stream",
       "stream": "stdout",
       "text": [
        "MERGE 2/2 accepted. ev increased  1.3788e-02\n"
       ]
      },
      {
       "output_type": "stream",
       "stream": "stdout",
       "text": [
        "    5.000/50 after      8 sec. | K   10 | ev -6.125541990e+00 | Ndiff     16.148 \n"
       ]
      },
      {
       "output_type": "stream",
       "stream": "stdout",
       "text": [
        "MERGE 0/0 accepted. \n"
       ]
      },
      {
       "output_type": "stream",
       "stream": "stdout",
       "text": [
        "MERGE 0/0 accepted. \n"
       ]
      },
      {
       "output_type": "stream",
       "stream": "stdout",
       "text": [
        "MERGE 0/0 accepted. \n"
       ]
      },
      {
       "output_type": "stream",
       "stream": "stdout",
       "text": [
        "MERGE 0/0 accepted. \n"
       ]
      },
      {
       "output_type": "stream",
       "stream": "stdout",
       "text": [
        "MERGE 0/0 accepted. \n"
       ]
      },
      {
       "output_type": "stream",
       "stream": "stdout",
       "text": [
        "   10.000/50 after     11 sec. | K   10 | ev -6.121223288e+00 | Ndiff      0.325 \n"
       ]
      },
      {
       "output_type": "stream",
       "stream": "stdout",
       "text": [
        "MERGE 0/0 accepted. \n"
       ]
      },
      {
       "output_type": "stream",
       "stream": "stdout",
       "text": [
        "MERGE 0/0 accepted. \n"
       ]
      },
      {
       "output_type": "stream",
       "stream": "stdout",
       "text": [
        "MERGE 0/0 accepted. \n"
       ]
      },
      {
       "output_type": "stream",
       "stream": "stdout",
       "text": [
        "MERGE 0/0 accepted. \n"
       ]
      },
      {
       "output_type": "stream",
       "stream": "stdout",
       "text": [
        "MERGE 0/0 accepted. \n"
       ]
      },
      {
       "output_type": "stream",
       "stream": "stdout",
       "text": [
        "   15.000/50 after     12 sec. | K   10 | ev -6.121112266e+00 | Ndiff      0.030 \n"
       ]
      },
      {
       "output_type": "stream",
       "stream": "stdout",
       "text": [
        "MERGE 0/0 accepted. \n"
       ]
      },
      {
       "output_type": "stream",
       "stream": "stdout",
       "text": [
        "MERGE 0/0 accepted. \n"
       ]
      },
      {
       "output_type": "stream",
       "stream": "stdout",
       "text": [
        "MERGE 0/0 accepted. \n"
       ]
      },
      {
       "output_type": "stream",
       "stream": "stdout",
       "text": [
        "MERGE 0/0 accepted. \n"
       ]
      },
      {
       "output_type": "stream",
       "stream": "stdout",
       "text": [
        "MERGE 0/0 accepted. \n"
       ]
      },
      {
       "output_type": "stream",
       "stream": "stdout",
       "text": [
        "   20.000/50 after     14 sec. | K   10 | ev -6.121078540e+00 | Ndiff      0.097 \n"
       ]
      },
      {
       "output_type": "stream",
       "stream": "stdout",
       "text": [
        "MERGE 0/0 accepted. \n"
       ]
      },
      {
       "output_type": "stream",
       "stream": "stdout",
       "text": [
        "MERGE 0/0 accepted. \n"
       ]
      },
      {
       "output_type": "stream",
       "stream": "stdout",
       "text": [
        "MERGE 0/0 accepted. \n"
       ]
      },
      {
       "output_type": "stream",
       "stream": "stdout",
       "text": [
        "MERGE 0/0 accepted. \n"
       ]
      },
      {
       "output_type": "stream",
       "stream": "stdout",
       "text": [
        "MERGE 0/0 accepted. \n"
       ]
      },
      {
       "output_type": "stream",
       "stream": "stdout",
       "text": [
        "   25.000/50 after     16 sec. | K   10 | ev -6.120959711e+00 | Ndiff      0.082 \n"
       ]
      },
      {
       "output_type": "stream",
       "stream": "stdout",
       "text": [
        "MERGE 0/0 accepted. \n"
       ]
      },
      {
       "output_type": "stream",
       "stream": "stdout",
       "text": [
        "   26.000/50 after     16 sec. | K   10 | ev -6.120959653e+00 | Ndiff      0.003 \n"
       ]
      },
      {
       "output_type": "stream",
       "stream": "stdout",
       "text": [
        "... done. converged.\n"
       ]
      },
      {
       "output_type": "stream",
       "stream": "stdout",
       "text": [
        "Trial  2/2 | alg. seed: 2125312 | data order seed: 7673856\n"
       ]
      },
      {
       "output_type": "stream",
       "stream": "stdout",
       "text": [
        "savepath: /results/BarsK10V900/demomergedelete-Kinit=40-kmeans/2\n"
       ]
      },
      {
       "output_type": "stream",
       "stream": "stdout",
       "text": [
        "    0.100/50 after      0 sec. | K   40 | ev -7.137426078e+00 |  \n"
       ]
      },
      {
       "output_type": "stream",
       "stream": "stdout",
       "text": [
        "    0.200/50 after      0 sec. | K   40 | ev -6.749066825e+00 |  \n"
       ]
      },
      {
       "output_type": "stream",
       "stream": "stdout",
       "text": [
        "    0.300/50 after      0 sec. | K   40 | ev -6.594770838e+00 |  \n"
       ]
      },
      {
       "output_type": "stream",
       "stream": "stdout",
       "text": [
        "DELETE 5/5 accepted\n"
       ]
      },
      {
       "output_type": "stream",
       "stream": "stdout",
       "text": [
        "DELETED 6 empty comps\n"
       ]
      },
      {
       "output_type": "stream",
       "stream": "stdout",
       "text": [
        "DELETE 6/6 accepted\n"
       ]
      },
      {
       "output_type": "stream",
       "stream": "stdout",
       "text": [
        "DELETED 1 empty comps\n"
       ]
      },
      {
       "output_type": "stream",
       "stream": "stdout",
       "text": [
        "DELETE 2/2 accepted\n"
       ]
      },
      {
       "output_type": "stream",
       "stream": "stdout",
       "text": [
        "MERGE 7/7 accepted. ev increased  6.2589e-02\n"
       ]
      },
      {
       "output_type": "stream",
       "stream": "stdout",
       "text": [
        "MERGE 1/1 accepted. ev increased  6.8775e-03\n"
       ]
      },
      {
       "output_type": "stream",
       "stream": "stdout",
       "text": [
        "    5.000/50 after      7 sec. | K   12 | ev -6.124634018e+00 | Ndiff      7.627 \n"
       ]
      },
      {
       "output_type": "stream",
       "stream": "stdout",
       "text": [
        "MERGE 0/0 accepted. \n"
       ]
      },
      {
       "output_type": "stream",
       "stream": "stdout",
       "text": [
        "DELETE 1/1 accepted\n"
       ]
      },
      {
       "output_type": "stream",
       "stream": "stdout",
       "text": [
        "MERGE 0/0 accepted. \n"
       ]
      },
      {
       "output_type": "stream",
       "stream": "stdout",
       "text": [
        "DELETE 1/1 accepted\n"
       ]
      },
      {
       "output_type": "stream",
       "stream": "stdout",
       "text": [
        "MERGE 0/0 accepted. \n"
       ]
      },
      {
       "output_type": "stream",
       "stream": "stdout",
       "text": [
        "MERGE 0/0 accepted. \n"
       ]
      },
      {
       "output_type": "stream",
       "stream": "stdout",
       "text": [
        "MERGE 0/0 accepted. \n"
       ]
      },
      {
       "output_type": "stream",
       "stream": "stdout",
       "text": [
        "   10.000/50 after      9 sec. | K   10 | ev -6.116230050e+00 | Ndiff      0.467 \n"
       ]
      },
      {
       "output_type": "stream",
       "stream": "stdout",
       "text": [
        "MERGE 0/0 accepted. \n"
       ]
      },
      {
       "output_type": "stream",
       "stream": "stdout",
       "text": [
        "MERGE 0/0 accepted. \n"
       ]
      },
      {
       "output_type": "stream",
       "stream": "stdout",
       "text": [
        "MERGE 0/0 accepted. \n"
       ]
      },
      {
       "output_type": "stream",
       "stream": "stdout",
       "text": [
        "MERGE 0/0 accepted. \n"
       ]
      },
      {
       "output_type": "stream",
       "stream": "stdout",
       "text": [
        "MERGE 0/0 accepted. \n"
       ]
      },
      {
       "output_type": "stream",
       "stream": "stdout",
       "text": [
        "   15.000/50 after     10 sec. | K   10 | ev -6.116040914e+00 | Ndiff      0.006 \n"
       ]
      },
      {
       "output_type": "stream",
       "stream": "stdout",
       "text": [
        "... done. converged.\n"
       ]
      }
     ],
     "prompt_number": 6
    },
    {
     "cell_type": "markdown",
     "metadata": {},
     "source": [
      "## Compare the objective function over time"
     ]
    },
    {
     "cell_type": "code",
     "collapsed": false,
     "input": [
      "bnpy.viz.PlotELBO.plotJobsThatMatchKeywords('BarsK10V900/demomergedelete-*');\n",
      "pylab.ylabel('objective score', fontsize=20);\n",
      "pylab.xlabel('num laps thru dataset', fontsize=20);\n",
      "pylab.legend(loc='lower right');"
     ],
     "language": "python",
     "metadata": {},
     "outputs": [
      {
       "metadata": {},
       "output_type": "display_data",
       "png": "[encoded data removed]",
       "text": [
        "<matplotlib.figure.Figure at 0x8fccdb0>"
       ]
      }
     ],
     "prompt_number": 7
    },
    {
     "cell_type": "markdown",
     "metadata": {},
     "source": [
      "**Conclusion:** merge/delete moves can take models from very different initial values, and find similar final scores."
     ]
    },
    {
     "cell_type": "markdown",
     "metadata": {},
     "source": [
      "## Compare the number of topics over time"
     ]
    },
    {
     "cell_type": "code",
     "collapsed": false,
     "input": [
      "bnpy.viz.PlotK.plotJobsThatMatchKeywords('BarsK10V900/demomergedelete-*', yvar='K');\n",
      "pylab.ylim([0, 50]); pylab.ylabel('num topics K', fontsize=20);\n",
      "pylab.xlabel('num laps thru dataset', fontsize=20);"
     ],
     "language": "python",
     "metadata": {},
     "outputs": [
      {
       "metadata": {},
       "output_type": "display_data",
       "png": "[encoded data removed]",
       "text": [
        "<matplotlib.figure.Figure at 0xaf21550>"
       ]
      }
     ],
     "prompt_number": 8
    },
    {
     "cell_type": "markdown",
     "metadata": {},
     "source": [
      "### Final learned topic-word parameters from $K=20$ initial topics"
     ]
    },
    {
     "cell_type": "code",
     "collapsed": false,
     "input": [
      "bnpy.viz.PlotComps.plotCompsForTask('BarsK10V900/demomergedelete-Kinit=20-kmeans/1/', **imshowArgs)"
     ],
     "language": "python",
     "metadata": {},
     "outputs": [
      {
       "metadata": {},
       "output_type": "display_data",
       "png": "[encoded data removed]",
       "text": [
        "<matplotlib.figure.Figure at 0xb089830>"
       ]
      }
     ],
     "prompt_number": 9
    },
    {
     "cell_type": "markdown",
     "metadata": {},
     "source": [
      "**Conclusion**: We successfully merge/delete from 20 topics down to the true 10 bars."
     ]
    },
    {
     "cell_type": "markdown",
     "metadata": {},
     "source": [
      "### Final learned topic-word parameters from $K=40$ initial topics"
     ]
    },
    {
     "cell_type": "code",
     "collapsed": false,
     "input": [
      "bnpy.viz.PlotComps.plotCompsForTask('BarsK10V900/demomergedelete-Kinit=40-kmeans/1/', **imshowArgs)"
     ],
     "language": "python",
     "metadata": {},
     "outputs": [
      {
       "metadata": {},
       "output_type": "display_data",
       "png": "[encoded data removed]",
       "text": [
        "<matplotlib.figure.Figure at 0x8befad0>"
       ]
      }
     ],
     "prompt_number": 10
    },
    {
     "cell_type": "markdown",
     "metadata": {},
     "source": [
      "**Conclusion**: We successfully merge/delete from 40 topics down to the true 10 bars."
     ]
    }
   ],
   "metadata": {}
  }
 ]
}
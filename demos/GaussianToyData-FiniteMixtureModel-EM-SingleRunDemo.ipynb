{
 "cells": [
  {
   "cell_type": "markdown",
   "metadata": {},
   "source": [
    "# Simple Gaussian Mixture Model on Toy Data"
   ]
  },
  {
   "cell_type": "markdown",
   "metadata": {},
   "source": [
    "## Goal\n",
    "\n",
    "This demo walks you through a \"Hello World\" example of using **bnpy** from within Python.\n",
    "\n",
    "We'll train a Gaussian mixture model using expectation maximization (EM). It should only take 30 seconds to produce a nice visualization.\n",
    "\n",
    "## Installation\n",
    "\n",
    "Follow [these instructions](../Installation.md) to make sure you've got **bnpy** and its dependencies installed correctly. \n",
    "\n",
    "Throughout this demo (and other demos), we'll assume you successfully installed **bnpy** in a directory which is on your **\\$PYTHONPATH**.\n",
    "\n",
    "We can use the following import statements to load bnpy and matplotlib plotting utilities."
   ]
  },
  {
   "cell_type": "code",
   "execution_count": 1,
   "metadata": {
    "collapsed": false
   },
   "outputs": [],
   "source": [
    "import bnpy"
   ]
  },
  {
   "cell_type": "code",
   "execution_count": 2,
   "metadata": {
    "collapsed": false
   },
   "outputs": [
    {
     "name": "stdout",
     "output_type": "stream",
     "text": [
      "Populating the interactive namespace from numpy and matplotlib\n"
     ]
    }
   ],
   "source": [
    "%pylab inline\n",
    "from bnpy.viz.PlotUtil import ExportInfo\n",
    "bnpy.viz.PlotUtil.ConfigPylabDefaults(pylab)"
   ]
  },
  {
   "cell_type": "markdown",
   "metadata": {},
   "source": [
    "## Toy dataset : `AsteriskK8`"
   ]
  },
  {
   "cell_type": "markdown",
   "metadata": {},
   "source": [
    "We'll use a simple dataset of 2D points, drawn from 8 well-separated Gaussian clusters."
   ]
  },
  {
   "cell_type": "code",
   "execution_count": 3,
   "metadata": {
    "collapsed": false
   },
   "outputs": [],
   "source": [
    "import AsteriskK8\n",
    "Data = AsteriskK8.get_data()"
   ]
  },
  {
   "cell_type": "markdown",
   "metadata": {},
   "source": [
    "We can visualize this dataset as follows:"
   ]
  },
  {
   "cell_type": "code",
   "execution_count": 4,
   "metadata": {
    "collapsed": false
   },
   "outputs": [
    {
     "data": {
      "image/png": "[encoded data removed]",
      "text/plain": [
       "<matplotlib.figure.Figure at 0x86be510>"
      ]
     },
     "metadata": {},
     "output_type": "display_data"
    }
   ],
   "source": [
    "pylab.plot(Data.X[:,0], Data.X[:,1], 'k.');\n",
    "pylab.axis('image'); \n",
    "pylab.xlim([-1.75, 1.75]); pylab.xticks([-1, 0, 1]);\n",
    "pylab.ylim([-1.75, 1.75]); pylab.yticks([-1, 0, 1]);\n",
    "\n",
    "# Ignore this block. Only needed for auto-generation of documentation.\n",
    "if ExportInfo['doExport']:\n",
    "    W_in, H_in = pylab.gcf().get_size_inches()\n",
    "    figpath100 = '../docs/source/_static/GaussianToyData_%dx%d.png' % (100, 100)\n",
    "    pylab.savefig(figpath100, bbox_inches=0, pad_inches=0, dpi=ExportInfo['dpi']/W_in);"
   ]
  },
  {
   "cell_type": "markdown",
   "metadata": {},
   "source": [
    "## Running inference with **bnpy**\n",
    "\n",
    "We'll fit a $K=8$ Gaussian mixture model to a simple toy dataset.  Here's the code along with its output to **stdout**.\n"
   ]
  },
  {
   "cell_type": "code",
   "execution_count": 5,
   "metadata": {
    "collapsed": false
   },
   "outputs": [
    {
     "name": "stdout",
     "output_type": "stream",
     "text": [
      "Asterisk Toy Data. 8 true clusters.\n"
     ]
    },
    {
     "name": "stdout",
     "output_type": "stream",
     "text": [
      "  size: 25000 units (single observations)\n",
      "  dimension: 2\n"
     ]
    },
    {
     "name": "stdout",
     "output_type": "stream",
     "text": [
      "Allocation Model:  Finite mixture with K=8. Dir prior param 1.00\n",
      "Obs. Data  Model:  Gaussian with full covariance.\n",
      "Obs. Data  Prior:  Gauss-Wishart on each mean/prec matrix pair: mu, Lam\n",
      "  E[ mu[k] ]     = [ 0.  0.]\n",
      "  E[ CovMat[k] ] = \n",
      "  [[ 1.  0.]\n",
      "   [ 0.  1.]]\n"
     ]
    },
    {
     "name": "stdout",
     "output_type": "stream",
     "text": [
      "Learn Alg: EM\n"
     ]
    },
    {
     "name": "stdout",
     "output_type": "stream",
     "text": [
      "Trial  1/1 | alg. seed: 4226944 | data order seed: 8541952\n"
     ]
    },
    {
     "name": "stdout",
     "output_type": "stream",
     "text": [
      "savepath: /results/AsteriskK8/defaultjob/1\n"
     ]
    },
    {
     "name": "stdout",
     "output_type": "stream",
     "text": [
      "        1/50 after      0 sec. | K    8 | ev -5.233448743e+06 |  \n"
     ]
    },
    {
     "name": "stdout",
     "output_type": "stream",
     "text": [
      "        2/50 after      0 sec. | K    8 | ev -7.255537859e-01 | Ndiff  469.916 \n"
     ]
    },
    {
     "name": "stdout",
     "output_type": "stream",
     "text": [
      "        3/50 after      1 sec. | K    8 | ev -4.881217375e-01 | Ndiff  838.469 \n"
     ]
    },
    {
     "name": "stdout",
     "output_type": "stream",
     "text": [
      "        4/50 after      1 sec. | K    8 | ev -3.600440237e-01 | Ndiff  624.909 \n"
     ]
    },
    {
     "name": "stdout",
     "output_type": "stream",
     "text": [
      "        5/50 after      1 sec. | K    8 | ev -1.504401133e-01 | Ndiff  382.469 \n"
     ]
    },
    {
     "name": "stdout",
     "output_type": "stream",
     "text": [
      "        6/50 after      1 sec. | K    8 | ev -1.208708327e-02 | Ndiff  621.636 \n"
     ]
    },
    {
     "name": "stdout",
     "output_type": "stream",
     "text": [
      "        7/50 after      1 sec. | K    8 | ev  1.924327448e-02 | Ndiff  434.059 \n"
     ]
    },
    {
     "name": "stdout",
     "output_type": "stream",
     "text": [
      "        8/50 after      1 sec. | K    8 | ev  4.236480859e-02 | Ndiff  239.341 \n"
     ]
    },
    {
     "name": "stdout",
     "output_type": "stream",
     "text": [
      "        9/50 after      1 sec. | K    8 | ev  7.086226579e-02 | Ndiff  108.915 \n"
     ]
    },
    {
     "name": "stdout",
     "output_type": "stream",
     "text": [
      "       10/50 after      2 sec. | K    8 | ev  1.053270414e-01 | Ndiff   16.711 \n"
     ]
    },
    {
     "name": "stdout",
     "output_type": "stream",
     "text": [
      "       11/50 after      2 sec. | K    8 | ev  1.084152629e-01 | Ndiff    0.708 \n"
     ]
    },
    {
     "name": "stdout",
     "output_type": "stream",
     "text": [
      "       12/50 after      2 sec. | K    8 | ev  1.084158112e-01 | Ndiff    0.019 \n"
     ]
    },
    {
     "name": "stdout",
     "output_type": "stream",
     "text": [
      "       13/50 after      2 sec. | K    8 | ev  1.084158115e-01 | Ndiff    0.000 \n"
     ]
    },
    {
     "name": "stdout",
     "output_type": "stream",
     "text": [
      "... done. converged.\n"
     ]
    }
   ],
   "source": [
    "hmodel, RInfo = bnpy.run('AsteriskK8', 'FiniteMixtureModel', 'Gauss', 'EM', nLap=50, K=8, convergeThr=0.001)"
   ]
  },
  {
   "cell_type": "markdown",
   "metadata": {},
   "source": [
    "That's it.  **bnpy.run** is the function that runs experiments. It handles loading data, constructing models and applying learning algorithms.\n",
    "\n",
    "## Frequently Asked Questions\n",
    "\n",
    "### Where are results saved?\n",
    "\n",
    "Model parameters will also be saved to a subdirectory of $BNPYOUTDIR."
   ]
  },
  {
   "cell_type": "markdown",
   "metadata": {},
   "source": [
    "### How do I plot the objective function over time?\n",
    "\n",
    "Here, we plot the log evidence (sometimes called the evidence lower bound or ELBO)."
   ]
  },
  {
   "cell_type": "code",
   "execution_count": 6,
   "metadata": {
    "collapsed": false
   },
   "outputs": [
    {
     "data": {
      "text/plain": [
       "(-3.8, 1.2)"
      ]
     },
     "execution_count": 6,
     "metadata": {},
     "output_type": "execute_result"
    },
    {
     "data": {
      "image/png": "[encoded data removed]",
      "text/plain": [
       "<matplotlib.figure.Figure at 0x88801b0>"
      ]
     },
     "metadata": {},
     "output_type": "display_data"
    }
   ],
   "source": [
    "bnpy.viz.PlotELBO.plotJobsThatMatchKeywords('AsteriskK8/defaultjob', taskids=1);\n",
    "pylab.ylim([-3.8, 1.2])"
   ]
  },
  {
   "cell_type": "markdown",
   "metadata": {},
   "source": [
    "### How do I plot the learned model parameters?\n",
    "\n",
    "We can examine the resulting model parameters (means and covariances) using **bnpy**'s built-in [visualization tools](../Code/Viz/Visualization.md)."
   ]
  },
  {
   "cell_type": "markdown",
   "metadata": {},
   "source": [
    "Specifically, we can use the `plotCompsForTask` method to visualize the final result of this run.  \n",
    "\n",
    "This creates a 2D plot of the 8 learned components (colored elliptical contours).\n",
    "\n",
    "Each component's Gaussian pdf is shown as a contour plot, where lines represent contours of equal probability density. The contours of a Gaussian always form an ellipse. \n"
   ]
  },
  {
   "cell_type": "code",
   "execution_count": 7,
   "metadata": {
    "collapsed": false
   },
   "outputs": [
    {
     "data": {
      "image/png": "[encoded data removed]",
      "text/plain": [
       "<matplotlib.figure.Figure at 0x16e0b30>"
      ]
     },
     "metadata": {},
     "output_type": "display_data"
    }
   ],
   "source": [
    "bnpy.viz.PlotComps.plotCompsForTask('AsteriskK8/defaultjob/1/', Data=Data);\n",
    "pylab.axis('image'); \n",
    "pylab.xlim([-1.75, 1.75]); pylab.xticks([-1, 0, 1]);\n",
    "pylab.ylim([-1.75, 1.75]); pylab.yticks([-1, 0, 1]);\n",
    "\n",
    "# Ignore this block. Only needed for auto-generation of documentation.\n",
    "if ExportInfo['doExport']:\n",
    "    W_in, H_in = pylab.gcf().get_size_inches()\n",
    "    figpath100 = '../docs/source/_static/GaussianToyData_FiniteMixtureModel_EM_SingleRunDemo_%dx%d.png' % (100, 100)\n",
    "    pylab.savefig(figpath100, bbox_inches=0, pad_inches=0, dpi=ExportInfo['dpi']/W_in);"
   ]
  },
  {
   "cell_type": "markdown",
   "metadata": {},
   "source": [
    "### Will the solution always be perfect?\n",
    "\n",
    "No learning algorithm in **bnpy** is guaranteed to find the best solution.  Instead, EM and variational inference are vulnerable to *local optima*. We think this is important to highlight from the first demo, to raise awareness of this issue."
   ]
  }
 ],
 "metadata": {
  "kernelspec": {
   "display_name": "Python 2",
   "language": "python",
   "name": "python2"
  },
  "language_info": {
   "codemirror_mode": {
    "name": "ipython",
    "version": 2
   },
   "file_extension": ".py",
   "mimetype": "text/x-python",
   "name": "python",
   "nbconvert_exporter": "python",
   "pygments_lexer": "ipython2",
   "version": "2.7.3"
  }
 },
 "nbformat": 4,
 "nbformat_minor": 0
}
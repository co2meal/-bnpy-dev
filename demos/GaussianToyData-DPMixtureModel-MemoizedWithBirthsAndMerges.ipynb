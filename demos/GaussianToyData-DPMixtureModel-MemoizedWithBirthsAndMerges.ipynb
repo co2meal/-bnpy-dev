{
 "metadata": {
  "name": ""
 },
 "nbformat": 3,
 "nbformat_minor": 0,
 "worksheets": [
  {
   "cells": [
    {
     "cell_type": "markdown",
     "metadata": {},
     "source": [
      "# Learning DP Gaussian Mixtures on Toy Data with Birth and Merge moves"
     ]
    },
    {
     "cell_type": "markdown",
     "metadata": {},
     "source": [
      "## Goal\n",
      "\n",
      "This demo walks you through a \"Hello World\" example of using **bnpy** from within Python.\n",
      "\n",
      "We'll train a Dirichlet process (DP) Gaussian mixture model using memoized variational inference. \n",
      "\n",
      "We can use the following import statements to load bnpy."
     ]
    },
    {
     "cell_type": "code",
     "collapsed": false,
     "input": [
      "import bnpy"
     ],
     "language": "python",
     "metadata": {},
     "outputs": [],
     "prompt_number": 1
    },
    {
     "cell_type": "markdown",
     "metadata": {},
     "source": [
      "## Toy dataset : `AsteriskK8`"
     ]
    },
    {
     "cell_type": "markdown",
     "metadata": {},
     "source": [
      "We'll use a simple dataset of 2D points, drawn from 8 well-separated Gaussian clusters.\n",
      "\n",
      "Our goal will be to recover the true set of 8 clusters."
     ]
    },
    {
     "cell_type": "code",
     "collapsed": false,
     "input": [
      "import AsteriskK8\n",
      "Data = AsteriskK8.get_data()"
     ],
     "language": "python",
     "metadata": {},
     "outputs": []
    },
    {
     "cell_type": "markdown",
     "metadata": {},
     "source": [
      "We can visualize this dataset as follows:"
     ]
    },
    {
     "cell_type": "code",
     "collapsed": false,
     "input": [
      "from matplotlib import pylab\n",
      "%pylab inline"
     ],
     "language": "python",
     "metadata": {},
     "outputs": [
      {
       "output_type": "stream",
       "stream": "stdout",
       "text": [
        "Populating the interactive namespace from numpy and matplotlib\n"
       ]
      }
     ],
     "prompt_number": 10
    },
    {
     "cell_type": "code",
     "collapsed": false,
     "input": [
      "pylab.plot(Data.X[:,0], Data.X[:,1], 'k.');\n",
      "pylab.gcf().set_size_inches(4, 4);\n",
      "pylab.axis('image'); pylab.xlim([-1.75, 1.75]); pylab.ylim([-1.75, 1.75]);"
     ],
     "language": "python",
     "metadata": {},
     "outputs": [
      {
       "metadata": {},
       "output_type": "display_data",
       "png": "[encoded data removed]",
       "text": [
        "<matplotlib.figure.Figure at 0x95636f0>"
       ]
      }
     ],
     "prompt_number": 15
    },
    {
     "cell_type": "markdown",
     "metadata": {},
     "source": [
      "# Running inference with **bnpy**\n",
      "\n",
      "We'll fit a DP Gaussian mixture model, using birth and merge moves. We use the `moves` keyword argument to specify which moves to employ.\n",
      "\n",
      "We'll look at several possible initial numbers of clusters, and show that the birth/merge moves consistently reach the ideal set of 8 clusters.\n",
      "\n",
      "## 1 initial cluster, repeated for 2 trials"
     ]
    },
    {
     "cell_type": "code",
     "collapsed": false,
     "input": [
      "hmodel, RInfo = bnpy.run('AsteriskK8', 'DPMixtureModel', 'Gauss', 'moVB',\n",
      "                         nLap=20, K=1, moves='birth,merge', \n",
      "                         nTask=2, jobname='demobirthmerge-Kinit=1')"
     ],
     "language": "python",
     "metadata": {},
     "outputs": [
      {
       "output_type": "stream",
       "stream": "stdout",
       "text": [
        "Asterisk Toy Data. 8 true clusters.\n"
       ]
      },
      {
       "output_type": "stream",
       "stream": "stdout",
       "text": [
        "Entire Dataset Summary:\n"
       ]
      },
      {
       "output_type": "stream",
       "stream": "stdout",
       "text": [
        "  total size: 25000 units\n",
        "  batch size: 2500 units\n",
        "  num. batches: 10\n"
       ]
      },
      {
       "output_type": "stream",
       "stream": "stdout",
       "text": [
        "Data for Initialization:\n"
       ]
      },
      {
       "output_type": "stream",
       "stream": "stdout",
       "text": [
        "  size: 25000 units (single observations)\n",
        "  dimension: 2\n"
       ]
      },
      {
       "output_type": "stream",
       "stream": "stdout",
       "text": [
        "Allocation Model:  DP mixture with K=1. Concentration gamma0= 1.00\n",
        "Obs. Data  Model:  Gaussian with full covariance.\n",
        "Obs. Data  Prior:  Gauss-Wishart on each mean/prec matrix pair: mu, Lam\n",
        "  E[ mu[k] ]     = [ 0.  0.]\n",
        "  E[ CovMat[k] ] = \n",
        "  [[ 1.  0.]\n",
        "   [ 0.  1.]]\n"
       ]
      },
      {
       "output_type": "stream",
       "stream": "stdout",
       "text": [
        "Learn Alg: moVB\n"
       ]
      },
      {
       "output_type": "stream",
       "stream": "stdout",
       "text": [
        "Trial  1/2 | alg. seed: 2497280 | data order seed: 8541952\n"
       ]
      },
      {
       "output_type": "stream",
       "stream": "stdout",
       "text": [
        "savepath: /results/AsteriskK8/demobirthmerge-Kinit=1/1\n"
       ]
      },
      {
       "output_type": "stream",
       "stream": "stdout",
       "text": [
        "    0.100/20 after      0 sec. | K    1 | ev -1.108127377e+00 |  \n"
       ]
      },
      {
       "output_type": "stream",
       "stream": "stdout",
       "text": [
        "    0.200/20 after      0 sec. | K    1 | ev -1.108663274e+00 |  \n"
       ]
      },
      {
       "output_type": "stream",
       "stream": "stdout",
       "text": [
        "    0.300/20 after      0 sec. | K    1 | ev -1.110766628e+00 |  \n"
       ]
      },
      {
       "output_type": "stream",
       "stream": "stdout",
       "text": [
        "    1.000/20 after      0 sec. | K    1 | ev -1.104282665e+00 |  \n"
       ]
      },
      {
       "output_type": "stream",
       "stream": "stdout",
       "text": [
        "BIRTH ACCEPTED. 4 fresh comps.\n"
       ]
      },
      {
       "output_type": "stream",
       "stream": "stdout",
       "text": [
        "MERGE 0/3 accepted. \n"
       ]
      },
      {
       "output_type": "stream",
       "stream": "stdout",
       "text": [
        "    2.000/20 after      0 sec. | K    5 | ev -1.016891994e+00 | Ndiff    545.066 \n"
       ]
      },
      {
       "output_type": "stream",
       "stream": "stdout",
       "text": [
        "BIRTH ACCEPTED. 3 fresh comps.\n"
       ]
      },
      {
       "output_type": "stream",
       "stream": "stdout",
       "text": [
        "MERGE 0/5 accepted. \n"
       ]
      },
      {
       "output_type": "stream",
       "stream": "stdout",
       "text": [
        "    3.000/20 after      1 sec. | K    8 | ev -7.642300722e-01 | Ndiff   1068.284 \n"
       ]
      },
      {
       "output_type": "stream",
       "stream": "stdout",
       "text": [
        "BIRTH ACCEPTED. 4 fresh comps.\n"
       ]
      },
      {
       "output_type": "stream",
       "stream": "stdout",
       "text": [
        "MERGE 3/8 accepted. ev increased  1.9837e-03\n"
       ]
      },
      {
       "output_type": "stream",
       "stream": "stdout",
       "text": [
        "    4.000/20 after      1 sec. | K    9 | ev -4.743017979e-01 | Ndiff   1032.489 \n"
       ]
      },
      {
       "output_type": "stream",
       "stream": "stdout",
       "text": [
        "BIRTH ACCEPTED. 5 fresh comps.\n"
       ]
      },
      {
       "output_type": "stream",
       "stream": "stdout",
       "text": [
        "MERGE 2/9 accepted. ev increased  2.5825e-03\n"
       ]
      },
      {
       "output_type": "stream",
       "stream": "stdout",
       "text": [
        "    5.000/20 after      2 sec. | K   12 | ev -3.074946741e-01 | Ndiff    412.162 \n"
       ]
      },
      {
       "output_type": "stream",
       "stream": "stdout",
       "text": [
        "BIRTH ACCEPTED. 4 fresh comps.\n"
       ]
      },
      {
       "output_type": "stream",
       "stream": "stdout",
       "text": [
        "MERGE 4/5 accepted. ev increased  1.3074e-02\n"
       ]
      },
      {
       "output_type": "stream",
       "stream": "stdout",
       "text": [
        "    6.000/20 after      2 sec. | K   12 | ev -1.276881407e-01 | Ndiff    277.107 \n"
       ]
      },
      {
       "output_type": "stream",
       "stream": "stdout",
       "text": [
        "BIRTH ACCEPTED. 4 fresh comps.\n"
       ]
      },
      {
       "output_type": "stream",
       "stream": "stdout",
       "text": [
        "MERGE 5/7 accepted. ev increased  4.9037e-03\n"
       ]
      },
      {
       "output_type": "stream",
       "stream": "stdout",
       "text": [
        "    7.000/20 after      3 sec. | K   11 | ev -2.572591276e-02 | Ndiff    216.745 \n"
       ]
      },
      {
       "output_type": "stream",
       "stream": "stdout",
       "text": [
        "MERGE 1/1 accepted. ev increased  4.6030e-04\n"
       ]
      },
      {
       "output_type": "stream",
       "stream": "stdout",
       "text": [
        "    8.000/20 after      3 sec. | K   10 | ev -2.584905797e-03 | Ndiff     39.118 \n"
       ]
      },
      {
       "output_type": "stream",
       "stream": "stdout",
       "text": [
        "MERGE 1/1 accepted. ev increased  3.2250e-04\n"
       ]
      },
      {
       "output_type": "stream",
       "stream": "stdout",
       "text": [
        "    9.000/20 after      3 sec. | K    9 | ev  1.109397198e-03 | Ndiff     12.643 \n"
       ]
      },
      {
       "output_type": "stream",
       "stream": "stdout",
       "text": [
        "MERGE 0/0 accepted. \n"
       ]
      },
      {
       "output_type": "stream",
       "stream": "stdout",
       "text": [
        "   10.000/20 after      3 sec. | K    9 | ev  1.803132779e-03 | Ndiff      4.367 \n"
       ]
      },
      {
       "output_type": "stream",
       "stream": "stdout",
       "text": [
        "MERGE 0/0 accepted. \n"
       ]
      },
      {
       "output_type": "stream",
       "stream": "stdout",
       "text": [
        "   11.000/20 after      3 sec. | K    9 | ev  1.996103141e-03 | Ndiff      0.794 \n"
       ]
      },
      {
       "output_type": "stream",
       "stream": "stdout",
       "text": [
        "MERGE 0/0 accepted. \n"
       ]
      },
      {
       "output_type": "stream",
       "stream": "stdout",
       "text": [
        "   12.000/20 after      4 sec. | K    9 | ev  2.072616626e-03 | Ndiff      0.198 \n"
       ]
      },
      {
       "output_type": "stream",
       "stream": "stdout",
       "text": [
        "MERGE 1/1 accepted. ev increased  2.0252e-04\n"
       ]
      },
      {
       "output_type": "stream",
       "stream": "stdout",
       "text": [
        "   13.000/20 after      4 sec. | K    8 | ev  2.408926998e-03 | Ndiff      0.017 \n"
       ]
      },
      {
       "output_type": "stream",
       "stream": "stdout",
       "text": [
        "MERGE 0/0 accepted. \n"
       ]
      },
      {
       "output_type": "stream",
       "stream": "stdout",
       "text": [
        "   14.000/20 after      4 sec. | K    8 | ev  2.408927530e-03 | Ndiff      0.000 \n"
       ]
      },
      {
       "output_type": "stream",
       "stream": "stdout",
       "text": [
        "MERGE 0/0 accepted. \n"
       ]
      },
      {
       "output_type": "stream",
       "stream": "stdout",
       "text": [
        "   15.000/20 after      4 sec. | K    8 | ev  2.408927530e-03 | Ndiff      0.000 \n"
       ]
      },
      {
       "output_type": "stream",
       "stream": "stdout",
       "text": [
        "MERGE 0/0 accepted. \n"
       ]
      },
      {
       "output_type": "stream",
       "stream": "stdout",
       "text": [
        "   16.000/20 after      4 sec. | K    8 | ev  2.408927530e-03 | Ndiff      0.000 \n"
       ]
      },
      {
       "output_type": "stream",
       "stream": "stdout",
       "text": [
        "MERGE 0/0 accepted. \n"
       ]
      },
      {
       "output_type": "stream",
       "stream": "stdout",
       "text": [
        "   17.000/20 after      4 sec. | K    8 | ev  2.408927530e-03 | Ndiff      0.000 \n"
       ]
      },
      {
       "output_type": "stream",
       "stream": "stdout",
       "text": [
        "MERGE 0/0 accepted. \n"
       ]
      },
      {
       "output_type": "stream",
       "stream": "stdout",
       "text": [
        "   18.000/20 after      5 sec. | K    8 | ev  2.408927530e-03 | Ndiff      0.000 \n"
       ]
      },
      {
       "output_type": "stream",
       "stream": "stdout",
       "text": [
        "MERGE 0/0 accepted. \n"
       ]
      },
      {
       "output_type": "stream",
       "stream": "stdout",
       "text": [
        "   19.000/20 after      5 sec. | K    8 | ev  2.408927530e-03 | Ndiff      0.000 \n"
       ]
      },
      {
       "output_type": "stream",
       "stream": "stdout",
       "text": [
        "MERGE 0/0 accepted. \n"
       ]
      },
      {
       "output_type": "stream",
       "stream": "stdout",
       "text": [
        "   20.000/20 after      5 sec. | K    8 | ev  2.408927530e-03 | Ndiff      0.000 \n"
       ]
      },
      {
       "output_type": "stream",
       "stream": "stdout",
       "text": [
        "... done. converged.\n"
       ]
      },
      {
       "output_type": "stream",
       "stream": "stdout",
       "text": [
        "Trial  2/2 | alg. seed: 1128064 | data order seed: 7673856\n"
       ]
      },
      {
       "output_type": "stream",
       "stream": "stdout",
       "text": [
        "savepath: /results/AsteriskK8/demobirthmerge-Kinit=1/2\n"
       ]
      },
      {
       "output_type": "stream",
       "stream": "stdout",
       "text": [
        "    0.100/20 after      0 sec. | K    1 | ev -1.106116048e+00 |  \n"
       ]
      },
      {
       "output_type": "stream",
       "stream": "stdout",
       "text": [
        "    0.200/20 after      0 sec. | K    1 | ev -1.106848843e+00 |  \n"
       ]
      },
      {
       "output_type": "stream",
       "stream": "stdout",
       "text": [
        "    0.300/20 after      0 sec. | K    1 | ev -1.107106005e+00 |  \n"
       ]
      },
      {
       "output_type": "stream",
       "stream": "stdout",
       "text": [
        "    1.000/20 after      0 sec. | K    1 | ev -1.104282665e+00 |  \n"
       ]
      },
      {
       "output_type": "stream",
       "stream": "stdout",
       "text": [
        "BIRTH ACCEPTED. 4 fresh comps.\n"
       ]
      },
      {
       "output_type": "stream",
       "stream": "stdout",
       "text": [
        "MERGE 0/3 accepted. \n"
       ]
      },
      {
       "output_type": "stream",
       "stream": "stdout",
       "text": [
        "    2.000/20 after      0 sec. | K    5 | ev -1.034087643e+00 | Ndiff    461.926 \n"
       ]
      },
      {
       "output_type": "stream",
       "stream": "stdout",
       "text": [
        "BIRTH ACCEPTED. 3 fresh comps.\n"
       ]
      },
      {
       "output_type": "stream",
       "stream": "stdout",
       "text": [
        "MERGE 1/5 accepted. ev increased  8.4192e-05\n"
       ]
      },
      {
       "output_type": "stream",
       "stream": "stdout",
       "text": [
        "    3.000/20 after      1 sec. | K    7 | ev -7.444108143e-01 | Ndiff   1080.763 \n"
       ]
      },
      {
       "output_type": "stream",
       "stream": "stdout",
       "text": [
        "BIRTH ACCEPTED. 3 fresh comps.\n"
       ]
      },
      {
       "output_type": "stream",
       "stream": "stdout",
       "text": [
        "MERGE 2/6 accepted. ev increased  4.4727e-03\n"
       ]
      },
      {
       "output_type": "stream",
       "stream": "stdout",
       "text": [
        "    4.000/20 after      1 sec. | K    8 | ev -4.684278566e-01 | Ndiff    632.104 \n"
       ]
      },
      {
       "output_type": "stream",
       "stream": "stdout",
       "text": [
        "BIRTH ACCEPTED. 3 fresh comps.\n"
       ]
      },
      {
       "output_type": "stream",
       "stream": "stdout",
       "text": [
        "MERGE 1/6 accepted. ev increased  2.8012e-04\n"
       ]
      },
      {
       "output_type": "stream",
       "stream": "stdout",
       "text": [
        "    5.000/20 after      1 sec. | K   10 | ev -3.695900973e-01 | Ndiff    352.647 \n"
       ]
      },
      {
       "output_type": "stream",
       "stream": "stdout",
       "text": [
        "BIRTH ACCEPTED. 4 fresh comps.\n"
       ]
      },
      {
       "output_type": "stream",
       "stream": "stdout",
       "text": [
        "MERGE 4/7 accepted. ev increased  3.7992e-03\n"
       ]
      },
      {
       "output_type": "stream",
       "stream": "stdout",
       "text": [
        "    6.000/20 after      2 sec. | K   10 | ev -1.409357981e-01 | Ndiff    284.190 \n"
       ]
      },
      {
       "output_type": "stream",
       "stream": "stdout",
       "text": [
        "BIRTH ACCEPTED. 3 fresh comps.\n"
       ]
      },
      {
       "output_type": "stream",
       "stream": "stdout",
       "text": [
        "MERGE 3/5 accepted. ev increased  1.0351e-02\n"
       ]
      },
      {
       "output_type": "stream",
       "stream": "stdout",
       "text": [
        "    7.000/20 after      2 sec. | K   10 | ev -2.126028050e-02 | Ndiff    130.023 \n"
       ]
      },
      {
       "output_type": "stream",
       "stream": "stdout",
       "text": [
        "MERGE 0/1 accepted. \n"
       ]
      },
      {
       "output_type": "stream",
       "stream": "stdout",
       "text": [
        "    8.000/20 after      2 sec. | K   10 | ev -2.017934874e-03 | Ndiff     47.118 \n"
       ]
      },
      {
       "output_type": "stream",
       "stream": "stdout",
       "text": [
        "MERGE 1/1 accepted. ev increased  1.3809e-04\n"
       ]
      },
      {
       "output_type": "stream",
       "stream": "stdout",
       "text": [
        "    9.000/20 after      2 sec. | K    9 | ev  1.113776726e-03 | Ndiff     16.418 \n"
       ]
      },
      {
       "output_type": "stream",
       "stream": "stdout",
       "text": [
        "MERGE 0/0 accepted. \n"
       ]
      },
      {
       "output_type": "stream",
       "stream": "stdout",
       "text": [
        "   10.000/20 after      3 sec. | K    9 | ev  1.808072227e-03 | Ndiff      2.962 \n"
       ]
      },
      {
       "output_type": "stream",
       "stream": "stdout",
       "text": [
        "MERGE 0/0 accepted. \n"
       ]
      },
      {
       "output_type": "stream",
       "stream": "stdout",
       "text": [
        "   11.000/20 after      3 sec. | K    9 | ev  1.993362590e-03 | Ndiff      0.700 \n"
       ]
      },
      {
       "output_type": "stream",
       "stream": "stdout",
       "text": [
        "MERGE 0/0 accepted. \n"
       ]
      },
      {
       "output_type": "stream",
       "stream": "stdout",
       "text": [
        "   12.000/20 after      3 sec. | K    9 | ev  2.067939012e-03 | Ndiff      0.110 \n"
       ]
      },
      {
       "output_type": "stream",
       "stream": "stdout",
       "text": [
        "MERGE 1/1 accepted. ev increased  2.0341e-04\n"
       ]
      },
      {
       "output_type": "stream",
       "stream": "stdout",
       "text": [
        "   13.000/20 after      3 sec. | K    8 | ev  2.409556966e-03 | Ndiff      0.007 \n"
       ]
      },
      {
       "output_type": "stream",
       "stream": "stdout",
       "text": [
        "MERGE 0/0 accepted. \n"
       ]
      },
      {
       "output_type": "stream",
       "stream": "stdout",
       "text": [
        "   14.000/20 after      3 sec. | K    8 | ev  2.409564246e-03 | Ndiff      0.000 \n"
       ]
      },
      {
       "output_type": "stream",
       "stream": "stdout",
       "text": [
        "MERGE 0/0 accepted. \n"
       ]
      },
      {
       "output_type": "stream",
       "stream": "stdout",
       "text": [
        "   15.000/20 after      3 sec. | K    8 | ev  2.409564246e-03 | Ndiff      0.000 \n"
       ]
      },
      {
       "output_type": "stream",
       "stream": "stdout",
       "text": [
        "MERGE 0/0 accepted. \n"
       ]
      },
      {
       "output_type": "stream",
       "stream": "stdout",
       "text": [
        "   16.000/20 after      4 sec. | K    8 | ev  2.409564246e-03 | Ndiff      0.000 \n"
       ]
      },
      {
       "output_type": "stream",
       "stream": "stdout",
       "text": [
        "MERGE 0/0 accepted. \n"
       ]
      },
      {
       "output_type": "stream",
       "stream": "stdout",
       "text": [
        "   17.000/20 after      4 sec. | K    8 | ev  2.409564246e-03 | Ndiff      0.000 \n"
       ]
      },
      {
       "output_type": "stream",
       "stream": "stdout",
       "text": [
        "MERGE 0/0 accepted. \n"
       ]
      },
      {
       "output_type": "stream",
       "stream": "stdout",
       "text": [
        "   18.000/20 after      4 sec. | K    8 | ev  2.409564246e-03 | Ndiff      0.000 \n"
       ]
      },
      {
       "output_type": "stream",
       "stream": "stdout",
       "text": [
        "MERGE 0/0 accepted. \n"
       ]
      },
      {
       "output_type": "stream",
       "stream": "stdout",
       "text": [
        "   19.000/20 after      4 sec. | K    8 | ev  2.409564246e-03 | Ndiff      0.000 \n"
       ]
      },
      {
       "output_type": "stream",
       "stream": "stdout",
       "text": [
        "MERGE 0/0 accepted. \n"
       ]
      },
      {
       "output_type": "stream",
       "stream": "stdout",
       "text": [
        "   20.000/20 after      4 sec. | K    8 | ev  2.409564246e-03 | Ndiff      0.000 \n"
       ]
      },
      {
       "output_type": "stream",
       "stream": "stdout",
       "text": [
        "... done. converged.\n"
       ]
      }
     ],
     "prompt_number": 27
    },
    {
     "cell_type": "markdown",
     "metadata": {},
     "source": [
      "## 4 initial clusters, repeated for 2 trials"
     ]
    },
    {
     "cell_type": "code",
     "collapsed": false,
     "input": [
      "hmodel, RInfo = bnpy.run('AsteriskK8', 'DPMixtureModel', 'Gauss', 'moVB',\n",
      "                         nLap=20, K=4, moves='birth,merge',\n",
      "                         nTask=2, jobname='demobirthmerge-Kinit=4')"
     ],
     "language": "python",
     "metadata": {},
     "outputs": [
      {
       "output_type": "stream",
       "stream": "stdout",
       "text": [
        "Asterisk Toy Data. 8 true clusters.\n"
       ]
      },
      {
       "output_type": "stream",
       "stream": "stdout",
       "text": [
        "Entire Dataset Summary:\n"
       ]
      },
      {
       "output_type": "stream",
       "stream": "stdout",
       "text": [
        "  total size: 25000 units\n",
        "  batch size: 2500 units\n",
        "  num. batches: 10\n"
       ]
      },
      {
       "output_type": "stream",
       "stream": "stdout",
       "text": [
        "Data for Initialization:\n"
       ]
      },
      {
       "output_type": "stream",
       "stream": "stdout",
       "text": [
        "  size: 25000 units (single observations)\n",
        "  dimension: 2\n"
       ]
      },
      {
       "output_type": "stream",
       "stream": "stdout",
       "text": [
        "Allocation Model:  DP mixture with K=4. Concentration gamma0= 1.00\n",
        "Obs. Data  Model:  Gaussian with full covariance.\n",
        "Obs. Data  Prior:  Gauss-Wishart on each mean/prec matrix pair: mu, Lam\n",
        "  E[ mu[k] ]     = [ 0.  0.]\n",
        "  E[ CovMat[k] ] = \n",
        "  [[ 1.  0.]\n",
        "   [ 0.  1.]]\n"
       ]
      },
      {
       "output_type": "stream",
       "stream": "stdout",
       "text": [
        "Learn Alg: moVB\n"
       ]
      },
      {
       "output_type": "stream",
       "stream": "stdout",
       "text": [
        "Trial  1/2 | alg. seed: 2497280 | data order seed: 8541952\n"
       ]
      },
      {
       "output_type": "stream",
       "stream": "stdout",
       "text": [
        "savepath: /results/AsteriskK8/demobirthmerge-Kinit=4/1\n"
       ]
      },
      {
       "output_type": "stream",
       "stream": "stdout",
       "text": [
        "    0.100/20 after      0 sec. | K    4 | ev -1.047304800e+00 |  \n"
       ]
      },
      {
       "output_type": "stream",
       "stream": "stdout",
       "text": [
        "    0.200/20 after      0 sec. | K    4 | ev -1.036752818e+00 |  \n"
       ]
      },
      {
       "output_type": "stream",
       "stream": "stdout",
       "text": [
        "    0.300/20 after      0 sec. | K    4 | ev -1.034697291e+00 |  \n"
       ]
      },
      {
       "output_type": "stream",
       "stream": "stdout",
       "text": [
        "    1.000/20 after      0 sec. | K    4 | ev -1.021824496e+00 |  \n"
       ]
      },
      {
       "output_type": "stream",
       "stream": "stdout",
       "text": [
        "BIRTH ACCEPTED. 5 fresh comps.\n"
       ]
      },
      {
       "output_type": "stream",
       "stream": "stdout",
       "text": [
        "MERGE 0/10 accepted. \n"
       ]
      },
      {
       "output_type": "stream",
       "stream": "stdout",
       "text": [
        "    2.000/20 after      0 sec. | K    9 | ev -8.816303504e-01 | Ndiff    563.551 \n"
       ]
      },
      {
       "output_type": "stream",
       "stream": "stdout",
       "text": [
        "BIRTH ACCEPTED. 3 fresh comps.\n"
       ]
      },
      {
       "output_type": "stream",
       "stream": "stdout",
       "text": [
        "MERGE 2/6 accepted. ev increased  2.6682e-03\n"
       ]
      },
      {
       "output_type": "stream",
       "stream": "stdout",
       "text": [
        "    3.000/20 after      1 sec. | K   10 | ev -5.113303580e-01 | Ndiff    472.360 \n"
       ]
      },
      {
       "output_type": "stream",
       "stream": "stdout",
       "text": [
        "BIRTH ACCEPTED. 4 fresh comps.\n"
       ]
      },
      {
       "output_type": "stream",
       "stream": "stdout",
       "text": [
        "MERGE 4/5 accepted. ev increased  2.1211e-03\n"
       ]
      },
      {
       "output_type": "stream",
       "stream": "stdout",
       "text": [
        "    4.000/20 after      1 sec. | K   10 | ev -4.002681731e-01 | Ndiff    346.902 \n"
       ]
      },
      {
       "output_type": "stream",
       "stream": "stdout",
       "text": [
        "BIRTH ACCEPTED. 3 fresh comps.\n"
       ]
      },
      {
       "output_type": "stream",
       "stream": "stdout",
       "text": [
        "MERGE 2/6 accepted. ev increased  7.8694e-04\n"
       ]
      },
      {
       "output_type": "stream",
       "stream": "stdout",
       "text": [
        "    5.000/20 after      2 sec. | K   11 | ev -3.113172387e-01 | Ndiff    339.691 \n"
       ]
      },
      {
       "output_type": "stream",
       "stream": "stdout",
       "text": [
        "BIRTH ACCEPTED. 2 fresh comps.\n"
       ]
      },
      {
       "output_type": "stream",
       "stream": "stdout",
       "text": [
        "MERGE 2/3 accepted. ev increased  3.7824e-03\n"
       ]
      },
      {
       "output_type": "stream",
       "stream": "stdout",
       "text": [
        "    6.000/20 after      2 sec. | K   11 | ev -7.822969648e-02 | Ndiff    169.558 \n"
       ]
      },
      {
       "output_type": "stream",
       "stream": "stdout",
       "text": [
        "MERGE 1/1 accepted. ev increased  6.1792e-04\n"
       ]
      },
      {
       "output_type": "stream",
       "stream": "stdout",
       "text": [
        "    7.000/20 after      2 sec. | K   10 | ev -1.036240544e-02 | Ndiff    112.482 \n"
       ]
      },
      {
       "output_type": "stream",
       "stream": "stdout",
       "text": [
        "MERGE 1/1 accepted. ev increased  4.2725e-04\n"
       ]
      },
      {
       "output_type": "stream",
       "stream": "stdout",
       "text": [
        "    8.000/20 after      3 sec. | K    9 | ev  2.697950188e-04 | Ndiff     27.357 \n"
       ]
      },
      {
       "output_type": "stream",
       "stream": "stdout",
       "text": [
        "MERGE 0/0 accepted. \n"
       ]
      },
      {
       "output_type": "stream",
       "stream": "stdout",
       "text": [
        "    9.000/20 after      3 sec. | K    9 | ev  1.646967412e-03 | Ndiff      5.863 \n"
       ]
      },
      {
       "output_type": "stream",
       "stream": "stdout",
       "text": [
        "MERGE 0/0 accepted. \n"
       ]
      },
      {
       "output_type": "stream",
       "stream": "stdout",
       "text": [
        "   10.000/20 after      3 sec. | K    9 | ev  1.920246795e-03 | Ndiff      0.956 \n"
       ]
      },
      {
       "output_type": "stream",
       "stream": "stdout",
       "text": [
        "MERGE 0/0 accepted. \n"
       ]
      },
      {
       "output_type": "stream",
       "stream": "stdout",
       "text": [
        "   11.000/20 after      3 sec. | K    9 | ev  2.001534235e-03 | Ndiff      0.188 \n"
       ]
      },
      {
       "output_type": "stream",
       "stream": "stdout",
       "text": [
        "MERGE 1/1 accepted. ev increased  2.2118e-04\n"
       ]
      },
      {
       "output_type": "stream",
       "stream": "stdout",
       "text": [
        "   12.000/20 after      3 sec. | K    8 | ev  2.350332795e-03 | Ndiff      0.014 \n"
       ]
      },
      {
       "output_type": "stream",
       "stream": "stdout",
       "text": [
        "MERGE 0/0 accepted. \n"
       ]
      },
      {
       "output_type": "stream",
       "stream": "stdout",
       "text": [
        "   13.000/20 after      4 sec. | K    8 | ev  2.350562004e-03 | Ndiff      0.000 \n"
       ]
      },
      {
       "output_type": "stream",
       "stream": "stdout",
       "text": [
        "MERGE 0/0 accepted. \n"
       ]
      },
      {
       "output_type": "stream",
       "stream": "stdout",
       "text": [
        "   14.000/20 after      4 sec. | K    8 | ev  2.350562004e-03 | Ndiff      0.000 \n"
       ]
      },
      {
       "output_type": "stream",
       "stream": "stdout",
       "text": [
        "MERGE 0/0 accepted. \n"
       ]
      },
      {
       "output_type": "stream",
       "stream": "stdout",
       "text": [
        "   15.000/20 after      4 sec. | K    8 | ev  2.350562004e-03 | Ndiff      0.000 \n"
       ]
      },
      {
       "output_type": "stream",
       "stream": "stdout",
       "text": [
        "MERGE 0/0 accepted. \n"
       ]
      },
      {
       "output_type": "stream",
       "stream": "stdout",
       "text": [
        "   16.000/20 after      4 sec. | K    8 | ev  2.350562004e-03 | Ndiff      0.000 \n"
       ]
      },
      {
       "output_type": "stream",
       "stream": "stdout",
       "text": [
        "MERGE 0/0 accepted. \n"
       ]
      },
      {
       "output_type": "stream",
       "stream": "stdout",
       "text": [
        "   17.000/20 after      4 sec. | K    8 | ev  2.350562004e-03 | Ndiff      0.000 \n"
       ]
      },
      {
       "output_type": "stream",
       "stream": "stdout",
       "text": [
        "MERGE 0/0 accepted. \n"
       ]
      },
      {
       "output_type": "stream",
       "stream": "stdout",
       "text": [
        "   18.000/20 after      4 sec. | K    8 | ev  2.350562004e-03 | Ndiff      0.000 \n"
       ]
      },
      {
       "output_type": "stream",
       "stream": "stdout",
       "text": [
        "MERGE 0/0 accepted. \n"
       ]
      },
      {
       "output_type": "stream",
       "stream": "stdout",
       "text": [
        "   19.000/20 after      5 sec. | K    8 | ev  2.350562004e-03 | Ndiff      0.000 \n"
       ]
      },
      {
       "output_type": "stream",
       "stream": "stdout",
       "text": [
        "MERGE 0/0 accepted. \n"
       ]
      },
      {
       "output_type": "stream",
       "stream": "stdout",
       "text": [
        "   20.000/20 after      5 sec. | K    8 | ev  2.350562004e-03 | Ndiff      0.000 \n"
       ]
      },
      {
       "output_type": "stream",
       "stream": "stdout",
       "text": [
        "... done. converged.\n"
       ]
      },
      {
       "output_type": "stream",
       "stream": "stdout",
       "text": [
        "Trial  2/2 | alg. seed: 1128064 | data order seed: 7673856\n"
       ]
      },
      {
       "output_type": "stream",
       "stream": "stdout",
       "text": [
        "savepath: /results/AsteriskK8/demobirthmerge-Kinit=4/2\n"
       ]
      },
      {
       "output_type": "stream",
       "stream": "stdout",
       "text": [
        "    0.100/20 after      0 sec. | K    4 | ev -9.495577494e-01 |  \n"
       ]
      },
      {
       "output_type": "stream",
       "stream": "stdout",
       "text": [
        "    0.200/20 after      0 sec. | K    4 | ev -9.343023972e-01 |  \n"
       ]
      },
      {
       "output_type": "stream",
       "stream": "stdout",
       "text": [
        "    0.300/20 after      0 sec. | K    4 | ev -9.250155247e-01 |  \n"
       ]
      },
      {
       "output_type": "stream",
       "stream": "stdout",
       "text": [
        "    1.000/20 after      0 sec. | K    4 | ev -9.060052809e-01 |  \n"
       ]
      },
      {
       "output_type": "stream",
       "stream": "stdout",
       "text": [
        "BIRTH ACCEPTED. 3 fresh comps.\n"
       ]
      },
      {
       "output_type": "stream",
       "stream": "stdout",
       "text": [
        "MERGE 0/5 accepted. \n"
       ]
      },
      {
       "output_type": "stream",
       "stream": "stdout",
       "text": [
        "    2.000/20 after      0 sec. | K    7 | ev -8.527296815e-01 | Ndiff    327.295 \n"
       ]
      },
      {
       "output_type": "stream",
       "stream": "stdout",
       "text": [
        "BIRTH ACCEPTED. 3 fresh comps.\n"
       ]
      },
      {
       "output_type": "stream",
       "stream": "stdout",
       "text": [
        "MERGE 3/6 accepted. ev increased  9.5830e-03\n"
       ]
      },
      {
       "output_type": "stream",
       "stream": "stdout",
       "text": [
        "    3.000/20 after      1 sec. | K    7 | ev -6.718527761e-01 | Ndiff    494.004 \n"
       ]
      },
      {
       "output_type": "stream",
       "stream": "stdout",
       "text": [
        "BIRTH ACCEPTED. 3 fresh comps.\n"
       ]
      },
      {
       "output_type": "stream",
       "stream": "stdout",
       "text": [
        "MERGE 1/5 accepted. ev increased  6.1158e-04\n"
       ]
      },
      {
       "output_type": "stream",
       "stream": "stdout",
       "text": [
        "    4.000/20 after      1 sec. | K    9 | ev -4.378927182e-01 | Ndiff    386.498 \n"
       ]
      },
      {
       "output_type": "stream",
       "stream": "stdout",
       "text": [
        "BIRTH ACCEPTED. 2 fresh comps.\n"
       ]
      },
      {
       "output_type": "stream",
       "stream": "stdout",
       "text": [
        "MERGE 2/3 accepted. ev increased  6.5918e-03\n"
       ]
      },
      {
       "output_type": "stream",
       "stream": "stdout",
       "text": [
        "    5.000/20 after      1 sec. | K    9 | ev -2.584362805e-01 | Ndiff    162.352 \n"
       ]
      },
      {
       "output_type": "stream",
       "stream": "stdout",
       "text": [
        "BIRTH ACCEPTED. 2 fresh comps.\n"
       ]
      },
      {
       "output_type": "stream",
       "stream": "stdout",
       "text": [
        "MERGE 0/2 accepted. \n"
       ]
      },
      {
       "output_type": "stream",
       "stream": "stdout",
       "text": [
        "    6.000/20 after      1 sec. | K   11 | ev -1.643085956e-01 | Ndiff    465.042 \n"
       ]
      },
      {
       "output_type": "stream",
       "stream": "stdout",
       "text": [
        "BIRTH ACCEPTED. 2 fresh comps.\n"
       ]
      },
      {
       "output_type": "stream",
       "stream": "stdout",
       "text": [
        "MERGE 3/3 accepted. ev increased  6.1574e-03\n"
       ]
      },
      {
       "output_type": "stream",
       "stream": "stdout",
       "text": [
        "    7.000/20 after      2 sec. | K   10 | ev -2.531009200e-02 | Ndiff    195.879 \n"
       ]
      },
      {
       "output_type": "stream",
       "stream": "stdout",
       "text": [
        "MERGE 0/0 accepted. \n"
       ]
      },
      {
       "output_type": "stream",
       "stream": "stdout",
       "text": [
        "    8.000/20 after      2 sec. | K   10 | ev -2.217996816e-03 | Ndiff     47.799 \n"
       ]
      },
      {
       "output_type": "stream",
       "stream": "stdout",
       "text": [
        "MERGE 1/1 accepted. ev increased  3.7208e-04\n"
       ]
      },
      {
       "output_type": "stream",
       "stream": "stdout",
       "text": [
        "    9.000/20 after      2 sec. | K    9 | ev  1.343588569e-03 | Ndiff     13.117 \n"
       ]
      },
      {
       "output_type": "stream",
       "stream": "stdout",
       "text": [
        "MERGE 0/0 accepted. \n"
       ]
      },
      {
       "output_type": "stream",
       "stream": "stdout",
       "text": [
        "   10.000/20 after      2 sec. | K    9 | ev  1.896451034e-03 | Ndiff      1.319 \n"
       ]
      },
      {
       "output_type": "stream",
       "stream": "stdout",
       "text": [
        "MERGE 0/0 accepted. \n"
       ]
      },
      {
       "output_type": "stream",
       "stream": "stdout",
       "text": [
        "   11.000/20 after      3 sec. | K    9 | ev  2.011138803e-03 | Ndiff      0.291 \n"
       ]
      },
      {
       "output_type": "stream",
       "stream": "stdout",
       "text": [
        "MERGE 0/0 accepted. \n"
       ]
      },
      {
       "output_type": "stream",
       "stream": "stdout",
       "text": [
        "   12.000/20 after      3 sec. | K    9 | ev  2.120211961e-03 | Ndiff      0.020 \n"
       ]
      },
      {
       "output_type": "stream",
       "stream": "stdout",
       "text": [
        "MERGE 1/1 accepted. ev increased  1.9889e-04\n"
       ]
      },
      {
       "output_type": "stream",
       "stream": "stdout",
       "text": [
        "   13.000/20 after      3 sec. | K    8 | ev  2.369082970e-03 | Ndiff      0.000 \n"
       ]
      },
      {
       "output_type": "stream",
       "stream": "stdout",
       "text": [
        "MERGE 0/0 accepted. \n"
       ]
      },
      {
       "output_type": "stream",
       "stream": "stdout",
       "text": [
        "   14.000/20 after      3 sec. | K    8 | ev  2.369082970e-03 | Ndiff      0.000 \n"
       ]
      },
      {
       "output_type": "stream",
       "stream": "stdout",
       "text": [
        "MERGE 0/0 accepted. \n"
       ]
      },
      {
       "output_type": "stream",
       "stream": "stdout",
       "text": [
        "   15.000/20 after      4 sec. | K    8 | ev  2.369082970e-03 | Ndiff      0.000 \n"
       ]
      },
      {
       "output_type": "stream",
       "stream": "stdout",
       "text": [
        "MERGE 0/0 accepted. \n"
       ]
      },
      {
       "output_type": "stream",
       "stream": "stdout",
       "text": [
        "   16.000/20 after      4 sec. | K    8 | ev  2.369082970e-03 | Ndiff      0.000 \n"
       ]
      },
      {
       "output_type": "stream",
       "stream": "stdout",
       "text": [
        "MERGE 0/0 accepted. \n"
       ]
      },
      {
       "output_type": "stream",
       "stream": "stdout",
       "text": [
        "   17.000/20 after      4 sec. | K    8 | ev  2.369082970e-03 | Ndiff      0.000 \n"
       ]
      },
      {
       "output_type": "stream",
       "stream": "stdout",
       "text": [
        "MERGE 0/0 accepted. \n"
       ]
      },
      {
       "output_type": "stream",
       "stream": "stdout",
       "text": [
        "   18.000/20 after      4 sec. | K    8 | ev  2.369082970e-03 | Ndiff      0.000 \n"
       ]
      },
      {
       "output_type": "stream",
       "stream": "stdout",
       "text": [
        "MERGE 0/0 accepted. \n"
       ]
      },
      {
       "output_type": "stream",
       "stream": "stdout",
       "text": [
        "   19.000/20 after      4 sec. | K    8 | ev  2.369082970e-03 | Ndiff      0.000 \n"
       ]
      },
      {
       "output_type": "stream",
       "stream": "stdout",
       "text": [
        "MERGE 0/0 accepted. \n"
       ]
      },
      {
       "output_type": "stream",
       "stream": "stdout",
       "text": [
        "   20.000/20 after      5 sec. | K    8 | ev  2.369082970e-03 | Ndiff      0.000 \n"
       ]
      },
      {
       "output_type": "stream",
       "stream": "stdout",
       "text": [
        "... done. converged.\n"
       ]
      }
     ],
     "prompt_number": 26
    },
    {
     "cell_type": "markdown",
     "metadata": {},
     "source": [
      "## 16 initial clusters, repeated for 2 trials"
     ]
    },
    {
     "cell_type": "code",
     "collapsed": false,
     "input": [
      "hmodel, RInfo = bnpy.run('AsteriskK8', 'DPMixtureModel', 'Gauss', 'moVB',\n",
      "                         nLap=20, K=16, moves='birth,merge',\n",
      "                         nTask=2, jobname='demobirthmerge-Kinit=16')"
     ],
     "language": "python",
     "metadata": {},
     "outputs": [
      {
       "output_type": "stream",
       "stream": "stdout",
       "text": [
        "Asterisk Toy Data. 8 true clusters.\n"
       ]
      },
      {
       "output_type": "stream",
       "stream": "stdout",
       "text": [
        "Entire Dataset Summary:\n"
       ]
      },
      {
       "output_type": "stream",
       "stream": "stdout",
       "text": [
        "  total size: 25000 units\n",
        "  batch size: 2500 units\n",
        "  num. batches: 10\n"
       ]
      },
      {
       "output_type": "stream",
       "stream": "stdout",
       "text": [
        "Data for Initialization:\n"
       ]
      },
      {
       "output_type": "stream",
       "stream": "stdout",
       "text": [
        "  size: 25000 units (single observations)\n",
        "  dimension: 2\n"
       ]
      },
      {
       "output_type": "stream",
       "stream": "stdout",
       "text": [
        "Allocation Model:  DP mixture with K=16. Concentration gamma0= 1.00\n",
        "Obs. Data  Model:  Gaussian with full covariance.\n",
        "Obs. Data  Prior:  Gauss-Wishart on each mean/prec matrix pair: mu, Lam\n",
        "  E[ mu[k] ]     = [ 0.  0.]\n",
        "  E[ CovMat[k] ] = \n",
        "  [[ 1.  0.]\n",
        "   [ 0.  1.]]\n"
       ]
      },
      {
       "output_type": "stream",
       "stream": "stdout",
       "text": [
        "Learn Alg: moVB\n"
       ]
      },
      {
       "output_type": "stream",
       "stream": "stdout",
       "text": [
        "Trial  1/2 | alg. seed: 2497280 | data order seed: 8541952\n"
       ]
      },
      {
       "output_type": "stream",
       "stream": "stdout",
       "text": [
        "savepath: /results/AsteriskK8/demobirthmerge-Kinit=16/1\n"
       ]
      },
      {
       "output_type": "stream",
       "stream": "stdout",
       "text": [
        "    0.100/20 after      0 sec. | K   16 | ev -1.027305690e+00 |  \n"
       ]
      },
      {
       "output_type": "stream",
       "stream": "stdout",
       "text": [
        "    0.200/20 after      0 sec. | K   16 | ev -9.753695193e-01 |  \n"
       ]
      },
      {
       "output_type": "stream",
       "stream": "stdout",
       "text": [
        "    0.300/20 after      0 sec. | K   16 | ev -9.560752456e-01 |  \n"
       ]
      },
      {
       "output_type": "stream",
       "stream": "stdout",
       "text": [
        "    1.000/20 after      0 sec. | K   16 | ev -8.879254976e-01 |  \n"
       ]
      },
      {
       "output_type": "stream",
       "stream": "stdout",
       "text": [
        "BIRTH ACCEPTED. 2 fresh comps.\n"
       ]
      },
      {
       "output_type": "stream",
       "stream": "stdout",
       "text": [
        "MERGE 4/16 accepted. ev increased  2.9864e-03\n"
       ]
      },
      {
       "output_type": "stream",
       "stream": "stdout",
       "text": [
        "    2.000/20 after      1 sec. | K   14 | ev -6.570084469e-01 | Ndiff    209.941 \n"
       ]
      },
      {
       "output_type": "stream",
       "stream": "stdout",
       "text": [
        "BIRTH ACCEPTED. 2 fresh comps.\n"
       ]
      },
      {
       "output_type": "stream",
       "stream": "stdout",
       "text": [
        "MERGE 4/8 accepted. ev increased  6.6230e-03\n"
       ]
      },
      {
       "output_type": "stream",
       "stream": "stdout",
       "text": [
        "    3.000/20 after      1 sec. | K   12 | ev -3.465047823e-01 | Ndiff    207.696 \n"
       ]
      },
      {
       "output_type": "stream",
       "stream": "stdout",
       "text": [
        "MERGE 1/4 accepted. ev increased  5.9019e-04\n"
       ]
      },
      {
       "output_type": "stream",
       "stream": "stdout",
       "text": [
        "    4.000/20 after      2 sec. | K   11 | ev -1.522618031e-01 | Ndiff    240.370 \n"
       ]
      },
      {
       "output_type": "stream",
       "stream": "stdout",
       "text": [
        "MERGE 1/2 accepted. ev increased  2.5773e-03\n"
       ]
      },
      {
       "output_type": "stream",
       "stream": "stdout",
       "text": [
        "    5.000/20 after      2 sec. | K   10 | ev -3.498169425e-02 | Ndiff     31.836 \n"
       ]
      },
      {
       "output_type": "stream",
       "stream": "stdout",
       "text": [
        "MERGE 0/0 accepted. \n"
       ]
      },
      {
       "output_type": "stream",
       "stream": "stdout",
       "text": [
        "    6.000/20 after      2 sec. | K   10 | ev  2.837920014e-04 | Ndiff     20.621 \n"
       ]
      },
      {
       "output_type": "stream",
       "stream": "stdout",
       "text": [
        "MERGE 1/1 accepted. ev increased  3.5597e-04\n"
       ]
      },
      {
       "output_type": "stream",
       "stream": "stdout",
       "text": [
        "    7.000/20 after      2 sec. | K    9 | ev  1.688624507e-03 | Ndiff      3.199 \n"
       ]
      },
      {
       "output_type": "stream",
       "stream": "stdout",
       "text": [
        "MERGE 0/0 accepted. \n"
       ]
      },
      {
       "output_type": "stream",
       "stream": "stdout",
       "text": [
        "    8.000/20 after      2 sec. | K    9 | ev  1.926058924e-03 | Ndiff      1.694 \n"
       ]
      },
      {
       "output_type": "stream",
       "stream": "stdout",
       "text": [
        "MERGE 0/0 accepted. \n"
       ]
      },
      {
       "output_type": "stream",
       "stream": "stdout",
       "text": [
        "    9.000/20 after      3 sec. | K    9 | ev  2.006017744e-03 | Ndiff      0.184 \n"
       ]
      },
      {
       "output_type": "stream",
       "stream": "stdout",
       "text": [
        "MERGE 1/1 accepted. ev increased  2.1958e-04\n"
       ]
      },
      {
       "output_type": "stream",
       "stream": "stdout",
       "text": [
        "   10.000/20 after      3 sec. | K    8 | ev  2.353395676e-03 | Ndiff      0.010 \n"
       ]
      },
      {
       "output_type": "stream",
       "stream": "stdout",
       "text": [
        "MERGE 0/0 accepted. \n"
       ]
      },
      {
       "output_type": "stream",
       "stream": "stdout",
       "text": [
        "   11.000/20 after      3 sec. | K    8 | ev  2.353688739e-03 | Ndiff      0.000 \n"
       ]
      },
      {
       "output_type": "stream",
       "stream": "stdout",
       "text": [
        "MERGE 0/0 accepted. \n"
       ]
      },
      {
       "output_type": "stream",
       "stream": "stdout",
       "text": [
        "   12.000/20 after      3 sec. | K    8 | ev  2.353688739e-03 | Ndiff      0.000 \n"
       ]
      },
      {
       "output_type": "stream",
       "stream": "stdout",
       "text": [
        "MERGE 0/0 accepted. \n"
       ]
      },
      {
       "output_type": "stream",
       "stream": "stdout",
       "text": [
        "   13.000/20 after      3 sec. | K    8 | ev  2.353688739e-03 | Ndiff      0.000 \n"
       ]
      },
      {
       "output_type": "stream",
       "stream": "stdout",
       "text": [
        "MERGE 0/0 accepted. \n"
       ]
      },
      {
       "output_type": "stream",
       "stream": "stdout",
       "text": [
        "   14.000/20 after      4 sec. | K    8 | ev  2.353688739e-03 | Ndiff      0.000 \n"
       ]
      },
      {
       "output_type": "stream",
       "stream": "stdout",
       "text": [
        "MERGE 0/0 accepted. \n"
       ]
      },
      {
       "output_type": "stream",
       "stream": "stdout",
       "text": [
        "   15.000/20 after      4 sec. | K    8 | ev  2.353688739e-03 | Ndiff      0.000 \n"
       ]
      },
      {
       "output_type": "stream",
       "stream": "stdout",
       "text": [
        "MERGE 0/0 accepted. \n"
       ]
      },
      {
       "output_type": "stream",
       "stream": "stdout",
       "text": [
        "   16.000/20 after      4 sec. | K    8 | ev  2.353688739e-03 | Ndiff      0.000 \n"
       ]
      },
      {
       "output_type": "stream",
       "stream": "stdout",
       "text": [
        "MERGE 0/0 accepted. \n"
       ]
      },
      {
       "output_type": "stream",
       "stream": "stdout",
       "text": [
        "   17.000/20 after      4 sec. | K    8 | ev  2.353688739e-03 | Ndiff      0.000 \n"
       ]
      },
      {
       "output_type": "stream",
       "stream": "stdout",
       "text": [
        "MERGE 0/0 accepted. \n"
       ]
      },
      {
       "output_type": "stream",
       "stream": "stdout",
       "text": [
        "   18.000/20 after      4 sec. | K    8 | ev  2.353688739e-03 | Ndiff      0.000 \n"
       ]
      },
      {
       "output_type": "stream",
       "stream": "stdout",
       "text": [
        "MERGE 0/0 accepted. \n"
       ]
      },
      {
       "output_type": "stream",
       "stream": "stdout",
       "text": [
        "   19.000/20 after      4 sec. | K    8 | ev  2.353688739e-03 | Ndiff      0.000 \n"
       ]
      },
      {
       "output_type": "stream",
       "stream": "stdout",
       "text": [
        "MERGE 0/0 accepted. \n"
       ]
      },
      {
       "output_type": "stream",
       "stream": "stdout",
       "text": [
        "   20.000/20 after      5 sec. | K    8 | ev  2.353688739e-03 | Ndiff      0.000 \n"
       ]
      },
      {
       "output_type": "stream",
       "stream": "stdout",
       "text": [
        "... done. converged.\n"
       ]
      },
      {
       "output_type": "stream",
       "stream": "stdout",
       "text": [
        "Trial  2/2 | alg. seed: 1128064 | data order seed: 7673856\n"
       ]
      },
      {
       "output_type": "stream",
       "stream": "stdout",
       "text": [
        "savepath: /results/AsteriskK8/demobirthmerge-Kinit=16/2\n"
       ]
      },
      {
       "output_type": "stream",
       "stream": "stdout",
       "text": [
        "    0.100/20 after      0 sec. | K   16 | ev -1.006223491e+00 |  \n"
       ]
      },
      {
       "output_type": "stream",
       "stream": "stdout",
       "text": [
        "    0.200/20 after      0 sec. | K   16 | ev -9.547728942e-01 |  \n"
       ]
      },
      {
       "output_type": "stream",
       "stream": "stdout",
       "text": [
        "    0.300/20 after      0 sec. | K   16 | ev -9.252499010e-01 |  \n"
       ]
      },
      {
       "output_type": "stream",
       "stream": "stdout",
       "text": [
        "    1.000/20 after      0 sec. | K   16 | ev -8.145731669e-01 |  \n"
       ]
      },
      {
       "output_type": "stream",
       "stream": "stdout",
       "text": [
        "BIRTH ACCEPTED. 3 fresh comps.\n"
       ]
      },
      {
       "output_type": "stream",
       "stream": "stdout",
       "text": [
        "MERGE 2/18 accepted. ev increased  6.9098e-04\n"
       ]
      },
      {
       "output_type": "stream",
       "stream": "stdout",
       "text": [
        "    2.000/20 after      1 sec. | K   17 | ev -3.607285169e-01 | Ndiff    103.212 \n"
       ]
      },
      {
       "output_type": "stream",
       "stream": "stdout",
       "text": [
        "MERGE 3/10 accepted. ev increased  9.3908e-03\n"
       ]
      },
      {
       "output_type": "stream",
       "stream": "stdout",
       "text": [
        "    3.000/20 after      1 sec. | K   14 | ev -1.012415763e-01 | Ndiff    230.897 \n"
       ]
      },
      {
       "output_type": "stream",
       "stream": "stdout",
       "text": [
        "MERGE 2/2 accepted. ev increased  7.2418e-04\n"
       ]
      },
      {
       "output_type": "stream",
       "stream": "stdout",
       "text": [
        "    4.000/20 after      1 sec. | K   12 | ev -1.275171392e-02 | Ndiff    110.627 \n"
       ]
      },
      {
       "output_type": "stream",
       "stream": "stdout",
       "text": [
        "MERGE 2/2 accepted. ev increased  6.9119e-04\n"
       ]
      },
      {
       "output_type": "stream",
       "stream": "stdout",
       "text": [
        "    5.000/20 after      2 sec. | K   10 | ev -7.502210663e-04 | Ndiff     14.396 \n"
       ]
      },
      {
       "output_type": "stream",
       "stream": "stdout",
       "text": [
        "MERGE 1/1 accepted. ev increased  3.8190e-04\n"
       ]
      },
      {
       "output_type": "stream",
       "stream": "stdout",
       "text": [
        "    6.000/20 after      2 sec. | K    9 | ev  1.473841203e-03 | Ndiff      2.657 \n"
       ]
      },
      {
       "output_type": "stream",
       "stream": "stdout",
       "text": [
        "MERGE 0/0 accepted. \n"
       ]
      },
      {
       "output_type": "stream",
       "stream": "stdout",
       "text": [
        "    7.000/20 after      2 sec. | K    9 | ev  1.928947628e-03 | Ndiff      1.077 \n"
       ]
      },
      {
       "output_type": "stream",
       "stream": "stdout",
       "text": [
        "MERGE 0/0 accepted. \n"
       ]
      },
      {
       "output_type": "stream",
       "stream": "stdout",
       "text": [
        "    8.000/20 after      2 sec. | K    9 | ev  2.035183484e-03 | Ndiff      0.215 \n"
       ]
      },
      {
       "output_type": "stream",
       "stream": "stdout",
       "text": [
        "MERGE 0/0 accepted. \n"
       ]
      },
      {
       "output_type": "stream",
       "stream": "stdout",
       "text": [
        "    9.000/20 after      3 sec. | K    9 | ev  2.117391812e-03 | Ndiff      0.046 \n"
       ]
      },
      {
       "output_type": "stream",
       "stream": "stdout",
       "text": [
        "MERGE 1/1 accepted. ev increased  1.9677e-04\n"
       ]
      },
      {
       "output_type": "stream",
       "stream": "stdout",
       "text": [
        "   10.000/20 after      3 sec. | K    8 | ev  2.399714286e-03 | Ndiff      0.001 \n"
       ]
      },
      {
       "output_type": "stream",
       "stream": "stdout",
       "text": [
        "MERGE 0/0 accepted. \n"
       ]
      },
      {
       "output_type": "stream",
       "stream": "stdout",
       "text": [
        "   11.000/20 after      3 sec. | K    8 | ev  2.399714286e-03 | Ndiff      0.000 \n"
       ]
      },
      {
       "output_type": "stream",
       "stream": "stdout",
       "text": [
        "MERGE 0/0 accepted. \n"
       ]
      },
      {
       "output_type": "stream",
       "stream": "stdout",
       "text": [
        "   12.000/20 after      3 sec. | K    8 | ev  2.399714286e-03 | Ndiff      0.000 \n"
       ]
      },
      {
       "output_type": "stream",
       "stream": "stdout",
       "text": [
        "MERGE 0/0 accepted. \n"
       ]
      },
      {
       "output_type": "stream",
       "stream": "stdout",
       "text": [
        "   13.000/20 after      3 sec. | K    8 | ev  2.399714286e-03 | Ndiff      0.000 \n"
       ]
      },
      {
       "output_type": "stream",
       "stream": "stdout",
       "text": [
        "MERGE 0/0 accepted. \n"
       ]
      },
      {
       "output_type": "stream",
       "stream": "stdout",
       "text": [
        "   14.000/20 after      4 sec. | K    8 | ev  2.399714286e-03 | Ndiff      0.000 \n"
       ]
      },
      {
       "output_type": "stream",
       "stream": "stdout",
       "text": [
        "MERGE 0/0 accepted. \n"
       ]
      },
      {
       "output_type": "stream",
       "stream": "stdout",
       "text": [
        "   15.000/20 after      4 sec. | K    8 | ev  2.399714286e-03 | Ndiff      0.000 \n"
       ]
      },
      {
       "output_type": "stream",
       "stream": "stdout",
       "text": [
        "MERGE 0/0 accepted. \n"
       ]
      },
      {
       "output_type": "stream",
       "stream": "stdout",
       "text": [
        "   16.000/20 after      4 sec. | K    8 | ev  2.399714286e-03 | Ndiff      0.000 \n"
       ]
      },
      {
       "output_type": "stream",
       "stream": "stdout",
       "text": [
        "MERGE 0/0 accepted. \n"
       ]
      },
      {
       "output_type": "stream",
       "stream": "stdout",
       "text": [
        "   17.000/20 after      4 sec. | K    8 | ev  2.399714286e-03 | Ndiff      0.000 \n"
       ]
      },
      {
       "output_type": "stream",
       "stream": "stdout",
       "text": [
        "MERGE 0/0 accepted. \n"
       ]
      },
      {
       "output_type": "stream",
       "stream": "stdout",
       "text": [
        "   18.000/20 after      4 sec. | K    8 | ev  2.399714286e-03 | Ndiff      0.000 \n"
       ]
      },
      {
       "output_type": "stream",
       "stream": "stdout",
       "text": [
        "MERGE 0/0 accepted. \n"
       ]
      },
      {
       "output_type": "stream",
       "stream": "stdout",
       "text": [
        "   19.000/20 after      5 sec. | K    8 | ev  2.399714286e-03 | Ndiff      0.000 \n"
       ]
      },
      {
       "output_type": "stream",
       "stream": "stdout",
       "text": [
        "MERGE 0/0 accepted. \n"
       ]
      },
      {
       "output_type": "stream",
       "stream": "stdout",
       "text": [
        "   20.000/20 after      5 sec. | K    8 | ev  2.399714286e-03 | Ndiff      0.000 \n"
       ]
      },
      {
       "output_type": "stream",
       "stream": "stdout",
       "text": [
        "... done. converged.\n"
       ]
      }
     ],
     "prompt_number": 28
    },
    {
     "cell_type": "markdown",
     "metadata": {},
     "source": [
      "# Frequently asked questions"
     ]
    },
    {
     "cell_type": "markdown",
     "metadata": {},
     "source": [
      "## How do I plot the objective function over time?\n",
      "\n",
      "Here, we plot the log evidence (sometimes called the evidence lower bound or ELBO). Here, larger objective scores indicate better model quality."
     ]
    },
    {
     "cell_type": "code",
     "collapsed": false,
     "input": [
      "from matplotlib import pylab\n",
      "%pylab inline\n",
      "\n",
      "bnpy.viz.PlotELBO.plotJobsThatMatchKeywords('AsteriskK8/demobirthmerge-*');\n",
      "pylab.legend(loc='lower right');"
     ],
     "language": "python",
     "metadata": {},
     "outputs": [
      {
       "output_type": "stream",
       "stream": "stdout",
       "text": [
        "Populating the interactive namespace from numpy and matplotlib\n"
       ]
      },
      {
       "metadata": {},
       "output_type": "display_data",
       "png": "[encoded data removed]",
       "text": [
        "<matplotlib.figure.Figure at 0x82b5450>"
       ]
      }
     ],
     "prompt_number": 31
    },
    {
     "cell_type": "markdown",
     "metadata": {},
     "source": [
      "**Conclusion:** All the different initial conditions quickly converge to similar scores of high quality."
     ]
    },
    {
     "cell_type": "markdown",
     "metadata": {},
     "source": [
      "## How do I plot the number of clusters over time?"
     ]
    },
    {
     "cell_type": "code",
     "collapsed": false,
     "input": [
      "bnpy.viz.PlotELBO.plotJobsThatMatchKeywords('AsteriskK8/demobirthmerge-*', yvar='K');"
     ],
     "language": "python",
     "metadata": {},
     "outputs": [
      {
       "metadata": {},
       "output_type": "display_data",
       "png": "[encoded data removed]",
       "text": [
        "<matplotlib.figure.Figure at 0xa4d71b0>"
       ]
      }
     ],
     "prompt_number": 36
    },
    {
     "cell_type": "markdown",
     "metadata": {},
     "source": [
      "** Conclusion:** Across very different initial conditions, we consistently reach exactly 8 learned clusters."
     ]
    },
    {
     "cell_type": "markdown",
     "metadata": {},
     "source": [
      "## How do I plot the final learned clusters?"
     ]
    },
    {
     "cell_type": "code",
     "collapsed": false,
     "input": [
      "bnpy.viz.PlotComps.plotCompsForTask('AsteriskK8/demobirthmerge-Kinit=16/1/')"
     ],
     "language": "python",
     "metadata": {},
     "outputs": [
      {
       "metadata": {},
       "output_type": "display_data",
       "png": "[encoded data removed]",
       "text": [
        "<matplotlib.figure.Figure at 0x89e1550>"
       ]
      }
     ],
     "prompt_number": 32
    },
    {
     "cell_type": "markdown",
     "metadata": {},
     "source": [
      "** Conclusion:** This run discovers the 8 ideal clusters."
     ]
    },
    {
     "cell_type": "markdown",
     "metadata": {},
     "source": [
      "## How do I plot the initial clusters?\n"
     ]
    },
    {
     "cell_type": "code",
     "collapsed": false,
     "input": [
      "bnpy.viz.PlotComps.plotCompsForTask('AsteriskK8/demobirthmerge-Kinit=16/1/', lap=0)"
     ],
     "language": "python",
     "metadata": {},
     "outputs": [
      {
       "metadata": {},
       "output_type": "display_data",
       "png": "[encoded data removed]",
       "text": [
        "<matplotlib.figure.Figure at 0x89bd2d0>"
       ]
      }
     ],
     "prompt_number": 33
    },
    {
     "cell_type": "markdown",
     "metadata": {},
     "source": [
      "## How do I plot the clusters after 2 passes through the data?"
     ]
    },
    {
     "cell_type": "code",
     "collapsed": false,
     "input": [
      "bnpy.viz.PlotComps.plotCompsForTask('AsteriskK8/demobirthmerge-Kinit=16/1/', lap=2)"
     ],
     "language": "python",
     "metadata": {},
     "outputs": [
      {
       "metadata": {},
       "output_type": "display_data",
       "png": "[encoded data removed]",
       "text": [
        "<matplotlib.figure.Figure at 0x89d6a90>"
       ]
      }
     ],
     "prompt_number": 34
    },
    {
     "cell_type": "code",
     "collapsed": false,
     "input": [],
     "language": "python",
     "metadata": {},
     "outputs": []
    }
   ],
   "metadata": {}
  }
 ]
}
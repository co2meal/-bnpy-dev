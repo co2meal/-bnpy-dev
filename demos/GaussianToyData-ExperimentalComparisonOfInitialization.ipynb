{
 "metadata": {
  "name": ""
 },
 "nbformat": 3,
 "nbformat_minor": 0,
 "worksheets": [
  {
   "cells": [
    {
     "cell_type": "markdown",
     "metadata": {},
     "source": [
      "# Comparison of initialization methods on Gaussian Toy Data"
     ]
    },
    {
     "cell_type": "markdown",
     "metadata": {},
     "source": [
      "## Goal\n",
      "\n",
      "Solution quality for the standard coordinate ascent algorithms like EM depend heavily on initialization quality.  Here, we'll see how bnpy can be used to run an experiment comparing two initialization methods, one smarter than the other."
     ]
    },
    {
     "cell_type": "code",
     "collapsed": false,
     "input": [
      "import bnpy"
     ],
     "language": "python",
     "metadata": {},
     "outputs": [],
     "prompt_number": 2
    },
    {
     "cell_type": "markdown",
     "metadata": {},
     "source": [
      "## Toy dataset : `AsteriskK8`"
     ]
    },
    {
     "cell_type": "markdown",
     "metadata": {},
     "source": [
      "We'll use a simple dataset of 2D points, drawn from 8 well-separated Gaussian clusters."
     ]
    },
    {
     "cell_type": "code",
     "collapsed": false,
     "input": [
      "import AsteriskK8\n",
      "Data = AsteriskK8.get_data()"
     ],
     "language": "python",
     "metadata": {},
     "outputs": [],
     "prompt_number": 3
    },
    {
     "cell_type": "markdown",
     "metadata": {},
     "source": [
      "We can visualize this dataset as follows:"
     ]
    },
    {
     "cell_type": "code",
     "collapsed": false,
     "input": [
      "from matplotlib import pylab\n",
      "%pylab inline"
     ],
     "language": "python",
     "metadata": {},
     "outputs": [
      {
       "output_type": "stream",
       "stream": "stdout",
       "text": [
        "Populating the interactive namespace from numpy and matplotlib\n"
       ]
      }
     ],
     "prompt_number": 4
    },
    {
     "cell_type": "code",
     "collapsed": false,
     "input": [
      "pylab.plot(Data.X[:,0], Data.X[:,1], 'k.');\n",
      "pylab.gcf().set_size_inches(4, 4);\n",
      "pylab.axis('image'); pylab.xlim([-1.75, 1.75]); pylab.ylim([-1.75, 1.75]);"
     ],
     "language": "python",
     "metadata": {},
     "outputs": [
      {
       "metadata": {},
       "output_type": "display_data",
       "png": "[encoded data removed]",
       "text": [
        "<matplotlib.figure.Figure at 0x8344030>"
       ]
      }
     ],
     "prompt_number": 5
    },
    {
     "cell_type": "markdown",
     "metadata": {},
     "source": [
      "## Initialization Methods\n",
      "\n",
      "Our intended task is to train a Gaussian mixture model using expectation maximization (EM) with a maximum likelihood criterion. \n",
      "\n",
      "We'll consider two methods here to initialize the global parameters (means and covariances) of the Gaussian mixture model.\n",
      "\n",
      "For more background on possible initializations, see the [Initialization documentation TODO](../Code/Initialization.md).\n",
      "\n",
      "### Method A: \"select examples uniformly at random\"\n",
      "\n",
      "To initialize K clusters, we select K items uniformly at random from all N data items, and initialize the model as if each item was the only member of its corresponding component.\n",
      "\n",
      "This procedure is called `randexamples` in **bnpy**. Note: this is the default initialization.\n",
      "\n",
      "### Method B: \"select examples randomly, but biased by Euclidean distance\"\n",
      "\n",
      "One problem with the above method is that it doesn't account for distances between selected points.  When using Gaussian observation models, it can be beneficial for initialized clusters to be spread out so all data points are more likely to be represented. \n",
      "\n",
      "Concretely, we could modify the above procedure to choose K items in a distance-biased way, instead of uniformly at random.  We pick the first item at random from the data, and then for each successive component select an item n with probability proportional to its distance from the nearest chosen item among the $k$ previously chosen items.\n",
      "\n",
      "This procedure is called `randexamplesbydist` in **bnpy**."
     ]
    },
    {
     "cell_type": "markdown",
     "metadata": {},
     "source": [
      "## Running the experiment with **bnpy**\n",
      "\n",
      "We'll do 25 separate runs for each of the two initialization methods.  Each run gets at most 50 laps through the data, and uses 10 clusters.  \n",
      "\n",
      "The **initname** argument specifies which initialization method to use, while the **jobname** is a human-readable name for the experiment."
     ]
    },
    {
     "cell_type": "markdown",
     "metadata": {},
     "source": [
      "### NAIVE INITIALIZATION METHOD: randexamples"
     ]
    },
    {
     "cell_type": "code",
     "collapsed": false,
     "input": [
      "bnpy.run('AsteriskK8', 'FiniteMixtureModel', 'Gauss', 'EM', \n",
      "          nLap=100, K=10, nTask=25, printEvery=100,\n",
      "          initname='randexamples', jobname='compareinit-K=10-randexamples');"
     ],
     "language": "python",
     "metadata": {},
     "outputs": [
      {
       "output_type": "stream",
       "stream": "stdout",
       "text": [
        "Asterisk Toy Data. 8 true clusters.\n"
       ]
      },
      {
       "output_type": "stream",
       "stream": "stdout",
       "text": [
        "  size: 25000 units (single observations)\n",
        "  dimension: 2\n"
       ]
      },
      {
       "output_type": "stream",
       "stream": "stdout",
       "text": [
        "Allocation Model:  Finite mixture with K=10. Dir prior param 1.00\n",
        "Obs. Data  Model:  Gaussian with full covariance.\n",
        "Obs. Data  Prior:  Gauss-Wishart on each mean/prec matrix pair: mu, Lam\n",
        "  E[ mu[k] ]     = [ 0.  0.]\n",
        "  E[ CovMat[k] ] = \n",
        "  [[ 1.  0.]\n",
        "   [ 0.  1.]]\n"
       ]
      },
      {
       "output_type": "stream",
       "stream": "stdout",
       "text": [
        "Learn Alg: EM\n"
       ]
      },
      {
       "output_type": "stream",
       "stream": "stdout",
       "text": [
        "Trial  1/25 | alg. seed: 7451264 | data order seed: 8541952\n"
       ]
      },
      {
       "output_type": "stream",
       "stream": "stdout",
       "text": [
        "savepath: /results/AsteriskK8/compareinit-K=10-randexamples/1\n"
       ]
      },
      {
       "output_type": "stream",
       "stream": "stdout",
       "text": [
        "        1/100 after      0 sec. | K   10 | ev -5.038089258e+06 |  \n"
       ]
      },
      {
       "output_type": "stream",
       "stream": "stdout",
       "text": [
        "        2/100 after      0 sec. | K   10 | ev -6.053169318e-01 | Ndiff    509.257 \n"
       ]
      },
      {
       "output_type": "stream",
       "stream": "stdout",
       "text": [
        "      100/100 after      6 sec. | K   10 | ev -1.380456616e-01 | Ndiff      0.884 \n"
       ]
      },
      {
       "output_type": "stream",
       "stream": "stdout",
       "text": [
        "... done. not converged. max laps thru data exceeded.\n"
       ]
      },
      {
       "output_type": "stream",
       "stream": "stdout",
       "text": [
        "Trial  2/25 | alg. seed: 5565568 | data order seed: 7673856\n"
       ]
      },
      {
       "output_type": "stream",
       "stream": "stdout",
       "text": [
        "savepath: /results/AsteriskK8/compareinit-K=10-randexamples/2\n"
       ]
      },
      {
       "output_type": "stream",
       "stream": "stdout",
       "text": [
        "        1/100 after      0 sec. | K   10 | ev -1.189772070e+07 |  \n"
       ]
      },
      {
       "output_type": "stream",
       "stream": "stdout",
       "text": [
        "        2/100 after      0 sec. | K   10 | ev -8.347043150e-01 | Ndiff    216.938 \n"
       ]
      },
      {
       "output_type": "stream",
       "stream": "stdout",
       "text": [
        "       37/100 after      2 sec. | K   10 | ev  1.085365655e-01 | Ndiff      0.040 \n"
       ]
      },
      {
       "output_type": "stream",
       "stream": "stdout",
       "text": [
        "... done. converged.\n"
       ]
      },
      {
       "output_type": "stream",
       "stream": "stdout",
       "text": [
        "Trial  3/25 | alg. seed: 2559616 | data order seed: 7360256\n"
       ]
      },
      {
       "output_type": "stream",
       "stream": "stdout",
       "text": [
        "savepath: /results/AsteriskK8/compareinit-K=10-randexamples/3\n"
       ]
      },
      {
       "output_type": "stream",
       "stream": "stdout",
       "text": [
        "        1/100 after      0 sec. | K   10 | ev -3.721051647e+06 |  \n"
       ]
      },
      {
       "output_type": "stream",
       "stream": "stdout",
       "text": [
        "        2/100 after      0 sec. | K   10 | ev -5.120293074e-01 | Ndiff    157.057 \n"
       ]
      },
      {
       "output_type": "stream",
       "stream": "stdout",
       "text": [
        "      100/100 after      6 sec. | K   10 | ev -7.953044818e-02 | Ndiff      0.806 \n"
       ]
      },
      {
       "output_type": "stream",
       "stream": "stdout",
       "text": [
        "... done. not converged. max laps thru data exceeded.\n"
       ]
      },
      {
       "output_type": "stream",
       "stream": "stdout",
       "text": [
        "Trial  4/25 | alg. seed: 7606528 | data order seed: 900864\n"
       ]
      },
      {
       "output_type": "stream",
       "stream": "stdout",
       "text": [
        "savepath: /results/AsteriskK8/compareinit-K=10-randexamples/4\n"
       ]
      },
      {
       "output_type": "stream",
       "stream": "stdout",
       "text": [
        "        1/100 after      0 sec. | K   10 | ev -6.381918921e+06 |  \n"
       ]
      },
      {
       "output_type": "stream",
       "stream": "stdout",
       "text": [
        "        2/100 after      0 sec. | K   10 | ev -4.987179142e-01 | Ndiff    308.318 \n"
       ]
      },
      {
       "output_type": "stream",
       "stream": "stdout",
       "text": [
        "      100/100 after      6 sec. | K   10 | ev -1.403154427e-01 | Ndiff      0.118 \n"
       ]
      },
      {
       "output_type": "stream",
       "stream": "stdout",
       "text": [
        "... done. not converged. max laps thru data exceeded.\n"
       ]
      },
      {
       "output_type": "stream",
       "stream": "stdout",
       "text": [
        "Trial  5/25 | alg. seed: 543872 | data order seed: 6479872\n"
       ]
      },
      {
       "output_type": "stream",
       "stream": "stdout",
       "text": [
        "savepath: /results/AsteriskK8/compareinit-K=10-randexamples/5\n"
       ]
      },
      {
       "output_type": "stream",
       "stream": "stdout",
       "text": [
        "        1/100 after      0 sec. | K   10 | ev -4.402459444e+06 |  \n"
       ]
      },
      {
       "output_type": "stream",
       "stream": "stdout",
       "text": [
        "        2/100 after      0 sec. | K   10 | ev -4.673188000e-01 | Ndiff    309.553 \n"
       ]
      },
      {
       "output_type": "stream",
       "stream": "stdout",
       "text": [
        "       99/100 after      6 sec. | K   10 | ev  1.085656906e-01 | Ndiff      0.049 \n"
       ]
      },
      {
       "output_type": "stream",
       "stream": "stdout",
       "text": [
        "... done. converged.\n"
       ]
      },
      {
       "output_type": "stream",
       "stream": "stdout",
       "text": [
        "Trial  6/25 | alg. seed: 8294272 | data order seed: 9149952\n"
       ]
      },
      {
       "output_type": "stream",
       "stream": "stdout",
       "text": [
        "savepath: /results/AsteriskK8/compareinit-K=10-randexamples/6\n"
       ]
      },
      {
       "output_type": "stream",
       "stream": "stdout",
       "text": [
        "        1/100 after      0 sec. | K   10 | ev -4.532363181e+06 |  \n"
       ]
      },
      {
       "output_type": "stream",
       "stream": "stdout",
       "text": [
        "        2/100 after      0 sec. | K   10 | ev -6.146647998e-01 | Ndiff    316.032 \n"
       ]
      },
      {
       "output_type": "stream",
       "stream": "stdout",
       "text": [
        "      100/100 after      6 sec. | K   10 | ev  1.087381524e-01 | Ndiff      0.491 \n"
       ]
      },
      {
       "output_type": "stream",
       "stream": "stdout",
       "text": [
        "... done. not converged. max laps thru data exceeded.\n"
       ]
      },
      {
       "output_type": "stream",
       "stream": "stdout",
       "text": [
        "Trial  7/25 | alg. seed: 6597632 | data order seed: 3441280\n"
       ]
      },
      {
       "output_type": "stream",
       "stream": "stdout",
       "text": [
        "savepath: /results/AsteriskK8/compareinit-K=10-randexamples/7\n"
       ]
      },
      {
       "output_type": "stream",
       "stream": "stdout",
       "text": [
        "        1/100 after      0 sec. | K   10 | ev -5.423481616e+06 |  \n"
       ]
      },
      {
       "output_type": "stream",
       "stream": "stdout",
       "text": [
        "        2/100 after      0 sec. | K   10 | ev -5.894783288e-01 | Ndiff    623.997 \n"
       ]
      },
      {
       "output_type": "stream",
       "stream": "stdout",
       "text": [
        "      100/100 after      7 sec. | K   10 | ev -1.411017196e-01 | Ndiff      0.734 \n"
       ]
      },
      {
       "output_type": "stream",
       "stream": "stdout",
       "text": [
        "... done. not converged. max laps thru data exceeded.\n"
       ]
      },
      {
       "output_type": "stream",
       "stream": "stdout",
       "text": [
        "Trial  8/25 | alg. seed: 5652864 | data order seed: 899584\n"
       ]
      },
      {
       "output_type": "stream",
       "stream": "stdout",
       "text": [
        "savepath: /results/AsteriskK8/compareinit-K=10-randexamples/8\n"
       ]
      },
      {
       "output_type": "stream",
       "stream": "stdout",
       "text": [
        "        1/100 after      0 sec. | K   10 | ev -4.618649171e+06 |  \n"
       ]
      },
      {
       "output_type": "stream",
       "stream": "stdout",
       "text": [
        "        2/100 after      0 sec. | K   10 | ev -6.701893507e-01 | Ndiff    320.923 \n"
       ]
      },
      {
       "output_type": "stream",
       "stream": "stdout",
       "text": [
        "      100/100 after      7 sec. | K   10 | ev  1.085938360e-01 | Ndiff      0.404 \n"
       ]
      },
      {
       "output_type": "stream",
       "stream": "stdout",
       "text": [
        "... done. not converged. max laps thru data exceeded.\n"
       ]
      },
      {
       "output_type": "stream",
       "stream": "stdout",
       "text": [
        "Trial  9/25 | alg. seed: 478720 | data order seed: 3785600\n"
       ]
      },
      {
       "output_type": "stream",
       "stream": "stdout",
       "text": [
        "savepath: /results/AsteriskK8/compareinit-K=10-randexamples/9\n"
       ]
      },
      {
       "output_type": "stream",
       "stream": "stdout",
       "text": [
        "        1/100 after      0 sec. | K   10 | ev -5.109595937e+06 |  \n"
       ]
      },
      {
       "output_type": "stream",
       "stream": "stdout",
       "text": [
        "        2/100 after      0 sec. | K   10 | ev -6.427303551e-01 | Ndiff    319.450 \n"
       ]
      },
      {
       "output_type": "stream",
       "stream": "stdout",
       "text": [
        "       20/100 after      1 sec. | K   10 | ev  1.085102777e-01 | Ndiff      0.037 \n"
       ]
      },
      {
       "output_type": "stream",
       "stream": "stdout",
       "text": [
        "... done. converged.\n"
       ]
      },
      {
       "output_type": "stream",
       "stream": "stdout",
       "text": [
        "Trial 10/25 | alg. seed: 955776 | data order seed: 6801920\n"
       ]
      },
      {
       "output_type": "stream",
       "stream": "stdout",
       "text": [
        "savepath: /results/AsteriskK8/compareinit-K=10-randexamples/10\n"
       ]
      },
      {
       "output_type": "stream",
       "stream": "stdout",
       "text": [
        "        1/100 after      0 sec. | K   10 | ev -3.769531359e+06 |  \n"
       ]
      },
      {
       "output_type": "stream",
       "stream": "stdout",
       "text": [
        "        2/100 after      0 sec. | K   10 | ev -2.988518456e-01 | Ndiff    488.401 \n"
       ]
      },
      {
       "output_type": "stream",
       "stream": "stdout",
       "text": [
        "      100/100 after      6 sec. | K   10 | ev  1.086153722e-01 | Ndiff      0.217 \n"
       ]
      },
      {
       "output_type": "stream",
       "stream": "stdout",
       "text": [
        "... done. not converged. max laps thru data exceeded.\n"
       ]
      },
      {
       "output_type": "stream",
       "stream": "stdout",
       "text": [
        "Trial 11/25 | alg. seed: 3296640 | data order seed: 2531072\n"
       ]
      },
      {
       "output_type": "stream",
       "stream": "stdout",
       "text": [
        "savepath: /results/AsteriskK8/compareinit-K=10-randexamples/11\n"
       ]
      },
      {
       "output_type": "stream",
       "stream": "stdout",
       "text": [
        "        1/100 after      0 sec. | K   10 | ev -4.402603216e+06 |  \n"
       ]
      },
      {
       "output_type": "stream",
       "stream": "stdout",
       "text": [
        "        2/100 after      0 sec. | K   10 | ev -7.074510784e-01 | Ndiff    630.905 \n"
       ]
      },
      {
       "output_type": "stream",
       "stream": "stdout",
       "text": [
        "      100/100 after      6 sec. | K   10 | ev  1.086250809e-01 | Ndiff      0.421 \n"
       ]
      },
      {
       "output_type": "stream",
       "stream": "stdout",
       "text": [
        "... done. not converged. max laps thru data exceeded.\n"
       ]
      },
      {
       "output_type": "stream",
       "stream": "stdout",
       "text": [
        "Trial 12/25 | alg. seed: 2183296 | data order seed: 3886080\n"
       ]
      },
      {
       "output_type": "stream",
       "stream": "stdout",
       "text": [
        "savepath: /results/AsteriskK8/compareinit-K=10-randexamples/12\n"
       ]
      },
      {
       "output_type": "stream",
       "stream": "stdout",
       "text": [
        "        1/100 after      0 sec. | K   10 | ev -4.568839580e+06 |  \n"
       ]
      },
      {
       "output_type": "stream",
       "stream": "stdout",
       "text": [
        "        2/100 after      0 sec. | K   10 | ev -7.081996005e-01 | Ndiff    581.581 \n"
       ]
      },
      {
       "output_type": "stream",
       "stream": "stdout",
       "text": [
        "      100/100 after      6 sec. | K   10 | ev  1.085405004e-01 | Ndiff      0.249 \n"
       ]
      },
      {
       "output_type": "stream",
       "stream": "stdout",
       "text": [
        "... done. not converged. max laps thru data exceeded.\n"
       ]
      },
      {
       "output_type": "stream",
       "stream": "stdout",
       "text": [
        "Trial 13/25 | alg. seed: 9082752 | data order seed: 8818688\n"
       ]
      },
      {
       "output_type": "stream",
       "stream": "stdout",
       "text": [
        "savepath: /results/AsteriskK8/compareinit-K=10-randexamples/13\n"
       ]
      },
      {
       "output_type": "stream",
       "stream": "stdout",
       "text": [
        "        1/100 after      0 sec. | K   10 | ev -2.125579148e+07 |  \n"
       ]
      },
      {
       "output_type": "stream",
       "stream": "stdout",
       "text": [
        "        2/100 after      0 sec. | K   10 | ev -7.031932089e-01 | Ndiff    291.678 \n"
       ]
      },
      {
       "output_type": "stream",
       "stream": "stdout",
       "text": [
        "      100/100 after      6 sec. | K   10 | ev -3.281586650e-01 | Ndiff      0.858 \n"
       ]
      },
      {
       "output_type": "stream",
       "stream": "stdout",
       "text": [
        "... done. not converged. max laps thru data exceeded.\n"
       ]
      },
      {
       "output_type": "stream",
       "stream": "stdout",
       "text": [
        "Trial 14/25 | alg. seed: 1826176 | data order seed: 3528320\n"
       ]
      },
      {
       "output_type": "stream",
       "stream": "stdout",
       "text": [
        "savepath: /results/AsteriskK8/compareinit-K=10-randexamples/14\n"
       ]
      },
      {
       "output_type": "stream",
       "stream": "stdout",
       "text": [
        "        1/100 after      0 sec. | K   10 | ev -5.114279451e+06 |  \n"
       ]
      },
      {
       "output_type": "stream",
       "stream": "stdout",
       "text": [
        "        2/100 after      0 sec. | K   10 | ev -5.950452856e-01 | Ndiff    765.461 \n"
       ]
      },
      {
       "output_type": "stream",
       "stream": "stdout",
       "text": [
        "      100/100 after      6 sec. | K   10 | ev -1.379526882e-01 | Ndiff      0.188 \n"
       ]
      },
      {
       "output_type": "stream",
       "stream": "stdout",
       "text": [
        "... done. not converged. max laps thru data exceeded.\n"
       ]
      },
      {
       "output_type": "stream",
       "stream": "stdout",
       "text": [
        "Trial 15/25 | alg. seed: 2865664 | data order seed: 1024640\n"
       ]
      },
      {
       "output_type": "stream",
       "stream": "stdout",
       "text": [
        "savepath: /results/AsteriskK8/compareinit-K=10-randexamples/15\n"
       ]
      },
      {
       "output_type": "stream",
       "stream": "stdout",
       "text": [
        "        1/100 after      0 sec. | K   10 | ev -3.663796388e+06 |  \n"
       ]
      },
      {
       "output_type": "stream",
       "stream": "stdout",
       "text": [
        "        2/100 after      0 sec. | K   10 | ev -5.210069660e-01 | Ndiff    231.593 \n"
       ]
      },
      {
       "output_type": "stream",
       "stream": "stdout",
       "text": [
        "      100/100 after      6 sec. | K   10 | ev  1.086179282e-01 | Ndiff      0.207 \n"
       ]
      },
      {
       "output_type": "stream",
       "stream": "stdout",
       "text": [
        "... done. not converged. max laps thru data exceeded.\n"
       ]
      },
      {
       "output_type": "stream",
       "stream": "stdout",
       "text": [
        "Trial 16/25 | alg. seed: 6036480 | data order seed: 8819712\n"
       ]
      },
      {
       "output_type": "stream",
       "stream": "stdout",
       "text": [
        "savepath: /results/AsteriskK8/compareinit-K=10-randexamples/16\n"
       ]
      },
      {
       "output_type": "stream",
       "stream": "stdout",
       "text": [
        "        1/100 after      0 sec. | K   10 | ev -2.933777901e+06 |  \n"
       ]
      },
      {
       "output_type": "stream",
       "stream": "stdout",
       "text": [
        "        2/100 after      0 sec. | K   10 | ev -3.786765581e-01 | Ndiff    545.778 \n"
       ]
      },
      {
       "output_type": "stream",
       "stream": "stdout",
       "text": [
        "      100/100 after      6 sec. | K   10 | ev -1.399924635e-01 | Ndiff      0.254 \n"
       ]
      },
      {
       "output_type": "stream",
       "stream": "stdout",
       "text": [
        "... done. not converged. max laps thru data exceeded.\n"
       ]
      },
      {
       "output_type": "stream",
       "stream": "stdout",
       "text": [
        "Trial 17/25 | alg. seed: 8729088 | data order seed: 9034368\n"
       ]
      },
      {
       "output_type": "stream",
       "stream": "stdout",
       "text": [
        "savepath: /results/AsteriskK8/compareinit-K=10-randexamples/17\n"
       ]
      },
      {
       "output_type": "stream",
       "stream": "stdout",
       "text": [
        "        1/100 after      0 sec. | K   10 | ev -6.810981797e+06 |  \n"
       ]
      },
      {
       "output_type": "stream",
       "stream": "stdout",
       "text": [
        "        2/100 after      0 sec. | K   10 | ev -6.580048086e-01 | Ndiff    320.708 \n"
       ]
      },
      {
       "output_type": "stream",
       "stream": "stdout",
       "text": [
        "      100/100 after      6 sec. | K   10 | ev -1.378493652e-01 | Ndiff      0.376 \n"
       ]
      },
      {
       "output_type": "stream",
       "stream": "stdout",
       "text": [
        "... done. not converged. max laps thru data exceeded.\n"
       ]
      },
      {
       "output_type": "stream",
       "stream": "stdout",
       "text": [
        "Trial 18/25 | alg. seed: 8933248 | data order seed: 9882240\n"
       ]
      },
      {
       "output_type": "stream",
       "stream": "stdout",
       "text": [
        "savepath: /results/AsteriskK8/compareinit-K=10-randexamples/18\n"
       ]
      },
      {
       "output_type": "stream",
       "stream": "stdout",
       "text": [
        "        1/100 after      0 sec. | K   10 | ev -6.079875910e+06 |  \n"
       ]
      },
      {
       "output_type": "stream",
       "stream": "stdout",
       "text": [
        "        2/100 after      0 sec. | K   10 | ev -5.028302631e-01 | Ndiff    403.851 \n"
       ]
      },
      {
       "output_type": "stream",
       "stream": "stdout",
       "text": [
        "       43/100 after      3 sec. | K   10 | ev  1.085357929e-01 | Ndiff      0.048 \n"
       ]
      },
      {
       "output_type": "stream",
       "stream": "stdout",
       "text": [
        "... done. converged.\n"
       ]
      },
      {
       "output_type": "stream",
       "stream": "stdout",
       "text": [
        "Trial 19/25 | alg. seed: 793600 | data order seed: 3803392\n"
       ]
      },
      {
       "output_type": "stream",
       "stream": "stdout",
       "text": [
        "savepath: /results/AsteriskK8/compareinit-K=10-randexamples/19\n"
       ]
      },
      {
       "output_type": "stream",
       "stream": "stdout",
       "text": [
        "        1/100 after      0 sec. | K   10 | ev -5.004002662e+06 |  \n"
       ]
      },
      {
       "output_type": "stream",
       "stream": "stdout",
       "text": [
        "        2/100 after      0 sec. | K   10 | ev -5.655078001e-01 | Ndiff    220.619 \n"
       ]
      },
      {
       "output_type": "stream",
       "stream": "stdout",
       "text": [
        "      100/100 after      6 sec. | K   10 | ev  1.086034468e-01 | Ndiff      0.886 \n"
       ]
      },
      {
       "output_type": "stream",
       "stream": "stdout",
       "text": [
        "... done. not converged. max laps thru data exceeded.\n"
       ]
      },
      {
       "output_type": "stream",
       "stream": "stdout",
       "text": [
        "Trial 20/25 | alg. seed: 6725120 | data order seed: 1715072\n"
       ]
      },
      {
       "output_type": "stream",
       "stream": "stdout",
       "text": [
        "savepath: /results/AsteriskK8/compareinit-K=10-randexamples/20\n"
       ]
      },
      {
       "output_type": "stream",
       "stream": "stdout",
       "text": [
        "        1/100 after      0 sec. | K   10 | ev -7.214520759e+06 |  \n"
       ]
      },
      {
       "output_type": "stream",
       "stream": "stdout",
       "text": [
        "        2/100 after      0 sec. | K   10 | ev -6.808426692e-01 | Ndiff    691.060 \n"
       ]
      },
      {
       "output_type": "stream",
       "stream": "stdout",
       "text": [
        "      100/100 after      6 sec. | K   10 | ev -1.373090811e-01 | Ndiff      0.355 \n"
       ]
      },
      {
       "output_type": "stream",
       "stream": "stdout",
       "text": [
        "... done. not converged. max laps thru data exceeded.\n"
       ]
      },
      {
       "output_type": "stream",
       "stream": "stdout",
       "text": [
        "Trial 21/25 | alg. seed: 4116864 | data order seed: 6033536\n"
       ]
      },
      {
       "output_type": "stream",
       "stream": "stdout",
       "text": [
        "savepath: /results/AsteriskK8/compareinit-K=10-randexamples/21\n"
       ]
      },
      {
       "output_type": "stream",
       "stream": "stdout",
       "text": [
        "        1/100 after      0 sec. | K   10 | ev -2.772559421e+06 |  \n"
       ]
      },
      {
       "output_type": "stream",
       "stream": "stdout",
       "text": [
        "        2/100 after      0 sec. | K   10 | ev -3.332692393e-01 | Ndiff    232.407 \n"
       ]
      },
      {
       "output_type": "stream",
       "stream": "stdout",
       "text": [
        "       25/100 after      2 sec. | K   10 | ev  1.085881812e-01 | Ndiff      0.042 \n"
       ]
      },
      {
       "output_type": "stream",
       "stream": "stdout",
       "text": [
        "... done. converged.\n"
       ]
      },
      {
       "output_type": "stream",
       "stream": "stdout",
       "text": [
        "Trial 22/25 | alg. seed: 4644096 | data order seed: 8644096\n"
       ]
      },
      {
       "output_type": "stream",
       "stream": "stdout",
       "text": [
        "savepath: /results/AsteriskK8/compareinit-K=10-randexamples/22\n"
       ]
      },
      {
       "output_type": "stream",
       "stream": "stdout",
       "text": [
        "        1/100 after      0 sec. | K   10 | ev -6.591496824e+06 |  \n"
       ]
      },
      {
       "output_type": "stream",
       "stream": "stdout",
       "text": [
        "        2/100 after      0 sec. | K   10 | ev -8.144558164e-01 | Ndiff    414.050 \n"
       ]
      },
      {
       "output_type": "stream",
       "stream": "stdout",
       "text": [
        "       40/100 after      3 sec. | K   10 | ev -1.377360370e-01 | Ndiff      0.050 \n"
       ]
      },
      {
       "output_type": "stream",
       "stream": "stdout",
       "text": [
        "... done. converged.\n"
       ]
      },
      {
       "output_type": "stream",
       "stream": "stdout",
       "text": [
        "Trial 23/25 | alg. seed: 9808000 | data order seed: 2513920\n"
       ]
      },
      {
       "output_type": "stream",
       "stream": "stdout",
       "text": [
        "savepath: /results/AsteriskK8/compareinit-K=10-randexamples/23\n"
       ]
      },
      {
       "output_type": "stream",
       "stream": "stdout",
       "text": [
        "        1/100 after      0 sec. | K   10 | ev -5.606828878e+06 |  \n"
       ]
      },
      {
       "output_type": "stream",
       "stream": "stdout",
       "text": [
        "        2/100 after      0 sec. | K   10 | ev -6.281483384e-01 | Ndiff    120.879 \n"
       ]
      },
      {
       "output_type": "stream",
       "stream": "stdout",
       "text": [
        "      100/100 after      6 sec. | K   10 | ev  1.086061951e-01 | Ndiff      0.324 \n"
       ]
      },
      {
       "output_type": "stream",
       "stream": "stdout",
       "text": [
        "... done. not converged. max laps thru data exceeded.\n"
       ]
      },
      {
       "output_type": "stream",
       "stream": "stdout",
       "text": [
        "Trial 24/25 | alg. seed: 447360 | data order seed: 6039296\n"
       ]
      },
      {
       "output_type": "stream",
       "stream": "stdout",
       "text": [
        "savepath: /results/AsteriskK8/compareinit-K=10-randexamples/24\n"
       ]
      },
      {
       "output_type": "stream",
       "stream": "stdout",
       "text": [
        "        1/100 after      0 sec. | K   10 | ev -4.547278148e+06 |  \n"
       ]
      },
      {
       "output_type": "stream",
       "stream": "stdout",
       "text": [
        "        2/100 after      0 sec. | K   10 | ev -6.680528521e-01 | Ndiff    637.874 \n"
       ]
      },
      {
       "output_type": "stream",
       "stream": "stdout",
       "text": [
        "      100/100 after      6 sec. | K   10 | ev  1.087554959e-01 | Ndiff      0.218 \n"
       ]
      },
      {
       "output_type": "stream",
       "stream": "stdout",
       "text": [
        "... done. not converged. max laps thru data exceeded.\n"
       ]
      },
      {
       "output_type": "stream",
       "stream": "stdout",
       "text": [
        "Trial 25/25 | alg. seed: 818944 | data order seed: 7907200\n"
       ]
      },
      {
       "output_type": "stream",
       "stream": "stdout",
       "text": [
        "savepath: /results/AsteriskK8/compareinit-K=10-randexamples/25\n"
       ]
      },
      {
       "output_type": "stream",
       "stream": "stdout",
       "text": [
        "        1/100 after      0 sec. | K   10 | ev -6.515168176e+06 |  \n"
       ]
      },
      {
       "output_type": "stream",
       "stream": "stdout",
       "text": [
        "        2/100 after      0 sec. | K   10 | ev -7.869080181e-01 | Ndiff    394.908 \n"
       ]
      },
      {
       "output_type": "stream",
       "stream": "stdout",
       "text": [
        "      100/100 after      6 sec. | K   10 | ev  1.086201284e-01 | Ndiff      0.574 \n"
       ]
      },
      {
       "output_type": "stream",
       "stream": "stdout",
       "text": [
        "... done. not converged. max laps thru data exceeded.\n"
       ]
      }
     ],
     "prompt_number": 17
    },
    {
     "cell_type": "markdown",
     "metadata": {},
     "source": [
      "### SMART INITIALIZATION METHOD: randexamplesbydist"
     ]
    },
    {
     "cell_type": "code",
     "collapsed": false,
     "input": [
      "bnpy.run('AsteriskK8', 'FiniteMixtureModel', 'Gauss', 'EM',\n",
      "          nLap=100, K=10, nTask=25, printEvery=100,\n",
      "          initname='randexamplesbydist', jobname='compareinit-K=10-randexamplesbydist');"
     ],
     "language": "python",
     "metadata": {},
     "outputs": [
      {
       "output_type": "stream",
       "stream": "stdout",
       "text": [
        "Asterisk Toy Data. 8 true clusters.\n"
       ]
      },
      {
       "output_type": "stream",
       "stream": "stdout",
       "text": [
        "  size: 25000 units (single observations)\n",
        "  dimension: 2\n"
       ]
      },
      {
       "output_type": "stream",
       "stream": "stdout",
       "text": [
        "Allocation Model:  Finite mixture with K=10. Dir prior param 1.00\n",
        "Obs. Data  Model:  Gaussian with full covariance.\n",
        "Obs. Data  Prior:  Gauss-Wishart on each mean/prec matrix pair: mu, Lam\n",
        "  E[ mu[k] ]     = [ 0.  0.]\n",
        "  E[ CovMat[k] ] = \n",
        "  [[ 1.  0.]\n",
        "   [ 0.  1.]]\n"
       ]
      },
      {
       "output_type": "stream",
       "stream": "stdout",
       "text": [
        "Learn Alg: EM\n"
       ]
      },
      {
       "output_type": "stream",
       "stream": "stdout",
       "text": [
        "Trial  1/25 | alg. seed: 7451264 | data order seed: 8541952\n"
       ]
      },
      {
       "output_type": "stream",
       "stream": "stdout",
       "text": [
        "savepath: /results/AsteriskK8/compareinit-K=10-randexamplesbydist/1\n"
       ]
      },
      {
       "output_type": "stream",
       "stream": "stdout",
       "text": [
        "        1/100 after      0 sec. | K   10 | ev -2.973288219e+06 |  \n"
       ]
      },
      {
       "output_type": "stream",
       "stream": "stdout",
       "text": [
        "        2/100 after      0 sec. | K   10 | ev -3.486995300e-01 | Ndiff    829.097 \n"
       ]
      },
      {
       "output_type": "stream",
       "stream": "stdout",
       "text": [
        "      100/100 after      6 sec. | K   10 | ev  1.085691707e-01 | Ndiff      0.395 \n"
       ]
      },
      {
       "output_type": "stream",
       "stream": "stdout",
       "text": [
        "... done. not converged. max laps thru data exceeded.\n"
       ]
      },
      {
       "output_type": "stream",
       "stream": "stdout",
       "text": [
        "Trial  2/25 | alg. seed: 5565568 | data order seed: 7673856\n"
       ]
      },
      {
       "output_type": "stream",
       "stream": "stdout",
       "text": [
        "savepath: /results/AsteriskK8/compareinit-K=10-randexamplesbydist/2\n"
       ]
      },
      {
       "output_type": "stream",
       "stream": "stdout",
       "text": [
        "        1/100 after      0 sec. | K   10 | ev -3.516407474e+06 |  \n"
       ]
      },
      {
       "output_type": "stream",
       "stream": "stdout",
       "text": [
        "        2/100 after      0 sec. | K   10 | ev -3.420936820e-01 | Ndiff    931.372 \n"
       ]
      },
      {
       "output_type": "stream",
       "stream": "stdout",
       "text": [
        "      100/100 after      6 sec. | K   10 | ev  1.085788381e-01 | Ndiff      0.291 \n"
       ]
      },
      {
       "output_type": "stream",
       "stream": "stdout",
       "text": [
        "... done. not converged. max laps thru data exceeded.\n"
       ]
      },
      {
       "output_type": "stream",
       "stream": "stdout",
       "text": [
        "Trial  3/25 | alg. seed: 2559616 | data order seed: 7360256\n"
       ]
      },
      {
       "output_type": "stream",
       "stream": "stdout",
       "text": [
        "savepath: /results/AsteriskK8/compareinit-K=10-randexamplesbydist/3\n"
       ]
      },
      {
       "output_type": "stream",
       "stream": "stdout",
       "text": [
        "        1/100 after      0 sec. | K   10 | ev -2.657419116e+06 |  \n"
       ]
      },
      {
       "output_type": "stream",
       "stream": "stdout",
       "text": [
        "        2/100 after      0 sec. | K   10 | ev -3.169381737e-01 | Ndiff    327.129 \n"
       ]
      },
      {
       "output_type": "stream",
       "stream": "stdout",
       "text": [
        "       38/100 after      2 sec. | K   10 | ev  1.085878268e-01 | Ndiff      0.042 \n"
       ]
      },
      {
       "output_type": "stream",
       "stream": "stdout",
       "text": [
        "... done. converged.\n"
       ]
      },
      {
       "output_type": "stream",
       "stream": "stdout",
       "text": [
        "Trial  4/25 | alg. seed: 7606528 | data order seed: 900864\n"
       ]
      },
      {
       "output_type": "stream",
       "stream": "stdout",
       "text": [
        "savepath: /results/AsteriskK8/compareinit-K=10-randexamplesbydist/4\n"
       ]
      },
      {
       "output_type": "stream",
       "stream": "stdout",
       "text": [
        "        1/100 after      0 sec. | K   10 | ev -2.751791130e+06 |  \n"
       ]
      },
      {
       "output_type": "stream",
       "stream": "stdout",
       "text": [
        "        2/100 after      0 sec. | K   10 | ev -1.664797694e-01 | Ndiff    916.668 \n"
       ]
      },
      {
       "output_type": "stream",
       "stream": "stdout",
       "text": [
        "      100/100 after      6 sec. | K   10 | ev  1.086099225e-01 | Ndiff      0.205 \n"
       ]
      },
      {
       "output_type": "stream",
       "stream": "stdout",
       "text": [
        "... done. not converged. max laps thru data exceeded.\n"
       ]
      },
      {
       "output_type": "stream",
       "stream": "stdout",
       "text": [
        "Trial  5/25 | alg. seed: 543872 | data order seed: 6479872\n"
       ]
      },
      {
       "output_type": "stream",
       "stream": "stdout",
       "text": [
        "savepath: /results/AsteriskK8/compareinit-K=10-randexamplesbydist/5\n"
       ]
      },
      {
       "output_type": "stream",
       "stream": "stdout",
       "text": [
        "        1/100 after      0 sec. | K   10 | ev -2.722948944e+06 |  \n"
       ]
      },
      {
       "output_type": "stream",
       "stream": "stdout",
       "text": [
        "        2/100 after      0 sec. | K   10 | ev -3.466986621e-01 | Ndiff    380.578 \n"
       ]
      },
      {
       "output_type": "stream",
       "stream": "stdout",
       "text": [
        "      100/100 after      6 sec. | K   10 | ev  1.085382985e-01 | Ndiff      0.254 \n"
       ]
      },
      {
       "output_type": "stream",
       "stream": "stdout",
       "text": [
        "... done. not converged. max laps thru data exceeded.\n"
       ]
      },
      {
       "output_type": "stream",
       "stream": "stdout",
       "text": [
        "Trial  6/25 | alg. seed: 8294272 | data order seed: 9149952\n"
       ]
      },
      {
       "output_type": "stream",
       "stream": "stdout",
       "text": [
        "savepath: /results/AsteriskK8/compareinit-K=10-randexamplesbydist/6\n"
       ]
      },
      {
       "output_type": "stream",
       "stream": "stdout",
       "text": [
        "        1/100 after      0 sec. | K   10 | ev -2.406340227e+06 |  \n"
       ]
      },
      {
       "output_type": "stream",
       "stream": "stdout",
       "text": [
        "        2/100 after      0 sec. | K   10 | ev -5.604639580e-02 | Ndiff    924.765 \n"
       ]
      },
      {
       "output_type": "stream",
       "stream": "stdout",
       "text": [
        "      100/100 after      6 sec. | K   10 | ev  1.086271058e-01 | Ndiff      0.463 \n"
       ]
      },
      {
       "output_type": "stream",
       "stream": "stdout",
       "text": [
        "... done. not converged. max laps thru data exceeded.\n"
       ]
      },
      {
       "output_type": "stream",
       "stream": "stdout",
       "text": [
        "Trial  7/25 | alg. seed: 6597632 | data order seed: 3441280\n"
       ]
      },
      {
       "output_type": "stream",
       "stream": "stdout",
       "text": [
        "savepath: /results/AsteriskK8/compareinit-K=10-randexamplesbydist/7\n"
       ]
      },
      {
       "output_type": "stream",
       "stream": "stdout",
       "text": [
        "        1/100 after      0 sec. | K   10 | ev -3.515840550e+06 |  \n"
       ]
      },
      {
       "output_type": "stream",
       "stream": "stdout",
       "text": [
        "        2/100 after      0 sec. | K   10 | ev -2.408568424e-01 | Ndiff    214.998 \n"
       ]
      },
      {
       "output_type": "stream",
       "stream": "stdout",
       "text": [
        "      100/100 after      6 sec. | K   10 | ev  1.086368202e-01 | Ndiff      0.287 \n"
       ]
      },
      {
       "output_type": "stream",
       "stream": "stdout",
       "text": [
        "... done. not converged. max laps thru data exceeded.\n"
       ]
      },
      {
       "output_type": "stream",
       "stream": "stdout",
       "text": [
        "Trial  8/25 | alg. seed: 5652864 | data order seed: 899584\n"
       ]
      },
      {
       "output_type": "stream",
       "stream": "stdout",
       "text": [
        "savepath: /results/AsteriskK8/compareinit-K=10-randexamplesbydist/8\n"
       ]
      },
      {
       "output_type": "stream",
       "stream": "stdout",
       "text": [
        "        1/100 after      0 sec. | K   10 | ev -1.469471223e+06 |  \n"
       ]
      },
      {
       "output_type": "stream",
       "stream": "stdout",
       "text": [
        "        2/100 after      0 sec. | K   10 | ev  2.754242891e-02 | Ndiff    515.001 \n"
       ]
      },
      {
       "output_type": "stream",
       "stream": "stdout",
       "text": [
        "      100/100 after      6 sec. | K   10 | ev  1.086463222e-01 | Ndiff      0.427 \n"
       ]
      },
      {
       "output_type": "stream",
       "stream": "stdout",
       "text": [
        "... done. not converged. max laps thru data exceeded.\n"
       ]
      },
      {
       "output_type": "stream",
       "stream": "stdout",
       "text": [
        "Trial  9/25 | alg. seed: 478720 | data order seed: 3785600\n"
       ]
      },
      {
       "output_type": "stream",
       "stream": "stdout",
       "text": [
        "savepath: /results/AsteriskK8/compareinit-K=10-randexamplesbydist/9\n"
       ]
      },
      {
       "output_type": "stream",
       "stream": "stdout",
       "text": [
        "        1/100 after      0 sec. | K   10 | ev -3.733528245e+06 |  \n"
       ]
      },
      {
       "output_type": "stream",
       "stream": "stdout",
       "text": [
        "        2/100 after      0 sec. | K   10 | ev -2.436933674e-01 | Ndiff    486.192 \n"
       ]
      },
      {
       "output_type": "stream",
       "stream": "stdout",
       "text": [
        "      100/100 after      6 sec. | K   10 | ev -1.378186454e-01 | Ndiff      0.724 \n"
       ]
      },
      {
       "output_type": "stream",
       "stream": "stdout",
       "text": [
        "... done. not converged. max laps thru data exceeded.\n"
       ]
      },
      {
       "output_type": "stream",
       "stream": "stdout",
       "text": [
        "Trial 10/25 | alg. seed: 955776 | data order seed: 6801920\n"
       ]
      },
      {
       "output_type": "stream",
       "stream": "stdout",
       "text": [
        "savepath: /results/AsteriskK8/compareinit-K=10-randexamplesbydist/10\n"
       ]
      },
      {
       "output_type": "stream",
       "stream": "stdout",
       "text": [
        "        1/100 after      0 sec. | K   10 | ev -2.484298416e+06 |  \n"
       ]
      },
      {
       "output_type": "stream",
       "stream": "stdout",
       "text": [
        "        2/100 after      0 sec. | K   10 | ev -4.207457791e-02 | Ndiff    533.266 \n"
       ]
      },
      {
       "output_type": "stream",
       "stream": "stdout",
       "text": [
        "      100/100 after      7 sec. | K   10 | ev  1.086217547e-01 | Ndiff      0.343 \n"
       ]
      },
      {
       "output_type": "stream",
       "stream": "stdout",
       "text": [
        "... done. not converged. max laps thru data exceeded.\n"
       ]
      },
      {
       "output_type": "stream",
       "stream": "stdout",
       "text": [
        "Trial 11/25 | alg. seed: 3296640 | data order seed: 2531072\n"
       ]
      },
      {
       "output_type": "stream",
       "stream": "stdout",
       "text": [
        "savepath: /results/AsteriskK8/compareinit-K=10-randexamplesbydist/11\n"
       ]
      },
      {
       "output_type": "stream",
       "stream": "stdout",
       "text": [
        "        1/100 after      0 sec. | K   10 | ev -1.795773630e+06 |  \n"
       ]
      },
      {
       "output_type": "stream",
       "stream": "stdout",
       "text": [
        "        2/100 after      0 sec. | K   10 | ev  2.527338885e-02 | Ndiff    482.198 \n"
       ]
      },
      {
       "output_type": "stream",
       "stream": "stdout",
       "text": [
        "      100/100 after      8 sec. | K   10 | ev  1.086989328e-01 | Ndiff      0.199 \n"
       ]
      },
      {
       "output_type": "stream",
       "stream": "stdout",
       "text": [
        "... done. not converged. max laps thru data exceeded.\n"
       ]
      },
      {
       "output_type": "stream",
       "stream": "stdout",
       "text": [
        "Trial 12/25 | alg. seed: 2183296 | data order seed: 3886080\n"
       ]
      },
      {
       "output_type": "stream",
       "stream": "stdout",
       "text": [
        "savepath: /results/AsteriskK8/compareinit-K=10-randexamplesbydist/12\n"
       ]
      },
      {
       "output_type": "stream",
       "stream": "stdout",
       "text": [
        "        1/100 after      0 sec. | K   10 | ev -1.992792616e+06 |  \n"
       ]
      },
      {
       "output_type": "stream",
       "stream": "stdout",
       "text": [
        "        2/100 after      0 sec. | K   10 | ev  5.480104246e-03 | Ndiff   1024.936 \n"
       ]
      },
      {
       "output_type": "stream",
       "stream": "stdout",
       "text": [
        "      100/100 after      7 sec. | K   10 | ev  1.086133239e-01 | Ndiff      0.320 \n"
       ]
      },
      {
       "output_type": "stream",
       "stream": "stdout",
       "text": [
        "... done. not converged. max laps thru data exceeded.\n"
       ]
      },
      {
       "output_type": "stream",
       "stream": "stdout",
       "text": [
        "Trial 13/25 | alg. seed: 9082752 | data order seed: 8818688\n"
       ]
      },
      {
       "output_type": "stream",
       "stream": "stdout",
       "text": [
        "savepath: /results/AsteriskK8/compareinit-K=10-randexamplesbydist/13\n"
       ]
      },
      {
       "output_type": "stream",
       "stream": "stdout",
       "text": [
        "        1/100 after      0 sec. | K   10 | ev -1.704159885e+06 |  \n"
       ]
      },
      {
       "output_type": "stream",
       "stream": "stdout",
       "text": [
        "        2/100 after      0 sec. | K   10 | ev  1.195677204e-02 | Ndiff    505.249 \n"
       ]
      },
      {
       "output_type": "stream",
       "stream": "stdout",
       "text": [
        "      100/100 after      6 sec. | K   10 | ev  1.085490705e-01 | Ndiff      0.174 \n"
       ]
      },
      {
       "output_type": "stream",
       "stream": "stdout",
       "text": [
        "... done. not converged. max laps thru data exceeded.\n"
       ]
      },
      {
       "output_type": "stream",
       "stream": "stdout",
       "text": [
        "Trial 14/25 | alg. seed: 1826176 | data order seed: 3528320\n"
       ]
      },
      {
       "output_type": "stream",
       "stream": "stdout",
       "text": [
        "savepath: /results/AsteriskK8/compareinit-K=10-randexamplesbydist/14\n"
       ]
      },
      {
       "output_type": "stream",
       "stream": "stdout",
       "text": [
        "        1/100 after      0 sec. | K   10 | ev -2.732785243e+06 |  \n"
       ]
      },
      {
       "output_type": "stream",
       "stream": "stdout",
       "text": [
        "        2/100 after      0 sec. | K   10 | ev -8.596664095e-02 | Ndiff    628.192 \n"
       ]
      },
      {
       "output_type": "stream",
       "stream": "stdout",
       "text": [
        "       42/100 after      3 sec. | K   10 | ev  1.087651192e-01 | Ndiff      0.038 \n"
       ]
      },
      {
       "output_type": "stream",
       "stream": "stdout",
       "text": [
        "... done. converged.\n"
       ]
      },
      {
       "output_type": "stream",
       "stream": "stdout",
       "text": [
        "Trial 15/25 | alg. seed: 2865664 | data order seed: 1024640\n"
       ]
      },
      {
       "output_type": "stream",
       "stream": "stdout",
       "text": [
        "savepath: /results/AsteriskK8/compareinit-K=10-randexamplesbydist/15\n"
       ]
      },
      {
       "output_type": "stream",
       "stream": "stdout",
       "text": [
        "        1/100 after      0 sec. | K   10 | ev -2.748786748e+06 |  \n"
       ]
      },
      {
       "output_type": "stream",
       "stream": "stdout",
       "text": [
        "        2/100 after      0 sec. | K   10 | ev -1.765417825e-01 | Ndiff    437.656 \n"
       ]
      },
      {
       "output_type": "stream",
       "stream": "stdout",
       "text": [
        "      100/100 after      6 sec. | K   10 | ev  1.086107604e-01 | Ndiff      0.885 \n"
       ]
      },
      {
       "output_type": "stream",
       "stream": "stdout",
       "text": [
        "... done. not converged. max laps thru data exceeded.\n"
       ]
      },
      {
       "output_type": "stream",
       "stream": "stdout",
       "text": [
        "Trial 16/25 | alg. seed: 6036480 | data order seed: 8819712\n"
       ]
      },
      {
       "output_type": "stream",
       "stream": "stdout",
       "text": [
        "savepath: /results/AsteriskK8/compareinit-K=10-randexamplesbydist/16\n"
       ]
      },
      {
       "output_type": "stream",
       "stream": "stdout",
       "text": [
        "        1/100 after      0 sec. | K   10 | ev -1.900608507e+06 |  \n"
       ]
      },
      {
       "output_type": "stream",
       "stream": "stdout",
       "text": [
        "        2/100 after      0 sec. | K   10 | ev  3.803285222e-02 | Ndiff    484.298 \n"
       ]
      },
      {
       "output_type": "stream",
       "stream": "stdout",
       "text": [
        "      100/100 after      6 sec. | K   10 | ev  1.085349435e-01 | Ndiff      0.183 \n"
       ]
      },
      {
       "output_type": "stream",
       "stream": "stdout",
       "text": [
        "... done. not converged. max laps thru data exceeded.\n"
       ]
      },
      {
       "output_type": "stream",
       "stream": "stdout",
       "text": [
        "Trial 17/25 | alg. seed: 8729088 | data order seed: 9034368\n"
       ]
      },
      {
       "output_type": "stream",
       "stream": "stdout",
       "text": [
        "savepath: /results/AsteriskK8/compareinit-K=10-randexamplesbydist/17\n"
       ]
      },
      {
       "output_type": "stream",
       "stream": "stdout",
       "text": [
        "        1/100 after      0 sec. | K   10 | ev -1.754183848e+06 |  \n"
       ]
      },
      {
       "output_type": "stream",
       "stream": "stdout",
       "text": [
        "        2/100 after      0 sec. | K   10 | ev  7.174857095e-02 | Ndiff    336.239 \n"
       ]
      },
      {
       "output_type": "stream",
       "stream": "stdout",
       "text": [
        "      100/100 after      6 sec. | K   10 | ev  1.086679765e-01 | Ndiff      0.944 \n"
       ]
      },
      {
       "output_type": "stream",
       "stream": "stdout",
       "text": [
        "... done. not converged. max laps thru data exceeded.\n"
       ]
      },
      {
       "output_type": "stream",
       "stream": "stdout",
       "text": [
        "Trial 18/25 | alg. seed: 8933248 | data order seed: 9882240\n"
       ]
      },
      {
       "output_type": "stream",
       "stream": "stdout",
       "text": [
        "savepath: /results/AsteriskK8/compareinit-K=10-randexamplesbydist/18\n"
       ]
      },
      {
       "output_type": "stream",
       "stream": "stdout",
       "text": [
        "        1/100 after      0 sec. | K   10 | ev -1.814913282e+06 |  \n"
       ]
      },
      {
       "output_type": "stream",
       "stream": "stdout",
       "text": [
        "        2/100 after      0 sec. | K   10 | ev  6.653621097e-02 | Ndiff    946.316 \n"
       ]
      },
      {
       "output_type": "stream",
       "stream": "stdout",
       "text": [
        "      100/100 after      6 sec. | K   10 | ev  1.088050340e-01 | Ndiff      0.496 \n"
       ]
      },
      {
       "output_type": "stream",
       "stream": "stdout",
       "text": [
        "... done. not converged. max laps thru data exceeded.\n"
       ]
      },
      {
       "output_type": "stream",
       "stream": "stdout",
       "text": [
        "Trial 19/25 | alg. seed: 793600 | data order seed: 3803392\n"
       ]
      },
      {
       "output_type": "stream",
       "stream": "stdout",
       "text": [
        "savepath: /results/AsteriskK8/compareinit-K=10-randexamplesbydist/19\n"
       ]
      },
      {
       "output_type": "stream",
       "stream": "stdout",
       "text": [
        "        1/100 after      0 sec. | K   10 | ev -3.242194590e+06 |  \n"
       ]
      },
      {
       "output_type": "stream",
       "stream": "stdout",
       "text": [
        "        2/100 after      0 sec. | K   10 | ev -4.947691338e-01 | Ndiff    527.991 \n"
       ]
      },
      {
       "output_type": "stream",
       "stream": "stdout",
       "text": [
        "      100/100 after      6 sec. | K   10 | ev -1.407649636e-01 | Ndiff      0.285 \n"
       ]
      },
      {
       "output_type": "stream",
       "stream": "stdout",
       "text": [
        "... done. not converged. max laps thru data exceeded.\n"
       ]
      },
      {
       "output_type": "stream",
       "stream": "stdout",
       "text": [
        "Trial 20/25 | alg. seed: 6725120 | data order seed: 1715072\n"
       ]
      },
      {
       "output_type": "stream",
       "stream": "stdout",
       "text": [
        "savepath: /results/AsteriskK8/compareinit-K=10-randexamplesbydist/20\n"
       ]
      },
      {
       "output_type": "stream",
       "stream": "stdout",
       "text": [
        "        1/100 after      0 sec. | K   10 | ev -3.185016013e+06 |  \n"
       ]
      },
      {
       "output_type": "stream",
       "stream": "stdout",
       "text": [
        "        2/100 after      0 sec. | K   10 | ev -3.487384455e-01 | Ndiff    640.851 \n"
       ]
      },
      {
       "output_type": "stream",
       "stream": "stdout",
       "text": [
        "       29/100 after      2 sec. | K   10 | ev  1.085578749e-01 | Ndiff      0.027 \n"
       ]
      },
      {
       "output_type": "stream",
       "stream": "stdout",
       "text": [
        "... done. converged.\n"
       ]
      },
      {
       "output_type": "stream",
       "stream": "stdout",
       "text": [
        "Trial 21/25 | alg. seed: 4116864 | data order seed: 6033536\n"
       ]
      },
      {
       "output_type": "stream",
       "stream": "stdout",
       "text": [
        "savepath: /results/AsteriskK8/compareinit-K=10-randexamplesbydist/21\n"
       ]
      },
      {
       "output_type": "stream",
       "stream": "stdout",
       "text": [
        "        1/100 after      0 sec. | K   10 | ev -1.870167507e+06 |  \n"
       ]
      },
      {
       "output_type": "stream",
       "stream": "stdout",
       "text": [
        "        2/100 after      0 sec. | K   10 | ev -4.590489542e-02 | Ndiff    651.301 \n"
       ]
      },
      {
       "output_type": "stream",
       "stream": "stdout",
       "text": [
        "      100/100 after      6 sec. | K   10 | ev  1.085518159e-01 | Ndiff      0.242 \n"
       ]
      },
      {
       "output_type": "stream",
       "stream": "stdout",
       "text": [
        "... done. not converged. max laps thru data exceeded.\n"
       ]
      },
      {
       "output_type": "stream",
       "stream": "stdout",
       "text": [
        "Trial 22/25 | alg. seed: 4644096 | data order seed: 8644096\n"
       ]
      },
      {
       "output_type": "stream",
       "stream": "stdout",
       "text": [
        "savepath: /results/AsteriskK8/compareinit-K=10-randexamplesbydist/22\n"
       ]
      },
      {
       "output_type": "stream",
       "stream": "stdout",
       "text": [
        "        1/100 after      0 sec. | K   10 | ev -2.321864828e+06 |  \n"
       ]
      },
      {
       "output_type": "stream",
       "stream": "stdout",
       "text": [
        "        2/100 after      0 sec. | K   10 | ev -3.460784895e-01 | Ndiff    528.638 \n"
       ]
      },
      {
       "output_type": "stream",
       "stream": "stdout",
       "text": [
        "      100/100 after      6 sec. | K   10 | ev  1.085986711e-01 | Ndiff      0.217 \n"
       ]
      },
      {
       "output_type": "stream",
       "stream": "stdout",
       "text": [
        "... done. not converged. max laps thru data exceeded.\n"
       ]
      },
      {
       "output_type": "stream",
       "stream": "stdout",
       "text": [
        "Trial 23/25 | alg. seed: 9808000 | data order seed: 2513920\n"
       ]
      },
      {
       "output_type": "stream",
       "stream": "stdout",
       "text": [
        "savepath: /results/AsteriskK8/compareinit-K=10-randexamplesbydist/23\n"
       ]
      },
      {
       "output_type": "stream",
       "stream": "stdout",
       "text": [
        "        1/100 after      0 sec. | K   10 | ev -2.047671369e+06 |  \n"
       ]
      },
      {
       "output_type": "stream",
       "stream": "stdout",
       "text": [
        "        2/100 after      0 sec. | K   10 | ev -4.337725639e-02 | Ndiff    525.865 \n"
       ]
      },
      {
       "output_type": "stream",
       "stream": "stdout",
       "text": [
        "       48/100 after      3 sec. | K   10 | ev  1.085136308e-01 | Ndiff      0.048 \n"
       ]
      },
      {
       "output_type": "stream",
       "stream": "stdout",
       "text": [
        "... done. converged.\n"
       ]
      },
      {
       "output_type": "stream",
       "stream": "stdout",
       "text": [
        "Trial 24/25 | alg. seed: 447360 | data order seed: 6039296\n"
       ]
      },
      {
       "output_type": "stream",
       "stream": "stdout",
       "text": [
        "savepath: /results/AsteriskK8/compareinit-K=10-randexamplesbydist/24\n"
       ]
      },
      {
       "output_type": "stream",
       "stream": "stdout",
       "text": [
        "        1/100 after      0 sec. | K   10 | ev -1.907191394e+06 |  \n"
       ]
      },
      {
       "output_type": "stream",
       "stream": "stdout",
       "text": [
        "        2/100 after      0 sec. | K   10 | ev  2.232573780e-03 | Ndiff    749.043 \n"
       ]
      },
      {
       "output_type": "stream",
       "stream": "stdout",
       "text": [
        "      100/100 after      6 sec. | K   10 | ev  1.086538157e-01 | Ndiff      0.399 \n"
       ]
      },
      {
       "output_type": "stream",
       "stream": "stdout",
       "text": [
        "... done. not converged. max laps thru data exceeded.\n"
       ]
      },
      {
       "output_type": "stream",
       "stream": "stdout",
       "text": [
        "Trial 25/25 | alg. seed: 818944 | data order seed: 7907200\n"
       ]
      },
      {
       "output_type": "stream",
       "stream": "stdout",
       "text": [
        "savepath: /results/AsteriskK8/compareinit-K=10-randexamplesbydist/25\n"
       ]
      },
      {
       "output_type": "stream",
       "stream": "stdout",
       "text": [
        "        1/100 after      0 sec. | K   10 | ev -3.083391707e+06 |  \n"
       ]
      },
      {
       "output_type": "stream",
       "stream": "stdout",
       "text": [
        "        2/100 after      0 sec. | K   10 | ev -2.801351837e-01 | Ndiff    691.918 \n"
       ]
      },
      {
       "output_type": "stream",
       "stream": "stdout",
       "text": [
        "      100/100 after      6 sec. | K   10 | ev  1.087014840e-01 | Ndiff      0.294 \n"
       ]
      },
      {
       "output_type": "stream",
       "stream": "stdout",
       "text": [
        "... done. not converged. max laps thru data exceeded.\n"
       ]
      }
     ],
     "prompt_number": 18
    },
    {
     "cell_type": "markdown",
     "metadata": {},
     "source": [
      "## Analyzing results"
     ]
    },
    {
     "cell_type": "markdown",
     "metadata": {},
     "source": [
      "Using **bnpy**'s built-in visualization tools, we can easily make a plot comparing the two methods."
     ]
    },
    {
     "cell_type": "code",
     "collapsed": false,
     "input": [
      "bnpy.viz.PlotELBO.plotJobsThatMatchKeywords('AsteriskK8/compareinit-K=10-*')\n",
      "pylab.legend(loc='lower right');\n",
      "pylab.xlabel('num pass thru data', fontsize=20);\n",
      "pylab.ylabel('train objective', fontsize=20);"
     ],
     "language": "python",
     "metadata": {},
     "outputs": [
      {
       "metadata": {},
       "output_type": "display_data",
       "png": "[encoded data removed]",
       "text": [
        "<matplotlib.figure.Figure at 0x8cc7970>"
       ]
      }
     ],
     "prompt_number": 15
    },
    {
     "cell_type": "markdown",
     "metadata": {},
     "source": [
      "This plot shows that across many runs, the `randexamplesbydist` procedure consistently reaches better objective function values than the simpler, more naive baseline. "
     ]
    }
   ],
   "metadata": {}
  }
 ]
}
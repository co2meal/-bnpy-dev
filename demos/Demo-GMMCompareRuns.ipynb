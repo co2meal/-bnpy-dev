{
 "metadata": {
  "name": ""
 },
 "nbformat": 3,
 "nbformat_minor": 0,
 "worksheets": [
  {
   "cells": [
    {
     "cell_type": "markdown",
     "metadata": {},
     "source": [
      "# Comparing multiple runs: GMM-EM\n",
      "\n",
      "## Goal\n",
      "\n",
      "We saw in the [EasyGMM](./EasyGMM.md) demo that the EM algorithm is vulnerable to *local optima*. Here, we explore this issue more thoroughly by examining performance across several runs (each initialized with different random seeds) on the same data.  \n",
      "\n",
      "This requires executing **bnpy** commands from a terminal.\n",
      "\n",
      "## Run the code\n",
      "\n",
      "The **--nTask** option specifies how many runs the algorithm should perform.  We'll try 10 runs.\n"
     ]
    },
    {
     "cell_type": "code",
     "collapsed": false,
     "input": [
      "import bnpy\n",
      "\n",
      "bnpy.run('AsteriskK8', 'MixModel', 'Gauss', 'EM', nLap=50, K=8, nTask=10)"
     ],
     "language": "python",
     "metadata": {},
     "outputs": [
      {
       "output_type": "stream",
       "stream": "stdout",
       "text": [
        "Asterisk Toy Data. 8 true clusters.\n"
       ]
      },
      {
       "output_type": "stream",
       "stream": "stdout",
       "text": [
        "  size: 25000 units (single observations)\n",
        "  dimension: 2\n"
       ]
      },
      {
       "output_type": "stream",
       "stream": "stdout",
       "text": [
        "Allocation Model:  Finite mixture with K=8. Dir prior param 1.00\n",
        "Obs. Data  Model:  Gaussian with full covariance.\n",
        "Obs. Data  Prior:  Gauss-Wishart on each mean/prec matrix pair: mu, Lam\n",
        "  E[ mu[k] ]     = [ 0.  0.]\n",
        "  E[ CovMat[k] ] = \n",
        "  [[ 1.  0.]\n",
        "   [ 0.  1.]]\n"
       ]
      },
      {
       "output_type": "stream",
       "stream": "stdout",
       "text": [
        "Learn Alg: EM\n"
       ]
      },
      {
       "output_type": "stream",
       "stream": "stdout",
       "text": [
        "Trial  1/10 | alg. seed: 4226944 | data order seed: 8541952\n"
       ]
      },
      {
       "output_type": "stream",
       "stream": "stdout",
       "text": [
        "savepath: /Users/Jens/Dropbox/dev/research/ML/out/AsteriskK8/defaultjob/1\n"
       ]
      },
      {
       "output_type": "stream",
       "stream": "stdout",
       "text": [
        "        1/50 after      0 sec. | K    8 | ev -5.233448743e+06 |  \n"
       ]
      },
      {
       "output_type": "stream",
       "stream": "stdout",
       "text": [
        "        2/50 after      0 sec. | K    8 | ev -7.255537859e-01 | Ndiff    469.916 \n"
       ]
      },
      {
       "output_type": "stream",
       "stream": "stdout",
       "text": [
        "        3/50 after      0 sec. | K    8 | ev -4.881217375e-01 | Ndiff    838.469 \n"
       ]
      },
      {
       "output_type": "stream",
       "stream": "stdout",
       "text": [
        "        4/50 after      0 sec. | K    8 | ev -3.600440237e-01 | Ndiff    624.909 \n"
       ]
      },
      {
       "output_type": "stream",
       "stream": "stdout",
       "text": [
        "        5/50 after      0 sec. | K    8 | ev -1.504401133e-01 | Ndiff    382.469 \n"
       ]
      },
      {
       "output_type": "stream",
       "stream": "stdout",
       "text": [
        "        6/50 after      0 sec. | K    8 | ev -1.208708327e-02 | Ndiff    621.636 \n"
       ]
      },
      {
       "output_type": "stream",
       "stream": "stdout",
       "text": [
        "        7/50 after      0 sec. | K    8 | ev  1.924327448e-02 | Ndiff    434.059 \n"
       ]
      },
      {
       "output_type": "stream",
       "stream": "stdout",
       "text": [
        "        8/50 after      0 sec. | K    8 | ev  4.236480859e-02 | Ndiff    239.341 \n"
       ]
      },
      {
       "output_type": "stream",
       "stream": "stdout",
       "text": [
        "        9/50 after      0 sec. | K    8 | ev  7.086226579e-02 | Ndiff    108.915 \n"
       ]
      },
      {
       "output_type": "stream",
       "stream": "stdout",
       "text": [
        "       10/50 after      0 sec. | K    8 | ev  1.053270414e-01 | Ndiff     16.711 \n"
       ]
      },
      {
       "output_type": "stream",
       "stream": "stdout",
       "text": [
        "       11/50 after      0 sec. | K    8 | ev  1.084152629e-01 | Ndiff      0.708 \n"
       ]
      },
      {
       "output_type": "stream",
       "stream": "stdout",
       "text": [
        "       12/50 after      0 sec. | K    8 | ev  1.084158112e-01 | Ndiff      0.019 \n"
       ]
      },
      {
       "output_type": "stream",
       "stream": "stdout",
       "text": [
        "... done. converged.\n"
       ]
      },
      {
       "output_type": "stream",
       "stream": "stdout",
       "text": [
        "Trial  2/10 | alg. seed: 5281280 | data order seed: 7673856\n"
       ]
      },
      {
       "output_type": "stream",
       "stream": "stdout",
       "text": [
        "savepath: /Users/Jens/Dropbox/dev/research/ML/out/AsteriskK8/defaultjob/2\n"
       ]
      },
      {
       "output_type": "stream",
       "stream": "stdout",
       "text": [
        "        1/50 after      0 sec. | K    8 | ev -6.797187158e+06 |  \n"
       ]
      },
      {
       "output_type": "stream",
       "stream": "stdout",
       "text": [
        "        2/50 after      0 sec. | K    8 | ev -4.898331429e-01 | Ndiff    517.828 \n"
       ]
      },
      {
       "output_type": "stream",
       "stream": "stdout",
       "text": [
        "        3/50 after      0 sec. | K    8 | ev -4.077897519e-01 | Ndiff    392.696 \n"
       ]
      },
      {
       "output_type": "stream",
       "stream": "stdout",
       "text": [
        "        4/50 after      0 sec. | K    8 | ev -3.970890318e-01 | Ndiff    236.251 \n"
       ]
      },
      {
       "output_type": "stream",
       "stream": "stdout",
       "text": [
        "        5/50 after      0 sec. | K    8 | ev -3.911469280e-01 | Ndiff    121.500 \n"
       ]
      },
      {
       "output_type": "stream",
       "stream": "stdout",
       "text": [
        "        6/50 after      0 sec. | K    8 | ev -3.874993084e-01 | Ndiff     81.494 \n"
       ]
      },
      {
       "output_type": "stream",
       "stream": "stdout",
       "text": [
        "        7/50 after      0 sec. | K    8 | ev -3.831476737e-01 | Ndiff    190.295 \n"
       ]
      },
      {
       "output_type": "stream",
       "stream": "stdout",
       "text": [
        "        8/50 after      0 sec. | K    8 | ev -3.713215666e-01 | Ndiff    474.350 \n"
       ]
      },
      {
       "output_type": "stream",
       "stream": "stdout",
       "text": [
        "        9/50 after      0 sec. | K    8 | ev -3.266051830e-01 | Ndiff   1176.153 \n"
       ]
      },
      {
       "output_type": "stream",
       "stream": "stdout",
       "text": [
        "       10/50 after      0 sec. | K    8 | ev -2.649645061e-01 | Ndiff   1031.956 \n"
       ]
      },
      {
       "output_type": "stream",
       "stream": "stdout",
       "text": [
        "       11/50 after      0 sec. | K    8 | ev -2.341047674e-01 | Ndiff    384.349 \n"
       ]
      },
      {
       "output_type": "stream",
       "stream": "stdout",
       "text": [
        "       12/50 after      0 sec. | K    8 | ev -2.037171418e-01 | Ndiff    132.148 \n"
       ]
      },
      {
       "output_type": "stream",
       "stream": "stdout",
       "text": [
        "       13/50 after      0 sec. | K    8 | ev -1.513889854e-01 | Ndiff     18.733 \n"
       ]
      },
      {
       "output_type": "stream",
       "stream": "stdout",
       "text": [
        "       14/50 after      1 sec. | K    8 | ev -1.413381824e-01 | Ndiff      3.574 \n"
       ]
      },
      {
       "output_type": "stream",
       "stream": "stdout",
       "text": [
        "       15/50 after      1 sec. | K    8 | ev -1.413277988e-01 | Ndiff      2.990 \n"
       ]
      },
      {
       "output_type": "stream",
       "stream": "stdout",
       "text": [
        "       16/50 after      1 sec. | K    8 | ev -1.413196234e-01 | Ndiff      2.597 \n"
       ]
      },
      {
       "output_type": "stream",
       "stream": "stdout",
       "text": [
        "       17/50 after      1 sec. | K    8 | ev -1.413129853e-01 | Ndiff      2.278 \n"
       ]
      },
      {
       "output_type": "stream",
       "stream": "stdout",
       "text": [
        "       18/50 after      1 sec. | K    8 | ev -1.413075217e-01 | Ndiff      2.012 \n"
       ]
      },
      {
       "output_type": "stream",
       "stream": "stdout",
       "text": [
        "       19/50 after      1 sec. | K    8 | ev -1.413029738e-01 | Ndiff      1.790 \n"
       ]
      },
      {
       "output_type": "stream",
       "stream": "stdout",
       "text": [
        "       20/50 after      1 sec. | K    8 | ev -1.412991521e-01 | Ndiff      1.604 \n"
       ]
      },
      {
       "output_type": "stream",
       "stream": "stdout",
       "text": [
        "       21/50 after      1 sec. | K    8 | ev -1.412959146e-01 | Ndiff      1.445 \n"
       ]
      },
      {
       "output_type": "stream",
       "stream": "stdout",
       "text": [
        "       22/50 after      1 sec. | K    8 | ev -1.412931527e-01 | Ndiff      1.311 \n"
       ]
      },
      {
       "output_type": "stream",
       "stream": "stdout",
       "text": [
        "       23/50 after      1 sec. | K    8 | ev -1.412907825e-01 | Ndiff      1.195 \n"
       ]
      },
      {
       "output_type": "stream",
       "stream": "stdout",
       "text": [
        "       24/50 after      1 sec. | K    8 | ev -1.412887376e-01 | Ndiff      1.096 \n"
       ]
      },
      {
       "output_type": "stream",
       "stream": "stdout",
       "text": [
        "       25/50 after      1 sec. | K    8 | ev -1.412869651e-01 | Ndiff      1.010 \n"
       ]
      },
      {
       "output_type": "stream",
       "stream": "stdout",
       "text": [
        "       26/50 after      1 sec. | K    8 | ev -1.412854223e-01 | Ndiff      0.936 \n"
       ]
      },
      {
       "output_type": "stream",
       "stream": "stdout",
       "text": [
        "       27/50 after      1 sec. | K    8 | ev -1.412840746e-01 | Ndiff      0.872 \n"
       ]
      },
      {
       "output_type": "stream",
       "stream": "stdout",
       "text": [
        "       28/50 after      1 sec. | K    8 | ev -1.412828934e-01 | Ndiff      0.816 \n"
       ]
      },
      {
       "output_type": "stream",
       "stream": "stdout",
       "text": [
        "       29/50 after      1 sec. | K    8 | ev -1.412818551e-01 | Ndiff      0.766 \n"
       ]
      },
      {
       "output_type": "stream",
       "stream": "stdout",
       "text": [
        "       30/50 after      1 sec. | K    8 | ev -1.412809397e-01 | Ndiff      0.723 \n"
       ]
      },
      {
       "output_type": "stream",
       "stream": "stdout",
       "text": [
        "       31/50 after      1 sec. | K    8 | ev -1.412801309e-01 | Ndiff      0.685 \n"
       ]
      },
      {
       "output_type": "stream",
       "stream": "stdout",
       "text": [
        "       32/50 after      1 sec. | K    8 | ev -1.412794146e-01 | Ndiff      0.652 \n"
       ]
      },
      {
       "output_type": "stream",
       "stream": "stdout",
       "text": [
        "       33/50 after      1 sec. | K    8 | ev -1.412787789e-01 | Ndiff      0.623 \n"
       ]
      },
      {
       "output_type": "stream",
       "stream": "stdout",
       "text": [
        "       34/50 after      1 sec. | K    8 | ev -1.412782135e-01 | Ndiff      0.597 \n"
       ]
      },
      {
       "output_type": "stream",
       "stream": "stdout",
       "text": [
        "       35/50 after      1 sec. | K    8 | ev -1.412777099e-01 | Ndiff      0.574 \n"
       ]
      },
      {
       "output_type": "stream",
       "stream": "stdout",
       "text": [
        "       36/50 after      1 sec. | K    8 | ev -1.412772605e-01 | Ndiff      0.553 \n"
       ]
      },
      {
       "output_type": "stream",
       "stream": "stdout",
       "text": [
        "       37/50 after      1 sec. | K    8 | ev -1.412768588e-01 | Ndiff      0.535 \n"
       ]
      },
      {
       "output_type": "stream",
       "stream": "stdout",
       "text": [
        "       38/50 after      1 sec. | K    8 | ev -1.412764993e-01 | Ndiff      0.519 \n"
       ]
      },
      {
       "output_type": "stream",
       "stream": "stdout",
       "text": [
        "       39/50 after      1 sec. | K    8 | ev -1.412761770e-01 | Ndiff      0.505 \n"
       ]
      },
      {
       "output_type": "stream",
       "stream": "stdout",
       "text": [
        "       40/50 after      1 sec. | K    8 | ev -1.412758877e-01 | Ndiff      0.492 \n"
       ]
      },
      {
       "output_type": "stream",
       "stream": "stdout",
       "text": [
        "       41/50 after      1 sec. | K    8 | ev -1.412756277e-01 | Ndiff      0.480 \n"
       ]
      },
      {
       "output_type": "stream",
       "stream": "stdout",
       "text": [
        "       42/50 after      1 sec. | K    8 | ev -1.412753937e-01 | Ndiff      0.470 \n"
       ]
      },
      {
       "output_type": "stream",
       "stream": "stdout",
       "text": [
        "       43/50 after      2 sec. | K    8 | ev -1.412751828e-01 | Ndiff      0.461 \n"
       ]
      },
      {
       "output_type": "stream",
       "stream": "stdout",
       "text": [
        "       44/50 after      2 sec. | K    8 | ev -1.412749925e-01 | Ndiff      0.453 \n"
       ]
      },
      {
       "output_type": "stream",
       "stream": "stdout",
       "text": [
        "       45/50 after      2 sec. | K    8 | ev -1.412748206e-01 | Ndiff      0.445 \n"
       ]
      },
      {
       "output_type": "stream",
       "stream": "stdout",
       "text": [
        "       46/50 after      2 sec. | K    8 | ev -1.412746651e-01 | Ndiff      0.439 \n"
       ]
      },
      {
       "output_type": "stream",
       "stream": "stdout",
       "text": [
        "       47/50 after      2 sec. | K    8 | ev -1.412745243e-01 | Ndiff      0.433 \n"
       ]
      },
      {
       "output_type": "stream",
       "stream": "stdout",
       "text": [
        "       48/50 after      2 sec. | K    8 | ev -1.412743967e-01 | Ndiff      0.428 \n"
       ]
      },
      {
       "output_type": "stream",
       "stream": "stdout",
       "text": [
        "       49/50 after      2 sec. | K    8 | ev -1.412742808e-01 | Ndiff      0.423 \n"
       ]
      },
      {
       "output_type": "stream",
       "stream": "stdout",
       "text": [
        "       50/50 after      2 sec. | K    8 | ev -1.412741754e-01 | Ndiff      0.418 \n"
       ]
      },
      {
       "output_type": "stream",
       "stream": "stdout",
       "text": [
        "... done. not converged. max laps thru data exceeded.\n"
       ]
      },
      {
       "output_type": "stream",
       "stream": "stdout",
       "text": [
        "Trial  3/10 | alg. seed: 4200448 | data order seed: 7360256\n"
       ]
      },
      {
       "output_type": "stream",
       "stream": "stdout",
       "text": [
        "savepath: /Users/Jens/Dropbox/dev/research/ML/out/AsteriskK8/defaultjob/3\n"
       ]
      },
      {
       "output_type": "stream",
       "stream": "stdout",
       "text": [
        "        1/50 after      0 sec. | K    8 | ev -7.012061100e+06 |  \n"
       ]
      },
      {
       "output_type": "stream",
       "stream": "stdout",
       "text": [
        "        2/50 after      0 sec. | K    8 | ev -5.485475376e-01 | Ndiff    744.589 \n"
       ]
      },
      {
       "output_type": "stream",
       "stream": "stdout",
       "text": [
        "        3/50 after      0 sec. | K    8 | ev -4.365062042e-01 | Ndiff    706.543 \n"
       ]
      },
      {
       "output_type": "stream",
       "stream": "stdout",
       "text": [
        "        4/50 after      0 sec. | K    8 | ev -3.723233267e-01 | Ndiff    979.149 \n"
       ]
      },
      {
       "output_type": "stream",
       "stream": "stdout",
       "text": [
        "        5/50 after      0 sec. | K    8 | ev -3.182230788e-01 | Ndiff   1033.053 \n"
       ]
      },
      {
       "output_type": "stream",
       "stream": "stdout",
       "text": [
        "        6/50 after      0 sec. | K    8 | ev -2.529137754e-01 | Ndiff    785.018 \n"
       ]
      },
      {
       "output_type": "stream",
       "stream": "stdout",
       "text": [
        "        7/50 after      0 sec. | K    8 | ev -2.153813303e-01 | Ndiff    350.042 \n"
       ]
      },
      {
       "output_type": "stream",
       "stream": "stdout",
       "text": [
        "        8/50 after      0 sec. | K    8 | ev -1.899728845e-01 | Ndiff    150.451 \n"
       ]
      },
      {
       "output_type": "stream",
       "stream": "stdout",
       "text": [
        "        9/50 after      0 sec. | K    8 | ev -1.517560189e-01 | Ndiff     35.110 \n"
       ]
      },
      {
       "output_type": "stream",
       "stream": "stdout",
       "text": [
        "       10/50 after      0 sec. | K    8 | ev -1.378701583e-01 | Ndiff      5.367 \n"
       ]
      },
      {
       "output_type": "stream",
       "stream": "stdout",
       "text": [
        "       11/50 after      1 sec. | K    8 | ev -1.378359992e-01 | Ndiff      4.572 \n"
       ]
      },
      {
       "output_type": "stream",
       "stream": "stdout",
       "text": [
        "       12/50 after      1 sec. | K    8 | ev -1.378170526e-01 | Ndiff      3.979 \n"
       ]
      },
      {
       "output_type": "stream",
       "stream": "stdout",
       "text": [
        "       13/50 after      1 sec. | K    8 | ev -1.378020350e-01 | Ndiff      3.517 \n"
       ]
      },
      {
       "output_type": "stream",
       "stream": "stdout",
       "text": [
        "       14/50 after      1 sec. | K    8 | ev -1.377899049e-01 | Ndiff      3.138 \n"
       ]
      },
      {
       "output_type": "stream",
       "stream": "stdout",
       "text": [
        "       15/50 after      1 sec. | K    8 | ev -1.377799608e-01 | Ndiff      2.823 \n"
       ]
      },
      {
       "output_type": "stream",
       "stream": "stdout",
       "text": [
        "       16/50 after      1 sec. | K    8 | ev -1.377717036e-01 | Ndiff      2.559 \n"
       ]
      },
      {
       "output_type": "stream",
       "stream": "stdout",
       "text": [
        "       17/50 after      1 sec. | K    8 | ev -1.377647699e-01 | Ndiff      2.335 \n"
       ]
      },
      {
       "output_type": "stream",
       "stream": "stdout",
       "text": [
        "       18/50 after      1 sec. | K    8 | ev -1.377588893e-01 | Ndiff      2.142 \n"
       ]
      },
      {
       "output_type": "stream",
       "stream": "stdout",
       "text": [
        "       19/50 after      1 sec. | K    8 | ev -1.377538571e-01 | Ndiff      1.976 \n"
       ]
      },
      {
       "output_type": "stream",
       "stream": "stdout",
       "text": [
        "       20/50 after      1 sec. | K    8 | ev -1.377495161e-01 | Ndiff      1.832 \n"
       ]
      },
      {
       "output_type": "stream",
       "stream": "stdout",
       "text": [
        "       21/50 after      1 sec. | K    8 | ev -1.377457435e-01 | Ndiff      1.706 \n"
       ]
      },
      {
       "output_type": "stream",
       "stream": "stdout",
       "text": [
        "       22/50 after      1 sec. | K    8 | ev -1.377424425e-01 | Ndiff      1.594 \n"
       ]
      },
      {
       "output_type": "stream",
       "stream": "stdout",
       "text": [
        "       23/50 after      1 sec. | K    8 | ev -1.377395360e-01 | Ndiff      1.496 \n"
       ]
      },
      {
       "output_type": "stream",
       "stream": "stdout",
       "text": [
        "       24/50 after      1 sec. | K    8 | ev -1.377369615e-01 | Ndiff      1.408 \n"
       ]
      },
      {
       "output_type": "stream",
       "stream": "stdout",
       "text": [
        "       25/50 after      1 sec. | K    8 | ev -1.377346686e-01 | Ndiff      1.330 \n"
       ]
      },
      {
       "output_type": "stream",
       "stream": "stdout",
       "text": [
        "       26/50 after      1 sec. | K    8 | ev -1.377326156e-01 | Ndiff      1.259 \n"
       ]
      },
      {
       "output_type": "stream",
       "stream": "stdout",
       "text": [
        "       27/50 after      1 sec. | K    8 | ev -1.377307682e-01 | Ndiff      1.196 \n"
       ]
      },
      {
       "output_type": "stream",
       "stream": "stdout",
       "text": [
        "       28/50 after      1 sec. | K    8 | ev -1.377290980e-01 | Ndiff      1.139 \n"
       ]
      },
      {
       "output_type": "stream",
       "stream": "stdout",
       "text": [
        "       29/50 after      1 sec. | K    8 | ev -1.377275810e-01 | Ndiff      1.087 \n"
       ]
      },
      {
       "output_type": "stream",
       "stream": "stdout",
       "text": [
        "       30/50 after      1 sec. | K    8 | ev -1.377261971e-01 | Ndiff      1.039 \n"
       ]
      },
      {
       "output_type": "stream",
       "stream": "stdout",
       "text": [
        "       31/50 after      1 sec. | K    8 | ev -1.377249293e-01 | Ndiff      0.996 \n"
       ]
      },
      {
       "output_type": "stream",
       "stream": "stdout",
       "text": [
        "       32/50 after      2 sec. | K    8 | ev -1.377237631e-01 | Ndiff      0.957 \n"
       ]
      },
      {
       "output_type": "stream",
       "stream": "stdout",
       "text": [
        "       33/50 after      2 sec. | K    8 | ev -1.377226862e-01 | Ndiff      0.920 \n"
       ]
      },
      {
       "output_type": "stream",
       "stream": "stdout",
       "text": [
        "       34/50 after      2 sec. | K    8 | ev -1.377216880e-01 | Ndiff      0.887 \n"
       ]
      },
      {
       "output_type": "stream",
       "stream": "stdout",
       "text": [
        "       35/50 after      2 sec. | K    8 | ev -1.377207592e-01 | Ndiff      0.856 \n"
       ]
      },
      {
       "output_type": "stream",
       "stream": "stdout",
       "text": [
        "       36/50 after      2 sec. | K    8 | ev -1.377198920e-01 | Ndiff      0.828 \n"
       ]
      },
      {
       "output_type": "stream",
       "stream": "stdout",
       "text": [
        "       37/50 after      2 sec. | K    8 | ev -1.377190796e-01 | Ndiff      0.802 \n"
       ]
      },
      {
       "output_type": "stream",
       "stream": "stdout",
       "text": [
        "       38/50 after      2 sec. | K    8 | ev -1.377183160e-01 | Ndiff      0.778 \n"
       ]
      },
      {
       "output_type": "stream",
       "stream": "stdout",
       "text": [
        "       39/50 after      2 sec. | K    8 | ev -1.377175960e-01 | Ndiff      0.755 \n"
       ]
      },
      {
       "output_type": "stream",
       "stream": "stdout",
       "text": [
        "       40/50 after      2 sec. | K    8 | ev -1.377169150e-01 | Ndiff      0.734 \n"
       ]
      },
      {
       "output_type": "stream",
       "stream": "stdout",
       "text": [
        "       41/50 after      2 sec. | K    8 | ev -1.377162690e-01 | Ndiff      0.715 \n"
       ]
      },
      {
       "output_type": "stream",
       "stream": "stdout",
       "text": [
        "       42/50 after      2 sec. | K    8 | ev -1.377156546e-01 | Ndiff      0.697 \n"
       ]
      },
      {
       "output_type": "stream",
       "stream": "stdout",
       "text": [
        "       43/50 after      2 sec. | K    8 | ev -1.377150687e-01 | Ndiff      0.680 \n"
       ]
      },
      {
       "output_type": "stream",
       "stream": "stdout",
       "text": [
        "       44/50 after      2 sec. | K    8 | ev -1.377145085e-01 | Ndiff      0.664 \n"
       ]
      },
      {
       "output_type": "stream",
       "stream": "stdout",
       "text": [
        "       45/50 after      2 sec. | K    8 | ev -1.377139717e-01 | Ndiff      0.649 \n"
       ]
      },
      {
       "output_type": "stream",
       "stream": "stdout",
       "text": [
        "       46/50 after      2 sec. | K    8 | ev -1.377134561e-01 | Ndiff      0.636 \n"
       ]
      },
      {
       "output_type": "stream",
       "stream": "stdout",
       "text": [
        "       47/50 after      2 sec. | K    8 | ev -1.377129599e-01 | Ndiff      0.623 \n"
       ]
      },
      {
       "output_type": "stream",
       "stream": "stdout",
       "text": [
        "       48/50 after      2 sec. | K    8 | ev -1.377124814e-01 | Ndiff      0.610 \n"
       ]
      },
      {
       "output_type": "stream",
       "stream": "stdout",
       "text": [
        "       49/50 after      2 sec. | K    8 | ev -1.377120191e-01 | Ndiff      0.599 \n"
       ]
      },
      {
       "output_type": "stream",
       "stream": "stdout",
       "text": [
        "       50/50 after      2 sec. | K    8 | ev -1.377115718e-01 | Ndiff      0.588 \n"
       ]
      },
      {
       "output_type": "stream",
       "stream": "stdout",
       "text": [
        "... done. not converged. max laps thru data exceeded.\n"
       ]
      },
      {
       "output_type": "stream",
       "stream": "stdout",
       "text": [
        "Trial  4/10 | alg. seed: 8246144 | data order seed: 900864\n"
       ]
      },
      {
       "output_type": "stream",
       "stream": "stdout",
       "text": [
        "savepath: /Users/Jens/Dropbox/dev/research/ML/out/AsteriskK8/defaultjob/4\n"
       ]
      },
      {
       "output_type": "stream",
       "stream": "stdout",
       "text": [
        "        1/50 after      0 sec. | K    8 | ev -6.504961690e+06 |  \n"
       ]
      },
      {
       "output_type": "stream",
       "stream": "stdout",
       "text": [
        "        2/50 after      0 sec. | K    8 | ev -7.758896454e-01 | Ndiff    506.693 \n"
       ]
      },
      {
       "output_type": "stream",
       "stream": "stdout",
       "text": [
        "        3/50 after      0 sec. | K    8 | ev -6.837767521e-01 | Ndiff    887.941 \n"
       ]
      },
      {
       "output_type": "stream",
       "stream": "stdout",
       "text": [
        "        4/50 after      0 sec. | K    8 | ev -5.879621309e-01 | Ndiff    871.282 \n"
       ]
      },
      {
       "output_type": "stream",
       "stream": "stdout",
       "text": [
        "        5/50 after      0 sec. | K    8 | ev -5.164423844e-01 | Ndiff    650.725 \n"
       ]
      },
      {
       "output_type": "stream",
       "stream": "stdout",
       "text": [
        "        6/50 after      0 sec. | K    8 | ev -4.525901525e-01 | Ndiff    510.420 \n"
       ]
      },
      {
       "output_type": "stream",
       "stream": "stdout",
       "text": [
        "        7/50 after      0 sec. | K    8 | ev -3.623193547e-01 | Ndiff    601.197 \n"
       ]
      },
      {
       "output_type": "stream",
       "stream": "stdout",
       "text": [
        "        8/50 after      0 sec. | K    8 | ev -2.730927448e-01 | Ndiff    946.704 \n"
       ]
      },
      {
       "output_type": "stream",
       "stream": "stdout",
       "text": [
        "        9/50 after      0 sec. | K    8 | ev -2.109186174e-01 | Ndiff    738.029 \n"
       ]
      },
      {
       "output_type": "stream",
       "stream": "stdout",
       "text": [
        "       10/50 after      0 sec. | K    8 | ev -1.802925931e-01 | Ndiff    497.566 \n"
       ]
      },
      {
       "output_type": "stream",
       "stream": "stdout",
       "text": [
        "       11/50 after      0 sec. | K    8 | ev -1.595329038e-01 | Ndiff    350.339 \n"
       ]
      },
      {
       "output_type": "stream",
       "stream": "stdout",
       "text": [
        "       12/50 after      0 sec. | K    8 | ev -1.452131447e-01 | Ndiff    123.385 \n"
       ]
      },
      {
       "output_type": "stream",
       "stream": "stdout",
       "text": [
        "       13/50 after      0 sec. | K    8 | ev -1.405545442e-01 | Ndiff      3.778 \n"
       ]
      },
      {
       "output_type": "stream",
       "stream": "stdout",
       "text": [
        "       14/50 after      0 sec. | K    8 | ev -1.403147177e-01 | Ndiff      1.678 \n"
       ]
      },
      {
       "output_type": "stream",
       "stream": "stdout",
       "text": [
        "       15/50 after      0 sec. | K    8 | ev -1.402454739e-01 | Ndiff      1.101 \n"
       ]
      },
      {
       "output_type": "stream",
       "stream": "stdout",
       "text": [
        "       16/50 after      1 sec. | K    8 | ev -1.402174576e-01 | Ndiff      0.725 \n"
       ]
      },
      {
       "output_type": "stream",
       "stream": "stdout",
       "text": [
        "       17/50 after      1 sec. | K    8 | ev -1.402034867e-01 | Ndiff      0.507 \n"
       ]
      },
      {
       "output_type": "stream",
       "stream": "stdout",
       "text": [
        "       18/50 after      1 sec. | K    8 | ev -1.401953114e-01 | Ndiff      0.368 \n"
       ]
      },
      {
       "output_type": "stream",
       "stream": "stdout",
       "text": [
        "       19/50 after      1 sec. | K    8 | ev -1.401898785e-01 | Ndiff      0.274 \n"
       ]
      },
      {
       "output_type": "stream",
       "stream": "stdout",
       "text": [
        "       20/50 after      1 sec. | K    8 | ev -1.401858888e-01 | Ndiff      0.208 \n"
       ]
      },
      {
       "output_type": "stream",
       "stream": "stdout",
       "text": [
        "       21/50 after      1 sec. | K    8 | ev -1.401827288e-01 | Ndiff      0.161 \n"
       ]
      },
      {
       "output_type": "stream",
       "stream": "stdout",
       "text": [
        "       22/50 after      1 sec. | K    8 | ev -1.401800846e-01 | Ndiff      0.124 \n"
       ]
      },
      {
       "output_type": "stream",
       "stream": "stdout",
       "text": [
        "       23/50 after      1 sec. | K    8 | ev -1.401777839e-01 | Ndiff      0.094 \n"
       ]
      },
      {
       "output_type": "stream",
       "stream": "stdout",
       "text": [
        "       24/50 after      1 sec. | K    8 | ev -1.401757266e-01 | Ndiff      0.070 \n"
       ]
      },
      {
       "output_type": "stream",
       "stream": "stdout",
       "text": [
        "       25/50 after      1 sec. | K    8 | ev -1.401738508e-01 | Ndiff      0.049 \n"
       ]
      },
      {
       "output_type": "stream",
       "stream": "stdout",
       "text": [
        "... done. converged.\n"
       ]
      },
      {
       "output_type": "stream",
       "stream": "stdout",
       "text": [
        "Trial  5/10 | alg. seed: 6078080 | data order seed: 6479872\n"
       ]
      },
      {
       "output_type": "stream",
       "stream": "stdout",
       "text": [
        "savepath: /Users/Jens/Dropbox/dev/research/ML/out/AsteriskK8/defaultjob/5\n"
       ]
      },
      {
       "output_type": "stream",
       "stream": "stdout",
       "text": [
        "        1/50 after      0 sec. | K    8 | ev -6.196806112e+06 |  \n"
       ]
      },
      {
       "output_type": "stream",
       "stream": "stdout",
       "text": [
        "        2/50 after      0 sec. | K    8 | ev -8.268827393e-01 | Ndiff    289.509 \n"
       ]
      },
      {
       "output_type": "stream",
       "stream": "stdout",
       "text": [
        "        3/50 after      0 sec. | K    8 | ev -6.838285008e-01 | Ndiff    671.377 \n"
       ]
      },
      {
       "output_type": "stream",
       "stream": "stdout",
       "text": [
        "        4/50 after      0 sec. | K    8 | ev -6.314257062e-01 | Ndiff    517.871 \n"
       ]
      },
      {
       "output_type": "stream",
       "stream": "stdout",
       "text": [
        "        5/50 after      0 sec. | K    8 | ev -5.467361513e-01 | Ndiff    427.930 \n"
       ]
      },
      {
       "output_type": "stream",
       "stream": "stdout",
       "text": [
        "        6/50 after      0 sec. | K    8 | ev -4.350912362e-01 | Ndiff    333.957 \n"
       ]
      },
      {
       "output_type": "stream",
       "stream": "stdout",
       "text": [
        "        7/50 after      0 sec. | K    8 | ev -3.307998638e-01 | Ndiff    219.037 \n"
       ]
      },
      {
       "output_type": "stream",
       "stream": "stdout",
       "text": [
        "        8/50 after      0 sec. | K    8 | ev -2.368158774e-01 | Ndiff     93.622 \n"
       ]
      },
      {
       "output_type": "stream",
       "stream": "stdout",
       "text": [
        "        9/50 after      0 sec. | K    8 | ev -2.306854686e-01 | Ndiff      7.144 \n"
       ]
      },
      {
       "output_type": "stream",
       "stream": "stdout",
       "text": [
        "       10/50 after      0 sec. | K    8 | ev -2.303636334e-01 | Ndiff      4.759 \n"
       ]
      },
      {
       "output_type": "stream",
       "stream": "stdout",
       "text": [
        "       11/50 after      0 sec. | K    8 | ev -2.302718395e-01 | Ndiff      3.970 \n"
       ]
      },
      {
       "output_type": "stream",
       "stream": "stdout",
       "text": [
        "       12/50 after      0 sec. | K    8 | ev -2.302290407e-01 | Ndiff      3.223 \n"
       ]
      },
      {
       "output_type": "stream",
       "stream": "stdout",
       "text": [
        "       13/50 after      0 sec. | K    8 | ev -2.302043962e-01 | Ndiff      2.625 \n"
       ]
      },
      {
       "output_type": "stream",
       "stream": "stdout",
       "text": [
        "       14/50 after      0 sec. | K    8 | ev -2.301882765e-01 | Ndiff      2.092 \n"
       ]
      },
      {
       "output_type": "stream",
       "stream": "stdout",
       "text": [
        "       15/50 after      1 sec. | K    8 | ev -2.301767761e-01 | Ndiff      1.641 \n"
       ]
      },
      {
       "output_type": "stream",
       "stream": "stdout",
       "text": [
        "       16/50 after      1 sec. | K    8 | ev -2.301680340e-01 | Ndiff      1.266 \n"
       ]
      },
      {
       "output_type": "stream",
       "stream": "stdout",
       "text": [
        "       17/50 after      1 sec. | K    8 | ev -2.301610567e-01 | Ndiff      0.958 \n"
       ]
      },
      {
       "output_type": "stream",
       "stream": "stdout",
       "text": [
        "       18/50 after      1 sec. | K    8 | ev -2.301552673e-01 | Ndiff      0.714 \n"
       ]
      },
      {
       "output_type": "stream",
       "stream": "stdout",
       "text": [
        "       19/50 after      1 sec. | K    8 | ev -2.301503112e-01 | Ndiff      0.526 \n"
       ]
      },
      {
       "output_type": "stream",
       "stream": "stdout",
       "text": [
        "       20/50 after      1 sec. | K    8 | ev -2.301459610e-01 | Ndiff      0.371 \n"
       ]
      },
      {
       "output_type": "stream",
       "stream": "stdout",
       "text": [
        "       21/50 after      1 sec. | K    8 | ev -2.301420665e-01 | Ndiff      0.242 \n"
       ]
      },
      {
       "output_type": "stream",
       "stream": "stdout",
       "text": [
        "       22/50 after      1 sec. | K    8 | ev -2.301385265e-01 | Ndiff      0.135 \n"
       ]
      },
      {
       "output_type": "stream",
       "stream": "stdout",
       "text": [
        "       23/50 after      1 sec. | K    8 | ev -2.301352715e-01 | Ndiff      0.055 \n"
       ]
      },
      {
       "output_type": "stream",
       "stream": "stdout",
       "text": [
        "       24/50 after      1 sec. | K    8 | ev -2.301322530e-01 | Ndiff      0.084 \n"
       ]
      },
      {
       "output_type": "stream",
       "stream": "stdout",
       "text": [
        "       25/50 after      1 sec. | K    8 | ev -2.301294369e-01 | Ndiff      0.144 \n"
       ]
      },
      {
       "output_type": "stream",
       "stream": "stdout",
       "text": [
        "       26/50 after      1 sec. | K    8 | ev -2.301267987e-01 | Ndiff      0.192 \n"
       ]
      },
      {
       "output_type": "stream",
       "stream": "stdout",
       "text": [
        "       27/50 after      1 sec. | K    8 | ev -2.301243204e-01 | Ndiff      0.232 \n"
       ]
      },
      {
       "output_type": "stream",
       "stream": "stdout",
       "text": [
        "       28/50 after      1 sec. | K    8 | ev -2.301219890e-01 | Ndiff      0.265 \n"
       ]
      },
      {
       "output_type": "stream",
       "stream": "stdout",
       "text": [
        "       29/50 after      1 sec. | K    8 | ev -2.301197943e-01 | Ndiff      0.291 \n"
       ]
      },
      {
       "output_type": "stream",
       "stream": "stdout",
       "text": [
        "       30/50 after      1 sec. | K    8 | ev -2.301177285e-01 | Ndiff      0.313 \n"
       ]
      },
      {
       "output_type": "stream",
       "stream": "stdout",
       "text": [
        "       31/50 after      1 sec. | K    8 | ev -2.301157852e-01 | Ndiff      0.330 \n"
       ]
      },
      {
       "output_type": "stream",
       "stream": "stdout",
       "text": [
        "       32/50 after      1 sec. | K    8 | ev -2.301139590e-01 | Ndiff      0.344 \n"
       ]
      },
      {
       "output_type": "stream",
       "stream": "stdout",
       "text": [
        "       33/50 after      1 sec. | K    8 | ev -2.301122452e-01 | Ndiff      0.356 \n"
       ]
      },
      {
       "output_type": "stream",
       "stream": "stdout",
       "text": [
        "       34/50 after      1 sec. | K    8 | ev -2.301106394e-01 | Ndiff      0.366 \n"
       ]
      },
      {
       "output_type": "stream",
       "stream": "stdout",
       "text": [
        "       35/50 after      1 sec. | K    8 | ev -2.301091374e-01 | Ndiff      0.373 \n"
       ]
      },
      {
       "output_type": "stream",
       "stream": "stdout",
       "text": [
        "       36/50 after      1 sec. | K    8 | ev -2.301077351e-01 | Ndiff      0.380 \n"
       ]
      },
      {
       "output_type": "stream",
       "stream": "stdout",
       "text": [
        "       37/50 after      1 sec. | K    8 | ev -2.301064284e-01 | Ndiff      0.385 \n"
       ]
      },
      {
       "output_type": "stream",
       "stream": "stdout",
       "text": [
        "       38/50 after      1 sec. | K    8 | ev -2.301052134e-01 | Ndiff      0.389 \n"
       ]
      },
      {
       "output_type": "stream",
       "stream": "stdout",
       "text": [
        "       39/50 after      1 sec. | K    8 | ev -2.301040857e-01 | Ndiff      0.393 \n"
       ]
      },
      {
       "output_type": "stream",
       "stream": "stdout",
       "text": [
        "       40/50 after      1 sec. | K    8 | ev -2.301030414e-01 | Ndiff      0.396 \n"
       ]
      },
      {
       "output_type": "stream",
       "stream": "stdout",
       "text": [
        "       41/50 after      1 sec. | K    8 | ev -2.301020760e-01 | Ndiff      0.399 \n"
       ]
      },
      {
       "output_type": "stream",
       "stream": "stdout",
       "text": [
        "       42/50 after      1 sec. | K    8 | ev -2.301011855e-01 | Ndiff      0.401 \n"
       ]
      },
      {
       "output_type": "stream",
       "stream": "stdout",
       "text": [
        "       43/50 after      1 sec. | K    8 | ev -2.301003655e-01 | Ndiff      0.403 \n"
       ]
      },
      {
       "output_type": "stream",
       "stream": "stdout",
       "text": [
        "       44/50 after      1 sec. | K    8 | ev -2.300996117e-01 | Ndiff      0.404 \n"
       ]
      },
      {
       "output_type": "stream",
       "stream": "stdout",
       "text": [
        "       45/50 after      1 sec. | K    8 | ev -2.300989200e-01 | Ndiff      0.406 \n"
       ]
      },
      {
       "output_type": "stream",
       "stream": "stdout",
       "text": [
        "       46/50 after      2 sec. | K    8 | ev -2.300982864e-01 | Ndiff      0.407 \n"
       ]
      },
      {
       "output_type": "stream",
       "stream": "stdout",
       "text": [
        "       47/50 after      2 sec. | K    8 | ev -2.300977067e-01 | Ndiff      0.409 \n"
       ]
      },
      {
       "output_type": "stream",
       "stream": "stdout",
       "text": [
        "       48/50 after      2 sec. | K    8 | ev -2.300971771e-01 | Ndiff      0.410 \n"
       ]
      },
      {
       "output_type": "stream",
       "stream": "stdout",
       "text": [
        "       49/50 after      2 sec. | K    8 | ev -2.300966938e-01 | Ndiff      0.411 \n"
       ]
      },
      {
       "output_type": "stream",
       "stream": "stdout",
       "text": [
        "       50/50 after      2 sec. | K    8 | ev -2.300962532e-01 | Ndiff      0.412 \n"
       ]
      },
      {
       "output_type": "stream",
       "stream": "stdout",
       "text": [
        "... done. not converged. max laps thru data exceeded.\n"
       ]
      },
      {
       "output_type": "stream",
       "stream": "stdout",
       "text": [
        "Trial  6/10 | alg. seed: 778240 | data order seed: 9149952\n"
       ]
      },
      {
       "output_type": "stream",
       "stream": "stdout",
       "text": [
        "savepath: /Users/Jens/Dropbox/dev/research/ML/out/AsteriskK8/defaultjob/6\n"
       ]
      },
      {
       "output_type": "stream",
       "stream": "stdout",
       "text": [
        "        1/50 after      0 sec. | K    8 | ev -5.970310919e+06 |  \n"
       ]
      },
      {
       "output_type": "stream",
       "stream": "stdout",
       "text": [
        "        2/50 after      0 sec. | K    8 | ev -6.728310340e-01 | Ndiff    538.328 \n"
       ]
      },
      {
       "output_type": "stream",
       "stream": "stdout",
       "text": [
        "        3/50 after      0 sec. | K    8 | ev -4.746573626e-01 | Ndiff    435.338 \n"
       ]
      },
      {
       "output_type": "stream",
       "stream": "stdout",
       "text": [
        "        4/50 after      0 sec. | K    8 | ev -3.567416991e-01 | Ndiff    355.926 \n"
       ]
      },
      {
       "output_type": "stream",
       "stream": "stdout",
       "text": [
        "        5/50 after      0 sec. | K    8 | ev -2.456743669e-01 | Ndiff    290.175 \n"
       ]
      },
      {
       "output_type": "stream",
       "stream": "stdout",
       "text": [
        "        6/50 after      0 sec. | K    8 | ev -1.623393459e-01 | Ndiff     50.784 \n"
       ]
      },
      {
       "output_type": "stream",
       "stream": "stdout",
       "text": [
        "        7/50 after      0 sec. | K    8 | ev -1.404505390e-01 | Ndiff     13.059 \n"
       ]
      },
      {
       "output_type": "stream",
       "stream": "stdout",
       "text": [
        "        8/50 after      0 sec. | K    8 | ev -1.402893019e-01 | Ndiff      5.182 \n"
       ]
      },
      {
       "output_type": "stream",
       "stream": "stdout",
       "text": [
        "        9/50 after      0 sec. | K    8 | ev -1.402253293e-01 | Ndiff      1.986 \n"
       ]
      },
      {
       "output_type": "stream",
       "stream": "stdout",
       "text": [
        "       10/50 after      0 sec. | K    8 | ev -1.401967413e-01 | Ndiff      0.565 \n"
       ]
      },
      {
       "output_type": "stream",
       "stream": "stdout",
       "text": [
        "       11/50 after      0 sec. | K    8 | ev -1.401783600e-01 | Ndiff      0.644 \n"
       ]
      },
      {
       "output_type": "stream",
       "stream": "stdout",
       "text": [
        "       12/50 after      0 sec. | K    8 | ev -1.401544141e-01 | Ndiff      1.359 \n"
       ]
      },
      {
       "output_type": "stream",
       "stream": "stdout",
       "text": [
        "       13/50 after      0 sec. | K    8 | ev -1.401087165e-01 | Ndiff      2.916 \n"
       ]
      },
      {
       "output_type": "stream",
       "stream": "stdout",
       "text": [
        "       14/50 after      0 sec. | K    8 | ev -1.400031064e-01 | Ndiff      6.515 \n"
       ]
      },
      {
       "output_type": "stream",
       "stream": "stdout",
       "text": [
        "       15/50 after      0 sec. | K    8 | ev -1.396665273e-01 | Ndiff     17.989 \n"
       ]
      },
      {
       "output_type": "stream",
       "stream": "stdout",
       "text": [
        "       16/50 after      1 sec. | K    8 | ev -1.385165343e-01 | Ndiff     51.867 \n"
       ]
      },
      {
       "output_type": "stream",
       "stream": "stdout",
       "text": [
        "       17/50 after      1 sec. | K    8 | ev -1.357146195e-01 | Ndiff    113.047 \n"
       ]
      },
      {
       "output_type": "stream",
       "stream": "stdout",
       "text": [
        "       18/50 after      1 sec. | K    8 | ev -1.302210068e-01 | Ndiff    210.421 \n"
       ]
      },
      {
       "output_type": "stream",
       "stream": "stdout",
       "text": [
        "       19/50 after      1 sec. | K    8 | ev -1.200487616e-01 | Ndiff    373.524 \n"
       ]
      },
      {
       "output_type": "stream",
       "stream": "stdout",
       "text": [
        "       20/50 after      1 sec. | K    8 | ev -1.013369743e-01 | Ndiff    647.223 \n"
       ]
      },
      {
       "output_type": "stream",
       "stream": "stdout",
       "text": [
        "       21/50 after      1 sec. | K    8 | ev -6.923966737e-02 | Ndiff    978.634 \n"
       ]
      },
      {
       "output_type": "stream",
       "stream": "stdout",
       "text": [
        "       22/50 after      1 sec. | K    8 | ev -2.763564472e-02 | Ndiff    997.195 \n"
       ]
      },
      {
       "output_type": "stream",
       "stream": "stdout",
       "text": [
        "       23/50 after      1 sec. | K    8 | ev  5.703913058e-03 | Ndiff    526.048 \n"
       ]
      },
      {
       "output_type": "stream",
       "stream": "stdout",
       "text": [
        "       24/50 after      1 sec. | K    8 | ev  3.417805329e-02 | Ndiff    190.899 \n"
       ]
      },
      {
       "output_type": "stream",
       "stream": "stdout",
       "text": [
        "       25/50 after      1 sec. | K    8 | ev  8.021325657e-02 | Ndiff     42.073 \n"
       ]
      },
      {
       "output_type": "stream",
       "stream": "stdout",
       "text": [
        "       26/50 after      1 sec. | K    8 | ev  1.083547923e-01 | Ndiff      3.105 \n"
       ]
      },
      {
       "output_type": "stream",
       "stream": "stdout",
       "text": [
        "       27/50 after      1 sec. | K    8 | ev  1.084158109e-01 | Ndiff      0.023 \n"
       ]
      },
      {
       "output_type": "stream",
       "stream": "stdout",
       "text": [
        "... done. converged.\n"
       ]
      },
      {
       "output_type": "stream",
       "stream": "stdout",
       "text": [
        "Trial  7/10 | alg. seed: 3277952 | data order seed: 3441280\n"
       ]
      },
      {
       "output_type": "stream",
       "stream": "stdout",
       "text": [
        "savepath: /Users/Jens/Dropbox/dev/research/ML/out/AsteriskK8/defaultjob/7\n"
       ]
      },
      {
       "output_type": "stream",
       "stream": "stdout",
       "text": [
        "        1/50 after      0 sec. | K    8 | ev -1.183341731e+07 |  \n"
       ]
      },
      {
       "output_type": "stream",
       "stream": "stdout",
       "text": [
        "        2/50 after      0 sec. | K    8 | ev -7.857939499e-01 | Ndiff    518.707 \n"
       ]
      },
      {
       "output_type": "stream",
       "stream": "stdout",
       "text": [
        "        3/50 after      0 sec. | K    8 | ev -6.706683975e-01 | Ndiff    710.391 \n"
       ]
      },
      {
       "output_type": "stream",
       "stream": "stdout",
       "text": [
        "        4/50 after      0 sec. | K    8 | ev -5.637615735e-01 | Ndiff    976.302 \n"
       ]
      },
      {
       "output_type": "stream",
       "stream": "stdout",
       "text": [
        "        5/50 after      0 sec. | K    8 | ev -4.409096263e-01 | Ndiff    776.106 \n"
       ]
      },
      {
       "output_type": "stream",
       "stream": "stdout",
       "text": [
        "        6/50 after      0 sec. | K    8 | ev -3.060165215e-01 | Ndiff    486.477 \n"
       ]
      },
      {
       "output_type": "stream",
       "stream": "stdout",
       "text": [
        "        7/50 after      0 sec. | K    8 | ev -2.213318536e-01 | Ndiff    435.903 \n"
       ]
      },
      {
       "output_type": "stream",
       "stream": "stdout",
       "text": [
        "        8/50 after      0 sec. | K    8 | ev -1.541409571e-01 | Ndiff    169.511 \n"
       ]
      },
      {
       "output_type": "stream",
       "stream": "stdout",
       "text": [
        "        9/50 after      0 sec. | K    8 | ev -8.135854617e-02 | Ndiff     41.420 \n"
       ]
      },
      {
       "output_type": "stream",
       "stream": "stdout",
       "text": [
        "       10/50 after      0 sec. | K    8 | ev -7.907394380e-02 | Ndiff     65.949 \n"
       ]
      },
      {
       "output_type": "stream",
       "stream": "stdout",
       "text": [
        "       11/50 after      0 sec. | K    8 | ev -7.324196800e-02 | Ndiff    294.704 \n"
       ]
      },
      {
       "output_type": "stream",
       "stream": "stdout",
       "text": [
        "       12/50 after      0 sec. | K    8 | ev -3.908771293e-02 | Ndiff   1020.411 \n"
       ]
      },
      {
       "output_type": "stream",
       "stream": "stdout",
       "text": [
        "       13/50 after      0 sec. | K    8 | ev  3.658851016e-03 | Ndiff    595.967 \n"
       ]
      },
      {
       "output_type": "stream",
       "stream": "stdout",
       "text": [
        "       14/50 after      0 sec. | K    8 | ev  3.007833372e-02 | Ndiff    234.759 \n"
       ]
      },
      {
       "output_type": "stream",
       "stream": "stdout",
       "text": [
        "       15/50 after      0 sec. | K    8 | ev  5.990995793e-02 | Ndiff    130.314 \n"
       ]
      },
      {
       "output_type": "stream",
       "stream": "stdout",
       "text": [
        "       16/50 after      1 sec. | K    8 | ev  1.011471728e-01 | Ndiff     22.036 \n"
       ]
      },
      {
       "output_type": "stream",
       "stream": "stdout",
       "text": [
        "       17/50 after      1 sec. | K    8 | ev  1.084156374e-01 | Ndiff      0.338 \n"
       ]
      },
      {
       "output_type": "stream",
       "stream": "stdout",
       "text": [
        "       18/50 after      1 sec. | K    8 | ev  1.084158115e-01 | Ndiff      0.003 \n"
       ]
      },
      {
       "output_type": "stream",
       "stream": "stdout",
       "text": [
        "... done. converged.\n"
       ]
      },
      {
       "output_type": "stream",
       "stream": "stdout",
       "text": [
        "Trial  8/10 | alg. seed: 308096 | data order seed: 899584\n"
       ]
      },
      {
       "output_type": "stream",
       "stream": "stdout",
       "text": [
        "savepath: /Users/Jens/Dropbox/dev/research/ML/out/AsteriskK8/defaultjob/8\n"
       ]
      },
      {
       "output_type": "stream",
       "stream": "stdout",
       "text": [
        "        1/50 after      0 sec. | K    8 | ev -1.697727350e+07 |  \n"
       ]
      },
      {
       "output_type": "stream",
       "stream": "stdout",
       "text": [
        "        2/50 after      0 sec. | K    8 | ev -6.927097141e-01 | Ndiff    273.493 \n"
       ]
      },
      {
       "output_type": "stream",
       "stream": "stdout",
       "text": [
        "        3/50 after      0 sec. | K    8 | ev -5.730089523e-01 | Ndiff   1087.390 \n"
       ]
      },
      {
       "output_type": "stream",
       "stream": "stdout",
       "text": [
        "        4/50 after      0 sec. | K    8 | ev -5.130891177e-01 | Ndiff    620.918 \n"
       ]
      },
      {
       "output_type": "stream",
       "stream": "stdout",
       "text": [
        "        5/50 after      0 sec. | K    8 | ev -4.853334445e-01 | Ndiff    196.766 \n"
       ]
      },
      {
       "output_type": "stream",
       "stream": "stdout",
       "text": [
        "        6/50 after      0 sec. | K    8 | ev -4.804819935e-01 | Ndiff     28.523 \n"
       ]
      },
      {
       "output_type": "stream",
       "stream": "stdout",
       "text": [
        "        7/50 after      0 sec. | K    8 | ev -4.801551815e-01 | Ndiff      9.581 \n"
       ]
      },
      {
       "output_type": "stream",
       "stream": "stdout",
       "text": [
        "        8/50 after      0 sec. | K    8 | ev -4.800398681e-01 | Ndiff      7.881 \n"
       ]
      },
      {
       "output_type": "stream",
       "stream": "stdout",
       "text": [
        "        9/50 after      0 sec. | K    8 | ev -4.799626437e-01 | Ndiff      6.551 \n"
       ]
      },
      {
       "output_type": "stream",
       "stream": "stdout",
       "text": [
        "       10/50 after      0 sec. | K    8 | ev -4.799052422e-01 | Ndiff      5.500 \n"
       ]
      },
      {
       "output_type": "stream",
       "stream": "stdout",
       "text": [
        "       11/50 after      0 sec. | K    8 | ev -4.798604342e-01 | Ndiff      4.668 \n"
       ]
      },
      {
       "output_type": "stream",
       "stream": "stdout",
       "text": [
        "       12/50 after      0 sec. | K    8 | ev -4.798243498e-01 | Ndiff      4.003 \n"
       ]
      },
      {
       "output_type": "stream",
       "stream": "stdout",
       "text": [
        "       13/50 after      0 sec. | K    8 | ev -4.797946329e-01 | Ndiff      3.466 \n"
       ]
      },
      {
       "output_type": "stream",
       "stream": "stdout",
       "text": [
        "       14/50 after      1 sec. | K    8 | ev -4.797697342e-01 | Ndiff      3.025 \n"
       ]
      },
      {
       "output_type": "stream",
       "stream": "stdout",
       "text": [
        "       15/50 after      1 sec. | K    8 | ev -4.797485810e-01 | Ndiff      2.661 \n"
       ]
      },
      {
       "output_type": "stream",
       "stream": "stdout",
       "text": [
        "       16/50 after      1 sec. | K    8 | ev -4.797304020e-01 | Ndiff      2.355 \n"
       ]
      },
      {
       "output_type": "stream",
       "stream": "stdout",
       "text": [
        "       17/50 after      1 sec. | K    8 | ev -4.797146264e-01 | Ndiff      2.097 \n"
       ]
      },
      {
       "output_type": "stream",
       "stream": "stdout",
       "text": [
        "       18/50 after      1 sec. | K    8 | ev -4.797008219e-01 | Ndiff      1.877 \n"
       ]
      },
      {
       "output_type": "stream",
       "stream": "stdout",
       "text": [
        "       19/50 after      1 sec. | K    8 | ev -4.796886547e-01 | Ndiff      1.688 \n"
       ]
      },
      {
       "output_type": "stream",
       "stream": "stdout",
       "text": [
        "       20/50 after      1 sec. | K    8 | ev -4.796778626e-01 | Ndiff      1.524 \n"
       ]
      },
      {
       "output_type": "stream",
       "stream": "stdout",
       "text": [
        "       21/50 after      1 sec. | K    8 | ev -4.796682369e-01 | Ndiff      1.382 \n"
       ]
      },
      {
       "output_type": "stream",
       "stream": "stdout",
       "text": [
        "       22/50 after      1 sec. | K    8 | ev -4.796596091e-01 | Ndiff      1.258 \n"
       ]
      },
      {
       "output_type": "stream",
       "stream": "stdout",
       "text": [
        "       23/50 after      1 sec. | K    8 | ev -4.796518419e-01 | Ndiff      1.149 \n"
       ]
      },
      {
       "output_type": "stream",
       "stream": "stdout",
       "text": [
        "       24/50 after      1 sec. | K    8 | ev -4.796448223e-01 | Ndiff      1.053 \n"
       ]
      },
      {
       "output_type": "stream",
       "stream": "stdout",
       "text": [
        "       25/50 after      1 sec. | K    8 | ev -4.796384559e-01 | Ndiff      0.968 \n"
       ]
      },
      {
       "output_type": "stream",
       "stream": "stdout",
       "text": [
        "       26/50 after      1 sec. | K    8 | ev -4.796326641e-01 | Ndiff      0.893 \n"
       ]
      },
      {
       "output_type": "stream",
       "stream": "stdout",
       "text": [
        "       27/50 after      1 sec. | K    8 | ev -4.796273800e-01 | Ndiff      0.825 \n"
       ]
      },
      {
       "output_type": "stream",
       "stream": "stdout",
       "text": [
        "       28/50 after      1 sec. | K    8 | ev -4.796225470e-01 | Ndiff      0.765 \n"
       ]
      },
      {
       "output_type": "stream",
       "stream": "stdout",
       "text": [
        "       29/50 after      1 sec. | K    8 | ev -4.796181166e-01 | Ndiff      0.711 \n"
       ]
      },
      {
       "output_type": "stream",
       "stream": "stdout",
       "text": [
        "       30/50 after      1 sec. | K    8 | ev -4.796140467e-01 | Ndiff      0.662 \n"
       ]
      },
      {
       "output_type": "stream",
       "stream": "stdout",
       "text": [
        "       31/50 after      1 sec. | K    8 | ev -4.796103012e-01 | Ndiff      0.618 \n"
       ]
      },
      {
       "output_type": "stream",
       "stream": "stdout",
       "text": [
        "       32/50 after      1 sec. | K    8 | ev -4.796068483e-01 | Ndiff      0.578 \n"
       ]
      },
      {
       "output_type": "stream",
       "stream": "stdout",
       "text": [
        "       33/50 after      1 sec. | K    8 | ev -4.796036604e-01 | Ndiff      0.541 \n"
       ]
      },
      {
       "output_type": "stream",
       "stream": "stdout",
       "text": [
        "       34/50 after      1 sec. | K    8 | ev -4.796007131e-01 | Ndiff      0.508 \n"
       ]
      },
      {
       "output_type": "stream",
       "stream": "stdout",
       "text": [
        "       35/50 after      1 sec. | K    8 | ev -4.795979848e-01 | Ndiff      0.478 \n"
       ]
      },
      {
       "output_type": "stream",
       "stream": "stdout",
       "text": [
        "       36/50 after      1 sec. | K    8 | ev -4.795954562e-01 | Ndiff      0.450 \n"
       ]
      },
      {
       "output_type": "stream",
       "stream": "stdout",
       "text": [
        "       37/50 after      1 sec. | K    8 | ev -4.795931104e-01 | Ndiff      0.425 \n"
       ]
      },
      {
       "output_type": "stream",
       "stream": "stdout",
       "text": [
        "       38/50 after      1 sec. | K    8 | ev -4.795909319e-01 | Ndiff      0.401 \n"
       ]
      },
      {
       "output_type": "stream",
       "stream": "stdout",
       "text": [
        "       39/50 after      1 sec. | K    8 | ev -4.795889071e-01 | Ndiff      0.380 \n"
       ]
      },
      {
       "output_type": "stream",
       "stream": "stdout",
       "text": [
        "       40/50 after      1 sec. | K    8 | ev -4.795870236e-01 | Ndiff      0.360 \n"
       ]
      },
      {
       "output_type": "stream",
       "stream": "stdout",
       "text": [
        "       41/50 after      1 sec. | K    8 | ev -4.795852702e-01 | Ndiff      0.341 \n"
       ]
      },
      {
       "output_type": "stream",
       "stream": "stdout",
       "text": [
        "       42/50 after      1 sec. | K    8 | ev -4.795836366e-01 | Ndiff      0.330 \n"
       ]
      },
      {
       "output_type": "stream",
       "stream": "stdout",
       "text": [
        "       43/50 after      2 sec. | K    8 | ev -4.795821137e-01 | Ndiff      0.330 \n"
       ]
      },
      {
       "output_type": "stream",
       "stream": "stdout",
       "text": [
        "       44/50 after      2 sec. | K    8 | ev -4.795806931e-01 | Ndiff      0.329 \n"
       ]
      },
      {
       "output_type": "stream",
       "stream": "stdout",
       "text": [
        "       45/50 after      2 sec. | K    8 | ev -4.795793670e-01 | Ndiff      0.329 \n"
       ]
      },
      {
       "output_type": "stream",
       "stream": "stdout",
       "text": [
        "       46/50 after      2 sec. | K    8 | ev -4.795781285e-01 | Ndiff      0.329 \n"
       ]
      },
      {
       "output_type": "stream",
       "stream": "stdout",
       "text": [
        "       47/50 after      2 sec. | K    8 | ev -4.795769710e-01 | Ndiff      0.329 \n"
       ]
      },
      {
       "output_type": "stream",
       "stream": "stdout",
       "text": [
        "       48/50 after      2 sec. | K    8 | ev -4.795758886e-01 | Ndiff      0.328 \n"
       ]
      },
      {
       "output_type": "stream",
       "stream": "stdout",
       "text": [
        "       49/50 after      2 sec. | K    8 | ev -4.795748759e-01 | Ndiff      0.328 \n"
       ]
      },
      {
       "output_type": "stream",
       "stream": "stdout",
       "text": [
        "       50/50 after      2 sec. | K    8 | ev -4.795739279e-01 | Ndiff      0.328 \n"
       ]
      },
      {
       "output_type": "stream",
       "stream": "stdout",
       "text": [
        "... done. not converged. max laps thru data exceeded.\n"
       ]
      },
      {
       "output_type": "stream",
       "stream": "stdout",
       "text": [
        "Trial  9/10 | alg. seed: 1956224 | data order seed: 3785600\n"
       ]
      },
      {
       "output_type": "stream",
       "stream": "stdout",
       "text": [
        "savepath: /Users/Jens/Dropbox/dev/research/ML/out/AsteriskK8/defaultjob/9\n"
       ]
      },
      {
       "output_type": "stream",
       "stream": "stdout",
       "text": [
        "        1/50 after      0 sec. | K    8 | ev -7.656242289e+06 |  \n"
       ]
      },
      {
       "output_type": "stream",
       "stream": "stdout",
       "text": [
        "        2/50 after      0 sec. | K    8 | ev -6.903284664e-01 | Ndiff   1055.480 \n"
       ]
      },
      {
       "output_type": "stream",
       "stream": "stdout",
       "text": [
        "        3/50 after      0 sec. | K    8 | ev -5.111558159e-01 | Ndiff   1161.810 \n"
       ]
      },
      {
       "output_type": "stream",
       "stream": "stdout",
       "text": [
        "        4/50 after      0 sec. | K    8 | ev -4.279860692e-01 | Ndiff    845.494 \n"
       ]
      },
      {
       "output_type": "stream",
       "stream": "stdout",
       "text": [
        "        5/50 after      0 sec. | K    8 | ev -3.642049535e-01 | Ndiff    538.090 \n"
       ]
      },
      {
       "output_type": "stream",
       "stream": "stdout",
       "text": [
        "        6/50 after      0 sec. | K    8 | ev -2.855884397e-01 | Ndiff    494.937 \n"
       ]
      },
      {
       "output_type": "stream",
       "stream": "stdout",
       "text": [
        "        7/50 after      0 sec. | K    8 | ev -1.653953732e-01 | Ndiff    405.827 \n"
       ]
      },
      {
       "output_type": "stream",
       "stream": "stdout",
       "text": [
        "        8/50 after      0 sec. | K    8 | ev -1.453997990e-01 | Ndiff    109.022 \n"
       ]
      },
      {
       "output_type": "stream",
       "stream": "stdout",
       "text": [
        "        9/50 after      0 sec. | K    8 | ev -1.425369085e-01 | Ndiff     61.190 \n"
       ]
      },
      {
       "output_type": "stream",
       "stream": "stdout",
       "text": [
        "       10/50 after      0 sec. | K    8 | ev -1.378420057e-01 | Ndiff    243.164 \n"
       ]
      },
      {
       "output_type": "stream",
       "stream": "stdout",
       "text": [
        "       11/50 after      0 sec. | K    8 | ev -1.085692821e-01 | Ndiff   1214.062 \n"
       ]
      },
      {
       "output_type": "stream",
       "stream": "stdout",
       "text": [
        "       12/50 after      0 sec. | K    8 | ev -3.290855791e-02 | Ndiff   1691.563 \n"
       ]
      },
      {
       "output_type": "stream",
       "stream": "stdout",
       "text": [
        "       13/50 after      0 sec. | K    8 | ev  1.288036894e-02 | Ndiff    597.813 \n"
       ]
      },
      {
       "output_type": "stream",
       "stream": "stdout",
       "text": [
        "       14/50 after      0 sec. | K    8 | ev  4.117557953e-02 | Ndiff    195.116 \n"
       ]
      },
      {
       "output_type": "stream",
       "stream": "stdout",
       "text": [
        "       15/50 after      1 sec. | K    8 | ev  8.691409744e-02 | Ndiff     39.537 \n"
       ]
      },
      {
       "output_type": "stream",
       "stream": "stdout",
       "text": [
        "       16/50 after      1 sec. | K    8 | ev  1.084084167e-01 | Ndiff      1.287 \n"
       ]
      },
      {
       "output_type": "stream",
       "stream": "stdout",
       "text": [
        "       17/50 after      1 sec. | K    8 | ev  1.084158113e-01 | Ndiff      0.017 \n"
       ]
      },
      {
       "output_type": "stream",
       "stream": "stdout",
       "text": [
        "... done. converged.\n"
       ]
      },
      {
       "output_type": "stream",
       "stream": "stdout",
       "text": [
        "Trial 10/10 | alg. seed: 1259520 | data order seed: 6801920\n"
       ]
      },
      {
       "output_type": "stream",
       "stream": "stdout",
       "text": [
        "savepath: /Users/Jens/Dropbox/dev/research/ML/out/AsteriskK8/defaultjob/10\n"
       ]
      },
      {
       "output_type": "stream",
       "stream": "stdout",
       "text": [
        "        1/50 after      0 sec. | K    8 | ev -5.724924066e+06 |  \n"
       ]
      },
      {
       "output_type": "stream",
       "stream": "stdout",
       "text": [
        "        2/50 after      0 sec. | K    8 | ev -6.001170419e-01 | Ndiff    170.316 \n"
       ]
      },
      {
       "output_type": "stream",
       "stream": "stdout",
       "text": [
        "        3/50 after      0 sec. | K    8 | ev -4.222897508e-01 | Ndiff    833.149 \n"
       ]
      },
      {
       "output_type": "stream",
       "stream": "stdout",
       "text": [
        "        4/50 after      0 sec. | K    8 | ev -3.508219848e-01 | Ndiff    872.515 \n"
       ]
      },
      {
       "output_type": "stream",
       "stream": "stdout",
       "text": [
        "        5/50 after      0 sec. | K    8 | ev -3.164288431e-01 | Ndiff    623.902 \n"
       ]
      },
      {
       "output_type": "stream",
       "stream": "stdout",
       "text": [
        "        6/50 after      0 sec. | K    8 | ev -2.912616164e-01 | Ndiff    318.684 \n"
       ]
      },
      {
       "output_type": "stream",
       "stream": "stdout",
       "text": [
        "        7/50 after      0 sec. | K    8 | ev -2.623775959e-01 | Ndiff    119.265 \n"
       ]
      },
      {
       "output_type": "stream",
       "stream": "stdout",
       "text": [
        "        8/50 after      0 sec. | K    8 | ev -2.258598877e-01 | Ndiff     17.448 \n"
       ]
      },
      {
       "output_type": "stream",
       "stream": "stdout",
       "text": [
        "        9/50 after      0 sec. | K    8 | ev -2.220024799e-01 | Ndiff      5.583 \n"
       ]
      },
      {
       "output_type": "stream",
       "stream": "stdout",
       "text": [
        "       10/50 after      0 sec. | K    8 | ev -2.216269289e-01 | Ndiff     24.800 \n"
       ]
      },
      {
       "output_type": "stream",
       "stream": "stdout",
       "text": [
        "       11/50 after      0 sec. | K    8 | ev -2.211157424e-01 | Ndiff     43.904 \n"
       ]
      },
      {
       "output_type": "stream",
       "stream": "stdout",
       "text": [
        "       12/50 after      0 sec. | K    8 | ev -2.204318457e-01 | Ndiff     61.944 \n"
       ]
      },
      {
       "output_type": "stream",
       "stream": "stdout",
       "text": [
        "       13/50 after      0 sec. | K    8 | ev -2.195502072e-01 | Ndiff     78.228 \n"
       ]
      },
      {
       "output_type": "stream",
       "stream": "stdout",
       "text": [
        "       14/50 after      0 sec. | K    8 | ev -2.184539266e-01 | Ndiff     92.488 \n"
       ]
      },
      {
       "output_type": "stream",
       "stream": "stdout",
       "text": [
        "       15/50 after      0 sec. | K    8 | ev -2.171284920e-01 | Ndiff    104.872 \n"
       ]
      },
      {
       "output_type": "stream",
       "stream": "stdout",
       "text": [
        "       16/50 after      1 sec. | K    8 | ev -2.155582046e-01 | Ndiff    115.919 \n"
       ]
      },
      {
       "output_type": "stream",
       "stream": "stdout",
       "text": [
        "       17/50 after      1 sec. | K    8 | ev -2.137266827e-01 | Ndiff    126.504 \n"
       ]
      },
      {
       "output_type": "stream",
       "stream": "stdout",
       "text": [
        "       18/50 after      1 sec. | K    8 | ev -2.116091488e-01 | Ndiff    137.592 \n"
       ]
      },
      {
       "output_type": "stream",
       "stream": "stdout",
       "text": [
        "       19/50 after      1 sec. | K    8 | ev -2.091173759e-01 | Ndiff    149.555 \n"
       ]
      },
      {
       "output_type": "stream",
       "stream": "stdout",
       "text": [
        "       20/50 after      1 sec. | K    8 | ev -2.059631835e-01 | Ndiff    161.239 \n"
       ]
      },
      {
       "output_type": "stream",
       "stream": "stdout",
       "text": [
        "       21/50 after      1 sec. | K    8 | ev -2.014197705e-01 | Ndiff    169.269 \n"
       ]
      },
      {
       "output_type": "stream",
       "stream": "stdout",
       "text": [
        "       22/50 after      1 sec. | K    8 | ev -1.937761570e-01 | Ndiff    163.866 \n"
       ]
      },
      {
       "output_type": "stream",
       "stream": "stdout",
       "text": [
        "       23/50 after      1 sec. | K    8 | ev -1.790774388e-01 | Ndiff    126.885 \n"
       ]
      },
      {
       "output_type": "stream",
       "stream": "stdout",
       "text": [
        "       24/50 after      1 sec. | K    8 | ev -1.520070638e-01 | Ndiff     40.315 \n"
       ]
      },
      {
       "output_type": "stream",
       "stream": "stdout",
       "text": [
        "       25/50 after      1 sec. | K    8 | ev -1.413158909e-01 | Ndiff      4.841 \n"
       ]
      },
      {
       "output_type": "stream",
       "stream": "stdout",
       "text": [
        "       26/50 after      1 sec. | K    8 | ev -1.413054199e-01 | Ndiff      0.737 \n"
       ]
      },
      {
       "output_type": "stream",
       "stream": "stdout",
       "text": [
        "       27/50 after      1 sec. | K    8 | ev -1.413043389e-01 | Ndiff      0.178 \n"
       ]
      },
      {
       "output_type": "stream",
       "stream": "stdout",
       "text": [
        "       28/50 after      1 sec. | K    8 | ev -1.413034110e-01 | Ndiff      0.156 \n"
       ]
      },
      {
       "output_type": "stream",
       "stream": "stdout",
       "text": [
        "       29/50 after      1 sec. | K    8 | ev -1.413025569e-01 | Ndiff      0.136 \n"
       ]
      },
      {
       "output_type": "stream",
       "stream": "stdout",
       "text": [
        "       30/50 after      1 sec. | K    8 | ev -1.413017669e-01 | Ndiff      0.118 \n"
       ]
      },
      {
       "output_type": "stream",
       "stream": "stdout",
       "text": [
        "       31/50 after      1 sec. | K    8 | ev -1.413010334e-01 | Ndiff      0.101 \n"
       ]
      },
      {
       "output_type": "stream",
       "stream": "stdout",
       "text": [
        "       32/50 after      1 sec. | K    8 | ev -1.413003502e-01 | Ndiff      0.085 \n"
       ]
      },
      {
       "output_type": "stream",
       "stream": "stdout",
       "text": [
        "       33/50 after      1 sec. | K    8 | ev -1.412997117e-01 | Ndiff      0.070 \n"
       ]
      },
      {
       "output_type": "stream",
       "stream": "stdout",
       "text": [
        "       34/50 after      1 sec. | K    8 | ev -1.412991134e-01 | Ndiff      0.056 \n"
       ]
      },
      {
       "output_type": "stream",
       "stream": "stdout",
       "text": [
        "       35/50 after      1 sec. | K    8 | ev -1.412985511e-01 | Ndiff      0.043 \n"
       ]
      },
      {
       "output_type": "stream",
       "stream": "stdout",
       "text": [
        "... done. converged.\n"
       ]
      },
      {
       "metadata": {},
       "output_type": "pyout",
       "prompt_number": 2,
       "text": [
        "(<bnpy.HModel.HModel at 0x10e95df10>,\n",
        " {'LP': {'E_log_soft_ev': array([[  0.00000000e+000,   1.00000000e+000,   1.47212503e-271, ...,\n",
        "          3.57033429e-018,   0.00000000e+000,   5.69729887e-253],\n",
        "       [  1.08335431e-148,   3.10041486e-166,   2.93600010e-013, ...,\n",
        "          1.53354414e-148,   2.06055250e-157,   6.25382359e-301],\n",
        "       [  4.66530178e-204,   2.21524892e-192,   0.00000000e+000, ...,\n",
        "          1.97305643e-192,   3.06374834e-206,   1.00000000e+000],\n",
        "       ..., \n",
        "       [  1.00000000e+000,   0.00000000e+000,   1.31408690e-193, ...,\n",
        "          0.00000000e+000,   1.54284509e-014,   1.41237881e-197],\n",
        "       [  1.00000000e+000,   2.32080965e-280,   1.01509216e-138, ...,\n",
        "          2.42934794e-265,   5.87754327e-012,   6.86570612e-127],\n",
        "       [  2.05341833e-010,   6.10362402e-187,   2.87589052e-080, ...,\n",
        "          8.67954166e-177,   1.00000000e+000,   5.81726891e-097]]),\n",
        "   'evidence': 5412.2654142858382,\n",
        "   'resp': array([[  0.00000000e+000,   1.00000000e+000,   1.47212503e-271, ...,\n",
        "          3.57033429e-018,   0.00000000e+000,   5.69729887e-253],\n",
        "       [  1.08335431e-148,   3.10041486e-166,   2.93600010e-013, ...,\n",
        "          1.53354414e-148,   2.06055250e-157,   6.25382359e-301],\n",
        "       [  4.66530178e-204,   2.21524892e-192,   0.00000000e+000, ...,\n",
        "          1.97305643e-192,   3.06374834e-206,   1.00000000e+000],\n",
        "       ..., \n",
        "       [  1.00000000e+000,   0.00000000e+000,   1.31408690e-193, ...,\n",
        "          0.00000000e+000,   1.54284509e-014,   1.41237881e-197],\n",
        "       [  1.00000000e+000,   2.32080965e-280,   1.01509216e-138, ...,\n",
        "          2.42934794e-265,   5.87754327e-012,   6.86570612e-127],\n",
        "       [  2.05341833e-010,   6.10362402e-187,   2.87589052e-080, ...,\n",
        "          8.67954166e-177,   1.00000000e+000,   5.81726891e-097]])},\n",
        "  'SS': <bnpy.suffstats.SuffStatBag.SuffStatBag at 0x10e95d410>,\n",
        "  'evBound': 0.10841581151293812,\n",
        "  'evTrace': [-11833417.313538266,\n",
        "   -0.78579394994109864,\n",
        "   -0.67066839753559127,\n",
        "   -0.56376157345416023,\n",
        "   -0.44090962627545599,\n",
        "   -0.30601652150436037,\n",
        "   -0.22133185358330487,\n",
        "   -0.15414095707854356,\n",
        "   -0.081358546173436866,\n",
        "   -0.079073943804218658,\n",
        "   -0.073241968003708705,\n",
        "   -0.039087712929351787,\n",
        "   0.0036588510159351203,\n",
        "   0.030078333722294237,\n",
        "   0.059909957925545515,\n",
        "   0.10114717284724764,\n",
        "   0.10841563739749549,\n",
        "   0.10841581151293812],\n",
        "  'lapTrace': {1, 2, 3, 4, 5, 6, 7, 8, 9, 10, 11, 12, 13, 14, 15, 16, 17, 18},\n",
        "  'status': 'done. converged.'})"
       ]
      }
     ],
     "prompt_number": 2
    },
    {
     "cell_type": "markdown",
     "metadata": {},
     "source": [
      "This should print out a huge transcript. We won't repeat all of it here, but it should look like\n",
      "\n",
      "```\n",
      "Asterisk Toy Data. Ktrue=8. D=2.\n",
      "  num obs: 25000\n",
      "Allocation Model:  Finite mixture with K=8. Dir prior param 1.00\n",
      "Obs. Data  Model:  Gaussian distribution\n",
      "Obs. Data  Prior:  None\n",
      "Learn Alg: EM\n",
      "Trial  1/10 | alg. seed: 4226944 | data seed: 8541952\n",
      "savepath: /results/AsteriskK8/MixModel/Gauss/EM/defaultjob/1\n",
      "\t[several lines of omitted content]\n",
      "Trial  2/10 | alg. seed: 5281280 | data seed: 7673856\n",
      "savepath: /results/AsteriskK8/MixModel/Gauss/EM/defaultjob/2\n",
      "\t[several lines of omitted content]\n",
      "Trial  3/10 | alg. seed: 4200448 | data seed: 7360256\n",
      "savepath: /results/AsteriskK8/MixModel/Gauss/EM/defaultjob/3\n",
      "\t[several lines of omitted content]\n",
      "\t...\n",
      "Trial 10/10 | alg. seed: 1259520 | data seed: 6801920\n",
      "savepath: /results/AsteriskK8/MixModel/Gauss/EM/defaultjob/10\n",
      "\t[several lines of omitted content]\n",
      "\n",
      "```\n",
      "\n",
      "We can see that each run's parameters are saved in their own subdirectory under the current experiment (called \"defaultjob\").\n",
      "\n",
      "### Plot log evidence traces\n",
      "\n",
      "**bnpy** has built-in visualization tools for comparing overall model quality over time and across all runs from an experiment.  The command-line script is **PlotELBO.py**, which plots the *log evidence* (or the *evidence lower bound (ELBO)*). The ELBO is a scalar quantity that tells us how well the model fits the data. Higher is better. \n",
      "\n",
      "**PlotELBO.py** takes just one argument: the filepath to the saved experimental results.  It finds and plots the ELBO for all saved runs.\n"
     ]
    },
    {
     "cell_type": "code",
     "collapsed": false,
     "input": [
      "%pylab inline\n",
      "\n",
      "bnpy.viz.PlotELBO.plotJobsThatMatchKeywords('AsteriskK8/defaultjob')"
     ],
     "language": "python",
     "metadata": {},
     "outputs": [
      {
       "output_type": "stream",
       "stream": "stdout",
       "text": [
        "Populating the interactive namespace from numpy and matplotlib\n"
       ]
      },
      {
       "metadata": {},
       "output_type": "display_data",
       "png": "[encoded data removed]",
       "text": [
        "<matplotlib.figure.Figure at 0x10e99b950>"
       ]
      }
     ],
     "prompt_number": 20
    },
    {
     "cell_type": "markdown",
     "metadata": {},
     "source": [
      "In the resulting plot, each distinct run (1-10) is shown as a line plot of log evidence vs. number of passes (\"laps\") through the whole Asterisk dataset.\n",
      "\n",
      "Clearly, some runs reach much better solutions than others. We can examine the learned parameters for several runs below to gain a sense of the diversity.\n",
      "\n",
      "Note: to avoid wasted computation, **bnpy** will halt a learning algorithm early when its ELBO value *converges*. That is, if the change between successive iterations is less than a specified tolerance, the algorithm quits early.  This explains why some curves go out to 50 laps but others do not.\n",
      "\n",
      "### Learned parameters: run 1\n",
      "![](../img/Asterisk-MixModel-Gauss-EM-1.png)\n",
      "\n",
      "### Learned parameters: run 2\n",
      "![](../img/Asterisk-MixModel-Gauss-EM-2.png)\n",
      "\n",
      "### Learned parameters: run 3\n",
      "![](../img/Asterisk-MixModel-Gauss-EM-3.png)\n",
      "\n",
      "### Learned parameters: run 8\n",
      "![](../img/Asterisk-MixModel-Gauss-EM-8.png)\n",
      "\n",
      "### Learned parameters: run 10\n",
      "![](../img/Asterisk-MixModel-Gauss-EM-10.png)"
     ]
    }
   ],
   "metadata": {}
  }
 ]
}
{
 "metadata": {
  "name": "",
  "signature": "sha256:5ff784d0c9fa15e958133b858392ccec17b4da99c5c259777d45f9ab4fbf20fa"
 },
 "nbformat": 3,
 "nbformat_minor": 0,
 "worksheets": [
  {
   "cells": [
    {
     "cell_type": "code",
     "collapsed": false,
     "input": [
      "import numpy as np\n",
      "import bnpy\n",
      "\n",
      "from matplotlib import pylab\n",
      "%pylab inline"
     ],
     "language": "python",
     "metadata": {},
     "outputs": [
      {
       "output_type": "stream",
       "stream": "stdout",
       "text": [
        "Populating the interactive namespace from numpy and matplotlib\n"
       ]
      }
     ],
     "prompt_number": 1
    },
    {
     "cell_type": "code",
     "collapsed": false,
     "input": [
      "import MixBarsK10V900\n",
      "Data = MixBarsK10V900.get_data()"
     ],
     "language": "python",
     "metadata": {},
     "outputs": [],
     "prompt_number": 2
    },
    {
     "cell_type": "code",
     "collapsed": false,
     "input": [
      "hmodel, RInfo = bnpy.run(Data, 'MixModel', 'Mult', 'EM', K=10, nLap=500)"
     ],
     "language": "python",
     "metadata": {},
     "outputs": [
      {
       "output_type": "stream",
       "stream": "stdout",
       "text": [
        "Toy Bars Data with 10 true topics. Each doc uses ONE topic.\n"
       ]
      },
      {
       "output_type": "stream",
       "stream": "stdout",
       "text": [
        "  size: 2000 units (documents)\n",
        "  vocab size: 900\n",
        "  min    5%   50%   95%   max \n",
        "  154   163   171   180   189  nUniqueTokensPerDoc\n",
        "  360   360   360   360   360  nTotalTokensPerDoc\n",
        "Hist of word_count across tokens \n",
        "      1      2      3    <10   <100  >=100\n",
        "   0.40   0.29   0.18   0.13      2      0\n",
        "Hist of unique docs per word type\n",
        "     <1    <10   <100  <0.10  <0.20  <0.50 >=0.50\n",
        "      0      0      0      0   0.83   0.17      0\n"
       ]
      },
      {
       "output_type": "stream",
       "stream": "stdout",
       "text": [
        "Allocation Model:  Finite mixture with K=10. Dir prior param 1.00\n",
        "Obs. Data  Model:  Multinomial over finite vocabulary.\n",
        "Obs. Data  Prior:  Dirichlet over finite vocabulary \n",
        "  lam = [ 0.1  0.1] ...\n"
       ]
      },
      {
       "output_type": "stream",
       "stream": "stdout",
       "text": [
        "Learn Alg: EM\n"
       ]
      },
      {
       "output_type": "stream",
       "stream": "stdout",
       "text": [
        "Trial  1/1 | alg. seed: 4226944 | data order seed: 8541952\n"
       ]
      },
      {
       "output_type": "stream",
       "stream": "stdout",
       "text": [
        "savepath: /Users/mni/bnpy-dev/results/MixBarsK10V900/defaultjob/1\n"
       ]
      },
      {
       "output_type": "stream",
       "stream": "stdout",
       "text": [
        "        1/500 after      0 sec. | K   10 | ev -7.991426898e+00 |  \n"
       ]
      },
      {
       "output_type": "stream",
       "stream": "stdout",
       "text": [
        "        2/500 after      0 sec. | K   10 | ev -5.954858065e+00 | Ndiff    164.691 \n"
       ]
      },
      {
       "output_type": "stream",
       "stream": "stdout",
       "text": [
        "        3/500 after      0 sec. | K   10 | ev -5.704098892e+00 | Ndiff     78.616 \n"
       ]
      },
      {
       "output_type": "stream",
       "stream": "stdout",
       "text": [
        "        4/500 after      0 sec. | K   10 | ev -5.658962214e+00 | Ndiff      0.017 \n"
       ]
      },
      {
       "output_type": "stream",
       "stream": "stdout",
       "text": [
        "... done. converged.\n"
       ]
      }
     ],
     "prompt_number": 3
    },
    {
     "cell_type": "code",
     "collapsed": false,
     "input": [
      "for K in [8, 12, 16, 50]:\n",
      "    hmodel, RInfo = bnpy.run(Data, 'MixModel', 'Mult', 'EM', jobname='demo-K=%d'%(K),K=K, nLap=500, doWriteStdOut=False)\n",
      "    print 'K=%3d | final ev % .5f' % (K, RInfo['evBound'])\n",
      "    #bnpy.viz.BarsViz.plotBarsFromHModel(hmodel);"
     ],
     "language": "python",
     "metadata": {},
     "outputs": [
      {
       "output_type": "stream",
       "stream": "stdout",
       "text": [
        "K=  8 | final ev -5.74233\n",
        "K= 12 | final ev -5.45296"
       ]
      },
      {
       "output_type": "stream",
       "stream": "stdout",
       "text": [
        "\n",
        "K= 16 | final ev -5.45114"
       ]
      },
      {
       "output_type": "stream",
       "stream": "stdout",
       "text": [
        "\n",
        "K= 50 | final ev -5.43378"
       ]
      },
      {
       "output_type": "stream",
       "stream": "stdout",
       "text": [
        "\n"
       ]
      }
     ],
     "prompt_number": 4
    },
    {
     "cell_type": "code",
     "collapsed": false,
     "input": [
      "bnpy.viz.PlotELBO.plotJobsThatMatchKeywords('MixBarsK10V900/demo-K=*');\n",
      "pylab.ylim([-10, -5])"
     ],
     "language": "python",
     "metadata": {},
     "outputs": [
      {
       "metadata": {},
       "output_type": "pyout",
       "prompt_number": 5,
       "text": [
        "(-10, -5)"
       ]
      },
      {
       "metadata": {},
       "output_type": "display_data",
       "png": "[encoded data removed]",
       "text": [
        "<matplotlib.figure.Figure at 0x1099b7d10>"
       ]
      }
     ],
     "prompt_number": 5
    }
   ],
   "metadata": {}
  }
 ]
}
{
 "metadata": {
  "name": ""
 },
 "nbformat": 3,
 "nbformat_minor": 0,
 "worksheets": [
  {
   "cells": [
    {
     "cell_type": "markdown",
     "metadata": {},
     "source": [
      "# Learning DP Mixtures on Toy Bars Data with Birth and Merge moves"
     ]
    },
    {
     "cell_type": "markdown",
     "metadata": {},
     "source": [
      "## Goal\n",
      "\n",
      "This demo walks you through using **bnpy** from within python to train a Dirichlet process (DP) mixture model on **bag-of-words** data. We'll use memoized variational inference with birth and merge moves.\n",
      "\n",
      "We can use the following import statements to load bnpy."
     ]
    },
    {
     "cell_type": "code",
     "collapsed": false,
     "input": [
      "import bnpy\n",
      "\n",
      "from matplotlib import pylab\n",
      "%pylab inline\n",
      "\n",
      "imshowArgs = dict(interpolation='nearest', \n",
      "                  cmap='bone_r', \n",
      "                  vmin=0.0, \n",
      "                  vmax=10./900,\n",
      "                  )"
     ],
     "language": "python",
     "metadata": {},
     "outputs": [
      {
       "output_type": "stream",
       "stream": "stdout",
       "text": [
        "Populating the interactive namespace from numpy and matplotlib\n"
       ]
      }
     ],
     "prompt_number": 40
    },
    {
     "cell_type": "markdown",
     "metadata": {},
     "source": [
      "## Toy dataset : `MixBarsK10V900`"
     ]
    },
    {
     "cell_type": "markdown",
     "metadata": {},
     "source": [
      "We'll use a simple \"toy bars\" dataset generated from a mixture model.\n",
      "\n",
      "**Our task here is to assign exactly one cluster to every whole document. Be aware that this is different than assigning a cluster/topic to each word token, like in LDA or HDP topic models. ** "
     ]
    },
    {
     "cell_type": "code",
     "collapsed": false,
     "input": [
      "import MixBarsK10V900\n",
      "Data = MixBarsK10V900.get_data(nDocTotal=1000, nWordsPerDoc=100)\n",
      "Data.name = 'MixBarsK10V900'"
     ],
     "language": "python",
     "metadata": {},
     "outputs": [],
     "prompt_number": 41
    },
    {
     "cell_type": "markdown",
     "metadata": {},
     "source": [
      "First, we can visualize the 10 \"true\" topics. Each one is a distribution over the same set of 900 vocabulary \"words\". We can show this distribution as an image with 30x30 pixels, where each pixel's intensity indicates the probability of the corresponding word."
     ]
    },
    {
     "cell_type": "code",
     "collapsed": false,
     "input": [
      "bnpy.viz.BarsViz.showTopicsAsSquareImages(MixBarsK10V900.Defaults['topics'], **imshowArgs)"
     ],
     "language": "python",
     "metadata": {},
     "outputs": [
      {
       "metadata": {},
       "output_type": "pyout",
       "png": "[encoded data removed]",
       "prompt_number": 42,
       "text": [
        "<matplotlib.figure.Figure at 0xa857eb0>"
       ]
      },
      {
       "metadata": {},
       "output_type": "display_data",
       "png": "[encoded data removed]",
       "text": [
        "<matplotlib.figure.Figure at 0xa857eb0>"
       ]
      }
     ],
     "prompt_number": 42
    },
    {
     "cell_type": "markdown",
     "metadata": {},
     "source": [
      "Next, we can visualize some example documents. "
     ]
    },
    {
     "cell_type": "code",
     "collapsed": false,
     "input": [
      "bnpy.viz.BarsViz.plotExampleBarsDocs(Data, **imshowArgs)"
     ],
     "language": "python",
     "metadata": {},
     "outputs": [
      {
       "metadata": {},
       "output_type": "display_data",
       "png": "[encoded data removed]",
       "text": [
        "<matplotlib.figure.Figure at 0x9674bd0>"
       ]
      }
     ],
     "prompt_number": 43
    },
    {
     "cell_type": "markdown",
     "metadata": {},
     "source": [
      "# Running inference with **bnpy**\n",
      "\n",
      "We'll fit a DP mixture model with a multinomial likelihood, using birth and merge moves. We use the `moves` keyword argument to specify which moves to employ.\n",
      "\n",
      "We'll look at several possible initial numbers of clusters, and show that the birth/merge moves consistently reach the ideal set of 8 clusters.\n",
      "\n",
      "## 1 initial cluster, repeated for 2 trials"
     ]
    },
    {
     "cell_type": "code",
     "collapsed": false,
     "input": [
      "hmodel, RInfo = bnpy.run(Data, 'DPMixtureModel', 'Mult', 'moVB',\n",
      "                         nLap=20, K=1, lam=0.1, moves='birth,merge', \n",
      "                         nTask=2, jobname='demobirthmerge-Kinit=1')"
     ],
     "language": "python",
     "metadata": {},
     "outputs": [
      {
       "output_type": "stream",
       "stream": "stdout",
       "text": [
        "Toy Bars Data with 10 true topics. Each doc uses ONE topic.\n"
       ]
      },
      {
       "output_type": "stream",
       "stream": "stdout",
       "text": [
        "Entire Dataset Summary:\n"
       ]
      },
      {
       "output_type": "stream",
       "stream": "stdout",
       "text": [
        "  total size: 1000 units\n",
        "  batch size: 100 units\n",
        "  num. batches: 10\n"
       ]
      },
      {
       "output_type": "stream",
       "stream": "stdout",
       "text": [
        "Data for Initialization:\n"
       ]
      },
      {
       "output_type": "stream",
       "stream": "stdout",
       "text": [
        "  size: 1000 units (documents)\n",
        "  vocab size: 900\n",
        "  min    5%   50%   95%   max \n",
        "   66    73    79    84    88  nUniqueTokensPerDoc\n",
        "  100   100   100   100   100  nTotalTokensPerDoc\n",
        "Hist of word_count across tokens \n",
        "      1      2      3    <10   <100  >=100\n",
        "   0.77   0.19   0.03    382      0      0\n",
        "Hist of unique docs per word type\n",
        "     <1    <10   <100  <0.20  <0.50 >=0.50\n",
        "      0      0   0.93   0.07      0      0\n"
       ]
      },
      {
       "output_type": "stream",
       "stream": "stdout",
       "text": [
        "Allocation Model:  DP mixture with K=1. Concentration gamma0= 1.00\n",
        "Obs. Data  Model:  Multinomial over finite vocabulary.\n",
        "Obs. Data  Prior:  Dirichlet over finite vocabulary \n",
        "  lam = [ 0.1  0.1] ...\n"
       ]
      },
      {
       "output_type": "stream",
       "stream": "stdout",
       "text": [
        "Learn Alg: moVB\n"
       ]
      },
      {
       "output_type": "stream",
       "stream": "stdout",
       "text": [
        "Trial  1/2 | alg. seed: 2497280 | data order seed: 8541952\n"
       ]
      },
      {
       "output_type": "stream",
       "stream": "stdout",
       "text": [
        "savepath: /results/MixBarsK10V900/demobirthmerge-Kinit=1/1\n"
       ]
      },
      {
       "output_type": "stream",
       "stream": "stdout",
       "text": [
        "    0.100/20 after      0 sec. | K    1 | ev -6.969793109e+00 |  \n"
       ]
      },
      {
       "output_type": "stream",
       "stream": "stdout",
       "text": [
        "    0.200/20 after      0 sec. | K    1 | ev -6.910657011e+00 |  \n"
       ]
      },
      {
       "output_type": "stream",
       "stream": "stdout",
       "text": [
        "    0.300/20 after      0 sec. | K    1 | ev -6.885383576e+00 |  \n"
       ]
      },
      {
       "output_type": "stream",
       "stream": "stdout",
       "text": [
        "    1.000/20 after      0 sec. | K    1 | ev -6.833745697e+00 |  \n"
       ]
      },
      {
       "output_type": "stream",
       "stream": "stdout",
       "text": [
        "BIRTH ACCEPTED. 8 fresh comps.\n"
       ]
      },
      {
       "output_type": "stream",
       "stream": "stdout",
       "text": [
        "MERGE 0/0 accepted. \n"
       ]
      },
      {
       "output_type": "stream",
       "stream": "stdout",
       "text": [
        "    2.000/20 after      0 sec. | K    9 | ev -5.682738824e+00 | Ndiff     93.000 \n"
       ]
      },
      {
       "output_type": "stream",
       "stream": "stdout",
       "text": [
        "MERGE 0/0 accepted. \n"
       ]
      },
      {
       "output_type": "stream",
       "stream": "stdout",
       "text": [
        "    3.000/20 after      0 sec. | K    9 | ev -5.671719201e+00 | Ndiff      0.000 \n"
       ]
      },
      {
       "output_type": "stream",
       "stream": "stdout",
       "text": [
        "BIRTH ACCEPTED. 2 fresh comps.\n"
       ]
      },
      {
       "output_type": "stream",
       "stream": "stdout",
       "text": [
        "MERGE 0/0 accepted. \n"
       ]
      },
      {
       "output_type": "stream",
       "stream": "stdout",
       "text": [
        "    4.000/20 after      0 sec. | K   11 | ev -5.580876852e+00 | Ndiff     93.000 \n"
       ]
      },
      {
       "output_type": "stream",
       "stream": "stdout",
       "text": [
        "MERGE 1/1 accepted. ev increased  1.3314e-03\n"
       ]
      },
      {
       "output_type": "stream",
       "stream": "stdout",
       "text": [
        "    5.000/20 after      1 sec. | K   10 | ev -5.579190605e+00 | Ndiff      0.000 \n"
       ]
      },
      {
       "output_type": "stream",
       "stream": "stdout",
       "text": [
        "MERGE 0/0 accepted. \n"
       ]
      },
      {
       "output_type": "stream",
       "stream": "stdout",
       "text": [
        "    6.000/20 after      1 sec. | K   10 | ev -5.579190605e+00 | Ndiff      0.000 \n"
       ]
      },
      {
       "output_type": "stream",
       "stream": "stdout",
       "text": [
        "MERGE 0/0 accepted. \n"
       ]
      },
      {
       "output_type": "stream",
       "stream": "stdout",
       "text": [
        "    7.000/20 after      1 sec. | K   10 | ev -5.579190605e+00 | Ndiff      0.000 \n"
       ]
      },
      {
       "output_type": "stream",
       "stream": "stdout",
       "text": [
        "MERGE 0/0 accepted. \n"
       ]
      },
      {
       "output_type": "stream",
       "stream": "stdout",
       "text": [
        "    8.000/20 after      1 sec. | K   10 | ev -5.579190605e+00 | Ndiff      0.000 \n"
       ]
      },
      {
       "output_type": "stream",
       "stream": "stdout",
       "text": [
        "MERGE 0/0 accepted. \n"
       ]
      },
      {
       "output_type": "stream",
       "stream": "stdout",
       "text": [
        "    9.000/20 after      1 sec. | K   10 | ev -5.579190605e+00 | Ndiff      0.000 \n"
       ]
      },
      {
       "output_type": "stream",
       "stream": "stdout",
       "text": [
        "MERGE 0/0 accepted. \n"
       ]
      },
      {
       "output_type": "stream",
       "stream": "stdout",
       "text": [
        "   10.000/20 after      1 sec. | K   10 | ev -5.579190605e+00 | Ndiff      0.000 \n"
       ]
      },
      {
       "output_type": "stream",
       "stream": "stdout",
       "text": [
        "MERGE 0/0 accepted. \n"
       ]
      },
      {
       "output_type": "stream",
       "stream": "stdout",
       "text": [
        "   11.000/20 after      1 sec. | K   10 | ev -5.579190605e+00 | Ndiff      0.000 \n"
       ]
      },
      {
       "output_type": "stream",
       "stream": "stdout",
       "text": [
        "MERGE 0/0 accepted. \n"
       ]
      },
      {
       "output_type": "stream",
       "stream": "stdout",
       "text": [
        "   12.000/20 after      1 sec. | K   10 | ev -5.579190605e+00 | Ndiff      0.000 \n"
       ]
      },
      {
       "output_type": "stream",
       "stream": "stdout",
       "text": [
        "MERGE 0/0 accepted. \n"
       ]
      },
      {
       "output_type": "stream",
       "stream": "stdout",
       "text": [
        "   13.000/20 after      1 sec. | K   10 | ev -5.579190605e+00 | Ndiff      0.000 \n"
       ]
      },
      {
       "output_type": "stream",
       "stream": "stdout",
       "text": [
        "MERGE 0/0 accepted. \n"
       ]
      },
      {
       "output_type": "stream",
       "stream": "stdout",
       "text": [
        "   14.000/20 after      2 sec. | K   10 | ev -5.579190605e+00 | Ndiff      0.000 \n"
       ]
      },
      {
       "output_type": "stream",
       "stream": "stdout",
       "text": [
        "MERGE 0/0 accepted. \n"
       ]
      },
      {
       "output_type": "stream",
       "stream": "stdout",
       "text": [
        "   15.000/20 after      2 sec. | K   10 | ev -5.579190605e+00 | Ndiff      0.000 \n"
       ]
      },
      {
       "output_type": "stream",
       "stream": "stdout",
       "text": [
        "MERGE 0/0 accepted. \n"
       ]
      },
      {
       "output_type": "stream",
       "stream": "stdout",
       "text": [
        "   16.000/20 after      2 sec. | K   10 | ev -5.579190605e+00 | Ndiff      0.000 \n"
       ]
      },
      {
       "output_type": "stream",
       "stream": "stdout",
       "text": [
        "MERGE 0/0 accepted. \n"
       ]
      },
      {
       "output_type": "stream",
       "stream": "stdout",
       "text": [
        "   17.000/20 after      2 sec. | K   10 | ev -5.579190605e+00 | Ndiff      0.000 \n"
       ]
      },
      {
       "output_type": "stream",
       "stream": "stdout",
       "text": [
        "MERGE 0/0 accepted. \n"
       ]
      },
      {
       "output_type": "stream",
       "stream": "stdout",
       "text": [
        "   18.000/20 after      2 sec. | K   10 | ev -5.579190605e+00 | Ndiff      0.000 \n"
       ]
      },
      {
       "output_type": "stream",
       "stream": "stdout",
       "text": [
        "MERGE 0/0 accepted. \n"
       ]
      },
      {
       "output_type": "stream",
       "stream": "stdout",
       "text": [
        "   19.000/20 after      2 sec. | K   10 | ev -5.579190605e+00 | Ndiff      0.000 \n"
       ]
      },
      {
       "output_type": "stream",
       "stream": "stdout",
       "text": [
        "... done. converged.\n"
       ]
      },
      {
       "output_type": "stream",
       "stream": "stdout",
       "text": [
        "Trial  2/2 | alg. seed: 1128064 | data order seed: 7673856\n"
       ]
      },
      {
       "output_type": "stream",
       "stream": "stdout",
       "text": [
        "savepath: /results/MixBarsK10V900/demobirthmerge-Kinit=1/2\n"
       ]
      },
      {
       "output_type": "stream",
       "stream": "stdout",
       "text": [
        "    0.100/20 after      0 sec. | K    1 | ev -6.981597526e+00 |  \n"
       ]
      },
      {
       "output_type": "stream",
       "stream": "stdout",
       "text": [
        "    0.200/20 after      0 sec. | K    1 | ev -6.916391582e+00 |  \n"
       ]
      },
      {
       "output_type": "stream",
       "stream": "stdout",
       "text": [
        "    0.300/20 after      0 sec. | K    1 | ev -6.880774941e+00 |  \n"
       ]
      },
      {
       "output_type": "stream",
       "stream": "stdout",
       "text": [
        "    1.000/20 after      0 sec. | K    1 | ev -6.833745697e+00 |  \n"
       ]
      },
      {
       "output_type": "stream",
       "stream": "stdout",
       "text": [
        "BIRTH ACCEPTED. 8 fresh comps.\n"
       ]
      },
      {
       "output_type": "stream",
       "stream": "stdout",
       "text": [
        "MERGE 0/0 accepted. \n"
       ]
      },
      {
       "output_type": "stream",
       "stream": "stdout",
       "text": [
        "    2.000/20 after      0 sec. | K    9 | ev -5.673084280e+00 | Ndiff     92.000 \n"
       ]
      },
      {
       "output_type": "stream",
       "stream": "stdout",
       "text": [
        "MERGE 0/0 accepted. \n"
       ]
      },
      {
       "output_type": "stream",
       "stream": "stdout",
       "text": [
        "    3.000/20 after      0 sec. | K    9 | ev -5.668395610e+00 | Ndiff      0.000 \n"
       ]
      },
      {
       "output_type": "stream",
       "stream": "stdout",
       "text": [
        "BIRTH ACCEPTED. 2 fresh comps.\n"
       ]
      },
      {
       "output_type": "stream",
       "stream": "stdout",
       "text": [
        "MERGE 0/0 accepted. \n"
       ]
      },
      {
       "output_type": "stream",
       "stream": "stdout",
       "text": [
        "    4.000/20 after      1 sec. | K   11 | ev -5.579253419e+00 | Ndiff     89.000 \n"
       ]
      },
      {
       "output_type": "stream",
       "stream": "stdout",
       "text": [
        "MERGE 1/1 accepted. ev increased  6.5338e-05\n"
       ]
      },
      {
       "output_type": "stream",
       "stream": "stdout",
       "text": [
        "    5.000/20 after      1 sec. | K   10 | ev -5.579188081e+00 | Ndiff      0.000 \n"
       ]
      },
      {
       "output_type": "stream",
       "stream": "stdout",
       "text": [
        "MERGE 0/0 accepted. \n"
       ]
      },
      {
       "output_type": "stream",
       "stream": "stdout",
       "text": [
        "    6.000/20 after      1 sec. | K   10 | ev -5.579188081e+00 | Ndiff      0.000 \n"
       ]
      },
      {
       "output_type": "stream",
       "stream": "stdout",
       "text": [
        "MERGE 0/0 accepted. \n"
       ]
      },
      {
       "output_type": "stream",
       "stream": "stdout",
       "text": [
        "    7.000/20 after      1 sec. | K   10 | ev -5.579188081e+00 | Ndiff      0.000 \n"
       ]
      },
      {
       "output_type": "stream",
       "stream": "stdout",
       "text": [
        "MERGE 0/0 accepted. \n"
       ]
      },
      {
       "output_type": "stream",
       "stream": "stdout",
       "text": [
        "    8.000/20 after      1 sec. | K   10 | ev -5.579188081e+00 | Ndiff      0.000 \n"
       ]
      },
      {
       "output_type": "stream",
       "stream": "stdout",
       "text": [
        "MERGE 0/0 accepted. \n"
       ]
      },
      {
       "output_type": "stream",
       "stream": "stdout",
       "text": [
        "    9.000/20 after      1 sec. | K   10 | ev -5.579188081e+00 | Ndiff      0.000 \n"
       ]
      },
      {
       "output_type": "stream",
       "stream": "stdout",
       "text": [
        "MERGE 0/0 accepted. \n"
       ]
      },
      {
       "output_type": "stream",
       "stream": "stdout",
       "text": [
        "   10.000/20 after      1 sec. | K   10 | ev -5.579188081e+00 | Ndiff      0.000 \n"
       ]
      },
      {
       "output_type": "stream",
       "stream": "stdout",
       "text": [
        "MERGE 0/0 accepted. \n"
       ]
      },
      {
       "output_type": "stream",
       "stream": "stdout",
       "text": [
        "   11.000/20 after      1 sec. | K   10 | ev -5.579188081e+00 | Ndiff      0.000 \n"
       ]
      },
      {
       "output_type": "stream",
       "stream": "stdout",
       "text": [
        "MERGE 0/0 accepted. \n"
       ]
      },
      {
       "output_type": "stream",
       "stream": "stdout",
       "text": [
        "   12.000/20 after      1 sec. | K   10 | ev -5.579188081e+00 | Ndiff      0.000 \n"
       ]
      },
      {
       "output_type": "stream",
       "stream": "stdout",
       "text": [
        "MERGE 0/0 accepted. \n"
       ]
      },
      {
       "output_type": "stream",
       "stream": "stdout",
       "text": [
        "   13.000/20 after      1 sec. | K   10 | ev -5.579188081e+00 | Ndiff      0.000 \n"
       ]
      },
      {
       "output_type": "stream",
       "stream": "stdout",
       "text": [
        "MERGE 0/0 accepted. \n"
       ]
      },
      {
       "output_type": "stream",
       "stream": "stdout",
       "text": [
        "   14.000/20 after      2 sec. | K   10 | ev -5.579188081e+00 | Ndiff      0.000 \n"
       ]
      },
      {
       "output_type": "stream",
       "stream": "stdout",
       "text": [
        "MERGE 0/0 accepted. \n"
       ]
      },
      {
       "output_type": "stream",
       "stream": "stdout",
       "text": [
        "   15.000/20 after      2 sec. | K   10 | ev -5.579188081e+00 | Ndiff      0.000 \n"
       ]
      },
      {
       "output_type": "stream",
       "stream": "stdout",
       "text": [
        "MERGE 0/0 accepted. \n"
       ]
      },
      {
       "output_type": "stream",
       "stream": "stdout",
       "text": [
        "   16.000/20 after      2 sec. | K   10 | ev -5.579188081e+00 | Ndiff      0.000 \n"
       ]
      },
      {
       "output_type": "stream",
       "stream": "stdout",
       "text": [
        "MERGE 0/0 accepted. \n"
       ]
      },
      {
       "output_type": "stream",
       "stream": "stdout",
       "text": [
        "   17.000/20 after      2 sec. | K   10 | ev -5.579188081e+00 | Ndiff      0.000 \n"
       ]
      },
      {
       "output_type": "stream",
       "stream": "stdout",
       "text": [
        "MERGE 0/0 accepted. \n"
       ]
      },
      {
       "output_type": "stream",
       "stream": "stdout",
       "text": [
        "   18.000/20 after      2 sec. | K   10 | ev -5.579188081e+00 | Ndiff      0.000 \n"
       ]
      },
      {
       "output_type": "stream",
       "stream": "stdout",
       "text": [
        "MERGE 0/0 accepted. \n"
       ]
      },
      {
       "output_type": "stream",
       "stream": "stdout",
       "text": [
        "   19.000/20 after      2 sec. | K   10 | ev -5.579188081e+00 | Ndiff      0.000 \n"
       ]
      },
      {
       "output_type": "stream",
       "stream": "stdout",
       "text": [
        "... done. converged.\n"
       ]
      }
     ],
     "prompt_number": 44
    },
    {
     "cell_type": "markdown",
     "metadata": {},
     "source": [
      "## 4 initial clusters, repeated for 2 trials"
     ]
    },
    {
     "cell_type": "code",
     "collapsed": false,
     "input": [
      "hmodel, RInfo = bnpy.run(Data, 'DPMixtureModel', 'Mult', 'moVB',\n",
      "                         nLap=20, K=4, lam=0.1, moves='birth,merge', \n",
      "                         nTask=2, jobname='demobirthmerge-Kinit=4')"
     ],
     "language": "python",
     "metadata": {},
     "outputs": [
      {
       "output_type": "stream",
       "stream": "stdout",
       "text": [
        "Toy Bars Data with 10 true topics. Each doc uses ONE topic.\n"
       ]
      },
      {
       "output_type": "stream",
       "stream": "stdout",
       "text": [
        "Entire Dataset Summary:\n"
       ]
      },
      {
       "output_type": "stream",
       "stream": "stdout",
       "text": [
        "  total size: 1000 units\n",
        "  batch size: 100 units\n",
        "  num. batches: 10\n"
       ]
      },
      {
       "output_type": "stream",
       "stream": "stdout",
       "text": [
        "Data for Initialization:\n"
       ]
      },
      {
       "output_type": "stream",
       "stream": "stdout",
       "text": [
        "  size: 1000 units (documents)\n",
        "  vocab size: 900\n",
        "  min    5%   50%   95%   max \n",
        "   66    73    79    84    88  nUniqueTokensPerDoc\n",
        "  100   100   100   100   100  nTotalTokensPerDoc\n",
        "Hist of word_count across tokens \n",
        "      1      2      3    <10   <100  >=100\n",
        "   0.77   0.19   0.03    382      0      0\n",
        "Hist of unique docs per word type\n",
        "     <1    <10   <100  <0.20  <0.50 >=0.50\n",
        "      0      0   0.93   0.07      0      0\n"
       ]
      },
      {
       "output_type": "stream",
       "stream": "stdout",
       "text": [
        "Allocation Model:  DP mixture with K=4. Concentration gamma0= 1.00\n",
        "Obs. Data  Model:  Multinomial over finite vocabulary.\n",
        "Obs. Data  Prior:  Dirichlet over finite vocabulary \n",
        "  lam = [ 0.1  0.1] ...\n"
       ]
      },
      {
       "output_type": "stream",
       "stream": "stdout",
       "text": [
        "Learn Alg: moVB\n"
       ]
      },
      {
       "output_type": "stream",
       "stream": "stdout",
       "text": [
        "Trial  1/2 | alg. seed: 2497280 | data order seed: 8541952\n"
       ]
      },
      {
       "output_type": "stream",
       "stream": "stdout",
       "text": [
        "savepath: /results/MixBarsK10V900/demobirthmerge-Kinit=4/1\n"
       ]
      },
      {
       "output_type": "stream",
       "stream": "stdout",
       "text": [
        "    0.100/20 after      0 sec. | K    4 | ev -6.740510449e+00 |  \n"
       ]
      },
      {
       "output_type": "stream",
       "stream": "stdout",
       "text": [
        "    0.200/20 after      0 sec. | K    4 | ev -6.571153609e+00 |  \n"
       ]
      },
      {
       "output_type": "stream",
       "stream": "stdout",
       "text": [
        "    0.300/20 after      0 sec. | K    4 | ev -6.492200573e+00 |  \n"
       ]
      },
      {
       "output_type": "stream",
       "stream": "stdout",
       "text": [
        "    1.000/20 after      0 sec. | K    4 | ev -6.312338396e+00 |  \n"
       ]
      },
      {
       "output_type": "stream",
       "stream": "stdout",
       "text": [
        "BIRTH ACCEPTED. 4 fresh comps.\n"
       ]
      },
      {
       "output_type": "stream",
       "stream": "stdout",
       "text": [
        "MERGE 0/0 accepted. \n"
       ]
      },
      {
       "output_type": "stream",
       "stream": "stdout",
       "text": [
        "    2.000/20 after      0 sec. | K    8 | ev -5.896559293e+00 | Ndiff     48.000 \n"
       ]
      },
      {
       "output_type": "stream",
       "stream": "stdout",
       "text": [
        "MERGE 1/1 accepted. ev increased  1.0139e-03\n"
       ]
      },
      {
       "output_type": "stream",
       "stream": "stdout",
       "text": [
        "    3.000/20 after      0 sec. | K    7 | ev -5.895542786e+00 | Ndiff      0.000 \n"
       ]
      },
      {
       "output_type": "stream",
       "stream": "stdout",
       "text": [
        "BIRTH ACCEPTED. 3 fresh comps.\n"
       ]
      },
      {
       "output_type": "stream",
       "stream": "stdout",
       "text": [
        "MERGE 0/0 accepted. \n"
       ]
      },
      {
       "output_type": "stream",
       "stream": "stdout",
       "text": [
        "    4.000/20 after      0 sec. | K   10 | ev -5.670595821e+00 | Ndiff     62.000 \n"
       ]
      },
      {
       "output_type": "stream",
       "stream": "stdout",
       "text": [
        "MERGE 1/1 accepted. ev increased  2.9988e-03\n"
       ]
      },
      {
       "output_type": "stream",
       "stream": "stdout",
       "text": [
        "    5.000/20 after      1 sec. | K    9 | ev -5.667199827e+00 | Ndiff      0.000 \n"
       ]
      },
      {
       "output_type": "stream",
       "stream": "stdout",
       "text": [
        "BIRTH ACCEPTED. 2 fresh comps.\n"
       ]
      },
      {
       "output_type": "stream",
       "stream": "stdout",
       "text": [
        "MERGE 0/0 accepted. \n"
       ]
      },
      {
       "output_type": "stream",
       "stream": "stdout",
       "text": [
        "    6.000/20 after      1 sec. | K   11 | ev -5.579252348e+00 | Ndiff     88.000 \n"
       ]
      },
      {
       "output_type": "stream",
       "stream": "stdout",
       "text": [
        "MERGE 1/1 accepted. ev increased  6.5468e-05\n"
       ]
      },
      {
       "output_type": "stream",
       "stream": "stdout",
       "text": [
        "    7.000/20 after      1 sec. | K   10 | ev -5.579186880e+00 | Ndiff      0.000 \n"
       ]
      },
      {
       "output_type": "stream",
       "stream": "stdout",
       "text": [
        "MERGE 0/0 accepted. \n"
       ]
      },
      {
       "output_type": "stream",
       "stream": "stdout",
       "text": [
        "    8.000/20 after      1 sec. | K   10 | ev -5.579186880e+00 | Ndiff      0.000 \n"
       ]
      },
      {
       "output_type": "stream",
       "stream": "stdout",
       "text": [
        "MERGE 0/0 accepted. \n"
       ]
      },
      {
       "output_type": "stream",
       "stream": "stdout",
       "text": [
        "    9.000/20 after      1 sec. | K   10 | ev -5.579186880e+00 | Ndiff      0.000 \n"
       ]
      },
      {
       "output_type": "stream",
       "stream": "stdout",
       "text": [
        "MERGE 0/0 accepted. \n"
       ]
      },
      {
       "output_type": "stream",
       "stream": "stdout",
       "text": [
        "   10.000/20 after      1 sec. | K   10 | ev -5.579186880e+00 | Ndiff      0.000 \n"
       ]
      },
      {
       "output_type": "stream",
       "stream": "stdout",
       "text": [
        "MERGE 0/0 accepted. \n"
       ]
      },
      {
       "output_type": "stream",
       "stream": "stdout",
       "text": [
        "   11.000/20 after      1 sec. | K   10 | ev -5.579186880e+00 | Ndiff      0.000 \n"
       ]
      },
      {
       "output_type": "stream",
       "stream": "stdout",
       "text": [
        "MERGE 0/0 accepted. \n"
       ]
      },
      {
       "output_type": "stream",
       "stream": "stdout",
       "text": [
        "   12.000/20 after      1 sec. | K   10 | ev -5.579186880e+00 | Ndiff      0.000 \n"
       ]
      },
      {
       "output_type": "stream",
       "stream": "stdout",
       "text": [
        "MERGE 0/0 accepted. \n"
       ]
      },
      {
       "output_type": "stream",
       "stream": "stdout",
       "text": [
        "   13.000/20 after      1 sec. | K   10 | ev -5.579186880e+00 | Ndiff      0.000 \n"
       ]
      },
      {
       "output_type": "stream",
       "stream": "stdout",
       "text": [
        "MERGE 0/0 accepted. \n"
       ]
      },
      {
       "output_type": "stream",
       "stream": "stdout",
       "text": [
        "   14.000/20 after      1 sec. | K   10 | ev -5.579186880e+00 | Ndiff      0.000 \n"
       ]
      },
      {
       "output_type": "stream",
       "stream": "stdout",
       "text": [
        "MERGE 0/0 accepted. \n"
       ]
      },
      {
       "output_type": "stream",
       "stream": "stdout",
       "text": [
        "   15.000/20 after      2 sec. | K   10 | ev -5.579186880e+00 | Ndiff      0.000 \n"
       ]
      },
      {
       "output_type": "stream",
       "stream": "stdout",
       "text": [
        "MERGE 0/0 accepted. \n"
       ]
      },
      {
       "output_type": "stream",
       "stream": "stdout",
       "text": [
        "   16.000/20 after      2 sec. | K   10 | ev -5.579186880e+00 | Ndiff      0.000 \n"
       ]
      },
      {
       "output_type": "stream",
       "stream": "stdout",
       "text": [
        "MERGE 0/0 accepted. \n"
       ]
      },
      {
       "output_type": "stream",
       "stream": "stdout",
       "text": [
        "   17.000/20 after      2 sec. | K   10 | ev -5.579186880e+00 | Ndiff      0.000 \n"
       ]
      },
      {
       "output_type": "stream",
       "stream": "stdout",
       "text": [
        "MERGE 0/0 accepted. \n"
       ]
      },
      {
       "output_type": "stream",
       "stream": "stdout",
       "text": [
        "   18.000/20 after      2 sec. | K   10 | ev -5.579186880e+00 | Ndiff      0.000 \n"
       ]
      },
      {
       "output_type": "stream",
       "stream": "stdout",
       "text": [
        "MERGE 0/0 accepted. \n"
       ]
      },
      {
       "output_type": "stream",
       "stream": "stdout",
       "text": [
        "   19.000/20 after      2 sec. | K   10 | ev -5.579186880e+00 | Ndiff      0.000 \n"
       ]
      },
      {
       "output_type": "stream",
       "stream": "stdout",
       "text": [
        "... done. converged.\n"
       ]
      },
      {
       "output_type": "stream",
       "stream": "stdout",
       "text": [
        "Trial  2/2 | alg. seed: 1128064 | data order seed: 7673856\n"
       ]
      },
      {
       "output_type": "stream",
       "stream": "stdout",
       "text": [
        "savepath: /results/MixBarsK10V900/demobirthmerge-Kinit=4/2\n"
       ]
      },
      {
       "output_type": "stream",
       "stream": "stdout",
       "text": [
        "    0.100/20 after      0 sec. | K    4 | ev -6.731800712e+00 |  \n"
       ]
      },
      {
       "output_type": "stream",
       "stream": "stdout",
       "text": [
        "    0.200/20 after      0 sec. | K    4 | ev -6.518718345e+00 |  \n"
       ]
      },
      {
       "output_type": "stream",
       "stream": "stdout",
       "text": [
        "    0.300/20 after      0 sec. | K    4 | ev -6.427244547e+00 |  \n"
       ]
      },
      {
       "output_type": "stream",
       "stream": "stdout",
       "text": [
        "    1.000/20 after      0 sec. | K    4 | ev -6.252611666e+00 |  \n"
       ]
      },
      {
       "output_type": "stream",
       "stream": "stdout",
       "text": [
        "BIRTH ACCEPTED. 3 fresh comps.\n"
       ]
      },
      {
       "output_type": "stream",
       "stream": "stdout",
       "text": [
        "MERGE 0/0 accepted. \n"
       ]
      },
      {
       "output_type": "stream",
       "stream": "stdout",
       "text": [
        "    2.000/20 after      0 sec. | K    7 | ev -5.987733905e+00 | Ndiff     61.000 \n"
       ]
      },
      {
       "output_type": "stream",
       "stream": "stdout",
       "text": [
        "BIRTH ACCEPTED. 3 fresh comps.\n"
       ]
      },
      {
       "output_type": "stream",
       "stream": "stdout",
       "text": [
        "MERGE 0/0 accepted. \n"
       ]
      },
      {
       "output_type": "stream",
       "stream": "stdout",
       "text": [
        "    3.000/20 after      0 sec. | K   10 | ev -5.762998351e+00 | Ndiff     61.000 \n"
       ]
      },
      {
       "output_type": "stream",
       "stream": "stdout",
       "text": [
        "MERGE 2/2 accepted. ev increased  2.0063e-03\n"
       ]
      },
      {
       "output_type": "stream",
       "stream": "stdout",
       "text": [
        "    4.000/20 after      0 sec. | K    8 | ev -5.760988104e+00 | Ndiff      0.000 \n"
       ]
      },
      {
       "output_type": "stream",
       "stream": "stdout",
       "text": [
        "BIRTH ACCEPTED. 2 fresh comps.\n"
       ]
      },
      {
       "output_type": "stream",
       "stream": "stdout",
       "text": [
        "MERGE 0/0 accepted. \n"
       ]
      },
      {
       "output_type": "stream",
       "stream": "stdout",
       "text": [
        "    5.000/20 after      1 sec. | K   10 | ev -5.667997831e+00 | Ndiff     88.000 \n"
       ]
      },
      {
       "output_type": "stream",
       "stream": "stdout",
       "text": [
        "MERGE 1/1 accepted. ev increased  7.2433e-04\n"
       ]
      },
      {
       "output_type": "stream",
       "stream": "stdout",
       "text": [
        "    6.000/20 after      1 sec. | K    9 | ev -5.667010822e+00 | Ndiff      0.000 \n"
       ]
      },
      {
       "output_type": "stream",
       "stream": "stdout",
       "text": [
        "BIRTH ACCEPTED. 2 fresh comps.\n"
       ]
      },
      {
       "output_type": "stream",
       "stream": "stdout",
       "text": [
        "MERGE 0/0 accepted. \n"
       ]
      },
      {
       "output_type": "stream",
       "stream": "stdout",
       "text": [
        "    7.000/20 after      1 sec. | K   11 | ev -5.579250413e+00 | Ndiff     87.000 \n"
       ]
      },
      {
       "output_type": "stream",
       "stream": "stdout",
       "text": [
        "MERGE 1/1 accepted. ev increased  6.5294e-05\n"
       ]
      },
      {
       "output_type": "stream",
       "stream": "stdout",
       "text": [
        "    8.000/20 after      1 sec. | K   10 | ev -5.579185119e+00 | Ndiff      0.000 \n"
       ]
      },
      {
       "output_type": "stream",
       "stream": "stdout",
       "text": [
        "MERGE 0/0 accepted. \n"
       ]
      },
      {
       "output_type": "stream",
       "stream": "stdout",
       "text": [
        "    9.000/20 after      1 sec. | K   10 | ev -5.579185119e+00 | Ndiff      0.000 \n"
       ]
      },
      {
       "output_type": "stream",
       "stream": "stdout",
       "text": [
        "MERGE 0/0 accepted. \n"
       ]
      },
      {
       "output_type": "stream",
       "stream": "stdout",
       "text": [
        "   10.000/20 after      1 sec. | K   10 | ev -5.579185119e+00 | Ndiff      0.000 \n"
       ]
      },
      {
       "output_type": "stream",
       "stream": "stdout",
       "text": [
        "MERGE 0/0 accepted. \n"
       ]
      },
      {
       "output_type": "stream",
       "stream": "stdout",
       "text": [
        "   11.000/20 after      1 sec. | K   10 | ev -5.579185119e+00 | Ndiff      0.000 \n"
       ]
      },
      {
       "output_type": "stream",
       "stream": "stdout",
       "text": [
        "MERGE 0/0 accepted. \n"
       ]
      },
      {
       "output_type": "stream",
       "stream": "stdout",
       "text": [
        "   12.000/20 after      1 sec. | K   10 | ev -5.579185119e+00 | Ndiff      0.000 \n"
       ]
      },
      {
       "output_type": "stream",
       "stream": "stdout",
       "text": [
        "MERGE 0/0 accepted. \n"
       ]
      },
      {
       "output_type": "stream",
       "stream": "stdout",
       "text": [
        "   13.000/20 after      1 sec. | K   10 | ev -5.579185119e+00 | Ndiff      0.000 \n"
       ]
      },
      {
       "output_type": "stream",
       "stream": "stdout",
       "text": [
        "MERGE 0/0 accepted. \n"
       ]
      },
      {
       "output_type": "stream",
       "stream": "stdout",
       "text": [
        "   14.000/20 after      2 sec. | K   10 | ev -5.579185119e+00 | Ndiff      0.000 \n"
       ]
      },
      {
       "output_type": "stream",
       "stream": "stdout",
       "text": [
        "MERGE 0/0 accepted. \n"
       ]
      },
      {
       "output_type": "stream",
       "stream": "stdout",
       "text": [
        "   15.000/20 after      2 sec. | K   10 | ev -5.579185119e+00 | Ndiff      0.000 \n"
       ]
      },
      {
       "output_type": "stream",
       "stream": "stdout",
       "text": [
        "MERGE 0/0 accepted. \n"
       ]
      },
      {
       "output_type": "stream",
       "stream": "stdout",
       "text": [
        "   16.000/20 after      2 sec. | K   10 | ev -5.579185119e+00 | Ndiff      0.000 \n"
       ]
      },
      {
       "output_type": "stream",
       "stream": "stdout",
       "text": [
        "MERGE 0/0 accepted. \n"
       ]
      },
      {
       "output_type": "stream",
       "stream": "stdout",
       "text": [
        "   17.000/20 after      2 sec. | K   10 | ev -5.579185119e+00 | Ndiff      0.000 \n"
       ]
      },
      {
       "output_type": "stream",
       "stream": "stdout",
       "text": [
        "MERGE 0/0 accepted. \n"
       ]
      },
      {
       "output_type": "stream",
       "stream": "stdout",
       "text": [
        "   18.000/20 after      2 sec. | K   10 | ev -5.579185119e+00 | Ndiff      0.000 \n"
       ]
      },
      {
       "output_type": "stream",
       "stream": "stdout",
       "text": [
        "MERGE 0/0 accepted. \n"
       ]
      },
      {
       "output_type": "stream",
       "stream": "stdout",
       "text": [
        "   19.000/20 after      2 sec. | K   10 | ev -5.579185119e+00 | Ndiff      0.000 \n"
       ]
      },
      {
       "output_type": "stream",
       "stream": "stdout",
       "text": [
        "... done. converged.\n"
       ]
      }
     ],
     "prompt_number": 45
    },
    {
     "cell_type": "markdown",
     "metadata": {},
     "source": [
      "## 16 initial clusters, repeated for 2 trials"
     ]
    },
    {
     "cell_type": "code",
     "collapsed": false,
     "input": [
      "hmodel, RInfo = bnpy.run(Data, 'DPMixtureModel', 'Mult', 'moVB',\n",
      "                         nLap=20, K=16, lam=0.1, moves='birth,merge', \n",
      "                         nTask=2, jobname='demobirthmerge-Kinit=16')"
     ],
     "language": "python",
     "metadata": {},
     "outputs": [
      {
       "output_type": "stream",
       "stream": "stdout",
       "text": [
        "Toy Bars Data with 10 true topics. Each doc uses ONE topic.\n"
       ]
      },
      {
       "output_type": "stream",
       "stream": "stdout",
       "text": [
        "Entire Dataset Summary:\n"
       ]
      },
      {
       "output_type": "stream",
       "stream": "stdout",
       "text": [
        "  total size: 1000 units\n",
        "  batch size: 100 units\n",
        "  num. batches: 10\n"
       ]
      },
      {
       "output_type": "stream",
       "stream": "stdout",
       "text": [
        "Data for Initialization:\n"
       ]
      },
      {
       "output_type": "stream",
       "stream": "stdout",
       "text": [
        "  size: 1000 units (documents)\n",
        "  vocab size: 900\n",
        "  min    5%   50%   95%   max \n",
        "   66    73    79    84    88  nUniqueTokensPerDoc\n",
        "  100   100   100   100   100  nTotalTokensPerDoc\n",
        "Hist of word_count across tokens \n",
        "      1      2      3    <10   <100  >=100\n",
        "   0.77   0.19   0.03    382      0      0\n",
        "Hist of unique docs per word type\n",
        "     <1    <10   <100  <0.20  <0.50 >=0.50\n",
        "      0      0   0.93   0.07      0      0\n"
       ]
      },
      {
       "output_type": "stream",
       "stream": "stdout",
       "text": [
        "Allocation Model:  DP mixture with K=16. Concentration gamma0= 1.00\n",
        "Obs. Data  Model:  Multinomial over finite vocabulary.\n",
        "Obs. Data  Prior:  Dirichlet over finite vocabulary \n",
        "  lam = [ 0.1  0.1] ...\n"
       ]
      },
      {
       "output_type": "stream",
       "stream": "stdout",
       "text": [
        "Learn Alg: moVB\n"
       ]
      },
      {
       "output_type": "stream",
       "stream": "stdout",
       "text": [
        "Trial  1/2 | alg. seed: 2497280 | data order seed: 8541952\n"
       ]
      },
      {
       "output_type": "stream",
       "stream": "stdout",
       "text": [
        "savepath: /results/MixBarsK10V900/demobirthmerge-Kinit=16/1\n"
       ]
      },
      {
       "output_type": "stream",
       "stream": "stdout",
       "text": [
        "    0.100/20 after      0 sec. | K   16 | ev -6.419219019e+00 |  \n"
       ]
      },
      {
       "output_type": "stream",
       "stream": "stdout",
       "text": [
        "    0.200/20 after      0 sec. | K   16 | ev -6.094286752e+00 |  \n"
       ]
      },
      {
       "output_type": "stream",
       "stream": "stdout",
       "text": [
        "    0.300/20 after      0 sec. | K   16 | ev -5.940957526e+00 |  \n"
       ]
      },
      {
       "output_type": "stream",
       "stream": "stdout",
       "text": [
        "    1.000/20 after      0 sec. | K   16 | ev -5.664293326e+00 |  \n"
       ]
      },
      {
       "output_type": "stream",
       "stream": "stdout",
       "text": [
        "MERGE 5/5 accepted. ev increased  1.2310e-02\n"
       ]
      },
      {
       "output_type": "stream",
       "stream": "stdout",
       "text": [
        "    2.000/20 after      0 sec. | K   11 | ev -5.581792852e+00 | Ndiff      0.000 \n"
       ]
      },
      {
       "output_type": "stream",
       "stream": "stdout",
       "text": [
        "MERGE 1/1 accepted. ev increased  1.6549e-03\n"
       ]
      },
      {
       "output_type": "stream",
       "stream": "stdout",
       "text": [
        "    3.000/20 after      0 sec. | K   10 | ev -5.579189293e+00 | Ndiff      0.000 \n"
       ]
      },
      {
       "output_type": "stream",
       "stream": "stdout",
       "text": [
        "MERGE 0/0 accepted. \n"
       ]
      },
      {
       "output_type": "stream",
       "stream": "stdout",
       "text": [
        "    4.000/20 after      1 sec. | K   10 | ev -5.579189293e+00 | Ndiff      0.000 \n"
       ]
      },
      {
       "output_type": "stream",
       "stream": "stdout",
       "text": [
        "MERGE 0/0 accepted. \n"
       ]
      },
      {
       "output_type": "stream",
       "stream": "stdout",
       "text": [
        "    5.000/20 after      1 sec. | K   10 | ev -5.579189293e+00 | Ndiff      0.000 \n"
       ]
      },
      {
       "output_type": "stream",
       "stream": "stdout",
       "text": [
        "MERGE 0/0 accepted. \n"
       ]
      },
      {
       "output_type": "stream",
       "stream": "stdout",
       "text": [
        "    6.000/20 after      1 sec. | K   10 | ev -5.579189293e+00 | Ndiff      0.000 \n"
       ]
      },
      {
       "output_type": "stream",
       "stream": "stdout",
       "text": [
        "MERGE 0/0 accepted. \n"
       ]
      },
      {
       "output_type": "stream",
       "stream": "stdout",
       "text": [
        "    7.000/20 after      1 sec. | K   10 | ev -5.579189293e+00 | Ndiff      0.000 \n"
       ]
      },
      {
       "output_type": "stream",
       "stream": "stdout",
       "text": [
        "MERGE 0/0 accepted. \n"
       ]
      },
      {
       "output_type": "stream",
       "stream": "stdout",
       "text": [
        "    8.000/20 after      1 sec. | K   10 | ev -5.579189293e+00 | Ndiff      0.000 \n"
       ]
      },
      {
       "output_type": "stream",
       "stream": "stdout",
       "text": [
        "MERGE 0/0 accepted. \n"
       ]
      },
      {
       "output_type": "stream",
       "stream": "stdout",
       "text": [
        "    9.000/20 after      1 sec. | K   10 | ev -5.579189293e+00 | Ndiff      0.000 \n"
       ]
      },
      {
       "output_type": "stream",
       "stream": "stdout",
       "text": [
        "MERGE 0/0 accepted. \n"
       ]
      },
      {
       "output_type": "stream",
       "stream": "stdout",
       "text": [
        "   10.000/20 after      1 sec. | K   10 | ev -5.579189293e+00 | Ndiff      0.000 \n"
       ]
      },
      {
       "output_type": "stream",
       "stream": "stdout",
       "text": [
        "MERGE 0/0 accepted. \n"
       ]
      },
      {
       "output_type": "stream",
       "stream": "stdout",
       "text": [
        "   11.000/20 after      1 sec. | K   10 | ev -5.579189293e+00 | Ndiff      0.000 \n"
       ]
      },
      {
       "output_type": "stream",
       "stream": "stdout",
       "text": [
        "MERGE 0/0 accepted. \n"
       ]
      },
      {
       "output_type": "stream",
       "stream": "stdout",
       "text": [
        "   12.000/20 after      1 sec. | K   10 | ev -5.579189293e+00 | Ndiff      0.000 \n"
       ]
      },
      {
       "output_type": "stream",
       "stream": "stdout",
       "text": [
        "MERGE 0/0 accepted. \n"
       ]
      },
      {
       "output_type": "stream",
       "stream": "stdout",
       "text": [
        "   13.000/20 after      1 sec. | K   10 | ev -5.579189293e+00 | Ndiff      0.000 \n"
       ]
      },
      {
       "output_type": "stream",
       "stream": "stdout",
       "text": [
        "MERGE 0/0 accepted. \n"
       ]
      },
      {
       "output_type": "stream",
       "stream": "stdout",
       "text": [
        "   14.000/20 after      2 sec. | K   10 | ev -5.579189293e+00 | Ndiff      0.000 \n"
       ]
      },
      {
       "output_type": "stream",
       "stream": "stdout",
       "text": [
        "MERGE 0/0 accepted. \n"
       ]
      },
      {
       "output_type": "stream",
       "stream": "stdout",
       "text": [
        "   15.000/20 after      2 sec. | K   10 | ev -5.579189293e+00 | Ndiff      0.000 \n"
       ]
      },
      {
       "output_type": "stream",
       "stream": "stdout",
       "text": [
        "MERGE 0/0 accepted. \n"
       ]
      },
      {
       "output_type": "stream",
       "stream": "stdout",
       "text": [
        "   16.000/20 after      2 sec. | K   10 | ev -5.579189293e+00 | Ndiff      0.000 \n"
       ]
      },
      {
       "output_type": "stream",
       "stream": "stdout",
       "text": [
        "MERGE 0/0 accepted. \n"
       ]
      },
      {
       "output_type": "stream",
       "stream": "stdout",
       "text": [
        "   17.000/20 after      2 sec. | K   10 | ev -5.579189293e+00 | Ndiff      0.000 \n"
       ]
      },
      {
       "output_type": "stream",
       "stream": "stdout",
       "text": [
        "MERGE 0/0 accepted. \n"
       ]
      },
      {
       "output_type": "stream",
       "stream": "stdout",
       "text": [
        "   18.000/20 after      2 sec. | K   10 | ev -5.579189293e+00 | Ndiff      0.000 \n"
       ]
      },
      {
       "output_type": "stream",
       "stream": "stdout",
       "text": [
        "MERGE 0/0 accepted. \n"
       ]
      },
      {
       "output_type": "stream",
       "stream": "stdout",
       "text": [
        "   19.000/20 after      2 sec. | K   10 | ev -5.579189293e+00 | Ndiff      0.000 \n"
       ]
      },
      {
       "output_type": "stream",
       "stream": "stdout",
       "text": [
        "... done. converged.\n"
       ]
      },
      {
       "output_type": "stream",
       "stream": "stdout",
       "text": [
        "Trial  2/2 | alg. seed: 1128064 | data order seed: 7673856\n"
       ]
      },
      {
       "output_type": "stream",
       "stream": "stdout",
       "text": [
        "savepath: /results/MixBarsK10V900/demobirthmerge-Kinit=16/2\n"
       ]
      },
      {
       "output_type": "stream",
       "stream": "stdout",
       "text": [
        "    0.100/20 after      0 sec. | K   16 | ev -6.372100577e+00 |  \n"
       ]
      },
      {
       "output_type": "stream",
       "stream": "stdout",
       "text": [
        "    0.200/20 after      0 sec. | K   16 | ev -6.068842570e+00 |  \n"
       ]
      },
      {
       "output_type": "stream",
       "stream": "stdout",
       "text": [
        "    0.300/20 after      0 sec. | K   16 | ev -5.930562281e+00 |  \n"
       ]
      },
      {
       "output_type": "stream",
       "stream": "stdout",
       "text": [
        "    1.000/20 after      0 sec. | K   16 | ev -5.719622612e+00 |  \n"
       ]
      },
      {
       "output_type": "stream",
       "stream": "stdout",
       "text": [
        "MERGE 6/6 accepted. ev increased  1.6625e-02\n"
       ]
      },
      {
       "output_type": "stream",
       "stream": "stdout",
       "text": [
        "    2.000/20 after      0 sec. | K   10 | ev -5.675899603e+00 | Ndiff      0.000 \n"
       ]
      },
      {
       "output_type": "stream",
       "stream": "stdout",
       "text": [
        "BIRTH ACCEPTED. 2 fresh comps.\n"
       ]
      },
      {
       "output_type": "stream",
       "stream": "stdout",
       "text": [
        "MERGE 1/1 accepted. ev increased  2.0633e-03\n"
       ]
      },
      {
       "output_type": "stream",
       "stream": "stdout",
       "text": [
        "    3.000/20 after      1 sec. | K   11 | ev -5.579254286e+00 | Ndiff     21.000 \n"
       ]
      },
      {
       "output_type": "stream",
       "stream": "stdout",
       "text": [
        "MERGE 1/1 accepted. ev increased  6.6657e-05\n"
       ]
      },
      {
       "output_type": "stream",
       "stream": "stdout",
       "text": [
        "    4.000/20 after      1 sec. | K   10 | ev -5.579187626e+00 | Ndiff      0.000 \n"
       ]
      },
      {
       "output_type": "stream",
       "stream": "stdout",
       "text": [
        "MERGE 0/0 accepted. \n"
       ]
      },
      {
       "output_type": "stream",
       "stream": "stdout",
       "text": [
        "    5.000/20 after      1 sec. | K   10 | ev -5.579187626e+00 | Ndiff      0.000 \n"
       ]
      },
      {
       "output_type": "stream",
       "stream": "stdout",
       "text": [
        "MERGE 0/0 accepted. \n"
       ]
      },
      {
       "output_type": "stream",
       "stream": "stdout",
       "text": [
        "    6.000/20 after      1 sec. | K   10 | ev -5.579187626e+00 | Ndiff      0.000 \n"
       ]
      },
      {
       "output_type": "stream",
       "stream": "stdout",
       "text": [
        "MERGE 0/0 accepted. \n"
       ]
      },
      {
       "output_type": "stream",
       "stream": "stdout",
       "text": [
        "    7.000/20 after      1 sec. | K   10 | ev -5.579187626e+00 | Ndiff      0.000 \n"
       ]
      },
      {
       "output_type": "stream",
       "stream": "stdout",
       "text": [
        "MERGE 0/0 accepted. \n"
       ]
      },
      {
       "output_type": "stream",
       "stream": "stdout",
       "text": [
        "    8.000/20 after      1 sec. | K   10 | ev -5.579187626e+00 | Ndiff      0.000 \n"
       ]
      },
      {
       "output_type": "stream",
       "stream": "stdout",
       "text": [
        "MERGE 0/0 accepted. \n"
       ]
      },
      {
       "output_type": "stream",
       "stream": "stdout",
       "text": [
        "    9.000/20 after      1 sec. | K   10 | ev -5.579187626e+00 | Ndiff      0.000 \n"
       ]
      },
      {
       "output_type": "stream",
       "stream": "stdout",
       "text": [
        "MERGE 0/0 accepted. \n"
       ]
      },
      {
       "output_type": "stream",
       "stream": "stdout",
       "text": [
        "   10.000/20 after      1 sec. | K   10 | ev -5.579187626e+00 | Ndiff      0.000 \n"
       ]
      },
      {
       "output_type": "stream",
       "stream": "stdout",
       "text": [
        "MERGE 0/0 accepted. \n"
       ]
      },
      {
       "output_type": "stream",
       "stream": "stdout",
       "text": [
        "   11.000/20 after      1 sec. | K   10 | ev -5.579187626e+00 | Ndiff      0.000 \n"
       ]
      },
      {
       "output_type": "stream",
       "stream": "stdout",
       "text": [
        "MERGE 0/0 accepted. \n"
       ]
      },
      {
       "output_type": "stream",
       "stream": "stdout",
       "text": [
        "   12.000/20 after      1 sec. | K   10 | ev -5.579187626e+00 | Ndiff      0.000 \n"
       ]
      },
      {
       "output_type": "stream",
       "stream": "stdout",
       "text": [
        "MERGE 0/0 accepted. \n"
       ]
      },
      {
       "output_type": "stream",
       "stream": "stdout",
       "text": [
        "   13.000/20 after      2 sec. | K   10 | ev -5.579187626e+00 | Ndiff      0.000 \n"
       ]
      },
      {
       "output_type": "stream",
       "stream": "stdout",
       "text": [
        "MERGE 0/0 accepted. \n"
       ]
      },
      {
       "output_type": "stream",
       "stream": "stdout",
       "text": [
        "   14.000/20 after      2 sec. | K   10 | ev -5.579187626e+00 | Ndiff      0.000 \n"
       ]
      },
      {
       "output_type": "stream",
       "stream": "stdout",
       "text": [
        "MERGE 0/0 accepted. \n"
       ]
      },
      {
       "output_type": "stream",
       "stream": "stdout",
       "text": [
        "   15.000/20 after      2 sec. | K   10 | ev -5.579187626e+00 | Ndiff      0.000 \n"
       ]
      },
      {
       "output_type": "stream",
       "stream": "stdout",
       "text": [
        "MERGE 0/0 accepted. \n"
       ]
      },
      {
       "output_type": "stream",
       "stream": "stdout",
       "text": [
        "   16.000/20 after      2 sec. | K   10 | ev -5.579187626e+00 | Ndiff      0.000 \n"
       ]
      },
      {
       "output_type": "stream",
       "stream": "stdout",
       "text": [
        "MERGE 0/0 accepted. \n"
       ]
      },
      {
       "output_type": "stream",
       "stream": "stdout",
       "text": [
        "   17.000/20 after      2 sec. | K   10 | ev -5.579187626e+00 | Ndiff      0.000 \n"
       ]
      },
      {
       "output_type": "stream",
       "stream": "stdout",
       "text": [
        "MERGE 0/0 accepted. \n"
       ]
      },
      {
       "output_type": "stream",
       "stream": "stdout",
       "text": [
        "   18.000/20 after      2 sec. | K   10 | ev -5.579187626e+00 | Ndiff      0.000 \n"
       ]
      },
      {
       "output_type": "stream",
       "stream": "stdout",
       "text": [
        "MERGE 0/0 accepted. \n"
       ]
      },
      {
       "output_type": "stream",
       "stream": "stdout",
       "text": [
        "   19.000/20 after      2 sec. | K   10 | ev -5.579187626e+00 | Ndiff      0.000 \n"
       ]
      },
      {
       "output_type": "stream",
       "stream": "stdout",
       "text": [
        "... done. converged.\n"
       ]
      }
     ],
     "prompt_number": 46
    },
    {
     "cell_type": "markdown",
     "metadata": {},
     "source": [
      "# Frequently asked questions"
     ]
    },
    {
     "cell_type": "markdown",
     "metadata": {},
     "source": [
      "## How do I plot the objective function over time?\n",
      "\n",
      "Here, we plot the log evidence (sometimes called the evidence lower bound or ELBO). Here, larger objective scores indicate better model quality."
     ]
    },
    {
     "cell_type": "code",
     "collapsed": false,
     "input": [
      "from matplotlib import pylab\n",
      "%pylab inline\n",
      "\n",
      "bnpy.viz.PlotELBO.plotJobsThatMatchKeywords('MixBarsK10V900/demobirthmerge-*');\n",
      "pylab.legend(loc='lower right');"
     ],
     "language": "python",
     "metadata": {},
     "outputs": [
      {
       "output_type": "stream",
       "stream": "stdout",
       "text": [
        "Populating the interactive namespace from numpy and matplotlib\n"
       ]
      },
      {
       "metadata": {},
       "output_type": "display_data",
       "png": "[encoded data removed]",
       "text": [
        "<matplotlib.figure.Figure at 0xb009e70>"
       ]
      }
     ],
     "prompt_number": 47
    },
    {
     "cell_type": "markdown",
     "metadata": {},
     "source": [
      "**Conclusion:** All the different initial conditions quickly converge to similar scores of high quality."
     ]
    },
    {
     "cell_type": "markdown",
     "metadata": {},
     "source": [
      "## How do I plot the number of clusters over time?"
     ]
    },
    {
     "cell_type": "code",
     "collapsed": false,
     "input": [
      "bnpy.viz.PlotELBO.plotJobsThatMatchKeywords('MixBarsK10V900/demobirthmerge-*', yvar='K');"
     ],
     "language": "python",
     "metadata": {},
     "outputs": [
      {
       "metadata": {},
       "output_type": "display_data",
       "png": "[encoded data removed]",
       "text": [
        "<matplotlib.figure.Figure at 0xa68b450>"
       ]
      }
     ],
     "prompt_number": 48
    },
    {
     "cell_type": "markdown",
     "metadata": {},
     "source": [
      "** Conclusion:** Across very different initial conditions, we consistently reach exactly 8 learned clusters."
     ]
    },
    {
     "cell_type": "markdown",
     "metadata": {},
     "source": [
      "## How do I plot the final learned clusters?"
     ]
    },
    {
     "cell_type": "code",
     "collapsed": false,
     "input": [
      "bnpy.viz.PlotComps.plotCompsForTask('MixBarsK10V900/demobirthmerge-Kinit=16/1/', **imshowArgs)"
     ],
     "language": "python",
     "metadata": {},
     "outputs": [
      {
       "metadata": {},
       "output_type": "display_data",
       "png": "[encoded data removed]",
       "text": [
        "<matplotlib.figure.Figure at 0xb200950>"
       ]
      }
     ],
     "prompt_number": 49
    },
    {
     "cell_type": "markdown",
     "metadata": {},
     "source": [
      "** Conclusion:** This run discovers the 10 ideal bars topics."
     ]
    },
    {
     "cell_type": "markdown",
     "metadata": {},
     "source": [
      "## How do I plot the initial clusters?\n"
     ]
    },
    {
     "cell_type": "code",
     "collapsed": false,
     "input": [
      "bnpy.viz.PlotComps.plotCompsForTask('MixBarsK10V900/demobirthmerge-Kinit=16/1/', lap=0, **imshowArgs)"
     ],
     "language": "python",
     "metadata": {},
     "outputs": [
      {
       "metadata": {},
       "output_type": "display_data",
       "png": "[encoded data removed]",
       "text": [
        "<matplotlib.figure.Figure at 0xc384030>"
       ]
      }
     ],
     "prompt_number": 50
    },
    {
     "cell_type": "markdown",
     "metadata": {},
     "source": [
      "## How do I plot the clusters after 2 passes through the data?"
     ]
    },
    {
     "cell_type": "code",
     "collapsed": false,
     "input": [
      "bnpy.viz.PlotComps.plotCompsForTask('MixBarsK10V900/demobirthmerge-Kinit=16/1/', lap=2, **imshowArgs)"
     ],
     "language": "python",
     "metadata": {},
     "outputs": [
      {
       "metadata": {},
       "output_type": "display_data",
       "png": "[encoded data removed]",
       "text": [
        "<matplotlib.figure.Figure at 0xd198c70>"
       ]
      }
     ],
     "prompt_number": 51
    }
   ],
   "metadata": {}
  }
 ]
}
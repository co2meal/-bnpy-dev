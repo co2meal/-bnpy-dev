{
 "cells": [
  {
   "cell_type": "markdown",
   "metadata": {},
   "source": [
    "## HDP-HMM ELBO objective\n",
    "\n",
    "In our recent manuscript, we see that the HDP-HMM objective has the following term:\n",
    "\n",
    "\\begin{align}\n",
    "\\mathcal{L}_{\\mbox{hdp-local}}(s, \\theta, \\rho, \\omega) \n",
    "&\\triangleq \n",
    "\\mathbb{E}[ c_D(\\alpha_0 \\beta ) ]\n",
    "+ \\sum_{k=1}^K \\mathbb{E}[ c_D(\\alpha \\beta + \\kappa \\delta_k ]\n",
    "\\\\\n",
    "& - \\sum_{k=0}^K c_D(\\theta_k)\n",
    "\\\\\n",
    "& + \\sum_{k=0}^K \\sum_{\\ell=1}^{K+1}\n",
    "( \n",
    "M_{k\\ell}\n",
    "+ \\alpha_{k} \n",
    "\\mathbb{E}_{q(u)}[\\beta_{\\ell}]\n",
    "+  \\kappa \\delta_k(\\ell)\n",
    "-  \\theta_{k\\ell}\n",
    ") P_{k\\ell}\n",
    "\\end{align}\n",
    "\n",
    "where we defined $M_{k\\ell}$ as a count sufficient statistic, and $P_{k\\ell}$ as a log probability statistic.\n",
    "\n",
    "\\begin{align}\n",
    "M_{k\\ell} &\\triangleq \\mathbb{E}[ \\sum_{n} \\sum_{t} z_{ntk} z_{n,t+1,\\ell} ] = \\sum_{n=1}^N \\sum_{t=1}^{T_n-1} s_{ntk\\ell}\n",
    "\\\\\n",
    "P_{k\\ell} &\\triangleq \\mathbb{E}[ \\log \\pi_{k\\ell} ] = \\psi(\\theta_{k\\ell}) - \\psi(\\theta_{k\\cdot} )\n",
    "\\end{align}\n",
    "\n",
    "The last term of $\\mathcal{L}_{\\mbox{hdp-local}}$, involving $M$, and $P$, is called the **slack** term. Immediately after a global update, this term is precisely equal to zero, since $\\theta_{k\\ell}$ is set equal to $M_{k\\ell} + \\alpha + \\kappa$.\n",
    "\n",
    "## Slack term: memoized vs. stochastic evaluation\n",
    "\n",
    "When performing memoized variational inference, we always evaluate the ELBO immediately after a global step. Thus, the slack term will be zero, as described above, since the global update sets $\\theta_{k\\ell} = M_{k\\ell} + \\alpha + \\kappa$.\n",
    "\n",
    "For stochastic inference, the slack term is never exactly zero, since the update to $\\theta_{k\\ell}$ uses a learning rate. However, after many iterations the slack term will likely be *almost* zero.\n",
    "\n",
    "## What this notebook shows\n",
    "\n",
    "That across multiple runs of both stochastic and memoized, the ELBO computation leads to reasonable values."
   ]
  },
  {
   "cell_type": "code",
   "execution_count": 18,
   "metadata": {
    "collapsed": true
   },
   "outputs": [],
   "source": [
    "import bnpy"
   ]
  },
  {
   "cell_type": "code",
   "execution_count": 19,
   "metadata": {
    "collapsed": false
   },
   "outputs": [
    {
     "name": "stdout",
     "output_type": "stream",
     "text": [
      "Populating the interactive namespace from numpy and matplotlib\n"
     ]
    }
   ],
   "source": [
    "%pylab inline\n",
    "bnpy.viz.PlotUtil.ConfigPylabDefaults(pylab)"
   ]
  },
  {
   "cell_type": "markdown",
   "metadata": {},
   "source": [
    "## Create a toy dataset of 2 sequences, of **different** lengths"
   ]
  },
  {
   "cell_type": "code",
   "execution_count": 10,
   "metadata": {
    "collapsed": false
   },
   "outputs": [],
   "source": [
    "import SeqOfBinBars9x9"
   ]
  },
  {
   "cell_type": "code",
   "execution_count": 11,
   "metadata": {
    "collapsed": true
   },
   "outputs": [],
   "source": [
    "Data = SeqOfBinBars9x9.get_data(nDocTotal=2, T='100,300')"
   ]
  },
  {
   "cell_type": "markdown",
   "metadata": {},
   "source": [
    "## Sequence 1/2: 100 timesteps long"
   ]
  },
  {
   "cell_type": "code",
   "execution_count": 12,
   "metadata": {
    "collapsed": false
   },
   "outputs": [
    {
     "data": {
      "image/png": "[encoded data removed]",
      "text/plain": [
       "<matplotlib.figure.Figure at 0x8519d10>"
      ]
     },
     "metadata": {},
     "output_type": "display_data"
    }
   ],
   "source": [
    "pylab.figure(figsize=(2,1))\n",
    "pylab.imshow(Data.X[:Data.doc_range[1]].T, aspect=0.25, cmap='bone', interpolation='nearest');\n",
    "pylab.yticks([0,40,81]);"
   ]
  },
  {
   "cell_type": "markdown",
   "metadata": {},
   "source": [
    "## Sequence 2/2: 300 timesteps long"
   ]
  },
  {
   "cell_type": "code",
   "execution_count": 13,
   "metadata": {
    "collapsed": false
   },
   "outputs": [
    {
     "data": {
      "image/png": "[encoded data removed]",
      "text/plain": [
       "<matplotlib.figure.Figure at 0x89a7e90>"
      ]
     },
     "metadata": {},
     "output_type": "display_data"
    }
   ],
   "source": [
    "pylab.figure(figsize=(6,1))\n",
    "pylab.imshow(Data.X[Data.doc_range[1]:Data.doc_range[2]].T, aspect=0.25, cmap='bone', interpolation='nearest');\n",
    "pylab.yticks([0,40,81]);"
   ]
  },
  {
   "cell_type": "markdown",
   "metadata": {},
   "source": [
    "## Run memoized, as a baseline"
   ]
  },
  {
   "cell_type": "code",
   "execution_count": 20,
   "metadata": {
    "collapsed": false
   },
   "outputs": [
    {
     "name": "stdout",
     "output_type": "stream",
     "text": [
      "Binary Bar Sequences with 20 true topics.\n",
      "Entire Dataset Summary:\n",
      "  total size: 2 units\n",
      "  batch size: 1 units\n",
      "  num. batches: 2\n",
      "Data for Initialization:\n",
      "  size: 2 units (documents)\n",
      "  dimension: 81\n",
      "Allocation Model:  None\n",
      "Obs. Data  Model:  Bernoulli over 81 binary attributes.\n",
      "Obs. Data  Prior:  Beta over 81 attributes.\n",
      "  lam1 = [ 0.1  0.1] ...\n",
      "  lam0 = [ 0.1  0.1] ...\n",
      "  \n",
      "Learn Alg: moVB\n",
      "Trial  1/10 | alg. seed: 8204544 | data order seed: 8541952\n",
      "savepath: /results/SeqOfBinBars9x9/test-model=HDPHMM-alg=memo/1\n",
      "    0.500/100 after      0 sec. | K    5 | ev -2.592987794e-01 |  \n",
      "        1/100 after      0 sec. | K    5 | ev -2.555258144e-01 |  \n",
      "    1.500/100 after      0 sec. | K    5 | ev -2.553482239e-01 | Ndiff    0.489 \n",
      "   30.000/100 after      1 sec. | K    5 | ev -2.485689323e-01 | Ndiff    0.000 \n",
      "... done. converged.\n",
      "Trial  2/10 | alg. seed: 9353472 | data order seed: 7673856\n",
      "savepath: /results/SeqOfBinBars9x9/test-model=HDPHMM-alg=memo/2\n",
      "    0.500/100 after      0 sec. | K    5 | ev -2.314576632e-01 |  \n",
      "        1/100 after      0 sec. | K    5 | ev -2.475992711e-01 |  \n",
      "    1.500/100 after      0 sec. | K    5 | ev -2.457131568e-01 | Ndiff    1.474 \n",
      "   30.000/100 after      1 sec. | K    5 | ev -2.451370013e-01 | Ndiff    0.000 \n",
      "... done. converged.\n",
      "Trial  3/10 | alg. seed: 6372736 | data order seed: 7360256\n",
      "savepath: /results/SeqOfBinBars9x9/test-model=HDPHMM-alg=memo/3\n",
      "    0.500/100 after      0 sec. | K    5 | ev -2.427314804e-01 |  \n",
      "        1/100 after      0 sec. | K    5 | ev -2.507199106e-01 |  \n",
      "    1.500/100 after      0 sec. | K    5 | ev -2.480041795e-01 | Ndiff    5.748 \n",
      "   30.000/100 after      1 sec. | K    5 | ev -2.438506234e-01 | Ndiff    0.000 \n",
      "... done. converged.\n",
      "Trial  4/10 | alg. seed: 4686336 | data order seed: 900864\n",
      "savepath: /results/SeqOfBinBars9x9/test-model=HDPHMM-alg=memo/4\n",
      "    0.500/100 after      0 sec. | K    5 | ev -2.621176399e-01 |  \n",
      "        1/100 after      0 sec. | K    5 | ev -2.578110270e-01 |  \n",
      "    1.500/100 after      0 sec. | K    5 | ev -2.560265774e-01 | Ndiff    7.258 \n",
      "   31.000/100 after      1 sec. | K    5 | ev -2.153280674e-01 | Ndiff    0.001 \n",
      "... done. converged.\n",
      "Trial  5/10 | alg. seed: 4975488 | data order seed: 6479872\n",
      "savepath: /results/SeqOfBinBars9x9/test-model=HDPHMM-alg=memo/5\n",
      "    0.500/100 after      0 sec. | K    5 | ev -2.339371557e-01 |  \n",
      "        1/100 after      0 sec. | K    5 | ev -2.481493066e-01 |  \n",
      "    1.500/100 after      0 sec. | K    5 | ev -2.476163977e-01 | Ndiff    2.880 \n",
      "   30.000/100 after      1 sec. | K    5 | ev -2.452939928e-01 | Ndiff    0.000 \n",
      "... done. converged.\n",
      "Trial  6/10 | alg. seed: 4555008 | data order seed: 9149952\n",
      "savepath: /results/SeqOfBinBars9x9/test-model=HDPHMM-alg=memo/6\n",
      "    0.500/100 after      0 sec. | K    5 | ev -2.639462055e-01 |  \n",
      "        1/100 after      0 sec. | K    5 | ev -2.586567112e-01 |  \n",
      "    1.500/100 after      0 sec. | K    5 | ev -2.570014560e-01 | Ndiff    8.542 \n",
      "   30.000/100 after      1 sec. | K    5 | ev -2.163626789e-01 | Ndiff    0.000 \n",
      "... done. converged.\n",
      "Trial  7/10 | alg. seed: 8222208 | data order seed: 3441280\n",
      "savepath: /results/SeqOfBinBars9x9/test-model=HDPHMM-alg=memo/7\n",
      "    0.500/100 after      0 sec. | K    5 | ev -2.547774622e-01 |  \n",
      "        1/100 after      0 sec. | K    5 | ev -2.542308465e-01 |  \n",
      "    1.500/100 after      0 sec. | K    5 | ev -2.541063137e-01 | Ndiff    1.359 \n",
      "   30.000/100 after      1 sec. | K    5 | ev -2.482569839e-01 | Ndiff    0.000 \n",
      "... done. converged.\n",
      "Trial  8/10 | alg. seed: 1428224 | data order seed: 899584\n",
      "savepath: /results/SeqOfBinBars9x9/test-model=HDPHMM-alg=memo/8\n",
      "    0.500/100 after      0 sec. | K    5 | ev -2.616892687e-01 |  \n",
      "        1/100 after      0 sec. | K    5 | ev -2.583954946e-01 |  \n",
      "    1.500/100 after      0 sec. | K    5 | ev -2.565548648e-01 | Ndiff   11.519 \n",
      "   30.000/100 after      1 sec. | K    5 | ev -2.155148134e-01 | Ndiff    0.000 \n",
      "... done. converged.\n",
      "Trial  9/10 | alg. seed: 7293824 | data order seed: 3785600\n",
      "savepath: /results/SeqOfBinBars9x9/test-model=HDPHMM-alg=memo/9\n",
      "    0.500/100 after      0 sec. | K    5 | ev -2.434751980e-01 |  \n",
      "        1/100 after      0 sec. | K    5 | ev -2.511397587e-01 |  \n",
      "    1.500/100 after      0 sec. | K    5 | ev -2.504593689e-01 | Ndiff    3.568 \n",
      "   30.000/100 after      1 sec. | K    5 | ev -2.476149930e-01 | Ndiff    0.000 \n",
      "... done. converged.\n",
      "Trial 10/10 | alg. seed: 1476736 | data order seed: 6801920\n",
      "savepath: /results/SeqOfBinBars9x9/test-model=HDPHMM-alg=memo/10\n",
      "    0.500/100 after      0 sec. | K    5 | ev -2.482748520e-01 |  \n",
      "        1/100 after      0 sec. | K    5 | ev -2.542531569e-01 |  \n",
      "    1.500/100 after      0 sec. | K    5 | ev -2.519845021e-01 | Ndiff    4.416 \n",
      "   30.000/100 after      1 sec. | K    5 | ev -2.120159537e-01 | Ndiff    0.000 \n",
      "... done. converged.\n"
     ]
    }
   ],
   "source": [
    "bnpy.run(Data, 'HDPHMM', 'Bern', 'moVB', nLap=100, minLap=30, printEvery=100, \n",
    "        K=5, initname='randexamples',\n",
    "        nTask=10,\n",
    "        jobname='test-model=HDPHMM-alg=memo');"
   ]
  },
  {
   "cell_type": "markdown",
   "metadata": {},
   "source": [
    "### Run stochastic WITH slack\n",
    "\n",
    "This run is from same initialization as before, doing stochastic updates. \n",
    "\n",
    "The ELBO we track along the way does NOT include the slack term."
   ]
  },
  {
   "cell_type": "code",
   "execution_count": 22,
   "metadata": {
    "collapsed": false
   },
   "outputs": [
    {
     "name": "stdout",
     "output_type": "stream",
     "text": [
      "Binary Bar Sequences with 20 true topics.\n",
      "Entire Dataset Summary:\n",
      "  total size: 2 units\n",
      "  batch size: 1 units\n",
      "  num. batches: 2\n",
      "Data for Initialization:\n",
      "  size: 2 units (documents)\n",
      "  dimension: 81\n",
      "Allocation Model:  None\n",
      "Obs. Data  Model:  Bernoulli over 81 binary attributes.\n",
      "Obs. Data  Prior:  Beta over 81 attributes.\n",
      "  lam1 = [ 0.1  0.1] ...\n",
      "  lam0 = [ 0.1  0.1] ...\n",
      "  \n",
      "Learn Alg: soVB\n",
      "Trial  1/10 | alg. seed: 8204544 | data order seed: 8541952\n",
      "savepath: /results/SeqOfBinBars9x9/test-model=HDPHMM-alg=stochWithSlack/1\n",
      "    0.500/100 after      0 sec. | K    5 | ev -2.645995288e-01 |  lrate 0.7071\n",
      "        1/100 after      0 sec. | K    5 | ev -2.567213745e-01 |  lrate 0.5774\n",
      "    1.500/100 after      0 sec. | K    5 | ev -2.582314233e-01 |  lrate 0.5000\n",
      "  100.000/100 after      3 sec. | K    5 | ev -2.453563606e-01 |  lrate 0.0705\n",
      "... active. not converged.\n",
      "Trial  2/10 | alg. seed: 9353472 | data order seed: 7673856\n",
      "savepath: /results/SeqOfBinBars9x9/test-model=HDPHMM-alg=stochWithSlack/2\n",
      "    0.500/100 after      0 sec. | K    5 | ev -2.440687821e-01 |  lrate 0.7071\n",
      "        1/100 after      0 sec. | K    5 | ev -2.172763250e-01 |  lrate 0.5774\n",
      "    1.500/100 after      0 sec. | K    5 | ev -2.158919242e-01 |  lrate 0.5000\n",
      "  100.000/100 after      3 sec. | K    5 | ev -2.120305893e-01 |  lrate 0.0705\n",
      "... active. not converged.\n",
      "Trial  3/10 | alg. seed: 6372736 | data order seed: 7360256\n",
      "savepath: /results/SeqOfBinBars9x9/test-model=HDPHMM-alg=stochWithSlack/3\n",
      "    0.500/100 after      0 sec. | K    5 | ev -2.520198611e-01 |  lrate 0.7071\n",
      "        1/100 after      0 sec. | K    5 | ev -2.523199383e-01 |  lrate 0.5774\n",
      "    1.500/100 after      0 sec. | K    5 | ev -2.497402803e-01 |  lrate 0.5000\n",
      "  100.000/100 after      3 sec. | K    5 | ev -2.438517278e-01 |  lrate 0.0705\n",
      "... active. not converged.\n",
      "Trial  4/10 | alg. seed: 4686336 | data order seed: 900864\n",
      "savepath: /results/SeqOfBinBars9x9/test-model=HDPHMM-alg=stochWithSlack/4\n",
      "    0.500/100 after      0 sec. | K    5 | ev -2.691270208e-01 |  lrate 0.7071\n",
      "        1/100 after      0 sec. | K    5 | ev -2.593382141e-01 |  lrate 0.5774\n",
      "    1.500/100 after      0 sec. | K    5 | ev -2.580458293e-01 |  lrate 0.5000\n",
      "  100.000/100 after      3 sec. | K    5 | ev -2.483125593e-01 |  lrate 0.0705\n",
      "... active. not converged.\n",
      "Trial  5/10 | alg. seed: 4975488 | data order seed: 6479872\n",
      "savepath: /results/SeqOfBinBars9x9/test-model=HDPHMM-alg=stochWithSlack/5\n",
      "    0.500/100 after      0 sec. | K    5 | ev -2.464476884e-01 |  lrate 0.7071\n",
      "        1/100 after      0 sec. | K    5 | ev -2.501554696e-01 |  lrate 0.5774\n",
      "    1.500/100 after      0 sec. | K    5 | ev -2.485800047e-01 |  lrate 0.5000\n",
      "  100.000/100 after      3 sec. | K    5 | ev -2.438517203e-01 |  lrate 0.0705\n",
      "... active. not converged.\n",
      "Trial  6/10 | alg. seed: 4555008 | data order seed: 9149952\n",
      "savepath: /results/SeqOfBinBars9x9/test-model=HDPHMM-alg=stochWithSlack/6\n",
      "    0.500/100 after      0 sec. | K    5 | ev -2.712522603e-01 |  lrate 0.7071\n",
      "        1/100 after      0 sec. | K    5 | ev -2.285620586e-01 |  lrate 0.5774\n",
      "    1.500/100 after      0 sec. | K    5 | ev -2.277375421e-01 |  lrate 0.5000\n",
      "  100.000/100 after      3 sec. | K    5 | ev -2.199941781e-01 |  lrate 0.0705\n",
      "... active. not converged.\n",
      "Trial  7/10 | alg. seed: 8222208 | data order seed: 3441280\n",
      "savepath: /results/SeqOfBinBars9x9/test-model=HDPHMM-alg=stochWithSlack/7\n",
      "    0.500/100 after      0 sec. | K    5 | ev -2.626079119e-01 |  lrate 0.7071\n",
      "        1/100 after      0 sec. | K    5 | ev -2.556815518e-01 |  lrate 0.5774\n",
      "    1.500/100 after      0 sec. | K    5 | ev -2.565745234e-01 |  lrate 0.5000\n",
      "  100.000/100 after      3 sec. | K    5 | ev -2.451267327e-01 |  lrate 0.0705\n",
      "... active. not converged.\n",
      "Trial  8/10 | alg. seed: 1428224 | data order seed: 899584\n",
      "savepath: /results/SeqOfBinBars9x9/test-model=HDPHMM-alg=stochWithSlack/8\n",
      "    0.500/100 after      0 sec. | K    5 | ev -2.691565898e-01 |  lrate 0.7071\n",
      "        1/100 after      0 sec. | K    5 | ev -2.596562318e-01 |  lrate 0.5774\n",
      "    1.500/100 after      0 sec. | K    5 | ev -2.579150835e-01 |  lrate 0.5000\n",
      "  100.000/100 after      3 sec. | K    5 | ev -2.158190070e-01 |  lrate 0.0705\n",
      "... active. not converged.\n",
      "Trial  9/10 | alg. seed: 7293824 | data order seed: 3785600\n",
      "savepath: /results/SeqOfBinBars9x9/test-model=HDPHMM-alg=stochWithSlack/9\n",
      "    0.500/100 after      0 sec. | K    5 | ev -2.501559833e-01 |  lrate 0.7071\n",
      "        1/100 after      0 sec. | K    5 | ev -2.524846388e-01 |  lrate 0.5774\n",
      "    1.500/100 after      0 sec. | K    5 | ev -2.512293851e-01 |  lrate 0.5000\n",
      "  100.000/100 after      3 sec. | K    5 | ev -2.450673526e-01 |  lrate 0.0705\n",
      "... active. not converged.\n",
      "Trial 10/10 | alg. seed: 1476736 | data order seed: 6801920\n",
      "savepath: /results/SeqOfBinBars9x9/test-model=HDPHMM-alg=stochWithSlack/10\n",
      "    0.500/100 after      0 sec. | K    5 | ev -2.603243168e-01 |  lrate 0.7071\n",
      "        1/100 after      0 sec. | K    5 | ev -2.227858016e-01 |  lrate 0.5774\n",
      "    1.500/100 after      0 sec. | K    5 | ev -2.226342930e-01 |  lrate 0.5000\n",
      "  100.000/100 after      3 sec. | K    5 | ev -2.178225778e-01 |  lrate 0.0705\n",
      "... active. not converged.\n"
     ]
    }
   ],
   "source": [
    "bnpy.run(Data, 'HDPHMM', 'Bern', 'soVB', nLap=100, printEvery=100, \n",
    "        K=5, initname='randexamples',\n",
    "        useSlackTermsInELBO=1,\n",
    "        nTask=10,\n",
    "        jobname='test-model=HDPHMM-alg=stochWithSlack');"
   ]
  },
  {
   "cell_type": "markdown",
   "metadata": {},
   "source": [
    "## Plot: Training objective as more data is seen\n",
    "\n",
    "Across several initializations, we see that the stochastic and memoized reach similar sets of fixed points."
   ]
  },
  {
   "cell_type": "code",
   "execution_count": 30,
   "metadata": {
    "collapsed": false
   },
   "outputs": [
    {
     "data": {
      "image/png": "[encoded data removed]",
      "text/plain": [
       "<matplotlib.figure.Figure at 0x8967a10>"
      ]
     },
     "metadata": {},
     "output_type": "display_data"
    }
   ],
   "source": [
    "jobList = ['SeqOfBinBars9x9/test-model=HDPHMM-alg=stochWithSlack',\n",
    "           'SeqOfBinBars9x9/test-model=HDPHMM-alg=memo']\n",
    "bnpy.viz.PlotELBO.plotJobs(jobList, ['stoch', 'memo'],\n",
    "                           loc='center right', bbox_to_anchor=(1.8, 0.5));\n",
    "pylab.xlim([1, 100]);"
   ]
  },
  {
   "cell_type": "code",
   "execution_count": null,
   "metadata": {
    "collapsed": true
   },
   "outputs": [],
   "source": []
  }
 ],
 "metadata": {
  "kernelspec": {
   "display_name": "Python 2",
   "language": "python",
   "name": "python2"
  },
  "language_info": {
   "codemirror_mode": {
    "name": "ipython",
    "version": 2
   },
   "file_extension": ".py",
   "mimetype": "text/x-python",
   "name": "python",
   "nbconvert_exporter": "python",
   "pygments_lexer": "ipython2",
   "version": "2.7.3"
  }
 },
 "nbformat": 4,
 "nbformat_minor": 0
}

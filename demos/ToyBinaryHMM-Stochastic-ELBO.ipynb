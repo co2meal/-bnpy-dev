{
 "cells": [
  {
   "cell_type": "markdown",
   "metadata": {},
   "source": [
    "## HDP-HMM ELBO objective\n",
    "\n",
    "In our recent manuscript, we see that the HDP-HMM objective has the following term:\n",
    "\n",
    "\\begin{align}\n",
    "\\mathcal{L}_{\\mbox{hdp-local}}(s, \\theta, \\rho, \\omega) \n",
    "&\\triangleq \n",
    "\\mathbb{E}[ c_D(\\alpha_0 \\beta ) ]\n",
    "+ \\sum_{k=1}^K \\mathbb{E}[ c_D(\\alpha \\beta + \\kappa \\delta_k ]\n",
    "\\\\\n",
    "& - \\sum_{k=0}^K c_D(\\theta_k)\n",
    "\\\\\n",
    "& + \\sum_{k=0}^K \\sum_{\\ell=1}^{K+1}\n",
    "( \n",
    "M_{k\\ell}\n",
    "+ \\alpha_{k} \n",
    "\\mathbb{E}_{q(u)}[\\beta_{\\ell}]\n",
    "+  \\kappa \\delta_k(\\ell)\n",
    "-  \\theta_{k\\ell}\n",
    ") P_{k\\ell}\n",
    "\\end{align}\n",
    "\n",
    "where we defined $M_{k\\ell}$ as a count sufficient statistic, and $P_{k\\ell}$ as a log probability statistic.\n",
    "\n",
    "\\begin{align}\n",
    "M_{k\\ell} &\\triangleq \\mathbb{E}[ \\sum_{n} \\sum_{t} z_{ntk} z_{n,t+1,\\ell} ] = \\sum_{n=1}^N \\sum_{t=1}^{T_n-1} s_{ntk\\ell}\n",
    "\\\\\n",
    "P_{k\\ell} &\\triangleq \\mathbb{E}[ \\log \\pi_{k\\ell} ] = \\psi(\\theta_{k\\ell}) - \\psi(\\theta_{k\\cdot} )\n",
    "\\end{align}\n",
    "\n",
    "The last term of $\\mathcal{L}_{\\mbox{hdp-local}}$, involving $M$, and $P$, is called the **slack** term. Immediately after a global update, this term is precisely equal to zero, since $\\theta_{k\\ell}$ is set equal to $M_{k\\ell} + \\alpha + \\kappa$."
   ]
  },
  {
   "cell_type": "code",
   "execution_count": 2,
   "metadata": {
    "collapsed": true
   },
   "outputs": [],
   "source": [
    "import bnpy"
   ]
  },
  {
   "cell_type": "code",
   "execution_count": 3,
   "metadata": {
    "collapsed": false
   },
   "outputs": [
    {
     "name": "stdout",
     "output_type": "stream",
     "text": [
      "Populating the interactive namespace from numpy and matplotlib\n"
     ]
    }
   ],
   "source": [
    "%pylab inline\n",
    "bnpy.viz.PlotUtil.ConfigPylabDefaults(pylab)"
   ]
  },
  {
   "cell_type": "markdown",
   "metadata": {},
   "source": [
    "## Create a toy dataset of 2 sequences, of **different** lengths"
   ]
  },
  {
   "cell_type": "code",
   "execution_count": 5,
   "metadata": {
    "collapsed": false
   },
   "outputs": [],
   "source": [
    "import SeqOfBinBars9x9"
   ]
  },
  {
   "cell_type": "code",
   "execution_count": 6,
   "metadata": {
    "collapsed": true
   },
   "outputs": [],
   "source": [
    "Data = SeqOfBinBars9x9.get_data(nDocTotal=2, T='100,300')"
   ]
  },
  {
   "cell_type": "markdown",
   "metadata": {},
   "source": [
    "## Sequence 1/2: 100 timesteps long"
   ]
  },
  {
   "cell_type": "code",
   "execution_count": 18,
   "metadata": {
    "collapsed": false
   },
   "outputs": [
    {
     "data": {
      "image/png": "[encoded data removed]",
      "text/plain": [
       "<matplotlib.figure.Figure at 0x8c493d0>"
      ]
     },
     "metadata": {},
     "output_type": "display_data"
    }
   ],
   "source": [
    "pylab.figure(figsize=(2,1))\n",
    "pylab.imshow(Data.X[:Data.doc_range[1]].T, aspect=0.25, cmap='bone', interpolation='nearest');\n",
    "pylab.yticks([0,40,81]);"
   ]
  },
  {
   "cell_type": "markdown",
   "metadata": {},
   "source": [
    "## Sequence 2/2: 300 timesteps long"
   ]
  },
  {
   "cell_type": "code",
   "execution_count": 19,
   "metadata": {
    "collapsed": false
   },
   "outputs": [
    {
     "data": {
      "image/png": "[encoded data removed]",
      "text/plain": [
       "<matplotlib.figure.Figure at 0x96e71d0>"
      ]
     },
     "metadata": {},
     "output_type": "display_data"
    }
   ],
   "source": [
    "pylab.figure(figsize=(6,1))\n",
    "pylab.imshow(Data.X[Data.doc_range[1]:Data.doc_range[2]].T, aspect=0.25, cmap='bone', interpolation='nearest');\n",
    "pylab.yticks([0,40,81]);"
   ]
  },
  {
   "cell_type": "markdown",
   "metadata": {},
   "source": [
    "## Run memoized, as a baseline"
   ]
  },
  {
   "cell_type": "code",
   "execution_count": 59,
   "metadata": {
    "collapsed": false
   },
   "outputs": [
    {
     "name": "stdout",
     "output_type": "stream",
     "text": [
      "Binary Bar Sequences with 20 true topics.\n",
      "Entire Dataset Summary:\n",
      "  total size: 2 units\n",
      "  batch size: 1 units\n",
      "  num. batches: 2\n",
      "Data for Initialization:\n",
      "  size: 2 units (documents)\n",
      "  dimension: 81\n",
      "Allocation Model:  None\n",
      "Obs. Data  Model:  Bernoulli over 81 binary attributes.\n",
      "Obs. Data  Prior:  Beta over 81 attributes.\n",
      "  lam1 = [ 0.1  0.1] ...\n",
      "  lam0 = [ 0.1  0.1] ...\n",
      "  \n",
      "Learn Alg: moVB\n",
      "Trial  1/1 | alg. seed: 8204544 | data order seed: 8541952\n",
      "savepath: /results/SeqOfBinBars9x9/test-alg=memo/1\n",
      "    0.500/1000 after      0 sec. | K    5 | ev -2.592987794e-01 |  \n",
      "        1/1000 after      0 sec. | K    5 | ev -2.555258144e-01 |  \n",
      "    1.500/1000 after      0 sec. | K    5 | ev -2.553482239e-01 | Ndiff    0.489 \n",
      "   25.000/1000 after      1 sec. | K    5 | ev -2.485689323e-01 | Ndiff    0.000 \n",
      "   50.000/1000 after      1 sec. | K    5 | ev -2.485689323e-01 | Ndiff    0.000 \n",
      "   75.000/1000 after      2 sec. | K    5 | ev -2.485689323e-01 | Ndiff    0.000 \n",
      "  100.000/1000 after      2 sec. | K    5 | ev -2.485689323e-01 | Ndiff    0.000 \n",
      "  125.000/1000 after      2 sec. | K    5 | ev -2.485689323e-01 | Ndiff    0.000 \n",
      "  150.000/1000 after      3 sec. | K    5 | ev -2.485689323e-01 | Ndiff    0.000 \n",
      "  175.000/1000 after      3 sec. | K    5 | ev -2.485689323e-01 | Ndiff    0.000 \n",
      "  200.000/1000 after      3 sec. | K    5 | ev -2.485689323e-01 | Ndiff    0.000 \n",
      "  225.000/1000 after      4 sec. | K    5 | ev -2.485689323e-01 | Ndiff    0.000 \n",
      "  250.000/1000 after      4 sec. | K    5 | ev -2.485689323e-01 | Ndiff    0.000 \n",
      "  275.000/1000 after      4 sec. | K    5 | ev -2.485689323e-01 | Ndiff    0.000 \n",
      "  300.000/1000 after      5 sec. | K    5 | ev -2.485689323e-01 | Ndiff    0.000 \n",
      "... done. converged.\n"
     ]
    }
   ],
   "source": [
    "bnpy.run(Data, 'HDPHMM', 'Bern', 'moVB', nLap=1000, minLap=300, printEvery=25, \n",
    "        K=5, initname='randexamples',\n",
    "        jobname='test-alg=memo');"
   ]
  },
  {
   "cell_type": "markdown",
   "metadata": {},
   "source": [
    "### Run stochastic WITH slack\n",
    "\n",
    "This run is from same initialization as before, doing stochastic updates. \n",
    "\n",
    "The ELBO we track along the way does NOT include the slack term."
   ]
  },
  {
   "cell_type": "code",
   "execution_count": 69,
   "metadata": {
    "collapsed": false
   },
   "outputs": [
    {
     "name": "stdout",
     "output_type": "stream",
     "text": [
      "Binary Bar Sequences with 20 true topics.\n",
      "Entire Dataset Summary:\n",
      "  total size: 2 units\n",
      "  batch size: 1 units\n",
      "  num. batches: 2\n",
      "Data for Initialization:\n",
      "  size: 2 units (documents)\n",
      "  dimension: 81\n",
      "Allocation Model:  None\n",
      "Obs. Data  Model:  Bernoulli over 81 binary attributes.\n",
      "Obs. Data  Prior:  Beta over 81 attributes.\n",
      "  lam1 = [ 0.1  0.1] ...\n",
      "  lam0 = [ 0.1  0.1] ...\n",
      "  \n",
      "Learn Alg: soVB\n",
      "Trial  1/1 | alg. seed: 8204544 | data order seed: 8541952\n",
      "savepath: /results/SeqOfBinBars9x9/test-alg=stochWithSlack/1\n",
      "    0.500/1000 after      0 sec. | K    5 | ev  2.228872957e-01 |  lrate 0.7071\n",
      "        1/1000 after      0 sec. | K    5 | ev -1.169879467e-01 |  lrate 0.5774\n",
      "    1.500/1000 after      0 sec. | K    5 | ev  1.304351955e+00 |  lrate 0.5000\n",
      "  250.000/1000 after      7 sec. | K    5 | ev -2.537970981e-01 |  lrate 0.0447\n",
      "  500.000/1000 after     13 sec. | K    5 | ev -2.441849366e-01 |  lrate 0.0316\n",
      "  750.000/1000 after     19 sec. | K    5 | ev -2.440020932e-01 |  lrate 0.0258\n",
      "  1000.000/1000 after     24 sec. | K    5 | ev -2.458949554e-01 |  lrate 0.0224\n",
      "... active. not converged.\n"
     ]
    }
   ],
   "source": [
    "bnpy.run(Data, 'HDPHMM', 'Bern', 'soVB', nLap=1000, minLap=10, printEvery=250, \n",
    "        K=5, initname='randexamples',\n",
    "        useSlackTermsInELBO=1,\n",
    "        jobname='test-alg=stochWithSlack');"
   ]
  },
  {
   "cell_type": "markdown",
   "metadata": {},
   "source": [
    "### Run stochastic WITHOUT slack\n",
    "\n",
    "This run is from same initialization as before, doing all the same updates. The only difference is the ELBO we track along the way does NOT include the slack term."
   ]
  },
  {
   "cell_type": "code",
   "execution_count": 70,
   "metadata": {
    "collapsed": false
   },
   "outputs": [
    {
     "name": "stdout",
     "output_type": "stream",
     "text": [
      "Binary Bar Sequences with 20 true topics.\n",
      "Entire Dataset Summary:\n",
      "  total size: 2 units\n",
      "  batch size: 1 units\n",
      "  num. batches: 2\n",
      "Data for Initialization:\n",
      "  size: 2 units (documents)\n",
      "  dimension: 81\n",
      "Allocation Model:  None\n",
      "Obs. Data  Model:  Bernoulli over 81 binary attributes.\n",
      "Obs. Data  Prior:  Beta over 81 attributes.\n",
      "  lam1 = [ 0.1  0.1] ...\n",
      "  lam0 = [ 0.1  0.1] ...\n",
      "  \n",
      "Learn Alg: soVB\n",
      "Trial  1/1 | alg. seed: 8204544 | data order seed: 8541952\n",
      "savepath: /results/SeqOfBinBars9x9/test-alg=stochWithoutSlack/1\n",
      "    0.500/1000 after      0 sec. | K    5 | ev -2.713983424e-01 |  lrate 0.7071\n",
      "        1/1000 after      0 sec. | K    5 | ev -2.564625437e-01 |  lrate 0.5774\n",
      "    1.500/1000 after      0 sec. | K    5 | ev -2.577233647e-01 |  lrate 0.5000\n",
      "  250.000/1000 after      6 sec. | K    5 | ev -2.453570818e-01 |  lrate 0.0447\n",
      "  500.000/1000 after     13 sec. | K    5 | ev -2.453557659e-01 |  lrate 0.0316\n",
      "  750.000/1000 after     18 sec. | K    5 | ev -2.453555183e-01 |  lrate 0.0258\n",
      "  1000.000/1000 after     23 sec. | K    5 | ev -2.453554170e-01 |  lrate 0.0224\n",
      "... active. not converged.\n"
     ]
    }
   ],
   "source": [
    "bnpy.run(Data, 'HDPHMM', 'Bern', 'soVB', nLap=1000, minLap=10, printEvery=250, \n",
    "        K=5, initname='randexamples',\n",
    "        useSlackTermsInELBO=0,\n",
    "        jobname='test-alg=stochWithoutSlack');"
   ]
  },
  {
   "cell_type": "markdown",
   "metadata": {},
   "source": [
    "## Plot: Training objective as more data is seen\n",
    "\n",
    "The black curve (stochastic with the slack term) has HUGE variation. This is due (I think) to oscillation between the two batches, since the scale changes from T=100 to T=300 depending on which batch is chosen.\n",
    "\n",
    "However, the red curve (stochastic without the slack term) looks much cleaner. \n",
    "\n",
    "As expected, both versions of stochastic (red and black) converge to similar quality objective values, just the black has much more variation.\n",
    "\n",
    "We can see the standard fixed truncation memoized alg (magenta) hiding under the black curve. It reaches a worse fixed point than either black or red."
   ]
  },
  {
   "cell_type": "code",
   "execution_count": 66,
   "metadata": {
    "collapsed": false
   },
   "outputs": [
    {
     "data": {
      "text/plain": [
       "(-0.3, -0.2)"
      ]
     },
     "execution_count": 66,
     "metadata": {},
     "output_type": "execute_result"
    },
    {
     "data": {
      "image/png": "[encoded data removed]",
      "text/plain": [
       "<matplotlib.figure.Figure at 0x978bdd0>"
      ]
     },
     "metadata": {},
     "output_type": "display_data"
    }
   ],
   "source": [
    "bnpy.viz.PlotTrace.Colors = ['m', 'k', 'r']\n",
    "bnpy.viz.PlotELBO.plotJobsThatMatch('SeqOfBinBars9x9/test-*',\n",
    "                                   loc='center right', bbox_to_anchor=(2.5, 0.5));\n",
    "pylab.ylim([-0.3, -.2])"
   ]
  },
  {
   "cell_type": "code",
   "execution_count": null,
   "metadata": {
    "collapsed": true
   },
   "outputs": [],
   "source": []
  }
 ],
 "metadata": {
  "kernelspec": {
   "display_name": "Python 2",
   "language": "python",
   "name": "python2"
  },
  "language_info": {
   "codemirror_mode": {
    "name": "ipython",
    "version": 2
   },
   "file_extension": ".py",
   "mimetype": "text/x-python",
   "name": "python",
   "nbconvert_exporter": "python",
   "pygments_lexer": "ipython2",
   "version": "2.7.3"
  }
 },
 "nbformat": 4,
 "nbformat_minor": 0
}

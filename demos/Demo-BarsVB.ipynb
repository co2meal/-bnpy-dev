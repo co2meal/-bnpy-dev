{
 "metadata": {
  "name": "",
  "signature": "sha256:d31a1d6c2e8ffda55776f454ded9d542d10c906f8c60024d6aaf79debcb13e69"
 },
 "nbformat": 3,
 "nbformat_minor": 0,
 "worksheets": [
  {
   "cells": [
    {
     "cell_type": "markdown",
     "metadata": {},
     "source": [
      "# Demo-Bars VB\n",
      "\n",
      "## Goal\n",
      "This notebook demonstrates using **bnpy** to fit a Multinomial mixture model via the variational Bayes (VB) algorithm on toy data.\n",
      "\n",
      "The VB method is used both to find the posterior distribution for latent variables and to find a lower bound for the marginal likelihood of the observed data. This algorithm operates similar to EM in that it has two-step alternating updates to local and global parameters."
     ]
    },
    {
     "cell_type": "code",
     "collapsed": false,
     "input": [
      "import numpy as np\n",
      "import bnpy\n",
      "\n",
      "from matplotlib import pylab\n",
      "%pylab inline"
     ],
     "language": "python",
     "metadata": {},
     "outputs": [
      {
       "output_type": "stream",
       "stream": "stdout",
       "text": [
        "Populating the interactive namespace from numpy and matplotlib\n"
       ]
      }
     ],
     "prompt_number": 1
    },
    {
     "cell_type": "markdown",
     "metadata": {},
     "source": [
      "## Data"
     ]
    },
    {
     "cell_type": "markdown",
     "metadata": {},
     "source": [
      "We investigate the MixBarsK10V900 dataset, which comes by default with bnpy. This is a variant of the popular toy bars datasets, first introduced by Griffiths and Steyvers. \n",
      "\n",
      "This dataset consists of a few thousand documents, each represented as a sparse bag-of-words over 900 possible vocabulary types. There are 10 \"bar\" topics used to generate the data.\n",
      "\n",
      "Below is a visualization of the data. Each small image represents one document, with the 900 word types arranged in a square grid (30x30). The intensity at each pixel represents the frequency of the corresponding word. "
     ]
    },
    {
     "cell_type": "code",
     "collapsed": false,
     "input": [
      "import MixBarsK10V900\n",
      "Data = MixBarsK10V900.get_data()\n",
      "bnpy.viz.BarsViz.plotExampleBarsDocs(Data)"
     ],
     "language": "python",
     "metadata": {},
     "outputs": [
      {
       "metadata": {},
       "output_type": "display_data",
       "png": "[encoded data removed]",
       "text": [
        "<matplotlib.figure.Figure at 0x834a230>"
       ]
      }
     ],
     "prompt_number": 2
    },
    {
     "cell_type": "markdown",
     "metadata": {},
     "source": [
      "## Single Run with K=10"
     ]
    },
    {
     "cell_type": "markdown",
     "metadata": {},
     "source": [
      "Below is the code to run VB on this data using bnpy. This code will run and save the output results to the path specified by BNYPOUTDIR. "
     ]
    },
    {
     "cell_type": "code",
     "collapsed": false,
     "input": [
      "hmodel, RInfo = bnpy.run(Data, 'MixModel', 'Mult', 'VB', jobname='vbdemo-K10',K=10,nLap=500,convergeThr=0.01,printEvery=25)"
     ],
     "language": "python",
     "metadata": {},
     "outputs": [
      {
       "output_type": "stream",
       "stream": "stdout",
       "text": [
        "Toy Bars Data with 10 true topics. Each doc uses ONE topic.\n"
       ]
      },
      {
       "output_type": "stream",
       "stream": "stdout",
       "text": [
        "  size: 2000 units (documents)\n",
        "  vocab size: 900\n",
        "  min    5%   50%   95%   max \n",
        "  154   163   171   180   189  nUniqueTokensPerDoc\n",
        "  360   360   360   360   360  nTotalTokensPerDoc\n"
       ]
      },
      {
       "output_type": "stream",
       "stream": "stdout",
       "text": [
        "Allocation Model:  Finite mixture with K=10. Dir prior param 1.00\n",
        "Obs. Data  Model:  Multinomial over finite vocabulary.\n",
        "Obs. Data  Prior:  Dirichlet over finite vocabulary \n",
        "  lam = [ 0.1  0.1] ...\n"
       ]
      },
      {
       "output_type": "stream",
       "stream": "stdout",
       "text": [
        "Learn Alg: VB\n"
       ]
      },
      {
       "output_type": "stream",
       "stream": "stdout",
       "text": [
        "Trial  1/1 | alg. seed: 3710336 | data order seed: 8541952\n"
       ]
      },
      {
       "output_type": "stream",
       "stream": "stdout",
       "text": [
        "savepath: /results/MixBarsK10V900/vbdemo-K10/1\n"
       ]
      },
      {
       "output_type": "stream",
       "stream": "stdout",
       "text": [
        "        1/500 after      0 sec. | K   10 | ev -5.928238264e+00 |  \n"
       ]
      },
      {
       "output_type": "stream",
       "stream": "stdout",
       "text": [
        "        2/500 after      0 sec. | K   10 | ev -5.508521719e+00 | Ndiff    166.109 \n"
       ]
      },
      {
       "output_type": "stream",
       "stream": "stdout",
       "text": [
        "        4/500 after      0 sec. | K   10 | ev -5.490091850e+00 | Ndiff      0.000 \n"
       ]
      },
      {
       "output_type": "stream",
       "stream": "stdout",
       "text": [
        "... done. converged.\n"
       ]
      }
     ],
     "prompt_number": 4
    },
    {
     "cell_type": "markdown",
     "metadata": {},
     "source": [
      "### Estimated Topics\n",
      "\n",
      "Here, we show the estimated topics learned from this run. Again, each image shows the 900 vocabulary types arranged in a 30x30 grid, one pixel per word type. "
     ]
    },
    {
     "cell_type": "code",
     "collapsed": false,
     "input": [
      "bnpy.viz.BarsViz.plotBarsFromHModel(hmodel)\n",
      "pylab.axis('image'); "
     ],
     "language": "python",
     "metadata": {},
     "outputs": [
      {
       "metadata": {},
       "output_type": "display_data",
       "png": "[encoded data removed]",
       "text": [
        "<matplotlib.figure.Figure at 0xac763d0>"
       ]
      }
     ],
     "prompt_number": 5
    },
    {
     "cell_type": "markdown",
     "metadata": {},
     "source": [
      "## Train model for range of K values"
     ]
    },
    {
     "cell_type": "markdown",
     "metadata": {},
     "source": [
      "It is possible to use the bnpy package to train the model for various K values. For algorithms like VB or EM, it is necessary to specify the number of clusters, and this is a non-trivial parameter to choose. The K value should accurately describe the data: choosing a too large K will reduce error because each point could be assigned to its own cluster and choosing too small a K would unecessarily group items together. \n",
      "\n",
      "Other techniques like hierarchical clustering do not require K values to be specified. "
     ]
    },
    {
     "cell_type": "code",
     "collapsed": false,
     "input": [
      "for K in [4, 8, 12, 16]:\n",
      "    hmodel, RInfo = bnpy.run(Data, 'MixModel', 'Mult', 'VB',\n",
      "                             jobname='demo-K=%d' %(K), K=K, \n",
      "                             nLap=200, convergeThr=0.01, \n",
      "                             doWriteStdOut=False)\n",
      "    print 'K=%3d | final ev % .5f' % (K, RInfo['evBound'])\n"
     ],
     "language": "python",
     "metadata": {},
     "outputs": [
      {
       "output_type": "stream",
       "stream": "stdout",
       "text": [
        "K=  4 | final ev -6.14024\n",
        "K=  8 | final ev -5.67869"
       ]
      },
      {
       "output_type": "stream",
       "stream": "stdout",
       "text": [
        "\n",
        "K= 12 | final ev -5.49170"
       ]
      },
      {
       "output_type": "stream",
       "stream": "stdout",
       "text": [
        "\n",
        "K= 16 | final ev -5.49579"
       ]
      },
      {
       "output_type": "stream",
       "stream": "stdout",
       "text": [
        "\n"
       ]
      }
     ],
     "prompt_number": 8
    },
    {
     "cell_type": "markdown",
     "metadata": {},
     "source": [
      "## Plot: Training laps vs ELBO score\n",
      "\n",
      "Below the runs with various K values are shown. The log evidence is defined as the log probability of the observed dataset $x$ given hyperparameters $\\alpha$: $\\log p(x| \\alpha)$.\n",
      "\n",
      "Note that for all K values, as the number of passes through the data increases, so does the probability of seeing that data given the updated (better) parameters. \n",
      "\n",
      "Also, notice that an increase in K is also increasing the probability of seeing the data given the parameters. Note that the true value of K=10 in this example. As K increases, it could 'appear' to increase probability of seeing data. Intuitively, this makes sense because if K approaches the number of data points, then the accuracy would increase as a point would not be misclassified. "
     ]
    },
    {
     "cell_type": "code",
     "collapsed": false,
     "input": [
      "bnpy.viz.PlotELBO.plotJobsThatMatchKeywords('MixBarsK10V900/demo-K=*');\n",
      "pylab.ylim([-7, -5])"
     ],
     "language": "python",
     "metadata": {},
     "outputs": [
      {
       "metadata": {},
       "output_type": "pyout",
       "prompt_number": 10,
       "text": [
        "(-7, -5)"
       ]
      },
      {
       "metadata": {},
       "output_type": "display_data",
       "png": "[encoded data removed]",
       "text": [
        "<matplotlib.figure.Figure at 0xb07c6d0>"
       ]
      }
     ],
     "prompt_number": 10
    },
    {
     "cell_type": "code",
     "collapsed": false,
     "input": [],
     "language": "python",
     "metadata": {},
     "outputs": []
    }
   ],
   "metadata": {}
  }
 ]
}
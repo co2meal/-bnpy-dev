{
 "metadata": {
  "name": ""
 },
 "nbformat": 3,
 "nbformat_minor": 0,
 "worksheets": [
  {
   "cells": [
    {
     "cell_type": "markdown",
     "metadata": {},
     "source": [
      "# Simple Gaussian Mixture Model on Toy Data"
     ]
    },
    {
     "cell_type": "markdown",
     "metadata": {},
     "source": [
      "## Goal\n",
      "\n",
      "This demo walks you through a \"Hello World\" example of using **bnpy** from within Python.\n",
      "\n",
      "We'll train a Gaussian mixture model using expectation maximization (EM). It should only take 30 seconds to produce a nice visualization.\n",
      "\n",
      "## Installation\n",
      "\n",
      "Follow [these instructions](../Installation.md) to make sure you've got **bnpy** and its dependencies installed correctly. \n",
      "\n",
      "Throughout this demo (and other demos), we'll assume you successfully installed **bnpy** in a directory which is on your **\\$PYTHONPATH**.\n",
      "\n",
      "We can use the following import statements to load bnpy."
     ]
    },
    {
     "cell_type": "code",
     "collapsed": false,
     "input": [
      "import bnpy"
     ],
     "language": "python",
     "metadata": {},
     "outputs": [],
     "prompt_number": 6
    },
    {
     "cell_type": "markdown",
     "metadata": {},
     "source": [
      "## Toy dataset : `AsteriskK8`"
     ]
    },
    {
     "cell_type": "markdown",
     "metadata": {},
     "source": [
      "We'll use a simple dataset of 2D points, drawn from 8 well-separated Gaussian clusters."
     ]
    },
    {
     "cell_type": "code",
     "collapsed": false,
     "input": [
      "import AsteriskK8\n",
      "Data = AsteriskK8.get_data()"
     ],
     "language": "python",
     "metadata": {},
     "outputs": []
    },
    {
     "cell_type": "markdown",
     "metadata": {},
     "source": [
      "We can visualize this dataset as follows:"
     ]
    },
    {
     "cell_type": "code",
     "collapsed": false,
     "input": [
      "from matplotlib import pylab\n",
      "%pylab inline"
     ],
     "language": "python",
     "metadata": {},
     "outputs": [
      {
       "output_type": "stream",
       "stream": "stdout",
       "text": [
        "Populating the interactive namespace from numpy and matplotlib\n"
       ]
      }
     ],
     "prompt_number": 10
    },
    {
     "cell_type": "code",
     "collapsed": false,
     "input": [
      "pylab.plot(Data.X[:,0], Data.X[:,1], 'k.');\n",
      "pylab.gcf().set_size_inches(4, 4);\n",
      "pylab.axis('image'); pylab.xlim([-1.75, 1.75]); pylab.ylim([-1.75, 1.75]);"
     ],
     "language": "python",
     "metadata": {},
     "outputs": [
      {
       "metadata": {},
       "output_type": "display_data",
       "png": "[encoded data removed]",
       "text": [
        "<matplotlib.figure.Figure at 0x95636f0>"
       ]
      }
     ],
     "prompt_number": 15
    },
    {
     "cell_type": "markdown",
     "metadata": {},
     "source": [
      "## Running inference with **bnpy**\n",
      "\n",
      "We'll fit a $K=8$ Gaussian mixture model to a simple toy dataset.  Here's the code along with its output to **stdout**.\n"
     ]
    },
    {
     "cell_type": "code",
     "collapsed": false,
     "input": [
      "hmodel, RInfo = bnpy.run('AsteriskK8', 'FiniteMixtureModel', 'Gauss', 'EM', nLap=50, K=8)"
     ],
     "language": "python",
     "metadata": {},
     "outputs": [
      {
       "output_type": "stream",
       "stream": "stdout",
       "text": [
        "Asterisk Toy Data. 8 true clusters.\n"
       ]
      },
      {
       "output_type": "stream",
       "stream": "stdout",
       "text": [
        "  size: 25000 units (single observations)\n",
        "  dimension: 2\n"
       ]
      },
      {
       "output_type": "stream",
       "stream": "stdout",
       "text": [
        "Allocation Model:  Finite mixture with K=8. Dir prior param 1.00\n",
        "Obs. Data  Model:  Gaussian with full covariance.\n",
        "Obs. Data  Prior:  Gauss-Wishart on each mean/prec matrix pair: mu, Lam\n",
        "  E[ mu[k] ]     = [ 0.  0.]\n",
        "  E[ CovMat[k] ] = \n",
        "  [[ 1.  0.]\n",
        "   [ 0.  1.]]\n"
       ]
      },
      {
       "output_type": "stream",
       "stream": "stdout",
       "text": [
        "Learn Alg: EM\n"
       ]
      },
      {
       "output_type": "stream",
       "stream": "stdout",
       "text": [
        "Trial  1/1 | alg. seed: 4226944 | data order seed: 8541952\n"
       ]
      },
      {
       "output_type": "stream",
       "stream": "stdout",
       "text": [
        "savepath: /results/AsteriskK8/defaultjob/1\n"
       ]
      },
      {
       "output_type": "stream",
       "stream": "stdout",
       "text": [
        "        1/50 after      0 sec. | K    8 | ev -5.233448743e+06 |  \n"
       ]
      },
      {
       "output_type": "stream",
       "stream": "stdout",
       "text": [
        "        2/50 after      0 sec. | K    8 | ev -7.255537859e-01 | Ndiff    469.916 \n"
       ]
      },
      {
       "output_type": "stream",
       "stream": "stdout",
       "text": [
        "        3/50 after      0 sec. | K    8 | ev -4.881217375e-01 | Ndiff    838.469 \n"
       ]
      },
      {
       "output_type": "stream",
       "stream": "stdout",
       "text": [
        "        4/50 after      0 sec. | K    8 | ev -3.600440237e-01 | Ndiff    624.909 \n"
       ]
      },
      {
       "output_type": "stream",
       "stream": "stdout",
       "text": [
        "        5/50 after      0 sec. | K    8 | ev -1.504401133e-01 | Ndiff    382.469 \n"
       ]
      },
      {
       "output_type": "stream",
       "stream": "stdout",
       "text": [
        "        6/50 after      0 sec. | K    8 | ev -1.208708327e-02 | Ndiff    621.636 \n"
       ]
      },
      {
       "output_type": "stream",
       "stream": "stdout",
       "text": [
        "        7/50 after      0 sec. | K    8 | ev  1.924327448e-02 | Ndiff    434.059 \n"
       ]
      },
      {
       "output_type": "stream",
       "stream": "stdout",
       "text": [
        "        8/50 after      0 sec. | K    8 | ev  4.236480859e-02 | Ndiff    239.341 \n"
       ]
      },
      {
       "output_type": "stream",
       "stream": "stdout",
       "text": [
        "        9/50 after      1 sec. | K    8 | ev  7.086226579e-02 | Ndiff    108.915 \n"
       ]
      },
      {
       "output_type": "stream",
       "stream": "stdout",
       "text": [
        "       10/50 after      1 sec. | K    8 | ev  1.053270414e-01 | Ndiff     16.711 \n"
       ]
      },
      {
       "output_type": "stream",
       "stream": "stdout",
       "text": [
        "       11/50 after      1 sec. | K    8 | ev  1.084152629e-01 | Ndiff      0.708 \n"
       ]
      },
      {
       "output_type": "stream",
       "stream": "stdout",
       "text": [
        "       12/50 after      1 sec. | K    8 | ev  1.084158112e-01 | Ndiff      0.019 \n"
       ]
      },
      {
       "output_type": "stream",
       "stream": "stdout",
       "text": [
        "... done. converged.\n"
       ]
      }
     ],
     "prompt_number": 7
    },
    {
     "cell_type": "markdown",
     "metadata": {},
     "source": [
      "That's it.  **bnpy.run** is the function that runs experiments. It handles loading data, constructing models and applying learning algorithms.\n",
      "\n",
      "## Frequently Asked Questions\n",
      "\n",
      "### Where are results saved?\n",
      "\n",
      "Model parameters will also be saved to a subdirectory of $BNPYOUTDIR."
     ]
    },
    {
     "cell_type": "markdown",
     "metadata": {},
     "source": [
      "### How do I plot the learned model parameters?\n",
      "\n",
      "We can examine the resulting model parameters (means and covariances) using **bnpy**'s built-in [visualization tools](../Code/Viz/Visualization.md)."
     ]
    },
    {
     "cell_type": "markdown",
     "metadata": {},
     "source": [
      "Specifically, we can use the `plotCompsForTask` method to visualize the final result of this run.  "
     ]
    },
    {
     "cell_type": "code",
     "collapsed": false,
     "input": [
      "bnpy.viz.PlotComps.plotCompsForTask('AsteriskK8/defaultjob/1/')"
     ],
     "language": "python",
     "metadata": {},
     "outputs": [
      {
       "metadata": {},
       "output_type": "display_data",
       "png": "[encoded data removed]",
       "text": [
        "<matplotlib.figure.Figure at 0x556e30>"
       ]
      }
     ],
     "prompt_number": 9
    },
    {
     "cell_type": "markdown",
     "metadata": {},
     "source": [
      "\n",
      "This creates a 2D plot of the 8 learned components (colored elliptical contours).\n",
      "\n",
      "Each component's Gaussian pdf is shown as a contour plot, where lines represent contours of equal probability density. The contours of a Gaussian always form an ellipse. \n"
     ]
    },
    {
     "cell_type": "markdown",
     "metadata": {},
     "source": [
      "### Will the solution always be perfect?\n",
      "\n",
      "No learning algorithm in **bnpy** is guaranteed to find the best solution.  Instead, EM and variational inference are vulnerable to *local optima*. We think this is important to highlight from the first demo, to raise awareness of this issue."
     ]
    }
   ],
   "metadata": {}
  }
 ]
}
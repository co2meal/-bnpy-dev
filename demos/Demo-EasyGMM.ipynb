{
 "metadata": {
  "name": ""
 },
 "nbformat": 3,
 "nbformat_minor": 0,
 "worksheets": [
  {
   "cells": [
    {
     "cell_type": "markdown",
     "metadata": {},
     "source": [
      "# Easy Gaussian Mixture Model"
     ]
    },
    {
     "cell_type": "markdown",
     "metadata": {},
     "source": [
      "## Goal\n",
      "\n",
      "This demo walks you through a \"Hello World\" example of using **bnpy** from the terminal.\n",
      "\n",
      "We'll train a Gaussian mixture model using expectation maximization (EM). It should only take 30 seconds to produce a nice visualization."
     ]
    },
    {
     "cell_type": "markdown",
     "metadata": {},
     "source": [
      "## Installation\n",
      "\n",
      "Follow [these instructions](../Installation.md) to make sure you've got **bnpy** and its dependencies installed correctly. \n",
      "\n",
      "Throughout this demo (and other demos), we'll assume you successfully installed **bnpy** in a directory called **\\$BNPYROOT**, which is on your **\\$PYTHONPATH**.\n",
      "\n"
     ]
    },
    {
     "cell_type": "markdown",
     "metadata": {},
     "source": [
      "## Configuration\n",
      "\n",
      "To get started, we just need to set up a few Unix environment variables so **bnpy** knows where to get data and save results.\n",
      "\n",
      "Open a terminal. First, tell **bnpy** where to save results on your local file system.\n",
      "\n",
      "```\n",
      "export BNPYOUTDIR=/path/to/my/results/\n",
      "```\n",
      "\n",
      "Next, tell **bnpy** where the data lives. We'll use a pre-packaged demo dataset for now.\n",
      "\n",
      "```\n",
      "export BNPYDATADIR=$BNPYROOT/demodata/\n",
      "```\n"
     ]
    },
    {
     "cell_type": "markdown",
     "metadata": {},
     "source": [
      "## Single run with K=8\n",
      "\n",
      "\n",
      "We'll fit a $K=8$ Gaussian mixture model to a simple toy dataset.  Here's the code along with its output to **stdout**.\n"
     ]
    },
    {
     "cell_type": "code",
     "collapsed": false,
     "input": [
      "import bnpy\n",
      "\n",
      "hmodel, RInfo = bnpy.run('AsteriskK8', 'MixModel', 'Gauss', 'EM', nLap=50, K=8)"
     ],
     "language": "python",
     "metadata": {},
     "outputs": [
      {
       "output_type": "stream",
       "stream": "stdout",
       "text": [
        "Asterisk Toy Data. 8 true clusters.\n"
       ]
      },
      {
       "output_type": "stream",
       "stream": "stdout",
       "text": [
        "  size: 25000 units (single observations)\n",
        "  dimension: 2\n"
       ]
      },
      {
       "output_type": "stream",
       "stream": "stdout",
       "text": [
        "Allocation Model:  Finite mixture with K=8. Dir prior param 1.00\n",
        "Obs. Data  Model:  Gaussian with full covariance.\n",
        "Obs. Data  Prior:  Gauss-Wishart on each mean/prec matrix pair: mu, Lam\n",
        "  E[ mu[k] ]     = [ 0.  0.]\n",
        "  E[ CovMat[k] ] = \n",
        "  [[ 1.  0.]\n",
        "   [ 0.  1.]]\n"
       ]
      },
      {
       "output_type": "stream",
       "stream": "stdout",
       "text": [
        "Learn Alg: EM\n"
       ]
      },
      {
       "output_type": "stream",
       "stream": "stdout",
       "text": [
        "Trial  1/1 | alg. seed: 4226944 | data order seed: 8541952\n"
       ]
      },
      {
       "output_type": "stream",
       "stream": "stdout",
       "text": [
        "savepath: /Users/Jens/Dropbox/dev/research/ML/out/AsteriskK8/defaultjob/1\n"
       ]
      },
      {
       "output_type": "stream",
       "stream": "stdout",
       "text": [
        "        1/50 after      0 sec. | K    8 | ev -5.233448743e+06 |  \n"
       ]
      },
      {
       "output_type": "stream",
       "stream": "stdout",
       "text": [
        "        2/50 after      0 sec. | K    8 | ev -7.255537859e-01 | Ndiff    469.916 \n"
       ]
      },
      {
       "output_type": "stream",
       "stream": "stdout",
       "text": [
        "        3/50 after      0 sec. | K    8 | ev -4.881217375e-01 | Ndiff    838.469 \n"
       ]
      },
      {
       "output_type": "stream",
       "stream": "stdout",
       "text": [
        "        4/50 after      0 sec. | K    8 | ev -3.600440237e-01 | Ndiff    624.909 \n"
       ]
      },
      {
       "output_type": "stream",
       "stream": "stdout",
       "text": [
        "        5/50 after      0 sec. | K    8 | ev -1.504401133e-01 | Ndiff    382.469 \n"
       ]
      },
      {
       "output_type": "stream",
       "stream": "stdout",
       "text": [
        "        6/50 after      0 sec. | K    8 | ev -1.208708327e-02 | Ndiff    621.636 \n"
       ]
      },
      {
       "output_type": "stream",
       "stream": "stdout",
       "text": [
        "        7/50 after      0 sec. | K    8 | ev  1.924327448e-02 | Ndiff    434.059 \n"
       ]
      },
      {
       "output_type": "stream",
       "stream": "stdout",
       "text": [
        "        8/50 after      0 sec. | K    8 | ev  4.236480859e-02 | Ndiff    239.341 \n"
       ]
      },
      {
       "output_type": "stream",
       "stream": "stdout",
       "text": [
        "        9/50 after      0 sec. | K    8 | ev  7.086226579e-02 | Ndiff    108.915 \n"
       ]
      },
      {
       "output_type": "stream",
       "stream": "stdout",
       "text": [
        "       10/50 after      0 sec. | K    8 | ev  1.053270414e-01 | Ndiff     16.711 \n"
       ]
      },
      {
       "output_type": "stream",
       "stream": "stdout",
       "text": [
        "       11/50 after      0 sec. | K    8 | ev  1.084152629e-01 | Ndiff      0.708 \n"
       ]
      },
      {
       "output_type": "stream",
       "stream": "stdout",
       "text": [
        "       12/50 after      0 sec. | K    8 | ev  1.084158112e-01 | Ndiff      0.019 \n"
       ]
      },
      {
       "output_type": "stream",
       "stream": "stdout",
       "text": [
        "... done. converged.\n"
       ]
      }
     ],
     "prompt_number": 1
    },
    {
     "cell_type": "markdown",
     "metadata": {},
     "source": [
      "\n",
      "That's it.  **bnpy.run** is the function that runs experiments. It handles loading data, constructing models and applying learning algorithms. You can learn more about its syntax in TODO tutorial.\n",
      "\n",
      "Other pages provide more info about [interpreting the transcript TODO].\n",
      "\n",
      "Model parameters will also be saved to a subdirectory of $BNPYOUTDIR."
     ]
    },
    {
     "cell_type": "markdown",
     "metadata": {},
     "source": [
      "### Plot results\n",
      "\n",
      "The above experiment trained a $K=8$ component GMM via the EM algorithm.  We can examine the resulting model parameters (means and covariances) using **bnpy**'s built-in [visualization tools](../Code/Viz/Visualization.md).\n",
      "\n"
     ]
    },
    {
     "cell_type": "code",
     "collapsed": false,
     "input": [
      "bnpy.viz.PlotComps.plotCompsForJob('AsteriskK8/defaultjob/')"
     ],
     "language": "python",
     "metadata": {},
     "outputs": [
      {
       "metadata": {},
       "output_type": "display_data",
       "png": "[encoded data removed]",
       "text": [
        "<matplotlib.figure.Figure at 0x1073a8d50>"
       ]
      }
     ],
     "prompt_number": 2
    },
    {
     "cell_type": "markdown",
     "metadata": {},
     "source": [
      "\n",
      "This creates a 2D plot with learned components (colored elliptical contours).\n",
      "\n",
      "Each component's Gaussian pdf is shown as a contour plot, where lines represent contours of equal probability density. The contours of a Gaussian always form an ellipse. \n"
     ]
    },
    {
     "cell_type": "markdown",
     "metadata": {},
     "source": [
      "### Will the solution always be perfect?\n",
      "\n",
      "No learning algorithm in **bnpy** is guaranteed to find the best solution.  Instead, EM and variational inference are vulnerable to *local optima*. We think this is important to highlight from the first demo, to raise awareness of this issue."
     ]
    }
   ],
   "metadata": {}
  }
 ]
}
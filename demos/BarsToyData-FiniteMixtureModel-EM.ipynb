{
 "metadata": {
  "name": "",
  "signature": "sha256:1c64383a975a2bb94877f664f784118ffc5c47ebd2d0c740c7a2ecf709e11bcc"
 },
 "nbformat": 3,
 "nbformat_minor": 0,
 "worksheets": [
  {
   "cells": [
    {
     "cell_type": "markdown",
     "metadata": {},
     "source": [
      "# Learning a Multinomial Mixture Model on Toy Bars Data with EM"
     ]
    },
    {
     "cell_type": "markdown",
     "metadata": {},
     "source": [
      "##Goal\n",
      "\n",
      "This demo intends to walk through the training of a multinomial mixture model running **EM algorithm** on the Toy Bars dataset. \n",
      "\n",
      "We can use the following import statements to load **bnpy** and other necessary packages. "
     ]
    },
    {
     "cell_type": "code",
     "collapsed": false,
     "input": [
      "import numpy as np\n",
      "import bnpy\n",
      "\n",
      "from matplotlib import pylab\n",
      "%pylab inline\n",
      "\n",
      "imshowArgs = dict(interpolation='nearest', \n",
      "                  cmap='bone_r', \n",
      "                  vmin=0.0, \n",
      "                  vmax=10./900,\n",
      "                  )"
     ],
     "language": "python",
     "metadata": {},
     "outputs": [
      {
       "output_type": "stream",
       "stream": "stdout",
       "text": [
        "Populating the interactive namespace from numpy and matplotlib\n"
       ]
      }
     ],
     "prompt_number": 1
    },
    {
     "cell_type": "markdown",
     "metadata": {},
     "source": [
      "## Toy dataset : `MixBarsK10V900`\n",
      "\n",
      "We'll use a simple \"toy bars\" dataset generated from a **mixture model**. The MixBarsK10V900 dataset consists of documents of 10 different topics and 900 words. Below is a visualization of the dataset where each pixel represents a word and its intensity is specified by an integer value between zero and infinity that indicates the frequency of the word. This dataset is of the same form as a word-document matrix constructed from a set of documents. \n",
      "\n",
      "**Our task here is to assign exactly one cluster to every whole document. Be aware that this is different than assigning a cluster/topic to each word token, like in LDA or HDP topic models. ** "
     ]
    },
    {
     "cell_type": "code",
     "collapsed": false,
     "input": [
      "import MixBarsK10V900\n",
      "Data = MixBarsK10V900.get_data()\n",
      "Data.name = 'MixBarsK10V900'\n",
      "bnpy.viz.BarsViz.plotExampleBarsDocs(Data)"
     ],
     "language": "python",
     "metadata": {},
     "outputs": [
      {
       "metadata": {},
       "output_type": "display_data",
       "png": "[encoded data removed]",
       "text": [
        "<matplotlib.figure.Figure at 0x110f0e790>"
       ]
      }
     ],
     "prompt_number": 2
    },
    {
     "cell_type": "markdown",
     "metadata": {},
     "source": [
      "We can now visualize the 10 \"true\" topics. Each topic bar is a distribution over the 900 words in the vocabulary. "
     ]
    },
    {
     "cell_type": "code",
     "collapsed": false,
     "input": [
      "bnpy.viz.BarsViz.showTopicsAsSquareImages(MixBarsK10V900.Defaults['topics'], **imshowArgs);"
     ],
     "language": "python",
     "metadata": {},
     "outputs": [
      {
       "metadata": {},
       "output_type": "display_data",
       "png": "[encoded data removed]",
       "text": [
        "<matplotlib.figure.Figure at 0x113b4d490>"
       ]
      }
     ],
     "prompt_number": 3
    },
    {
     "cell_type": "markdown",
     "metadata": {},
     "source": [
      "## Running inference with EM\n",
      "\n",
      "We now fit the mixture model with **multinomial likelihood** using EM algorithm. We specify the number of topics to be the true number of topics, i.e., $K=10$."
     ]
    },
    {
     "cell_type": "code",
     "collapsed": false,
     "input": [
      "hmodel, RInfo = bnpy.run(Data, 'FiniteMixtureModel', 'Mult', 'EM', \n",
      "                         jobname='true-K-randexamples', K=10, nLap=100, nTask=5,\n",
      "                         initname='randexamples')"
     ],
     "language": "python",
     "metadata": {},
     "outputs": [
      {
       "output_type": "stream",
       "stream": "stdout",
       "text": [
        "Toy Bars Data with 10 true topics. Each doc uses ONE topic.\n"
       ]
      },
      {
       "output_type": "stream",
       "stream": "stdout",
       "text": [
        "  size: 2000 units (documents)\n",
        "  vocab size: 900\n",
        "  min    5%   50%   95%   max \n",
        "  154   163   171   180   189  nUniqueTokensPerDoc\n",
        "  360   360   360   360   360  nTotalTokensPerDoc\n",
        "Hist of word_count across tokens \n",
        "      1      2      3    <10   <100  >=100\n",
        "   0.40   0.29   0.18   0.13      2      0\n",
        "Hist of unique docs per word type\n",
        "     <1    <10   <100  <0.10  <0.20  <0.50 >=0.50\n",
        "      0      0      0      0   0.83   0.17      0\n"
       ]
      },
      {
       "output_type": "stream",
       "stream": "stdout",
       "text": [
        "Allocation Model:  Finite mixture with K=10. Dir prior param 1.00\n",
        "Obs. Data  Model:  Multinomial over finite vocabulary.\n",
        "Obs. Data  Prior:  Dirichlet over finite vocabulary \n",
        "  lam = [ 0.1  0.1] ...\n"
       ]
      },
      {
       "output_type": "stream",
       "stream": "stdout",
       "text": [
        "Learn Alg: EM\n"
       ]
      },
      {
       "output_type": "stream",
       "stream": "stdout",
       "text": [
        "Trial  1/5 | alg. seed: 148736 | data order seed: 8541952\n"
       ]
      },
      {
       "output_type": "stream",
       "stream": "stdout",
       "text": [
        "savepath: /Users/mni/bnpy-dev/results/MixBarsK10V900/true-K-randexamples/1\n"
       ]
      },
      {
       "output_type": "stream",
       "stream": "stdout",
       "text": [
        "        1/100 after      0 sec. | K   10 | ev -7.542317373e+00 |  \n"
       ]
      },
      {
       "output_type": "stream",
       "stream": "stdout",
       "text": [
        "        2/100 after      0 sec. | K   10 | ev -5.831483579e+00 | Ndiff  253.784 \n"
       ]
      },
      {
       "output_type": "stream",
       "stream": "stdout",
       "text": [
        "        3/100 after      0 sec. | K   10 | ev -5.606701414e+00 | Ndiff   90.436 \n"
       ]
      },
      {
       "output_type": "stream",
       "stream": "stdout",
       "text": [
        "        4/100 after      0 sec. | K   10 | ev -5.530232929e+00 | Ndiff  104.168 \n"
       ]
      },
      {
       "output_type": "stream",
       "stream": "stdout",
       "text": [
        "        5/100 after      0 sec. | K   10 | ev -5.470397894e+00 | Ndiff   36.057 \n"
       ]
      },
      {
       "output_type": "stream",
       "stream": "stdout",
       "text": [
        "        6/100 after      0 sec. | K   10 | ev -5.453857799e+00 | Ndiff    0.016 \n"
       ]
      },
      {
       "output_type": "stream",
       "stream": "stdout",
       "text": [
        "... done. converged.\n"
       ]
      },
      {
       "output_type": "stream",
       "stream": "stdout",
       "text": [
        "Trial  2/5 | alg. seed: 4646912 | data order seed: 7673856\n"
       ]
      },
      {
       "output_type": "stream",
       "stream": "stdout",
       "text": [
        "savepath: /Users/mni/bnpy-dev/results/MixBarsK10V900/true-K-randexamples/2\n"
       ]
      },
      {
       "output_type": "stream",
       "stream": "stdout",
       "text": [
        "        1/100 after      0 sec. | K   10 | ev -7.483458549e+00 |  \n"
       ]
      },
      {
       "output_type": "stream",
       "stream": "stdout",
       "text": [
        "        2/100 after      0 sec. | K   10 | ev -5.739500119e+00 | Ndiff  148.630 \n"
       ]
      },
      {
       "output_type": "stream",
       "stream": "stdout",
       "text": [
        "        3/100 after      0 sec. | K   10 | ev -5.512282152e+00 | Ndiff   95.739 \n"
       ]
      },
      {
       "output_type": "stream",
       "stream": "stdout",
       "text": [
        "        4/100 after      0 sec. | K   10 | ev -5.456792673e+00 | Ndiff    5.999 \n"
       ]
      },
      {
       "output_type": "stream",
       "stream": "stdout",
       "text": [
        "        5/100 after      0 sec. | K   10 | ev -5.453857391e+00 | Ndiff    0.000 \n"
       ]
      },
      {
       "output_type": "stream",
       "stream": "stdout",
       "text": [
        "... done. converged.\n"
       ]
      },
      {
       "output_type": "stream",
       "stream": "stdout",
       "text": [
        "Trial  3/5 | alg. seed: 6302080 | data order seed: 7360256\n"
       ]
      },
      {
       "output_type": "stream",
       "stream": "stdout",
       "text": [
        "savepath: /Users/mni/bnpy-dev/results/MixBarsK10V900/true-K-randexamples/3\n"
       ]
      },
      {
       "output_type": "stream",
       "stream": "stdout",
       "text": [
        "        1/100 after      0 sec. | K   10 | ev -7.602629156e+00 |  \n"
       ]
      },
      {
       "output_type": "stream",
       "stream": "stdout",
       "text": [
        "        2/100 after      0 sec. | K   10 | ev -5.857246004e+00 | Ndiff  132.504 \n"
       ]
      },
      {
       "output_type": "stream",
       "stream": "stdout",
       "text": [
        "        3/100 after      0 sec. | K   10 | ev -5.604489205e+00 | Ndiff  145.529 \n"
       ]
      },
      {
       "output_type": "stream",
       "stream": "stdout",
       "text": [
        "        4/100 after      0 sec. | K   10 | ev -5.548839437e+00 | Ndiff    0.402 \n"
       ]
      },
      {
       "output_type": "stream",
       "stream": "stdout",
       "text": [
        "        5/100 after      0 sec. | K   10 | ev -5.548829321e+00 | Ndiff    0.674 \n"
       ]
      },
      {
       "output_type": "stream",
       "stream": "stdout",
       "text": [
        "        6/100 after      0 sec. | K   10 | ev -5.548823318e+00 | Ndiff    0.465 \n"
       ]
      },
      {
       "output_type": "stream",
       "stream": "stdout",
       "text": [
        "        7/100 after      0 sec. | K   10 | ev -5.548820026e+00 | Ndiff    0.356 \n"
       ]
      },
      {
       "output_type": "stream",
       "stream": "stdout",
       "text": [
        "        8/100 after      0 sec. | K   10 | ev -5.548818171e+00 | Ndiff    0.349 \n"
       ]
      },
      {
       "output_type": "stream",
       "stream": "stdout",
       "text": [
        "        9/100 after      0 sec. | K   10 | ev -5.548808897e+00 | Ndiff    0.475 \n"
       ]
      },
      {
       "output_type": "stream",
       "stream": "stdout",
       "text": [
        "       10/100 after      0 sec. | K   10 | ev -5.548799965e+00 | Ndiff    0.025 \n"
       ]
      },
      {
       "output_type": "stream",
       "stream": "stdout",
       "text": [
        "... done. converged.\n"
       ]
      },
      {
       "output_type": "stream",
       "stream": "stdout",
       "text": [
        "Trial  4/5 | alg. seed: 8728576 | data order seed: 900864\n"
       ]
      },
      {
       "output_type": "stream",
       "stream": "stdout",
       "text": [
        "savepath: /Users/mni/bnpy-dev/results/MixBarsK10V900/true-K-randexamples/4\n"
       ]
      },
      {
       "output_type": "stream",
       "stream": "stdout",
       "text": [
        "        1/100 after      0 sec. | K   10 | ev -8.188722338e+00 |  \n"
       ]
      },
      {
       "output_type": "stream",
       "stream": "stdout",
       "text": [
        "        2/100 after      0 sec. | K   10 | ev -5.855973091e+00 | Ndiff  192.865 \n"
       ]
      },
      {
       "output_type": "stream",
       "stream": "stdout",
       "text": [
        "        3/100 after      0 sec. | K   10 | ev -5.581170143e+00 | Ndiff  145.047 \n"
       ]
      },
      {
       "output_type": "stream",
       "stream": "stdout",
       "text": [
        "        4/100 after      0 sec. | K   10 | ev -5.540985315e+00 | Ndiff    0.000 \n"
       ]
      },
      {
       "output_type": "stream",
       "stream": "stdout",
       "text": [
        "... done. converged.\n"
       ]
      },
      {
       "output_type": "stream",
       "stream": "stdout",
       "text": [
        "Trial  5/5 | alg. seed: 2384256 | data order seed: 6479872\n"
       ]
      },
      {
       "output_type": "stream",
       "stream": "stdout",
       "text": [
        "savepath: /Users/mni/bnpy-dev/results/MixBarsK10V900/true-K-randexamples/5\n"
       ]
      },
      {
       "output_type": "stream",
       "stream": "stdout",
       "text": [
        "        1/100 after      0 sec. | K   10 | ev -7.176624792e+00 |  \n"
       ]
      },
      {
       "output_type": "stream",
       "stream": "stdout",
       "text": [
        "        2/100 after      0 sec. | K   10 | ev -5.669426901e+00 | Ndiff  137.281 \n"
       ]
      },
      {
       "output_type": "stream",
       "stream": "stdout",
       "text": [
        "        3/100 after      0 sec. | K   10 | ev -5.554618076e+00 | Ndiff    2.048 \n"
       ]
      },
      {
       "output_type": "stream",
       "stream": "stdout",
       "text": [
        "        4/100 after      0 sec. | K   10 | ev -5.554472417e+00 | Ndiff    0.020 \n"
       ]
      },
      {
       "output_type": "stream",
       "stream": "stdout",
       "text": [
        "... done. converged.\n"
       ]
      }
     ],
     "prompt_number": 4
    },
    {
     "cell_type": "markdown",
     "metadata": {},
     "source": [
      "Below is a visualization to show the learned topic-word parameters. we can see that EM algorithm successfully recovers all 10 topcis."
     ]
    },
    {
     "cell_type": "code",
     "collapsed": false,
     "input": [
      "bnpy.viz.PlotComps.plotCompsForJob('MixBarsK10V900/true-K-randexamples', **imshowArgs)"
     ],
     "language": "python",
     "metadata": {},
     "outputs": [],
     "prompt_number": 6
    },
    {
     "cell_type": "markdown",
     "metadata": {},
     "source": [
      "## K-means initialization \n",
      "\n",
      "Runs kmeans on the empirical document word-count vectors, using the specified number of clusters $K$. "
     ]
    },
    {
     "cell_type": "code",
     "collapsed": false,
     "input": [
      "hmodel, RInfo = bnpy.run(Data, 'FiniteMixtureModel', 'Mult', 'EM', \n",
      "                         jobname='true-K-kmeans', K=10, nLap=500, nTask=5,\n",
      "                         initname='kmeansplusplus')"
     ],
     "language": "python",
     "metadata": {},
     "outputs": [
      {
       "output_type": "stream",
       "stream": "stdout",
       "text": [
        "Toy Bars Data with 10 true topics. Each doc uses ONE topic.\n"
       ]
      },
      {
       "output_type": "stream",
       "stream": "stdout",
       "text": [
        "  size: 2000 units (documents)\n",
        "  vocab size: 900\n",
        "  min    5%   50%   95%   max \n",
        "  154   163   171   180   189  nUniqueTokensPerDoc\n",
        "  360   360   360   360   360  nTotalTokensPerDoc\n",
        "Hist of word_count across tokens \n",
        "      1      2      3    <10   <100  >=100\n",
        "   0.40   0.29   0.18   0.13      2      0\n",
        "Hist of unique docs per word type\n",
        "     <1    <10   <100  <0.10  <0.20  <0.50 >=0.50\n",
        "      0      0      0      0   0.83   0.17      0\n"
       ]
      },
      {
       "output_type": "stream",
       "stream": "stdout",
       "text": [
        "Allocation Model:  Finite mixture with K=10. Dir prior param 1.00\n",
        "Obs. Data  Model:  Multinomial over finite vocabulary.\n",
        "Obs. Data  Prior:  Dirichlet over finite vocabulary \n",
        "  lam = [ 0.1  0.1] ...\n"
       ]
      },
      {
       "output_type": "stream",
       "stream": "stdout",
       "text": [
        "Learn Alg: EM\n"
       ]
      },
      {
       "output_type": "stream",
       "stream": "stdout",
       "text": [
        "Trial  1/5 | alg. seed: 148736 | data order seed: 8541952\n"
       ]
      },
      {
       "output_type": "stream",
       "stream": "stdout",
       "text": [
        "savepath: /Users/mni/bnpy-dev/results/MixBarsK10V900/true-K-kmeans/1\n"
       ]
      },
      {
       "output_type": "stream",
       "stream": "stdout",
       "text": [
        "        1/500 after      0 sec. | K   10 | ev -5.552926250e+00 |  \n"
       ]
      },
      {
       "output_type": "stream",
       "stream": "stdout",
       "text": [
        "        2/500 after      0 sec. | K   10 | ev -5.550570336e+00 | Ndiff    0.000 \n"
       ]
      },
      {
       "output_type": "stream",
       "stream": "stdout",
       "text": [
        "... done. converged.\n"
       ]
      },
      {
       "output_type": "stream",
       "stream": "stdout",
       "text": [
        "Trial  2/5 | alg. seed: 4646912 | data order seed: 7673856\n"
       ]
      },
      {
       "output_type": "stream",
       "stream": "stdout",
       "text": [
        "savepath: /Users/mni/bnpy-dev/results/MixBarsK10V900/true-K-kmeans/2\n"
       ]
      },
      {
       "output_type": "stream",
       "stream": "stdout",
       "text": [
        "        1/500 after      0 sec. | K   10 | ev -5.543849940e+00 |  \n"
       ]
      },
      {
       "output_type": "stream",
       "stream": "stdout",
       "text": [
        "        2/500 after      0 sec. | K   10 | ev -5.541390292e+00 | Ndiff    1.000 \n"
       ]
      },
      {
       "output_type": "stream",
       "stream": "stdout",
       "text": [
        "        3/500 after      0 sec. | K   10 | ev -5.540979315e+00 | Ndiff    0.000 \n"
       ]
      },
      {
       "output_type": "stream",
       "stream": "stdout",
       "text": [
        "... done. converged.\n"
       ]
      },
      {
       "output_type": "stream",
       "stream": "stdout",
       "text": [
        "Trial  3/5 | alg. seed: 6302080 | data order seed: 7360256\n"
       ]
      },
      {
       "output_type": "stream",
       "stream": "stdout",
       "text": [
        "savepath: /Users/mni/bnpy-dev/results/MixBarsK10V900/true-K-kmeans/3\n"
       ]
      },
      {
       "output_type": "stream",
       "stream": "stdout",
       "text": [
        "        1/500 after      0 sec. | K   10 | ev -5.553421943e+00 |  \n"
       ]
      },
      {
       "output_type": "stream",
       "stream": "stdout",
       "text": [
        "        2/500 after      0 sec. | K   10 | ev -5.551124852e+00 | Ndiff    0.000 \n"
       ]
      },
      {
       "output_type": "stream",
       "stream": "stdout",
       "text": [
        "... done. converged.\n"
       ]
      },
      {
       "output_type": "stream",
       "stream": "stdout",
       "text": [
        "Trial  4/5 | alg. seed: 8728576 | data order seed: 900864\n"
       ]
      },
      {
       "output_type": "stream",
       "stream": "stdout",
       "text": [
        "savepath: /Users/mni/bnpy-dev/results/MixBarsK10V900/true-K-kmeans/4\n"
       ]
      },
      {
       "output_type": "stream",
       "stream": "stdout",
       "text": [
        "        1/500 after      0 sec. | K   10 | ev -5.554716444e+00 |  \n"
       ]
      },
      {
       "output_type": "stream",
       "stream": "stdout",
       "text": [
        "        2/500 after      0 sec. | K   10 | ev -5.552402473e+00 | Ndiff    0.000 \n"
       ]
      },
      {
       "output_type": "stream",
       "stream": "stdout",
       "text": [
        "... done. converged.\n"
       ]
      },
      {
       "output_type": "stream",
       "stream": "stdout",
       "text": [
        "Trial  5/5 | alg. seed: 2384256 | data order seed: 6479872\n"
       ]
      },
      {
       "output_type": "stream",
       "stream": "stdout",
       "text": [
        "savepath: /Users/mni/bnpy-dev/results/MixBarsK10V900/true-K-kmeans/5\n"
       ]
      },
      {
       "output_type": "stream",
       "stream": "stdout",
       "text": [
        "        1/500 after      0 sec. | K   10 | ev -5.554779268e+00 |  \n"
       ]
      },
      {
       "output_type": "stream",
       "stream": "stdout",
       "text": [
        "        2/500 after      0 sec. | K   10 | ev -5.552495903e+00 | Ndiff    0.949 \n"
       ]
      },
      {
       "output_type": "stream",
       "stream": "stdout",
       "text": [
        "        3/500 after      0 sec. | K   10 | ev -5.552481912e+00 | Ndiff    0.078 \n"
       ]
      },
      {
       "output_type": "stream",
       "stream": "stdout",
       "text": [
        "        4/500 after      0 sec. | K   10 | ev -5.552480817e+00 | Ndiff    0.181 \n"
       ]
      },
      {
       "output_type": "stream",
       "stream": "stdout",
       "text": [
        "        5/500 after      0 sec. | K   10 | ev -5.552472098e+00 | Ndiff    0.105 \n"
       ]
      },
      {
       "output_type": "stream",
       "stream": "stdout",
       "text": [
        "        6/500 after      0 sec. | K   10 | ev -5.552463151e+00 | Ndiff    0.101 \n"
       ]
      },
      {
       "output_type": "stream",
       "stream": "stdout",
       "text": [
        "        7/500 after      0 sec. | K   10 | ev -5.552463072e+00 | Ndiff    0.000 \n"
       ]
      },
      {
       "output_type": "stream",
       "stream": "stdout",
       "text": [
        "... done. converged.\n"
       ]
      }
     ],
     "prompt_number": 7
    },
    {
     "cell_type": "markdown",
     "metadata": {},
     "source": [
      "## Comparing randexamples initialization with kmeansplusplus"
     ]
    },
    {
     "cell_type": "code",
     "collapsed": false,
     "input": [
      "bnpy.viz.PlotELBO.plotJobsThatMatchKeywords('MixBarsK10V900/true-K-*')\n",
      "pylab.ylim([-10, -5])\n",
      "pylab.legend(loc='lower right');"
     ],
     "language": "python",
     "metadata": {},
     "outputs": [
      {
       "metadata": {},
       "output_type": "display_data",
       "png": "[encoded data removed]",
       "text": [
        "<matplotlib.figure.Figure at 0x11430cb10>"
       ]
      }
     ],
     "prompt_number": 8
    },
    {
     "cell_type": "markdown",
     "metadata": {},
     "source": [
      "Both initialization methods converge to the same objective function value, but kmeansplusplus procedure has a higher convergence rate."
     ]
    },
    {
     "cell_type": "markdown",
     "metadata": {},
     "source": [
      "## EM at different values of K\n",
      "By varying the value of $K$, we specify the number of clusters in the mixture model. We can repeat the experiment above with $K=5, 10, 20, 50$."
     ]
    },
    {
     "cell_type": "code",
     "collapsed": false,
     "input": [
      "for K in [5, 10, 20, 50]: \n",
      "    hmodel, RInfo = bnpy.run(Data, 'FiniteMixtureModel', 'Mult', 'EM', jobname='em-K=%d'%(K),\n",
      "                             K=K, nLap=100, doWriteStdOut=False, nTask = 1)\n",
      "    print 'K=%3d | final ev % .5f' % (K, RInfo['evBound'])"
     ],
     "language": "python",
     "metadata": {},
     "outputs": [
      {
       "output_type": "stream",
       "stream": "stdout",
       "text": [
        "K=  5 | final ev -5.97316\n",
        "K= 10 | final ev -5.63832"
       ]
      },
      {
       "output_type": "stream",
       "stream": "stdout",
       "text": [
        "\n",
        "K= 20 | final ev -5.44802"
       ]
      },
      {
       "output_type": "stream",
       "stream": "stdout",
       "text": [
        "\n",
        "K= 50 | final ev -5.43334"
       ]
      },
      {
       "output_type": "stream",
       "stream": "stdout",
       "text": [
        "\n"
       ]
      }
     ],
     "prompt_number": 9
    },
    {
     "cell_type": "markdown",
     "metadata": {},
     "source": [
      "From the results above, we can see that EM algorithm converges at different log-likelihood with different values of $K$. We can describe this difference by plotting the **log evidence (ELBO)** against the number of iterations, which is shown in the plot below. In general, the log evidence increases as the value of $K$ increases. In particular, when $K=5$, we have a degenerate model which produces a very bad estimate of the true data. Such difference in log evidence becomes smaller as $K$ becomes large. "
     ]
    },
    {
     "cell_type": "code",
     "collapsed": false,
     "input": [
      "bnpy.viz.PlotELBO.plotJobsThatMatchKeywords('MixBarsK10V900/em-K=*')\n",
      "pylab.ylim([-10, -5])"
     ],
     "language": "python",
     "metadata": {},
     "outputs": [
      {
       "metadata": {},
       "output_type": "pyout",
       "prompt_number": 10,
       "text": [
        "(-10, -5)"
       ]
      },
      {
       "metadata": {},
       "output_type": "display_data",
       "png": "[encoded data removed]",
       "text": [
        "<matplotlib.figure.Figure at 0x1147255d0>"
       ]
      }
     ],
     "prompt_number": 10
    },
    {
     "cell_type": "code",
     "collapsed": false,
     "input": [],
     "language": "python",
     "metadata": {},
     "outputs": []
    }
   ],
   "metadata": {}
  }
 ]
}
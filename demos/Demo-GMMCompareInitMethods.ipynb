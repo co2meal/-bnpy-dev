{
 "metadata": {
  "name": ""
 },
 "nbformat": 3,
 "nbformat_minor": 0,
 "worksheets": [
  {
   "cells": [
    {
     "cell_type": "markdown",
     "metadata": {},
     "source": [
      "# Comparing initialization methods: GMM-EM\n",
      "\n",
      "## Goal\n",
      "\n",
      "We saw in the [Comparing Multiple Runs](./GMMCompareRuns.md) demo how to compare solution qualities across multiple runs of the same algorithm.  Here, we'll see how **bnpy** can be used to run an experiment comparing two initialization methods, \"randexamples\" and \"randexamplesbydist\".  We'll apply a Gaussian mixture model to the Asterisk data using the EM algorithm.\n",
      "\n",
      "## Initialization Methods\n",
      "\n",
      "We'll consider two methods here. For more background on possible initializations, see the [Initialization documentation TODO](../Code/Initialization.md).\n",
      "\n",
      "### Method A: \"select examples uniformly at random\"\n",
      "\n",
      "To initialize K clusters, we select K items uniformly at random from all N data items, and initialize the model as if each item was the only member of its corresponding component.\n",
      "\n",
      "One problem with this simplistic method is that it doesn't account for distances between selected points.  When using Gaussian observation models, it can be beneficial for initialized clusters to be spread out so all major clusters are covered.\n",
      "\n",
      "Note: this is the default initialization for **bnpy**.\n",
      "\n",
      "### Method B: \"select examples randomly, but biased by Euclidean distance\"\n",
      "\n",
      "A simple but robust initialization would be to choose K items in a distance-biased way, instead of uniformly at random.  We pick the first item at random from the data, and then for each successive component select an item n with probability proportional to its distance from the nearest chosen item.\n",
      "\n",
      "```\n",
      "p_{nk} \\propto \\min_{j \\in 1, 2, \\ldots k} || x_n - \\bar{x}_j ||\n",
      "\n",
      "sample observation id n with prob. p_{nk}\n",
      "\n",
      "\\bar{x}_k \\gets x_n\n",
      "```\n",
      "\n",
      "## Run the code\n",
      "\n",
      "We'll do 25 separate runs for each of the two initialization methods.  Each run gets at most 50 laps through the data.  The **initname** argument specifies which initialization method to use, while the **jobname** is a human-readable name for the experiment."
     ]
    },
    {
     "cell_type": "code",
     "collapsed": false,
     "input": [
      "import bnpy\n",
      "\n",
      "bnpy.run('AsteriskK8', 'MixModel', 'Gauss', 'EM', nLap=50, K=8, nTask=25, initname='randexamples', jobname='initrand')\n",
      "\n",
      "bnpy.run('AsteriskK8', 'MixModel', 'Gauss', 'EM', nLap=50, K=8, nTask=25, initname='randexamplesbydist', jobname='initbydist')"
     ],
     "language": "python",
     "metadata": {},
     "outputs": [
      {
       "output_type": "stream",
       "stream": "stdout",
       "text": [
        "Asterisk Toy Data. 8 true clusters.\n"
       ]
      },
      {
       "output_type": "stream",
       "stream": "stdout",
       "text": [
        "  size: 25000 units (single observations)\n",
        "  dimension: 2\n"
       ]
      },
      {
       "output_type": "stream",
       "stream": "stdout",
       "text": [
        "Allocation Model:  Finite mixture with K=8. Dir prior param 1.00\n",
        "Obs. Data  Model:  Gaussian with full covariance.\n",
        "Obs. Data  Prior:  Gauss-Wishart on each mean/prec matrix pair: mu, Lam\n",
        "  E[ mu[k] ]     = [ 0.  0.]\n",
        "  E[ CovMat[k] ] = \n",
        "  [[ 1.  0.]\n",
        "   [ 0.  1.]]\n"
       ]
      },
      {
       "output_type": "stream",
       "stream": "stdout",
       "text": [
        "Learn Alg: EM\n"
       ]
      },
      {
       "output_type": "stream",
       "stream": "stdout",
       "text": [
        "Trial  1/25 | alg. seed: 1375104 | data order seed: 8541952\n"
       ]
      },
      {
       "output_type": "stream",
       "stream": "stdout",
       "text": [
        "savepath: /Users/Jens/Dropbox/dev/research/ML/out/AsteriskK8/initrand/1\n"
       ]
      },
      {
       "output_type": "stream",
       "stream": "stdout",
       "text": [
        "        1/50 after      0 sec. | K    8 | ev -1.228258179e+07 |  \n"
       ]
      },
      {
       "output_type": "stream",
       "stream": "stdout",
       "text": [
        "        2/50 after      0 sec. | K    8 | ev -7.285932153e-01 | Ndiff    554.224 \n"
       ]
      },
      {
       "output_type": "stream",
       "stream": "stdout",
       "text": [
        "        3/50 after      0 sec. | K    8 | ev -5.958725943e-01 | Ndiff    538.215 \n"
       ]
      },
      {
       "output_type": "stream",
       "stream": "stdout",
       "text": [
        "        4/50 after      0 sec. | K    8 | ev -5.437532201e-01 | Ndiff    570.491 \n"
       ]
      },
      {
       "output_type": "stream",
       "stream": "stdout",
       "text": [
        "        5/50 after      0 sec. | K    8 | ev -4.903734744e-01 | Ndiff    530.861 \n"
       ]
      },
      {
       "output_type": "stream",
       "stream": "stdout",
       "text": [
        "        6/50 after      0 sec. | K    8 | ev -4.361555724e-01 | Ndiff    374.963 \n"
       ]
      },
      {
       "output_type": "stream",
       "stream": "stdout",
       "text": [
        "        7/50 after      0 sec. | K    8 | ev -3.933497095e-01 | Ndiff    163.554 \n"
       ]
      },
      {
       "output_type": "stream",
       "stream": "stdout",
       "text": [
        "        8/50 after      0 sec. | K    8 | ev -3.875413160e-01 | Ndiff     42.783 \n"
       ]
      },
      {
       "output_type": "stream",
       "stream": "stdout",
       "text": [
        "        9/50 after      0 sec. | K    8 | ev -3.869551677e-01 | Ndiff     17.376 \n"
       ]
      },
      {
       "output_type": "stream",
       "stream": "stdout",
       "text": [
        "       10/50 after      0 sec. | K    8 | ev -3.867130678e-01 | Ndiff     11.955 \n"
       ]
      },
      {
       "output_type": "stream",
       "stream": "stdout",
       "text": [
        "       11/50 after      0 sec. | K    8 | ev -3.865625763e-01 | Ndiff      9.322 \n"
       ]
      },
      {
       "output_type": "stream",
       "stream": "stdout",
       "text": [
        "       12/50 after      0 sec. | K    8 | ev -3.864601999e-01 | Ndiff      7.546 \n"
       ]
      },
      {
       "output_type": "stream",
       "stream": "stdout",
       "text": [
        "       13/50 after      1 sec. | K    8 | ev -3.863866905e-01 | Ndiff      6.249 \n"
       ]
      },
      {
       "output_type": "stream",
       "stream": "stdout",
       "text": [
        "       14/50 after      1 sec. | K    8 | ev -3.863317718e-01 | Ndiff      5.268 \n"
       ]
      },
      {
       "output_type": "stream",
       "stream": "stdout",
       "text": [
        "       15/50 after      1 sec. | K    8 | ev -3.862894568e-01 | Ndiff      4.506 \n"
       ]
      },
      {
       "output_type": "stream",
       "stream": "stdout",
       "text": [
        "       16/50 after      1 sec. | K    8 | ev -3.862560361e-01 | Ndiff      3.902 \n"
       ]
      },
      {
       "output_type": "stream",
       "stream": "stdout",
       "text": [
        "       17/50 after      1 sec. | K    8 | ev -3.862290979e-01 | Ndiff      3.414 \n"
       ]
      },
      {
       "output_type": "stream",
       "stream": "stdout",
       "text": [
        "       18/50 after      1 sec. | K    8 | ev -3.862070123e-01 | Ndiff      3.013 \n"
       ]
      },
      {
       "output_type": "stream",
       "stream": "stdout",
       "text": [
        "       19/50 after      1 sec. | K    8 | ev -3.861886414e-01 | Ndiff      2.680 \n"
       ]
      },
      {
       "output_type": "stream",
       "stream": "stdout",
       "text": [
        "       20/50 after      1 sec. | K    8 | ev -3.861731692e-01 | Ndiff      2.399 \n"
       ]
      },
      {
       "output_type": "stream",
       "stream": "stdout",
       "text": [
        "       21/50 after      1 sec. | K    8 | ev -3.861599964e-01 | Ndiff      2.160 \n"
       ]
      },
      {
       "output_type": "stream",
       "stream": "stdout",
       "text": [
        "       22/50 after      1 sec. | K    8 | ev -3.861486743e-01 | Ndiff      1.955 \n"
       ]
      },
      {
       "output_type": "stream",
       "stream": "stdout",
       "text": [
        "       23/50 after      1 sec. | K    8 | ev -3.861388606e-01 | Ndiff      1.778 \n"
       ]
      },
      {
       "output_type": "stream",
       "stream": "stdout",
       "text": [
        "       24/50 after      1 sec. | K    8 | ev -3.861302905e-01 | Ndiff      1.623 \n"
       ]
      },
      {
       "output_type": "stream",
       "stream": "stdout",
       "text": [
        "       25/50 after      1 sec. | K    8 | ev -3.861227557e-01 | Ndiff      1.487 \n"
       ]
      },
      {
       "output_type": "stream",
       "stream": "stdout",
       "text": [
        "       26/50 after      1 sec. | K    8 | ev -3.861160911e-01 | Ndiff      1.367 \n"
       ]
      },
      {
       "output_type": "stream",
       "stream": "stdout",
       "text": [
        "       27/50 after      1 sec. | K    8 | ev -3.861101636e-01 | Ndiff      1.260 \n"
       ]
      },
      {
       "output_type": "stream",
       "stream": "stdout",
       "text": [
        "       28/50 after      1 sec. | K    8 | ev -3.861048654e-01 | Ndiff      1.165 \n"
       ]
      },
      {
       "output_type": "stream",
       "stream": "stdout",
       "text": [
        "       29/50 after      1 sec. | K    8 | ev -3.861001079e-01 | Ndiff      1.080 \n"
       ]
      },
      {
       "output_type": "stream",
       "stream": "stdout",
       "text": [
        "       30/50 after      1 sec. | K    8 | ev -3.860958181e-01 | Ndiff      1.003 \n"
       ]
      },
      {
       "output_type": "stream",
       "stream": "stdout",
       "text": [
        "       31/50 after      1 sec. | K    8 | ev -3.860919351e-01 | Ndiff      0.933 \n"
       ]
      },
      {
       "output_type": "stream",
       "stream": "stdout",
       "text": [
        "       32/50 after      1 sec. | K    8 | ev -3.860884078e-01 | Ndiff      0.871 \n"
       ]
      },
      {
       "output_type": "stream",
       "stream": "stdout",
       "text": [
        "       33/50 after      1 sec. | K    8 | ev -3.860851930e-01 | Ndiff      0.813 \n"
       ]
      },
      {
       "output_type": "stream",
       "stream": "stdout",
       "text": [
        "       34/50 after      1 sec. | K    8 | ev -3.860822541e-01 | Ndiff      0.761 \n"
       ]
      },
      {
       "output_type": "stream",
       "stream": "stdout",
       "text": [
        "       35/50 after      1 sec. | K    8 | ev -3.860795598e-01 | Ndiff      0.713 \n"
       ]
      },
      {
       "output_type": "stream",
       "stream": "stdout",
       "text": [
        "       36/50 after      1 sec. | K    8 | ev -3.860770832e-01 | Ndiff      0.669 \n"
       ]
      },
      {
       "output_type": "stream",
       "stream": "stdout",
       "text": [
        "       37/50 after      1 sec. | K    8 | ev -3.860748011e-01 | Ndiff      0.628 \n"
       ]
      },
      {
       "output_type": "stream",
       "stream": "stdout",
       "text": [
        "       38/50 after      1 sec. | K    8 | ev -3.860726933e-01 | Ndiff      0.591 \n"
       ]
      },
      {
       "output_type": "stream",
       "stream": "stdout",
       "text": [
        "       39/50 after      1 sec. | K    8 | ev -3.860707422e-01 | Ndiff      0.557 \n"
       ]
      },
      {
       "output_type": "stream",
       "stream": "stdout",
       "text": [
        "       40/50 after      2 sec. | K    8 | ev -3.860689326e-01 | Ndiff      0.524 \n"
       ]
      },
      {
       "output_type": "stream",
       "stream": "stdout",
       "text": [
        "       41/50 after      2 sec. | K    8 | ev -3.860672509e-01 | Ndiff      0.495 \n"
       ]
      },
      {
       "output_type": "stream",
       "stream": "stdout",
       "text": [
        "       42/50 after      2 sec. | K    8 | ev -3.860656853e-01 | Ndiff      0.467 \n"
       ]
      },
      {
       "output_type": "stream",
       "stream": "stdout",
       "text": [
        "       43/50 after      2 sec. | K    8 | ev -3.860642252e-01 | Ndiff      0.441 \n"
       ]
      },
      {
       "output_type": "stream",
       "stream": "stdout",
       "text": [
        "       44/50 after      2 sec. | K    8 | ev -3.860628614e-01 | Ndiff      0.417 \n"
       ]
      },
      {
       "output_type": "stream",
       "stream": "stdout",
       "text": [
        "       45/50 after      2 sec. | K    8 | ev -3.860615856e-01 | Ndiff      0.395 \n"
       ]
      },
      {
       "output_type": "stream",
       "stream": "stdout",
       "text": [
        "       46/50 after      2 sec. | K    8 | ev -3.860603903e-01 | Ndiff      0.373 \n"
       ]
      },
      {
       "output_type": "stream",
       "stream": "stdout",
       "text": [
        "       47/50 after      2 sec. | K    8 | ev -3.860592689e-01 | Ndiff      0.354 \n"
       ]
      },
      {
       "output_type": "stream",
       "stream": "stdout",
       "text": [
        "       48/50 after      2 sec. | K    8 | ev -3.860582154e-01 | Ndiff      0.335 \n"
       ]
      },
      {
       "output_type": "stream",
       "stream": "stdout",
       "text": [
        "       49/50 after      2 sec. | K    8 | ev -3.860572246e-01 | Ndiff      0.317 \n"
       ]
      },
      {
       "output_type": "stream",
       "stream": "stdout",
       "text": [
        "       50/50 after      2 sec. | K    8 | ev -3.860562916e-01 | Ndiff      0.301 \n"
       ]
      },
      {
       "output_type": "stream",
       "stream": "stdout",
       "text": [
        "... done. not converged. max laps thru data exceeded.\n"
       ]
      },
      {
       "output_type": "stream",
       "stream": "stdout",
       "text": [
        "Trial  2/25 | alg. seed: 7303680 | data order seed: 7673856\n"
       ]
      },
      {
       "output_type": "stream",
       "stream": "stdout",
       "text": [
        "savepath: /Users/Jens/Dropbox/dev/research/ML/out/AsteriskK8/initrand/2\n"
       ]
      },
      {
       "output_type": "stream",
       "stream": "stdout",
       "text": [
        "        1/50 after      0 sec. | K    8 | ev -5.914129550e+06 |  \n"
       ]
      },
      {
       "output_type": "stream",
       "stream": "stdout",
       "text": [
        "        2/50 after      0 sec. | K    8 | ev -4.035776663e-01 | Ndiff    102.483 \n"
       ]
      },
      {
       "output_type": "stream",
       "stream": "stdout",
       "text": [
        "        3/50 after      0 sec. | K    8 | ev -3.727768006e-01 | Ndiff     85.484 \n"
       ]
      },
      {
       "output_type": "stream",
       "stream": "stdout",
       "text": [
        "        4/50 after      0 sec. | K    8 | ev -2.930622773e-01 | Ndiff    832.208 \n"
       ]
      },
      {
       "output_type": "stream",
       "stream": "stdout",
       "text": [
        "        5/50 after      0 sec. | K    8 | ev -2.434966945e-01 | Ndiff    734.977 \n"
       ]
      },
      {
       "output_type": "stream",
       "stream": "stdout",
       "text": [
        "        6/50 after      0 sec. | K    8 | ev -2.155839892e-01 | Ndiff    404.058 \n"
       ]
      },
      {
       "output_type": "stream",
       "stream": "stdout",
       "text": [
        "        7/50 after      0 sec. | K    8 | ev -1.899679479e-01 | Ndiff    162.943 \n"
       ]
      },
      {
       "output_type": "stream",
       "stream": "stdout",
       "text": [
        "        8/50 after      0 sec. | K    8 | ev -1.511132469e-01 | Ndiff     29.988 \n"
       ]
      },
      {
       "output_type": "stream",
       "stream": "stdout",
       "text": [
        "        9/50 after      0 sec. | K    8 | ev -1.402120894e-01 | Ndiff      1.672 \n"
       ]
      },
      {
       "output_type": "stream",
       "stream": "stdout",
       "text": [
        "       10/50 after      0 sec. | K    8 | ev -1.402000477e-01 | Ndiff      1.015 \n"
       ]
      },
      {
       "output_type": "stream",
       "stream": "stdout",
       "text": [
        "       11/50 after      0 sec. | K    8 | ev -1.401941389e-01 | Ndiff      0.729 \n"
       ]
      },
      {
       "output_type": "stream",
       "stream": "stdout",
       "text": [
        "       12/50 after      0 sec. | K    8 | ev -1.401893672e-01 | Ndiff      0.508 \n"
       ]
      },
      {
       "output_type": "stream",
       "stream": "stdout",
       "text": [
        "       13/50 after      0 sec. | K    8 | ev -1.401853654e-01 | Ndiff      0.332 \n"
       ]
      },
      {
       "output_type": "stream",
       "stream": "stdout",
       "text": [
        "       14/50 after      1 sec. | K    8 | ev -1.401819316e-01 | Ndiff      0.188 \n"
       ]
      },
      {
       "output_type": "stream",
       "stream": "stdout",
       "text": [
        "       15/50 after      1 sec. | K    8 | ev -1.401789406e-01 | Ndiff      0.067 \n"
       ]
      },
      {
       "output_type": "stream",
       "stream": "stdout",
       "text": [
        "       16/50 after      1 sec. | K    8 | ev -1.401763111e-01 | Ndiff      0.043 \n"
       ]
      },
      {
       "output_type": "stream",
       "stream": "stdout",
       "text": [
        "... done. converged.\n"
       ]
      },
      {
       "output_type": "stream",
       "stream": "stdout",
       "text": [
        "Trial  3/25 | alg. seed: 1208832 | data order seed: 7360256\n"
       ]
      },
      {
       "output_type": "stream",
       "stream": "stdout",
       "text": [
        "savepath: /Users/Jens/Dropbox/dev/research/ML/out/AsteriskK8/initrand/3\n"
       ]
      },
      {
       "output_type": "stream",
       "stream": "stdout",
       "text": [
        "        1/50 after      0 sec. | K    8 | ev -5.345913592e+06 |  \n"
       ]
      },
      {
       "output_type": "stream",
       "stream": "stdout",
       "text": [
        "        2/50 after      0 sec. | K    8 | ev -6.952110830e-01 | Ndiff    592.384 \n"
       ]
      },
      {
       "output_type": "stream",
       "stream": "stdout",
       "text": [
        "        3/50 after      0 sec. | K    8 | ev -6.177598281e-01 | Ndiff    324.234 \n"
       ]
      },
      {
       "output_type": "stream",
       "stream": "stdout",
       "text": [
        "        4/50 after      0 sec. | K    8 | ev -5.201940811e-01 | Ndiff    274.060 \n"
       ]
      },
      {
       "output_type": "stream",
       "stream": "stdout",
       "text": [
        "        5/50 after      0 sec. | K    8 | ev -4.747578428e-01 | Ndiff    139.212 \n"
       ]
      },
      {
       "output_type": "stream",
       "stream": "stdout",
       "text": [
        "        6/50 after      0 sec. | K    8 | ev -4.447472418e-01 | Ndiff    737.099 \n"
       ]
      },
      {
       "output_type": "stream",
       "stream": "stdout",
       "text": [
        "        7/50 after      0 sec. | K    8 | ev -4.142010608e-01 | Ndiff    578.428 \n"
       ]
      },
      {
       "output_type": "stream",
       "stream": "stdout",
       "text": [
        "        8/50 after      0 sec. | K    8 | ev -3.945468721e-01 | Ndiff    303.127 \n"
       ]
      },
      {
       "output_type": "stream",
       "stream": "stdout",
       "text": [
        "        9/50 after      0 sec. | K    8 | ev -3.866590932e-01 | Ndiff     91.334 \n"
       ]
      },
      {
       "output_type": "stream",
       "stream": "stdout",
       "text": [
        "       10/50 after      0 sec. | K    8 | ev -3.851277987e-01 | Ndiff     28.280 \n"
       ]
      },
      {
       "output_type": "stream",
       "stream": "stdout",
       "text": [
        "       11/50 after      0 sec. | K    8 | ev -3.839315493e-01 | Ndiff     51.742 \n"
       ]
      },
      {
       "output_type": "stream",
       "stream": "stdout",
       "text": [
        "       12/50 after      0 sec. | K    8 | ev -3.815826039e-01 | Ndiff     97.999 \n"
       ]
      },
      {
       "output_type": "stream",
       "stream": "stdout",
       "text": [
        "       13/50 after      0 sec. | K    8 | ev -3.761124557e-01 | Ndiff    201.825 \n"
       ]
      },
      {
       "output_type": "stream",
       "stream": "stdout",
       "text": [
        "       14/50 after      0 sec. | K    8 | ev -3.606487982e-01 | Ndiff    459.126 \n"
       ]
      },
      {
       "output_type": "stream",
       "stream": "stdout",
       "text": [
        "       15/50 after      1 sec. | K    8 | ev -3.120138217e-01 | Ndiff    972.676 \n"
       ]
      },
      {
       "output_type": "stream",
       "stream": "stdout",
       "text": [
        "       16/50 after      1 sec. | K    8 | ev -2.526562032e-01 | Ndiff    745.480 \n"
       ]
      },
      {
       "output_type": "stream",
       "stream": "stdout",
       "text": [
        "       17/50 after      1 sec. | K    8 | ev -2.244301465e-01 | Ndiff    248.025 \n"
       ]
      },
      {
       "output_type": "stream",
       "stream": "stdout",
       "text": [
        "       18/50 after      1 sec. | K    8 | ev -1.856367225e-01 | Ndiff     73.485 \n"
       ]
      },
      {
       "output_type": "stream",
       "stream": "stdout",
       "text": [
        "       19/50 after      1 sec. | K    8 | ev -1.418314818e-01 | Ndiff      4.018 \n"
       ]
      },
      {
       "output_type": "stream",
       "stream": "stdout",
       "text": [
        "       20/50 after      1 sec. | K    8 | ev -1.413599848e-01 | Ndiff      1.418 \n"
       ]
      },
      {
       "output_type": "stream",
       "stream": "stdout",
       "text": [
        "       21/50 after      1 sec. | K    8 | ev -1.413551081e-01 | Ndiff      1.302 \n"
       ]
      },
      {
       "output_type": "stream",
       "stream": "stdout",
       "text": [
        "       22/50 after      1 sec. | K    8 | ev -1.413508816e-01 | Ndiff      1.207 \n"
       ]
      },
      {
       "output_type": "stream",
       "stream": "stdout",
       "text": [
        "       23/50 after      1 sec. | K    8 | ev -1.413471603e-01 | Ndiff      1.124 \n"
       ]
      },
      {
       "output_type": "stream",
       "stream": "stdout",
       "text": [
        "       24/50 after      1 sec. | K    8 | ev -1.413438664e-01 | Ndiff      1.049 \n"
       ]
      },
      {
       "output_type": "stream",
       "stream": "stdout",
       "text": [
        "       25/50 after      1 sec. | K    8 | ev -1.413409366e-01 | Ndiff      0.982 \n"
       ]
      },
      {
       "output_type": "stream",
       "stream": "stdout",
       "text": [
        "       26/50 after      1 sec. | K    8 | ev -1.413383191e-01 | Ndiff      0.922 \n"
       ]
      },
      {
       "output_type": "stream",
       "stream": "stdout",
       "text": [
        "       27/50 after      1 sec. | K    8 | ev -1.413359710e-01 | Ndiff      0.868 \n"
       ]
      },
      {
       "output_type": "stream",
       "stream": "stdout",
       "text": [
        "       28/50 after      1 sec. | K    8 | ev -1.413338565e-01 | Ndiff      0.819 \n"
       ]
      },
      {
       "output_type": "stream",
       "stream": "stdout",
       "text": [
        "       29/50 after      1 sec. | K    8 | ev -1.413319457e-01 | Ndiff      0.775 \n"
       ]
      },
      {
       "output_type": "stream",
       "stream": "stdout",
       "text": [
        "       30/50 after      1 sec. | K    8 | ev -1.413302131e-01 | Ndiff      0.735 \n"
       ]
      },
      {
       "output_type": "stream",
       "stream": "stdout",
       "text": [
        "       31/50 after      1 sec. | K    8 | ev -1.413286372e-01 | Ndiff      0.698 \n"
       ]
      },
      {
       "output_type": "stream",
       "stream": "stdout",
       "text": [
        "       32/50 after      1 sec. | K    8 | ev -1.413271997e-01 | Ndiff      0.665 \n"
       ]
      },
      {
       "output_type": "stream",
       "stream": "stdout",
       "text": [
        "       33/50 after      1 sec. | K    8 | ev -1.413258847e-01 | Ndiff      0.634 \n"
       ]
      },
      {
       "output_type": "stream",
       "stream": "stdout",
       "text": [
        "       34/50 after      1 sec. | K    8 | ev -1.413246787e-01 | Ndiff      0.606 \n"
       ]
      },
      {
       "output_type": "stream",
       "stream": "stdout",
       "text": [
        "       35/50 after      1 sec. | K    8 | ev -1.413235697e-01 | Ndiff      0.580 \n"
       ]
      },
      {
       "output_type": "stream",
       "stream": "stdout",
       "text": [
        "       36/50 after      1 sec. | K    8 | ev -1.413225477e-01 | Ndiff      0.556 \n"
       ]
      },
      {
       "output_type": "stream",
       "stream": "stdout",
       "text": [
        "       37/50 after      1 sec. | K    8 | ev -1.413216035e-01 | Ndiff      0.534 \n"
       ]
      },
      {
       "output_type": "stream",
       "stream": "stdout",
       "text": [
        "       38/50 after      1 sec. | K    8 | ev -1.413207295e-01 | Ndiff      0.513 \n"
       ]
      },
      {
       "output_type": "stream",
       "stream": "stdout",
       "text": [
        "       39/50 after      1 sec. | K    8 | ev -1.413199185e-01 | Ndiff      0.494 \n"
       ]
      },
      {
       "output_type": "stream",
       "stream": "stdout",
       "text": [
        "       40/50 after      1 sec. | K    8 | ev -1.413191647e-01 | Ndiff      0.476 \n"
       ]
      },
      {
       "output_type": "stream",
       "stream": "stdout",
       "text": [
        "       41/50 after      1 sec. | K    8 | ev -1.413184625e-01 | Ndiff      0.460 \n"
       ]
      },
      {
       "output_type": "stream",
       "stream": "stdout",
       "text": [
        "       42/50 after      1 sec. | K    8 | ev -1.413178073e-01 | Ndiff      0.445 \n"
       ]
      },
      {
       "output_type": "stream",
       "stream": "stdout",
       "text": [
        "       43/50 after      1 sec. | K    8 | ev -1.413171946e-01 | Ndiff      0.430 \n"
       ]
      },
      {
       "output_type": "stream",
       "stream": "stdout",
       "text": [
        "       44/50 after      2 sec. | K    8 | ev -1.413166209e-01 | Ndiff      0.417 \n"
       ]
      },
      {
       "output_type": "stream",
       "stream": "stdout",
       "text": [
        "       45/50 after      2 sec. | K    8 | ev -1.413160826e-01 | Ndiff      0.404 \n"
       ]
      },
      {
       "output_type": "stream",
       "stream": "stdout",
       "text": [
        "       46/50 after      2 sec. | K    8 | ev -1.413155768e-01 | Ndiff      0.393 \n"
       ]
      },
      {
       "output_type": "stream",
       "stream": "stdout",
       "text": [
        "       47/50 after      2 sec. | K    8 | ev -1.413151007e-01 | Ndiff      0.382 \n"
       ]
      },
      {
       "output_type": "stream",
       "stream": "stdout",
       "text": [
        "       48/50 after      2 sec. | K    8 | ev -1.413146518e-01 | Ndiff      0.372 \n"
       ]
      },
      {
       "output_type": "stream",
       "stream": "stdout",
       "text": [
        "       49/50 after      2 sec. | K    8 | ev -1.413142279e-01 | Ndiff      0.362 \n"
       ]
      },
      {
       "output_type": "stream",
       "stream": "stdout",
       "text": [
        "       50/50 after      2 sec. | K    8 | ev -1.413138271e-01 | Ndiff      0.353 \n"
       ]
      },
      {
       "output_type": "stream",
       "stream": "stdout",
       "text": [
        "... done. not converged. max laps thru data exceeded.\n"
       ]
      },
      {
       "output_type": "stream",
       "stream": "stdout",
       "text": [
        "Trial  4/25 | alg. seed: 6418432 | data order seed: 900864\n"
       ]
      },
      {
       "output_type": "stream",
       "stream": "stdout",
       "text": [
        "savepath: /Users/Jens/Dropbox/dev/research/ML/out/AsteriskK8/initrand/4\n"
       ]
      },
      {
       "output_type": "stream",
       "stream": "stdout",
       "text": [
        "        1/50 after      0 sec. | K    8 | ev -1.006722179e+07 |  \n"
       ]
      },
      {
       "output_type": "stream",
       "stream": "stdout",
       "text": [
        "        2/50 after      0 sec. | K    8 | ev -7.480996914e-01 | Ndiff    366.165 \n"
       ]
      },
      {
       "output_type": "stream",
       "stream": "stdout",
       "text": [
        "        3/50 after      0 sec. | K    8 | ev -5.953633291e-01 | Ndiff    721.218 \n"
       ]
      },
      {
       "output_type": "stream",
       "stream": "stdout",
       "text": [
        "        4/50 after      0 sec. | K    8 | ev -5.356451985e-01 | Ndiff    833.823 \n"
       ]
      },
      {
       "output_type": "stream",
       "stream": "stdout",
       "text": [
        "        5/50 after      0 sec. | K    8 | ev -4.842919105e-01 | Ndiff    730.503 \n"
       ]
      },
      {
       "output_type": "stream",
       "stream": "stdout",
       "text": [
        "        6/50 after      0 sec. | K    8 | ev -4.378718300e-01 | Ndiff    395.537 \n"
       ]
      },
      {
       "output_type": "stream",
       "stream": "stdout",
       "text": [
        "        7/50 after      0 sec. | K    8 | ev -3.815965820e-01 | Ndiff    287.795 \n"
       ]
      },
      {
       "output_type": "stream",
       "stream": "stdout",
       "text": [
        "        8/50 after      0 sec. | K    8 | ev -2.982716141e-01 | Ndiff    224.649 \n"
       ]
      },
      {
       "output_type": "stream",
       "stream": "stdout",
       "text": [
        "        9/50 after      0 sec. | K    8 | ev -1.889859268e-01 | Ndiff     63.799 \n"
       ]
      },
      {
       "output_type": "stream",
       "stream": "stdout",
       "text": [
        "       10/50 after      0 sec. | K    8 | ev -1.379945706e-01 | Ndiff      1.308 \n"
       ]
      },
      {
       "output_type": "stream",
       "stream": "stdout",
       "text": [
        "       11/50 after      0 sec. | K    8 | ev -1.379147700e-01 | Ndiff      1.116 \n"
       ]
      },
      {
       "output_type": "stream",
       "stream": "stdout",
       "text": [
        "       12/50 after      0 sec. | K    8 | ev -1.378615772e-01 | Ndiff      0.889 \n"
       ]
      },
      {
       "output_type": "stream",
       "stream": "stdout",
       "text": [
        "       13/50 after      0 sec. | K    8 | ev -1.378227030e-01 | Ndiff      0.689 \n"
       ]
      },
      {
       "output_type": "stream",
       "stream": "stdout",
       "text": [
        "       14/50 after      0 sec. | K    8 | ev -1.377932778e-01 | Ndiff      0.527 \n"
       ]
      },
      {
       "output_type": "stream",
       "stream": "stdout",
       "text": [
        "       15/50 after      0 sec. | K    8 | ev -1.377703766e-01 | Ndiff      0.398 \n"
       ]
      },
      {
       "output_type": "stream",
       "stream": "stdout",
       "text": [
        "       16/50 after      1 sec. | K    8 | ev -1.377521438e-01 | Ndiff      0.296 \n"
       ]
      },
      {
       "output_type": "stream",
       "stream": "stdout",
       "text": [
        "       17/50 after      1 sec. | K    8 | ev -1.377373515e-01 | Ndiff      0.213 \n"
       ]
      },
      {
       "output_type": "stream",
       "stream": "stdout",
       "text": [
        "       18/50 after      1 sec. | K    8 | ev -1.377251576e-01 | Ndiff      0.146 \n"
       ]
      },
      {
       "output_type": "stream",
       "stream": "stdout",
       "text": [
        "       19/50 after      1 sec. | K    8 | ev -1.377149680e-01 | Ndiff      0.090 \n"
       ]
      },
      {
       "output_type": "stream",
       "stream": "stdout",
       "text": [
        "       20/50 after      1 sec. | K    8 | ev -1.377063522e-01 | Ndiff      0.043 \n"
       ]
      },
      {
       "output_type": "stream",
       "stream": "stdout",
       "text": [
        "... done. converged.\n"
       ]
      },
      {
       "output_type": "stream",
       "stream": "stdout",
       "text": [
        "Trial  5/25 | alg. seed: 5700736 | data order seed: 6479872\n"
       ]
      },
      {
       "output_type": "stream",
       "stream": "stdout",
       "text": [
        "savepath: /Users/Jens/Dropbox/dev/research/ML/out/AsteriskK8/initrand/5\n"
       ]
      },
      {
       "output_type": "stream",
       "stream": "stdout",
       "text": [
        "        1/50 after      0 sec. | K    8 | ev -7.382221511e+06 |  \n"
       ]
      },
      {
       "output_type": "stream",
       "stream": "stdout",
       "text": [
        "        2/50 after      0 sec. | K    8 | ev -8.614709837e-01 | Ndiff    283.102 \n"
       ]
      },
      {
       "output_type": "stream",
       "stream": "stdout",
       "text": [
        "        3/50 after      0 sec. | K    8 | ev -7.501404609e-01 | Ndiff    627.822 \n"
       ]
      },
      {
       "output_type": "stream",
       "stream": "stdout",
       "text": [
        "        4/50 after      0 sec. | K    8 | ev -5.825686526e-01 | Ndiff    836.507 \n"
       ]
      },
      {
       "output_type": "stream",
       "stream": "stdout",
       "text": [
        "        5/50 after      0 sec. | K    8 | ev -5.012961156e-01 | Ndiff    782.927 \n"
       ]
      },
      {
       "output_type": "stream",
       "stream": "stdout",
       "text": [
        "        6/50 after      0 sec. | K    8 | ev -4.197991784e-01 | Ndiff    745.930 \n"
       ]
      },
      {
       "output_type": "stream",
       "stream": "stdout",
       "text": [
        "        7/50 after      0 sec. | K    8 | ev -2.815799605e-01 | Ndiff    612.153 \n"
       ]
      },
      {
       "output_type": "stream",
       "stream": "stdout",
       "text": [
        "        8/50 after      0 sec. | K    8 | ev -2.391099702e-01 | Ndiff    361.720 \n"
       ]
      },
      {
       "output_type": "stream",
       "stream": "stdout",
       "text": [
        "        9/50 after      0 sec. | K    8 | ev -2.274452084e-01 | Ndiff    153.291 \n"
       ]
      },
      {
       "output_type": "stream",
       "stream": "stdout",
       "text": [
        "       10/50 after      0 sec. | K    8 | ev -2.229668166e-01 | Ndiff    128.386 \n"
       ]
      },
      {
       "output_type": "stream",
       "stream": "stdout",
       "text": [
        "       11/50 after      0 sec. | K    8 | ev -2.219643489e-01 | Ndiff    124.092 \n"
       ]
      },
      {
       "output_type": "stream",
       "stream": "stdout",
       "text": [
        "       12/50 after      0 sec. | K    8 | ev -2.214441338e-01 | Ndiff    121.431 \n"
       ]
      },
      {
       "output_type": "stream",
       "stream": "stdout",
       "text": [
        "       13/50 after      0 sec. | K    8 | ev -2.209269151e-01 | Ndiff    119.806 \n"
       ]
      },
      {
       "output_type": "stream",
       "stream": "stdout",
       "text": [
        "       14/50 after      0 sec. | K    8 | ev -2.203426452e-01 | Ndiff    118.586 \n"
       ]
      },
      {
       "output_type": "stream",
       "stream": "stdout",
       "text": [
        "       15/50 after      1 sec. | K    8 | ev -2.196677356e-01 | Ndiff    117.565 \n"
       ]
      },
      {
       "output_type": "stream",
       "stream": "stdout",
       "text": [
        "       16/50 after      1 sec. | K    8 | ev -2.188886988e-01 | Ndiff    117.085 \n"
       ]
      },
      {
       "output_type": "stream",
       "stream": "stdout",
       "text": [
        "       17/50 after      1 sec. | K    8 | ev -2.179878692e-01 | Ndiff    117.884 \n"
       ]
      },
      {
       "output_type": "stream",
       "stream": "stdout",
       "text": [
        "       18/50 after      1 sec. | K    8 | ev -2.169386366e-01 | Ndiff    120.464 \n"
       ]
      },
      {
       "output_type": "stream",
       "stream": "stdout",
       "text": [
        "       19/50 after      1 sec. | K    8 | ev -2.157129442e-01 | Ndiff    124.593 \n"
       ]
      },
      {
       "output_type": "stream",
       "stream": "stdout",
       "text": [
        "       20/50 after      1 sec. | K    8 | ev -2.142872121e-01 | Ndiff    129.993 \n"
       ]
      },
      {
       "output_type": "stream",
       "stream": "stdout",
       "text": [
        "       21/50 after      1 sec. | K    8 | ev -2.126415205e-01 | Ndiff    136.842 \n"
       ]
      },
      {
       "output_type": "stream",
       "stream": "stdout",
       "text": [
        "       22/50 after      1 sec. | K    8 | ev -2.107347608e-01 | Ndiff    145.480 \n"
       ]
      },
      {
       "output_type": "stream",
       "stream": "stdout",
       "text": [
        "       23/50 after      1 sec. | K    8 | ev -2.084288126e-01 | Ndiff    155.837 \n"
       ]
      },
      {
       "output_type": "stream",
       "stream": "stdout",
       "text": [
        "       24/50 after      1 sec. | K    8 | ev -2.053525119e-01 | Ndiff    166.711 \n"
       ]
      },
      {
       "output_type": "stream",
       "stream": "stdout",
       "text": [
        "       25/50 after      1 sec. | K    8 | ev -2.006531649e-01 | Ndiff    174.022 \n"
       ]
      },
      {
       "output_type": "stream",
       "stream": "stdout",
       "text": [
        "       26/50 after      1 sec. | K    8 | ev -1.923382604e-01 | Ndiff    164.520 \n"
       ]
      },
      {
       "output_type": "stream",
       "stream": "stdout",
       "text": [
        "       27/50 after      1 sec. | K    8 | ev -1.760778772e-01 | Ndiff    118.596 \n"
       ]
      },
      {
       "output_type": "stream",
       "stream": "stdout",
       "text": [
        "       28/50 after      1 sec. | K    8 | ev -1.486726856e-01 | Ndiff     32.409 \n"
       ]
      },
      {
       "output_type": "stream",
       "stream": "stdout",
       "text": [
        "       29/50 after      1 sec. | K    8 | ev -1.406060113e-01 | Ndiff      5.106 \n"
       ]
      },
      {
       "output_type": "stream",
       "stream": "stdout",
       "text": [
        "       30/50 after      1 sec. | K    8 | ev -1.405972805e-01 | Ndiff      0.698 \n"
       ]
      },
      {
       "output_type": "stream",
       "stream": "stdout",
       "text": [
        "       31/50 after      1 sec. | K    8 | ev -1.405967716e-01 | Ndiff      0.121 \n"
       ]
      },
      {
       "output_type": "stream",
       "stream": "stdout",
       "text": [
        "       32/50 after      1 sec. | K    8 | ev -1.405963412e-01 | Ndiff      0.109 \n"
       ]
      },
      {
       "output_type": "stream",
       "stream": "stdout",
       "text": [
        "       33/50 after      1 sec. | K    8 | ev -1.405959276e-01 | Ndiff      0.097 \n"
       ]
      },
      {
       "output_type": "stream",
       "stream": "stdout",
       "text": [
        "       34/50 after      1 sec. | K    8 | ev -1.405955276e-01 | Ndiff      0.086 \n"
       ]
      },
      {
       "output_type": "stream",
       "stream": "stdout",
       "text": [
        "       35/50 after      1 sec. | K    8 | ev -1.405951393e-01 | Ndiff      0.074 \n"
       ]
      },
      {
       "output_type": "stream",
       "stream": "stdout",
       "text": [
        "       36/50 after      1 sec. | K    8 | ev -1.405947610e-01 | Ndiff      0.063 \n"
       ]
      },
      {
       "output_type": "stream",
       "stream": "stdout",
       "text": [
        "       37/50 after      1 sec. | K    8 | ev -1.405943914e-01 | Ndiff      0.052 \n"
       ]
      },
      {
       "output_type": "stream",
       "stream": "stdout",
       "text": [
        "       38/50 after      1 sec. | K    8 | ev -1.405940295e-01 | Ndiff      0.041 \n"
       ]
      },
      {
       "output_type": "stream",
       "stream": "stdout",
       "text": [
        "... done. converged.\n"
       ]
      },
      {
       "output_type": "stream",
       "stream": "stdout",
       "text": [
        "Trial  6/25 | alg. seed: 2987008 | data order seed: 9149952\n"
       ]
      },
      {
       "output_type": "stream",
       "stream": "stdout",
       "text": [
        "savepath: /Users/Jens/Dropbox/dev/research/ML/out/AsteriskK8/initrand/6\n"
       ]
      },
      {
       "output_type": "stream",
       "stream": "stdout",
       "text": [
        "        1/50 after      0 sec. | K    8 | ev -1.112667014e+07 |  \n"
       ]
      },
      {
       "output_type": "stream",
       "stream": "stdout",
       "text": [
        "        2/50 after      0 sec. | K    8 | ev -7.856941410e-01 | Ndiff    352.365 \n"
       ]
      },
      {
       "output_type": "stream",
       "stream": "stdout",
       "text": [
        "        3/50 after      0 sec. | K    8 | ev -6.165322723e-01 | Ndiff    676.548 \n"
       ]
      },
      {
       "output_type": "stream",
       "stream": "stdout",
       "text": [
        "        4/50 after      0 sec. | K    8 | ev -5.649028678e-01 | Ndiff    485.940 \n"
       ]
      },
      {
       "output_type": "stream",
       "stream": "stdout",
       "text": [
        "        5/50 after      0 sec. | K    8 | ev -5.213706518e-01 | Ndiff    446.103 \n"
       ]
      },
      {
       "output_type": "stream",
       "stream": "stdout",
       "text": [
        "        6/50 after      0 sec. | K    8 | ev -4.799499875e-01 | Ndiff    381.250 \n"
       ]
      },
      {
       "output_type": "stream",
       "stream": "stdout",
       "text": [
        "        7/50 after      0 sec. | K    8 | ev -4.349194906e-01 | Ndiff    271.789 \n"
       ]
      },
      {
       "output_type": "stream",
       "stream": "stdout",
       "text": [
        "        8/50 after      0 sec. | K    8 | ev -3.774729632e-01 | Ndiff    163.317 \n"
       ]
      },
      {
       "output_type": "stream",
       "stream": "stdout",
       "text": [
        "        9/50 after      0 sec. | K    8 | ev -3.347781637e-01 | Ndiff     67.077 \n"
       ]
      },
      {
       "output_type": "stream",
       "stream": "stdout",
       "text": [
        "       10/50 after      0 sec. | K    8 | ev -3.305015537e-01 | Ndiff     32.590 \n"
       ]
      },
      {
       "output_type": "stream",
       "stream": "stdout",
       "text": [
        "       11/50 after      0 sec. | K    8 | ev -3.301951924e-01 | Ndiff     20.931 \n"
       ]
      },
      {
       "output_type": "stream",
       "stream": "stdout",
       "text": [
        "       12/50 after      0 sec. | K    8 | ev -3.300034654e-01 | Ndiff     14.170 \n"
       ]
      },
      {
       "output_type": "stream",
       "stream": "stdout",
       "text": [
        "       13/50 after      0 sec. | K    8 | ev -3.298757086e-01 | Ndiff      9.921 \n"
       ]
      },
      {
       "output_type": "stream",
       "stream": "stdout",
       "text": [
        "       14/50 after      0 sec. | K    8 | ev -3.297865514e-01 | Ndiff      7.145 \n"
       ]
      },
      {
       "output_type": "stream",
       "stream": "stdout",
       "text": [
        "       15/50 after      0 sec. | K    8 | ev -3.297219908e-01 | Ndiff      5.272 \n"
       ]
      },
      {
       "output_type": "stream",
       "stream": "stdout",
       "text": [
        "       16/50 after      1 sec. | K    8 | ev -3.296737982e-01 | Ndiff      3.972 \n"
       ]
      },
      {
       "output_type": "stream",
       "stream": "stdout",
       "text": [
        "       17/50 after      1 sec. | K    8 | ev -3.296368945e-01 | Ndiff      3.047 \n"
       ]
      },
      {
       "output_type": "stream",
       "stream": "stdout",
       "text": [
        "       18/50 after      1 sec. | K    8 | ev -3.296080153e-01 | Ndiff      2.376 \n"
       ]
      },
      {
       "output_type": "stream",
       "stream": "stdout",
       "text": [
        "       19/50 after      1 sec. | K    8 | ev -3.295849901e-01 | Ndiff      1.878 \n"
       ]
      },
      {
       "output_type": "stream",
       "stream": "stdout",
       "text": [
        "       20/50 after      1 sec. | K    8 | ev -3.295663326e-01 | Ndiff      1.597 \n"
       ]
      },
      {
       "output_type": "stream",
       "stream": "stdout",
       "text": [
        "       21/50 after      1 sec. | K    8 | ev -3.295509991e-01 | Ndiff      1.450 \n"
       ]
      },
      {
       "output_type": "stream",
       "stream": "stdout",
       "text": [
        "       22/50 after      1 sec. | K    8 | ev -3.295382397e-01 | Ndiff      1.324 \n"
       ]
      },
      {
       "output_type": "stream",
       "stream": "stdout",
       "text": [
        "       23/50 after      1 sec. | K    8 | ev -3.295275046e-01 | Ndiff      1.215 \n"
       ]
      },
      {
       "output_type": "stream",
       "stream": "stdout",
       "text": [
        "       24/50 after      1 sec. | K    8 | ev -3.295183837e-01 | Ndiff      1.120 \n"
       ]
      },
      {
       "output_type": "stream",
       "stream": "stdout",
       "text": [
        "       25/50 after      1 sec. | K    8 | ev -3.295105659e-01 | Ndiff      1.037 \n"
       ]
      },
      {
       "output_type": "stream",
       "stream": "stdout",
       "text": [
        "       26/50 after      1 sec. | K    8 | ev -3.295038119e-01 | Ndiff      0.963 \n"
       ]
      },
      {
       "output_type": "stream",
       "stream": "stdout",
       "text": [
        "       27/50 after      1 sec. | K    8 | ev -3.294979347e-01 | Ndiff      0.898 \n"
       ]
      },
      {
       "output_type": "stream",
       "stream": "stdout",
       "text": [
        "       28/50 after      1 sec. | K    8 | ev -3.294927871e-01 | Ndiff      0.841 \n"
       ]
      },
      {
       "output_type": "stream",
       "stream": "stdout",
       "text": [
        "       29/50 after      1 sec. | K    8 | ev -3.294882514e-01 | Ndiff      0.789 \n"
       ]
      },
      {
       "output_type": "stream",
       "stream": "stdout",
       "text": [
        "       30/50 after      1 sec. | K    8 | ev -3.294842325e-01 | Ndiff      0.742 \n"
       ]
      },
      {
       "output_type": "stream",
       "stream": "stdout",
       "text": [
        "       31/50 after      1 sec. | K    8 | ev -3.294806533e-01 | Ndiff      0.700 \n"
       ]
      },
      {
       "output_type": "stream",
       "stream": "stdout",
       "text": [
        "       32/50 after      1 sec. | K    8 | ev -3.294774502e-01 | Ndiff      0.662 \n"
       ]
      },
      {
       "output_type": "stream",
       "stream": "stdout",
       "text": [
        "       33/50 after      1 sec. | K    8 | ev -3.294745708e-01 | Ndiff      0.628 \n"
       ]
      },
      {
       "output_type": "stream",
       "stream": "stdout",
       "text": [
        "       34/50 after      1 sec. | K    8 | ev -3.294719711e-01 | Ndiff      0.596 \n"
       ]
      },
      {
       "output_type": "stream",
       "stream": "stdout",
       "text": [
        "       35/50 after      1 sec. | K    8 | ev -3.294696145e-01 | Ndiff      0.568 \n"
       ]
      },
      {
       "output_type": "stream",
       "stream": "stdout",
       "text": [
        "       36/50 after      1 sec. | K    8 | ev -3.294674697e-01 | Ndiff      0.542 \n"
       ]
      },
      {
       "output_type": "stream",
       "stream": "stdout",
       "text": [
        "       37/50 after      1 sec. | K    8 | ev -3.294655104e-01 | Ndiff      0.517 \n"
       ]
      },
      {
       "output_type": "stream",
       "stream": "stdout",
       "text": [
        "       38/50 after      1 sec. | K    8 | ev -3.294637140e-01 | Ndiff      0.495 \n"
       ]
      },
      {
       "output_type": "stream",
       "stream": "stdout",
       "text": [
        "       39/50 after      1 sec. | K    8 | ev -3.294620608e-01 | Ndiff      0.475 \n"
       ]
      },
      {
       "output_type": "stream",
       "stream": "stdout",
       "text": [
        "       40/50 after      1 sec. | K    8 | ev -3.294605343e-01 | Ndiff      0.456 \n"
       ]
      },
      {
       "output_type": "stream",
       "stream": "stdout",
       "text": [
        "       41/50 after      1 sec. | K    8 | ev -3.294591199e-01 | Ndiff      0.439 \n"
       ]
      },
      {
       "output_type": "stream",
       "stream": "stdout",
       "text": [
        "       42/50 after      1 sec. | K    8 | ev -3.294578047e-01 | Ndiff      0.423 \n"
       ]
      },
      {
       "output_type": "stream",
       "stream": "stdout",
       "text": [
        "       43/50 after      1 sec. | K    8 | ev -3.294565779e-01 | Ndiff      0.408 \n"
       ]
      },
      {
       "output_type": "stream",
       "stream": "stdout",
       "text": [
        "       44/50 after      1 sec. | K    8 | ev -3.294554295e-01 | Ndiff      0.394 \n"
       ]
      },
      {
       "output_type": "stream",
       "stream": "stdout",
       "text": [
        "       45/50 after      1 sec. | K    8 | ev -3.294543512e-01 | Ndiff      0.381 \n"
       ]
      },
      {
       "output_type": "stream",
       "stream": "stdout",
       "text": [
        "       46/50 after      1 sec. | K    8 | ev -3.294533352e-01 | Ndiff      0.369 \n"
       ]
      },
      {
       "output_type": "stream",
       "stream": "stdout",
       "text": [
        "       47/50 after      1 sec. | K    8 | ev -3.294523750e-01 | Ndiff      0.357 \n"
       ]
      },
      {
       "output_type": "stream",
       "stream": "stdout",
       "text": [
        "       48/50 after      2 sec. | K    8 | ev -3.294514647e-01 | Ndiff      0.347 \n"
       ]
      },
      {
       "output_type": "stream",
       "stream": "stdout",
       "text": [
        "       49/50 after      2 sec. | K    8 | ev -3.294505989e-01 | Ndiff      0.337 \n"
       ]
      },
      {
       "output_type": "stream",
       "stream": "stdout",
       "text": [
        "       50/50 after      2 sec. | K    8 | ev -3.294497731e-01 | Ndiff      0.328 \n"
       ]
      },
      {
       "output_type": "stream",
       "stream": "stdout",
       "text": [
        "... done. not converged. max laps thru data exceeded.\n"
       ]
      },
      {
       "output_type": "stream",
       "stream": "stdout",
       "text": [
        "Trial  7/25 | alg. seed: 8151168 | data order seed: 3441280\n"
       ]
      },
      {
       "output_type": "stream",
       "stream": "stdout",
       "text": [
        "savepath: /Users/Jens/Dropbox/dev/research/ML/out/AsteriskK8/initrand/7\n"
       ]
      },
      {
       "output_type": "stream",
       "stream": "stdout",
       "text": [
        "        1/50 after      0 sec. | K    8 | ev -1.352521151e+07 |  \n"
       ]
      },
      {
       "output_type": "stream",
       "stream": "stdout",
       "text": [
        "        2/50 after      0 sec. | K    8 | ev -7.273999976e-01 | Ndiff    570.336 \n"
       ]
      },
      {
       "output_type": "stream",
       "stream": "stdout",
       "text": [
        "        3/50 after      0 sec. | K    8 | ev -6.450921259e-01 | Ndiff    820.530 \n"
       ]
      },
      {
       "output_type": "stream",
       "stream": "stdout",
       "text": [
        "        4/50 after      0 sec. | K    8 | ev -5.534021811e-01 | Ndiff   1126.246 \n"
       ]
      },
      {
       "output_type": "stream",
       "stream": "stdout",
       "text": [
        "        5/50 after      0 sec. | K    8 | ev -4.377587677e-01 | Ndiff    849.236 \n"
       ]
      },
      {
       "output_type": "stream",
       "stream": "stdout",
       "text": [
        "        6/50 after      0 sec. | K    8 | ev -3.634343436e-01 | Ndiff    627.733 \n"
       ]
      },
      {
       "output_type": "stream",
       "stream": "stdout",
       "text": [
        "        7/50 after      0 sec. | K    8 | ev -2.995825677e-01 | Ndiff    527.781 \n"
       ]
      },
      {
       "output_type": "stream",
       "stream": "stdout",
       "text": [
        "        8/50 after      0 sec. | K    8 | ev -2.463385184e-01 | Ndiff    281.248 \n"
       ]
      },
      {
       "output_type": "stream",
       "stream": "stdout",
       "text": [
        "        9/50 after      0 sec. | K    8 | ev -1.671002989e-01 | Ndiff     62.424 \n"
       ]
      },
      {
       "output_type": "stream",
       "stream": "stdout",
       "text": [
        "       10/50 after      0 sec. | K    8 | ev -1.402537760e-01 | Ndiff      4.295 \n"
       ]
      },
      {
       "output_type": "stream",
       "stream": "stdout",
       "text": [
        "       11/50 after      0 sec. | K    8 | ev -1.401841000e-01 | Ndiff      1.987 \n"
       ]
      },
      {
       "output_type": "stream",
       "stream": "stdout",
       "text": [
        "       12/50 after      0 sec. | K    8 | ev -1.401410459e-01 | Ndiff      2.317 \n"
       ]
      },
      {
       "output_type": "stream",
       "stream": "stdout",
       "text": [
        "       13/50 after      0 sec. | K    8 | ev -1.400871775e-01 | Ndiff      3.753 \n"
       ]
      },
      {
       "output_type": "stream",
       "stream": "stdout",
       "text": [
        "       14/50 after      0 sec. | K    8 | ev -1.399704775e-01 | Ndiff      7.459 \n"
       ]
      },
      {
       "output_type": "stream",
       "stream": "stdout",
       "text": [
        "       15/50 after      0 sec. | K    8 | ev -1.396175946e-01 | Ndiff     19.012 \n"
       ]
      },
      {
       "output_type": "stream",
       "stream": "stdout",
       "text": [
        "       16/50 after      1 sec. | K    8 | ev -1.383041082e-01 | Ndiff     57.106 \n"
       ]
      },
      {
       "output_type": "stream",
       "stream": "stdout",
       "text": [
        "       17/50 after      1 sec. | K    8 | ev -1.349694794e-01 | Ndiff    130.810 \n"
       ]
      },
      {
       "output_type": "stream",
       "stream": "stdout",
       "text": [
        "       18/50 after      1 sec. | K    8 | ev -1.285465792e-01 | Ndiff    243.538 \n"
       ]
      },
      {
       "output_type": "stream",
       "stream": "stdout",
       "text": [
        "       19/50 after      1 sec. | K    8 | ev -1.166571792e-01 | Ndiff    431.194 \n"
       ]
      },
      {
       "output_type": "stream",
       "stream": "stdout",
       "text": [
        "       20/50 after      1 sec. | K    8 | ev -9.496462262e-02 | Ndiff    733.081 \n"
       ]
      },
      {
       "output_type": "stream",
       "stream": "stdout",
       "text": [
        "       21/50 after      1 sec. | K    8 | ev -5.946159603e-02 | Ndiff   1033.185 \n"
       ]
      },
      {
       "output_type": "stream",
       "stream": "stdout",
       "text": [
        "       22/50 after      1 sec. | K    8 | ev -1.819694758e-02 | Ndiff    910.958 \n"
       ]
      },
      {
       "output_type": "stream",
       "stream": "stdout",
       "text": [
        "       23/50 after      1 sec. | K    8 | ev  1.223070863e-02 | Ndiff    410.845 \n"
       ]
      },
      {
       "output_type": "stream",
       "stream": "stdout",
       "text": [
        "       24/50 after      1 sec. | K    8 | ev  4.297943416e-02 | Ndiff    146.034 \n"
       ]
      },
      {
       "output_type": "stream",
       "stream": "stdout",
       "text": [
        "       25/50 after      1 sec. | K    8 | ev  9.453289268e-02 | Ndiff     23.480 \n"
       ]
      },
      {
       "output_type": "stream",
       "stream": "stdout",
       "text": [
        "       26/50 after      1 sec. | K    8 | ev  1.084134209e-01 | Ndiff      1.037 \n"
       ]
      },
      {
       "output_type": "stream",
       "stream": "stdout",
       "text": [
        "       27/50 after      1 sec. | K    8 | ev  1.084158115e-01 | Ndiff      0.009 \n"
       ]
      },
      {
       "output_type": "stream",
       "stream": "stdout",
       "text": [
        "... done. converged.\n"
       ]
      },
      {
       "output_type": "stream",
       "stream": "stdout",
       "text": [
        "Trial  8/25 | alg. seed: 1990528 | data order seed: 899584\n"
       ]
      },
      {
       "output_type": "stream",
       "stream": "stdout",
       "text": [
        "savepath: /Users/Jens/Dropbox/dev/research/ML/out/AsteriskK8/initrand/8\n"
       ]
      },
      {
       "output_type": "stream",
       "stream": "stdout",
       "text": [
        "        1/50 after      0 sec. | K    8 | ev -5.843359712e+06 |  \n"
       ]
      },
      {
       "output_type": "stream",
       "stream": "stdout",
       "text": [
        "        2/50 after      0 sec. | K    8 | ev -6.478202149e-01 | Ndiff    575.953 \n"
       ]
      },
      {
       "output_type": "stream",
       "stream": "stdout",
       "text": [
        "        3/50 after      0 sec. | K    8 | ev -5.209339998e-01 | Ndiff    781.673 \n"
       ]
      },
      {
       "output_type": "stream",
       "stream": "stdout",
       "text": [
        "        4/50 after      0 sec. | K    8 | ev -4.566462166e-01 | Ndiff    489.161 \n"
       ]
      },
      {
       "output_type": "stream",
       "stream": "stdout",
       "text": [
        "        5/50 after      0 sec. | K    8 | ev -3.795046258e-01 | Ndiff    247.422 \n"
       ]
      },
      {
       "output_type": "stream",
       "stream": "stdout",
       "text": [
        "        6/50 after      0 sec. | K    8 | ev -2.517898936e-01 | Ndiff    119.166 \n"
       ]
      },
      {
       "output_type": "stream",
       "stream": "stdout",
       "text": [
        "        7/50 after      0 sec. | K    8 | ev -1.716245764e-01 | Ndiff     70.003 \n"
       ]
      },
      {
       "output_type": "stream",
       "stream": "stdout",
       "text": [
        "        8/50 after      0 sec. | K    8 | ev -1.411563493e-01 | Ndiff      7.657 \n"
       ]
      },
      {
       "output_type": "stream",
       "stream": "stdout",
       "text": [
        "        9/50 after      0 sec. | K    8 | ev -1.406742160e-01 | Ndiff      5.968 \n"
       ]
      },
      {
       "output_type": "stream",
       "stream": "stdout",
       "text": [
        "       10/50 after      0 sec. | K    8 | ev -1.406602771e-01 | Ndiff      4.802 \n"
       ]
      },
      {
       "output_type": "stream",
       "stream": "stdout",
       "text": [
        "       11/50 after      0 sec. | K    8 | ev -1.406502538e-01 | Ndiff      3.961 \n"
       ]
      },
      {
       "output_type": "stream",
       "stream": "stdout",
       "text": [
        "       12/50 after      0 sec. | K    8 | ev -1.406427933e-01 | Ndiff      3.335 \n"
       ]
      },
      {
       "output_type": "stream",
       "stream": "stdout",
       "text": [
        "       13/50 after      0 sec. | K    8 | ev -1.406370868e-01 | Ndiff      2.855 \n"
       ]
      },
      {
       "output_type": "stream",
       "stream": "stdout",
       "text": [
        "       14/50 after      0 sec. | K    8 | ev -1.406326207e-01 | Ndiff      2.479 \n"
       ]
      },
      {
       "output_type": "stream",
       "stream": "stdout",
       "text": [
        "       15/50 after      1 sec. | K    8 | ev -1.406290550e-01 | Ndiff      2.179 \n"
       ]
      },
      {
       "output_type": "stream",
       "stream": "stdout",
       "text": [
        "       16/50 after      1 sec. | K    8 | ev -1.406261567e-01 | Ndiff      1.934 \n"
       ]
      },
      {
       "output_type": "stream",
       "stream": "stdout",
       "text": [
        "       17/50 after      1 sec. | K    8 | ev -1.406237621e-01 | Ndiff      1.732 \n"
       ]
      },
      {
       "output_type": "stream",
       "stream": "stdout",
       "text": [
        "       18/50 after      1 sec. | K    8 | ev -1.406217535e-01 | Ndiff      1.562 \n"
       ]
      },
      {
       "output_type": "stream",
       "stream": "stdout",
       "text": [
        "       19/50 after      1 sec. | K    8 | ev -1.406200447e-01 | Ndiff      1.418 \n"
       ]
      },
      {
       "output_type": "stream",
       "stream": "stdout",
       "text": [
        "       20/50 after      1 sec. | K    8 | ev -1.406185719e-01 | Ndiff      1.294 \n"
       ]
      },
      {
       "output_type": "stream",
       "stream": "stdout",
       "text": [
        "       21/50 after      1 sec. | K    8 | ev -1.406172868e-01 | Ndiff      1.186 \n"
       ]
      },
      {
       "output_type": "stream",
       "stream": "stdout",
       "text": [
        "       22/50 after      1 sec. | K    8 | ev -1.406161525e-01 | Ndiff      1.092 \n"
       ]
      },
      {
       "output_type": "stream",
       "stream": "stdout",
       "text": [
        "       23/50 after      1 sec. | K    8 | ev -1.406151404e-01 | Ndiff      1.009 \n"
       ]
      },
      {
       "output_type": "stream",
       "stream": "stdout",
       "text": [
        "       24/50 after      1 sec. | K    8 | ev -1.406142281e-01 | Ndiff      0.934 \n"
       ]
      },
      {
       "output_type": "stream",
       "stream": "stdout",
       "text": [
        "       25/50 after      1 sec. | K    8 | ev -1.406133976e-01 | Ndiff      0.868 \n"
       ]
      },
      {
       "output_type": "stream",
       "stream": "stdout",
       "text": [
        "       26/50 after      1 sec. | K    8 | ev -1.406126346e-01 | Ndiff      0.807 \n"
       ]
      },
      {
       "output_type": "stream",
       "stream": "stdout",
       "text": [
        "       27/50 after      1 sec. | K    8 | ev -1.406119273e-01 | Ndiff      0.752 \n"
       ]
      },
      {
       "output_type": "stream",
       "stream": "stdout",
       "text": [
        "       28/50 after      1 sec. | K    8 | ev -1.406112661e-01 | Ndiff      0.702 \n"
       ]
      },
      {
       "output_type": "stream",
       "stream": "stdout",
       "text": [
        "       29/50 after      1 sec. | K    8 | ev -1.406106426e-01 | Ndiff      0.656 \n"
       ]
      },
      {
       "output_type": "stream",
       "stream": "stdout",
       "text": [
        "       30/50 after      1 sec. | K    8 | ev -1.406100502e-01 | Ndiff      0.613 \n"
       ]
      },
      {
       "output_type": "stream",
       "stream": "stdout",
       "text": [
        "       31/50 after      1 sec. | K    8 | ev -1.406094827e-01 | Ndiff      0.574 \n"
       ]
      },
      {
       "output_type": "stream",
       "stream": "stdout",
       "text": [
        "       32/50 after      1 sec. | K    8 | ev -1.406089352e-01 | Ndiff      0.537 \n"
       ]
      },
      {
       "output_type": "stream",
       "stream": "stdout",
       "text": [
        "       33/50 after      1 sec. | K    8 | ev -1.406084030e-01 | Ndiff      0.502 \n"
       ]
      },
      {
       "output_type": "stream",
       "stream": "stdout",
       "text": [
        "       34/50 after      1 sec. | K    8 | ev -1.406078823e-01 | Ndiff      0.469 \n"
       ]
      },
      {
       "output_type": "stream",
       "stream": "stdout",
       "text": [
        "       35/50 after      1 sec. | K    8 | ev -1.406073694e-01 | Ndiff      0.438 \n"
       ]
      },
      {
       "output_type": "stream",
       "stream": "stdout",
       "text": [
        "       36/50 after      1 sec. | K    8 | ev -1.406068611e-01 | Ndiff      0.409 \n"
       ]
      },
      {
       "output_type": "stream",
       "stream": "stdout",
       "text": [
        "       37/50 after      1 sec. | K    8 | ev -1.406063545e-01 | Ndiff      0.381 \n"
       ]
      },
      {
       "output_type": "stream",
       "stream": "stdout",
       "text": [
        "       38/50 after      1 sec. | K    8 | ev -1.406058471e-01 | Ndiff      0.354 \n"
       ]
      },
      {
       "output_type": "stream",
       "stream": "stdout",
       "text": [
        "       39/50 after      1 sec. | K    8 | ev -1.406053364e-01 | Ndiff      0.329 \n"
       ]
      },
      {
       "output_type": "stream",
       "stream": "stdout",
       "text": [
        "       40/50 after      1 sec. | K    8 | ev -1.406048202e-01 | Ndiff      0.304 \n"
       ]
      },
      {
       "output_type": "stream",
       "stream": "stdout",
       "text": [
        "       41/50 after      1 sec. | K    8 | ev -1.406042968e-01 | Ndiff      0.280 \n"
       ]
      },
      {
       "output_type": "stream",
       "stream": "stdout",
       "text": [
        "       42/50 after      1 sec. | K    8 | ev -1.406037643e-01 | Ndiff      0.258 \n"
       ]
      },
      {
       "output_type": "stream",
       "stream": "stdout",
       "text": [
        "       43/50 after      2 sec. | K    8 | ev -1.406032213e-01 | Ndiff      0.236 \n"
       ]
      },
      {
       "output_type": "stream",
       "stream": "stdout",
       "text": [
        "       44/50 after      2 sec. | K    8 | ev -1.406026663e-01 | Ndiff      0.214 \n"
       ]
      },
      {
       "output_type": "stream",
       "stream": "stdout",
       "text": [
        "       45/50 after      2 sec. | K    8 | ev -1.406020983e-01 | Ndiff      0.194 \n"
       ]
      },
      {
       "output_type": "stream",
       "stream": "stdout",
       "text": [
        "       46/50 after      2 sec. | K    8 | ev -1.406015163e-01 | Ndiff      0.174 \n"
       ]
      },
      {
       "output_type": "stream",
       "stream": "stdout",
       "text": [
        "       47/50 after      2 sec. | K    8 | ev -1.406009194e-01 | Ndiff      0.155 \n"
       ]
      },
      {
       "output_type": "stream",
       "stream": "stdout",
       "text": [
        "       48/50 after      2 sec. | K    8 | ev -1.406003068e-01 | Ndiff      0.137 \n"
       ]
      },
      {
       "output_type": "stream",
       "stream": "stdout",
       "text": [
        "       49/50 after      2 sec. | K    8 | ev -1.405996777e-01 | Ndiff      0.119 \n"
       ]
      },
      {
       "output_type": "stream",
       "stream": "stdout",
       "text": [
        "       50/50 after      2 sec. | K    8 | ev -1.405990314e-01 | Ndiff      0.103 \n"
       ]
      },
      {
       "output_type": "stream",
       "stream": "stdout",
       "text": [
        "... done. not converged. max laps thru data exceeded.\n"
       ]
      },
      {
       "output_type": "stream",
       "stream": "stdout",
       "text": [
        "Trial  9/25 | alg. seed: 2134144 | data order seed: 3785600\n"
       ]
      },
      {
       "output_type": "stream",
       "stream": "stdout",
       "text": [
        "savepath: /Users/Jens/Dropbox/dev/research/ML/out/AsteriskK8/initrand/9\n"
       ]
      },
      {
       "output_type": "stream",
       "stream": "stdout",
       "text": [
        "        1/50 after      0 sec. | K    8 | ev -5.449064917e+06 |  \n"
       ]
      },
      {
       "output_type": "stream",
       "stream": "stdout",
       "text": [
        "        2/50 after      0 sec. | K    8 | ev -5.718374147e-01 | Ndiff    281.914 \n"
       ]
      },
      {
       "output_type": "stream",
       "stream": "stdout",
       "text": [
        "        3/50 after      0 sec. | K    8 | ev -4.349245870e-01 | Ndiff    165.593 \n"
       ]
      },
      {
       "output_type": "stream",
       "stream": "stdout",
       "text": [
        "        4/50 after      0 sec. | K    8 | ev -3.754152717e-01 | Ndiff     67.210 \n"
       ]
      },
      {
       "output_type": "stream",
       "stream": "stdout",
       "text": [
        "        5/50 after      0 sec. | K    8 | ev -3.644855839e-01 | Ndiff    110.260 \n"
       ]
      },
      {
       "output_type": "stream",
       "stream": "stdout",
       "text": [
        "        6/50 after      0 sec. | K    8 | ev -3.302467819e-01 | Ndiff    278.303 \n"
       ]
      },
      {
       "output_type": "stream",
       "stream": "stdout",
       "text": [
        "        7/50 after      0 sec. | K    8 | ev -2.412246916e-01 | Ndiff    278.049 \n"
       ]
      },
      {
       "output_type": "stream",
       "stream": "stdout",
       "text": [
        "        8/50 after      0 sec. | K    8 | ev -1.565939731e-01 | Ndiff     40.742 \n"
       ]
      },
      {
       "output_type": "stream",
       "stream": "stdout",
       "text": [
        "        9/50 after      0 sec. | K    8 | ev -1.413633214e-01 | Ndiff      0.602 \n"
       ]
      },
      {
       "output_type": "stream",
       "stream": "stdout",
       "text": [
        "       10/50 after      0 sec. | K    8 | ev -1.413497377e-01 | Ndiff      0.369 \n"
       ]
      },
      {
       "output_type": "stream",
       "stream": "stdout",
       "text": [
        "       11/50 after      0 sec. | K    8 | ev -1.413397418e-01 | Ndiff      0.392 \n"
       ]
      },
      {
       "output_type": "stream",
       "stream": "stdout",
       "text": [
        "       12/50 after      0 sec. | K    8 | ev -1.413319201e-01 | Ndiff      0.404 \n"
       ]
      },
      {
       "output_type": "stream",
       "stream": "stdout",
       "text": [
        "       13/50 after      0 sec. | K    8 | ev -1.413256537e-01 | Ndiff      0.411 \n"
       ]
      },
      {
       "output_type": "stream",
       "stream": "stdout",
       "text": [
        "       14/50 after      0 sec. | K    8 | ev -1.413205421e-01 | Ndiff      0.415 \n"
       ]
      },
      {
       "output_type": "stream",
       "stream": "stdout",
       "text": [
        "       15/50 after      1 sec. | K    8 | ev -1.413163111e-01 | Ndiff      0.419 \n"
       ]
      },
      {
       "output_type": "stream",
       "stream": "stdout",
       "text": [
        "       16/50 after      1 sec. | K    8 | ev -1.413127659e-01 | Ndiff      0.421 \n"
       ]
      },
      {
       "output_type": "stream",
       "stream": "stdout",
       "text": [
        "       17/50 after      1 sec. | K    8 | ev -1.413097638e-01 | Ndiff      0.423 \n"
       ]
      },
      {
       "output_type": "stream",
       "stream": "stdout",
       "text": [
        "       18/50 after      1 sec. | K    8 | ev -1.413071981e-01 | Ndiff      0.424 \n"
       ]
      },
      {
       "output_type": "stream",
       "stream": "stdout",
       "text": [
        "       19/50 after      1 sec. | K    8 | ev -1.413049874e-01 | Ndiff      0.425 \n"
       ]
      },
      {
       "output_type": "stream",
       "stream": "stdout",
       "text": [
        "       20/50 after      1 sec. | K    8 | ev -1.413030686e-01 | Ndiff      0.425 \n"
       ]
      },
      {
       "output_type": "stream",
       "stream": "stdout",
       "text": [
        "       21/50 after      1 sec. | K    8 | ev -1.413013922e-01 | Ndiff      0.425 \n"
       ]
      },
      {
       "output_type": "stream",
       "stream": "stdout",
       "text": [
        "       22/50 after      1 sec. | K    8 | ev -1.412999189e-01 | Ndiff      0.425 \n"
       ]
      },
      {
       "output_type": "stream",
       "stream": "stdout",
       "text": [
        "       23/50 after      1 sec. | K    8 | ev -1.412986170e-01 | Ndiff      0.425 \n"
       ]
      },
      {
       "output_type": "stream",
       "stream": "stdout",
       "text": [
        "       24/50 after      1 sec. | K    8 | ev -1.412974609e-01 | Ndiff      0.424 \n"
       ]
      },
      {
       "output_type": "stream",
       "stream": "stdout",
       "text": [
        "       25/50 after      1 sec. | K    8 | ev -1.412964295e-01 | Ndiff      0.424 \n"
       ]
      },
      {
       "output_type": "stream",
       "stream": "stdout",
       "text": [
        "       26/50 after      1 sec. | K    8 | ev -1.412955055e-01 | Ndiff      0.423 \n"
       ]
      },
      {
       "output_type": "stream",
       "stream": "stdout",
       "text": [
        "       27/50 after      1 sec. | K    8 | ev -1.412946745e-01 | Ndiff      0.423 \n"
       ]
      },
      {
       "output_type": "stream",
       "stream": "stdout",
       "text": [
        "       28/50 after      1 sec. | K    8 | ev -1.412939243e-01 | Ndiff      0.422 \n"
       ]
      },
      {
       "output_type": "stream",
       "stream": "stdout",
       "text": [
        "       29/50 after      1 sec. | K    8 | ev -1.412932448e-01 | Ndiff      0.421 \n"
       ]
      },
      {
       "output_type": "stream",
       "stream": "stdout",
       "text": [
        "       30/50 after      1 sec. | K    8 | ev -1.412926274e-01 | Ndiff      0.421 \n"
       ]
      },
      {
       "output_type": "stream",
       "stream": "stdout",
       "text": [
        "       31/50 after      1 sec. | K    8 | ev -1.412920647e-01 | Ndiff      0.420 \n"
       ]
      },
      {
       "output_type": "stream",
       "stream": "stdout",
       "text": [
        "       32/50 after      1 sec. | K    8 | ev -1.412915504e-01 | Ndiff      0.419 \n"
       ]
      },
      {
       "output_type": "stream",
       "stream": "stdout",
       "text": [
        "       33/50 after      1 sec. | K    8 | ev -1.412910791e-01 | Ndiff      0.418 \n"
       ]
      },
      {
       "output_type": "stream",
       "stream": "stdout",
       "text": [
        "       34/50 after      1 sec. | K    8 | ev -1.412906460e-01 | Ndiff      0.417 \n"
       ]
      },
      {
       "output_type": "stream",
       "stream": "stdout",
       "text": [
        "       35/50 after      1 sec. | K    8 | ev -1.412902472e-01 | Ndiff      0.417 \n"
       ]
      },
      {
       "output_type": "stream",
       "stream": "stdout",
       "text": [
        "       36/50 after      1 sec. | K    8 | ev -1.412898790e-01 | Ndiff      0.416 \n"
       ]
      },
      {
       "output_type": "stream",
       "stream": "stdout",
       "text": [
        "       37/50 after      1 sec. | K    8 | ev -1.412895383e-01 | Ndiff      0.415 \n"
       ]
      },
      {
       "output_type": "stream",
       "stream": "stdout",
       "text": [
        "       38/50 after      1 sec. | K    8 | ev -1.412892225e-01 | Ndiff      0.414 \n"
       ]
      },
      {
       "output_type": "stream",
       "stream": "stdout",
       "text": [
        "       39/50 after      1 sec. | K    8 | ev -1.412889291e-01 | Ndiff      0.413 \n"
       ]
      },
      {
       "output_type": "stream",
       "stream": "stdout",
       "text": [
        "       40/50 after      1 sec. | K    8 | ev -1.412886560e-01 | Ndiff      0.412 \n"
       ]
      },
      {
       "output_type": "stream",
       "stream": "stdout",
       "text": [
        "       41/50 after      1 sec. | K    8 | ev -1.412884013e-01 | Ndiff      0.412 \n"
       ]
      },
      {
       "output_type": "stream",
       "stream": "stdout",
       "text": [
        "       42/50 after      1 sec. | K    8 | ev -1.412881634e-01 | Ndiff      0.411 \n"
       ]
      },
      {
       "output_type": "stream",
       "stream": "stdout",
       "text": [
        "       43/50 after      1 sec. | K    8 | ev -1.412879407e-01 | Ndiff      0.410 \n"
       ]
      },
      {
       "output_type": "stream",
       "stream": "stdout",
       "text": [
        "       44/50 after      1 sec. | K    8 | ev -1.412877320e-01 | Ndiff      0.409 \n"
       ]
      },
      {
       "output_type": "stream",
       "stream": "stdout",
       "text": [
        "       45/50 after      2 sec. | K    8 | ev -1.412875360e-01 | Ndiff      0.408 \n"
       ]
      },
      {
       "output_type": "stream",
       "stream": "stdout",
       "text": [
        "       46/50 after      2 sec. | K    8 | ev -1.412873516e-01 | Ndiff      0.407 \n"
       ]
      },
      {
       "output_type": "stream",
       "stream": "stdout",
       "text": [
        "       47/50 after      2 sec. | K    8 | ev -1.412871779e-01 | Ndiff      0.407 \n"
       ]
      },
      {
       "output_type": "stream",
       "stream": "stdout",
       "text": [
        "       48/50 after      2 sec. | K    8 | ev -1.412870141e-01 | Ndiff      0.406 \n"
       ]
      },
      {
       "output_type": "stream",
       "stream": "stdout",
       "text": [
        "       49/50 after      2 sec. | K    8 | ev -1.412868594e-01 | Ndiff      0.405 \n"
       ]
      },
      {
       "output_type": "stream",
       "stream": "stdout",
       "text": [
        "       50/50 after      2 sec. | K    8 | ev -1.412867130e-01 | Ndiff      0.404 \n"
       ]
      },
      {
       "output_type": "stream",
       "stream": "stdout",
       "text": [
        "... done. not converged. max laps thru data exceeded.\n"
       ]
      },
      {
       "output_type": "stream",
       "stream": "stdout",
       "text": [
        "Trial 10/25 | alg. seed: 8178944 | data order seed: 6801920\n"
       ]
      },
      {
       "output_type": "stream",
       "stream": "stdout",
       "text": [
        "savepath: /Users/Jens/Dropbox/dev/research/ML/out/AsteriskK8/initrand/10\n"
       ]
      },
      {
       "output_type": "stream",
       "stream": "stdout",
       "text": [
        "        1/50 after      0 sec. | K    8 | ev -7.204727084e+06 |  \n"
       ]
      },
      {
       "output_type": "stream",
       "stream": "stdout",
       "text": [
        "        2/50 after      0 sec. | K    8 | ev -8.476398766e-01 | Ndiff    151.159 \n"
       ]
      },
      {
       "output_type": "stream",
       "stream": "stdout",
       "text": [
        "        3/50 after      0 sec. | K    8 | ev -7.108600478e-01 | Ndiff    456.727 \n"
       ]
      },
      {
       "output_type": "stream",
       "stream": "stdout",
       "text": [
        "        4/50 after      0 sec. | K    8 | ev -6.139818830e-01 | Ndiff    786.694 \n"
       ]
      },
      {
       "output_type": "stream",
       "stream": "stdout",
       "text": [
        "        5/50 after      0 sec. | K    8 | ev -5.583916543e-01 | Ndiff    265.837 \n"
       ]
      },
      {
       "output_type": "stream",
       "stream": "stdout",
       "text": [
        "        6/50 after      0 sec. | K    8 | ev -5.144467290e-01 | Ndiff    138.548 \n"
       ]
      },
      {
       "output_type": "stream",
       "stream": "stdout",
       "text": [
        "        7/50 after      0 sec. | K    8 | ev -4.690783573e-01 | Ndiff    131.520 \n"
       ]
      },
      {
       "output_type": "stream",
       "stream": "stdout",
       "text": [
        "        8/50 after      0 sec. | K    8 | ev -4.663729574e-01 | Ndiff    133.188 \n"
       ]
      },
      {
       "output_type": "stream",
       "stream": "stdout",
       "text": [
        "        9/50 after      0 sec. | K    8 | ev -4.638194744e-01 | Ndiff    164.761 \n"
       ]
      },
      {
       "output_type": "stream",
       "stream": "stdout",
       "text": [
        "       10/50 after      0 sec. | K    8 | ev -4.609016831e-01 | Ndiff    190.036 \n"
       ]
      },
      {
       "output_type": "stream",
       "stream": "stdout",
       "text": [
        "       11/50 after      0 sec. | K    8 | ev -4.570954043e-01 | Ndiff    202.670 \n"
       ]
      },
      {
       "output_type": "stream",
       "stream": "stdout",
       "text": [
        "       12/50 after      0 sec. | K    8 | ev -4.510770798e-01 | Ndiff    192.554 \n"
       ]
      },
      {
       "output_type": "stream",
       "stream": "stdout",
       "text": [
        "       13/50 after      0 sec. | K    8 | ev -4.385350730e-01 | Ndiff    117.538 \n"
       ]
      },
      {
       "output_type": "stream",
       "stream": "stdout",
       "text": [
        "       14/50 after      0 sec. | K    8 | ev -4.044272263e-01 | Ndiff    174.981 \n"
       ]
      },
      {
       "output_type": "stream",
       "stream": "stdout",
       "text": [
        "       15/50 after      1 sec. | K    8 | ev -3.336688511e-01 | Ndiff    475.299 \n"
       ]
      },
      {
       "output_type": "stream",
       "stream": "stdout",
       "text": [
        "       16/50 after      1 sec. | K    8 | ev -3.250947909e-01 | Ndiff    181.045 \n"
       ]
      },
      {
       "output_type": "stream",
       "stream": "stdout",
       "text": [
        "       17/50 after      1 sec. | K    8 | ev -3.240977981e-01 | Ndiff     67.490 \n"
       ]
      },
      {
       "output_type": "stream",
       "stream": "stdout",
       "text": [
        "       18/50 after      1 sec. | K    8 | ev -3.239496514e-01 | Ndiff     24.948 \n"
       ]
      },
      {
       "output_type": "stream",
       "stream": "stdout",
       "text": [
        "       19/50 after      1 sec. | K    8 | ev -3.239247793e-01 | Ndiff      9.819 \n"
       ]
      },
      {
       "output_type": "stream",
       "stream": "stdout",
       "text": [
        "       20/50 after      1 sec. | K    8 | ev -3.239153461e-01 | Ndiff      4.471 \n"
       ]
      },
      {
       "output_type": "stream",
       "stream": "stdout",
       "text": [
        "       21/50 after      1 sec. | K    8 | ev -3.239087275e-01 | Ndiff      2.418 \n"
       ]
      },
      {
       "output_type": "stream",
       "stream": "stdout",
       "text": [
        "       22/50 after      1 sec. | K    8 | ev -3.239032913e-01 | Ndiff      1.500 \n"
       ]
      },
      {
       "output_type": "stream",
       "stream": "stdout",
       "text": [
        "       23/50 after      1 sec. | K    8 | ev -3.238986477e-01 | Ndiff      1.350 \n"
       ]
      },
      {
       "output_type": "stream",
       "stream": "stdout",
       "text": [
        "       24/50 after      1 sec. | K    8 | ev -3.238946102e-01 | Ndiff      1.287 \n"
       ]
      },
      {
       "output_type": "stream",
       "stream": "stdout",
       "text": [
        "       25/50 after      1 sec. | K    8 | ev -3.238910596e-01 | Ndiff      1.226 \n"
       ]
      },
      {
       "output_type": "stream",
       "stream": "stdout",
       "text": [
        "       26/50 after      1 sec. | K    8 | ev -3.238879112e-01 | Ndiff      1.174 \n"
       ]
      },
      {
       "output_type": "stream",
       "stream": "stdout",
       "text": [
        "       27/50 after      1 sec. | K    8 | ev -3.238851017e-01 | Ndiff      1.128 \n"
       ]
      },
      {
       "output_type": "stream",
       "stream": "stdout",
       "text": [
        "       28/50 after      1 sec. | K    8 | ev -3.238825817e-01 | Ndiff      1.084 \n"
       ]
      },
      {
       "output_type": "stream",
       "stream": "stdout",
       "text": [
        "       29/50 after      1 sec. | K    8 | ev -3.238803117e-01 | Ndiff      1.043 \n"
       ]
      },
      {
       "output_type": "stream",
       "stream": "stdout",
       "text": [
        "       30/50 after      1 sec. | K    8 | ev -3.238782594e-01 | Ndiff      1.005 \n"
       ]
      },
      {
       "output_type": "stream",
       "stream": "stdout",
       "text": [
        "       31/50 after      1 sec. | K    8 | ev -3.238763976e-01 | Ndiff      0.968 \n"
       ]
      },
      {
       "output_type": "stream",
       "stream": "stdout",
       "text": [
        "       32/50 after      1 sec. | K    8 | ev -3.238747038e-01 | Ndiff      0.934 \n"
       ]
      },
      {
       "output_type": "stream",
       "stream": "stdout",
       "text": [
        "       33/50 after      1 sec. | K    8 | ev -3.238731586e-01 | Ndiff      0.901 \n"
       ]
      },
      {
       "output_type": "stream",
       "stream": "stdout",
       "text": [
        "       34/50 after      1 sec. | K    8 | ev -3.238717453e-01 | Ndiff      0.870 \n"
       ]
      },
      {
       "output_type": "stream",
       "stream": "stdout",
       "text": [
        "       35/50 after      1 sec. | K    8 | ev -3.238704496e-01 | Ndiff      0.841 \n"
       ]
      },
      {
       "output_type": "stream",
       "stream": "stdout",
       "text": [
        "       36/50 after      1 sec. | K    8 | ev -3.238692591e-01 | Ndiff      0.813 \n"
       ]
      },
      {
       "output_type": "stream",
       "stream": "stdout",
       "text": [
        "       37/50 after      1 sec. | K    8 | ev -3.238681631e-01 | Ndiff      0.786 \n"
       ]
      },
      {
       "output_type": "stream",
       "stream": "stdout",
       "text": [
        "       38/50 after      1 sec. | K    8 | ev -3.238671519e-01 | Ndiff      0.761 \n"
       ]
      },
      {
       "output_type": "stream",
       "stream": "stdout",
       "text": [
        "       39/50 after      1 sec. | K    8 | ev -3.238662172e-01 | Ndiff      0.737 \n"
       ]
      },
      {
       "output_type": "stream",
       "stream": "stdout",
       "text": [
        "       40/50 after      1 sec. | K    8 | ev -3.238653518e-01 | Ndiff      0.713 \n"
       ]
      },
      {
       "output_type": "stream",
       "stream": "stdout",
       "text": [
        "       41/50 after      1 sec. | K    8 | ev -3.238645491e-01 | Ndiff      0.691 \n"
       ]
      },
      {
       "output_type": "stream",
       "stream": "stdout",
       "text": [
        "       42/50 after      1 sec. | K    8 | ev -3.238638033e-01 | Ndiff      0.670 \n"
       ]
      },
      {
       "output_type": "stream",
       "stream": "stdout",
       "text": [
        "       43/50 after      1 sec. | K    8 | ev -3.238631094e-01 | Ndiff      0.650 \n"
       ]
      },
      {
       "output_type": "stream",
       "stream": "stdout",
       "text": [
        "       44/50 after      1 sec. | K    8 | ev -3.238624628e-01 | Ndiff      0.631 \n"
       ]
      },
      {
       "output_type": "stream",
       "stream": "stdout",
       "text": [
        "       45/50 after      1 sec. | K    8 | ev -3.238618593e-01 | Ndiff      0.612 \n"
       ]
      },
      {
       "output_type": "stream",
       "stream": "stdout",
       "text": [
        "       46/50 after      2 sec. | K    8 | ev -3.238612953e-01 | Ndiff      0.595 \n"
       ]
      },
      {
       "output_type": "stream",
       "stream": "stdout",
       "text": [
        "       47/50 after      2 sec. | K    8 | ev -3.238607676e-01 | Ndiff      0.578 \n"
       ]
      },
      {
       "output_type": "stream",
       "stream": "stdout",
       "text": [
        "       48/50 after      2 sec. | K    8 | ev -3.238602731e-01 | Ndiff      0.561 \n"
       ]
      },
      {
       "output_type": "stream",
       "stream": "stdout",
       "text": [
        "       49/50 after      2 sec. | K    8 | ev -3.238598093e-01 | Ndiff      0.546 \n"
       ]
      },
      {
       "output_type": "stream",
       "stream": "stdout",
       "text": [
        "       50/50 after      2 sec. | K    8 | ev -3.238593736e-01 | Ndiff      0.531 \n"
       ]
      },
      {
       "output_type": "stream",
       "stream": "stdout",
       "text": [
        "... done. not converged. max laps thru data exceeded.\n"
       ]
      },
      {
       "output_type": "stream",
       "stream": "stdout",
       "text": [
        "Trial 11/25 | alg. seed: 2505344 | data order seed: 2531072\n"
       ]
      },
      {
       "output_type": "stream",
       "stream": "stdout",
       "text": [
        "savepath: /Users/Jens/Dropbox/dev/research/ML/out/AsteriskK8/initrand/11\n"
       ]
      },
      {
       "output_type": "stream",
       "stream": "stdout",
       "text": [
        "        1/50 after      0 sec. | K    8 | ev -4.663989872e+06 |  \n"
       ]
      },
      {
       "output_type": "stream",
       "stream": "stdout",
       "text": [
        "        2/50 after      0 sec. | K    8 | ev -5.741132569e-01 | Ndiff    201.835 \n"
       ]
      },
      {
       "output_type": "stream",
       "stream": "stdout",
       "text": [
        "        3/50 after      0 sec. | K    8 | ev -4.171556709e-01 | Ndiff    114.443 \n"
       ]
      },
      {
       "output_type": "stream",
       "stream": "stdout",
       "text": [
        "        4/50 after      0 sec. | K    8 | ev -3.896080565e-01 | Ndiff     28.229 \n"
       ]
      },
      {
       "output_type": "stream",
       "stream": "stdout",
       "text": [
        "        5/50 after      0 sec. | K    8 | ev -3.880294781e-01 | Ndiff     21.311 \n"
       ]
      },
      {
       "output_type": "stream",
       "stream": "stdout",
       "text": [
        "        6/50 after      0 sec. | K    8 | ev -3.863509252e-01 | Ndiff     51.161 \n"
       ]
      },
      {
       "output_type": "stream",
       "stream": "stdout",
       "text": [
        "        7/50 after      0 sec. | K    8 | ev -3.834904681e-01 | Ndiff    108.032 \n"
       ]
      },
      {
       "output_type": "stream",
       "stream": "stdout",
       "text": [
        "        8/50 after      0 sec. | K    8 | ev -3.769721240e-01 | Ndiff    245.723 \n"
       ]
      },
      {
       "output_type": "stream",
       "stream": "stdout",
       "text": [
        "        9/50 after      0 sec. | K    8 | ev -3.562632234e-01 | Ndiff    643.083 \n"
       ]
      },
      {
       "output_type": "stream",
       "stream": "stdout",
       "text": [
        "       10/50 after      0 sec. | K    8 | ev -2.986541854e-01 | Ndiff   1243.405 \n"
       ]
      },
      {
       "output_type": "stream",
       "stream": "stdout",
       "text": [
        "       11/50 after      0 sec. | K    8 | ev -2.492792019e-01 | Ndiff    866.663 \n"
       ]
      },
      {
       "output_type": "stream",
       "stream": "stdout",
       "text": [
        "       12/50 after      0 sec. | K    8 | ev -2.175841538e-01 | Ndiff    343.227 \n"
       ]
      },
      {
       "output_type": "stream",
       "stream": "stdout",
       "text": [
        "       13/50 after      0 sec. | K    8 | ev -1.783575830e-01 | Ndiff    110.545 \n"
       ]
      },
      {
       "output_type": "stream",
       "stream": "stdout",
       "text": [
        "       14/50 after      0 sec. | K    8 | ev -1.095059287e-01 | Ndiff     10.646 \n"
       ]
      },
      {
       "output_type": "stream",
       "stream": "stdout",
       "text": [
        "       15/50 after      0 sec. | K    8 | ev -6.505566306e-02 | Ndiff     25.118 \n"
       ]
      },
      {
       "output_type": "stream",
       "stream": "stdout",
       "text": [
        "       16/50 after      1 sec. | K    8 | ev  3.337012566e-02 | Ndiff     22.736 \n"
       ]
      },
      {
       "output_type": "stream",
       "stream": "stdout",
       "text": [
        "       17/50 after      1 sec. | K    8 | ev  1.083377926e-01 | Ndiff      1.480 \n"
       ]
      },
      {
       "output_type": "stream",
       "stream": "stdout",
       "text": [
        "       18/50 after      1 sec. | K    8 | ev  1.084158112e-01 | Ndiff      0.016 \n"
       ]
      },
      {
       "output_type": "stream",
       "stream": "stdout",
       "text": [
        "... done. converged.\n"
       ]
      },
      {
       "output_type": "stream",
       "stream": "stdout",
       "text": [
        "Trial 12/25 | alg. seed: 8822656 | data order seed: 3886080\n"
       ]
      },
      {
       "output_type": "stream",
       "stream": "stdout",
       "text": [
        "savepath: /Users/Jens/Dropbox/dev/research/ML/out/AsteriskK8/initrand/12\n"
       ]
      },
      {
       "output_type": "stream",
       "stream": "stdout",
       "text": [
        "        1/50 after      0 sec. | K    8 | ev -6.418715587e+06 |  \n"
       ]
      },
      {
       "output_type": "stream",
       "stream": "stdout",
       "text": [
        "        2/50 after      0 sec. | K    8 | ev -3.639165799e-01 | Ndiff    929.913 \n"
       ]
      },
      {
       "output_type": "stream",
       "stream": "stdout",
       "text": [
        "        3/50 after      0 sec. | K    8 | ev -2.918447238e-01 | Ndiff    825.971 \n"
       ]
      },
      {
       "output_type": "stream",
       "stream": "stdout",
       "text": [
        "        4/50 after      0 sec. | K    8 | ev -2.399865657e-01 | Ndiff    567.132 \n"
       ]
      },
      {
       "output_type": "stream",
       "stream": "stdout",
       "text": [
        "        5/50 after      0 sec. | K    8 | ev -2.025805008e-01 | Ndiff    273.423 \n"
       ]
      },
      {
       "output_type": "stream",
       "stream": "stdout",
       "text": [
        "        6/50 after      0 sec. | K    8 | ev -1.616325013e-01 | Ndiff     93.880 \n"
       ]
      },
      {
       "output_type": "stream",
       "stream": "stdout",
       "text": [
        "        7/50 after      0 sec. | K    8 | ev -1.417955472e-01 | Ndiff     35.760 \n"
       ]
      },
      {
       "output_type": "stream",
       "stream": "stdout",
       "text": [
        "        8/50 after      0 sec. | K    8 | ev -1.398966271e-01 | Ndiff     79.401 \n"
       ]
      },
      {
       "output_type": "stream",
       "stream": "stdout",
       "text": [
        "        9/50 after      0 sec. | K    8 | ev -1.366570012e-01 | Ndiff    160.667 \n"
       ]
      },
      {
       "output_type": "stream",
       "stream": "stdout",
       "text": [
        "       10/50 after      0 sec. | K    8 | ev -1.269561532e-01 | Ndiff    380.390 \n"
       ]
      },
      {
       "output_type": "stream",
       "stream": "stdout",
       "text": [
        "       11/50 after      0 sec. | K    8 | ev -9.267711866e-02 | Ndiff    938.806 \n"
       ]
      },
      {
       "output_type": "stream",
       "stream": "stdout",
       "text": [
        "       12/50 after      0 sec. | K    8 | ev -4.161779018e-02 | Ndiff   1134.430 \n"
       ]
      },
      {
       "output_type": "stream",
       "stream": "stdout",
       "text": [
        "       13/50 after      0 sec. | K    8 | ev -2.878060062e-03 | Ndiff    684.372 \n"
       ]
      },
      {
       "output_type": "stream",
       "stream": "stdout",
       "text": [
        "       14/50 after      1 sec. | K    8 | ev  2.492600975e-02 | Ndiff    246.625 \n"
       ]
      },
      {
       "output_type": "stream",
       "stream": "stdout",
       "text": [
        "       15/50 after      1 sec. | K    8 | ev  6.606439376e-02 | Ndiff     65.947 \n"
       ]
      },
      {
       "output_type": "stream",
       "stream": "stdout",
       "text": [
        "       16/50 after      1 sec. | K    8 | ev  1.081909410e-01 | Ndiff      4.094 \n"
       ]
      },
      {
       "output_type": "stream",
       "stream": "stdout",
       "text": [
        "       17/50 after      1 sec. | K    8 | ev  1.084158102e-01 | Ndiff      0.042 \n"
       ]
      },
      {
       "output_type": "stream",
       "stream": "stdout",
       "text": [
        "... done. converged.\n"
       ]
      },
      {
       "output_type": "stream",
       "stream": "stdout",
       "text": [
        "Trial 13/25 | alg. seed: 6912512 | data order seed: 8818688\n"
       ]
      },
      {
       "output_type": "stream",
       "stream": "stdout",
       "text": [
        "savepath: /Users/Jens/Dropbox/dev/research/ML/out/AsteriskK8/initrand/13\n"
       ]
      },
      {
       "output_type": "stream",
       "stream": "stdout",
       "text": [
        "        1/50 after      0 sec. | K    8 | ev -5.818865280e+06 |  \n"
       ]
      },
      {
       "output_type": "stream",
       "stream": "stdout",
       "text": [
        "        2/50 after      0 sec. | K    8 | ev -8.790066770e-01 | Ndiff    484.899 \n"
       ]
      },
      {
       "output_type": "stream",
       "stream": "stdout",
       "text": [
        "        3/50 after      0 sec. | K    8 | ev -7.773970681e-01 | Ndiff    814.597 \n"
       ]
      },
      {
       "output_type": "stream",
       "stream": "stdout",
       "text": [
        "        4/50 after      0 sec. | K    8 | ev -6.741584600e-01 | Ndiff    902.567 \n"
       ]
      },
      {
       "output_type": "stream",
       "stream": "stdout",
       "text": [
        "        5/50 after      0 sec. | K    8 | ev -5.622784586e-01 | Ndiff    521.386 \n"
       ]
      },
      {
       "output_type": "stream",
       "stream": "stdout",
       "text": [
        "        6/50 after      0 sec. | K    8 | ev -5.449675350e-01 | Ndiff    259.279 \n"
       ]
      },
      {
       "output_type": "stream",
       "stream": "stdout",
       "text": [
        "        7/50 after      0 sec. | K    8 | ev -5.322886016e-01 | Ndiff    119.095 \n"
       ]
      },
      {
       "output_type": "stream",
       "stream": "stdout",
       "text": [
        "        8/50 after      0 sec. | K    8 | ev -5.149812056e-01 | Ndiff    138.445 \n"
       ]
      },
      {
       "output_type": "stream",
       "stream": "stdout",
       "text": [
        "        9/50 after      0 sec. | K    8 | ev -4.773361852e-01 | Ndiff    363.586 \n"
       ]
      },
      {
       "output_type": "stream",
       "stream": "stdout",
       "text": [
        "       10/50 after      0 sec. | K    8 | ev -4.334367067e-01 | Ndiff    507.211 \n"
       ]
      },
      {
       "output_type": "stream",
       "stream": "stdout",
       "text": [
        "       11/50 after      0 sec. | K    8 | ev -4.158257370e-01 | Ndiff    516.887 \n"
       ]
      },
      {
       "output_type": "stream",
       "stream": "stdout",
       "text": [
        "       12/50 after      0 sec. | K    8 | ev -4.020103596e-01 | Ndiff    399.481 \n"
       ]
      },
      {
       "output_type": "stream",
       "stream": "stdout",
       "text": [
        "       13/50 after      0 sec. | K    8 | ev -3.933076823e-01 | Ndiff    225.543 \n"
       ]
      },
      {
       "output_type": "stream",
       "stream": "stdout",
       "text": [
        "       14/50 after      0 sec. | K    8 | ev -3.891415109e-01 | Ndiff     91.240 \n"
       ]
      },
      {
       "output_type": "stream",
       "stream": "stdout",
       "text": [
        "       15/50 after      0 sec. | K    8 | ev -3.874008724e-01 | Ndiff     34.229 \n"
       ]
      },
      {
       "output_type": "stream",
       "stream": "stdout",
       "text": [
        "       16/50 after      1 sec. | K    8 | ev -3.864587331e-01 | Ndiff     25.561 \n"
       ]
      },
      {
       "output_type": "stream",
       "stream": "stdout",
       "text": [
        "       17/50 after      1 sec. | K    8 | ev -3.853072989e-01 | Ndiff     49.973 \n"
       ]
      },
      {
       "output_type": "stream",
       "stream": "stdout",
       "text": [
        "       18/50 after      1 sec. | K    8 | ev -3.828558870e-01 | Ndiff    105.493 \n"
       ]
      },
      {
       "output_type": "stream",
       "stream": "stdout",
       "text": [
        "       19/50 after      1 sec. | K    8 | ev -3.761523403e-01 | Ndiff    249.920 \n"
       ]
      },
      {
       "output_type": "stream",
       "stream": "stdout",
       "text": [
        "       20/50 after      1 sec. | K    8 | ev -3.536649418e-01 | Ndiff    647.417 \n"
       ]
      },
      {
       "output_type": "stream",
       "stream": "stdout",
       "text": [
        "       21/50 after      1 sec. | K    8 | ev -3.033268121e-01 | Ndiff   1113.190 \n"
       ]
      },
      {
       "output_type": "stream",
       "stream": "stdout",
       "text": [
        "       22/50 after      1 sec. | K    8 | ev -2.515464488e-01 | Ndiff    923.550 \n"
       ]
      },
      {
       "output_type": "stream",
       "stream": "stdout",
       "text": [
        "       23/50 after      1 sec. | K    8 | ev -1.994663866e-01 | Ndiff    412.988 \n"
       ]
      },
      {
       "output_type": "stream",
       "stream": "stdout",
       "text": [
        "       24/50 after      1 sec. | K    8 | ev -1.180780308e-01 | Ndiff    155.975 \n"
       ]
      },
      {
       "output_type": "stream",
       "stream": "stdout",
       "text": [
        "       25/50 after      1 sec. | K    8 | ev  4.902939082e-02 | Ndiff     25.147 \n"
       ]
      },
      {
       "output_type": "stream",
       "stream": "stdout",
       "text": [
        "       26/50 after      1 sec. | K    8 | ev  1.084098588e-01 | Ndiff      0.527 \n"
       ]
      },
      {
       "output_type": "stream",
       "stream": "stdout",
       "text": [
        "       27/50 after      1 sec. | K    8 | ev  1.084158115e-01 | Ndiff      0.004 \n"
       ]
      },
      {
       "output_type": "stream",
       "stream": "stdout",
       "text": [
        "... done. converged.\n"
       ]
      },
      {
       "output_type": "stream",
       "stream": "stdout",
       "text": [
        "Trial 14/25 | alg. seed: 4384128 | data order seed: 3528320\n"
       ]
      },
      {
       "output_type": "stream",
       "stream": "stdout",
       "text": [
        "savepath: /Users/Jens/Dropbox/dev/research/ML/out/AsteriskK8/initrand/14\n"
       ]
      },
      {
       "output_type": "stream",
       "stream": "stdout",
       "text": [
        "        1/50 after      0 sec. | K    8 | ev -5.285536848e+06 |  \n"
       ]
      },
      {
       "output_type": "stream",
       "stream": "stdout",
       "text": [
        "        2/50 after      0 sec. | K    8 | ev -5.469521364e-01 | Ndiff    435.300 \n"
       ]
      },
      {
       "output_type": "stream",
       "stream": "stdout",
       "text": [
        "        3/50 after      0 sec. | K    8 | ev -3.697296969e-01 | Ndiff    816.400 \n"
       ]
      },
      {
       "output_type": "stream",
       "stream": "stdout",
       "text": [
        "        4/50 after      0 sec. | K    8 | ev -3.329465159e-01 | Ndiff    699.437 \n"
       ]
      },
      {
       "output_type": "stream",
       "stream": "stdout",
       "text": [
        "        5/50 after      0 sec. | K    8 | ev -3.052930554e-01 | Ndiff    411.927 \n"
       ]
      },
      {
       "output_type": "stream",
       "stream": "stdout",
       "text": [
        "        6/50 after      0 sec. | K    8 | ev -2.658674449e-01 | Ndiff    361.738 \n"
       ]
      },
      {
       "output_type": "stream",
       "stream": "stdout",
       "text": [
        "        7/50 after      0 sec. | K    8 | ev -1.862395160e-01 | Ndiff    628.652 \n"
       ]
      },
      {
       "output_type": "stream",
       "stream": "stdout",
       "text": [
        "        8/50 after      0 sec. | K    8 | ev -1.617832494e-01 | Ndiff    409.027 \n"
       ]
      },
      {
       "output_type": "stream",
       "stream": "stdout",
       "text": [
        "        9/50 after      0 sec. | K    8 | ev -1.483139182e-01 | Ndiff    181.586 \n"
       ]
      },
      {
       "output_type": "stream",
       "stream": "stdout",
       "text": [
        "       10/50 after      0 sec. | K    8 | ev -1.422284463e-01 | Ndiff     24.842 \n"
       ]
      },
      {
       "output_type": "stream",
       "stream": "stdout",
       "text": [
        "       11/50 after      0 sec. | K    8 | ev -1.415613031e-01 | Ndiff      4.324 \n"
       ]
      },
      {
       "output_type": "stream",
       "stream": "stdout",
       "text": [
        "       12/50 after      0 sec. | K    8 | ev -1.414257257e-01 | Ndiff      2.288 \n"
       ]
      },
      {
       "output_type": "stream",
       "stream": "stdout",
       "text": [
        "       13/50 after      0 sec. | K    8 | ev -1.413737002e-01 | Ndiff      1.446 \n"
       ]
      },
      {
       "output_type": "stream",
       "stream": "stdout",
       "text": [
        "       14/50 after      0 sec. | K    8 | ev -1.413487947e-01 | Ndiff      0.998 \n"
       ]
      },
      {
       "output_type": "stream",
       "stream": "stdout",
       "text": [
        "       15/50 after      1 sec. | K    8 | ev -1.413352125e-01 | Ndiff      0.750 \n"
       ]
      },
      {
       "output_type": "stream",
       "stream": "stdout",
       "text": [
        "       16/50 after      1 sec. | K    8 | ev -1.413271703e-01 | Ndiff      0.610 \n"
       ]
      },
      {
       "output_type": "stream",
       "stream": "stdout",
       "text": [
        "       17/50 after      1 sec. | K    8 | ev -1.413221098e-01 | Ndiff      0.529 \n"
       ]
      },
      {
       "output_type": "stream",
       "stream": "stdout",
       "text": [
        "       18/50 after      1 sec. | K    8 | ev -1.413187493e-01 | Ndiff      0.480 \n"
       ]
      },
      {
       "output_type": "stream",
       "stream": "stdout",
       "text": [
        "       19/50 after      1 sec. | K    8 | ev -1.413163954e-01 | Ndiff      0.449 \n"
       ]
      },
      {
       "output_type": "stream",
       "stream": "stdout",
       "text": [
        "       20/50 after      1 sec. | K    8 | ev -1.413146549e-01 | Ndiff      0.427 \n"
       ]
      },
      {
       "output_type": "stream",
       "stream": "stdout",
       "text": [
        "       21/50 after      1 sec. | K    8 | ev -1.413132981e-01 | Ndiff      0.410 \n"
       ]
      },
      {
       "output_type": "stream",
       "stream": "stdout",
       "text": [
        "       22/50 after      1 sec. | K    8 | ev -1.413121880e-01 | Ndiff      0.394 \n"
       ]
      },
      {
       "output_type": "stream",
       "stream": "stdout",
       "text": [
        "       23/50 after      1 sec. | K    8 | ev -1.413112413e-01 | Ndiff      0.379 \n"
       ]
      },
      {
       "output_type": "stream",
       "stream": "stdout",
       "text": [
        "       24/50 after      1 sec. | K    8 | ev -1.413104066e-01 | Ndiff      0.365 \n"
       ]
      },
      {
       "output_type": "stream",
       "stream": "stdout",
       "text": [
        "       25/50 after      1 sec. | K    8 | ev -1.413096516e-01 | Ndiff      0.350 \n"
       ]
      },
      {
       "output_type": "stream",
       "stream": "stdout",
       "text": [
        "       26/50 after      1 sec. | K    8 | ev -1.413089552e-01 | Ndiff      0.336 \n"
       ]
      },
      {
       "output_type": "stream",
       "stream": "stdout",
       "text": [
        "       27/50 after      1 sec. | K    8 | ev -1.413083036e-01 | Ndiff      0.321 \n"
       ]
      },
      {
       "output_type": "stream",
       "stream": "stdout",
       "text": [
        "       28/50 after      1 sec. | K    8 | ev -1.413076872e-01 | Ndiff      0.307 \n"
       ]
      },
      {
       "output_type": "stream",
       "stream": "stdout",
       "text": [
        "       29/50 after      1 sec. | K    8 | ev -1.413070992e-01 | Ndiff      0.293 \n"
       ]
      },
      {
       "output_type": "stream",
       "stream": "stdout",
       "text": [
        "       30/50 after      1 sec. | K    8 | ev -1.413065348e-01 | Ndiff      0.278 \n"
       ]
      },
      {
       "output_type": "stream",
       "stream": "stdout",
       "text": [
        "       31/50 after      1 sec. | K    8 | ev -1.413059899e-01 | Ndiff      0.264 \n"
       ]
      },
      {
       "output_type": "stream",
       "stream": "stdout",
       "text": [
        "       32/50 after      1 sec. | K    8 | ev -1.413054618e-01 | Ndiff      0.250 \n"
       ]
      },
      {
       "output_type": "stream",
       "stream": "stdout",
       "text": [
        "       33/50 after      1 sec. | K    8 | ev -1.413049477e-01 | Ndiff      0.236 \n"
       ]
      },
      {
       "output_type": "stream",
       "stream": "stdout",
       "text": [
        "       34/50 after      1 sec. | K    8 | ev -1.413044458e-01 | Ndiff      0.223 \n"
       ]
      },
      {
       "output_type": "stream",
       "stream": "stdout",
       "text": [
        "       35/50 after      1 sec. | K    8 | ev -1.413039543e-01 | Ndiff      0.210 \n"
       ]
      },
      {
       "output_type": "stream",
       "stream": "stdout",
       "text": [
        "       36/50 after      1 sec. | K    8 | ev -1.413034716e-01 | Ndiff      0.197 \n"
       ]
      },
      {
       "output_type": "stream",
       "stream": "stdout",
       "text": [
        "       37/50 after      1 sec. | K    8 | ev -1.413029965e-01 | Ndiff      0.184 \n"
       ]
      },
      {
       "output_type": "stream",
       "stream": "stdout",
       "text": [
        "       38/50 after      1 sec. | K    8 | ev -1.413025277e-01 | Ndiff      0.172 \n"
       ]
      },
      {
       "output_type": "stream",
       "stream": "stdout",
       "text": [
        "       39/50 after      1 sec. | K    8 | ev -1.413020642e-01 | Ndiff      0.160 \n"
       ]
      },
      {
       "output_type": "stream",
       "stream": "stdout",
       "text": [
        "       40/50 after      1 sec. | K    8 | ev -1.413016052e-01 | Ndiff      0.148 \n"
       ]
      },
      {
       "output_type": "stream",
       "stream": "stdout",
       "text": [
        "       41/50 after      1 sec. | K    8 | ev -1.413011498e-01 | Ndiff      0.136 \n"
       ]
      },
      {
       "output_type": "stream",
       "stream": "stdout",
       "text": [
        "       42/50 after      1 sec. | K    8 | ev -1.413006973e-01 | Ndiff      0.125 \n"
       ]
      },
      {
       "output_type": "stream",
       "stream": "stdout",
       "text": [
        "       43/50 after      2 sec. | K    8 | ev -1.413002471e-01 | Ndiff      0.114 \n"
       ]
      },
      {
       "output_type": "stream",
       "stream": "stdout",
       "text": [
        "       44/50 after      2 sec. | K    8 | ev -1.412997986e-01 | Ndiff      0.103 \n"
       ]
      },
      {
       "output_type": "stream",
       "stream": "stdout",
       "text": [
        "       45/50 after      2 sec. | K    8 | ev -1.412993513e-01 | Ndiff      0.093 \n"
       ]
      },
      {
       "output_type": "stream",
       "stream": "stdout",
       "text": [
        "       46/50 after      2 sec. | K    8 | ev -1.412989048e-01 | Ndiff      0.082 \n"
       ]
      },
      {
       "output_type": "stream",
       "stream": "stdout",
       "text": [
        "       47/50 after      2 sec. | K    8 | ev -1.412984586e-01 | Ndiff      0.072 \n"
       ]
      },
      {
       "output_type": "stream",
       "stream": "stdout",
       "text": [
        "       48/50 after      2 sec. | K    8 | ev -1.412980126e-01 | Ndiff      0.062 \n"
       ]
      },
      {
       "output_type": "stream",
       "stream": "stdout",
       "text": [
        "       49/50 after      2 sec. | K    8 | ev -1.412975664e-01 | Ndiff      0.052 \n"
       ]
      },
      {
       "output_type": "stream",
       "stream": "stdout",
       "text": [
        "       50/50 after      2 sec. | K    8 | ev -1.412971198e-01 | Ndiff      0.043 \n"
       ]
      },
      {
       "output_type": "stream",
       "stream": "stdout",
       "text": [
        "... done. converged.\n"
       ]
      },
      {
       "output_type": "stream",
       "stream": "stdout",
       "text": [
        "Trial 15/25 | alg. seed: 4332160 | data order seed: 1024640\n"
       ]
      },
      {
       "output_type": "stream",
       "stream": "stdout",
       "text": [
        "savepath: /Users/Jens/Dropbox/dev/research/ML/out/AsteriskK8/initrand/15\n"
       ]
      },
      {
       "output_type": "stream",
       "stream": "stdout",
       "text": [
        "        1/50 after      0 sec. | K    8 | ev -7.931045475e+06 |  \n"
       ]
      },
      {
       "output_type": "stream",
       "stream": "stdout",
       "text": [
        "        2/50 after      0 sec. | K    8 | ev -7.270039516e-01 | Ndiff    228.280 \n"
       ]
      },
      {
       "output_type": "stream",
       "stream": "stdout",
       "text": [
        "        3/50 after      0 sec. | K    8 | ev -7.188160255e-01 | Ndiff     82.774 \n"
       ]
      },
      {
       "output_type": "stream",
       "stream": "stdout",
       "text": [
        "        4/50 after      0 sec. | K    8 | ev -7.165453595e-01 | Ndiff     41.287 \n"
       ]
      },
      {
       "output_type": "stream",
       "stream": "stdout",
       "text": [
        "        5/50 after      0 sec. | K    8 | ev -7.150331430e-01 | Ndiff     30.221 \n"
       ]
      },
      {
       "output_type": "stream",
       "stream": "stdout",
       "text": [
        "        6/50 after      0 sec. | K    8 | ev -7.134247222e-01 | Ndiff     43.392 \n"
       ]
      },
      {
       "output_type": "stream",
       "stream": "stdout",
       "text": [
        "        7/50 after      0 sec. | K    8 | ev -7.112802200e-01 | Ndiff     68.455 \n"
       ]
      },
      {
       "output_type": "stream",
       "stream": "stdout",
       "text": [
        "        8/50 after      0 sec. | K    8 | ev -7.081871573e-01 | Ndiff    112.348 \n"
       ]
      },
      {
       "output_type": "stream",
       "stream": "stdout",
       "text": [
        "        9/50 after      0 sec. | K    8 | ev -7.037451214e-01 | Ndiff    166.511 \n"
       ]
      },
      {
       "output_type": "stream",
       "stream": "stdout",
       "text": [
        "       10/50 after      0 sec. | K    8 | ev -6.974133773e-01 | Ndiff    225.791 \n"
       ]
      },
      {
       "output_type": "stream",
       "stream": "stdout",
       "text": [
        "       11/50 after      0 sec. | K    8 | ev -6.879940965e-01 | Ndiff    280.799 \n"
       ]
      },
      {
       "output_type": "stream",
       "stream": "stdout",
       "text": [
        "       12/50 after      0 sec. | K    8 | ev -6.729791663e-01 | Ndiff    317.249 \n"
       ]
      },
      {
       "output_type": "stream",
       "stream": "stdout",
       "text": [
        "       13/50 after      0 sec. | K    8 | ev -6.464977961e-01 | Ndiff    319.598 \n"
       ]
      },
      {
       "output_type": "stream",
       "stream": "stdout",
       "text": [
        "       14/50 after      0 sec. | K    8 | ev -5.917453839e-01 | Ndiff    233.814 \n"
       ]
      },
      {
       "output_type": "stream",
       "stream": "stdout",
       "text": [
        "       15/50 after      1 sec. | K    8 | ev -4.753966571e-01 | Ndiff     49.177 \n"
       ]
      },
      {
       "output_type": "stream",
       "stream": "stdout",
       "text": [
        "       16/50 after      1 sec. | K    8 | ev -3.905425202e-01 | Ndiff      7.800 \n"
       ]
      },
      {
       "output_type": "stream",
       "stream": "stdout",
       "text": [
        "       17/50 after      1 sec. | K    8 | ev -3.900142230e-01 | Ndiff      4.520 \n"
       ]
      },
      {
       "output_type": "stream",
       "stream": "stdout",
       "text": [
        "       18/50 after      1 sec. | K    8 | ev -3.900038191e-01 | Ndiff      4.164 \n"
       ]
      },
      {
       "output_type": "stream",
       "stream": "stdout",
       "text": [
        "       19/50 after      1 sec. | K    8 | ev -3.899954484e-01 | Ndiff      3.779 \n"
       ]
      },
      {
       "output_type": "stream",
       "stream": "stdout",
       "text": [
        "       20/50 after      1 sec. | K    8 | ev -3.899881288e-01 | Ndiff      3.433 \n"
       ]
      },
      {
       "output_type": "stream",
       "stream": "stdout",
       "text": [
        "       21/50 after      1 sec. | K    8 | ev -3.899816904e-01 | Ndiff      3.129 \n"
       ]
      },
      {
       "output_type": "stream",
       "stream": "stdout",
       "text": [
        "       22/50 after      1 sec. | K    8 | ev -3.899760046e-01 | Ndiff      2.861 \n"
       ]
      },
      {
       "output_type": "stream",
       "stream": "stdout",
       "text": [
        "       23/50 after      1 sec. | K    8 | ev -3.899709673e-01 | Ndiff      2.624 \n"
       ]
      },
      {
       "output_type": "stream",
       "stream": "stdout",
       "text": [
        "       24/50 after      1 sec. | K    8 | ev -3.899664920e-01 | Ndiff      2.414 \n"
       ]
      },
      {
       "output_type": "stream",
       "stream": "stdout",
       "text": [
        "       25/50 after      1 sec. | K    8 | ev -3.899625059e-01 | Ndiff      2.227 \n"
       ]
      },
      {
       "output_type": "stream",
       "stream": "stdout",
       "text": [
        "       26/50 after      1 sec. | K    8 | ev -3.899589470e-01 | Ndiff      2.059 \n"
       ]
      },
      {
       "output_type": "stream",
       "stream": "stdout",
       "text": [
        "       27/50 after      1 sec. | K    8 | ev -3.899557613e-01 | Ndiff      1.909 \n"
       ]
      },
      {
       "output_type": "stream",
       "stream": "stdout",
       "text": [
        "       28/50 after      1 sec. | K    8 | ev -3.899529020e-01 | Ndiff      1.774 \n"
       ]
      },
      {
       "output_type": "stream",
       "stream": "stdout",
       "text": [
        "       29/50 after      1 sec. | K    8 | ev -3.899503281e-01 | Ndiff      1.653 \n"
       ]
      },
      {
       "output_type": "stream",
       "stream": "stdout",
       "text": [
        "       30/50 after      1 sec. | K    8 | ev -3.899480037e-01 | Ndiff      1.543 \n"
       ]
      },
      {
       "output_type": "stream",
       "stream": "stdout",
       "text": [
        "       31/50 after      1 sec. | K    8 | ev -3.899458973e-01 | Ndiff      1.443 \n"
       ]
      },
      {
       "output_type": "stream",
       "stream": "stdout",
       "text": [
        "       32/50 after      1 sec. | K    8 | ev -3.899439817e-01 | Ndiff      1.351 \n"
       ]
      },
      {
       "output_type": "stream",
       "stream": "stdout",
       "text": [
        "       33/50 after      1 sec. | K    8 | ev -3.899422330e-01 | Ndiff      1.268 \n"
       ]
      },
      {
       "output_type": "stream",
       "stream": "stdout",
       "text": [
        "       34/50 after      1 sec. | K    8 | ev -3.899406307e-01 | Ndiff      1.192 \n"
       ]
      },
      {
       "output_type": "stream",
       "stream": "stdout",
       "text": [
        "       35/50 after      1 sec. | K    8 | ev -3.899391570e-01 | Ndiff      1.121 \n"
       ]
      },
      {
       "output_type": "stream",
       "stream": "stdout",
       "text": [
        "       36/50 after      1 sec. | K    8 | ev -3.899377967e-01 | Ndiff      1.056 \n"
       ]
      },
      {
       "output_type": "stream",
       "stream": "stdout",
       "text": [
        "       37/50 after      1 sec. | K    8 | ev -3.899365365e-01 | Ndiff      0.996 \n"
       ]
      },
      {
       "output_type": "stream",
       "stream": "stdout",
       "text": [
        "       38/50 after      1 sec. | K    8 | ev -3.899353652e-01 | Ndiff      0.941 \n"
       ]
      },
      {
       "output_type": "stream",
       "stream": "stdout",
       "text": [
        "       39/50 after      1 sec. | K    8 | ev -3.899342731e-01 | Ndiff      0.889 \n"
       ]
      },
      {
       "output_type": "stream",
       "stream": "stdout",
       "text": [
        "       40/50 after      1 sec. | K    8 | ev -3.899332519e-01 | Ndiff      0.840 \n"
       ]
      },
      {
       "output_type": "stream",
       "stream": "stdout",
       "text": [
        "       41/50 after      1 sec. | K    8 | ev -3.899322944e-01 | Ndiff      0.795 \n"
       ]
      },
      {
       "output_type": "stream",
       "stream": "stdout",
       "text": [
        "       42/50 after      1 sec. | K    8 | ev -3.899313942e-01 | Ndiff      0.753 \n"
       ]
      },
      {
       "output_type": "stream",
       "stream": "stdout",
       "text": [
        "       43/50 after      1 sec. | K    8 | ev -3.899305462e-01 | Ndiff      0.713 \n"
       ]
      },
      {
       "output_type": "stream",
       "stream": "stdout",
       "text": [
        "       44/50 after      2 sec. | K    8 | ev -3.899297455e-01 | Ndiff      0.675 \n"
       ]
      },
      {
       "output_type": "stream",
       "stream": "stdout",
       "text": [
        "       45/50 after      2 sec. | K    8 | ev -3.899289881e-01 | Ndiff      0.640 \n"
       ]
      },
      {
       "output_type": "stream",
       "stream": "stdout",
       "text": [
        "       46/50 after      2 sec. | K    8 | ev -3.899282705e-01 | Ndiff      0.607 \n"
       ]
      },
      {
       "output_type": "stream",
       "stream": "stdout",
       "text": [
        "       47/50 after      2 sec. | K    8 | ev -3.899275894e-01 | Ndiff      0.576 \n"
       ]
      },
      {
       "output_type": "stream",
       "stream": "stdout",
       "text": [
        "       48/50 after      2 sec. | K    8 | ev -3.899269421e-01 | Ndiff      0.546 \n"
       ]
      },
      {
       "output_type": "stream",
       "stream": "stdout",
       "text": [
        "       49/50 after      2 sec. | K    8 | ev -3.899263261e-01 | Ndiff      0.519 \n"
       ]
      },
      {
       "output_type": "stream",
       "stream": "stdout",
       "text": [
        "       50/50 after      2 sec. | K    8 | ev -3.899257393e-01 | Ndiff      0.492 \n"
       ]
      },
      {
       "output_type": "stream",
       "stream": "stdout",
       "text": [
        "... done. not converged. max laps thru data exceeded.\n"
       ]
      },
      {
       "output_type": "stream",
       "stream": "stdout",
       "text": [
        "Trial 16/25 | alg. seed: 5460608 | data order seed: 8819712\n"
       ]
      },
      {
       "output_type": "stream",
       "stream": "stdout",
       "text": [
        "savepath: /Users/Jens/Dropbox/dev/research/ML/out/AsteriskK8/initrand/16\n"
       ]
      },
      {
       "output_type": "stream",
       "stream": "stdout",
       "text": [
        "        1/50 after      0 sec. | K    8 | ev -5.206799167e+06 |  \n"
       ]
      },
      {
       "output_type": "stream",
       "stream": "stdout",
       "text": [
        "        2/50 after      0 sec. | K    8 | ev -5.868919058e-01 | Ndiff    241.506 \n"
       ]
      },
      {
       "output_type": "stream",
       "stream": "stdout",
       "text": [
        "        3/50 after      0 sec. | K    8 | ev -4.874484383e-01 | Ndiff    151.944 \n"
       ]
      },
      {
       "output_type": "stream",
       "stream": "stdout",
       "text": [
        "        4/50 after      0 sec. | K    8 | ev -4.674385545e-01 | Ndiff    138.698 \n"
       ]
      },
      {
       "output_type": "stream",
       "stream": "stdout",
       "text": [
        "        5/50 after      0 sec. | K    8 | ev -4.656457432e-01 | Ndiff    132.489 \n"
       ]
      },
      {
       "output_type": "stream",
       "stream": "stdout",
       "text": [
        "        6/50 after      0 sec. | K    8 | ev -4.635452825e-01 | Ndiff    127.200 \n"
       ]
      },
      {
       "output_type": "stream",
       "stream": "stdout",
       "text": [
        "        7/50 after      0 sec. | K    8 | ev -4.586037665e-01 | Ndiff    121.962 \n"
       ]
      },
      {
       "output_type": "stream",
       "stream": "stdout",
       "text": [
        "        8/50 after      0 sec. | K    8 | ev -4.433331224e-01 | Ndiff    114.934 \n"
       ]
      },
      {
       "output_type": "stream",
       "stream": "stdout",
       "text": [
        "        9/50 after      0 sec. | K    8 | ev -3.917513520e-01 | Ndiff    428.557 \n"
       ]
      },
      {
       "output_type": "stream",
       "stream": "stdout",
       "text": [
        "       10/50 after      0 sec. | K    8 | ev -3.112101001e-01 | Ndiff    558.019 \n"
       ]
      },
      {
       "output_type": "stream",
       "stream": "stdout",
       "text": [
        "       11/50 after      0 sec. | K    8 | ev -2.947400596e-01 | Ndiff    314.741 \n"
       ]
      },
      {
       "output_type": "stream",
       "stream": "stdout",
       "text": [
        "       12/50 after      0 sec. | K    8 | ev -2.795170973e-01 | Ndiff    199.073 \n"
       ]
      },
      {
       "output_type": "stream",
       "stream": "stdout",
       "text": [
        "       13/50 after      0 sec. | K    8 | ev -2.547582453e-01 | Ndiff    127.747 \n"
       ]
      },
      {
       "output_type": "stream",
       "stream": "stdout",
       "text": [
        "       14/50 after      0 sec. | K    8 | ev -2.196724808e-01 | Ndiff    118.456 \n"
       ]
      },
      {
       "output_type": "stream",
       "stream": "stdout",
       "text": [
        "       15/50 after      1 sec. | K    8 | ev -2.146843318e-01 | Ndiff    121.729 \n"
       ]
      },
      {
       "output_type": "stream",
       "stream": "stdout",
       "text": [
        "       16/50 after      1 sec. | K    8 | ev -2.136214815e-01 | Ndiff    127.051 \n"
       ]
      },
      {
       "output_type": "stream",
       "stream": "stdout",
       "text": [
        "       17/50 after      1 sec. | K    8 | ev -2.124572347e-01 | Ndiff    134.106 \n"
       ]
      },
      {
       "output_type": "stream",
       "stream": "stdout",
       "text": [
        "       18/50 after      1 sec. | K    8 | ev -2.111243119e-01 | Ndiff    142.537 \n"
       ]
      },
      {
       "output_type": "stream",
       "stream": "stdout",
       "text": [
        "       19/50 after      1 sec. | K    8 | ev -2.094840388e-01 | Ndiff    152.133 \n"
       ]
      },
      {
       "output_type": "stream",
       "stream": "stdout",
       "text": [
        "       20/50 after      1 sec. | K    8 | ev -2.072798893e-01 | Ndiff    162.301 \n"
       ]
      },
      {
       "output_type": "stream",
       "stream": "stdout",
       "text": [
        "       21/50 after      1 sec. | K    8 | ev -2.040234833e-01 | Ndiff    171.606 \n"
       ]
      },
      {
       "output_type": "stream",
       "stream": "stdout",
       "text": [
        "       22/50 after      1 sec. | K    8 | ev -1.986675760e-01 | Ndiff    175.040 \n"
       ]
      },
      {
       "output_type": "stream",
       "stream": "stdout",
       "text": [
        "       23/50 after      1 sec. | K    8 | ev -1.887040285e-01 | Ndiff    155.602 \n"
       ]
      },
      {
       "output_type": "stream",
       "stream": "stdout",
       "text": [
        "       24/50 after      1 sec. | K    8 | ev -1.691893960e-01 | Ndiff     97.852 \n"
       ]
      },
      {
       "output_type": "stream",
       "stream": "stdout",
       "text": [
        "       25/50 after      1 sec. | K    8 | ev -1.427163442e-01 | Ndiff     14.904 \n"
       ]
      },
      {
       "output_type": "stream",
       "stream": "stdout",
       "text": [
        "       26/50 after      1 sec. | K    8 | ev -1.406050744e-01 | Ndiff      3.884 \n"
       ]
      },
      {
       "output_type": "stream",
       "stream": "stdout",
       "text": [
        "       27/50 after      1 sec. | K    8 | ev -1.406010272e-01 | Ndiff      0.484 \n"
       ]
      },
      {
       "output_type": "stream",
       "stream": "stdout",
       "text": [
        "       28/50 after      1 sec. | K    8 | ev -1.406004179e-01 | Ndiff      0.137 \n"
       ]
      },
      {
       "output_type": "stream",
       "stream": "stdout",
       "text": [
        "       29/50 after      1 sec. | K    8 | ev -1.405998736e-01 | Ndiff      0.101 \n"
       ]
      },
      {
       "output_type": "stream",
       "stream": "stdout",
       "text": [
        "       30/50 after      1 sec. | K    8 | ev -1.405993612e-01 | Ndiff      0.067 \n"
       ]
      },
      {
       "output_type": "stream",
       "stream": "stdout",
       "text": [
        "       31/50 after      1 sec. | K    8 | ev -1.405988764e-01 | Ndiff      0.036 \n"
       ]
      },
      {
       "output_type": "stream",
       "stream": "stdout",
       "text": [
        "... done. converged.\n"
       ]
      },
      {
       "output_type": "stream",
       "stream": "stdout",
       "text": [
        "Trial 17/25 | alg. seed: 7392128 | data order seed: 9034368\n"
       ]
      },
      {
       "output_type": "stream",
       "stream": "stdout",
       "text": [
        "savepath: /Users/Jens/Dropbox/dev/research/ML/out/AsteriskK8/initrand/17\n"
       ]
      },
      {
       "output_type": "stream",
       "stream": "stdout",
       "text": [
        "        1/50 after      0 sec. | K    8 | ev -1.025469689e+07 |  \n"
       ]
      },
      {
       "output_type": "stream",
       "stream": "stdout",
       "text": [
        "        2/50 after      0 sec. | K    8 | ev -8.392702755e-01 | Ndiff    416.178 \n"
       ]
      },
      {
       "output_type": "stream",
       "stream": "stdout",
       "text": [
        "        3/50 after      0 sec. | K    8 | ev -6.798998844e-01 | Ndiff    739.730 \n"
       ]
      },
      {
       "output_type": "stream",
       "stream": "stdout",
       "text": [
        "        4/50 after      0 sec. | K    8 | ev -5.649463221e-01 | Ndiff    940.810 \n"
       ]
      },
      {
       "output_type": "stream",
       "stream": "stdout",
       "text": [
        "        5/50 after      0 sec. | K    8 | ev -5.020644430e-01 | Ndiff    758.590 \n"
       ]
      },
      {
       "output_type": "stream",
       "stream": "stdout",
       "text": [
        "        6/50 after      0 sec. | K    8 | ev -4.541371033e-01 | Ndiff    447.228 \n"
       ]
      },
      {
       "output_type": "stream",
       "stream": "stdout",
       "text": [
        "        7/50 after      0 sec. | K    8 | ev -4.020887707e-01 | Ndiff    327.433 \n"
       ]
      },
      {
       "output_type": "stream",
       "stream": "stdout",
       "text": [
        "        8/50 after      0 sec. | K    8 | ev -3.104120988e-01 | Ndiff    243.559 \n"
       ]
      },
      {
       "output_type": "stream",
       "stream": "stdout",
       "text": [
        "        9/50 after      0 sec. | K    8 | ev -1.788521601e-01 | Ndiff     75.192 \n"
       ]
      },
      {
       "output_type": "stream",
       "stream": "stdout",
       "text": [
        "       10/50 after      0 sec. | K    8 | ev -1.404577911e-01 | Ndiff      3.438 \n"
       ]
      },
      {
       "output_type": "stream",
       "stream": "stdout",
       "text": [
        "       11/50 after      0 sec. | K    8 | ev -1.403789209e-01 | Ndiff      2.970 \n"
       ]
      },
      {
       "output_type": "stream",
       "stream": "stdout",
       "text": [
        "       12/50 after      0 sec. | K    8 | ev -1.403281200e-01 | Ndiff      2.420 \n"
       ]
      },
      {
       "output_type": "stream",
       "stream": "stdout",
       "text": [
        "       13/50 after      0 sec. | K    8 | ev -1.402922756e-01 | Ndiff      1.962 \n"
       ]
      },
      {
       "output_type": "stream",
       "stream": "stdout",
       "text": [
        "       14/50 after      0 sec. | K    8 | ev -1.402659554e-01 | Ndiff      1.603 \n"
       ]
      },
      {
       "output_type": "stream",
       "stream": "stdout",
       "text": [
        "       15/50 after      0 sec. | K    8 | ev -1.402460189e-01 | Ndiff      1.322 \n"
       ]
      },
      {
       "output_type": "stream",
       "stream": "stdout",
       "text": [
        "       16/50 after      1 sec. | K    8 | ev -1.402305344e-01 | Ndiff      1.099 \n"
       ]
      },
      {
       "output_type": "stream",
       "stream": "stdout",
       "text": [
        "       17/50 after      1 sec. | K    8 | ev -1.402182561e-01 | Ndiff      0.921 \n"
       ]
      },
      {
       "output_type": "stream",
       "stream": "stdout",
       "text": [
        "       18/50 after      1 sec. | K    8 | ev -1.402083492e-01 | Ndiff      0.775 \n"
       ]
      },
      {
       "output_type": "stream",
       "stream": "stdout",
       "text": [
        "       19/50 after      1 sec. | K    8 | ev -1.402002366e-01 | Ndiff      0.656 \n"
       ]
      },
      {
       "output_type": "stream",
       "stream": "stdout",
       "text": [
        "       20/50 after      1 sec. | K    8 | ev -1.401935080e-01 | Ndiff      0.556 \n"
       ]
      },
      {
       "output_type": "stream",
       "stream": "stdout",
       "text": [
        "       21/50 after      1 sec. | K    8 | ev -1.401878651e-01 | Ndiff      0.472 \n"
       ]
      },
      {
       "output_type": "stream",
       "stream": "stdout",
       "text": [
        "       22/50 after      1 sec. | K    8 | ev -1.401830864e-01 | Ndiff      0.401 \n"
       ]
      },
      {
       "output_type": "stream",
       "stream": "stdout",
       "text": [
        "       23/50 after      1 sec. | K    8 | ev -1.401790047e-01 | Ndiff      0.340 \n"
       ]
      },
      {
       "output_type": "stream",
       "stream": "stdout",
       "text": [
        "       24/50 after      1 sec. | K    8 | ev -1.401754916e-01 | Ndiff      0.288 \n"
       ]
      },
      {
       "output_type": "stream",
       "stream": "stdout",
       "text": [
        "       25/50 after      1 sec. | K    8 | ev -1.401724472e-01 | Ndiff      0.243 \n"
       ]
      },
      {
       "output_type": "stream",
       "stream": "stdout",
       "text": [
        "       26/50 after      1 sec. | K    8 | ev -1.401697928e-01 | Ndiff      0.204 \n"
       ]
      },
      {
       "output_type": "stream",
       "stream": "stdout",
       "text": [
        "       27/50 after      1 sec. | K    8 | ev -1.401674656e-01 | Ndiff      0.170 \n"
       ]
      },
      {
       "output_type": "stream",
       "stream": "stdout",
       "text": [
        "       28/50 after      1 sec. | K    8 | ev -1.401654149e-01 | Ndiff      0.140 \n"
       ]
      },
      {
       "output_type": "stream",
       "stream": "stdout",
       "text": [
        "       29/50 after      1 sec. | K    8 | ev -1.401635997e-01 | Ndiff      0.113 \n"
       ]
      },
      {
       "output_type": "stream",
       "stream": "stdout",
       "text": [
        "       30/50 after      1 sec. | K    8 | ev -1.401619863e-01 | Ndiff      0.090 \n"
       ]
      },
      {
       "output_type": "stream",
       "stream": "stdout",
       "text": [
        "       31/50 after      1 sec. | K    8 | ev -1.401605467e-01 | Ndiff      0.069 \n"
       ]
      },
      {
       "output_type": "stream",
       "stream": "stdout",
       "text": [
        "       32/50 after      1 sec. | K    8 | ev -1.401592578e-01 | Ndiff      0.051 \n"
       ]
      },
      {
       "output_type": "stream",
       "stream": "stdout",
       "text": [
        "       33/50 after      1 sec. | K    8 | ev -1.401581001e-01 | Ndiff      0.035 \n"
       ]
      },
      {
       "output_type": "stream",
       "stream": "stdout",
       "text": [
        "... done. converged.\n"
       ]
      },
      {
       "output_type": "stream",
       "stream": "stdout",
       "text": [
        "Trial 18/25 | alg. seed: 916864 | data order seed: 9882240\n"
       ]
      },
      {
       "output_type": "stream",
       "stream": "stdout",
       "text": [
        "savepath: /Users/Jens/Dropbox/dev/research/ML/out/AsteriskK8/initrand/18\n"
       ]
      },
      {
       "output_type": "stream",
       "stream": "stdout",
       "text": [
        "        1/50 after      0 sec. | K    8 | ev -4.623031651e+06 |  \n"
       ]
      },
      {
       "output_type": "stream",
       "stream": "stdout",
       "text": [
        "        2/50 after      0 sec. | K    8 | ev -7.109440854e-01 | Ndiff    584.543 \n"
       ]
      },
      {
       "output_type": "stream",
       "stream": "stdout",
       "text": [
        "        3/50 after      0 sec. | K    8 | ev -5.779076481e-01 | Ndiff    877.485 \n"
       ]
      },
      {
       "output_type": "stream",
       "stream": "stdout",
       "text": [
        "        4/50 after      0 sec. | K    8 | ev -4.939294909e-01 | Ndiff    765.161 \n"
       ]
      },
      {
       "output_type": "stream",
       "stream": "stdout",
       "text": [
        "        5/50 after      0 sec. | K    8 | ev -4.077852987e-01 | Ndiff    515.093 \n"
       ]
      },
      {
       "output_type": "stream",
       "stream": "stdout",
       "text": [
        "        6/50 after      0 sec. | K    8 | ev -3.080837786e-01 | Ndiff    280.475 \n"
       ]
      },
      {
       "output_type": "stream",
       "stream": "stdout",
       "text": [
        "        7/50 after      0 sec. | K    8 | ev -2.498946974e-01 | Ndiff    302.799 \n"
       ]
      },
      {
       "output_type": "stream",
       "stream": "stdout",
       "text": [
        "        8/50 after      0 sec. | K    8 | ev -1.717513223e-01 | Ndiff    568.073 \n"
       ]
      },
      {
       "output_type": "stream",
       "stream": "stdout",
       "text": [
        "        9/50 after      0 sec. | K    8 | ev -1.510947425e-01 | Ndiff    263.255 \n"
       ]
      },
      {
       "output_type": "stream",
       "stream": "stdout",
       "text": [
        "       10/50 after      0 sec. | K    8 | ev -1.244614222e-01 | Ndiff    276.843 \n"
       ]
      },
      {
       "output_type": "stream",
       "stream": "stdout",
       "text": [
        "       11/50 after      0 sec. | K    8 | ev -9.029624679e-02 | Ndiff    105.501 \n"
       ]
      },
      {
       "output_type": "stream",
       "stream": "stdout",
       "text": [
        "       12/50 after      0 sec. | K    8 | ev -7.822901701e-02 | Ndiff     12.903 \n"
       ]
      },
      {
       "output_type": "stream",
       "stream": "stdout",
       "text": [
        "       13/50 after      0 sec. | K    8 | ev -7.808725762e-02 | Ndiff      7.255 \n"
       ]
      },
      {
       "output_type": "stream",
       "stream": "stdout",
       "text": [
        "       14/50 after      0 sec. | K    8 | ev -7.802984428e-02 | Ndiff      4.880 \n"
       ]
      },
      {
       "output_type": "stream",
       "stream": "stdout",
       "text": [
        "       15/50 after      0 sec. | K    8 | ev -7.800006410e-02 | Ndiff      3.597 \n"
       ]
      },
      {
       "output_type": "stream",
       "stream": "stdout",
       "text": [
        "       16/50 after      1 sec. | K    8 | ev -7.798210478e-02 | Ndiff      2.812 \n"
       ]
      },
      {
       "output_type": "stream",
       "stream": "stdout",
       "text": [
        "       17/50 after      1 sec. | K    8 | ev -7.797015198e-02 | Ndiff      2.289 \n"
       ]
      },
      {
       "output_type": "stream",
       "stream": "stdout",
       "text": [
        "       18/50 after      1 sec. | K    8 | ev -7.796162338e-02 | Ndiff      1.918 \n"
       ]
      },
      {
       "output_type": "stream",
       "stream": "stdout",
       "text": [
        "       19/50 after      1 sec. | K    8 | ev -7.795520986e-02 | Ndiff      1.641 \n"
       ]
      },
      {
       "output_type": "stream",
       "stream": "stdout",
       "text": [
        "       20/50 after      1 sec. | K    8 | ev -7.795018521e-02 | Ndiff      1.427 \n"
       ]
      },
      {
       "output_type": "stream",
       "stream": "stdout",
       "text": [
        "       21/50 after      1 sec. | K    8 | ev -7.794611925e-02 | Ndiff      1.255 \n"
       ]
      },
      {
       "output_type": "stream",
       "stream": "stdout",
       "text": [
        "       22/50 after      1 sec. | K    8 | ev -7.794274341e-02 | Ndiff      1.114 \n"
       ]
      },
      {
       "output_type": "stream",
       "stream": "stdout",
       "text": [
        "       23/50 after      1 sec. | K    8 | ev -7.793988233e-02 | Ndiff      0.995 \n"
       ]
      },
      {
       "output_type": "stream",
       "stream": "stdout",
       "text": [
        "       24/50 after      1 sec. | K    8 | ev -7.793741682e-02 | Ndiff      0.894 \n"
       ]
      },
      {
       "output_type": "stream",
       "stream": "stdout",
       "text": [
        "       25/50 after      1 sec. | K    8 | ev -7.793526297e-02 | Ndiff      0.807 \n"
       ]
      },
      {
       "output_type": "stream",
       "stream": "stdout",
       "text": [
        "       26/50 after      1 sec. | K    8 | ev -7.793335979e-02 | Ndiff      0.731 \n"
       ]
      },
      {
       "output_type": "stream",
       "stream": "stdout",
       "text": [
        "       27/50 after      1 sec. | K    8 | ev -7.793166173e-02 | Ndiff      0.663 \n"
       ]
      },
      {
       "output_type": "stream",
       "stream": "stdout",
       "text": [
        "       28/50 after      1 sec. | K    8 | ev -7.793013393e-02 | Ndiff      0.603 \n"
       ]
      },
      {
       "output_type": "stream",
       "stream": "stdout",
       "text": [
        "       29/50 after      1 sec. | K    8 | ev -7.792874918e-02 | Ndiff      0.548 \n"
       ]
      },
      {
       "output_type": "stream",
       "stream": "stdout",
       "text": [
        "       30/50 after      1 sec. | K    8 | ev -7.792748585e-02 | Ndiff      0.499 \n"
       ]
      },
      {
       "output_type": "stream",
       "stream": "stdout",
       "text": [
        "       31/50 after      1 sec. | K    8 | ev -7.792632649e-02 | Ndiff      0.455 \n"
       ]
      },
      {
       "output_type": "stream",
       "stream": "stdout",
       "text": [
        "       32/50 after      1 sec. | K    8 | ev -7.792525688e-02 | Ndiff      0.414 \n"
       ]
      },
      {
       "output_type": "stream",
       "stream": "stdout",
       "text": [
        "       33/50 after      1 sec. | K    8 | ev -7.792426526e-02 | Ndiff      0.376 \n"
       ]
      },
      {
       "output_type": "stream",
       "stream": "stdout",
       "text": [
        "       34/50 after      1 sec. | K    8 | ev -7.792334184e-02 | Ndiff      0.342 \n"
       ]
      },
      {
       "output_type": "stream",
       "stream": "stdout",
       "text": [
        "       35/50 after      1 sec. | K    8 | ev -7.792247840e-02 | Ndiff      0.310 \n"
       ]
      },
      {
       "output_type": "stream",
       "stream": "stdout",
       "text": [
        "       36/50 after      1 sec. | K    8 | ev -7.792166800e-02 | Ndiff      0.280 \n"
       ]
      },
      {
       "output_type": "stream",
       "stream": "stdout",
       "text": [
        "       37/50 after      1 sec. | K    8 | ev -7.792090474e-02 | Ndiff      0.252 \n"
       ]
      },
      {
       "output_type": "stream",
       "stream": "stdout",
       "text": [
        "       38/50 after      1 sec. | K    8 | ev -7.792018356e-02 | Ndiff      0.226 \n"
       ]
      },
      {
       "output_type": "stream",
       "stream": "stdout",
       "text": [
        "       39/50 after      1 sec. | K    8 | ev -7.791950015e-02 | Ndiff      0.202 \n"
       ]
      },
      {
       "output_type": "stream",
       "stream": "stdout",
       "text": [
        "       40/50 after      1 sec. | K    8 | ev -7.791885076e-02 | Ndiff      0.179 \n"
       ]
      },
      {
       "output_type": "stream",
       "stream": "stdout",
       "text": [
        "       41/50 after      1 sec. | K    8 | ev -7.791823216e-02 | Ndiff      0.158 \n"
       ]
      },
      {
       "output_type": "stream",
       "stream": "stdout",
       "text": [
        "       42/50 after      1 sec. | K    8 | ev -7.791764155e-02 | Ndiff      0.137 \n"
       ]
      },
      {
       "output_type": "stream",
       "stream": "stdout",
       "text": [
        "       43/50 after      1 sec. | K    8 | ev -7.791707648e-02 | Ndiff      0.118 \n"
       ]
      },
      {
       "output_type": "stream",
       "stream": "stdout",
       "text": [
        "       44/50 after      1 sec. | K    8 | ev -7.791653482e-02 | Ndiff      0.100 \n"
       ]
      },
      {
       "output_type": "stream",
       "stream": "stdout",
       "text": [
        "       45/50 after      1 sec. | K    8 | ev -7.791601470e-02 | Ndiff      0.083 \n"
       ]
      },
      {
       "output_type": "stream",
       "stream": "stdout",
       "text": [
        "       46/50 after      2 sec. | K    8 | ev -7.791551449e-02 | Ndiff      0.066 \n"
       ]
      },
      {
       "output_type": "stream",
       "stream": "stdout",
       "text": [
        "       47/50 after      2 sec. | K    8 | ev -7.791503274e-02 | Ndiff      0.051 \n"
       ]
      },
      {
       "output_type": "stream",
       "stream": "stdout",
       "text": [
        "       48/50 after      2 sec. | K    8 | ev -7.791456817e-02 | Ndiff      0.036 \n"
       ]
      },
      {
       "output_type": "stream",
       "stream": "stdout",
       "text": [
        "... done. converged.\n"
       ]
      },
      {
       "output_type": "stream",
       "stream": "stdout",
       "text": [
        "Trial 19/25 | alg. seed: 9031552 | data order seed: 3803392\n"
       ]
      },
      {
       "output_type": "stream",
       "stream": "stdout",
       "text": [
        "savepath: /Users/Jens/Dropbox/dev/research/ML/out/AsteriskK8/initrand/19\n"
       ]
      },
      {
       "output_type": "stream",
       "stream": "stdout",
       "text": [
        "        1/50 after      0 sec. | K    8 | ev -7.177513182e+06 |  \n"
       ]
      },
      {
       "output_type": "stream",
       "stream": "stdout",
       "text": [
        "        2/50 after      0 sec. | K    8 | ev -6.695772061e-01 | Ndiff    549.045 \n"
       ]
      },
      {
       "output_type": "stream",
       "stream": "stdout",
       "text": [
        "        3/50 after      0 sec. | K    8 | ev -5.646772874e-01 | Ndiff    711.276 \n"
       ]
      },
      {
       "output_type": "stream",
       "stream": "stdout",
       "text": [
        "        4/50 after      0 sec. | K    8 | ev -4.776116020e-01 | Ndiff    703.256 \n"
       ]
      },
      {
       "output_type": "stream",
       "stream": "stdout",
       "text": [
        "        5/50 after      0 sec. | K    8 | ev -3.750415283e-01 | Ndiff   1046.737 \n"
       ]
      },
      {
       "output_type": "stream",
       "stream": "stdout",
       "text": [
        "        6/50 after      0 sec. | K    8 | ev -3.009348516e-01 | Ndiff   1047.476 \n"
       ]
      },
      {
       "output_type": "stream",
       "stream": "stdout",
       "text": [
        "        7/50 after      0 sec. | K    8 | ev -2.265931783e-01 | Ndiff    696.982 \n"
       ]
      },
      {
       "output_type": "stream",
       "stream": "stdout",
       "text": [
        "        8/50 after      0 sec. | K    8 | ev -1.805146578e-01 | Ndiff    310.481 \n"
       ]
      },
      {
       "output_type": "stream",
       "stream": "stdout",
       "text": [
        "        9/50 after      0 sec. | K    8 | ev -1.055548205e-01 | Ndiff    128.025 \n"
       ]
      },
      {
       "output_type": "stream",
       "stream": "stdout",
       "text": [
        "       10/50 after      0 sec. | K    8 | ev  3.518989441e-02 | Ndiff    243.863 \n"
       ]
      },
      {
       "output_type": "stream",
       "stream": "stdout",
       "text": [
        "       11/50 after      0 sec. | K    8 | ev  8.155333748e-02 | Ndiff     84.824 \n"
       ]
      },
      {
       "output_type": "stream",
       "stream": "stdout",
       "text": [
        "       12/50 after      0 sec. | K    8 | ev  1.082636261e-01 | Ndiff      3.824 \n"
       ]
      },
      {
       "output_type": "stream",
       "stream": "stdout",
       "text": [
        "       13/50 after      0 sec. | K    8 | ev  1.084158113e-01 | Ndiff      0.009 \n"
       ]
      },
      {
       "output_type": "stream",
       "stream": "stdout",
       "text": [
        "... done. converged.\n"
       ]
      },
      {
       "output_type": "stream",
       "stream": "stdout",
       "text": [
        "Trial 20/25 | alg. seed: 8082304 | data order seed: 1715072\n"
       ]
      },
      {
       "output_type": "stream",
       "stream": "stdout",
       "text": [
        "savepath: /Users/Jens/Dropbox/dev/research/ML/out/AsteriskK8/initrand/20\n"
       ]
      },
      {
       "output_type": "stream",
       "stream": "stdout",
       "text": [
        "        1/50 after      0 sec. | K    8 | ev -8.061074540e+06 |  \n"
       ]
      },
      {
       "output_type": "stream",
       "stream": "stdout",
       "text": [
        "        2/50 after      0 sec. | K    8 | ev -7.668531667e-01 | Ndiff    213.675 \n"
       ]
      },
      {
       "output_type": "stream",
       "stream": "stdout",
       "text": [
        "        3/50 after      0 sec. | K    8 | ev -6.426691806e-01 | Ndiff    612.900 \n"
       ]
      },
      {
       "output_type": "stream",
       "stream": "stdout",
       "text": [
        "        4/50 after      0 sec. | K    8 | ev -5.646946520e-01 | Ndiff    751.504 \n"
       ]
      },
      {
       "output_type": "stream",
       "stream": "stdout",
       "text": [
        "        5/50 after      0 sec. | K    8 | ev -5.158074441e-01 | Ndiff    419.332 \n"
       ]
      },
      {
       "output_type": "stream",
       "stream": "stdout",
       "text": [
        "        6/50 after      0 sec. | K    8 | ev -4.618825182e-01 | Ndiff    197.825 \n"
       ]
      },
      {
       "output_type": "stream",
       "stream": "stdout",
       "text": [
        "        7/50 after      0 sec. | K    8 | ev -4.198405806e-01 | Ndiff     96.889 \n"
       ]
      },
      {
       "output_type": "stream",
       "stream": "stdout",
       "text": [
        "        8/50 after      0 sec. | K    8 | ev -3.870003486e-01 | Ndiff     29.659 \n"
       ]
      },
      {
       "output_type": "stream",
       "stream": "stdout",
       "text": [
        "        9/50 after      0 sec. | K    8 | ev -3.861753106e-01 | Ndiff      7.115 \n"
       ]
      },
      {
       "output_type": "stream",
       "stream": "stdout",
       "text": [
        "       10/50 after      0 sec. | K    8 | ev -3.860905173e-01 | Ndiff      4.161 \n"
       ]
      },
      {
       "output_type": "stream",
       "stream": "stdout",
       "text": [
        "       11/50 after      0 sec. | K    8 | ev -3.860357660e-01 | Ndiff      3.403 \n"
       ]
      },
      {
       "output_type": "stream",
       "stream": "stdout",
       "text": [
        "       12/50 after      0 sec. | K    8 | ev -3.859969216e-01 | Ndiff      2.820 \n"
       ]
      },
      {
       "output_type": "stream",
       "stream": "stdout",
       "text": [
        "       13/50 after      0 sec. | K    8 | ev -3.859677656e-01 | Ndiff      2.365 \n"
       ]
      },
      {
       "output_type": "stream",
       "stream": "stdout",
       "text": [
        "       14/50 after      0 sec. | K    8 | ev -3.859447068e-01 | Ndiff      2.004 \n"
       ]
      },
      {
       "output_type": "stream",
       "stream": "stdout",
       "text": [
        "       15/50 after      1 sec. | K    8 | ev -3.859216398e-01 | Ndiff      1.713 \n"
       ]
      },
      {
       "output_type": "stream",
       "stream": "stdout",
       "text": [
        "       16/50 after      1 sec. | K    8 | ev -3.858620175e-01 | Ndiff      1.475 \n"
       ]
      },
      {
       "output_type": "stream",
       "stream": "stdout",
       "text": [
        "       17/50 after      1 sec. | K    8 | ev -3.857665164e-01 | Ndiff      1.277 \n"
       ]
      },
      {
       "output_type": "stream",
       "stream": "stdout",
       "text": [
        "       18/50 after      1 sec. | K    8 | ev -3.856621188e-01 | Ndiff      1.110 \n"
       ]
      },
      {
       "output_type": "stream",
       "stream": "stdout",
       "text": [
        "       19/50 after      1 sec. | K    8 | ev -3.856536474e-01 | Ndiff      0.968 \n"
       ]
      },
      {
       "output_type": "stream",
       "stream": "stdout",
       "text": [
        "       20/50 after      1 sec. | K    8 | ev -3.856464023e-01 | Ndiff      0.846 \n"
       ]
      },
      {
       "output_type": "stream",
       "stream": "stdout",
       "text": [
        "       21/50 after      1 sec. | K    8 | ev -3.856401495e-01 | Ndiff      0.740 \n"
       ]
      },
      {
       "output_type": "stream",
       "stream": "stdout",
       "text": [
        "       22/50 after      1 sec. | K    8 | ev -3.856347096e-01 | Ndiff      0.648 \n"
       ]
      },
      {
       "output_type": "stream",
       "stream": "stdout",
       "text": [
        "       23/50 after      1 sec. | K    8 | ev -3.856299428e-01 | Ndiff      0.567 \n"
       ]
      },
      {
       "output_type": "stream",
       "stream": "stdout",
       "text": [
        "       24/50 after      1 sec. | K    8 | ev -3.856257386e-01 | Ndiff      0.495 \n"
       ]
      },
      {
       "output_type": "stream",
       "stream": "stdout",
       "text": [
        "       25/50 after      1 sec. | K    8 | ev -3.856220089e-01 | Ndiff      0.431 \n"
       ]
      },
      {
       "output_type": "stream",
       "stream": "stdout",
       "text": [
        "       26/50 after      1 sec. | K    8 | ev -3.856186825e-01 | Ndiff      0.373 \n"
       ]
      },
      {
       "output_type": "stream",
       "stream": "stdout",
       "text": [
        "       27/50 after      1 sec. | K    8 | ev -3.856157014e-01 | Ndiff      0.322 \n"
       ]
      },
      {
       "output_type": "stream",
       "stream": "stdout",
       "text": [
        "       28/50 after      1 sec. | K    8 | ev -3.856130177e-01 | Ndiff      0.275 \n"
       ]
      },
      {
       "output_type": "stream",
       "stream": "stdout",
       "text": [
        "       29/50 after      1 sec. | K    8 | ev -3.856105920e-01 | Ndiff      0.233 \n"
       ]
      },
      {
       "output_type": "stream",
       "stream": "stdout",
       "text": [
        "       30/50 after      1 sec. | K    8 | ev -3.856083912e-01 | Ndiff      0.194 \n"
       ]
      },
      {
       "output_type": "stream",
       "stream": "stdout",
       "text": [
        "       31/50 after      1 sec. | K    8 | ev -3.856063874e-01 | Ndiff      0.159 \n"
       ]
      },
      {
       "output_type": "stream",
       "stream": "stdout",
       "text": [
        "       32/50 after      1 sec. | K    8 | ev -3.856045572e-01 | Ndiff      0.127 \n"
       ]
      },
      {
       "output_type": "stream",
       "stream": "stdout",
       "text": [
        "       33/50 after      1 sec. | K    8 | ev -3.856028805e-01 | Ndiff      0.097 \n"
       ]
      },
      {
       "output_type": "stream",
       "stream": "stdout",
       "text": [
        "       34/50 after      1 sec. | K    8 | ev -3.856013402e-01 | Ndiff      0.069 \n"
       ]
      },
      {
       "output_type": "stream",
       "stream": "stdout",
       "text": [
        "       35/50 after      1 sec. | K    8 | ev -3.855999214e-01 | Ndiff      0.044 \n"
       ]
      },
      {
       "output_type": "stream",
       "stream": "stdout",
       "text": [
        "... done. converged.\n"
       ]
      },
      {
       "output_type": "stream",
       "stream": "stdout",
       "text": [
        "Trial 21/25 | alg. seed: 1977344 | data order seed: 6033536\n"
       ]
      },
      {
       "output_type": "stream",
       "stream": "stdout",
       "text": [
        "savepath: /Users/Jens/Dropbox/dev/research/ML/out/AsteriskK8/initrand/21\n"
       ]
      },
      {
       "output_type": "stream",
       "stream": "stdout",
       "text": [
        "        1/50 after      0 sec. | K    8 | ev -8.002598996e+06 |  \n"
       ]
      },
      {
       "output_type": "stream",
       "stream": "stdout",
       "text": [
        "        2/50 after      0 sec. | K    8 | ev -8.453020641e-01 | Ndiff    173.793 \n"
       ]
      },
      {
       "output_type": "stream",
       "stream": "stdout",
       "text": [
        "        3/50 after      0 sec. | K    8 | ev -7.114580354e-01 | Ndiff    315.936 \n"
       ]
      },
      {
       "output_type": "stream",
       "stream": "stdout",
       "text": [
        "        4/50 after      0 sec. | K    8 | ev -5.483997581e-01 | Ndiff    829.331 \n"
       ]
      },
      {
       "output_type": "stream",
       "stream": "stdout",
       "text": [
        "        5/50 after      0 sec. | K    8 | ev -4.886903590e-01 | Ndiff    965.692 \n"
       ]
      },
      {
       "output_type": "stream",
       "stream": "stdout",
       "text": [
        "        6/50 after      0 sec. | K    8 | ev -4.383549149e-01 | Ndiff    895.589 \n"
       ]
      },
      {
       "output_type": "stream",
       "stream": "stdout",
       "text": [
        "        7/50 after      0 sec. | K    8 | ev -4.108428951e-01 | Ndiff    412.857 \n"
       ]
      },
      {
       "output_type": "stream",
       "stream": "stdout",
       "text": [
        "        8/50 after      0 sec. | K    8 | ev -3.970338227e-01 | Ndiff    155.982 \n"
       ]
      },
      {
       "output_type": "stream",
       "stream": "stdout",
       "text": [
        "        9/50 after      0 sec. | K    8 | ev -3.817560372e-01 | Ndiff    107.131 \n"
       ]
      },
      {
       "output_type": "stream",
       "stream": "stdout",
       "text": [
        "       10/50 after      0 sec. | K    8 | ev -3.564745809e-01 | Ndiff    129.218 \n"
       ]
      },
      {
       "output_type": "stream",
       "stream": "stdout",
       "text": [
        "       11/50 after      0 sec. | K    8 | ev -3.300266684e-01 | Ndiff     24.123 \n"
       ]
      },
      {
       "output_type": "stream",
       "stream": "stdout",
       "text": [
        "       12/50 after      0 sec. | K    8 | ev -3.285417956e-01 | Ndiff      9.602 \n"
       ]
      },
      {
       "output_type": "stream",
       "stream": "stdout",
       "text": [
        "       13/50 after      0 sec. | K    8 | ev -3.285022222e-01 | Ndiff      6.736 \n"
       ]
      },
      {
       "output_type": "stream",
       "stream": "stdout",
       "text": [
        "       14/50 after      0 sec. | K    8 | ev -3.284755783e-01 | Ndiff      5.682 \n"
       ]
      },
      {
       "output_type": "stream",
       "stream": "stdout",
       "text": [
        "       15/50 after      1 sec. | K    8 | ev -3.284558748e-01 | Ndiff      4.856 \n"
       ]
      },
      {
       "output_type": "stream",
       "stream": "stdout",
       "text": [
        "       16/50 after      1 sec. | K    8 | ev -3.284404873e-01 | Ndiff      4.194 \n"
       ]
      },
      {
       "output_type": "stream",
       "stream": "stdout",
       "text": [
        "       17/50 after      1 sec. | K    8 | ev -3.284280116e-01 | Ndiff      3.652 \n"
       ]
      },
      {
       "output_type": "stream",
       "stream": "stdout",
       "text": [
        "       18/50 after      1 sec. | K    8 | ev -3.284175979e-01 | Ndiff      3.203 \n"
       ]
      },
      {
       "output_type": "stream",
       "stream": "stdout",
       "text": [
        "       19/50 after      1 sec. | K    8 | ev -3.284086866e-01 | Ndiff      2.824 \n"
       ]
      },
      {
       "output_type": "stream",
       "stream": "stdout",
       "text": [
        "       20/50 after      1 sec. | K    8 | ev -3.284008888e-01 | Ndiff      2.502 \n"
       ]
      },
      {
       "output_type": "stream",
       "stream": "stdout",
       "text": [
        "       21/50 after      1 sec. | K    8 | ev -3.283939278e-01 | Ndiff      2.226 \n"
       ]
      },
      {
       "output_type": "stream",
       "stream": "stdout",
       "text": [
        "       22/50 after      1 sec. | K    8 | ev -3.283876072e-01 | Ndiff      1.986 \n"
       ]
      },
      {
       "output_type": "stream",
       "stream": "stdout",
       "text": [
        "       23/50 after      1 sec. | K    8 | ev -3.283817927e-01 | Ndiff      1.777 \n"
       ]
      },
      {
       "output_type": "stream",
       "stream": "stdout",
       "text": [
        "       24/50 after      1 sec. | K    8 | ev -3.283763998e-01 | Ndiff      1.594 \n"
       ]
      },
      {
       "output_type": "stream",
       "stream": "stdout",
       "text": [
        "       25/50 after      1 sec. | K    8 | ev -3.283713847e-01 | Ndiff      1.432 \n"
       ]
      },
      {
       "output_type": "stream",
       "stream": "stdout",
       "text": [
        "       26/50 after      1 sec. | K    8 | ev -3.283667345e-01 | Ndiff      1.289 \n"
       ]
      },
      {
       "output_type": "stream",
       "stream": "stdout",
       "text": [
        "       27/50 after      1 sec. | K    8 | ev -3.283624562e-01 | Ndiff      1.161 \n"
       ]
      },
      {
       "output_type": "stream",
       "stream": "stdout",
       "text": [
        "       28/50 after      1 sec. | K    8 | ev -3.283585649e-01 | Ndiff      1.046 \n"
       ]
      },
      {
       "output_type": "stream",
       "stream": "stdout",
       "text": [
        "       29/50 after      1 sec. | K    8 | ev -3.283550729e-01 | Ndiff      0.943 \n"
       ]
      },
      {
       "output_type": "stream",
       "stream": "stdout",
       "text": [
        "       30/50 after      1 sec. | K    8 | ev -3.283519811e-01 | Ndiff      0.850 \n"
       ]
      },
      {
       "output_type": "stream",
       "stream": "stdout",
       "text": [
        "       31/50 after      1 sec. | K    8 | ev -3.283492753e-01 | Ndiff      0.766 \n"
       ]
      },
      {
       "output_type": "stream",
       "stream": "stdout",
       "text": [
        "       32/50 after      1 sec. | K    8 | ev -3.283469267e-01 | Ndiff      0.690 \n"
       ]
      },
      {
       "output_type": "stream",
       "stream": "stdout",
       "text": [
        "       33/50 after      1 sec. | K    8 | ev -3.283448955e-01 | Ndiff      0.621 \n"
       ]
      },
      {
       "output_type": "stream",
       "stream": "stdout",
       "text": [
        "       34/50 after      1 sec. | K    8 | ev -3.283431372e-01 | Ndiff      0.558 \n"
       ]
      },
      {
       "output_type": "stream",
       "stream": "stdout",
       "text": [
        "       35/50 after      1 sec. | K    8 | ev -3.283416067e-01 | Ndiff      0.518 \n"
       ]
      },
      {
       "output_type": "stream",
       "stream": "stdout",
       "text": [
        "       36/50 after      1 sec. | K    8 | ev -3.283402632e-01 | Ndiff      0.485 \n"
       ]
      },
      {
       "output_type": "stream",
       "stream": "stdout",
       "text": [
        "       37/50 after      1 sec. | K    8 | ev -3.283390712e-01 | Ndiff      0.450 \n"
       ]
      },
      {
       "output_type": "stream",
       "stream": "stdout",
       "text": [
        "       38/50 after      1 sec. | K    8 | ev -3.283380017e-01 | Ndiff      0.413 \n"
       ]
      },
      {
       "output_type": "stream",
       "stream": "stdout",
       "text": [
        "       39/50 after      1 sec. | K    8 | ev -3.283370317e-01 | Ndiff      0.376 \n"
       ]
      },
      {
       "output_type": "stream",
       "stream": "stdout",
       "text": [
        "       40/50 after      1 sec. | K    8 | ev -3.283361433e-01 | Ndiff      0.338 \n"
       ]
      },
      {
       "output_type": "stream",
       "stream": "stdout",
       "text": [
        "       41/50 after      1 sec. | K    8 | ev -3.283353227e-01 | Ndiff      0.302 \n"
       ]
      },
      {
       "output_type": "stream",
       "stream": "stdout",
       "text": [
        "       42/50 after      1 sec. | K    8 | ev -3.283345589e-01 | Ndiff      0.265 \n"
       ]
      },
      {
       "output_type": "stream",
       "stream": "stdout",
       "text": [
        "       43/50 after      1 sec. | K    8 | ev -3.283338436e-01 | Ndiff      0.230 \n"
       ]
      },
      {
       "output_type": "stream",
       "stream": "stdout",
       "text": [
        "       44/50 after      1 sec. | K    8 | ev -3.283331701e-01 | Ndiff      0.195 \n"
       ]
      },
      {
       "output_type": "stream",
       "stream": "stdout",
       "text": [
        "       45/50 after      1 sec. | K    8 | ev -3.283325327e-01 | Ndiff      0.161 \n"
       ]
      },
      {
       "output_type": "stream",
       "stream": "stdout",
       "text": [
        "       46/50 after      2 sec. | K    8 | ev -3.283319268e-01 | Ndiff      0.128 \n"
       ]
      },
      {
       "output_type": "stream",
       "stream": "stdout",
       "text": [
        "       47/50 after      2 sec. | K    8 | ev -3.283313484e-01 | Ndiff      0.097 \n"
       ]
      },
      {
       "output_type": "stream",
       "stream": "stdout",
       "text": [
        "       48/50 after      2 sec. | K    8 | ev -3.283307942e-01 | Ndiff      0.066 \n"
       ]
      },
      {
       "output_type": "stream",
       "stream": "stdout",
       "text": [
        "       49/50 after      2 sec. | K    8 | ev -3.283302610e-01 | Ndiff      0.045 \n"
       ]
      },
      {
       "output_type": "stream",
       "stream": "stdout",
       "text": [
        "... done. converged.\n"
       ]
      },
      {
       "output_type": "stream",
       "stream": "stdout",
       "text": [
        "Trial 22/25 | alg. seed: 3713920 | data order seed: 8644096\n"
       ]
      },
      {
       "output_type": "stream",
       "stream": "stdout",
       "text": [
        "savepath: /Users/Jens/Dropbox/dev/research/ML/out/AsteriskK8/initrand/22\n"
       ]
      },
      {
       "output_type": "stream",
       "stream": "stdout",
       "text": [
        "        1/50 after      0 sec. | K    8 | ev -8.078441742e+06 |  \n"
       ]
      },
      {
       "output_type": "stream",
       "stream": "stdout",
       "text": [
        "        2/50 after      0 sec. | K    8 | ev -6.917993246e-01 | Ndiff    345.554 \n"
       ]
      },
      {
       "output_type": "stream",
       "stream": "stdout",
       "text": [
        "        3/50 after      0 sec. | K    8 | ev -5.888887638e-01 | Ndiff    465.255 \n"
       ]
      },
      {
       "output_type": "stream",
       "stream": "stdout",
       "text": [
        "        4/50 after      0 sec. | K    8 | ev -5.285098668e-01 | Ndiff    742.783 \n"
       ]
      },
      {
       "output_type": "stream",
       "stream": "stdout",
       "text": [
        "        5/50 after      0 sec. | K    8 | ev -4.457496591e-01 | Ndiff   1034.253 \n"
       ]
      },
      {
       "output_type": "stream",
       "stream": "stdout",
       "text": [
        "        6/50 after      0 sec. | K    8 | ev -3.792438999e-01 | Ndiff    999.080 \n"
       ]
      },
      {
       "output_type": "stream",
       "stream": "stdout",
       "text": [
        "        7/50 after      0 sec. | K    8 | ev -3.351791929e-01 | Ndiff    634.579 \n"
       ]
      },
      {
       "output_type": "stream",
       "stream": "stdout",
       "text": [
        "        8/50 after      0 sec. | K    8 | ev -3.067904627e-01 | Ndiff    238.169 \n"
       ]
      },
      {
       "output_type": "stream",
       "stream": "stdout",
       "text": [
        "        9/50 after      0 sec. | K    8 | ev -2.700599026e-01 | Ndiff    194.106 \n"
       ]
      },
      {
       "output_type": "stream",
       "stream": "stdout",
       "text": [
        "       10/50 after      0 sec. | K    8 | ev -2.042242793e-01 | Ndiff    180.097 \n"
       ]
      },
      {
       "output_type": "stream",
       "stream": "stdout",
       "text": [
        "       11/50 after      0 sec. | K    8 | ev -1.758998040e-01 | Ndiff     93.609 \n"
       ]
      },
      {
       "output_type": "stream",
       "stream": "stdout",
       "text": [
        "       12/50 after      0 sec. | K    8 | ev -1.424162092e-01 | Ndiff     16.535 \n"
       ]
      },
      {
       "output_type": "stream",
       "stream": "stdout",
       "text": [
        "       13/50 after      0 sec. | K    8 | ev -1.378945205e-01 | Ndiff      2.545 \n"
       ]
      },
      {
       "output_type": "stream",
       "stream": "stdout",
       "text": [
        "       14/50 after      0 sec. | K    8 | ev -1.378441897e-01 | Ndiff      1.357 \n"
       ]
      },
      {
       "output_type": "stream",
       "stream": "stdout",
       "text": [
        "       15/50 after      0 sec. | K    8 | ev -1.378139023e-01 | Ndiff      1.210 \n"
       ]
      },
      {
       "output_type": "stream",
       "stream": "stdout",
       "text": [
        "       16/50 after      1 sec. | K    8 | ev -1.377926583e-01 | Ndiff      1.035 \n"
       ]
      },
      {
       "output_type": "stream",
       "stream": "stdout",
       "text": [
        "       17/50 after      1 sec. | K    8 | ev -1.377769729e-01 | Ndiff      0.885 \n"
       ]
      },
      {
       "output_type": "stream",
       "stream": "stdout",
       "text": [
        "       18/50 after      1 sec. | K    8 | ev -1.377649689e-01 | Ndiff      0.765 \n"
       ]
      },
      {
       "output_type": "stream",
       "stream": "stdout",
       "text": [
        "       19/50 after      1 sec. | K    8 | ev -1.377555254e-01 | Ndiff      0.668 \n"
       ]
      },
      {
       "output_type": "stream",
       "stream": "stdout",
       "text": [
        "       20/50 after      1 sec. | K    8 | ev -1.377479285e-01 | Ndiff      0.589 \n"
       ]
      },
      {
       "output_type": "stream",
       "stream": "stdout",
       "text": [
        "       21/50 after      1 sec. | K    8 | ev -1.377417020e-01 | Ndiff      0.523 \n"
       ]
      },
      {
       "output_type": "stream",
       "stream": "stdout",
       "text": [
        "       22/50 after      1 sec. | K    8 | ev -1.377365167e-01 | Ndiff      0.469 \n"
       ]
      },
      {
       "output_type": "stream",
       "stream": "stdout",
       "text": [
        "       23/50 after      1 sec. | K    8 | ev -1.377321381e-01 | Ndiff      0.422 \n"
       ]
      },
      {
       "output_type": "stream",
       "stream": "stdout",
       "text": [
        "       24/50 after      1 sec. | K    8 | ev -1.377283951e-01 | Ndiff      0.383 \n"
       ]
      },
      {
       "output_type": "stream",
       "stream": "stdout",
       "text": [
        "       25/50 after      1 sec. | K    8 | ev -1.377251603e-01 | Ndiff      0.349 \n"
       ]
      },
      {
       "output_type": "stream",
       "stream": "stdout",
       "text": [
        "       26/50 after      1 sec. | K    8 | ev -1.377223369e-01 | Ndiff      0.319 \n"
       ]
      },
      {
       "output_type": "stream",
       "stream": "stdout",
       "text": [
        "       27/50 after      1 sec. | K    8 | ev -1.377198506e-01 | Ndiff      0.293 \n"
       ]
      },
      {
       "output_type": "stream",
       "stream": "stdout",
       "text": [
        "       28/50 after      1 sec. | K    8 | ev -1.377176431e-01 | Ndiff      0.270 \n"
       ]
      },
      {
       "output_type": "stream",
       "stream": "stdout",
       "text": [
        "       29/50 after      1 sec. | K    8 | ev -1.377156685e-01 | Ndiff      0.249 \n"
       ]
      },
      {
       "output_type": "stream",
       "stream": "stdout",
       "text": [
        "       30/50 after      1 sec. | K    8 | ev -1.377138898e-01 | Ndiff      0.231 \n"
       ]
      },
      {
       "output_type": "stream",
       "stream": "stdout",
       "text": [
        "       31/50 after      1 sec. | K    8 | ev -1.377122775e-01 | Ndiff      0.215 \n"
       ]
      },
      {
       "output_type": "stream",
       "stream": "stdout",
       "text": [
        "       32/50 after      1 sec. | K    8 | ev -1.377108071e-01 | Ndiff      0.200 \n"
       ]
      },
      {
       "output_type": "stream",
       "stream": "stdout",
       "text": [
        "       33/50 after      1 sec. | K    8 | ev -1.377094588e-01 | Ndiff      0.187 \n"
       ]
      },
      {
       "output_type": "stream",
       "stream": "stdout",
       "text": [
        "       34/50 after      1 sec. | K    8 | ev -1.377082160e-01 | Ndiff      0.175 \n"
       ]
      },
      {
       "output_type": "stream",
       "stream": "stdout",
       "text": [
        "       35/50 after      1 sec. | K    8 | ev -1.377070648e-01 | Ndiff      0.164 \n"
       ]
      },
      {
       "output_type": "stream",
       "stream": "stdout",
       "text": [
        "       36/50 after      1 sec. | K    8 | ev -1.377059936e-01 | Ndiff      0.153 \n"
       ]
      },
      {
       "output_type": "stream",
       "stream": "stdout",
       "text": [
        "       37/50 after      1 sec. | K    8 | ev -1.377049928e-01 | Ndiff      0.144 \n"
       ]
      },
      {
       "output_type": "stream",
       "stream": "stdout",
       "text": [
        "       38/50 after      1 sec. | K    8 | ev -1.377040539e-01 | Ndiff      0.136 \n"
       ]
      },
      {
       "output_type": "stream",
       "stream": "stdout",
       "text": [
        "       39/50 after      1 sec. | K    8 | ev -1.377031697e-01 | Ndiff      0.128 \n"
       ]
      },
      {
       "output_type": "stream",
       "stream": "stdout",
       "text": [
        "       40/50 after      1 sec. | K    8 | ev -1.377023343e-01 | Ndiff      0.121 \n"
       ]
      },
      {
       "output_type": "stream",
       "stream": "stdout",
       "text": [
        "       41/50 after      1 sec. | K    8 | ev -1.377015424e-01 | Ndiff      0.114 \n"
       ]
      },
      {
       "output_type": "stream",
       "stream": "stdout",
       "text": [
        "       42/50 after      1 sec. | K    8 | ev -1.377007894e-01 | Ndiff      0.108 \n"
       ]
      },
      {
       "output_type": "stream",
       "stream": "stdout",
       "text": [
        "       43/50 after      1 sec. | K    8 | ev -1.377000713e-01 | Ndiff      0.102 \n"
       ]
      },
      {
       "output_type": "stream",
       "stream": "stdout",
       "text": [
        "       44/50 after      1 sec. | K    8 | ev -1.376993848e-01 | Ndiff      0.096 \n"
       ]
      },
      {
       "output_type": "stream",
       "stream": "stdout",
       "text": [
        "       45/50 after      2 sec. | K    8 | ev -1.376987268e-01 | Ndiff      0.091 \n"
       ]
      },
      {
       "output_type": "stream",
       "stream": "stdout",
       "text": [
        "       46/50 after      2 sec. | K    8 | ev -1.376980947e-01 | Ndiff      0.087 \n"
       ]
      },
      {
       "output_type": "stream",
       "stream": "stdout",
       "text": [
        "       47/50 after      2 sec. | K    8 | ev -1.376974862e-01 | Ndiff      0.082 \n"
       ]
      },
      {
       "output_type": "stream",
       "stream": "stdout",
       "text": [
        "       48/50 after      2 sec. | K    8 | ev -1.376968993e-01 | Ndiff      0.078 \n"
       ]
      },
      {
       "output_type": "stream",
       "stream": "stdout",
       "text": [
        "       49/50 after      2 sec. | K    8 | ev -1.376963322e-01 | Ndiff      0.074 \n"
       ]
      },
      {
       "output_type": "stream",
       "stream": "stdout",
       "text": [
        "       50/50 after      2 sec. | K    8 | ev -1.376957833e-01 | Ndiff      0.071 \n"
       ]
      },
      {
       "output_type": "stream",
       "stream": "stdout",
       "text": [
        "... done. not converged. max laps thru data exceeded.\n"
       ]
      },
      {
       "output_type": "stream",
       "stream": "stdout",
       "text": [
        "Trial 23/25 | alg. seed: 9287808 | data order seed: 2513920\n"
       ]
      },
      {
       "output_type": "stream",
       "stream": "stdout",
       "text": [
        "savepath: /Users/Jens/Dropbox/dev/research/ML/out/AsteriskK8/initrand/23\n"
       ]
      },
      {
       "output_type": "stream",
       "stream": "stdout",
       "text": [
        "        1/50 after      0 sec. | K    8 | ev -1.032400312e+07 |  \n"
       ]
      },
      {
       "output_type": "stream",
       "stream": "stdout",
       "text": [
        "        2/50 after      0 sec. | K    8 | ev -7.092209863e-01 | Ndiff    862.254 \n"
       ]
      },
      {
       "output_type": "stream",
       "stream": "stdout",
       "text": [
        "        3/50 after      0 sec. | K    8 | ev -6.478687846e-01 | Ndiff    747.125 \n"
       ]
      },
      {
       "output_type": "stream",
       "stream": "stdout",
       "text": [
        "        4/50 after      0 sec. | K    8 | ev -6.123325320e-01 | Ndiff    376.567 \n"
       ]
      },
      {
       "output_type": "stream",
       "stream": "stdout",
       "text": [
        "        5/50 after      0 sec. | K    8 | ev -5.809261664e-01 | Ndiff    204.263 \n"
       ]
      },
      {
       "output_type": "stream",
       "stream": "stdout",
       "text": [
        "        6/50 after      0 sec. | K    8 | ev -5.184830943e-01 | Ndiff    301.979 \n"
       ]
      },
      {
       "output_type": "stream",
       "stream": "stdout",
       "text": [
        "        7/50 after      0 sec. | K    8 | ev -4.045542611e-01 | Ndiff    666.522 \n"
       ]
      },
      {
       "output_type": "stream",
       "stream": "stdout",
       "text": [
        "        8/50 after      0 sec. | K    8 | ev -3.190718832e-01 | Ndiff    569.720 \n"
       ]
      },
      {
       "output_type": "stream",
       "stream": "stdout",
       "text": [
        "        9/50 after      0 sec. | K    8 | ev -2.573057490e-01 | Ndiff    373.812 \n"
       ]
      },
      {
       "output_type": "stream",
       "stream": "stdout",
       "text": [
        "       10/50 after      0 sec. | K    8 | ev -2.067769120e-01 | Ndiff    180.072 \n"
       ]
      },
      {
       "output_type": "stream",
       "stream": "stdout",
       "text": [
        "       11/50 after      0 sec. | K    8 | ev -1.444318534e-01 | Ndiff     19.683 \n"
       ]
      },
      {
       "output_type": "stream",
       "stream": "stdout",
       "text": [
        "       12/50 after      0 sec. | K    8 | ev -1.412577620e-01 | Ndiff      2.923 \n"
       ]
      },
      {
       "output_type": "stream",
       "stream": "stdout",
       "text": [
        "       13/50 after      0 sec. | K    8 | ev -1.412552302e-01 | Ndiff      0.249 \n"
       ]
      },
      {
       "output_type": "stream",
       "stream": "stdout",
       "text": [
        "       14/50 after      1 sec. | K    8 | ev -1.412542300e-01 | Ndiff      0.187 \n"
       ]
      },
      {
       "output_type": "stream",
       "stream": "stdout",
       "text": [
        "       15/50 after      1 sec. | K    8 | ev -1.412534685e-01 | Ndiff      0.204 \n"
       ]
      },
      {
       "output_type": "stream",
       "stream": "stdout",
       "text": [
        "       16/50 after      1 sec. | K    8 | ev -1.412528504e-01 | Ndiff      0.229 \n"
       ]
      },
      {
       "output_type": "stream",
       "stream": "stdout",
       "text": [
        "       17/50 after      1 sec. | K    8 | ev -1.412523268e-01 | Ndiff      0.258 \n"
       ]
      },
      {
       "output_type": "stream",
       "stream": "stdout",
       "text": [
        "       18/50 after      1 sec. | K    8 | ev -1.412518695e-01 | Ndiff      0.288 \n"
       ]
      },
      {
       "output_type": "stream",
       "stream": "stdout",
       "text": [
        "       19/50 after      1 sec. | K    8 | ev -1.412514614e-01 | Ndiff      0.318 \n"
       ]
      },
      {
       "output_type": "stream",
       "stream": "stdout",
       "text": [
        "       20/50 after      1 sec. | K    8 | ev -1.412510913e-01 | Ndiff      0.348 \n"
       ]
      },
      {
       "output_type": "stream",
       "stream": "stdout",
       "text": [
        "       21/50 after      1 sec. | K    8 | ev -1.412507516e-01 | Ndiff      0.378 \n"
       ]
      },
      {
       "output_type": "stream",
       "stream": "stdout",
       "text": [
        "       22/50 after      1 sec. | K    8 | ev -1.412504367e-01 | Ndiff      0.407 \n"
       ]
      },
      {
       "output_type": "stream",
       "stream": "stdout",
       "text": [
        "       23/50 after      1 sec. | K    8 | ev -1.412501423e-01 | Ndiff      0.436 \n"
       ]
      },
      {
       "output_type": "stream",
       "stream": "stdout",
       "text": [
        "       24/50 after      1 sec. | K    8 | ev -1.412498648e-01 | Ndiff      0.463 \n"
       ]
      },
      {
       "output_type": "stream",
       "stream": "stdout",
       "text": [
        "       25/50 after      1 sec. | K    8 | ev -1.412496015e-01 | Ndiff      0.490 \n"
       ]
      },
      {
       "output_type": "stream",
       "stream": "stdout",
       "text": [
        "       26/50 after      1 sec. | K    8 | ev -1.412493498e-01 | Ndiff      0.516 \n"
       ]
      },
      {
       "output_type": "stream",
       "stream": "stdout",
       "text": [
        "       27/50 after      1 sec. | K    8 | ev -1.412491076e-01 | Ndiff      0.542 \n"
       ]
      },
      {
       "output_type": "stream",
       "stream": "stdout",
       "text": [
        "       28/50 after      1 sec. | K    8 | ev -1.412488732e-01 | Ndiff      0.566 \n"
       ]
      },
      {
       "output_type": "stream",
       "stream": "stdout",
       "text": [
        "       29/50 after      1 sec. | K    8 | ev -1.412486448e-01 | Ndiff      0.590 \n"
       ]
      },
      {
       "output_type": "stream",
       "stream": "stdout",
       "text": [
        "       30/50 after      1 sec. | K    8 | ev -1.412484212e-01 | Ndiff      0.614 \n"
       ]
      },
      {
       "output_type": "stream",
       "stream": "stdout",
       "text": [
        "       31/50 after      1 sec. | K    8 | ev -1.412482009e-01 | Ndiff      0.637 \n"
       ]
      },
      {
       "output_type": "stream",
       "stream": "stdout",
       "text": [
        "       32/50 after      1 sec. | K    8 | ev -1.412479830e-01 | Ndiff      0.659 \n"
       ]
      },
      {
       "output_type": "stream",
       "stream": "stdout",
       "text": [
        "       33/50 after      1 sec. | K    8 | ev -1.412477662e-01 | Ndiff      0.681 \n"
       ]
      },
      {
       "output_type": "stream",
       "stream": "stdout",
       "text": [
        "       34/50 after      1 sec. | K    8 | ev -1.412475499e-01 | Ndiff      0.702 \n"
       ]
      },
      {
       "output_type": "stream",
       "stream": "stdout",
       "text": [
        "       35/50 after      1 sec. | K    8 | ev -1.412473331e-01 | Ndiff      0.723 \n"
       ]
      },
      {
       "output_type": "stream",
       "stream": "stdout",
       "text": [
        "       36/50 after      1 sec. | K    8 | ev -1.412471151e-01 | Ndiff      0.743 \n"
       ]
      },
      {
       "output_type": "stream",
       "stream": "stdout",
       "text": [
        "       37/50 after      1 sec. | K    8 | ev -1.412468953e-01 | Ndiff      0.763 \n"
       ]
      },
      {
       "output_type": "stream",
       "stream": "stdout",
       "text": [
        "       38/50 after      1 sec. | K    8 | ev -1.412466731e-01 | Ndiff      0.783 \n"
       ]
      },
      {
       "output_type": "stream",
       "stream": "stdout",
       "text": [
        "       39/50 after      1 sec. | K    8 | ev -1.412464478e-01 | Ndiff      0.802 \n"
       ]
      },
      {
       "output_type": "stream",
       "stream": "stdout",
       "text": [
        "       40/50 after      1 sec. | K    8 | ev -1.412462190e-01 | Ndiff      0.820 \n"
       ]
      },
      {
       "output_type": "stream",
       "stream": "stdout",
       "text": [
        "       41/50 after      1 sec. | K    8 | ev -1.412459862e-01 | Ndiff      0.839 \n"
       ]
      },
      {
       "output_type": "stream",
       "stream": "stdout",
       "text": [
        "       42/50 after      2 sec. | K    8 | ev -1.412457490e-01 | Ndiff      0.857 \n"
       ]
      },
      {
       "output_type": "stream",
       "stream": "stdout",
       "text": [
        "       43/50 after      2 sec. | K    8 | ev -1.412455069e-01 | Ndiff      0.875 \n"
       ]
      },
      {
       "output_type": "stream",
       "stream": "stdout",
       "text": [
        "       44/50 after      2 sec. | K    8 | ev -1.412452596e-01 | Ndiff      0.893 \n"
       ]
      },
      {
       "output_type": "stream",
       "stream": "stdout",
       "text": [
        "       45/50 after      2 sec. | K    8 | ev -1.412450066e-01 | Ndiff      0.910 \n"
       ]
      },
      {
       "output_type": "stream",
       "stream": "stdout",
       "text": [
        "       46/50 after      2 sec. | K    8 | ev -1.412447476e-01 | Ndiff      0.927 \n"
       ]
      },
      {
       "output_type": "stream",
       "stream": "stdout",
       "text": [
        "       47/50 after      2 sec. | K    8 | ev -1.412444821e-01 | Ndiff      0.944 \n"
       ]
      },
      {
       "output_type": "stream",
       "stream": "stdout",
       "text": [
        "       48/50 after      2 sec. | K    8 | ev -1.412442099e-01 | Ndiff      0.961 \n"
       ]
      },
      {
       "output_type": "stream",
       "stream": "stdout",
       "text": [
        "       49/50 after      2 sec. | K    8 | ev -1.412439306e-01 | Ndiff      0.978 \n"
       ]
      },
      {
       "output_type": "stream",
       "stream": "stdout",
       "text": [
        "       50/50 after      2 sec. | K    8 | ev -1.412436437e-01 | Ndiff      0.995 \n"
       ]
      },
      {
       "output_type": "stream",
       "stream": "stdout",
       "text": [
        "... done. not converged. max laps thru data exceeded.\n"
       ]
      },
      {
       "output_type": "stream",
       "stream": "stdout",
       "text": [
        "Trial 24/25 | alg. seed: 322048 | data order seed: 6039296\n"
       ]
      },
      {
       "output_type": "stream",
       "stream": "stdout",
       "text": [
        "savepath: /Users/Jens/Dropbox/dev/research/ML/out/AsteriskK8/initrand/24\n"
       ]
      },
      {
       "output_type": "stream",
       "stream": "stdout",
       "text": [
        "        1/50 after      0 sec. | K    8 | ev -8.306615454e+06 |  \n"
       ]
      },
      {
       "output_type": "stream",
       "stream": "stdout",
       "text": [
        "        2/50 after      0 sec. | K    8 | ev -8.286175733e-01 | Ndiff    360.931 \n"
       ]
      },
      {
       "output_type": "stream",
       "stream": "stdout",
       "text": [
        "        3/50 after      0 sec. | K    8 | ev -7.164990023e-01 | Ndiff    590.136 \n"
       ]
      },
      {
       "output_type": "stream",
       "stream": "stdout",
       "text": [
        "        4/50 after      0 sec. | K    8 | ev -6.316311526e-01 | Ndiff    869.221 \n"
       ]
      },
      {
       "output_type": "stream",
       "stream": "stdout",
       "text": [
        "        5/50 after      0 sec. | K    8 | ev -5.663501904e-01 | Ndiff    885.374 \n"
       ]
      },
      {
       "output_type": "stream",
       "stream": "stdout",
       "text": [
        "        6/50 after      0 sec. | K    8 | ev -5.139013937e-01 | Ndiff    507.703 \n"
       ]
      },
      {
       "output_type": "stream",
       "stream": "stdout",
       "text": [
        "        7/50 after      0 sec. | K    8 | ev -4.724909173e-01 | Ndiff    369.042 \n"
       ]
      },
      {
       "output_type": "stream",
       "stream": "stdout",
       "text": [
        "        8/50 after      0 sec. | K    8 | ev -4.199075052e-01 | Ndiff    258.257 \n"
       ]
      },
      {
       "output_type": "stream",
       "stream": "stdout",
       "text": [
        "        9/50 after      0 sec. | K    8 | ev -3.754949344e-01 | Ndiff    140.122 \n"
       ]
      },
      {
       "output_type": "stream",
       "stream": "stdout",
       "text": [
        "       10/50 after      0 sec. | K    8 | ev -3.436756919e-01 | Ndiff     44.581 \n"
       ]
      },
      {
       "output_type": "stream",
       "stream": "stdout",
       "text": [
        "       11/50 after      0 sec. | K    8 | ev -3.330897260e-01 | Ndiff     10.771 \n"
       ]
      },
      {
       "output_type": "stream",
       "stream": "stdout",
       "text": [
        "       12/50 after      0 sec. | K    8 | ev -3.329611330e-01 | Ndiff      8.643 \n"
       ]
      },
      {
       "output_type": "stream",
       "stream": "stdout",
       "text": [
        "       13/50 after      0 sec. | K    8 | ev -3.328817488e-01 | Ndiff      7.094 \n"
       ]
      },
      {
       "output_type": "stream",
       "stream": "stdout",
       "text": [
        "       14/50 after      1 sec. | K    8 | ev -3.328271142e-01 | Ndiff      5.884 \n"
       ]
      },
      {
       "output_type": "stream",
       "stream": "stdout",
       "text": [
        "       15/50 after      1 sec. | K    8 | ev -3.327875386e-01 | Ndiff      4.957 \n"
       ]
      },
      {
       "output_type": "stream",
       "stream": "stdout",
       "text": [
        "       16/50 after      1 sec. | K    8 | ev -3.327577999e-01 | Ndiff      4.240 \n"
       ]
      },
      {
       "output_type": "stream",
       "stream": "stdout",
       "text": [
        "       17/50 after      1 sec. | K    8 | ev -3.327348048e-01 | Ndiff      3.675 \n"
       ]
      },
      {
       "output_type": "stream",
       "stream": "stdout",
       "text": [
        "       18/50 after      1 sec. | K    8 | ev -3.327166068e-01 | Ndiff      3.223 \n"
       ]
      },
      {
       "output_type": "stream",
       "stream": "stdout",
       "text": [
        "       19/50 after      1 sec. | K    8 | ev -3.327019248e-01 | Ndiff      2.855 \n"
       ]
      },
      {
       "output_type": "stream",
       "stream": "stdout",
       "text": [
        "       20/50 after      1 sec. | K    8 | ev -3.326898844e-01 | Ndiff      2.552 \n"
       ]
      },
      {
       "output_type": "stream",
       "stream": "stdout",
       "text": [
        "       21/50 after      1 sec. | K    8 | ev -3.326798705e-01 | Ndiff      2.299 \n"
       ]
      },
      {
       "output_type": "stream",
       "stream": "stdout",
       "text": [
        "       22/50 after      1 sec. | K    8 | ev -3.326714395e-01 | Ndiff      2.085 \n"
       ]
      },
      {
       "output_type": "stream",
       "stream": "stdout",
       "text": [
        "       23/50 after      1 sec. | K    8 | ev -3.326642638e-01 | Ndiff      1.903 \n"
       ]
      },
      {
       "output_type": "stream",
       "stream": "stdout",
       "text": [
        "       24/50 after      1 sec. | K    8 | ev -3.326580976e-01 | Ndiff      1.746 \n"
       ]
      },
      {
       "output_type": "stream",
       "stream": "stdout",
       "text": [
        "       25/50 after      1 sec. | K    8 | ev -3.326527526e-01 | Ndiff      1.609 \n"
       ]
      },
      {
       "output_type": "stream",
       "stream": "stdout",
       "text": [
        "       26/50 after      1 sec. | K    8 | ev -3.326480831e-01 | Ndiff      1.491 \n"
       ]
      },
      {
       "output_type": "stream",
       "stream": "stdout",
       "text": [
        "       27/50 after      1 sec. | K    8 | ev -3.326439743e-01 | Ndiff      1.386 \n"
       ]
      },
      {
       "output_type": "stream",
       "stream": "stdout",
       "text": [
        "       28/50 after      1 sec. | K    8 | ev -3.326403350e-01 | Ndiff      1.294 \n"
       ]
      },
      {
       "output_type": "stream",
       "stream": "stdout",
       "text": [
        "       29/50 after      1 sec. | K    8 | ev -3.326370919e-01 | Ndiff      1.212 \n"
       ]
      },
      {
       "output_type": "stream",
       "stream": "stdout",
       "text": [
        "       30/50 after      1 sec. | K    8 | ev -3.326341854e-01 | Ndiff      1.139 \n"
       ]
      },
      {
       "output_type": "stream",
       "stream": "stdout",
       "text": [
        "       31/50 after      1 sec. | K    8 | ev -3.326315669e-01 | Ndiff      1.073 \n"
       ]
      },
      {
       "output_type": "stream",
       "stream": "stdout",
       "text": [
        "       32/50 after      1 sec. | K    8 | ev -3.326291961e-01 | Ndiff      1.014 \n"
       ]
      },
      {
       "output_type": "stream",
       "stream": "stdout",
       "text": [
        "       33/50 after      1 sec. | K    8 | ev -3.326270396e-01 | Ndiff      0.960 \n"
       ]
      },
      {
       "output_type": "stream",
       "stream": "stdout",
       "text": [
        "       34/50 after      1 sec. | K    8 | ev -3.326250694e-01 | Ndiff      0.912 \n"
       ]
      },
      {
       "output_type": "stream",
       "stream": "stdout",
       "text": [
        "       35/50 after      1 sec. | K    8 | ev -3.326232618e-01 | Ndiff      0.868 \n"
       ]
      },
      {
       "output_type": "stream",
       "stream": "stdout",
       "text": [
        "       36/50 after      1 sec. | K    8 | ev -3.326215969e-01 | Ndiff      0.828 \n"
       ]
      },
      {
       "output_type": "stream",
       "stream": "stdout",
       "text": [
        "       37/50 after      1 sec. | K    8 | ev -3.326200577e-01 | Ndiff      0.791 \n"
       ]
      },
      {
       "output_type": "stream",
       "stream": "stdout",
       "text": [
        "       38/50 after      1 sec. | K    8 | ev -3.326186297e-01 | Ndiff      0.757 \n"
       ]
      },
      {
       "output_type": "stream",
       "stream": "stdout",
       "text": [
        "       39/50 after      1 sec. | K    8 | ev -3.326173002e-01 | Ndiff      0.726 \n"
       ]
      },
      {
       "output_type": "stream",
       "stream": "stdout",
       "text": [
        "       40/50 after      1 sec. | K    8 | ev -3.326160584e-01 | Ndiff      0.698 \n"
       ]
      },
      {
       "output_type": "stream",
       "stream": "stdout",
       "text": [
        "       41/50 after      1 sec. | K    8 | ev -3.326148950e-01 | Ndiff      0.672 \n"
       ]
      },
      {
       "output_type": "stream",
       "stream": "stdout",
       "text": [
        "       42/50 after      1 sec. | K    8 | ev -3.326138018e-01 | Ndiff      0.647 \n"
       ]
      },
      {
       "output_type": "stream",
       "stream": "stdout",
       "text": [
        "       43/50 after      2 sec. | K    8 | ev -3.326127717e-01 | Ndiff      0.625 \n"
       ]
      },
      {
       "output_type": "stream",
       "stream": "stdout",
       "text": [
        "       44/50 after      2 sec. | K    8 | ev -3.326117983e-01 | Ndiff      0.604 \n"
       ]
      },
      {
       "output_type": "stream",
       "stream": "stdout",
       "text": [
        "       45/50 after      2 sec. | K    8 | ev -3.326108762e-01 | Ndiff      0.585 \n"
       ]
      },
      {
       "output_type": "stream",
       "stream": "stdout",
       "text": [
        "       46/50 after      2 sec. | K    8 | ev -3.326100005e-01 | Ndiff      0.567 \n"
       ]
      },
      {
       "output_type": "stream",
       "stream": "stdout",
       "text": [
        "       47/50 after      2 sec. | K    8 | ev -3.326091670e-01 | Ndiff      0.550 \n"
       ]
      },
      {
       "output_type": "stream",
       "stream": "stdout",
       "text": [
        "       48/50 after      2 sec. | K    8 | ev -3.326083717e-01 | Ndiff      0.534 \n"
       ]
      },
      {
       "output_type": "stream",
       "stream": "stdout",
       "text": [
        "       49/50 after      2 sec. | K    8 | ev -3.326076114e-01 | Ndiff      0.520 \n"
       ]
      },
      {
       "output_type": "stream",
       "stream": "stdout",
       "text": [
        "       50/50 after      2 sec. | K    8 | ev -3.326068829e-01 | Ndiff      0.506 \n"
       ]
      },
      {
       "output_type": "stream",
       "stream": "stdout",
       "text": [
        "... done. not converged. max laps thru data exceeded.\n"
       ]
      },
      {
       "output_type": "stream",
       "stream": "stdout",
       "text": [
        "Trial 25/25 | alg. seed: 1885184 | data order seed: 7907200\n"
       ]
      },
      {
       "output_type": "stream",
       "stream": "stdout",
       "text": [
        "savepath: /Users/Jens/Dropbox/dev/research/ML/out/AsteriskK8/initrand/25\n"
       ]
      },
      {
       "output_type": "stream",
       "stream": "stdout",
       "text": [
        "        1/50 after      0 sec. | K    8 | ev -4.219870388e+06 |  \n"
       ]
      },
      {
       "output_type": "stream",
       "stream": "stdout",
       "text": [
        "        2/50 after      0 sec. | K    8 | ev -5.923446057e-01 | Ndiff    458.350 \n"
       ]
      },
      {
       "output_type": "stream",
       "stream": "stdout",
       "text": [
        "        3/50 after      0 sec. | K    8 | ev -5.152883436e-01 | Ndiff    259.232 \n"
       ]
      },
      {
       "output_type": "stream",
       "stream": "stdout",
       "text": [
        "        4/50 after      0 sec. | K    8 | ev -4.081697781e-01 | Ndiff    493.016 \n"
       ]
      },
      {
       "output_type": "stream",
       "stream": "stdout",
       "text": [
        "        5/50 after      0 sec. | K    8 | ev -3.759582354e-01 | Ndiff    191.074 \n"
       ]
      },
      {
       "output_type": "stream",
       "stream": "stdout",
       "text": [
        "        6/50 after      0 sec. | K    8 | ev -3.389176850e-01 | Ndiff    365.129 \n"
       ]
      },
      {
       "output_type": "stream",
       "stream": "stdout",
       "text": [
        "        7/50 after      0 sec. | K    8 | ev -2.720100264e-01 | Ndiff    401.687 \n"
       ]
      },
      {
       "output_type": "stream",
       "stream": "stdout",
       "text": [
        "        8/50 after      0 sec. | K    8 | ev -2.047474663e-01 | Ndiff    140.751 \n"
       ]
      },
      {
       "output_type": "stream",
       "stream": "stdout",
       "text": [
        "        9/50 after      0 sec. | K    8 | ev -1.433408403e-01 | Ndiff      8.205 \n"
       ]
      },
      {
       "output_type": "stream",
       "stream": "stdout",
       "text": [
        "       10/50 after      0 sec. | K    8 | ev -1.429482997e-01 | Ndiff      0.206 \n"
       ]
      },
      {
       "output_type": "stream",
       "stream": "stdout",
       "text": [
        "       11/50 after      0 sec. | K    8 | ev -1.429425955e-01 | Ndiff      0.165 \n"
       ]
      },
      {
       "output_type": "stream",
       "stream": "stdout",
       "text": [
        "       12/50 after      0 sec. | K    8 | ev -1.429384677e-01 | Ndiff      0.123 \n"
       ]
      },
      {
       "output_type": "stream",
       "stream": "stdout",
       "text": [
        "       13/50 after      1 sec. | K    8 | ev -1.429353243e-01 | Ndiff      0.088 \n"
       ]
      },
      {
       "output_type": "stream",
       "stream": "stdout",
       "text": [
        "       14/50 after      1 sec. | K    8 | ev -1.429328390e-01 | Ndiff      0.058 \n"
       ]
      },
      {
       "output_type": "stream",
       "stream": "stdout",
       "text": [
        "       15/50 after      1 sec. | K    8 | ev -1.429308159e-01 | Ndiff      0.032 \n"
       ]
      },
      {
       "output_type": "stream",
       "stream": "stdout",
       "text": [
        "... done. converged.\n"
       ]
      },
      {
       "output_type": "stream",
       "stream": "stdout",
       "text": [
        "Asterisk Toy Data. 8 true clusters.\n"
       ]
      },
      {
       "output_type": "stream",
       "stream": "stdout",
       "text": [
        "  size: 25000 units (single observations)\n",
        "  dimension: 2\n"
       ]
      },
      {
       "output_type": "stream",
       "stream": "stdout",
       "text": [
        "Allocation Model:  Finite mixture with K=8. Dir prior param 1.00\n",
        "Obs. Data  Model:  Gaussian with full covariance.\n",
        "Obs. Data  Prior:  Gauss-Wishart on each mean/prec matrix pair: mu, Lam\n",
        "  E[ mu[k] ]     = [ 0.  0.]\n",
        "  E[ CovMat[k] ] = \n",
        "  [[ 1.  0.]\n",
        "   [ 0.  1.]]\n"
       ]
      },
      {
       "output_type": "stream",
       "stream": "stdout",
       "text": [
        "Learn Alg: EM\n"
       ]
      },
      {
       "output_type": "stream",
       "stream": "stdout",
       "text": [
        "Trial  1/25 | alg. seed: 8102528 | data order seed: 8541952\n"
       ]
      },
      {
       "output_type": "stream",
       "stream": "stdout",
       "text": [
        "savepath: /Users/Jens/Dropbox/dev/research/ML/out/AsteriskK8/initbydist/1\n"
       ]
      },
      {
       "output_type": "stream",
       "stream": "stdout",
       "text": [
        "        1/50 after      0 sec. | K    8 | ev -3.966926980e+06 |  \n"
       ]
      },
      {
       "output_type": "stream",
       "stream": "stdout",
       "text": [
        "        2/50 after      0 sec. | K    8 | ev -4.525562011e-01 | Ndiff    651.679 \n"
       ]
      },
      {
       "output_type": "stream",
       "stream": "stdout",
       "text": [
        "        3/50 after      0 sec. | K    8 | ev -3.991907166e-01 | Ndiff    254.690 \n"
       ]
      },
      {
       "output_type": "stream",
       "stream": "stdout",
       "text": [
        "        4/50 after      0 sec. | K    8 | ev -3.780359827e-01 | Ndiff    210.966 \n"
       ]
      },
      {
       "output_type": "stream",
       "stream": "stdout",
       "text": [
        "        5/50 after      0 sec. | K    8 | ev -3.512687887e-01 | Ndiff     65.925 \n"
       ]
      },
      {
       "output_type": "stream",
       "stream": "stdout",
       "text": [
        "        6/50 after      0 sec. | K    8 | ev -2.742906267e-01 | Ndiff    428.414 \n"
       ]
      },
      {
       "output_type": "stream",
       "stream": "stdout",
       "text": [
        "        7/50 after      0 sec. | K    8 | ev -2.381968106e-01 | Ndiff    360.936 \n"
       ]
      },
      {
       "output_type": "stream",
       "stream": "stdout",
       "text": [
        "        8/50 after      0 sec. | K    8 | ev -2.330932538e-01 | Ndiff    273.725 \n"
       ]
      },
      {
       "output_type": "stream",
       "stream": "stdout",
       "text": [
        "        9/50 after      0 sec. | K    8 | ev -2.251405592e-01 | Ndiff    231.483 \n"
       ]
      },
      {
       "output_type": "stream",
       "stream": "stdout",
       "text": [
        "       10/50 after      0 sec. | K    8 | ev -2.095551088e-01 | Ndiff    179.758 \n"
       ]
      },
      {
       "output_type": "stream",
       "stream": "stdout",
       "text": [
        "       11/50 after      0 sec. | K    8 | ev -1.817626096e-01 | Ndiff    100.077 \n"
       ]
      },
      {
       "output_type": "stream",
       "stream": "stdout",
       "text": [
        "       12/50 after      0 sec. | K    8 | ev -1.462765988e-01 | Ndiff     17.106 \n"
       ]
      },
      {
       "output_type": "stream",
       "stream": "stdout",
       "text": [
        "       13/50 after      0 sec. | K    8 | ev -1.430174057e-01 | Ndiff      3.259 \n"
       ]
      },
      {
       "output_type": "stream",
       "stream": "stdout",
       "text": [
        "       14/50 after      1 sec. | K    8 | ev -1.430064949e-01 | Ndiff      2.979 \n"
       ]
      },
      {
       "output_type": "stream",
       "stream": "stdout",
       "text": [
        "       15/50 after      1 sec. | K    8 | ev -1.429979581e-01 | Ndiff      2.734 \n"
       ]
      },
      {
       "output_type": "stream",
       "stream": "stdout",
       "text": [
        "       16/50 after      1 sec. | K    8 | ev -1.429906964e-01 | Ndiff      2.522 \n"
       ]
      },
      {
       "output_type": "stream",
       "stream": "stdout",
       "text": [
        "       17/50 after      1 sec. | K    8 | ev -1.429844575e-01 | Ndiff      2.335 \n"
       ]
      },
      {
       "output_type": "stream",
       "stream": "stdout",
       "text": [
        "       18/50 after      1 sec. | K    8 | ev -1.429790510e-01 | Ndiff      2.171 \n"
       ]
      },
      {
       "output_type": "stream",
       "stream": "stdout",
       "text": [
        "       19/50 after      1 sec. | K    8 | ev -1.429743300e-01 | Ndiff      2.025 \n"
       ]
      },
      {
       "output_type": "stream",
       "stream": "stdout",
       "text": [
        "       20/50 after      1 sec. | K    8 | ev -1.429701798e-01 | Ndiff      1.894 \n"
       ]
      },
      {
       "output_type": "stream",
       "stream": "stdout",
       "text": [
        "       21/50 after      1 sec. | K    8 | ev -1.429665092e-01 | Ndiff      1.777 \n"
       ]
      },
      {
       "output_type": "stream",
       "stream": "stdout",
       "text": [
        "       22/50 after      1 sec. | K    8 | ev -1.429632448e-01 | Ndiff      1.672 \n"
       ]
      },
      {
       "output_type": "stream",
       "stream": "stdout",
       "text": [
        "       23/50 after      1 sec. | K    8 | ev -1.429603273e-01 | Ndiff      1.576 \n"
       ]
      },
      {
       "output_type": "stream",
       "stream": "stdout",
       "text": [
        "       24/50 after      1 sec. | K    8 | ev -1.429577080e-01 | Ndiff      1.489 \n"
       ]
      },
      {
       "output_type": "stream",
       "stream": "stdout",
       "text": [
        "       25/50 after      1 sec. | K    8 | ev -1.429553465e-01 | Ndiff      1.410 \n"
       ]
      },
      {
       "output_type": "stream",
       "stream": "stdout",
       "text": [
        "       26/50 after      1 sec. | K    8 | ev -1.429532092e-01 | Ndiff      1.338 \n"
       ]
      },
      {
       "output_type": "stream",
       "stream": "stdout",
       "text": [
        "       27/50 after      1 sec. | K    8 | ev -1.429512680e-01 | Ndiff      1.271 \n"
       ]
      },
      {
       "output_type": "stream",
       "stream": "stdout",
       "text": [
        "       28/50 after      1 sec. | K    8 | ev -1.429494992e-01 | Ndiff      1.210 \n"
       ]
      },
      {
       "output_type": "stream",
       "stream": "stdout",
       "text": [
        "       29/50 after      1 sec. | K    8 | ev -1.429478824e-01 | Ndiff      1.153 \n"
       ]
      },
      {
       "output_type": "stream",
       "stream": "stdout",
       "text": [
        "       30/50 after      1 sec. | K    8 | ev -1.429464004e-01 | Ndiff      1.101 \n"
       ]
      },
      {
       "output_type": "stream",
       "stream": "stdout",
       "text": [
        "       31/50 after      1 sec. | K    8 | ev -1.429450383e-01 | Ndiff      1.052 \n"
       ]
      },
      {
       "output_type": "stream",
       "stream": "stdout",
       "text": [
        "       32/50 after      1 sec. | K    8 | ev -1.429437834e-01 | Ndiff      1.007 \n"
       ]
      },
      {
       "output_type": "stream",
       "stream": "stdout",
       "text": [
        "       33/50 after      1 sec. | K    8 | ev -1.429426244e-01 | Ndiff      0.965 \n"
       ]
      },
      {
       "output_type": "stream",
       "stream": "stdout",
       "text": [
        "       34/50 after      1 sec. | K    8 | ev -1.429415518e-01 | Ndiff      0.926 \n"
       ]
      },
      {
       "output_type": "stream",
       "stream": "stdout",
       "text": [
        "       35/50 after      1 sec. | K    8 | ev -1.429405570e-01 | Ndiff      0.889 \n"
       ]
      },
      {
       "output_type": "stream",
       "stream": "stdout",
       "text": [
        "       36/50 after      1 sec. | K    8 | ev -1.429396325e-01 | Ndiff      0.855 \n"
       ]
      },
      {
       "output_type": "stream",
       "stream": "stdout",
       "text": [
        "       37/50 after      1 sec. | K    8 | ev -1.429387719e-01 | Ndiff      0.822 \n"
       ]
      },
      {
       "output_type": "stream",
       "stream": "stdout",
       "text": [
        "       38/50 after      1 sec. | K    8 | ev -1.429379692e-01 | Ndiff      0.792 \n"
       ]
      },
      {
       "output_type": "stream",
       "stream": "stdout",
       "text": [
        "       39/50 after      1 sec. | K    8 | ev -1.429372195e-01 | Ndiff      0.763 \n"
       ]
      },
      {
       "output_type": "stream",
       "stream": "stdout",
       "text": [
        "       40/50 after      1 sec. | K    8 | ev -1.429365180e-01 | Ndiff      0.737 \n"
       ]
      },
      {
       "output_type": "stream",
       "stream": "stdout",
       "text": [
        "       41/50 after      1 sec. | K    8 | ev -1.429358607e-01 | Ndiff      0.711 \n"
       ]
      },
      {
       "output_type": "stream",
       "stream": "stdout",
       "text": [
        "       42/50 after      1 sec. | K    8 | ev -1.429352439e-01 | Ndiff      0.687 \n"
       ]
      },
      {
       "output_type": "stream",
       "stream": "stdout",
       "text": [
        "       43/50 after      2 sec. | K    8 | ev -1.429346644e-01 | Ndiff      0.665 \n"
       ]
      },
      {
       "output_type": "stream",
       "stream": "stdout",
       "text": [
        "       44/50 after      2 sec. | K    8 | ev -1.429341192e-01 | Ndiff      0.643 \n"
       ]
      },
      {
       "output_type": "stream",
       "stream": "stdout",
       "text": [
        "       45/50 after      2 sec. | K    8 | ev -1.429336056e-01 | Ndiff      0.623 \n"
       ]
      },
      {
       "output_type": "stream",
       "stream": "stdout",
       "text": [
        "       46/50 after      2 sec. | K    8 | ev -1.429331212e-01 | Ndiff      0.603 \n"
       ]
      },
      {
       "output_type": "stream",
       "stream": "stdout",
       "text": [
        "       47/50 after      2 sec. | K    8 | ev -1.429326638e-01 | Ndiff      0.585 \n"
       ]
      },
      {
       "output_type": "stream",
       "stream": "stdout",
       "text": [
        "       48/50 after      2 sec. | K    8 | ev -1.429322315e-01 | Ndiff      0.567 \n"
       ]
      },
      {
       "output_type": "stream",
       "stream": "stdout",
       "text": [
        "       49/50 after      2 sec. | K    8 | ev -1.429318225e-01 | Ndiff      0.551 \n"
       ]
      },
      {
       "output_type": "stream",
       "stream": "stdout",
       "text": [
        "       50/50 after      2 sec. | K    8 | ev -1.429314351e-01 | Ndiff      0.535 \n"
       ]
      },
      {
       "output_type": "stream",
       "stream": "stdout",
       "text": [
        "... done. not converged. max laps thru data exceeded.\n"
       ]
      },
      {
       "output_type": "stream",
       "stream": "stdout",
       "text": [
        "Trial  2/25 | alg. seed: 9884800 | data order seed: 7673856\n"
       ]
      },
      {
       "output_type": "stream",
       "stream": "stdout",
       "text": [
        "savepath: /Users/Jens/Dropbox/dev/research/ML/out/AsteriskK8/initbydist/2\n"
       ]
      },
      {
       "output_type": "stream",
       "stream": "stdout",
       "text": [
        "        1/50 after      0 sec. | K    8 | ev -2.791015958e+06 |  \n"
       ]
      },
      {
       "output_type": "stream",
       "stream": "stdout",
       "text": [
        "        2/50 after      0 sec. | K    8 | ev -2.105530657e-01 | Ndiff    900.391 \n"
       ]
      },
      {
       "output_type": "stream",
       "stream": "stdout",
       "text": [
        "        3/50 after      0 sec. | K    8 | ev -1.499622919e-02 | Ndiff    362.950 \n"
       ]
      },
      {
       "output_type": "stream",
       "stream": "stdout",
       "text": [
        "        4/50 after      0 sec. | K    8 | ev  8.200100079e-02 | Ndiff     84.587 \n"
       ]
      },
      {
       "output_type": "stream",
       "stream": "stdout",
       "text": [
        "        5/50 after      0 sec. | K    8 | ev  1.083367350e-01 | Ndiff      3.009 \n"
       ]
      },
      {
       "output_type": "stream",
       "stream": "stdout",
       "text": [
        "        6/50 after      0 sec. | K    8 | ev  1.084158114e-01 | Ndiff      0.007 \n"
       ]
      },
      {
       "output_type": "stream",
       "stream": "stdout",
       "text": [
        "... done. converged.\n"
       ]
      },
      {
       "output_type": "stream",
       "stream": "stdout",
       "text": [
        "Trial  3/25 | alg. seed: 1838080 | data order seed: 7360256\n"
       ]
      },
      {
       "output_type": "stream",
       "stream": "stdout",
       "text": [
        "savepath: /Users/Jens/Dropbox/dev/research/ML/out/AsteriskK8/initbydist/3\n"
       ]
      },
      {
       "output_type": "stream",
       "stream": "stdout",
       "text": [
        "        1/50 after      0 sec. | K    8 | ev -4.948104190e+06 |  \n"
       ]
      },
      {
       "output_type": "stream",
       "stream": "stdout",
       "text": [
        "        2/50 after      0 sec. | K    8 | ev -5.127588264e-01 | Ndiff    205.305 \n"
       ]
      },
      {
       "output_type": "stream",
       "stream": "stdout",
       "text": [
        "        3/50 after      0 sec. | K    8 | ev -3.257826813e-01 | Ndiff    451.799 \n"
       ]
      },
      {
       "output_type": "stream",
       "stream": "stdout",
       "text": [
        "        4/50 after      0 sec. | K    8 | ev -2.532536835e-01 | Ndiff    710.195 \n"
       ]
      },
      {
       "output_type": "stream",
       "stream": "stdout",
       "text": [
        "        5/50 after      0 sec. | K    8 | ev -9.586749040e-02 | Ndiff    908.278 \n"
       ]
      },
      {
       "output_type": "stream",
       "stream": "stdout",
       "text": [
        "        6/50 after      0 sec. | K    8 | ev -5.338792221e-03 | Ndiff    829.905 \n"
       ]
      },
      {
       "output_type": "stream",
       "stream": "stdout",
       "text": [
        "        7/50 after      0 sec. | K    8 | ev  2.588989371e-02 | Ndiff    509.135 \n"
       ]
      },
      {
       "output_type": "stream",
       "stream": "stdout",
       "text": [
        "        8/50 after      0 sec. | K    8 | ev  5.146242319e-02 | Ndiff    228.909 \n"
       ]
      },
      {
       "output_type": "stream",
       "stream": "stdout",
       "text": [
        "        9/50 after      0 sec. | K    8 | ev  8.618230222e-02 | Ndiff     61.727 \n"
       ]
      },
      {
       "output_type": "stream",
       "stream": "stdout",
       "text": [
        "       10/50 after      0 sec. | K    8 | ev  1.083884936e-01 | Ndiff      2.356 \n"
       ]
      },
      {
       "output_type": "stream",
       "stream": "stdout",
       "text": [
        "       11/50 after      0 sec. | K    8 | ev  1.084158111e-01 | Ndiff      0.020 \n"
       ]
      },
      {
       "output_type": "stream",
       "stream": "stdout",
       "text": [
        "... done. converged.\n"
       ]
      },
      {
       "output_type": "stream",
       "stream": "stdout",
       "text": [
        "Trial  4/25 | alg. seed: 5276160 | data order seed: 900864\n"
       ]
      },
      {
       "output_type": "stream",
       "stream": "stdout",
       "text": [
        "savepath: /Users/Jens/Dropbox/dev/research/ML/out/AsteriskK8/initbydist/4\n"
       ]
      },
      {
       "output_type": "stream",
       "stream": "stdout",
       "text": [
        "        1/50 after      0 sec. | K    8 | ev -4.338249689e+06 |  \n"
       ]
      },
      {
       "output_type": "stream",
       "stream": "stdout",
       "text": [
        "        2/50 after      0 sec. | K    8 | ev -2.781919047e-01 | Ndiff    481.525 \n"
       ]
      },
      {
       "output_type": "stream",
       "stream": "stdout",
       "text": [
        "        3/50 after      0 sec. | K    8 | ev -2.337997472e-01 | Ndiff    350.312 \n"
       ]
      },
      {
       "output_type": "stream",
       "stream": "stdout",
       "text": [
        "        4/50 after      0 sec. | K    8 | ev -2.252287804e-01 | Ndiff    213.050 \n"
       ]
      },
      {
       "output_type": "stream",
       "stream": "stdout",
       "text": [
        "        5/50 after      0 sec. | K    8 | ev -2.204633155e-01 | Ndiff    151.869 \n"
       ]
      },
      {
       "output_type": "stream",
       "stream": "stdout",
       "text": [
        "        6/50 after      0 sec. | K    8 | ev -2.177549876e-01 | Ndiff    135.039 \n"
       ]
      },
      {
       "output_type": "stream",
       "stream": "stdout",
       "text": [
        "        7/50 after      0 sec. | K    8 | ev -2.164290324e-01 | Ndiff    125.517 \n"
       ]
      },
      {
       "output_type": "stream",
       "stream": "stdout",
       "text": [
        "        8/50 after      0 sec. | K    8 | ev -2.152711081e-01 | Ndiff    122.211 \n"
       ]
      },
      {
       "output_type": "stream",
       "stream": "stdout",
       "text": [
        "        9/50 after      0 sec. | K    8 | ev -2.140728783e-01 | Ndiff    123.193 \n"
       ]
      },
      {
       "output_type": "stream",
       "stream": "stdout",
       "text": [
        "       10/50 after      0 sec. | K    8 | ev -2.127949653e-01 | Ndiff    127.535 \n"
       ]
      },
      {
       "output_type": "stream",
       "stream": "stdout",
       "text": [
        "       11/50 after      0 sec. | K    8 | ev -2.114047184e-01 | Ndiff    134.293 \n"
       ]
      },
      {
       "output_type": "stream",
       "stream": "stdout",
       "text": [
        "       12/50 after      0 sec. | K    8 | ev -2.098199930e-01 | Ndiff    142.777 \n"
       ]
      },
      {
       "output_type": "stream",
       "stream": "stdout",
       "text": [
        "       13/50 after      0 sec. | K    8 | ev -2.078616153e-01 | Ndiff    152.344 \n"
       ]
      },
      {
       "output_type": "stream",
       "stream": "stdout",
       "text": [
        "       14/50 after      0 sec. | K    8 | ev -2.051834078e-01 | Ndiff    161.994 \n"
       ]
      },
      {
       "output_type": "stream",
       "stream": "stdout",
       "text": [
        "       15/50 after      1 sec. | K    8 | ev -2.010883937e-01 | Ndiff    169.131 \n"
       ]
      },
      {
       "output_type": "stream",
       "stream": "stdout",
       "text": [
        "       16/50 after      1 sec. | K    8 | ev -1.939789894e-01 | Ndiff    165.620 \n"
       ]
      },
      {
       "output_type": "stream",
       "stream": "stdout",
       "text": [
        "       17/50 after      1 sec. | K    8 | ev -1.798530912e-01 | Ndiff    127.223 \n"
       ]
      },
      {
       "output_type": "stream",
       "stream": "stdout",
       "text": [
        "       18/50 after      1 sec. | K    8 | ev -1.531398125e-01 | Ndiff     45.632 \n"
       ]
      },
      {
       "output_type": "stream",
       "stream": "stdout",
       "text": [
        "       19/50 after      1 sec. | K    8 | ev -1.402158579e-01 | Ndiff      7.104 \n"
       ]
      },
      {
       "output_type": "stream",
       "stream": "stdout",
       "text": [
        "       20/50 after      1 sec. | K    8 | ev -1.401616443e-01 | Ndiff      1.596 \n"
       ]
      },
      {
       "output_type": "stream",
       "stream": "stdout",
       "text": [
        "       21/50 after      1 sec. | K    8 | ev -1.401610594e-01 | Ndiff      0.232 \n"
       ]
      },
      {
       "output_type": "stream",
       "stream": "stdout",
       "text": [
        "       22/50 after      1 sec. | K    8 | ev -1.401610096e-01 | Ndiff      0.175 \n"
       ]
      },
      {
       "output_type": "stream",
       "stream": "stdout",
       "text": [
        "       23/50 after      1 sec. | K    8 | ev -1.401609820e-01 | Ndiff      0.163 \n"
       ]
      },
      {
       "output_type": "stream",
       "stream": "stdout",
       "text": [
        "       24/50 after      1 sec. | K    8 | ev -1.401609629e-01 | Ndiff      0.155 \n"
       ]
      },
      {
       "output_type": "stream",
       "stream": "stdout",
       "text": [
        "       25/50 after      1 sec. | K    8 | ev -1.401609488e-01 | Ndiff      0.148 \n"
       ]
      },
      {
       "output_type": "stream",
       "stream": "stdout",
       "text": [
        "       26/50 after      1 sec. | K    8 | ev -1.401609379e-01 | Ndiff      0.143 \n"
       ]
      },
      {
       "output_type": "stream",
       "stream": "stdout",
       "text": [
        "       27/50 after      1 sec. | K    8 | ev -1.401609289e-01 | Ndiff      0.138 \n"
       ]
      },
      {
       "output_type": "stream",
       "stream": "stdout",
       "text": [
        "       28/50 after      1 sec. | K    8 | ev -1.401609213e-01 | Ndiff      0.134 \n"
       ]
      },
      {
       "output_type": "stream",
       "stream": "stdout",
       "text": [
        "       29/50 after      1 sec. | K    8 | ev -1.401609145e-01 | Ndiff      0.131 \n"
       ]
      },
      {
       "output_type": "stream",
       "stream": "stdout",
       "text": [
        "       30/50 after      1 sec. | K    8 | ev -1.401609085e-01 | Ndiff      0.128 \n"
       ]
      },
      {
       "output_type": "stream",
       "stream": "stdout",
       "text": [
        "       31/50 after      1 sec. | K    8 | ev -1.401609029e-01 | Ndiff      0.125 \n"
       ]
      },
      {
       "output_type": "stream",
       "stream": "stdout",
       "text": [
        "       32/50 after      1 sec. | K    8 | ev -1.401608976e-01 | Ndiff      0.123 \n"
       ]
      },
      {
       "output_type": "stream",
       "stream": "stdout",
       "text": [
        "       33/50 after      1 sec. | K    8 | ev -1.401608928e-01 | Ndiff      0.121 \n"
       ]
      },
      {
       "output_type": "stream",
       "stream": "stdout",
       "text": [
        "       34/50 after      1 sec. | K    8 | ev -1.401608882e-01 | Ndiff      0.119 \n"
       ]
      },
      {
       "output_type": "stream",
       "stream": "stdout",
       "text": [
        "       35/50 after      1 sec. | K    8 | ev -1.401608838e-01 | Ndiff      0.117 \n"
       ]
      },
      {
       "output_type": "stream",
       "stream": "stdout",
       "text": [
        "       36/50 after      1 sec. | K    8 | ev -1.401608797e-01 | Ndiff      0.116 \n"
       ]
      },
      {
       "output_type": "stream",
       "stream": "stdout",
       "text": [
        "       37/50 after      1 sec. | K    8 | ev -1.401608757e-01 | Ndiff      0.114 \n"
       ]
      },
      {
       "output_type": "stream",
       "stream": "stdout",
       "text": [
        "       38/50 after      1 sec. | K    8 | ev -1.401608719e-01 | Ndiff      0.113 \n"
       ]
      },
      {
       "output_type": "stream",
       "stream": "stdout",
       "text": [
        "       39/50 after      1 sec. | K    8 | ev -1.401608684e-01 | Ndiff      0.112 \n"
       ]
      },
      {
       "output_type": "stream",
       "stream": "stdout",
       "text": [
        "       40/50 after      1 sec. | K    8 | ev -1.401608649e-01 | Ndiff      0.111 \n"
       ]
      },
      {
       "output_type": "stream",
       "stream": "stdout",
       "text": [
        "       41/50 after      1 sec. | K    8 | ev -1.401608616e-01 | Ndiff      0.110 \n"
       ]
      },
      {
       "output_type": "stream",
       "stream": "stdout",
       "text": [
        "       42/50 after      2 sec. | K    8 | ev -1.401608585e-01 | Ndiff      0.109 \n"
       ]
      },
      {
       "output_type": "stream",
       "stream": "stdout",
       "text": [
        "       43/50 after      2 sec. | K    8 | ev -1.401608554e-01 | Ndiff      0.108 \n"
       ]
      },
      {
       "output_type": "stream",
       "stream": "stdout",
       "text": [
        "       44/50 after      2 sec. | K    8 | ev -1.401608525e-01 | Ndiff      0.107 \n"
       ]
      },
      {
       "output_type": "stream",
       "stream": "stdout",
       "text": [
        "       45/50 after      2 sec. | K    8 | ev -1.401608497e-01 | Ndiff      0.106 \n"
       ]
      },
      {
       "output_type": "stream",
       "stream": "stdout",
       "text": [
        "       46/50 after      2 sec. | K    8 | ev -1.401608470e-01 | Ndiff      0.105 \n"
       ]
      },
      {
       "output_type": "stream",
       "stream": "stdout",
       "text": [
        "       47/50 after      2 sec. | K    8 | ev -1.401608444e-01 | Ndiff      0.104 \n"
       ]
      },
      {
       "output_type": "stream",
       "stream": "stdout",
       "text": [
        "       48/50 after      2 sec. | K    8 | ev -1.401608418e-01 | Ndiff      0.104 \n"
       ]
      },
      {
       "output_type": "stream",
       "stream": "stdout",
       "text": [
        "       49/50 after      2 sec. | K    8 | ev -1.401608394e-01 | Ndiff      0.103 \n"
       ]
      },
      {
       "output_type": "stream",
       "stream": "stdout",
       "text": [
        "       50/50 after      2 sec. | K    8 | ev -1.401608370e-01 | Ndiff      0.102 \n"
       ]
      },
      {
       "output_type": "stream",
       "stream": "stdout",
       "text": [
        "... done. not converged. max laps thru data exceeded.\n"
       ]
      },
      {
       "output_type": "stream",
       "stream": "stdout",
       "text": [
        "Trial  5/25 | alg. seed: 3956480 | data order seed: 6479872\n"
       ]
      },
      {
       "output_type": "stream",
       "stream": "stdout",
       "text": [
        "savepath: /Users/Jens/Dropbox/dev/research/ML/out/AsteriskK8/initbydist/5\n"
       ]
      },
      {
       "output_type": "stream",
       "stream": "stdout",
       "text": [
        "        1/50 after      0 sec. | K    8 | ev -4.010633952e+06 |  \n"
       ]
      },
      {
       "output_type": "stream",
       "stream": "stdout",
       "text": [
        "        2/50 after      0 sec. | K    8 | ev -3.976216896e-01 | Ndiff    275.138 \n"
       ]
      },
      {
       "output_type": "stream",
       "stream": "stdout",
       "text": [
        "        3/50 after      0 sec. | K    8 | ev -3.301568640e-01 | Ndiff    688.639 \n"
       ]
      },
      {
       "output_type": "stream",
       "stream": "stdout",
       "text": [
        "        4/50 after      0 sec. | K    8 | ev -2.927519515e-01 | Ndiff    888.594 \n"
       ]
      },
      {
       "output_type": "stream",
       "stream": "stdout",
       "text": [
        "        5/50 after      0 sec. | K    8 | ev -2.541365296e-01 | Ndiff    790.634 \n"
       ]
      },
      {
       "output_type": "stream",
       "stream": "stdout",
       "text": [
        "        6/50 after      0 sec. | K    8 | ev -2.247478059e-01 | Ndiff    471.211 \n"
       ]
      },
      {
       "output_type": "stream",
       "stream": "stdout",
       "text": [
        "        7/50 after      0 sec. | K    8 | ev -1.994327938e-01 | Ndiff    209.058 \n"
       ]
      },
      {
       "output_type": "stream",
       "stream": "stdout",
       "text": [
        "        8/50 after      0 sec. | K    8 | ev -1.627021260e-01 | Ndiff     54.147 \n"
       ]
      },
      {
       "output_type": "stream",
       "stream": "stdout",
       "text": [
        "        9/50 after      0 sec. | K    8 | ev -1.414822213e-01 | Ndiff      4.368 \n"
       ]
      },
      {
       "output_type": "stream",
       "stream": "stdout",
       "text": [
        "       10/50 after      0 sec. | K    8 | ev -1.413434585e-01 | Ndiff      1.072 \n"
       ]
      },
      {
       "output_type": "stream",
       "stream": "stdout",
       "text": [
        "       11/50 after      0 sec. | K    8 | ev -1.413320046e-01 | Ndiff      1.008 \n"
       ]
      },
      {
       "output_type": "stream",
       "stream": "stdout",
       "text": [
        "       12/50 after      0 sec. | K    8 | ev -1.413235262e-01 | Ndiff      0.913 \n"
       ]
      },
      {
       "output_type": "stream",
       "stream": "stdout",
       "text": [
        "       13/50 after      0 sec. | K    8 | ev -1.413169366e-01 | Ndiff      0.824 \n"
       ]
      },
      {
       "output_type": "stream",
       "stream": "stdout",
       "text": [
        "       14/50 after      0 sec. | K    8 | ev -1.413116994e-01 | Ndiff      0.747 \n"
       ]
      },
      {
       "output_type": "stream",
       "stream": "stdout",
       "text": [
        "       15/50 after      0 sec. | K    8 | ev -1.413074593e-01 | Ndiff      0.681 \n"
       ]
      },
      {
       "output_type": "stream",
       "stream": "stdout",
       "text": [
        "       16/50 after      1 sec. | K    8 | ev -1.413039711e-01 | Ndiff      0.623 \n"
       ]
      },
      {
       "output_type": "stream",
       "stream": "stdout",
       "text": [
        "       17/50 after      1 sec. | K    8 | ev -1.413010610e-01 | Ndiff      0.573 \n"
       ]
      },
      {
       "output_type": "stream",
       "stream": "stdout",
       "text": [
        "       18/50 after      1 sec. | K    8 | ev -1.412986024e-01 | Ndiff      0.529 \n"
       ]
      },
      {
       "output_type": "stream",
       "stream": "stdout",
       "text": [
        "       19/50 after      1 sec. | K    8 | ev -1.412965014e-01 | Ndiff      0.490 \n"
       ]
      },
      {
       "output_type": "stream",
       "stream": "stdout",
       "text": [
        "       20/50 after      1 sec. | K    8 | ev -1.412946868e-01 | Ndiff      0.454 \n"
       ]
      },
      {
       "output_type": "stream",
       "stream": "stdout",
       "text": [
        "       21/50 after      1 sec. | K    8 | ev -1.412931044e-01 | Ndiff      0.422 \n"
       ]
      },
      {
       "output_type": "stream",
       "stream": "stdout",
       "text": [
        "       22/50 after      1 sec. | K    8 | ev -1.412917115e-01 | Ndiff      0.393 \n"
       ]
      },
      {
       "output_type": "stream",
       "stream": "stdout",
       "text": [
        "       23/50 after      1 sec. | K    8 | ev -1.412904748e-01 | Ndiff      0.366 \n"
       ]
      },
      {
       "output_type": "stream",
       "stream": "stdout",
       "text": [
        "       24/50 after      1 sec. | K    8 | ev -1.412893675e-01 | Ndiff      0.342 \n"
       ]
      },
      {
       "output_type": "stream",
       "stream": "stdout",
       "text": [
        "       25/50 after      1 sec. | K    8 | ev -1.412883682e-01 | Ndiff      0.319 \n"
       ]
      },
      {
       "output_type": "stream",
       "stream": "stdout",
       "text": [
        "       26/50 after      1 sec. | K    8 | ev -1.412874594e-01 | Ndiff      0.297 \n"
       ]
      },
      {
       "output_type": "stream",
       "stream": "stdout",
       "text": [
        "       27/50 after      1 sec. | K    8 | ev -1.412866266e-01 | Ndiff      0.277 \n"
       ]
      },
      {
       "output_type": "stream",
       "stream": "stdout",
       "text": [
        "       28/50 after      1 sec. | K    8 | ev -1.412858582e-01 | Ndiff      0.258 \n"
       ]
      },
      {
       "output_type": "stream",
       "stream": "stdout",
       "text": [
        "       29/50 after      1 sec. | K    8 | ev -1.412851441e-01 | Ndiff      0.241 \n"
       ]
      },
      {
       "output_type": "stream",
       "stream": "stdout",
       "text": [
        "       30/50 after      1 sec. | K    8 | ev -1.412844762e-01 | Ndiff      0.224 \n"
       ]
      },
      {
       "output_type": "stream",
       "stream": "stdout",
       "text": [
        "       31/50 after      1 sec. | K    8 | ev -1.412838475e-01 | Ndiff      0.207 \n"
       ]
      },
      {
       "output_type": "stream",
       "stream": "stdout",
       "text": [
        "       32/50 after      1 sec. | K    8 | ev -1.412832520e-01 | Ndiff      0.192 \n"
       ]
      },
      {
       "output_type": "stream",
       "stream": "stdout",
       "text": [
        "       33/50 after      1 sec. | K    8 | ev -1.412826848e-01 | Ndiff      0.177 \n"
       ]
      },
      {
       "output_type": "stream",
       "stream": "stdout",
       "text": [
        "       34/50 after      1 sec. | K    8 | ev -1.412821415e-01 | Ndiff      0.163 \n"
       ]
      },
      {
       "output_type": "stream",
       "stream": "stdout",
       "text": [
        "       35/50 after      1 sec. | K    8 | ev -1.412816186e-01 | Ndiff      0.149 \n"
       ]
      },
      {
       "output_type": "stream",
       "stream": "stdout",
       "text": [
        "       36/50 after      1 sec. | K    8 | ev -1.412811127e-01 | Ndiff      0.136 \n"
       ]
      },
      {
       "output_type": "stream",
       "stream": "stdout",
       "text": [
        "       37/50 after      1 sec. | K    8 | ev -1.412806212e-01 | Ndiff      0.123 \n"
       ]
      },
      {
       "output_type": "stream",
       "stream": "stdout",
       "text": [
        "       38/50 after      1 sec. | K    8 | ev -1.412801417e-01 | Ndiff      0.111 \n"
       ]
      },
      {
       "output_type": "stream",
       "stream": "stdout",
       "text": [
        "       39/50 after      1 sec. | K    8 | ev -1.412796723e-01 | Ndiff      0.099 \n"
       ]
      },
      {
       "output_type": "stream",
       "stream": "stdout",
       "text": [
        "       40/50 after      1 sec. | K    8 | ev -1.412792111e-01 | Ndiff      0.088 \n"
       ]
      },
      {
       "output_type": "stream",
       "stream": "stdout",
       "text": [
        "       41/50 after      1 sec. | K    8 | ev -1.412787566e-01 | Ndiff      0.076 \n"
       ]
      },
      {
       "output_type": "stream",
       "stream": "stdout",
       "text": [
        "       42/50 after      1 sec. | K    8 | ev -1.412783075e-01 | Ndiff      0.066 \n"
       ]
      },
      {
       "output_type": "stream",
       "stream": "stdout",
       "text": [
        "       43/50 after      2 sec. | K    8 | ev -1.412778628e-01 | Ndiff      0.055 \n"
       ]
      },
      {
       "output_type": "stream",
       "stream": "stdout",
       "text": [
        "       44/50 after      2 sec. | K    8 | ev -1.412774215e-01 | Ndiff      0.045 \n"
       ]
      },
      {
       "output_type": "stream",
       "stream": "stdout",
       "text": [
        "... done. converged.\n"
       ]
      },
      {
       "output_type": "stream",
       "stream": "stdout",
       "text": [
        "Trial  6/25 | alg. seed: 1652864 | data order seed: 9149952\n"
       ]
      },
      {
       "output_type": "stream",
       "stream": "stdout",
       "text": [
        "savepath: /Users/Jens/Dropbox/dev/research/ML/out/AsteriskK8/initbydist/6\n"
       ]
      },
      {
       "output_type": "stream",
       "stream": "stdout",
       "text": [
        "        1/50 after      0 sec. | K    8 | ev -3.646236280e+06 |  \n"
       ]
      },
      {
       "output_type": "stream",
       "stream": "stdout",
       "text": [
        "        2/50 after      0 sec. | K    8 | ev -5.935223963e-01 | Ndiff    403.723 \n"
       ]
      },
      {
       "output_type": "stream",
       "stream": "stdout",
       "text": [
        "        3/50 after      0 sec. | K    8 | ev -2.822348605e-01 | Ndiff    834.697 \n"
       ]
      },
      {
       "output_type": "stream",
       "stream": "stdout",
       "text": [
        "        4/50 after      0 sec. | K    8 | ev -1.761257684e-01 | Ndiff    577.273 \n"
       ]
      },
      {
       "output_type": "stream",
       "stream": "stdout",
       "text": [
        "        5/50 after      0 sec. | K    8 | ev -5.227695421e-02 | Ndiff    295.771 \n"
       ]
      },
      {
       "output_type": "stream",
       "stream": "stdout",
       "text": [
        "        6/50 after      0 sec. | K    8 | ev  6.160497484e-02 | Ndiff    103.752 \n"
       ]
      },
      {
       "output_type": "stream",
       "stream": "stdout",
       "text": [
        "        7/50 after      0 sec. | K    8 | ev  1.071034982e-01 | Ndiff     12.349 \n"
       ]
      },
      {
       "output_type": "stream",
       "stream": "stdout",
       "text": [
        "        8/50 after      0 sec. | K    8 | ev  1.084157441e-01 | Ndiff      0.210 \n"
       ]
      },
      {
       "output_type": "stream",
       "stream": "stdout",
       "text": [
        "        9/50 after      0 sec. | K    8 | ev  1.084158115e-01 | Ndiff      0.002 \n"
       ]
      },
      {
       "output_type": "stream",
       "stream": "stdout",
       "text": [
        "... done. converged.\n"
       ]
      },
      {
       "output_type": "stream",
       "stream": "stdout",
       "text": [
        "Trial  7/25 | alg. seed: 8933888 | data order seed: 3441280\n"
       ]
      },
      {
       "output_type": "stream",
       "stream": "stdout",
       "text": [
        "savepath: /Users/Jens/Dropbox/dev/research/ML/out/AsteriskK8/initbydist/7\n"
       ]
      },
      {
       "output_type": "stream",
       "stream": "stdout",
       "text": [
        "        1/50 after      0 sec. | K    8 | ev -3.548627264e+06 |  \n"
       ]
      },
      {
       "output_type": "stream",
       "stream": "stdout",
       "text": [
        "        2/50 after      0 sec. | K    8 | ev -6.504456555e-01 | Ndiff    556.100 \n"
       ]
      },
      {
       "output_type": "stream",
       "stream": "stdout",
       "text": [
        "        3/50 after      0 sec. | K    8 | ev -4.634653098e-01 | Ndiff    805.340 \n"
       ]
      },
      {
       "output_type": "stream",
       "stream": "stdout",
       "text": [
        "        4/50 after      0 sec. | K    8 | ev -4.165469564e-01 | Ndiff    477.005 \n"
       ]
      },
      {
       "output_type": "stream",
       "stream": "stdout",
       "text": [
        "        5/50 after      0 sec. | K    8 | ev -3.824703576e-01 | Ndiff    315.733 \n"
       ]
      },
      {
       "output_type": "stream",
       "stream": "stdout",
       "text": [
        "        6/50 after      0 sec. | K    8 | ev -3.184251460e-01 | Ndiff    534.311 \n"
       ]
      },
      {
       "output_type": "stream",
       "stream": "stdout",
       "text": [
        "        7/50 after      0 sec. | K    8 | ev -1.684150534e-01 | Ndiff    508.492 \n"
       ]
      },
      {
       "output_type": "stream",
       "stream": "stdout",
       "text": [
        "        8/50 after      0 sec. | K    8 | ev  1.560504329e-02 | Ndiff    147.767 \n"
       ]
      },
      {
       "output_type": "stream",
       "stream": "stdout",
       "text": [
        "        9/50 after      0 sec. | K    8 | ev  1.077041188e-01 | Ndiff      8.858 \n"
       ]
      },
      {
       "output_type": "stream",
       "stream": "stdout",
       "text": [
        "       10/50 after      0 sec. | K    8 | ev  1.084158060e-01 | Ndiff      0.101 \n"
       ]
      },
      {
       "output_type": "stream",
       "stream": "stdout",
       "text": [
        "       11/50 after      0 sec. | K    8 | ev  1.084158115e-01 | Ndiff      0.002 \n"
       ]
      },
      {
       "output_type": "stream",
       "stream": "stdout",
       "text": [
        "... done. converged.\n"
       ]
      },
      {
       "output_type": "stream",
       "stream": "stdout",
       "text": [
        "Trial  8/25 | alg. seed: 4987904 | data order seed: 899584\n"
       ]
      },
      {
       "output_type": "stream",
       "stream": "stdout",
       "text": [
        "savepath: /Users/Jens/Dropbox/dev/research/ML/out/AsteriskK8/initbydist/8\n"
       ]
      },
      {
       "output_type": "stream",
       "stream": "stdout",
       "text": [
        "        1/50 after      0 sec. | K    8 | ev -2.244125129e+06 |  \n"
       ]
      },
      {
       "output_type": "stream",
       "stream": "stdout",
       "text": [
        "        2/50 after      0 sec. | K    8 | ev -2.308460828e-02 | Ndiff    413.691 \n"
       ]
      },
      {
       "output_type": "stream",
       "stream": "stdout",
       "text": [
        "        3/50 after      0 sec. | K    8 | ev  6.384184092e-02 | Ndiff    169.289 \n"
       ]
      },
      {
       "output_type": "stream",
       "stream": "stdout",
       "text": [
        "        4/50 after      0 sec. | K    8 | ev  1.009321458e-01 | Ndiff     28.447 \n"
       ]
      },
      {
       "output_type": "stream",
       "stream": "stdout",
       "text": [
        "        5/50 after      0 sec. | K    8 | ev  1.084153963e-01 | Ndiff      0.512 \n"
       ]
      },
      {
       "output_type": "stream",
       "stream": "stdout",
       "text": [
        "        6/50 after      0 sec. | K    8 | ev  1.084158115e-01 | Ndiff      0.005 \n"
       ]
      },
      {
       "output_type": "stream",
       "stream": "stdout",
       "text": [
        "... done. converged.\n"
       ]
      },
      {
       "output_type": "stream",
       "stream": "stdout",
       "text": [
        "Trial  9/25 | alg. seed: 3877504 | data order seed: 3785600\n"
       ]
      },
      {
       "output_type": "stream",
       "stream": "stdout",
       "text": [
        "savepath: /Users/Jens/Dropbox/dev/research/ML/out/AsteriskK8/initbydist/9\n"
       ]
      },
      {
       "output_type": "stream",
       "stream": "stdout",
       "text": [
        "        1/50 after      0 sec. | K    8 | ev -4.201513555e+06 |  \n"
       ]
      },
      {
       "output_type": "stream",
       "stream": "stdout",
       "text": [
        "        2/50 after      0 sec. | K    8 | ev -2.684970258e-01 | Ndiff    458.203 \n"
       ]
      },
      {
       "output_type": "stream",
       "stream": "stdout",
       "text": [
        "        3/50 after      0 sec. | K    8 | ev -1.472088505e-01 | Ndiff    232.346 \n"
       ]
      },
      {
       "output_type": "stream",
       "stream": "stdout",
       "text": [
        "        4/50 after      0 sec. | K    8 | ev -1.426186210e-01 | Ndiff     88.429 \n"
       ]
      },
      {
       "output_type": "stream",
       "stream": "stdout",
       "text": [
        "        5/50 after      0 sec. | K    8 | ev -1.411230662e-01 | Ndiff     28.339 \n"
       ]
      },
      {
       "output_type": "stream",
       "stream": "stdout",
       "text": [
        "        6/50 after      0 sec. | K    8 | ev -1.407223986e-01 | Ndiff      8.017 \n"
       ]
      },
      {
       "output_type": "stream",
       "stream": "stdout",
       "text": [
        "        7/50 after      0 sec. | K    8 | ev -1.406501115e-01 | Ndiff      3.398 \n"
       ]
      },
      {
       "output_type": "stream",
       "stream": "stdout",
       "text": [
        "        8/50 after      0 sec. | K    8 | ev -1.406273719e-01 | Ndiff      1.793 \n"
       ]
      },
      {
       "output_type": "stream",
       "stream": "stdout",
       "text": [
        "        9/50 after      0 sec. | K    8 | ev -1.406177284e-01 | Ndiff      1.084 \n"
       ]
      },
      {
       "output_type": "stream",
       "stream": "stdout",
       "text": [
        "       10/50 after      0 sec. | K    8 | ev -1.406129809e-01 | Ndiff      0.727 \n"
       ]
      },
      {
       "output_type": "stream",
       "stream": "stdout",
       "text": [
        "       11/50 after      0 sec. | K    8 | ev -1.406103457e-01 | Ndiff      0.524 \n"
       ]
      },
      {
       "output_type": "stream",
       "stream": "stdout",
       "text": [
        "       12/50 after      0 sec. | K    8 | ev -1.406087207e-01 | Ndiff      0.396 \n"
       ]
      },
      {
       "output_type": "stream",
       "stream": "stdout",
       "text": [
        "       13/50 after      0 sec. | K    8 | ev -1.406076196e-01 | Ndiff      0.308 \n"
       ]
      },
      {
       "output_type": "stream",
       "stream": "stdout",
       "text": [
        "       14/50 after      0 sec. | K    8 | ev -1.406068073e-01 | Ndiff      0.243 \n"
       ]
      },
      {
       "output_type": "stream",
       "stream": "stdout",
       "text": [
        "       15/50 after      1 sec. | K    8 | ev -1.406061610e-01 | Ndiff      0.192 \n"
       ]
      },
      {
       "output_type": "stream",
       "stream": "stdout",
       "text": [
        "       16/50 after      1 sec. | K    8 | ev -1.406056118e-01 | Ndiff      0.149 \n"
       ]
      },
      {
       "output_type": "stream",
       "stream": "stdout",
       "text": [
        "       17/50 after      1 sec. | K    8 | ev -1.406051192e-01 | Ndiff      0.113 \n"
       ]
      },
      {
       "output_type": "stream",
       "stream": "stdout",
       "text": [
        "       18/50 after      1 sec. | K    8 | ev -1.406046580e-01 | Ndiff      0.081 \n"
       ]
      },
      {
       "output_type": "stream",
       "stream": "stdout",
       "text": [
        "       19/50 after      1 sec. | K    8 | ev -1.406042119e-01 | Ndiff      0.051 \n"
       ]
      },
      {
       "output_type": "stream",
       "stream": "stdout",
       "text": [
        "       20/50 after      1 sec. | K    8 | ev -1.406037703e-01 | Ndiff      0.023 \n"
       ]
      },
      {
       "output_type": "stream",
       "stream": "stdout",
       "text": [
        "... done. converged.\n"
       ]
      },
      {
       "output_type": "stream",
       "stream": "stdout",
       "text": [
        "Trial 10/25 | alg. seed: 8408064 | data order seed: 6801920\n"
       ]
      },
      {
       "output_type": "stream",
       "stream": "stdout",
       "text": [
        "savepath: /Users/Jens/Dropbox/dev/research/ML/out/AsteriskK8/initbydist/10\n"
       ]
      },
      {
       "output_type": "stream",
       "stream": "stdout",
       "text": [
        "        1/50 after      0 sec. | K    8 | ev -3.374814285e+06 |  \n"
       ]
      },
      {
       "output_type": "stream",
       "stream": "stdout",
       "text": [
        "        2/50 after      0 sec. | K    8 | ev -3.806002848e-01 | Ndiff    623.984 \n"
       ]
      },
      {
       "output_type": "stream",
       "stream": "stdout",
       "text": [
        "        3/50 after      0 sec. | K    8 | ev -2.118013989e-01 | Ndiff    704.539 \n"
       ]
      },
      {
       "output_type": "stream",
       "stream": "stdout",
       "text": [
        "        4/50 after      0 sec. | K    8 | ev -1.594598898e-01 | Ndiff    256.556 \n"
       ]
      },
      {
       "output_type": "stream",
       "stream": "stdout",
       "text": [
        "        5/50 after      0 sec. | K    8 | ev -1.425434141e-01 | Ndiff      2.302 \n"
       ]
      },
      {
       "output_type": "stream",
       "stream": "stdout",
       "text": [
        "        6/50 after      0 sec. | K    8 | ev -1.419038356e-01 | Ndiff      2.254 \n"
       ]
      },
      {
       "output_type": "stream",
       "stream": "stdout",
       "text": [
        "        7/50 after      0 sec. | K    8 | ev -1.416854733e-01 | Ndiff      2.411 \n"
       ]
      },
      {
       "output_type": "stream",
       "stream": "stdout",
       "text": [
        "        8/50 after      0 sec. | K    8 | ev -1.415853609e-01 | Ndiff      2.125 \n"
       ]
      },
      {
       "output_type": "stream",
       "stream": "stdout",
       "text": [
        "        9/50 after      0 sec. | K    8 | ev -1.415284646e-01 | Ndiff      1.846 \n"
       ]
      },
      {
       "output_type": "stream",
       "stream": "stdout",
       "text": [
        "       10/50 after      0 sec. | K    8 | ev -1.414909681e-01 | Ndiff      1.627 \n"
       ]
      },
      {
       "output_type": "stream",
       "stream": "stdout",
       "text": [
        "       11/50 after      0 sec. | K    8 | ev -1.414638047e-01 | Ndiff      1.455 \n"
       ]
      },
      {
       "output_type": "stream",
       "stream": "stdout",
       "text": [
        "       12/50 after      0 sec. | K    8 | ev -1.414429329e-01 | Ndiff      1.320 \n"
       ]
      },
      {
       "output_type": "stream",
       "stream": "stdout",
       "text": [
        "       13/50 after      0 sec. | K    8 | ev -1.414262810e-01 | Ndiff      1.209 \n"
       ]
      },
      {
       "output_type": "stream",
       "stream": "stdout",
       "text": [
        "       14/50 after      0 sec. | K    8 | ev -1.414126543e-01 | Ndiff      1.115 \n"
       ]
      },
      {
       "output_type": "stream",
       "stream": "stdout",
       "text": [
        "       15/50 after      0 sec. | K    8 | ev -1.414012973e-01 | Ndiff      1.034 \n"
       ]
      },
      {
       "output_type": "stream",
       "stream": "stdout",
       "text": [
        "       16/50 after      1 sec. | K    8 | ev -1.413916980e-01 | Ndiff      0.963 \n"
       ]
      },
      {
       "output_type": "stream",
       "stream": "stdout",
       "text": [
        "       17/50 after      1 sec. | K    8 | ev -1.413834923e-01 | Ndiff      0.900 \n"
       ]
      },
      {
       "output_type": "stream",
       "stream": "stdout",
       "text": [
        "       18/50 after      1 sec. | K    8 | ev -1.413764110e-01 | Ndiff      0.844 \n"
       ]
      },
      {
       "output_type": "stream",
       "stream": "stdout",
       "text": [
        "       19/50 after      1 sec. | K    8 | ev -1.413702504e-01 | Ndiff      0.794 \n"
       ]
      },
      {
       "output_type": "stream",
       "stream": "stdout",
       "text": [
        "       20/50 after      1 sec. | K    8 | ev -1.413648526e-01 | Ndiff      0.749 \n"
       ]
      },
      {
       "output_type": "stream",
       "stream": "stdout",
       "text": [
        "       21/50 after      1 sec. | K    8 | ev -1.413600933e-01 | Ndiff      0.708 \n"
       ]
      },
      {
       "output_type": "stream",
       "stream": "stdout",
       "text": [
        "       22/50 after      1 sec. | K    8 | ev -1.413558731e-01 | Ndiff      0.672 \n"
       ]
      },
      {
       "output_type": "stream",
       "stream": "stdout",
       "text": [
        "       23/50 after      1 sec. | K    8 | ev -1.413521120e-01 | Ndiff      0.638 \n"
       ]
      },
      {
       "output_type": "stream",
       "stream": "stdout",
       "text": [
        "       24/50 after      1 sec. | K    8 | ev -1.413487445e-01 | Ndiff      0.607 \n"
       ]
      },
      {
       "output_type": "stream",
       "stream": "stdout",
       "text": [
        "       25/50 after      1 sec. | K    8 | ev -1.413457166e-01 | Ndiff      0.579 \n"
       ]
      },
      {
       "output_type": "stream",
       "stream": "stdout",
       "text": [
        "       26/50 after      1 sec. | K    8 | ev -1.413429834e-01 | Ndiff      0.553 \n"
       ]
      },
      {
       "output_type": "stream",
       "stream": "stdout",
       "text": [
        "       27/50 after      1 sec. | K    8 | ev -1.413405076e-01 | Ndiff      0.529 \n"
       ]
      },
      {
       "output_type": "stream",
       "stream": "stdout",
       "text": [
        "       28/50 after      1 sec. | K    8 | ev -1.413382575e-01 | Ndiff      0.507 \n"
       ]
      },
      {
       "output_type": "stream",
       "stream": "stdout",
       "text": [
        "       29/50 after      1 sec. | K    8 | ev -1.413362062e-01 | Ndiff      0.486 \n"
       ]
      },
      {
       "output_type": "stream",
       "stream": "stdout",
       "text": [
        "       30/50 after      1 sec. | K    8 | ev -1.413343309e-01 | Ndiff      0.467 \n"
       ]
      },
      {
       "output_type": "stream",
       "stream": "stdout",
       "text": [
        "       31/50 after      1 sec. | K    8 | ev -1.413326120e-01 | Ndiff      0.450 \n"
       ]
      },
      {
       "output_type": "stream",
       "stream": "stdout",
       "text": [
        "       32/50 after      1 sec. | K    8 | ev -1.413310324e-01 | Ndiff      0.433 \n"
       ]
      },
      {
       "output_type": "stream",
       "stream": "stdout",
       "text": [
        "       33/50 after      1 sec. | K    8 | ev -1.413295777e-01 | Ndiff      0.418 \n"
       ]
      },
      {
       "output_type": "stream",
       "stream": "stdout",
       "text": [
        "       34/50 after      1 sec. | K    8 | ev -1.413282349e-01 | Ndiff      0.403 \n"
       ]
      },
      {
       "output_type": "stream",
       "stream": "stdout",
       "text": [
        "       35/50 after      1 sec. | K    8 | ev -1.413269930e-01 | Ndiff      0.390 \n"
       ]
      },
      {
       "output_type": "stream",
       "stream": "stdout",
       "text": [
        "       36/50 after      1 sec. | K    8 | ev -1.413258422e-01 | Ndiff      0.377 \n"
       ]
      },
      {
       "output_type": "stream",
       "stream": "stdout",
       "text": [
        "       37/50 after      1 sec. | K    8 | ev -1.413247739e-01 | Ndiff      0.365 \n"
       ]
      },
      {
       "output_type": "stream",
       "stream": "stdout",
       "text": [
        "       38/50 after      1 sec. | K    8 | ev -1.413237804e-01 | Ndiff      0.354 \n"
       ]
      },
      {
       "output_type": "stream",
       "stream": "stdout",
       "text": [
        "       39/50 after      1 sec. | K    8 | ev -1.413228551e-01 | Ndiff      0.343 \n"
       ]
      },
      {
       "output_type": "stream",
       "stream": "stdout",
       "text": [
        "       40/50 after      1 sec. | K    8 | ev -1.413219919e-01 | Ndiff      0.333 \n"
       ]
      },
      {
       "output_type": "stream",
       "stream": "stdout",
       "text": [
        "       41/50 after      1 sec. | K    8 | ev -1.413211855e-01 | Ndiff      0.324 \n"
       ]
      },
      {
       "output_type": "stream",
       "stream": "stdout",
       "text": [
        "       42/50 after      1 sec. | K    8 | ev -1.413204311e-01 | Ndiff      0.315 \n"
       ]
      },
      {
       "output_type": "stream",
       "stream": "stdout",
       "text": [
        "       43/50 after      1 sec. | K    8 | ev -1.413197244e-01 | Ndiff      0.306 \n"
       ]
      },
      {
       "output_type": "stream",
       "stream": "stdout",
       "text": [
        "       44/50 after      1 sec. | K    8 | ev -1.413190616e-01 | Ndiff      0.298 \n"
       ]
      },
      {
       "output_type": "stream",
       "stream": "stdout",
       "text": [
        "       45/50 after      1 sec. | K    8 | ev -1.413184392e-01 | Ndiff      0.291 \n"
       ]
      },
      {
       "output_type": "stream",
       "stream": "stdout",
       "text": [
        "       46/50 after      1 sec. | K    8 | ev -1.413178541e-01 | Ndiff      0.283 \n"
       ]
      },
      {
       "output_type": "stream",
       "stream": "stdout",
       "text": [
        "       47/50 after      2 sec. | K    8 | ev -1.413173034e-01 | Ndiff      0.277 \n"
       ]
      },
      {
       "output_type": "stream",
       "stream": "stdout",
       "text": [
        "       48/50 after      2 sec. | K    8 | ev -1.413167846e-01 | Ndiff      0.270 \n"
       ]
      },
      {
       "output_type": "stream",
       "stream": "stdout",
       "text": [
        "       49/50 after      2 sec. | K    8 | ev -1.413162953e-01 | Ndiff      0.264 \n"
       ]
      },
      {
       "output_type": "stream",
       "stream": "stdout",
       "text": [
        "       50/50 after      2 sec. | K    8 | ev -1.413158334e-01 | Ndiff      0.258 \n"
       ]
      },
      {
       "output_type": "stream",
       "stream": "stdout",
       "text": [
        "... done. not converged. max laps thru data exceeded.\n"
       ]
      },
      {
       "output_type": "stream",
       "stream": "stdout",
       "text": [
        "Trial 11/25 | alg. seed: 7818752 | data order seed: 2531072\n"
       ]
      },
      {
       "output_type": "stream",
       "stream": "stdout",
       "text": [
        "savepath: /Users/Jens/Dropbox/dev/research/ML/out/AsteriskK8/initbydist/11\n"
       ]
      },
      {
       "output_type": "stream",
       "stream": "stdout",
       "text": [
        "        1/50 after      0 sec. | K    8 | ev -5.207552693e+06 |  \n"
       ]
      },
      {
       "output_type": "stream",
       "stream": "stdout",
       "text": [
        "        2/50 after      0 sec. | K    8 | ev -6.656745492e-01 | Ndiff    683.007 \n"
       ]
      },
      {
       "output_type": "stream",
       "stream": "stdout",
       "text": [
        "        3/50 after      0 sec. | K    8 | ev -4.015919526e-01 | Ndiff    807.522 \n"
       ]
      },
      {
       "output_type": "stream",
       "stream": "stdout",
       "text": [
        "        4/50 after      0 sec. | K    8 | ev -1.774771725e-01 | Ndiff    630.450 \n"
       ]
      },
      {
       "output_type": "stream",
       "stream": "stdout",
       "text": [
        "        5/50 after      0 sec. | K    8 | ev -1.166946771e-01 | Ndiff    351.278 \n"
       ]
      },
      {
       "output_type": "stream",
       "stream": "stdout",
       "text": [
        "        6/50 after      0 sec. | K    8 | ev -8.076493870e-02 | Ndiff    183.751 \n"
       ]
      },
      {
       "output_type": "stream",
       "stream": "stdout",
       "text": [
        "        7/50 after      0 sec. | K    8 | ev -7.644058987e-02 | Ndiff    145.568 \n"
       ]
      },
      {
       "output_type": "stream",
       "stream": "stdout",
       "text": [
        "        8/50 after      0 sec. | K    8 | ev -6.870907794e-02 | Ndiff    351.072 \n"
       ]
      },
      {
       "output_type": "stream",
       "stream": "stdout",
       "text": [
        "        9/50 after      0 sec. | K    8 | ev -3.398046815e-02 | Ndiff    892.575 \n"
       ]
      },
      {
       "output_type": "stream",
       "stream": "stdout",
       "text": [
        "       10/50 after      0 sec. | K    8 | ev  6.665263367e-03 | Ndiff    461.585 \n"
       ]
      },
      {
       "output_type": "stream",
       "stream": "stdout",
       "text": [
        "       11/50 after      0 sec. | K    8 | ev  3.503661850e-02 | Ndiff    200.656 \n"
       ]
      },
      {
       "output_type": "stream",
       "stream": "stdout",
       "text": [
        "       12/50 after      0 sec. | K    8 | ev  6.761662582e-02 | Ndiff    106.002 \n"
       ]
      },
      {
       "output_type": "stream",
       "stream": "stdout",
       "text": [
        "       13/50 after      0 sec. | K    8 | ev  1.066056644e-01 | Ndiff     10.063 \n"
       ]
      },
      {
       "output_type": "stream",
       "stream": "stdout",
       "text": [
        "       14/50 after      0 sec. | K    8 | ev  1.084155689e-01 | Ndiff      0.498 \n"
       ]
      },
      {
       "output_type": "stream",
       "stream": "stdout",
       "text": [
        "       15/50 after      0 sec. | K    8 | ev  1.084158113e-01 | Ndiff      0.016 \n"
       ]
      },
      {
       "output_type": "stream",
       "stream": "stdout",
       "text": [
        "... done. converged.\n"
       ]
      },
      {
       "output_type": "stream",
       "stream": "stdout",
       "text": [
        "Trial 12/25 | alg. seed: 7622144 | data order seed: 3886080\n"
       ]
      },
      {
       "output_type": "stream",
       "stream": "stdout",
       "text": [
        "savepath: /Users/Jens/Dropbox/dev/research/ML/out/AsteriskK8/initbydist/12\n"
       ]
      },
      {
       "output_type": "stream",
       "stream": "stdout",
       "text": [
        "        1/50 after      0 sec. | K    8 | ev -3.456205863e+06 |  \n"
       ]
      },
      {
       "output_type": "stream",
       "stream": "stdout",
       "text": [
        "        2/50 after      0 sec. | K    8 | ev -2.464122122e-01 | Ndiff    871.895 \n"
       ]
      },
      {
       "output_type": "stream",
       "stream": "stdout",
       "text": [
        "        3/50 after      0 sec. | K    8 | ev -1.470314798e-01 | Ndiff    715.512 \n"
       ]
      },
      {
       "output_type": "stream",
       "stream": "stdout",
       "text": [
        "        4/50 after      0 sec. | K    8 | ev -6.693162130e-02 | Ndiff    409.759 \n"
       ]
      },
      {
       "output_type": "stream",
       "stream": "stdout",
       "text": [
        "        5/50 after      0 sec. | K    8 | ev  4.572334246e-02 | Ndiff    189.798 \n"
       ]
      },
      {
       "output_type": "stream",
       "stream": "stdout",
       "text": [
        "        6/50 after      0 sec. | K    8 | ev  8.809448539e-02 | Ndiff     54.746 \n"
       ]
      },
      {
       "output_type": "stream",
       "stream": "stdout",
       "text": [
        "        7/50 after      0 sec. | K    8 | ev  1.083779417e-01 | Ndiff      3.049 \n"
       ]
      },
      {
       "output_type": "stream",
       "stream": "stdout",
       "text": [
        "        8/50 after      0 sec. | K    8 | ev  1.084157977e-01 | Ndiff      0.113 \n"
       ]
      },
      {
       "output_type": "stream",
       "stream": "stdout",
       "text": [
        "        9/50 after      0 sec. | K    8 | ev  1.084158115e-01 | Ndiff      0.003 \n"
       ]
      },
      {
       "output_type": "stream",
       "stream": "stdout",
       "text": [
        "... done. converged.\n"
       ]
      },
      {
       "output_type": "stream",
       "stream": "stdout",
       "text": [
        "Trial 13/25 | alg. seed: 9359104 | data order seed: 8818688\n"
       ]
      },
      {
       "output_type": "stream",
       "stream": "stdout",
       "text": [
        "savepath: /Users/Jens/Dropbox/dev/research/ML/out/AsteriskK8/initbydist/13\n"
       ]
      },
      {
       "output_type": "stream",
       "stream": "stdout",
       "text": [
        "        1/50 after      0 sec. | K    8 | ev -4.240951300e+06 |  \n"
       ]
      },
      {
       "output_type": "stream",
       "stream": "stdout",
       "text": [
        "        2/50 after      0 sec. | K    8 | ev -5.746144466e-01 | Ndiff    399.102 \n"
       ]
      },
      {
       "output_type": "stream",
       "stream": "stdout",
       "text": [
        "        3/50 after      0 sec. | K    8 | ev -2.679347207e-01 | Ndiff    483.899 \n"
       ]
      },
      {
       "output_type": "stream",
       "stream": "stdout",
       "text": [
        "        4/50 after      0 sec. | K    8 | ev -1.900332972e-01 | Ndiff    205.770 \n"
       ]
      },
      {
       "output_type": "stream",
       "stream": "stdout",
       "text": [
        "        5/50 after      0 sec. | K    8 | ev -1.528749264e-01 | Ndiff     46.848 \n"
       ]
      },
      {
       "output_type": "stream",
       "stream": "stdout",
       "text": [
        "        6/50 after      0 sec. | K    8 | ev -1.379021248e-01 | Ndiff      7.058 \n"
       ]
      },
      {
       "output_type": "stream",
       "stream": "stdout",
       "text": [
        "        7/50 after      0 sec. | K    8 | ev -1.378415105e-01 | Ndiff      5.444 \n"
       ]
      },
      {
       "output_type": "stream",
       "stream": "stdout",
       "text": [
        "        8/50 after      0 sec. | K    8 | ev -1.378060035e-01 | Ndiff      4.301 \n"
       ]
      },
      {
       "output_type": "stream",
       "stream": "stdout",
       "text": [
        "        9/50 after      0 sec. | K    8 | ev -1.377815449e-01 | Ndiff      3.474 \n"
       ]
      },
      {
       "output_type": "stream",
       "stream": "stdout",
       "text": [
        "       10/50 after      0 sec. | K    8 | ev -1.377638824e-01 | Ndiff      2.858 \n"
       ]
      },
      {
       "output_type": "stream",
       "stream": "stdout",
       "text": [
        "       11/50 after      0 sec. | K    8 | ev -1.377506670e-01 | Ndiff      2.387 \n"
       ]
      },
      {
       "output_type": "stream",
       "stream": "stdout",
       "text": [
        "       12/50 after      0 sec. | K    8 | ev -1.377405005e-01 | Ndiff      2.019 \n"
       ]
      },
      {
       "output_type": "stream",
       "stream": "stdout",
       "text": [
        "       13/50 after      0 sec. | K    8 | ev -1.377325028e-01 | Ndiff      1.725 \n"
       ]
      },
      {
       "output_type": "stream",
       "stream": "stdout",
       "text": [
        "       14/50 after      1 sec. | K    8 | ev -1.377260942e-01 | Ndiff      1.486 \n"
       ]
      },
      {
       "output_type": "stream",
       "stream": "stdout",
       "text": [
        "       15/50 after      1 sec. | K    8 | ev -1.377208789e-01 | Ndiff      1.289 \n"
       ]
      },
      {
       "output_type": "stream",
       "stream": "stdout",
       "text": [
        "       16/50 after      1 sec. | K    8 | ev -1.377165782e-01 | Ndiff      1.123 \n"
       ]
      },
      {
       "output_type": "stream",
       "stream": "stdout",
       "text": [
        "       17/50 after      1 sec. | K    8 | ev -1.377129911e-01 | Ndiff      0.983 \n"
       ]
      },
      {
       "output_type": "stream",
       "stream": "stdout",
       "text": [
        "       18/50 after      1 sec. | K    8 | ev -1.377099692e-01 | Ndiff      0.863 \n"
       ]
      },
      {
       "output_type": "stream",
       "stream": "stdout",
       "text": [
        "       19/50 after      1 sec. | K    8 | ev -1.377074009e-01 | Ndiff      0.760 \n"
       ]
      },
      {
       "output_type": "stream",
       "stream": "stdout",
       "text": [
        "       20/50 after      1 sec. | K    8 | ev -1.377052010e-01 | Ndiff      0.669 \n"
       ]
      },
      {
       "output_type": "stream",
       "stream": "stdout",
       "text": [
        "       21/50 after      1 sec. | K    8 | ev -1.377033032e-01 | Ndiff      0.590 \n"
       ]
      },
      {
       "output_type": "stream",
       "stream": "stdout",
       "text": [
        "       22/50 after      1 sec. | K    8 | ev -1.377016557e-01 | Ndiff      0.520 \n"
       ]
      },
      {
       "output_type": "stream",
       "stream": "stdout",
       "text": [
        "       23/50 after      1 sec. | K    8 | ev -1.377002171e-01 | Ndiff      0.458 \n"
       ]
      },
      {
       "output_type": "stream",
       "stream": "stdout",
       "text": [
        "       24/50 after      1 sec. | K    8 | ev -1.376989543e-01 | Ndiff      0.402 \n"
       ]
      },
      {
       "output_type": "stream",
       "stream": "stdout",
       "text": [
        "       25/50 after      1 sec. | K    8 | ev -1.376978405e-01 | Ndiff      0.352 \n"
       ]
      },
      {
       "output_type": "stream",
       "stream": "stdout",
       "text": [
        "       26/50 after      1 sec. | K    8 | ev -1.376968535e-01 | Ndiff      0.307 \n"
       ]
      },
      {
       "output_type": "stream",
       "stream": "stdout",
       "text": [
        "       27/50 after      1 sec. | K    8 | ev -1.376959754e-01 | Ndiff      0.266 \n"
       ]
      },
      {
       "output_type": "stream",
       "stream": "stdout",
       "text": [
        "       28/50 after      1 sec. | K    8 | ev -1.376951911e-01 | Ndiff      0.229 \n"
       ]
      },
      {
       "output_type": "stream",
       "stream": "stdout",
       "text": [
        "       29/50 after      1 sec. | K    8 | ev -1.376944881e-01 | Ndiff      0.195 \n"
       ]
      },
      {
       "output_type": "stream",
       "stream": "stdout",
       "text": [
        "       30/50 after      1 sec. | K    8 | ev -1.376938557e-01 | Ndiff      0.164 \n"
       ]
      },
      {
       "output_type": "stream",
       "stream": "stdout",
       "text": [
        "       31/50 after      1 sec. | K    8 | ev -1.376932850e-01 | Ndiff      0.136 \n"
       ]
      },
      {
       "output_type": "stream",
       "stream": "stdout",
       "text": [
        "       32/50 after      1 sec. | K    8 | ev -1.376927686e-01 | Ndiff      0.110 \n"
       ]
      },
      {
       "output_type": "stream",
       "stream": "stdout",
       "text": [
        "       33/50 after      1 sec. | K    8 | ev -1.376922998e-01 | Ndiff      0.085 \n"
       ]
      },
      {
       "output_type": "stream",
       "stream": "stdout",
       "text": [
        "       34/50 after      1 sec. | K    8 | ev -1.376918731e-01 | Ndiff      0.063 \n"
       ]
      },
      {
       "output_type": "stream",
       "stream": "stdout",
       "text": [
        "       35/50 after      1 sec. | K    8 | ev -1.376914837e-01 | Ndiff      0.042 \n"
       ]
      },
      {
       "output_type": "stream",
       "stream": "stdout",
       "text": [
        "... done. converged.\n"
       ]
      },
      {
       "output_type": "stream",
       "stream": "stdout",
       "text": [
        "Trial 14/25 | alg. seed: 4913792 | data order seed: 3528320\n"
       ]
      },
      {
       "output_type": "stream",
       "stream": "stdout",
       "text": [
        "savepath: /Users/Jens/Dropbox/dev/research/ML/out/AsteriskK8/initbydist/14\n"
       ]
      },
      {
       "output_type": "stream",
       "stream": "stdout",
       "text": [
        "        1/50 after      0 sec. | K    8 | ev -1.920700955e+06 |  \n"
       ]
      },
      {
       "output_type": "stream",
       "stream": "stdout",
       "text": [
        "        2/50 after      0 sec. | K    8 | ev  7.757707793e-03 | Ndiff    249.295 \n"
       ]
      },
      {
       "output_type": "stream",
       "stream": "stdout",
       "text": [
        "        3/50 after      0 sec. | K    8 | ev  1.060626710e-01 | Ndiff     19.449 \n"
       ]
      },
      {
       "output_type": "stream",
       "stream": "stdout",
       "text": [
        "        4/50 after      0 sec. | K    8 | ev  1.084157648e-01 | Ndiff      0.198 \n"
       ]
      },
      {
       "output_type": "stream",
       "stream": "stdout",
       "text": [
        "        5/50 after      0 sec. | K    8 | ev  1.084158115e-01 | Ndiff      0.002 \n"
       ]
      },
      {
       "output_type": "stream",
       "stream": "stdout",
       "text": [
        "... done. converged.\n"
       ]
      },
      {
       "output_type": "stream",
       "stream": "stdout",
       "text": [
        "Trial 15/25 | alg. seed: 4929664 | data order seed: 1024640\n"
       ]
      },
      {
       "output_type": "stream",
       "stream": "stdout",
       "text": [
        "savepath: /Users/Jens/Dropbox/dev/research/ML/out/AsteriskK8/initbydist/15\n"
       ]
      },
      {
       "output_type": "stream",
       "stream": "stdout",
       "text": [
        "        1/50 after      0 sec. | K    8 | ev -3.633815096e+06 |  \n"
       ]
      },
      {
       "output_type": "stream",
       "stream": "stdout",
       "text": [
        "        2/50 after      0 sec. | K    8 | ev -4.412403590e-01 | Ndiff    362.870 \n"
       ]
      },
      {
       "output_type": "stream",
       "stream": "stdout",
       "text": [
        "        3/50 after      0 sec. | K    8 | ev -2.344754293e-01 | Ndiff    695.392 \n"
       ]
      },
      {
       "output_type": "stream",
       "stream": "stdout",
       "text": [
        "        4/50 after      0 sec. | K    8 | ev -1.459375852e-01 | Ndiff     65.345 \n"
       ]
      },
      {
       "output_type": "stream",
       "stream": "stdout",
       "text": [
        "        5/50 after      0 sec. | K    8 | ev -1.409472716e-01 | Ndiff      3.828 \n"
       ]
      },
      {
       "output_type": "stream",
       "stream": "stdout",
       "text": [
        "        6/50 after      0 sec. | K    8 | ev -1.405587527e-01 | Ndiff      0.269 \n"
       ]
      },
      {
       "output_type": "stream",
       "stream": "stdout",
       "text": [
        "        7/50 after      0 sec. | K    8 | ev -1.404225305e-01 | Ndiff      0.869 \n"
       ]
      },
      {
       "output_type": "stream",
       "stream": "stdout",
       "text": [
        "        8/50 after      0 sec. | K    8 | ev -1.403576455e-01 | Ndiff      0.920 \n"
       ]
      },
      {
       "output_type": "stream",
       "stream": "stdout",
       "text": [
        "        9/50 after      0 sec. | K    8 | ev -1.403188583e-01 | Ndiff      0.878 \n"
       ]
      },
      {
       "output_type": "stream",
       "stream": "stdout",
       "text": [
        "       10/50 after      0 sec. | K    8 | ev -1.402922575e-01 | Ndiff      0.824 \n"
       ]
      },
      {
       "output_type": "stream",
       "stream": "stdout",
       "text": [
        "       11/50 after      0 sec. | K    8 | ev -1.402725729e-01 | Ndiff      0.774 \n"
       ]
      },
      {
       "output_type": "stream",
       "stream": "stdout",
       "text": [
        "       12/50 after      0 sec. | K    8 | ev -1.402573540e-01 | Ndiff      0.730 \n"
       ]
      },
      {
       "output_type": "stream",
       "stream": "stdout",
       "text": [
        "       13/50 after      0 sec. | K    8 | ev -1.402452526e-01 | Ndiff      0.691 \n"
       ]
      },
      {
       "output_type": "stream",
       "stream": "stdout",
       "text": [
        "       14/50 after      1 sec. | K    8 | ev -1.402354345e-01 | Ndiff      0.657 \n"
       ]
      },
      {
       "output_type": "stream",
       "stream": "stdout",
       "text": [
        "       15/50 after      1 sec. | K    8 | ev -1.402273427e-01 | Ndiff      0.626 \n"
       ]
      },
      {
       "output_type": "stream",
       "stream": "stdout",
       "text": [
        "       16/50 after      1 sec. | K    8 | ev -1.402205868e-01 | Ndiff      0.597 \n"
       ]
      },
      {
       "output_type": "stream",
       "stream": "stdout",
       "text": [
        "       17/50 after      1 sec. | K    8 | ev -1.402148835e-01 | Ndiff      0.572 \n"
       ]
      },
      {
       "output_type": "stream",
       "stream": "stdout",
       "text": [
        "       18/50 after      1 sec. | K    8 | ev -1.402100222e-01 | Ndiff      0.549 \n"
       ]
      },
      {
       "output_type": "stream",
       "stream": "stdout",
       "text": [
        "       19/50 after      1 sec. | K    8 | ev -1.402058432e-01 | Ndiff      0.527 \n"
       ]
      },
      {
       "output_type": "stream",
       "stream": "stdout",
       "text": [
        "       20/50 after      1 sec. | K    8 | ev -1.402022234e-01 | Ndiff      0.507 \n"
       ]
      },
      {
       "output_type": "stream",
       "stream": "stdout",
       "text": [
        "       21/50 after      1 sec. | K    8 | ev -1.401990665e-01 | Ndiff      0.489 \n"
       ]
      },
      {
       "output_type": "stream",
       "stream": "stdout",
       "text": [
        "       22/50 after      1 sec. | K    8 | ev -1.401962962e-01 | Ndiff      0.472 \n"
       ]
      },
      {
       "output_type": "stream",
       "stream": "stdout",
       "text": [
        "       23/50 after      1 sec. | K    8 | ev -1.401938516e-01 | Ndiff      0.456 \n"
       ]
      },
      {
       "output_type": "stream",
       "stream": "stdout",
       "text": [
        "       24/50 after      1 sec. | K    8 | ev -1.401916833e-01 | Ndiff      0.442 \n"
       ]
      },
      {
       "output_type": "stream",
       "stream": "stdout",
       "text": [
        "       25/50 after      1 sec. | K    8 | ev -1.401897509e-01 | Ndiff      0.428 \n"
       ]
      },
      {
       "output_type": "stream",
       "stream": "stdout",
       "text": [
        "       26/50 after      1 sec. | K    8 | ev -1.401880215e-01 | Ndiff      0.415 \n"
       ]
      },
      {
       "output_type": "stream",
       "stream": "stdout",
       "text": [
        "       27/50 after      1 sec. | K    8 | ev -1.401864674e-01 | Ndiff      0.403 \n"
       ]
      },
      {
       "output_type": "stream",
       "stream": "stdout",
       "text": [
        "       28/50 after      1 sec. | K    8 | ev -1.401850657e-01 | Ndiff      0.391 \n"
       ]
      },
      {
       "output_type": "stream",
       "stream": "stdout",
       "text": [
        "       29/50 after      1 sec. | K    8 | ev -1.401837972e-01 | Ndiff      0.381 \n"
       ]
      },
      {
       "output_type": "stream",
       "stream": "stdout",
       "text": [
        "       30/50 after      1 sec. | K    8 | ev -1.401826455e-01 | Ndiff      0.371 \n"
       ]
      },
      {
       "output_type": "stream",
       "stream": "stdout",
       "text": [
        "       31/50 after      1 sec. | K    8 | ev -1.401815968e-01 | Ndiff      0.361 \n"
       ]
      },
      {
       "output_type": "stream",
       "stream": "stdout",
       "text": [
        "       32/50 after      1 sec. | K    8 | ev -1.401806391e-01 | Ndiff      0.352 \n"
       ]
      },
      {
       "output_type": "stream",
       "stream": "stdout",
       "text": [
        "       33/50 after      1 sec. | K    8 | ev -1.401797623e-01 | Ndiff      0.343 \n"
       ]
      },
      {
       "output_type": "stream",
       "stream": "stdout",
       "text": [
        "       34/50 after      1 sec. | K    8 | ev -1.401789576e-01 | Ndiff      0.335 \n"
       ]
      },
      {
       "output_type": "stream",
       "stream": "stdout",
       "text": [
        "       35/50 after      1 sec. | K    8 | ev -1.401782173e-01 | Ndiff      0.327 \n"
       ]
      },
      {
       "output_type": "stream",
       "stream": "stdout",
       "text": [
        "       36/50 after      1 sec. | K    8 | ev -1.401775348e-01 | Ndiff      0.320 \n"
       ]
      },
      {
       "output_type": "stream",
       "stream": "stdout",
       "text": [
        "       37/50 after      1 sec. | K    8 | ev -1.401769043e-01 | Ndiff      0.313 \n"
       ]
      },
      {
       "output_type": "stream",
       "stream": "stdout",
       "text": [
        "       38/50 after      1 sec. | K    8 | ev -1.401763207e-01 | Ndiff      0.306 \n"
       ]
      },
      {
       "output_type": "stream",
       "stream": "stdout",
       "text": [
        "       39/50 after      1 sec. | K    8 | ev -1.401757794e-01 | Ndiff      0.299 \n"
       ]
      },
      {
       "output_type": "stream",
       "stream": "stdout",
       "text": [
        "       40/50 after      1 sec. | K    8 | ev -1.401752767e-01 | Ndiff      0.293 \n"
       ]
      },
      {
       "output_type": "stream",
       "stream": "stdout",
       "text": [
        "       41/50 after      1 sec. | K    8 | ev -1.401748088e-01 | Ndiff      0.287 \n"
       ]
      },
      {
       "output_type": "stream",
       "stream": "stdout",
       "text": [
        "       42/50 after      1 sec. | K    8 | ev -1.401743728e-01 | Ndiff      0.281 \n"
       ]
      },
      {
       "output_type": "stream",
       "stream": "stdout",
       "text": [
        "       43/50 after      1 sec. | K    8 | ev -1.401739658e-01 | Ndiff      0.276 \n"
       ]
      },
      {
       "output_type": "stream",
       "stream": "stdout",
       "text": [
        "       44/50 after      2 sec. | K    8 | ev -1.401735854e-01 | Ndiff      0.271 \n"
       ]
      },
      {
       "output_type": "stream",
       "stream": "stdout",
       "text": [
        "       45/50 after      2 sec. | K    8 | ev -1.401732293e-01 | Ndiff      0.266 \n"
       ]
      },
      {
       "output_type": "stream",
       "stream": "stdout",
       "text": [
        "       46/50 after      2 sec. | K    8 | ev -1.401728955e-01 | Ndiff      0.261 \n"
       ]
      },
      {
       "output_type": "stream",
       "stream": "stdout",
       "text": [
        "       47/50 after      2 sec. | K    8 | ev -1.401725823e-01 | Ndiff      0.256 \n"
       ]
      },
      {
       "output_type": "stream",
       "stream": "stdout",
       "text": [
        "       48/50 after      2 sec. | K    8 | ev -1.401722881e-01 | Ndiff      0.252 \n"
       ]
      },
      {
       "output_type": "stream",
       "stream": "stdout",
       "text": [
        "       49/50 after      2 sec. | K    8 | ev -1.401720113e-01 | Ndiff      0.247 \n"
       ]
      },
      {
       "output_type": "stream",
       "stream": "stdout",
       "text": [
        "       50/50 after      2 sec. | K    8 | ev -1.401717506e-01 | Ndiff      0.243 \n"
       ]
      },
      {
       "output_type": "stream",
       "stream": "stdout",
       "text": [
        "... done. not converged. max laps thru data exceeded.\n"
       ]
      },
      {
       "output_type": "stream",
       "stream": "stdout",
       "text": [
        "Trial 16/25 | alg. seed: 8838144 | data order seed: 8819712\n"
       ]
      },
      {
       "output_type": "stream",
       "stream": "stdout",
       "text": [
        "savepath: /Users/Jens/Dropbox/dev/research/ML/out/AsteriskK8/initbydist/16\n"
       ]
      },
      {
       "output_type": "stream",
       "stream": "stdout",
       "text": [
        "        1/50 after      0 sec. | K    8 | ev -3.125350648e+06 |  \n"
       ]
      },
      {
       "output_type": "stream",
       "stream": "stdout",
       "text": [
        "        2/50 after      0 sec. | K    8 | ev -3.381443140e-01 | Ndiff    492.239 \n"
       ]
      },
      {
       "output_type": "stream",
       "stream": "stdout",
       "text": [
        "        3/50 after      0 sec. | K    8 | ev -1.449178088e-01 | Ndiff    209.432 \n"
       ]
      },
      {
       "output_type": "stream",
       "stream": "stdout",
       "text": [
        "        4/50 after      0 sec. | K    8 | ev -1.398699499e-01 | Ndiff     44.732 \n"
       ]
      },
      {
       "output_type": "stream",
       "stream": "stdout",
       "text": [
        "        5/50 after      0 sec. | K    8 | ev -1.390525696e-01 | Ndiff     19.520 \n"
       ]
      },
      {
       "output_type": "stream",
       "stream": "stdout",
       "text": [
        "        6/50 after      0 sec. | K    8 | ev -1.386461389e-01 | Ndiff     30.156 \n"
       ]
      },
      {
       "output_type": "stream",
       "stream": "stdout",
       "text": [
        "        7/50 after      0 sec. | K    8 | ev -1.379763696e-01 | Ndiff     52.858 \n"
       ]
      },
      {
       "output_type": "stream",
       "stream": "stdout",
       "text": [
        "        8/50 after      0 sec. | K    8 | ev -1.363119722e-01 | Ndiff    107.406 \n"
       ]
      },
      {
       "output_type": "stream",
       "stream": "stdout",
       "text": [
        "        9/50 after      0 sec. | K    8 | ev -1.312779635e-01 | Ndiff    228.279 \n"
       ]
      },
      {
       "output_type": "stream",
       "stream": "stdout",
       "text": [
        "       10/50 after      0 sec. | K    8 | ev -1.163086417e-01 | Ndiff    353.430 \n"
       ]
      },
      {
       "output_type": "stream",
       "stream": "stdout",
       "text": [
        "       11/50 after      0 sec. | K    8 | ev -7.797597524e-02 | Ndiff    341.030 \n"
       ]
      },
      {
       "output_type": "stream",
       "stream": "stdout",
       "text": [
        "       12/50 after      0 sec. | K    8 | ev  1.168125339e-02 | Ndiff    149.492 \n"
       ]
      },
      {
       "output_type": "stream",
       "stream": "stdout",
       "text": [
        "       13/50 after      0 sec. | K    8 | ev  1.067634284e-01 | Ndiff      9.134 \n"
       ]
      },
      {
       "output_type": "stream",
       "stream": "stdout",
       "text": [
        "       14/50 after      0 sec. | K    8 | ev  1.084158082e-01 | Ndiff      0.060 \n"
       ]
      },
      {
       "output_type": "stream",
       "stream": "stdout",
       "text": [
        "       15/50 after      0 sec. | K    8 | ev  1.084158115e-01 | Ndiff      0.001 \n"
       ]
      },
      {
       "output_type": "stream",
       "stream": "stdout",
       "text": [
        "... done. converged.\n"
       ]
      },
      {
       "output_type": "stream",
       "stream": "stdout",
       "text": [
        "Trial 17/25 | alg. seed: 1586944 | data order seed: 9034368\n"
       ]
      },
      {
       "output_type": "stream",
       "stream": "stdout",
       "text": [
        "savepath: /Users/Jens/Dropbox/dev/research/ML/out/AsteriskK8/initbydist/17\n"
       ]
      },
      {
       "output_type": "stream",
       "stream": "stdout",
       "text": [
        "        1/50 after      0 sec. | K    8 | ev -3.963839667e+06 |  \n"
       ]
      },
      {
       "output_type": "stream",
       "stream": "stdout",
       "text": [
        "        2/50 after      0 sec. | K    8 | ev -6.489619719e-01 | Ndiff    317.206 \n"
       ]
      },
      {
       "output_type": "stream",
       "stream": "stdout",
       "text": [
        "        3/50 after      0 sec. | K    8 | ev -4.214506703e-01 | Ndiff    272.975 \n"
       ]
      },
      {
       "output_type": "stream",
       "stream": "stdout",
       "text": [
        "        4/50 after      0 sec. | K    8 | ev -2.233521446e-01 | Ndiff    486.108 \n"
       ]
      },
      {
       "output_type": "stream",
       "stream": "stdout",
       "text": [
        "        5/50 after      0 sec. | K    8 | ev -1.950923730e-01 | Ndiff    222.368 \n"
       ]
      },
      {
       "output_type": "stream",
       "stream": "stdout",
       "text": [
        "        6/50 after      0 sec. | K    8 | ev -1.611756355e-01 | Ndiff     61.482 \n"
       ]
      },
      {
       "output_type": "stream",
       "stream": "stdout",
       "text": [
        "        7/50 after      0 sec. | K    8 | ev -1.402837948e-01 | Ndiff      3.691 \n"
       ]
      },
      {
       "output_type": "stream",
       "stream": "stdout",
       "text": [
        "        8/50 after      0 sec. | K    8 | ev -1.402193679e-01 | Ndiff      0.849 \n"
       ]
      },
      {
       "output_type": "stream",
       "stream": "stdout",
       "text": [
        "        9/50 after      0 sec. | K    8 | ev -1.402028381e-01 | Ndiff      0.583 \n"
       ]
      },
      {
       "output_type": "stream",
       "stream": "stdout",
       "text": [
        "       10/50 after      0 sec. | K    8 | ev -1.401907434e-01 | Ndiff      0.447 \n"
       ]
      },
      {
       "output_type": "stream",
       "stream": "stdout",
       "text": [
        "       11/50 after      0 sec. | K    8 | ev -1.401814929e-01 | Ndiff      0.361 \n"
       ]
      },
      {
       "output_type": "stream",
       "stream": "stdout",
       "text": [
        "       12/50 after      0 sec. | K    8 | ev -1.401742083e-01 | Ndiff      0.299 \n"
       ]
      },
      {
       "output_type": "stream",
       "stream": "stdout",
       "text": [
        "       13/50 after      0 sec. | K    8 | ev -1.401683413e-01 | Ndiff      0.251 \n"
       ]
      },
      {
       "output_type": "stream",
       "stream": "stdout",
       "text": [
        "       14/50 after      0 sec. | K    8 | ev -1.401635283e-01 | Ndiff      0.213 \n"
       ]
      },
      {
       "output_type": "stream",
       "stream": "stdout",
       "text": [
        "       15/50 after      1 sec. | K    8 | ev -1.401595182e-01 | Ndiff      0.182 \n"
       ]
      },
      {
       "output_type": "stream",
       "stream": "stdout",
       "text": [
        "       16/50 after      1 sec. | K    8 | ev -1.401561317e-01 | Ndiff      0.155 \n"
       ]
      },
      {
       "output_type": "stream",
       "stream": "stdout",
       "text": [
        "       17/50 after      1 sec. | K    8 | ev -1.401532380e-01 | Ndiff      0.133 \n"
       ]
      },
      {
       "output_type": "stream",
       "stream": "stdout",
       "text": [
        "       18/50 after      1 sec. | K    8 | ev -1.401507398e-01 | Ndiff      0.113 \n"
       ]
      },
      {
       "output_type": "stream",
       "stream": "stdout",
       "text": [
        "       19/50 after      1 sec. | K    8 | ev -1.401485632e-01 | Ndiff      0.096 \n"
       ]
      },
      {
       "output_type": "stream",
       "stream": "stdout",
       "text": [
        "       20/50 after      1 sec. | K    8 | ev -1.401466513e-01 | Ndiff      0.081 \n"
       ]
      },
      {
       "output_type": "stream",
       "stream": "stdout",
       "text": [
        "       21/50 after      1 sec. | K    8 | ev -1.401449599e-01 | Ndiff      0.068 \n"
       ]
      },
      {
       "output_type": "stream",
       "stream": "stdout",
       "text": [
        "       22/50 after      1 sec. | K    8 | ev -1.401434539e-01 | Ndiff      0.055 \n"
       ]
      },
      {
       "output_type": "stream",
       "stream": "stdout",
       "text": [
        "       23/50 after      1 sec. | K    8 | ev -1.401421053e-01 | Ndiff      0.044 \n"
       ]
      },
      {
       "output_type": "stream",
       "stream": "stdout",
       "text": [
        "... done. converged.\n"
       ]
      },
      {
       "output_type": "stream",
       "stream": "stdout",
       "text": [
        "Trial 18/25 | alg. seed: 7368064 | data order seed: 9882240\n"
       ]
      },
      {
       "output_type": "stream",
       "stream": "stdout",
       "text": [
        "savepath: /Users/Jens/Dropbox/dev/research/ML/out/AsteriskK8/initbydist/18\n"
       ]
      },
      {
       "output_type": "stream",
       "stream": "stdout",
       "text": [
        "        1/50 after      0 sec. | K    8 | ev -3.319383460e+06 |  \n"
       ]
      },
      {
       "output_type": "stream",
       "stream": "stdout",
       "text": [
        "        2/50 after      0 sec. | K    8 | ev -3.745618621e-01 | Ndiff    650.778 \n"
       ]
      },
      {
       "output_type": "stream",
       "stream": "stdout",
       "text": [
        "        3/50 after      0 sec. | K    8 | ev -2.698241628e-01 | Ndiff    751.843 \n"
       ]
      },
      {
       "output_type": "stream",
       "stream": "stdout",
       "text": [
        "        4/50 after      0 sec. | K    8 | ev -1.517548444e-01 | Ndiff    891.003 \n"
       ]
      },
      {
       "output_type": "stream",
       "stream": "stdout",
       "text": [
        "        5/50 after      0 sec. | K    8 | ev -1.297987464e-02 | Ndiff    741.964 \n"
       ]
      },
      {
       "output_type": "stream",
       "stream": "stdout",
       "text": [
        "        6/50 after      0 sec. | K    8 | ev  3.301632482e-02 | Ndiff    414.099 \n"
       ]
      },
      {
       "output_type": "stream",
       "stream": "stdout",
       "text": [
        "        7/50 after      0 sec. | K    8 | ev  5.998838637e-02 | Ndiff    172.929 \n"
       ]
      },
      {
       "output_type": "stream",
       "stream": "stdout",
       "text": [
        "        8/50 after      0 sec. | K    8 | ev  9.806713857e-02 | Ndiff     30.801 \n"
       ]
      },
      {
       "output_type": "stream",
       "stream": "stdout",
       "text": [
        "        9/50 after      0 sec. | K    8 | ev  1.084135908e-01 | Ndiff      1.305 \n"
       ]
      },
      {
       "output_type": "stream",
       "stream": "stdout",
       "text": [
        "       10/50 after      0 sec. | K    8 | ev  1.084158099e-01 | Ndiff      0.044 \n"
       ]
      },
      {
       "output_type": "stream",
       "stream": "stdout",
       "text": [
        "... done. converged.\n"
       ]
      },
      {
       "output_type": "stream",
       "stream": "stdout",
       "text": [
        "Trial 19/25 | alg. seed: 3273984 | data order seed: 3803392\n"
       ]
      },
      {
       "output_type": "stream",
       "stream": "stdout",
       "text": [
        "savepath: /Users/Jens/Dropbox/dev/research/ML/out/AsteriskK8/initbydist/19\n"
       ]
      },
      {
       "output_type": "stream",
       "stream": "stdout",
       "text": [
        "        1/50 after      0 sec. | K    8 | ev -4.163920392e+06 |  \n"
       ]
      },
      {
       "output_type": "stream",
       "stream": "stdout",
       "text": [
        "        2/50 after      0 sec. | K    8 | ev -5.418352388e-01 | Ndiff    839.115 \n"
       ]
      },
      {
       "output_type": "stream",
       "stream": "stdout",
       "text": [
        "        3/50 after      0 sec. | K    8 | ev -3.367559763e-01 | Ndiff    477.115 \n"
       ]
      },
      {
       "output_type": "stream",
       "stream": "stdout",
       "text": [
        "        4/50 after      0 sec. | K    8 | ev -2.204554821e-01 | Ndiff    316.887 \n"
       ]
      },
      {
       "output_type": "stream",
       "stream": "stdout",
       "text": [
        "        5/50 after      0 sec. | K    8 | ev -1.904144361e-01 | Ndiff    159.032 \n"
       ]
      },
      {
       "output_type": "stream",
       "stream": "stdout",
       "text": [
        "        6/50 after      0 sec. | K    8 | ev -1.507051294e-01 | Ndiff     35.168 \n"
       ]
      },
      {
       "output_type": "stream",
       "stream": "stdout",
       "text": [
        "        7/50 after      0 sec. | K    8 | ev -1.385563965e-01 | Ndiff      7.650 \n"
       ]
      },
      {
       "output_type": "stream",
       "stream": "stdout",
       "text": [
        "        8/50 after      0 sec. | K    8 | ev -1.384659519e-01 | Ndiff      3.021 \n"
       ]
      },
      {
       "output_type": "stream",
       "stream": "stdout",
       "text": [
        "        9/50 after      0 sec. | K    8 | ev -1.384348853e-01 | Ndiff      1.261 \n"
       ]
      },
      {
       "output_type": "stream",
       "stream": "stdout",
       "text": [
        "       10/50 after      0 sec. | K    8 | ev -1.384229851e-01 | Ndiff      0.562 \n"
       ]
      },
      {
       "output_type": "stream",
       "stream": "stdout",
       "text": [
        "       11/50 after      0 sec. | K    8 | ev -1.384181340e-01 | Ndiff      0.273 \n"
       ]
      },
      {
       "output_type": "stream",
       "stream": "stdout",
       "text": [
        "       12/50 after      0 sec. | K    8 | ev -1.384157110e-01 | Ndiff      0.127 \n"
       ]
      },
      {
       "output_type": "stream",
       "stream": "stdout",
       "text": [
        "       13/50 after      0 sec. | K    8 | ev -1.384142741e-01 | Ndiff      0.039 \n"
       ]
      },
      {
       "output_type": "stream",
       "stream": "stdout",
       "text": [
        "... done. converged.\n"
       ]
      },
      {
       "output_type": "stream",
       "stream": "stdout",
       "text": [
        "Trial 20/25 | alg. seed: 8001920 | data order seed: 1715072\n"
       ]
      },
      {
       "output_type": "stream",
       "stream": "stdout",
       "text": [
        "savepath: /Users/Jens/Dropbox/dev/research/ML/out/AsteriskK8/initbydist/20\n"
       ]
      },
      {
       "output_type": "stream",
       "stream": "stdout",
       "text": [
        "        1/50 after      0 sec. | K    8 | ev -5.100132193e+06 |  \n"
       ]
      },
      {
       "output_type": "stream",
       "stream": "stdout",
       "text": [
        "        2/50 after      0 sec. | K    8 | ev -3.666622785e-01 | Ndiff    531.162 \n"
       ]
      },
      {
       "output_type": "stream",
       "stream": "stdout",
       "text": [
        "        3/50 after      0 sec. | K    8 | ev -2.370333305e-01 | Ndiff    553.978 \n"
       ]
      },
      {
       "output_type": "stream",
       "stream": "stdout",
       "text": [
        "        4/50 after      0 sec. | K    8 | ev -1.617991173e-01 | Ndiff    308.218 \n"
       ]
      },
      {
       "output_type": "stream",
       "stream": "stdout",
       "text": [
        "        5/50 after      0 sec. | K    8 | ev -1.436807521e-01 | Ndiff    132.872 \n"
       ]
      },
      {
       "output_type": "stream",
       "stream": "stdout",
       "text": [
        "        6/50 after      0 sec. | K    8 | ev -1.416890904e-01 | Ndiff     52.193 \n"
       ]
      },
      {
       "output_type": "stream",
       "stream": "stdout",
       "text": [
        "        7/50 after      0 sec. | K    8 | ev -1.410141757e-01 | Ndiff     20.451 \n"
       ]
      },
      {
       "output_type": "stream",
       "stream": "stdout",
       "text": [
        "        8/50 after      0 sec. | K    8 | ev -1.407730085e-01 | Ndiff      8.427 \n"
       ]
      },
      {
       "output_type": "stream",
       "stream": "stdout",
       "text": [
        "        9/50 after      0 sec. | K    8 | ev -1.406798987e-01 | Ndiff      3.697 \n"
       ]
      },
      {
       "output_type": "stream",
       "stream": "stdout",
       "text": [
        "       10/50 after      0 sec. | K    8 | ev -1.406411222e-01 | Ndiff      1.717 \n"
       ]
      },
      {
       "output_type": "stream",
       "stream": "stdout",
       "text": [
        "       11/50 after      0 sec. | K    8 | ev -1.406237323e-01 | Ndiff      0.830 \n"
       ]
      },
      {
       "output_type": "stream",
       "stream": "stdout",
       "text": [
        "       12/50 after      0 sec. | K    8 | ev -1.406151813e-01 | Ndiff      0.395 \n"
       ]
      },
      {
       "output_type": "stream",
       "stream": "stdout",
       "text": [
        "       13/50 after      0 sec. | K    8 | ev -1.406104402e-01 | Ndiff      0.155 \n"
       ]
      },
      {
       "output_type": "stream",
       "stream": "stdout",
       "text": [
        "       14/50 after      0 sec. | K    8 | ev -1.406075288e-01 | Ndiff      0.150 \n"
       ]
      },
      {
       "output_type": "stream",
       "stream": "stdout",
       "text": [
        "       15/50 after      0 sec. | K    8 | ev -1.406051797e-01 | Ndiff      0.195 \n"
       ]
      },
      {
       "output_type": "stream",
       "stream": "stdout",
       "text": [
        "       16/50 after      0 sec. | K    8 | ev -1.406015803e-01 | Ndiff      0.315 \n"
       ]
      },
      {
       "output_type": "stream",
       "stream": "stdout",
       "text": [
        "       17/50 after      1 sec. | K    8 | ev -1.405924964e-01 | Ndiff      0.704 \n"
       ]
      },
      {
       "output_type": "stream",
       "stream": "stdout",
       "text": [
        "       18/50 after      1 sec. | K    8 | ev -1.405620808e-01 | Ndiff      2.139 \n"
       ]
      },
      {
       "output_type": "stream",
       "stream": "stdout",
       "text": [
        "       19/50 after      1 sec. | K    8 | ev -1.404108244e-01 | Ndiff      9.231 \n"
       ]
      },
      {
       "output_type": "stream",
       "stream": "stdout",
       "text": [
        "       20/50 after      1 sec. | K    8 | ev -1.394525006e-01 | Ndiff     51.272 \n"
       ]
      },
      {
       "output_type": "stream",
       "stream": "stdout",
       "text": [
        "       21/50 after      1 sec. | K    8 | ev -1.346331695e-01 | Ndiff    222.786 \n"
       ]
      },
      {
       "output_type": "stream",
       "stream": "stdout",
       "text": [
        "       22/50 after      1 sec. | K    8 | ev -1.187595358e-01 | Ndiff    601.907 \n"
       ]
      },
      {
       "output_type": "stream",
       "stream": "stdout",
       "text": [
        "       23/50 after      1 sec. | K    8 | ev -8.613046084e-02 | Ndiff   1027.886 \n"
       ]
      },
      {
       "output_type": "stream",
       "stream": "stdout",
       "text": [
        "       24/50 after      1 sec. | K    8 | ev -4.154244023e-02 | Ndiff   1139.352 \n"
       ]
      },
      {
       "output_type": "stream",
       "stream": "stdout",
       "text": [
        "       25/50 after      1 sec. | K    8 | ev -3.689887830e-03 | Ndiff    736.075 \n"
       ]
      },
      {
       "output_type": "stream",
       "stream": "stdout",
       "text": [
        "       26/50 after      1 sec. | K    8 | ev  2.189830108e-02 | Ndiff    311.991 \n"
       ]
      },
      {
       "output_type": "stream",
       "stream": "stdout",
       "text": [
        "       27/50 after      1 sec. | K    8 | ev  5.508932995e-02 | Ndiff    105.076 \n"
       ]
      },
      {
       "output_type": "stream",
       "stream": "stdout",
       "text": [
        "       28/50 after      1 sec. | K    8 | ev  1.051027060e-01 | Ndiff     10.551 \n"
       ]
      },
      {
       "output_type": "stream",
       "stream": "stdout",
       "text": [
        "       29/50 after      1 sec. | K    8 | ev  1.084157985e-01 | Ndiff      0.146 \n"
       ]
      },
      {
       "output_type": "stream",
       "stream": "stdout",
       "text": [
        "       30/50 after      1 sec. | K    8 | ev  1.084158115e-01 | Ndiff      0.003 \n"
       ]
      },
      {
       "output_type": "stream",
       "stream": "stdout",
       "text": [
        "... done. converged.\n"
       ]
      },
      {
       "output_type": "stream",
       "stream": "stdout",
       "text": [
        "Trial 21/25 | alg. seed: 2647168 | data order seed: 6033536\n"
       ]
      },
      {
       "output_type": "stream",
       "stream": "stdout",
       "text": [
        "savepath: /Users/Jens/Dropbox/dev/research/ML/out/AsteriskK8/initbydist/21\n"
       ]
      },
      {
       "output_type": "stream",
       "stream": "stdout",
       "text": [
        "        1/50 after      0 sec. | K    8 | ev -5.252832122e+06 |  \n"
       ]
      },
      {
       "output_type": "stream",
       "stream": "stdout",
       "text": [
        "        2/50 after      0 sec. | K    8 | ev -6.367126253e-01 | Ndiff    463.705 \n"
       ]
      },
      {
       "output_type": "stream",
       "stream": "stdout",
       "text": [
        "        3/50 after      0 sec. | K    8 | ev -3.894149572e-01 | Ndiff    674.276 \n"
       ]
      },
      {
       "output_type": "stream",
       "stream": "stdout",
       "text": [
        "        4/50 after      0 sec. | K    8 | ev -2.874440951e-01 | Ndiff    531.948 \n"
       ]
      },
      {
       "output_type": "stream",
       "stream": "stdout",
       "text": [
        "        5/50 after      0 sec. | K    8 | ev -2.164903920e-01 | Ndiff    342.449 \n"
       ]
      },
      {
       "output_type": "stream",
       "stream": "stdout",
       "text": [
        "        6/50 after      0 sec. | K    8 | ev -1.948348247e-01 | Ndiff    199.328 \n"
       ]
      },
      {
       "output_type": "stream",
       "stream": "stdout",
       "text": [
        "        7/50 after      0 sec. | K    8 | ev -1.657297954e-01 | Ndiff    115.812 \n"
       ]
      },
      {
       "output_type": "stream",
       "stream": "stdout",
       "text": [
        "        8/50 after      0 sec. | K    8 | ev -1.412406161e-01 | Ndiff     51.853 \n"
       ]
      },
      {
       "output_type": "stream",
       "stream": "stdout",
       "text": [
        "        9/50 after      0 sec. | K    8 | ev -1.407433267e-01 | Ndiff     32.051 \n"
       ]
      },
      {
       "output_type": "stream",
       "stream": "stdout",
       "text": [
        "       10/50 after      0 sec. | K    8 | ev -1.405606914e-01 | Ndiff     21.423 \n"
       ]
      },
      {
       "output_type": "stream",
       "stream": "stdout",
       "text": [
        "       11/50 after      0 sec. | K    8 | ev -1.404462521e-01 | Ndiff     14.737 \n"
       ]
      },
      {
       "output_type": "stream",
       "stream": "stdout",
       "text": [
        "       12/50 after      0 sec. | K    8 | ev -1.403712598e-01 | Ndiff     10.367 \n"
       ]
      },
      {
       "output_type": "stream",
       "stream": "stdout",
       "text": [
        "       13/50 after      0 sec. | K    8 | ev -1.403204356e-01 | Ndiff      7.431 \n"
       ]
      },
      {
       "output_type": "stream",
       "stream": "stdout",
       "text": [
        "       14/50 after      1 sec. | K    8 | ev -1.402850353e-01 | Ndiff      5.412 \n"
       ]
      },
      {
       "output_type": "stream",
       "stream": "stdout",
       "text": [
        "       15/50 after      1 sec. | K    8 | ev -1.402597923e-01 | Ndiff      3.995 \n"
       ]
      },
      {
       "output_type": "stream",
       "stream": "stdout",
       "text": [
        "       16/50 after      1 sec. | K    8 | ev -1.402414134e-01 | Ndiff      2.982 \n"
       ]
      },
      {
       "output_type": "stream",
       "stream": "stdout",
       "text": [
        "       17/50 after      1 sec. | K    8 | ev -1.402277781e-01 | Ndiff      2.246 \n"
       ]
      },
      {
       "output_type": "stream",
       "stream": "stdout",
       "text": [
        "       18/50 after      1 sec. | K    8 | ev -1.402174875e-01 | Ndiff      1.703 \n"
       ]
      },
      {
       "output_type": "stream",
       "stream": "stdout",
       "text": [
        "       19/50 after      1 sec. | K    8 | ev -1.402095987e-01 | Ndiff      1.298 \n"
       ]
      },
      {
       "output_type": "stream",
       "stream": "stdout",
       "text": [
        "       20/50 after      1 sec. | K    8 | ev -1.402034636e-01 | Ndiff      0.991 \n"
       ]
      },
      {
       "output_type": "stream",
       "stream": "stdout",
       "text": [
        "       21/50 after      1 sec. | K    8 | ev -1.401986291e-01 | Ndiff      0.757 \n"
       ]
      },
      {
       "output_type": "stream",
       "stream": "stdout",
       "text": [
        "       22/50 after      1 sec. | K    8 | ev -1.401947729e-01 | Ndiff      0.576 \n"
       ]
      },
      {
       "output_type": "stream",
       "stream": "stdout",
       "text": [
        "       23/50 after      1 sec. | K    8 | ev -1.401916623e-01 | Ndiff      0.435 \n"
       ]
      },
      {
       "output_type": "stream",
       "stream": "stdout",
       "text": [
        "       24/50 after      1 sec. | K    8 | ev -1.401891268e-01 | Ndiff      0.325 \n"
       ]
      },
      {
       "output_type": "stream",
       "stream": "stdout",
       "text": [
        "       25/50 after      1 sec. | K    8 | ev -1.401870399e-01 | Ndiff      0.237 \n"
       ]
      },
      {
       "output_type": "stream",
       "stream": "stdout",
       "text": [
        "       26/50 after      1 sec. | K    8 | ev -1.401853065e-01 | Ndiff      0.168 \n"
       ]
      },
      {
       "output_type": "stream",
       "stream": "stdout",
       "text": [
        "       27/50 after      1 sec. | K    8 | ev -1.401838542e-01 | Ndiff      0.112 \n"
       ]
      },
      {
       "output_type": "stream",
       "stream": "stdout",
       "text": [
        "       28/50 after      1 sec. | K    8 | ev -1.401826275e-01 | Ndiff      0.068 \n"
       ]
      },
      {
       "output_type": "stream",
       "stream": "stdout",
       "text": [
        "       29/50 after      1 sec. | K    8 | ev -1.401815832e-01 | Ndiff      0.032 \n"
       ]
      },
      {
       "output_type": "stream",
       "stream": "stdout",
       "text": [
        "... done. converged.\n"
       ]
      },
      {
       "output_type": "stream",
       "stream": "stdout",
       "text": [
        "Trial 22/25 | alg. seed: 6999168 | data order seed: 8644096\n"
       ]
      },
      {
       "output_type": "stream",
       "stream": "stdout",
       "text": [
        "savepath: /Users/Jens/Dropbox/dev/research/ML/out/AsteriskK8/initbydist/22\n"
       ]
      },
      {
       "output_type": "stream",
       "stream": "stdout",
       "text": [
        "        1/50 after      0 sec. | K    8 | ev -2.037811848e+06 |  \n"
       ]
      },
      {
       "output_type": "stream",
       "stream": "stdout",
       "text": [
        "        2/50 after      0 sec. | K    8 | ev -8.012230372e-03 | Ndiff    372.467 \n"
       ]
      },
      {
       "output_type": "stream",
       "stream": "stdout",
       "text": [
        "        3/50 after      0 sec. | K    8 | ev  9.142639955e-02 | Ndiff     63.435 \n"
       ]
      },
      {
       "output_type": "stream",
       "stream": "stdout",
       "text": [
        "        4/50 after      0 sec. | K    8 | ev  1.084133545e-01 | Ndiff      1.038 \n"
       ]
      },
      {
       "output_type": "stream",
       "stream": "stdout",
       "text": [
        "        5/50 after      0 sec. | K    8 | ev  1.084158115e-01 | Ndiff      0.003 \n"
       ]
      },
      {
       "output_type": "stream",
       "stream": "stdout",
       "text": [
        "... done. converged.\n"
       ]
      },
      {
       "output_type": "stream",
       "stream": "stdout",
       "text": [
        "Trial 23/25 | alg. seed: 7021184 | data order seed: 2513920\n"
       ]
      },
      {
       "output_type": "stream",
       "stream": "stdout",
       "text": [
        "savepath: /Users/Jens/Dropbox/dev/research/ML/out/AsteriskK8/initbydist/23\n"
       ]
      },
      {
       "output_type": "stream",
       "stream": "stdout",
       "text": [
        "        1/50 after      0 sec. | K    8 | ev -3.595506601e+06 |  \n"
       ]
      },
      {
       "output_type": "stream",
       "stream": "stdout",
       "text": [
        "        2/50 after      0 sec. | K    8 | ev -4.764874419e-01 | Ndiff    550.879 \n"
       ]
      },
      {
       "output_type": "stream",
       "stream": "stdout",
       "text": [
        "        3/50 after      0 sec. | K    8 | ev -3.752851286e-01 | Ndiff    748.393 \n"
       ]
      },
      {
       "output_type": "stream",
       "stream": "stdout",
       "text": [
        "        4/50 after      0 sec. | K    8 | ev -2.548588878e-01 | Ndiff    429.106 \n"
       ]
      },
      {
       "output_type": "stream",
       "stream": "stdout",
       "text": [
        "        5/50 after      0 sec. | K    8 | ev -1.916970481e-01 | Ndiff    191.365 \n"
       ]
      },
      {
       "output_type": "stream",
       "stream": "stdout",
       "text": [
        "        6/50 after      0 sec. | K    8 | ev -1.543022763e-01 | Ndiff     42.723 \n"
       ]
      },
      {
       "output_type": "stream",
       "stream": "stdout",
       "text": [
        "        7/50 after      0 sec. | K    8 | ev -1.402169054e-01 | Ndiff      3.721 \n"
       ]
      },
      {
       "output_type": "stream",
       "stream": "stdout",
       "text": [
        "        8/50 after      0 sec. | K    8 | ev -1.401983500e-01 | Ndiff      2.955 \n"
       ]
      },
      {
       "output_type": "stream",
       "stream": "stdout",
       "text": [
        "        9/50 after      0 sec. | K    8 | ev -1.401862263e-01 | Ndiff      2.401 \n"
       ]
      },
      {
       "output_type": "stream",
       "stream": "stdout",
       "text": [
        "       10/50 after      0 sec. | K    8 | ev -1.401775516e-01 | Ndiff      1.999 \n"
       ]
      },
      {
       "output_type": "stream",
       "stream": "stdout",
       "text": [
        "       11/50 after      0 sec. | K    8 | ev -1.401711396e-01 | Ndiff      1.699 \n"
       ]
      },
      {
       "output_type": "stream",
       "stream": "stdout",
       "text": [
        "       12/50 after      0 sec. | K    8 | ev -1.401662750e-01 | Ndiff      1.468 \n"
       ]
      },
      {
       "output_type": "stream",
       "stream": "stdout",
       "text": [
        "       13/50 after      0 sec. | K    8 | ev -1.401625044e-01 | Ndiff      1.287 \n"
       ]
      },
      {
       "output_type": "stream",
       "stream": "stdout",
       "text": [
        "       14/50 after      0 sec. | K    8 | ev -1.401595285e-01 | Ndiff      1.142 \n"
       ]
      },
      {
       "output_type": "stream",
       "stream": "stdout",
       "text": [
        "       15/50 after      1 sec. | K    8 | ev -1.401571434e-01 | Ndiff      1.025 \n"
       ]
      },
      {
       "output_type": "stream",
       "stream": "stdout",
       "text": [
        "       16/50 after      1 sec. | K    8 | ev -1.401552057e-01 | Ndiff      0.929 \n"
       ]
      },
      {
       "output_type": "stream",
       "stream": "stdout",
       "text": [
        "       17/50 after      1 sec. | K    8 | ev -1.401536127e-01 | Ndiff      0.848 \n"
       ]
      },
      {
       "output_type": "stream",
       "stream": "stdout",
       "text": [
        "       18/50 after      1 sec. | K    8 | ev -1.401522889e-01 | Ndiff      0.781 \n"
       ]
      },
      {
       "output_type": "stream",
       "stream": "stdout",
       "text": [
        "       19/50 after      1 sec. | K    8 | ev -1.401511779e-01 | Ndiff      0.723 \n"
       ]
      },
      {
       "output_type": "stream",
       "stream": "stdout",
       "text": [
        "       20/50 after      1 sec. | K    8 | ev -1.401502371e-01 | Ndiff      0.673 \n"
       ]
      },
      {
       "output_type": "stream",
       "stream": "stdout",
       "text": [
        "       21/50 after      1 sec. | K    8 | ev -1.401494337e-01 | Ndiff      0.630 \n"
       ]
      },
      {
       "output_type": "stream",
       "stream": "stdout",
       "text": [
        "       22/50 after      1 sec. | K    8 | ev -1.401487421e-01 | Ndiff      0.593 \n"
       ]
      },
      {
       "output_type": "stream",
       "stream": "stdout",
       "text": [
        "       23/50 after      1 sec. | K    8 | ev -1.401481421e-01 | Ndiff      0.559 \n"
       ]
      },
      {
       "output_type": "stream",
       "stream": "stdout",
       "text": [
        "       24/50 after      1 sec. | K    8 | ev -1.401476179e-01 | Ndiff      0.530 \n"
       ]
      },
      {
       "output_type": "stream",
       "stream": "stdout",
       "text": [
        "       25/50 after      1 sec. | K    8 | ev -1.401471567e-01 | Ndiff      0.504 \n"
       ]
      },
      {
       "output_type": "stream",
       "stream": "stdout",
       "text": [
        "       26/50 after      1 sec. | K    8 | ev -1.401467480e-01 | Ndiff      0.481 \n"
       ]
      },
      {
       "output_type": "stream",
       "stream": "stdout",
       "text": [
        "       27/50 after      1 sec. | K    8 | ev -1.401463834e-01 | Ndiff      0.459 \n"
       ]
      },
      {
       "output_type": "stream",
       "stream": "stdout",
       "text": [
        "       28/50 after      1 sec. | K    8 | ev -1.401460561e-01 | Ndiff      0.440 \n"
       ]
      },
      {
       "output_type": "stream",
       "stream": "stdout",
       "text": [
        "       29/50 after      1 sec. | K    8 | ev -1.401457603e-01 | Ndiff      0.423 \n"
       ]
      },
      {
       "output_type": "stream",
       "stream": "stdout",
       "text": [
        "       30/50 after      1 sec. | K    8 | ev -1.401454912e-01 | Ndiff      0.407 \n"
       ]
      },
      {
       "output_type": "stream",
       "stream": "stdout",
       "text": [
        "       31/50 after      1 sec. | K    8 | ev -1.401452450e-01 | Ndiff      0.393 \n"
       ]
      },
      {
       "output_type": "stream",
       "stream": "stdout",
       "text": [
        "       32/50 after      1 sec. | K    8 | ev -1.401450183e-01 | Ndiff      0.379 \n"
       ]
      },
      {
       "output_type": "stream",
       "stream": "stdout",
       "text": [
        "       33/50 after      1 sec. | K    8 | ev -1.401448083e-01 | Ndiff      0.367 \n"
       ]
      },
      {
       "output_type": "stream",
       "stream": "stdout",
       "text": [
        "       34/50 after      1 sec. | K    8 | ev -1.401446125e-01 | Ndiff      0.356 \n"
       ]
      },
      {
       "output_type": "stream",
       "stream": "stdout",
       "text": [
        "       35/50 after      1 sec. | K    8 | ev -1.401444291e-01 | Ndiff      0.345 \n"
       ]
      },
      {
       "output_type": "stream",
       "stream": "stdout",
       "text": [
        "       36/50 after      1 sec. | K    8 | ev -1.401442562e-01 | Ndiff      0.336 \n"
       ]
      },
      {
       "output_type": "stream",
       "stream": "stdout",
       "text": [
        "       37/50 after      1 sec. | K    8 | ev -1.401440924e-01 | Ndiff      0.327 \n"
       ]
      },
      {
       "output_type": "stream",
       "stream": "stdout",
       "text": [
        "       38/50 after      1 sec. | K    8 | ev -1.401439364e-01 | Ndiff      0.318 \n"
       ]
      },
      {
       "output_type": "stream",
       "stream": "stdout",
       "text": [
        "       39/50 after      1 sec. | K    8 | ev -1.401437872e-01 | Ndiff      0.310 \n"
       ]
      },
      {
       "output_type": "stream",
       "stream": "stdout",
       "text": [
        "       40/50 after      1 sec. | K    8 | ev -1.401436436e-01 | Ndiff      0.303 \n"
       ]
      },
      {
       "output_type": "stream",
       "stream": "stdout",
       "text": [
        "       41/50 after      1 sec. | K    8 | ev -1.401435050e-01 | Ndiff      0.296 \n"
       ]
      },
      {
       "output_type": "stream",
       "stream": "stdout",
       "text": [
        "       42/50 after      1 sec. | K    8 | ev -1.401433706e-01 | Ndiff      0.290 \n"
       ]
      },
      {
       "output_type": "stream",
       "stream": "stdout",
       "text": [
        "       43/50 after      1 sec. | K    8 | ev -1.401432398e-01 | Ndiff      0.283 \n"
       ]
      },
      {
       "output_type": "stream",
       "stream": "stdout",
       "text": [
        "       44/50 after      2 sec. | K    8 | ev -1.401431119e-01 | Ndiff      0.278 \n"
       ]
      },
      {
       "output_type": "stream",
       "stream": "stdout",
       "text": [
        "       45/50 after      2 sec. | K    8 | ev -1.401429866e-01 | Ndiff      0.272 \n"
       ]
      },
      {
       "output_type": "stream",
       "stream": "stdout",
       "text": [
        "       46/50 after      2 sec. | K    8 | ev -1.401428633e-01 | Ndiff      0.267 \n"
       ]
      },
      {
       "output_type": "stream",
       "stream": "stdout",
       "text": [
        "       47/50 after      2 sec. | K    8 | ev -1.401427418e-01 | Ndiff      0.262 \n"
       ]
      },
      {
       "output_type": "stream",
       "stream": "stdout",
       "text": [
        "       48/50 after      2 sec. | K    8 | ev -1.401426216e-01 | Ndiff      0.258 \n"
       ]
      },
      {
       "output_type": "stream",
       "stream": "stdout",
       "text": [
        "       49/50 after      2 sec. | K    8 | ev -1.401425024e-01 | Ndiff      0.254 \n"
       ]
      },
      {
       "output_type": "stream",
       "stream": "stdout",
       "text": [
        "       50/50 after      2 sec. | K    8 | ev -1.401423840e-01 | Ndiff      0.250 \n"
       ]
      },
      {
       "output_type": "stream",
       "stream": "stdout",
       "text": [
        "... done. not converged. max laps thru data exceeded.\n"
       ]
      },
      {
       "output_type": "stream",
       "stream": "stdout",
       "text": [
        "Trial 24/25 | alg. seed: 2030208 | data order seed: 6039296\n"
       ]
      },
      {
       "output_type": "stream",
       "stream": "stdout",
       "text": [
        "savepath: /Users/Jens/Dropbox/dev/research/ML/out/AsteriskK8/initbydist/24\n"
       ]
      },
      {
       "output_type": "stream",
       "stream": "stdout",
       "text": [
        "        1/50 after      0 sec. | K    8 | ev -6.127469055e+06 |  \n"
       ]
      },
      {
       "output_type": "stream",
       "stream": "stdout",
       "text": [
        "        2/50 after      0 sec. | K    8 | ev -6.437557962e-01 | Ndiff    151.086 \n"
       ]
      },
      {
       "output_type": "stream",
       "stream": "stdout",
       "text": [
        "        3/50 after      0 sec. | K    8 | ev -5.854980637e-01 | Ndiff    331.807 \n"
       ]
      },
      {
       "output_type": "stream",
       "stream": "stdout",
       "text": [
        "        4/50 after      0 sec. | K    8 | ev -4.861181002e-01 | Ndiff    718.411 \n"
       ]
      },
      {
       "output_type": "stream",
       "stream": "stdout",
       "text": [
        "        5/50 after      0 sec. | K    8 | ev -4.549852458e-01 | Ndiff    310.138 \n"
       ]
      },
      {
       "output_type": "stream",
       "stream": "stdout",
       "text": [
        "        6/50 after      0 sec. | K    8 | ev -4.280302886e-01 | Ndiff    275.875 \n"
       ]
      },
      {
       "output_type": "stream",
       "stream": "stdout",
       "text": [
        "        7/50 after      0 sec. | K    8 | ev -3.564223039e-01 | Ndiff    448.982 \n"
       ]
      },
      {
       "output_type": "stream",
       "stream": "stdout",
       "text": [
        "        8/50 after      0 sec. | K    8 | ev -2.912552831e-01 | Ndiff    258.757 \n"
       ]
      },
      {
       "output_type": "stream",
       "stream": "stdout",
       "text": [
        "        9/50 after      0 sec. | K    8 | ev -2.017959968e-01 | Ndiff    159.380 \n"
       ]
      },
      {
       "output_type": "stream",
       "stream": "stdout",
       "text": [
        "       10/50 after      0 sec. | K    8 | ev -1.665218537e-01 | Ndiff     93.369 \n"
       ]
      },
      {
       "output_type": "stream",
       "stream": "stdout",
       "text": [
        "       11/50 after      0 sec. | K    8 | ev -1.395277552e-01 | Ndiff     13.239 \n"
       ]
      },
      {
       "output_type": "stream",
       "stream": "stdout",
       "text": [
        "       12/50 after      0 sec. | K    8 | ev -1.380674515e-01 | Ndiff      5.031 \n"
       ]
      },
      {
       "output_type": "stream",
       "stream": "stdout",
       "text": [
        "       13/50 after      0 sec. | K    8 | ev -1.380483783e-01 | Ndiff      3.965 \n"
       ]
      },
      {
       "output_type": "stream",
       "stream": "stdout",
       "text": [
        "       14/50 after      0 sec. | K    8 | ev -1.380391154e-01 | Ndiff      3.538 \n"
       ]
      },
      {
       "output_type": "stream",
       "stream": "stdout",
       "text": [
        "       15/50 after      0 sec. | K    8 | ev -1.380316139e-01 | Ndiff      3.184 \n"
       ]
      },
      {
       "output_type": "stream",
       "stream": "stdout",
       "text": [
        "       16/50 after      1 sec. | K    8 | ev -1.380253744e-01 | Ndiff      2.886 \n"
       ]
      },
      {
       "output_type": "stream",
       "stream": "stdout",
       "text": [
        "       17/50 after      1 sec. | K    8 | ev -1.380201238e-01 | Ndiff      2.635 \n"
       ]
      },
      {
       "output_type": "stream",
       "stream": "stdout",
       "text": [
        "       18/50 after      1 sec. | K    8 | ev -1.380156607e-01 | Ndiff      2.420 \n"
       ]
      },
      {
       "output_type": "stream",
       "stream": "stdout",
       "text": [
        "       19/50 after      1 sec. | K    8 | ev -1.380118325e-01 | Ndiff      2.235 \n"
       ]
      },
      {
       "output_type": "stream",
       "stream": "stdout",
       "text": [
        "       20/50 after      1 sec. | K    8 | ev -1.380085217e-01 | Ndiff      2.074 \n"
       ]
      },
      {
       "output_type": "stream",
       "stream": "stdout",
       "text": [
        "       21/50 after      1 sec. | K    8 | ev -1.380056368e-01 | Ndiff      1.934 \n"
       ]
      },
      {
       "output_type": "stream",
       "stream": "stdout",
       "text": [
        "       22/50 after      1 sec. | K    8 | ev -1.380031053e-01 | Ndiff      1.812 \n"
       ]
      },
      {
       "output_type": "stream",
       "stream": "stdout",
       "text": [
        "       23/50 after      1 sec. | K    8 | ev -1.380008693e-01 | Ndiff      1.703 \n"
       ]
      },
      {
       "output_type": "stream",
       "stream": "stdout",
       "text": [
        "       24/50 after      1 sec. | K    8 | ev -1.379988823e-01 | Ndiff      1.607 \n"
       ]
      },
      {
       "output_type": "stream",
       "stream": "stdout",
       "text": [
        "       25/50 after      1 sec. | K    8 | ev -1.379971062e-01 | Ndiff      1.521 \n"
       ]
      },
      {
       "output_type": "stream",
       "stream": "stdout",
       "text": [
        "       26/50 after      1 sec. | K    8 | ev -1.379955101e-01 | Ndiff      1.445 \n"
       ]
      },
      {
       "output_type": "stream",
       "stream": "stdout",
       "text": [
        "       27/50 after      1 sec. | K    8 | ev -1.379940682e-01 | Ndiff      1.376 \n"
       ]
      },
      {
       "output_type": "stream",
       "stream": "stdout",
       "text": [
        "       28/50 after      1 sec. | K    8 | ev -1.379927592e-01 | Ndiff      1.313 \n"
       ]
      },
      {
       "output_type": "stream",
       "stream": "stdout",
       "text": [
        "       29/50 after      1 sec. | K    8 | ev -1.379915653e-01 | Ndiff      1.257 \n"
       ]
      },
      {
       "output_type": "stream",
       "stream": "stdout",
       "text": [
        "       30/50 after      1 sec. | K    8 | ev -1.379904714e-01 | Ndiff      1.206 \n"
       ]
      },
      {
       "output_type": "stream",
       "stream": "stdout",
       "text": [
        "       31/50 after      1 sec. | K    8 | ev -1.379894650e-01 | Ndiff      1.159 \n"
       ]
      },
      {
       "output_type": "stream",
       "stream": "stdout",
       "text": [
        "       32/50 after      1 sec. | K    8 | ev -1.379885353e-01 | Ndiff      1.116 \n"
       ]
      },
      {
       "output_type": "stream",
       "stream": "stdout",
       "text": [
        "       33/50 after      1 sec. | K    8 | ev -1.379876733e-01 | Ndiff      1.077 \n"
       ]
      },
      {
       "output_type": "stream",
       "stream": "stdout",
       "text": [
        "       34/50 after      1 sec. | K    8 | ev -1.379868710e-01 | Ndiff      1.041 \n"
       ]
      },
      {
       "output_type": "stream",
       "stream": "stdout",
       "text": [
        "       35/50 after      1 sec. | K    8 | ev -1.379861218e-01 | Ndiff      1.007 \n"
       ]
      },
      {
       "output_type": "stream",
       "stream": "stdout",
       "text": [
        "       36/50 after      1 sec. | K    8 | ev -1.379854200e-01 | Ndiff      0.976 \n"
       ]
      },
      {
       "output_type": "stream",
       "stream": "stdout",
       "text": [
        "       37/50 after      1 sec. | K    8 | ev -1.379847607e-01 | Ndiff      0.948 \n"
       ]
      },
      {
       "output_type": "stream",
       "stream": "stdout",
       "text": [
        "       38/50 after      1 sec. | K    8 | ev -1.379841394e-01 | Ndiff      0.921 \n"
       ]
      },
      {
       "output_type": "stream",
       "stream": "stdout",
       "text": [
        "       39/50 after      1 sec. | K    8 | ev -1.379835526e-01 | Ndiff      0.896 \n"
       ]
      },
      {
       "output_type": "stream",
       "stream": "stdout",
       "text": [
        "       40/50 after      1 sec. | K    8 | ev -1.379829969e-01 | Ndiff      0.872 \n"
       ]
      },
      {
       "output_type": "stream",
       "stream": "stdout",
       "text": [
        "       41/50 after      1 sec. | K    8 | ev -1.379824695e-01 | Ndiff      0.850 \n"
       ]
      },
      {
       "output_type": "stream",
       "stream": "stdout",
       "text": [
        "       42/50 after      1 sec. | K    8 | ev -1.379819680e-01 | Ndiff      0.829 \n"
       ]
      },
      {
       "output_type": "stream",
       "stream": "stdout",
       "text": [
        "       43/50 after      1 sec. | K    8 | ev -1.379814901e-01 | Ndiff      0.810 \n"
       ]
      },
      {
       "output_type": "stream",
       "stream": "stdout",
       "text": [
        "       44/50 after      1 sec. | K    8 | ev -1.379810341e-01 | Ndiff      0.791 \n"
       ]
      },
      {
       "output_type": "stream",
       "stream": "stdout",
       "text": [
        "       45/50 after      1 sec. | K    8 | ev -1.379805981e-01 | Ndiff      0.774 \n"
       ]
      },
      {
       "output_type": "stream",
       "stream": "stdout",
       "text": [
        "       46/50 after      1 sec. | K    8 | ev -1.379801808e-01 | Ndiff      0.757 \n"
       ]
      },
      {
       "output_type": "stream",
       "stream": "stdout",
       "text": [
        "       47/50 after      2 sec. | K    8 | ev -1.379797807e-01 | Ndiff      0.741 \n"
       ]
      },
      {
       "output_type": "stream",
       "stream": "stdout",
       "text": [
        "       48/50 after      2 sec. | K    8 | ev -1.379793967e-01 | Ndiff      0.726 \n"
       ]
      },
      {
       "output_type": "stream",
       "stream": "stdout",
       "text": [
        "       49/50 after      2 sec. | K    8 | ev -1.379790278e-01 | Ndiff      0.712 \n"
       ]
      },
      {
       "output_type": "stream",
       "stream": "stdout",
       "text": [
        "       50/50 after      2 sec. | K    8 | ev -1.379786730e-01 | Ndiff      0.698 \n"
       ]
      },
      {
       "output_type": "stream",
       "stream": "stdout",
       "text": [
        "... done. not converged. max laps thru data exceeded.\n"
       ]
      },
      {
       "output_type": "stream",
       "stream": "stdout",
       "text": [
        "Trial 25/25 | alg. seed: 9567360 | data order seed: 7907200\n"
       ]
      },
      {
       "output_type": "stream",
       "stream": "stdout",
       "text": [
        "savepath: /Users/Jens/Dropbox/dev/research/ML/out/AsteriskK8/initbydist/25\n"
       ]
      },
      {
       "output_type": "stream",
       "stream": "stdout",
       "text": [
        "        1/50 after      0 sec. | K    8 | ev -7.349069947e+06 |  \n"
       ]
      },
      {
       "output_type": "stream",
       "stream": "stdout",
       "text": [
        "        2/50 after      0 sec. | K    8 | ev -8.305545776e-01 | Ndiff    396.229 \n"
       ]
      },
      {
       "output_type": "stream",
       "stream": "stdout",
       "text": [
        "        3/50 after      0 sec. | K    8 | ev -7.047083875e-01 | Ndiff    323.228 \n"
       ]
      },
      {
       "output_type": "stream",
       "stream": "stdout",
       "text": [
        "        4/50 after      0 sec. | K    8 | ev -6.532728143e-01 | Ndiff    246.121 \n"
       ]
      },
      {
       "output_type": "stream",
       "stream": "stdout",
       "text": [
        "        5/50 after      0 sec. | K    8 | ev -6.408285034e-01 | Ndiff    238.473 \n"
       ]
      },
      {
       "output_type": "stream",
       "stream": "stdout",
       "text": [
        "        6/50 after      0 sec. | K    8 | ev -6.294506628e-01 | Ndiff    391.358 \n"
       ]
      },
      {
       "output_type": "stream",
       "stream": "stdout",
       "text": [
        "        7/50 after      0 sec. | K    8 | ev -6.036049933e-01 | Ndiff    746.717 \n"
       ]
      },
      {
       "output_type": "stream",
       "stream": "stdout",
       "text": [
        "        8/50 after      0 sec. | K    8 | ev -5.224260438e-01 | Ndiff   1125.406 \n"
       ]
      },
      {
       "output_type": "stream",
       "stream": "stdout",
       "text": [
        "        9/50 after      0 sec. | K    8 | ev -4.049809344e-01 | Ndiff    501.321 \n"
       ]
      },
      {
       "output_type": "stream",
       "stream": "stdout",
       "text": [
        "       10/50 after      0 sec. | K    8 | ev -3.850207931e-01 | Ndiff    101.785 \n"
       ]
      },
      {
       "output_type": "stream",
       "stream": "stdout",
       "text": [
        "       11/50 after      0 sec. | K    8 | ev -3.803078391e-01 | Ndiff     42.553 \n"
       ]
      },
      {
       "output_type": "stream",
       "stream": "stdout",
       "text": [
        "       12/50 after      0 sec. | K    8 | ev -3.760146895e-01 | Ndiff     50.240 \n"
       ]
      },
      {
       "output_type": "stream",
       "stream": "stdout",
       "text": [
        "       13/50 after      0 sec. | K    8 | ev -3.685056583e-01 | Ndiff     70.532 \n"
       ]
      },
      {
       "output_type": "stream",
       "stream": "stdout",
       "text": [
        "       14/50 after      0 sec. | K    8 | ev -3.522116590e-01 | Ndiff    113.707 \n"
       ]
      },
      {
       "output_type": "stream",
       "stream": "stdout",
       "text": [
        "       15/50 after      0 sec. | K    8 | ev -3.094236722e-01 | Ndiff    184.701 \n"
       ]
      },
      {
       "output_type": "stream",
       "stream": "stdout",
       "text": [
        "       16/50 after      0 sec. | K    8 | ev -2.187006368e-01 | Ndiff    142.198 \n"
       ]
      },
      {
       "output_type": "stream",
       "stream": "stdout",
       "text": [
        "       17/50 after      1 sec. | K    8 | ev -1.565110911e-01 | Ndiff     16.103 \n"
       ]
      },
      {
       "output_type": "stream",
       "stream": "stdout",
       "text": [
        "       18/50 after      1 sec. | K    8 | ev -1.413489102e-01 | Ndiff      2.694 \n"
       ]
      },
      {
       "output_type": "stream",
       "stream": "stdout",
       "text": [
        "       19/50 after      1 sec. | K    8 | ev -1.413447531e-01 | Ndiff      2.435 \n"
       ]
      },
      {
       "output_type": "stream",
       "stream": "stdout",
       "text": [
        "       20/50 after      1 sec. | K    8 | ev -1.413415143e-01 | Ndiff      2.214 \n"
       ]
      },
      {
       "output_type": "stream",
       "stream": "stdout",
       "text": [
        "       21/50 after      1 sec. | K    8 | ev -1.413387175e-01 | Ndiff      2.021 \n"
       ]
      },
      {
       "output_type": "stream",
       "stream": "stdout",
       "text": [
        "       22/50 after      1 sec. | K    8 | ev -1.413362831e-01 | Ndiff      1.851 \n"
       ]
      },
      {
       "output_type": "stream",
       "stream": "stdout",
       "text": [
        "       23/50 after      1 sec. | K    8 | ev -1.413341491e-01 | Ndiff      1.701 \n"
       ]
      },
      {
       "output_type": "stream",
       "stream": "stdout",
       "text": [
        "       24/50 after      1 sec. | K    8 | ev -1.413322662e-01 | Ndiff      1.568 \n"
       ]
      },
      {
       "output_type": "stream",
       "stream": "stdout",
       "text": [
        "       25/50 after      1 sec. | K    8 | ev -1.413305953e-01 | Ndiff      1.449 \n"
       ]
      },
      {
       "output_type": "stream",
       "stream": "stdout",
       "text": [
        "       26/50 after      1 sec. | K    8 | ev -1.413291047e-01 | Ndiff      1.342 \n"
       ]
      },
      {
       "output_type": "stream",
       "stream": "stdout",
       "text": [
        "       27/50 after      1 sec. | K    8 | ev -1.413277683e-01 | Ndiff      1.246 \n"
       ]
      },
      {
       "output_type": "stream",
       "stream": "stdout",
       "text": [
        "       28/50 after      1 sec. | K    8 | ev -1.413265650e-01 | Ndiff      1.159 \n"
       ]
      },
      {
       "output_type": "stream",
       "stream": "stdout",
       "text": [
        "       29/50 after      1 sec. | K    8 | ev -1.413254771e-01 | Ndiff      1.080 \n"
       ]
      },
      {
       "output_type": "stream",
       "stream": "stdout",
       "text": [
        "       30/50 after      1 sec. | K    8 | ev -1.413244897e-01 | Ndiff      1.008 \n"
       ]
      },
      {
       "output_type": "stream",
       "stream": "stdout",
       "text": [
        "       31/50 after      1 sec. | K    8 | ev -1.413235904e-01 | Ndiff      0.942 \n"
       ]
      },
      {
       "output_type": "stream",
       "stream": "stdout",
       "text": [
        "       32/50 after      1 sec. | K    8 | ev -1.413227687e-01 | Ndiff      0.881 \n"
       ]
      },
      {
       "output_type": "stream",
       "stream": "stdout",
       "text": [
        "       33/50 after      1 sec. | K    8 | ev -1.413220157e-01 | Ndiff      0.826 \n"
       ]
      },
      {
       "output_type": "stream",
       "stream": "stdout",
       "text": [
        "       34/50 after      1 sec. | K    8 | ev -1.413213236e-01 | Ndiff      0.774 \n"
       ]
      },
      {
       "output_type": "stream",
       "stream": "stdout",
       "text": [
        "       35/50 after      1 sec. | K    8 | ev -1.413206858e-01 | Ndiff      0.727 \n"
       ]
      },
      {
       "output_type": "stream",
       "stream": "stdout",
       "text": [
        "       36/50 after      1 sec. | K    8 | ev -1.413200966e-01 | Ndiff      0.683 \n"
       ]
      },
      {
       "output_type": "stream",
       "stream": "stdout",
       "text": [
        "       37/50 after      1 sec. | K    8 | ev -1.413195510e-01 | Ndiff      0.642 \n"
       ]
      },
      {
       "output_type": "stream",
       "stream": "stdout",
       "text": [
        "       38/50 after      1 sec. | K    8 | ev -1.413190447e-01 | Ndiff      0.604 \n"
       ]
      },
      {
       "output_type": "stream",
       "stream": "stdout",
       "text": [
        "       39/50 after      1 sec. | K    8 | ev -1.413185739e-01 | Ndiff      0.568 \n"
       ]
      },
      {
       "output_type": "stream",
       "stream": "stdout",
       "text": [
        "       40/50 after      1 sec. | K    8 | ev -1.413181352e-01 | Ndiff      0.535 \n"
       ]
      },
      {
       "output_type": "stream",
       "stream": "stdout",
       "text": [
        "       41/50 after      1 sec. | K    8 | ev -1.413177256e-01 | Ndiff      0.504 \n"
       ]
      },
      {
       "output_type": "stream",
       "stream": "stdout",
       "text": [
        "       42/50 after      1 sec. | K    8 | ev -1.413173427e-01 | Ndiff      0.475 \n"
       ]
      },
      {
       "output_type": "stream",
       "stream": "stdout",
       "text": [
        "       43/50 after      1 sec. | K    8 | ev -1.413169839e-01 | Ndiff      0.448 \n"
       ]
      },
      {
       "output_type": "stream",
       "stream": "stdout",
       "text": [
        "       44/50 after      1 sec. | K    8 | ev -1.413166474e-01 | Ndiff      0.422 \n"
       ]
      },
      {
       "output_type": "stream",
       "stream": "stdout",
       "text": [
        "       45/50 after      1 sec. | K    8 | ev -1.413163311e-01 | Ndiff      0.398 \n"
       ]
      },
      {
       "output_type": "stream",
       "stream": "stdout",
       "text": [
        "       46/50 after      1 sec. | K    8 | ev -1.413160335e-01 | Ndiff      0.375 \n"
       ]
      },
      {
       "output_type": "stream",
       "stream": "stdout",
       "text": [
        "       47/50 after      1 sec. | K    8 | ev -1.413157531e-01 | Ndiff      0.353 \n"
       ]
      },
      {
       "output_type": "stream",
       "stream": "stdout",
       "text": [
        "       48/50 after      1 sec. | K    8 | ev -1.413154886e-01 | Ndiff      0.333 \n"
       ]
      },
      {
       "output_type": "stream",
       "stream": "stdout",
       "text": [
        "       49/50 after      2 sec. | K    8 | ev -1.413152386e-01 | Ndiff      0.314 \n"
       ]
      },
      {
       "output_type": "stream",
       "stream": "stdout",
       "text": [
        "       50/50 after      2 sec. | K    8 | ev -1.413150022e-01 | Ndiff      0.295 \n"
       ]
      },
      {
       "output_type": "stream",
       "stream": "stdout",
       "text": [
        "... done. not converged. max laps thru data exceeded.\n"
       ]
      },
      {
       "metadata": {},
       "output_type": "pyout",
       "prompt_number": 10,
       "text": [
        "(<bnpy.HModel.HModel at 0x112d31f10>,\n",
        " {'LP': {'E_log_soft_ev': array([[  0.00000000e+000,   5.69860561e-253,   1.00000000e+000, ...,\n",
        "          3.56774202e-018,   5.96573354e-270,   1.88490390e-298],\n",
        "       [  2.06056533e-157,   6.25524973e-301,   3.10053033e-166, ...,\n",
        "          1.53226052e-148,   3.49541544e-306,   1.00000000e+000],\n",
        "       [  3.06437432e-206,   1.00000000e+000,   2.21527986e-192, ...,\n",
        "          1.96844449e-192,   1.57298121e-015,   0.00000000e+000],\n",
        "       ..., \n",
        "       [  1.54285810e-014,   1.41259724e-197,   0.00000000e+000, ...,\n",
        "          0.00000000e+000,   3.56635236e-212,   9.22821504e-193],\n",
        "       [  5.87760781e-012,   6.86636125e-127,   2.32087416e-280, ...,\n",
        "          2.42441968e-265,   2.69450811e-138,   2.42299102e-137],\n",
        "       [  1.00000000e+000,   5.81835502e-097,   6.10368298e-187, ...,\n",
        "          8.67850508e-177,   2.02641526e-092,   4.37008653e-090]]),\n",
        "   'evidence': 5412.2654146741515,\n",
        "   'resp': array([[  0.00000000e+000,   5.69860561e-253,   1.00000000e+000, ...,\n",
        "          3.56774202e-018,   5.96573354e-270,   1.88490390e-298],\n",
        "       [  2.06056533e-157,   6.25524973e-301,   3.10053033e-166, ...,\n",
        "          1.53226052e-148,   3.49541544e-306,   1.00000000e+000],\n",
        "       [  3.06437432e-206,   1.00000000e+000,   2.21527986e-192, ...,\n",
        "          1.96844449e-192,   1.57298121e-015,   0.00000000e+000],\n",
        "       ..., \n",
        "       [  1.54285810e-014,   1.41259724e-197,   0.00000000e+000, ...,\n",
        "          0.00000000e+000,   3.56635236e-212,   9.22821504e-193],\n",
        "       [  5.87760781e-012,   6.86636125e-127,   2.32087416e-280, ...,\n",
        "          2.42441968e-265,   2.69450811e-138,   2.42299102e-137],\n",
        "       [  1.00000000e+000,   5.81835502e-097,   6.10368298e-187, ...,\n",
        "          8.67850508e-177,   2.02641526e-092,   4.37008653e-090]])},\n",
        "  'SS': <bnpy.suffstats.SuffStatBag.SuffStatBag at 0x112d31810>,\n",
        "  'evBound': 0.10841581152070437,\n",
        "  'evTrace': [-3125350.6477657789,\n",
        "   -0.33814431398639067,\n",
        "   -0.14491780876804322,\n",
        "   -0.13986994991037319,\n",
        "   -0.13905256957899079,\n",
        "   -0.1386461388705322,\n",
        "   -0.13797636957669121,\n",
        "   -0.13631197217984209,\n",
        "   -0.13127796347078688,\n",
        "   -0.11630864165992548,\n",
        "   -0.07797597523599252,\n",
        "   0.011681253393433091,\n",
        "   0.10676342841927873,\n",
        "   0.10841580816062696,\n",
        "   0.10841581152070437],\n",
        "  'lapTrace': {1, 2, 3, 4, 5, 6, 7, 8, 9, 10, 11, 12, 13, 14, 15},\n",
        "  'status': 'done. converged.'})"
       ]
      }
     ],
     "prompt_number": 10
    },
    {
     "cell_type": "markdown",
     "metadata": {},
     "source": [
      "Experiment results will be saved in a directory on the local disk.\n",
      "\n",
      "### Comparison of ELBO traces\n",
      "\n",
      "We'll then plot traces for the two methods via the **PlotELBO.py** script. "
     ]
    },
    {
     "cell_type": "code",
     "collapsed": false,
     "input": [
      "%pylab inline\n",
      "\n",
      "bnpy.viz.PlotELBO.plotJobsThatMatchKeywords('AsteriskK8/initrand')"
     ],
     "language": "python",
     "metadata": {},
     "outputs": [
      {
       "output_type": "stream",
       "stream": "stdout",
       "text": [
        "Populating the interactive namespace from numpy and matplotlib\n"
       ]
      },
      {
       "metadata": {},
       "output_type": "display_data",
       "png": "[encoded data removed]",
       "text": [
        "<matplotlib.figure.Figure at 0x112cec350>"
       ]
      }
     ],
     "prompt_number": 14
    },
    {
     "cell_type": "code",
     "collapsed": false,
     "input": [
      "bnpy.viz.PlotELBO.plotJobsThatMatchKeywords('AsteriskK8/initbydist')"
     ],
     "language": "python",
     "metadata": {},
     "outputs": [
      {
       "metadata": {},
       "output_type": "display_data",
       "png": "[encoded data removed]",
       "text": [
        "<matplotlib.figure.Figure at 0x112d26850>"
       ]
      }
     ],
     "prompt_number": 15
    },
    {
     "cell_type": "markdown",
     "metadata": {},
     "source": [
      "The figures show that while the \"by distance\" method isn't always perfect, it does much better than purely selecting examples at random.  The top-quality solution that finds all 8 true components is reached in 12/25 runs of \"initbydist\", but only 4/25 runs in the random case."
     ]
    }
   ],
   "metadata": {}
  }
 ]
}
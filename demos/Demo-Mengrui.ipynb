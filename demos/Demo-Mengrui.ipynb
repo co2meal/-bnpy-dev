{
 "metadata": {
  "name": "",
  "signature": "sha256:553b52bc83c32003223bbfc9216d748c182b0ed6748f2975db106dedba7eb8ca"
 },
 "nbformat": 3,
 "nbformat_minor": 0,
 "worksheets": [
  {
   "cells": [
    {
     "cell_type": "code",
     "collapsed": false,
     "input": [
      "import numpy as np\n",
      "import bnpy\n",
      "\n",
      "from matplotlib import pylab\n",
      "%pylab inline"
     ],
     "language": "python",
     "metadata": {},
     "outputs": [
      {
       "output_type": "stream",
       "stream": "stdout",
       "text": [
        "Populating the interactive namespace from numpy and matplotlib\n"
       ]
      }
     ],
     "prompt_number": 1
    },
    {
     "cell_type": "markdown",
     "metadata": {},
     "source": [
      "## Data"
     ]
    },
    {
     "cell_type": "markdown",
     "metadata": {},
     "source": [
      "## Single Run with K=10"
     ]
    },
    {
     "cell_type": "code",
     "collapsed": false,
     "input": [
      "bnpy.run('BarsK10V900', 'MixModel', 'Mult', 'EM', '--K 10')"
     ],
     "language": "python",
     "metadata": {},
     "outputs": [
      {
       "ename": "ImportError",
       "evalue": "No module named BarsK10V900",
       "output_type": "pyerr",
       "traceback": [
        "\u001b[0;31m---------------------------------------------------------------------------\u001b[0m\n\u001b[0;31mImportError\u001b[0m                               Traceback (most recent call last)",
        "\u001b[0;32m<ipython-input-2-fdd2b30ea6e9>\u001b[0m in \u001b[0;36m<module>\u001b[0;34m()\u001b[0m\n\u001b[0;32m----> 1\u001b[0;31m \u001b[0mbnpy\u001b[0m\u001b[0;34m.\u001b[0m\u001b[0mrun\u001b[0m\u001b[0;34m(\u001b[0m\u001b[0;34m'BarsK10V900'\u001b[0m\u001b[0;34m,\u001b[0m \u001b[0;34m'MixModel'\u001b[0m\u001b[0;34m,\u001b[0m \u001b[0;34m'Mult'\u001b[0m\u001b[0;34m,\u001b[0m \u001b[0;34m'EM'\u001b[0m\u001b[0;34m,\u001b[0m \u001b[0;34m'--K 10'\u001b[0m\u001b[0;34m)\u001b[0m\u001b[0;34m\u001b[0m\u001b[0m\n\u001b[0m",
        "\u001b[0;32m/Users/mni/bnpy/bnpy/Run.pyc\u001b[0m in \u001b[0;36mrun\u001b[0;34m(dataName, allocModelName, obsModelName, algName, doSaveToDisk, doWriteStdOut, taskID, **kwargs)\u001b[0m\n\u001b[1;32m    102\u001b[0m                       \u001b[0mReqArgs\u001b[0m\u001b[0;34m,\u001b[0m \u001b[0mKwArgs\u001b[0m\u001b[0;34m,\u001b[0m \u001b[0mUnkArgs\u001b[0m\u001b[0;34m,\u001b[0m\u001b[0;34m\u001b[0m\u001b[0m\n\u001b[1;32m    103\u001b[0m                       \u001b[0mdataName\u001b[0m\u001b[0;34m,\u001b[0m \u001b[0mallocModelName\u001b[0m\u001b[0;34m,\u001b[0m \u001b[0mobsModelName\u001b[0m\u001b[0;34m,\u001b[0m \u001b[0malgName\u001b[0m\u001b[0;34m,\u001b[0m\u001b[0;34m\u001b[0m\u001b[0m\n\u001b[0;32m--> 104\u001b[0;31m                       doSaveToDisk, doWriteStdOut)\n\u001b[0m\u001b[1;32m    105\u001b[0m     \u001b[0;32mif\u001b[0m \u001b[0;34m(\u001b[0m\u001b[0mInfo\u001b[0m\u001b[0;34m[\u001b[0m\u001b[0;34m'evBound'\u001b[0m\u001b[0;34m]\u001b[0m \u001b[0;34m>\u001b[0m \u001b[0mbestEvBound\u001b[0m\u001b[0;34m)\u001b[0m\u001b[0;34m:\u001b[0m\u001b[0;34m\u001b[0m\u001b[0m\n\u001b[1;32m    106\u001b[0m       \u001b[0mbestModel\u001b[0m \u001b[0;34m=\u001b[0m \u001b[0mhmodel\u001b[0m\u001b[0;34m\u001b[0m\u001b[0m\n",
        "\u001b[0;32m/Users/mni/bnpy/bnpy/Run.pyc\u001b[0m in \u001b[0;36m_run_task_internal\u001b[0;34m(jobname, taskid, nTask, ReqArgs, KwArgs, UnkArgs, dataName, allocModelName, obsModelName, algName, doSaveToDisk, doWriteStdOut)\u001b[0m\n\u001b[1;32m    139\u001b[0m \u001b[0;34m\u001b[0m\u001b[0m\n\u001b[1;32m    140\u001b[0m   \u001b[0;32mif\u001b[0m \u001b[0mtype\u001b[0m\u001b[0;34m(\u001b[0m\u001b[0mdataName\u001b[0m\u001b[0;34m)\u001b[0m \u001b[0;32mis\u001b[0m \u001b[0mstr\u001b[0m\u001b[0;34m:\u001b[0m\u001b[0;34m\u001b[0m\u001b[0m\n\u001b[0;32m--> 141\u001b[0;31m     \u001b[0mData\u001b[0m\u001b[0;34m,\u001b[0m \u001b[0mInitData\u001b[0m \u001b[0;34m=\u001b[0m \u001b[0mloadData\u001b[0m\u001b[0;34m(\u001b[0m\u001b[0mReqArgs\u001b[0m\u001b[0;34m,\u001b[0m \u001b[0mKwArgs\u001b[0m\u001b[0;34m,\u001b[0m \u001b[0mUnkArgs\u001b[0m\u001b[0;34m,\u001b[0m \u001b[0mdataorderseed\u001b[0m\u001b[0;34m)\u001b[0m\u001b[0;34m\u001b[0m\u001b[0m\n\u001b[0m\u001b[1;32m    142\u001b[0m   \u001b[0;32melse\u001b[0m\u001b[0;34m:\u001b[0m\u001b[0;34m\u001b[0m\u001b[0m\n\u001b[1;32m    143\u001b[0m     \u001b[0mData\u001b[0m \u001b[0;34m=\u001b[0m \u001b[0mdataName\u001b[0m\u001b[0;34m\u001b[0m\u001b[0m\n",
        "\u001b[0;32m/Users/mni/bnpy/bnpy/Run.pyc\u001b[0m in \u001b[0;36mloadData\u001b[0;34m(ReqArgs, KwArgs, DataArgs, dataorderseed)\u001b[0m\n\u001b[1;32m    194\u001b[0m   '''\n\u001b[1;32m    195\u001b[0m   \u001b[0msys\u001b[0m\u001b[0;34m.\u001b[0m\u001b[0mpath\u001b[0m\u001b[0;34m.\u001b[0m\u001b[0mappend\u001b[0m\u001b[0;34m(\u001b[0m\u001b[0mos\u001b[0m\u001b[0;34m.\u001b[0m\u001b[0menviron\u001b[0m\u001b[0;34m[\u001b[0m\u001b[0;34m'BNPYDATADIR'\u001b[0m\u001b[0;34m]\u001b[0m\u001b[0;34m)\u001b[0m\u001b[0;34m\u001b[0m\u001b[0m\n\u001b[0;32m--> 196\u001b[0;31m   \u001b[0mdatamod\u001b[0m \u001b[0;34m=\u001b[0m \u001b[0m__import__\u001b[0m\u001b[0;34m(\u001b[0m\u001b[0mReqArgs\u001b[0m\u001b[0;34m[\u001b[0m\u001b[0;34m'dataName'\u001b[0m\u001b[0;34m]\u001b[0m\u001b[0;34m,\u001b[0m\u001b[0mfromlist\u001b[0m\u001b[0;34m=\u001b[0m\u001b[0;34m[\u001b[0m\u001b[0;34m]\u001b[0m\u001b[0;34m)\u001b[0m\u001b[0;34m\u001b[0m\u001b[0m\n\u001b[0m\u001b[1;32m    197\u001b[0m   \u001b[0malgName\u001b[0m \u001b[0;34m=\u001b[0m \u001b[0mReqArgs\u001b[0m\u001b[0;34m[\u001b[0m\u001b[0;34m'algName'\u001b[0m\u001b[0;34m]\u001b[0m\u001b[0;34m\u001b[0m\u001b[0m\n\u001b[1;32m    198\u001b[0m   \u001b[0;32mif\u001b[0m \u001b[0malgName\u001b[0m \u001b[0;32min\u001b[0m \u001b[0mFullDataAlgSet\u001b[0m\u001b[0;34m:\u001b[0m\u001b[0;34m\u001b[0m\u001b[0m\n",
        "\u001b[0;31mImportError\u001b[0m: No module named BarsK10V900"
       ]
      }
     ],
     "prompt_number": 2
    },
    {
     "cell_type": "code",
     "collapsed": false,
     "input": [
      "bnpy.viz.PlotComps(BarsK10V900 defaultjob)\n"
     ],
     "language": "python",
     "metadata": {},
     "outputs": [
      {
       "metadata": {},
       "output_type": "display_data",
       "png": "[encoded data removed]",
       "text": [
        "<matplotlib.figure.Figure at 0x50d4d50>"
       ]
      }
     ],
     "prompt_number": 4
    },
    {
     "cell_type": "markdown",
     "metadata": {},
     "source": [
      "## Train model for range of K values"
     ]
    },
    {
     "cell_type": "code",
     "collapsed": false,
     "input": [
      "for K in [6, 10, 50]:\n",
      "    bnpy.run('BarsK10V900', 'MixModel', 'Mult', 'EM', 'K=K')\n",
      "    print 'K=%3d | final ev % .5f' % (K, RInfo['evBound'])\n"
     ],
     "language": "python",
     "metadata": {},
     "outputs": [
      {
       "output_type": "stream",
       "stream": "stdout",
       "text": [
        "K=  6 | final ev -6.27791\n",
        "K= 10 | final ev -6.09873"
       ]
      },
      {
       "output_type": "stream",
       "stream": "stdout",
       "text": [
        "\n",
        "K= 50 | final ev -5.95875"
       ]
      },
      {
       "output_type": "stream",
       "stream": "stdout",
       "text": [
        "\n"
       ]
      }
     ],
     "prompt_number": 5
    }
   ],
   "metadata": {}
  }
 ]
}
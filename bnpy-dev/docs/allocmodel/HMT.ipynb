{
 "metadata": {
  "name": "",
  "signature": "sha256:ae9c0cf628280a6bdecf920fcd1b415bf7a359f7c3176e186358736b3d24af48"
 },
 "nbformat": 3,
 "nbformat_minor": 0,
 "worksheets": [
  {
   "cells": [
    {
     "cell_type": "raw",
     "metadata": {},
     "source": [
      "<h2>Goal</h2>\n",
      "\n",
      "This document is the documentation for HMT, a finitie, parametric hidden Markov tree with K states.\n",
      "\n",
      "<h2>Notation</h2>\n",
      "\n",
      "<h3>Parameters:</h3>\n",
      "<h4>Transition Parameters:</h4>\n",
      "An HMT has $N+1$ key allocation parameters, where N is the number of branches.\n",
      "Let vector $\\pi_0$ denote the probability of the state of the root of HMT for each K states:\n",
      "<center>$\\pi_0 = [\\pi_{01} \\pi_{02} ... \\pi_{0K}]$</center>\n",
      "Let matrix $\\pi_i$ $\\forall i \\in \\{1,2,...N\\}$ have size $K\\times K$. Each row $\\pi_{ij}$ is the transition probability from state $j$ to each of the $K$ states on $j^{th}$ branch.\n",
      "<center>$\\forall i\\in\\{1,...,N\\}$ $\\pi_{ij} = [\\pi_{ij1} \\pi_{ij2} ... \\pi_{ijK}]$</center>\n",
      "Each vector $\\pi_{ij}$ $\\forall i\\in \\{1,...N\\}$ and $\\forall j\\in\\{1,...,K\\}$ satisfies two constraints: $\\pi_{ijk}\\geq 0$ and $\\sum_{k=1}^K \\pi_{ijk} = 1$.\n",
      "\n",
      "<h4>Emission Parameters:</h4>\n",
      "<center>$p(x_k | z_k, \\phi) = \\phi$</center>\n",
      "Let $\\phi$ be a matrix with dimensions $K\\times D$ and denote the discrete emission distribution from each K states to each possible D value for observations. \n",
      "<center>$\\forall d\\in\\{1, 2, ..., D\\}$ $\\phi_d = [\\phi_{1d} \\phi_{2d} ... \\phi_{Kd}]$</center>\n",
      "<center>$\\phi_{kd}\\geq 0$ and $\\sum_{k=1}^K \\phi_{kd} = 1$</center>\n",
      "\n",
      "<h2>E-Step Updates:</h2>\n",
      "\n",
      "In each E-Step computation, sum-product algorithm is run to compute the posterior distribution given all the observations for each hidden variable in the HMT.\n",
      "<center>$p(z_i|X,\\pi,\\phi) = m_{x_i\\to z_i}\\times m_{pa(z_i)\\to z_i}\\prod_{c\\in child{z_i}}m_{c\\to z_i}$</center>\n",
      "where $m_{t\\to s}$ is the message that is propagated from node t to node s. It can be recursively calculated by:\n",
      "<center>$m_{y\\to s} = \\psi(t,s)\\psi(t)\\prod_{c\\in child(t)}m_{c\\to t}$</center>\n",
      "\n",
      "A message $m$ is a vector with dimensions $K\\times 1$, where $K$ is the number of possible states. \n",
      "\n",
      "Sum-product algorithm has two main parts in HMTs: Upward and downward passes.\n",
      "\n",
      "<h3>Upward Pass:</h3>\n",
      "We begin sum-product algorithm wit an upward pass through the tree. Upward pass starts with leaf nodes and each leaf node creates the following message:\n",
      "<center>$m_{z_l\\to pa(z_l)} = \\sum_{z_l}p(z_l | pa(z_l))p(x_l | z_l)$, where $l$ is a leaf node in the tree</center>\n",
      "This corresponds to $\\pi_d \\times \\phi_{x_l}$, where $d$ is the direction.\n",
      "Then each node propagates this message to their parents. The message that is created in the parent node, $p$, is as follows:\n",
      "<center>$m_{z_p\\to pa(z_p)} = \\sum_{z_p}p(z_p | pa(z_p))\\{ p(x_p|z_p)\\prod_{c\\in child(z_p)}m_{c\\to z_p}\\}$</center>\n",
      "This equation corresponds to $\\pi_d\\times (\\phi_{x_p}\\otimes m_{c_1\\to z_p}\\otimes m_{c_2\\to z_p}\\otimes ... \\otimes m_{c_n\\to z_p})$, where d is the direction, $\\otimes$ is element-wise multiplication and $n$ is the number of children of $z_p$. \n",
      "\n",
      "<h3>Downward Pass:</h3>\n",
      "Downward pass starts with the root node. The message that is generated in the root node, $r$, and will be sent to one of its children, $c$, is as follows:\n",
      "<center>$m_{z_r\\to z_c} = \\sum_{z_r} p(z_c|z_r)$</center>\n",
      "Generally, a message from a node $a$ to its child $b$ would be in the below format:\n",
      "<center>$m_{z_a\\to z_b} = \\sum_{z_a}p(z_b|z_a)m_{pa(z_a)\\to z_a}$ </center>\n",
      "We can, again, recursively compute this. \n",
      "\n",
      "At the end of the computations of both passes, we store the messages that is sent to a given node and calculating the posterior involves just the element-wise multiplication of messages. \n",
      "\n",
      "<h2>M-Step Updates:</h2>\n",
      "Once we have found the distributions for every latent variable, updating the parameters, $\\pi$ and $\\phi$ is straightforward. \n",
      "<center>$\\pi_0 = p(z_{root}|X) = m_{x_{root}\\to z_{root}}\\prod_{c\\in child(z_{root})}m_{c\\to z_{root}}$</center>\n",
      "For a given direction d, we can sum every latent node that lies on its parents d-direction branch. Assume that we obtained the $K\\times K$ matrix $\\zeta$. Then,\n",
      "<center>$\\pi_{dij} = \\frac{\\zeta{dij}}{\\sum_{t=1}^K \\zeta{dit}}$</center>\n",
      "Updating emission distribution can be done as follows:\n",
      "For each observed variable, we have a corresponding distribution of the latent variable that the observed variable depends. We can create a $D\\times K$ matrix and assign all distributions of latent variables to their corresponding columns given the observed variables. Then we can normalize the matrix along the rows. "
     ]
    }
   ],
   "metadata": {}
  }
 ]
}